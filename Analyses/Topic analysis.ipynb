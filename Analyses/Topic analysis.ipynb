{
 "cells": [
  {
   "cell_type": "code",
   "execution_count": 1,
   "metadata": {},
   "outputs": [
    {
     "name": "stderr",
     "output_type": "stream",
     "text": [
      "/anaconda3/lib/python3.7/site-packages/statsmodels/tools/_testing.py:19: FutureWarning: pandas.util.testing is deprecated. Use the functions in the public API at pandas.testing instead.\n",
      "  import pandas.util.testing as tm\n"
     ]
    }
   ],
   "source": [
    "import os\n",
    "import glob\n",
    "import pandas as pd\n",
    "import numpy as np\n",
    "from collections import Counter,defaultdict\n",
    "import re\n",
    "import pickle\n",
    "import seaborn as sns\n",
    "sns.set()\n",
    "import matplotlib.pyplot as plt"
   ]
  },
  {
   "cell_type": "code",
   "execution_count": 2,
   "metadata": {
    "scrolled": true
   },
   "outputs": [
    {
     "data": {
      "text/html": [
       "<div>\n",
       "<style scoped>\n",
       "    .dataframe tbody tr th:only-of-type {\n",
       "        vertical-align: middle;\n",
       "    }\n",
       "\n",
       "    .dataframe tbody tr th {\n",
       "        vertical-align: top;\n",
       "    }\n",
       "\n",
       "    .dataframe thead th {\n",
       "        text-align: right;\n",
       "    }\n",
       "</style>\n",
       "<table border=\"1\" class=\"dataframe\">\n",
       "  <thead>\n",
       "    <tr style=\"text-align: right;\">\n",
       "      <th></th>\n",
       "      <th>url</th>\n",
       "      <th>title</th>\n",
       "      <th>date</th>\n",
       "      <th>domain</th>\n",
       "      <th>stance</th>\n",
       "      <th>topic</th>\n",
       "      <th>is_AP</th>\n",
       "      <th>year</th>\n",
       "      <th>pretty_domain</th>\n",
       "      <th>month</th>\n",
       "    </tr>\n",
       "  </thead>\n",
       "  <tbody>\n",
       "    <tr>\n",
       "      <th>0</th>\n",
       "      <td>www.buzzfeednews.com/article/tasneemnashrulla/...</td>\n",
       "      <td>\"eat the babies\" viral video at aoc town hall ...</td>\n",
       "      <td>2019-10-04 00:00:00</td>\n",
       "      <td>buzzfeed</td>\n",
       "      <td>pro</td>\n",
       "      <td>cc</td>\n",
       "      <td>None</td>\n",
       "      <td>2019.0</td>\n",
       "      <td>Buzzfeed</td>\n",
       "      <td>10.0</td>\n",
       "    </tr>\n",
       "    <tr>\n",
       "      <th>1</th>\n",
       "      <td>www.buzzfeednews.com/article/passantino/extrem...</td>\n",
       "      <td>\"extremely likely\" global warming is man-made,...</td>\n",
       "      <td>2013-09-27 00:00:00</td>\n",
       "      <td>buzzfeed</td>\n",
       "      <td>pro</td>\n",
       "      <td>cc</td>\n",
       "      <td>None</td>\n",
       "      <td>2013.0</td>\n",
       "      <td>Buzzfeed</td>\n",
       "      <td>9.0</td>\n",
       "    </tr>\n",
       "    <tr>\n",
       "      <th>2</th>\n",
       "      <td>shotofprevention.com/2010/11/03/history-makes-...</td>\n",
       "      <td>\"history\" makes headlines with launch of new w...</td>\n",
       "      <td>2020-03-13 14:32:02</td>\n",
       "      <td>https://shotofprevention/</td>\n",
       "      <td>pro</td>\n",
       "      <td>vax</td>\n",
       "      <td>False</td>\n",
       "      <td>2020.0</td>\n",
       "      <td>Shot of Prevention</td>\n",
       "      <td>3.0</td>\n",
       "    </tr>\n",
       "    <tr>\n",
       "      <th>3</th>\n",
       "      <td>www.buzzfeednews.com/article/andrewkaczynski/i...</td>\n",
       "      <td>\"it's global warming, stupid\" - buzzfeed news</td>\n",
       "      <td>2012-11-01 00:00:00</td>\n",
       "      <td>buzzfeed</td>\n",
       "      <td>pro</td>\n",
       "      <td>cc</td>\n",
       "      <td>None</td>\n",
       "      <td>2012.0</td>\n",
       "      <td>Buzzfeed</td>\n",
       "      <td>11.0</td>\n",
       "    </tr>\n",
       "    <tr>\n",
       "      <th>4</th>\n",
       "      <td>www.buzzfeednews.com/article/tasneemnashrulla/...</td>\n",
       "      <td>\"japan dropped an atomic bomb on america durin...</td>\n",
       "      <td>2014-02-24 00:00:00</td>\n",
       "      <td>buzzfeed</td>\n",
       "      <td>pro</td>\n",
       "      <td>cc</td>\n",
       "      <td>None</td>\n",
       "      <td>2014.0</td>\n",
       "      <td>Buzzfeed</td>\n",
       "      <td>2.0</td>\n",
       "    </tr>\n",
       "    <tr>\n",
       "      <th>5</th>\n",
       "      <td>www.buzzfeednews.com/article/llevin/opinion-im...</td>\n",
       "      <td>\"look at my record, child\": joe biden showed m...</td>\n",
       "      <td>2019-10-31 00:00:00</td>\n",
       "      <td>buzzfeed</td>\n",
       "      <td>pro</td>\n",
       "      <td>cc</td>\n",
       "      <td>None</td>\n",
       "      <td>2019.0</td>\n",
       "      <td>Buzzfeed</td>\n",
       "      <td>10.0</td>\n",
       "    </tr>\n",
       "    <tr>\n",
       "      <th>6</th>\n",
       "      <td>www.breitbart.com/politics/2019/06/14/orourke-...</td>\n",
       "      <td>\"president o'rourke will end oil and gas lease...</td>\n",
       "      <td>2019-06-14 00:00:00</td>\n",
       "      <td>breitbart</td>\n",
       "      <td>anti</td>\n",
       "      <td>cc</td>\n",
       "      <td>None</td>\n",
       "      <td>2019.0</td>\n",
       "      <td>Breitbart</td>\n",
       "      <td>6.0</td>\n",
       "    </tr>\n",
       "    <tr>\n",
       "      <th>7</th>\n",
       "      <td>www.buzzfeednews.com/article/andrewkaczynski/s...</td>\n",
       "      <td>smoking doesnt kill and other great old opeds ...</td>\n",
       "      <td>2015-03-31 00:00:00</td>\n",
       "      <td>buzzfeed</td>\n",
       "      <td>pro</td>\n",
       "      <td>cc</td>\n",
       "      <td>None</td>\n",
       "      <td>2015.0</td>\n",
       "      <td>Buzzfeed</td>\n",
       "      <td>3.0</td>\n",
       "    </tr>\n",
       "    <tr>\n",
       "      <th>8</th>\n",
       "      <td>www.foxnews.com/world/100-carbon-tax-by-2030-c...</td>\n",
       "      <td>$100 carbon tax by 2030 could save climate, sa...</td>\n",
       "      <td>2017-05-29 00:00:00</td>\n",
       "      <td>fox</td>\n",
       "      <td>anti</td>\n",
       "      <td>cc</td>\n",
       "      <td>None</td>\n",
       "      <td>2017.0</td>\n",
       "      <td>Fox</td>\n",
       "      <td>5.0</td>\n",
       "    </tr>\n",
       "    <tr>\n",
       "      <th>9</th>\n",
       "      <td>childrenshealthdefense.org/news/4-billion-and-...</td>\n",
       "      <td>$4 billion and growing:  u.s. payouts for vacc...</td>\n",
       "      <td>2018-11-19 00:00:00</td>\n",
       "      <td>chd</td>\n",
       "      <td>anti</td>\n",
       "      <td>vax</td>\n",
       "      <td>None</td>\n",
       "      <td>2018.0</td>\n",
       "      <td>Children's Health Defense</td>\n",
       "      <td>11.0</td>\n",
       "    </tr>\n",
       "  </tbody>\n",
       "</table>\n",
       "</div>"
      ],
      "text/plain": [
       "                                                 url  \\\n",
       "0  www.buzzfeednews.com/article/tasneemnashrulla/...   \n",
       "1  www.buzzfeednews.com/article/passantino/extrem...   \n",
       "2  shotofprevention.com/2010/11/03/history-makes-...   \n",
       "3  www.buzzfeednews.com/article/andrewkaczynski/i...   \n",
       "4  www.buzzfeednews.com/article/tasneemnashrulla/...   \n",
       "5  www.buzzfeednews.com/article/llevin/opinion-im...   \n",
       "6  www.breitbart.com/politics/2019/06/14/orourke-...   \n",
       "7  www.buzzfeednews.com/article/andrewkaczynski/s...   \n",
       "8  www.foxnews.com/world/100-carbon-tax-by-2030-c...   \n",
       "9  childrenshealthdefense.org/news/4-billion-and-...   \n",
       "\n",
       "                                               title                 date  \\\n",
       "0  \"eat the babies\" viral video at aoc town hall ...  2019-10-04 00:00:00   \n",
       "1  \"extremely likely\" global warming is man-made,...  2013-09-27 00:00:00   \n",
       "2  \"history\" makes headlines with launch of new w...  2020-03-13 14:32:02   \n",
       "3      \"it's global warming, stupid\" - buzzfeed news  2012-11-01 00:00:00   \n",
       "4  \"japan dropped an atomic bomb on america durin...  2014-02-24 00:00:00   \n",
       "5  \"look at my record, child\": joe biden showed m...  2019-10-31 00:00:00   \n",
       "6  \"president o'rourke will end oil and gas lease...  2019-06-14 00:00:00   \n",
       "7  smoking doesnt kill and other great old opeds ...  2015-03-31 00:00:00   \n",
       "8  $100 carbon tax by 2030 could save climate, sa...  2017-05-29 00:00:00   \n",
       "9  $4 billion and growing:  u.s. payouts for vacc...  2018-11-19 00:00:00   \n",
       "\n",
       "                      domain stance topic  is_AP    year  \\\n",
       "0                   buzzfeed    pro    cc   None  2019.0   \n",
       "1                   buzzfeed    pro    cc   None  2013.0   \n",
       "2  https://shotofprevention/    pro   vax  False  2020.0   \n",
       "3                   buzzfeed    pro    cc   None  2012.0   \n",
       "4                   buzzfeed    pro    cc   None  2014.0   \n",
       "5                   buzzfeed    pro    cc   None  2019.0   \n",
       "6                  breitbart   anti    cc   None  2019.0   \n",
       "7                   buzzfeed    pro    cc   None  2015.0   \n",
       "8                        fox   anti    cc   None  2017.0   \n",
       "9                        chd   anti   vax   None  2018.0   \n",
       "\n",
       "               pretty_domain  month  \n",
       "0                   Buzzfeed   10.0  \n",
       "1                   Buzzfeed    9.0  \n",
       "2         Shot of Prevention    3.0  \n",
       "3                   Buzzfeed   11.0  \n",
       "4                   Buzzfeed    2.0  \n",
       "5                   Buzzfeed   10.0  \n",
       "6                  Breitbart    6.0  \n",
       "7                   Buzzfeed    3.0  \n",
       "8                        Fox    5.0  \n",
       "9  Children's Health Defense   11.0  "
      ]
     },
     "execution_count": 2,
     "metadata": {},
     "output_type": "execute_result"
    }
   ],
   "source": [
    "df = pd.read_pickle('../data_scraping/dedup_combined_df.pkl')\n",
    "df.head(10)"
   ]
  },
  {
   "cell_type": "code",
   "execution_count": 3,
   "metadata": {},
   "outputs": [],
   "source": [
    "TOPICS = ['cc','vax','covid']\n",
    "SIDES = ['pro','anti']"
   ]
  },
  {
   "cell_type": "code",
   "execution_count": 4,
   "metadata": {},
   "outputs": [
    {
     "data": {
      "text/plain": [
       "(434634, 223227)"
      ]
     },
     "execution_count": 4,
     "metadata": {},
     "output_type": "execute_result"
    }
   ],
   "source": [
    "good_quotes = pickle.load(open('../data_processing/good_coref_quotes.pkl','rb'))\n",
    "covid_quotes = pickle.load(open('../data_processing/filtered_covid_quotes.pkl','rb'))\n",
    "len(good_quotes),len(covid_quotes)"
   ]
  },
  {
   "cell_type": "code",
   "execution_count": 5,
   "metadata": {},
   "outputs": [],
   "source": [
    "cc_quotes = [q for q in good_quotes if q['topic'] == 'cc']\n",
    "vax_quotes = [q for q in good_quotes if q['topic'] == 'vax']\n",
    "quotes_by_topic_side = {'cc':{'pro':[q for q in cc_quotes if q['stance']=='pro'],\n",
    "                         'anti':[q for q in cc_quotes if q['stance']=='anti']},\n",
    "                   'vax':{'pro':[q for q in vax_quotes if q['stance']=='pro'],\n",
    "                         'anti':[q for q in vax_quotes if q['stance']=='anti']},\n",
    "                   'covid':{'pro':[q for q in covid_quotes if q['stance']=='pro'],\n",
    "                         'anti':[q for q in covid_quotes if q['stance']=='anti']}}"
   ]
  },
  {
   "cell_type": "code",
   "execution_count": 6,
   "metadata": {},
   "outputs": [
    {
     "data": {
      "text/plain": [
       "400460"
      ]
     },
     "execution_count": 6,
     "metadata": {},
     "output_type": "execute_result"
    }
   ],
   "source": [
    "len(cc_quotes)"
   ]
  },
  {
   "cell_type": "markdown",
   "metadata": {
    "heading_collapsed": true
   },
   "source": [
    "# Prep for running Dora's code"
   ]
  },
  {
   "cell_type": "code",
   "execution_count": 7,
   "metadata": {
    "hidden": true
   },
   "outputs": [],
   "source": [
    "# Write quote strings to file for Topic analysis"
   ]
  },
  {
   "cell_type": "code",
   "execution_count": 8,
   "metadata": {
    "hidden": true,
    "scrolled": true
   },
   "outputs": [
    {
     "data": {
      "text/plain": [
       "dict_keys(['quote lemmas', 'quote lemmas coref', 'verb lemmas', 'verb lemmas coref', 'main verb lemma', 'main verb lemma coref', 'subject lemmas', 'subject lemmas coref', 'main subject lemma', 'main subject lemma coref', 'neg lemmas', 'main neg lemma', 'quote text', 'verb text', 'main verb text', 'subject text', 'main subject text', 'is neg', 'source', 'stance', 'topic'])"
      ]
     },
     "execution_count": 8,
     "metadata": {},
     "output_type": "execute_result"
    }
   ],
   "source": [
    "cc_quotes[0].keys()"
   ]
  },
  {
   "cell_type": "code",
   "execution_count": 10,
   "metadata": {
    "hidden": true
   },
   "outputs": [
    {
     "data": {
      "text/plain": [
       "(400460, 400460)"
      ]
     },
     "execution_count": 10,
     "metadata": {},
     "output_type": "execute_result"
    }
   ],
   "source": [
    "guid_cc_quotes = []\n",
    "for ix,q in enumerate(cc_quotes):\n",
    "    q.update({\"guid\": 'cc_{}'.format(ix)})\n",
    "    guid_cc_quotes.append(q)\n",
    "len(cc_quotes),len(guid_cc_quotes)"
   ]
  },
  {
   "cell_type": "code",
   "execution_count": 12,
   "metadata": {
    "hidden": true,
    "scrolled": true
   },
   "outputs": [],
   "source": [
    "pickle.dump(guid_cc_quotes,open('guid_cc_quotes.pkl','wb'))"
   ]
  },
  {
   "cell_type": "code",
   "execution_count": 23,
   "metadata": {
    "hidden": true
   },
   "outputs": [],
   "source": [
    "cc_quotes_df = pd.DataFrame({\"quote\":[' '.join(q['quote text']) for q in guid_cc_quotes],\n",
    "                            \"guid\":[q['guid'] for q in guid_cc_quotes],\n",
    "                            \"source\":[q['source'] for q in guid_cc_quotes],\n",
    "                            \"stance\":[q['stance'] for q in guid_cc_quotes]})"
   ]
  },
  {
   "cell_type": "code",
   "execution_count": 24,
   "metadata": {
    "hidden": true,
    "scrolled": true
   },
   "outputs": [
    {
     "data": {
      "text/html": [
       "<div>\n",
       "<style scoped>\n",
       "    .dataframe tbody tr th:only-of-type {\n",
       "        vertical-align: middle;\n",
       "    }\n",
       "\n",
       "    .dataframe tbody tr th {\n",
       "        vertical-align: top;\n",
       "    }\n",
       "\n",
       "    .dataframe thead th {\n",
       "        text-align: right;\n",
       "    }\n",
       "</style>\n",
       "<table border=\"1\" class=\"dataframe\">\n",
       "  <thead>\n",
       "    <tr style=\"text-align: right;\">\n",
       "      <th></th>\n",
       "      <th>quote</th>\n",
       "      <th>guid</th>\n",
       "      <th>source</th>\n",
       "      <th>stance</th>\n",
       "    </tr>\n",
       "  </thead>\n",
       "  <tbody>\n",
       "    <tr>\n",
       "      <th>0</th>\n",
       "      <td>climate change is a hoax</td>\n",
       "      <td>cc_0</td>\n",
       "      <td>www.buzzfeednews.com/article/tasneemnashrulla/...</td>\n",
       "      <td>pro</td>\n",
       "    </tr>\n",
       "    <tr>\n",
       "      <th>1</th>\n",
       "      <td>it planted the troll</td>\n",
       "      <td>cc_1</td>\n",
       "      <td>www.buzzfeednews.com/article/tasneemnashrulla/...</td>\n",
       "      <td>pro</td>\n",
       "    </tr>\n",
       "    <tr>\n",
       "      <th>2</th>\n",
       "      <td>the stunt was staged by what is now a far - ri...</td>\n",
       "      <td>cc_2</td>\n",
       "      <td>www.buzzfeednews.com/article/tasneemnashrulla/...</td>\n",
       "      <td>pro</td>\n",
       "    </tr>\n",
       "    <tr>\n",
       "      <th>3</th>\n",
       "      <td>that Ocasio - Cortez ’s Green New Deal was not...</td>\n",
       "      <td>cc_3</td>\n",
       "      <td>www.buzzfeednews.com/article/tasneemnashrulla/...</td>\n",
       "      <td>pro</td>\n",
       "    </tr>\n",
       "    <tr>\n",
       "      <th>4</th>\n",
       "      <td>We ’re not going to be here for much long beca...</td>\n",
       "      <td>cc_4</td>\n",
       "      <td>www.buzzfeednews.com/article/tasneemnashrulla/...</td>\n",
       "      <td>pro</td>\n",
       "    </tr>\n",
       "  </tbody>\n",
       "</table>\n",
       "</div>"
      ],
      "text/plain": [
       "                                               quote  guid  \\\n",
       "0                           climate change is a hoax  cc_0   \n",
       "1                               it planted the troll  cc_1   \n",
       "2  the stunt was staged by what is now a far - ri...  cc_2   \n",
       "3  that Ocasio - Cortez ’s Green New Deal was not...  cc_3   \n",
       "4  We ’re not going to be here for much long beca...  cc_4   \n",
       "\n",
       "                                              source stance  \n",
       "0  www.buzzfeednews.com/article/tasneemnashrulla/...    pro  \n",
       "1  www.buzzfeednews.com/article/tasneemnashrulla/...    pro  \n",
       "2  www.buzzfeednews.com/article/tasneemnashrulla/...    pro  \n",
       "3  www.buzzfeednews.com/article/tasneemnashrulla/...    pro  \n",
       "4  www.buzzfeednews.com/article/tasneemnashrulla/...    pro  "
      ]
     },
     "execution_count": 24,
     "metadata": {},
     "output_type": "execute_result"
    }
   ],
   "source": [
    "cc_quotes_df.head()"
   ]
  },
  {
   "cell_type": "code",
   "execution_count": 26,
   "metadata": {
    "hidden": true
   },
   "outputs": [],
   "source": [
    "cc_quotes_df.to_csv('cc_quotes.tsv',sep='\\t',header=True,index=False)"
   ]
  },
  {
   "cell_type": "code",
   "execution_count": 27,
   "metadata": {
    "hidden": true
   },
   "outputs": [],
   "source": [
    "all_cc_quotes = pd.read_csv('cc_quotes.tsv',sep='\\t',header=0)"
   ]
  },
  {
   "cell_type": "code",
   "execution_count": 29,
   "metadata": {
    "hidden": true
   },
   "outputs": [],
   "source": [
    "# Create vocab file for cooccurrence matrix"
   ]
  },
  {
   "cell_type": "code",
   "execution_count": 31,
   "metadata": {
    "hidden": true,
    "scrolled": true
   },
   "outputs": [],
   "source": [
    "all_quote_tokens = [x.lower().split() for x in all_cc_quotes.quote.values]"
   ]
  },
  {
   "cell_type": "code",
   "execution_count": 38,
   "metadata": {
    "hidden": true
   },
   "outputs": [
    {
     "data": {
      "text/plain": [
       "6340399"
      ]
     },
     "execution_count": 38,
     "metadata": {},
     "output_type": "execute_result"
    }
   ],
   "source": [
    "all_vocab = [item for sublist in all_quote_tokens for item in sublist]\n",
    "len(all_vocab)"
   ]
  },
  {
   "cell_type": "code",
   "execution_count": 33,
   "metadata": {
    "hidden": true,
    "scrolled": false
   },
   "outputs": [
    {
     "data": {
      "text/plain": [
       "['climate',\n",
       " 'change',\n",
       " 'is',\n",
       " 'a',\n",
       " 'hoax',\n",
       " 'it',\n",
       " 'planted',\n",
       " 'the',\n",
       " 'troll',\n",
       " 'the']"
      ]
     },
     "execution_count": 33,
     "metadata": {},
     "output_type": "execute_result"
    }
   ],
   "source": [
    "all_vocab[:10]"
   ]
  },
  {
   "cell_type": "code",
   "execution_count": 39,
   "metadata": {
    "hidden": true
   },
   "outputs": [],
   "source": [
    "top_vocab = Counter(all_vocab)"
   ]
  },
  {
   "cell_type": "code",
   "execution_count": 40,
   "metadata": {
    "hidden": true
   },
   "outputs": [],
   "source": [
    "sorted_v = sorted(top_vocab.items(),key=lambda x:x[1],reverse=True)"
   ]
  },
  {
   "cell_type": "code",
   "execution_count": 45,
   "metadata": {
    "hidden": true
   },
   "outputs": [
    {
     "data": {
      "text/plain": [
       "('the', 342529)"
      ]
     },
     "execution_count": 45,
     "metadata": {},
     "output_type": "execute_result"
    }
   ],
   "source": [
    "sorted_v[0]"
   ]
  },
  {
   "cell_type": "code",
   "execution_count": 46,
   "metadata": {
    "hidden": true
   },
   "outputs": [],
   "source": [
    "with open('/Users/yiweiluo/scientific-debates/framing-twitter/data/output/freq_vocab.txt','w') as f:\n",
    "    for tup_ in sorted_v[:5000]:\n",
    "        f.write(tup_[0])\n",
    "        f.write('\\n')"
   ]
  },
  {
   "cell_type": "code",
   "execution_count": 43,
   "metadata": {
    "hidden": true,
    "scrolled": true
   },
   "outputs": [
    {
     "data": {
      "text/plain": [
       "2041"
      ]
     },
     "execution_count": 43,
     "metadata": {},
     "output_type": "execute_result"
    }
   ],
   "source": [
    "with open('/Users/yiweiluo/scientific-debates/framing-twitter/data/output/joint_vocab.txt','r') as f:\n",
    "    d_vocab = f.read().splitlines()\n",
    "len(d_vocab)"
   ]
  },
  {
   "cell_type": "code",
   "execution_count": 34,
   "metadata": {
    "hidden": true
   },
   "outputs": [
    {
     "data": {
      "text/plain": [
       "64605"
      ]
     },
     "execution_count": 34,
     "metadata": {},
     "output_type": "execute_result"
    }
   ],
   "source": [
    "all_vocab = set(all_vocab)\n",
    "len(all_vocab)"
   ]
  },
  {
   "cell_type": "code",
   "execution_count": 44,
   "metadata": {
    "hidden": true
   },
   "outputs": [
    {
     "data": {
      "text/plain": [
       "64605"
      ]
     },
     "execution_count": 44,
     "metadata": {},
     "output_type": "execute_result"
    }
   ],
   "source": [
    "len(top_vocab)"
   ]
  },
  {
   "cell_type": "code",
   "execution_count": 36,
   "metadata": {
    "hidden": true
   },
   "outputs": [
    {
     "data": {
      "text/plain": [
       "True"
      ]
     },
     "execution_count": 36,
     "metadata": {},
     "output_type": "execute_result"
    }
   ],
   "source": [
    "'cortez' in all_vocab"
   ]
  },
  {
   "cell_type": "code",
   "execution_count": 37,
   "metadata": {
    "hidden": true
   },
   "outputs": [],
   "source": [
    "with open('/Users/yiweiluo/scientific-debates/framing-twitter/data/output/vocab.txt','w') as f:\n",
    "    for v in all_vocab:\n",
    "        f.write(v)\n",
    "        f.write('\\n')"
   ]
  },
  {
   "cell_type": "markdown",
   "metadata": {},
   "source": [
    "# Read in results"
   ]
  },
  {
   "cell_type": "code",
   "execution_count": 47,
   "metadata": {},
   "outputs": [],
   "source": [
    "res = pd.read_csv('cc_kmeans_topics_8.csv')"
   ]
  },
  {
   "cell_type": "code",
   "execution_count": 48,
   "metadata": {
    "scrolled": true
   },
   "outputs": [
    {
     "data": {
      "text/html": [
       "<div>\n",
       "<style scoped>\n",
       "    .dataframe tbody tr th:only-of-type {\n",
       "        vertical-align: middle;\n",
       "    }\n",
       "\n",
       "    .dataframe tbody tr th {\n",
       "        vertical-align: top;\n",
       "    }\n",
       "\n",
       "    .dataframe thead th {\n",
       "        text-align: right;\n",
       "    }\n",
       "</style>\n",
       "<table border=\"1\" class=\"dataframe\">\n",
       "  <thead>\n",
       "    <tr style=\"text-align: right;\">\n",
       "      <th></th>\n",
       "      <th>topic_0</th>\n",
       "      <th>cosine_0</th>\n",
       "      <th>topic_1</th>\n",
       "      <th>cosine_1</th>\n",
       "      <th>topic_2</th>\n",
       "      <th>cosine_2</th>\n",
       "      <th>topic_3</th>\n",
       "      <th>cosine_3</th>\n",
       "      <th>topic_4</th>\n",
       "      <th>cosine_4</th>\n",
       "      <th>topic_5</th>\n",
       "      <th>cosine_5</th>\n",
       "      <th>topic_6</th>\n",
       "      <th>cosine_6</th>\n",
       "      <th>topic_7</th>\n",
       "      <th>cosine_7</th>\n",
       "      <th>indices_in_original</th>\n",
       "    </tr>\n",
       "  </thead>\n",
       "  <tbody>\n",
       "    <tr>\n",
       "      <th>0</th>\n",
       "      <td>2</td>\n",
       "      <td>0.623289</td>\n",
       "      <td>4</td>\n",
       "      <td>0.714146</td>\n",
       "      <td>0</td>\n",
       "      <td>0.764750</td>\n",
       "      <td>3</td>\n",
       "      <td>1.084648</td>\n",
       "      <td>1</td>\n",
       "      <td>1.106662</td>\n",
       "      <td>6</td>\n",
       "      <td>1.133042</td>\n",
       "      <td>5</td>\n",
       "      <td>1.186551</td>\n",
       "      <td>7</td>\n",
       "      <td>1.258481</td>\n",
       "      <td>cc_0</td>\n",
       "    </tr>\n",
       "    <tr>\n",
       "      <th>1</th>\n",
       "      <td>1</td>\n",
       "      <td>0.710055</td>\n",
       "      <td>2</td>\n",
       "      <td>0.798882</td>\n",
       "      <td>3</td>\n",
       "      <td>0.958161</td>\n",
       "      <td>5</td>\n",
       "      <td>1.013273</td>\n",
       "      <td>0</td>\n",
       "      <td>1.047892</td>\n",
       "      <td>7</td>\n",
       "      <td>1.120648</td>\n",
       "      <td>6</td>\n",
       "      <td>1.176311</td>\n",
       "      <td>4</td>\n",
       "      <td>1.190092</td>\n",
       "      <td>cc_1</td>\n",
       "    </tr>\n",
       "    <tr>\n",
       "      <th>2</th>\n",
       "      <td>2</td>\n",
       "      <td>0.777188</td>\n",
       "      <td>3</td>\n",
       "      <td>0.791400</td>\n",
       "      <td>0</td>\n",
       "      <td>0.871678</td>\n",
       "      <td>1</td>\n",
       "      <td>0.884266</td>\n",
       "      <td>7</td>\n",
       "      <td>1.025838</td>\n",
       "      <td>4</td>\n",
       "      <td>1.141103</td>\n",
       "      <td>6</td>\n",
       "      <td>1.187908</td>\n",
       "      <td>5</td>\n",
       "      <td>1.266636</td>\n",
       "      <td>cc_2</td>\n",
       "    </tr>\n",
       "    <tr>\n",
       "      <th>3</th>\n",
       "      <td>0</td>\n",
       "      <td>0.800824</td>\n",
       "      <td>2</td>\n",
       "      <td>0.872168</td>\n",
       "      <td>1</td>\n",
       "      <td>0.923968</td>\n",
       "      <td>4</td>\n",
       "      <td>0.984891</td>\n",
       "      <td>3</td>\n",
       "      <td>1.004107</td>\n",
       "      <td>5</td>\n",
       "      <td>1.112779</td>\n",
       "      <td>7</td>\n",
       "      <td>1.137597</td>\n",
       "      <td>6</td>\n",
       "      <td>1.171677</td>\n",
       "      <td>cc_3</td>\n",
       "    </tr>\n",
       "    <tr>\n",
       "      <th>4</th>\n",
       "      <td>1</td>\n",
       "      <td>0.576808</td>\n",
       "      <td>2</td>\n",
       "      <td>0.903400</td>\n",
       "      <td>0</td>\n",
       "      <td>1.016510</td>\n",
       "      <td>4</td>\n",
       "      <td>1.028785</td>\n",
       "      <td>3</td>\n",
       "      <td>1.044035</td>\n",
       "      <td>7</td>\n",
       "      <td>1.163888</td>\n",
       "      <td>5</td>\n",
       "      <td>1.188031</td>\n",
       "      <td>6</td>\n",
       "      <td>1.359631</td>\n",
       "      <td>cc_4</td>\n",
       "    </tr>\n",
       "  </tbody>\n",
       "</table>\n",
       "</div>"
      ],
      "text/plain": [
       "   topic_0  cosine_0  topic_1  cosine_1  topic_2  cosine_2  topic_3  cosine_3  \\\n",
       "0        2  0.623289        4  0.714146        0  0.764750        3  1.084648   \n",
       "1        1  0.710055        2  0.798882        3  0.958161        5  1.013273   \n",
       "2        2  0.777188        3  0.791400        0  0.871678        1  0.884266   \n",
       "3        0  0.800824        2  0.872168        1  0.923968        4  0.984891   \n",
       "4        1  0.576808        2  0.903400        0  1.016510        4  1.028785   \n",
       "\n",
       "   topic_4  cosine_4  topic_5  cosine_5  topic_6  cosine_6  topic_7  cosine_7  \\\n",
       "0        1  1.106662        6  1.133042        5  1.186551        7  1.258481   \n",
       "1        0  1.047892        7  1.120648        6  1.176311        4  1.190092   \n",
       "2        7  1.025838        4  1.141103        6  1.187908        5  1.266636   \n",
       "3        3  1.004107        5  1.112779        7  1.137597        6  1.171677   \n",
       "4        3  1.044035        7  1.163888        5  1.188031        6  1.359631   \n",
       "\n",
       "  indices_in_original  \n",
       "0                cc_0  \n",
       "1                cc_1  \n",
       "2                cc_2  \n",
       "3                cc_3  \n",
       "4                cc_4  "
      ]
     },
     "execution_count": 48,
     "metadata": {},
     "output_type": "execute_result"
    }
   ],
   "source": [
    "res.head()"
   ]
  },
  {
   "cell_type": "code",
   "execution_count": 49,
   "metadata": {
    "scrolled": true
   },
   "outputs": [
    {
     "data": {
      "text/plain": [
       "1    74490\n",
       "4    54853\n",
       "5    51599\n",
       "3    50846\n",
       "0    50046\n",
       "2    43190\n",
       "6    39139\n",
       "7    36297\n",
       "Name: topic_0, dtype: int64"
      ]
     },
     "execution_count": 49,
     "metadata": {},
     "output_type": "execute_result"
    }
   ],
   "source": [
    "res.topic_0.value_counts()"
   ]
  },
  {
   "cell_type": "code",
   "execution_count": 52,
   "metadata": {},
   "outputs": [
    {
     "data": {
      "text/plain": [
       "array(['cc_3', 'cc_55', 'cc_71', ..., 'cc_400410', 'cc_400416',\n",
       "       'cc_400435'], dtype=object)"
      ]
     },
     "execution_count": 52,
     "metadata": {},
     "output_type": "execute_result"
    }
   ],
   "source": [
    "res.loc[res.topic_0==0].indices_in_original.values"
   ]
  },
  {
   "cell_type": "code",
   "execution_count": 56,
   "metadata": {
    "scrolled": true
   },
   "outputs": [
    {
     "data": {
      "text/plain": [
       "0"
      ]
     },
     "execution_count": 56,
     "metadata": {},
     "output_type": "execute_result"
    }
   ],
   "source": [
    "int('cc_0'.split('_')[-1])"
   ]
  },
  {
   "cell_type": "code",
   "execution_count": 58,
   "metadata": {},
   "outputs": [],
   "source": [
    "topic_0_quotes = [cc_quotes_df.iloc[int(guid.split('_')[-1])].quote\n",
    "                  for guid in res.loc[res.topic_0==0].indices_in_original.values]"
   ]
  },
  {
   "cell_type": "code",
   "execution_count": 59,
   "metadata": {},
   "outputs": [],
   "source": [
    "quotes_by_topic = {0:topic_0_quotes}\n",
    "for topic in range(1,8):\n",
    "    quotes_by_topic[topic] = [cc_quotes_df.iloc[int(guid.split('_')[-1])].quote\n",
    "                  for guid in res.loc[res.topic_0==topic].indices_in_original.values]"
   ]
  },
  {
   "cell_type": "code",
   "execution_count": 60,
   "metadata": {},
   "outputs": [
    {
     "data": {
      "text/plain": [
       "['that Ocasio - Cortez ’s Green New Deal was not enough to solve the climate crisis',\n",
       " 'that we have the skilled workforce that ’s ready to take on this global challenge  ',\n",
       " 'many more authority figures being invoked in this way',\n",
       " 'that the U.S. has just 12 years to take necessary steps or face “ irreparable damage',\n",
       " 'that climate change is a national emergency',\n",
       " 'This morning I introduced legislation in the Senate declaring that climate change is a national emergency',\n",
       " 'climate change is also a “ global emergency',\n",
       " 'The future of the planet is hanging on our decision about moving forward',\n",
       " 'Today I introduced legislation with @AOC and @repblumenauer to declare climate change as a national emergency',\n",
       " 'insisted']"
      ]
     },
     "execution_count": 60,
     "metadata": {},
     "output_type": "execute_result"
    }
   ],
   "source": [
    "topic_0_quotes[:10]"
   ]
  },
  {
   "cell_type": "code",
   "execution_count": 61,
   "metadata": {},
   "outputs": [
    {
     "data": {
      "text/plain": [
       "['it is in its own interest to become a clean energy superpower',\n",
       " 'that \" failure to act more swiftly \" when Williams was absent had contributed to their \" anguish and suffering \"',\n",
       " \"that one of our government 's top climate policy advisers , Dieter Helm , is recommending what , to them , would be an eye - wateringly high carbon tax\",\n",
       " 'that as people become more concerned , they will reward companies that are part of the solution',\n",
       " 'the complexity of our operations requires an even stronger commitment to safety and environment',\n",
       " 'that these big issues – climate change , global poverty and income inequality in the US – can not be left to governments or NGOs to solve',\n",
       " 'that the economy operates within environmental limits',\n",
       " 'that the transition into the post - carbon era must involve not simply \" adaptation \" and \" mitigation \" – the stale buzzwords of bureaucracy -',\n",
       " 'that long - term sustainability for effective local government depends on developing affordable programmes',\n",
       " 'there was a need to address its psychological consequences']"
      ]
     },
     "execution_count": 61,
     "metadata": {},
     "output_type": "execute_result"
    }
   ],
   "source": [
    "topic_0_quotes[-10:]"
   ]
  },
  {
   "cell_type": "code",
   "execution_count": 63,
   "metadata": {},
   "outputs": [
    {
     "data": {
      "text/plain": [
       "['it planted the troll',\n",
       " 'We ’re not going to be here for much long because of the climate crisis',\n",
       " \"your next campaign slogan has to be this : ' We got to start eating babies\",\n",
       " '\" We got to start eating babies',\n",
       " 'people must “ start eating babies',\n",
       " \", AOC does n't rule out eating babies\",\n",
       " 'that politicians — who have kicked the can down the road for decades when it comes to climate change —',\n",
       " 'Biden would be visiting my town',\n",
       " 'that you ’re not fighting for the people profiting off climate change—',\n",
       " 'When you talk to scientists about what would be necessary to get to zero carbon emissions , they often talk about people having to change their daily behaviors —']"
      ]
     },
     "execution_count": 63,
     "metadata": {},
     "output_type": "execute_result"
    }
   ],
   "source": [
    "quotes_by_topic[1][:10]"
   ]
  },
  {
   "cell_type": "code",
   "execution_count": 64,
   "metadata": {},
   "outputs": [
    {
     "data": {
      "text/plain": [
       "['that much will have to change to make this possible',\n",
       " 'that much will have to change to make this possible',\n",
       " 'that people are sociable and emotional ,',\n",
       " 'is to look at the design of the products themselves',\n",
       " 'that what I have written may jeopardise this work',\n",
       " 'that the world does',\n",
       " 'that the stupid runs much deeper than George Monbiot and goes right to the top',\n",
       " 'that if you need a helping hand , you will find one at the end of your arm',\n",
       " 'just how bad it was',\n",
       " 'that what I was trying to say may not have been quite as dotty as they thought']"
      ]
     },
     "execution_count": 64,
     "metadata": {},
     "output_type": "execute_result"
    }
   ],
   "source": [
    "quotes_by_topic[1][-10:]"
   ]
  },
  {
   "cell_type": "code",
   "execution_count": 65,
   "metadata": {},
   "outputs": [
    {
     "data": {
      "text/plain": [
       "['climate change is a hoax',\n",
       " 'the stunt was staged by what is now a far - right pro - Trump conspiracy group that compares climate change activism to “ genocide',\n",
       " 'Human influence on the climate system is clear',\n",
       " 'that ’s not such a bad change',\n",
       " 'the very notion absurd',\n",
       " 'that it ca n’t possibly be wrong because why would a responsible newspaper put a lie on its front page and why would an economic institution as world renowned as the IMF have produced such a figure if it were n’t accurate',\n",
       " 'that what this fellow Lord Stern is saying must be true',\n",
       " 'This is misleading',\n",
       " 'it ’s clear to see why Todd has been forgotten despite appearing in about 120 films between 1926 and 1935',\n",
       " 'it hard to believe that a woman who was running a restaurant would n’t have been aware of the risks']"
      ]
     },
     "execution_count": 65,
     "metadata": {},
     "output_type": "execute_result"
    }
   ],
   "source": [
    "quotes_by_topic[2][:10]"
   ]
  },
  {
   "cell_type": "code",
   "execution_count": 66,
   "metadata": {},
   "outputs": [
    {
     "data": {
      "text/plain": [
       "[\"that there 's simply not enough research to justify dismissing the possibility of a catastrophe\",\n",
       " 'n’t have that many experts ,',\n",
       " \"that this is extremely important and that it 's worth missing school for to make decision - makers listen\",\n",
       " 'but ministers swear blind that it is not even on the political agenda ; it is then noted that it might well be on the agenda but is not a serious proposition ; it is later conceded that it is a serious proposition but that it will never be implemented ; after that it is acknowledged that it will be implemented but in such diluted form that it will make no difference to the lives of ordinary people',\n",
       " 'that it has made such a difference',\n",
       " 'that the case was n’t sufficiently clear cut to turn it into a major news story',\n",
       " 'that the current [ threshold ] is subject to review as more',\n",
       " 'that the ‘ expert ’ class of supposedly trusted authority has in fact had most of its common sense educated out of it at university …  ',\n",
       " 'that [ climate change ] is mostly hype',\n",
       " 'that there was something funny about this area of science [ … ]']"
      ]
     },
     "execution_count": 66,
     "metadata": {},
     "output_type": "execute_result"
    }
   ],
   "source": [
    "quotes_by_topic[2][-10:]"
   ]
  },
  {
   "cell_type": "code",
   "execution_count": 67,
   "metadata": {},
   "outputs": [
    {
     "data": {
      "text/plain": [
       "['that she was concerned the woman at the town hall',\n",
       " 'Turns out the woman yelling was a Trump supporter 🤷 🏽\\u200d ♀ ️. ” The LaRouche PAC has been running an “ Eat the Children ” campaign modeled on Jonathan Swift ’s',\n",
       " 'he is a LaRouche PAC –',\n",
       " 'independent candidate for the US Senate — bragged about Trump giving attention to its “ Eat the Children ” stunt',\n",
       " 'LaRouchies have been enemies of the green movement for decades',\n",
       " 'The LaRouchies are now firm Trump supporters — though Putin is their first love',\n",
       " 'the video doing the rounds this week',\n",
       " \"he 'll fight for us when he 's opened the door SuperPACs , which would allow any amount of dark fossil fuel money to support his campaign\",\n",
       " 'that he is not up to the task',\n",
       " 'that Biden , who by most accounts is still in the lead for the Democratic nomination , walked back his campaign ’s opposition to accepting outside help from dark - money super PACs']"
      ]
     },
     "execution_count": 67,
     "metadata": {},
     "output_type": "execute_result"
    }
   ],
   "source": [
    "quotes_by_topic[3][:10]"
   ]
  },
  {
   "cell_type": "code",
   "execution_count": 68,
   "metadata": {},
   "outputs": [
    {
     "data": {
      "text/plain": [
       "[\"that Kate 's mother was sat a few rows in front of me\",\n",
       " 'that it pays my wages',\n",
       " \"By the time I 'd found out what I wanted to know from the primary literature\",\n",
       " 'that all my other efforts to be green - recycling , insulating the house , not driving a giant 4x4 - would be totally wiped out by a couple of holidays by air',\n",
       " 'why they were n’t answering the questions',\n",
       " 'he had n’t sent it in the spirit of self - deprecation',\n",
       " 'that the Climategate emails were going to go public –',\n",
       " 'it was going to be a big target as soon as it passed the house',\n",
       " 'that mankind was supposed to be top dog',\n",
       " 'that when he grew up he would have to face this horror for real']"
      ]
     },
     "execution_count": 68,
     "metadata": {},
     "output_type": "execute_result"
    }
   ],
   "source": [
    "quotes_by_topic[3][-10:]"
   ]
  },
  {
   "cell_type": "code",
   "execution_count": 69,
   "metadata": {},
   "outputs": [
    {
     "data": {
      "text/plain": [
       "['Save the planet',\n",
       " 'that poor Irish families sell their children as food to wealthy landlords',\n",
       " 'that humans are the dominant cause of \" unprecedented \" warming of the planet since the 1950s',\n",
       " 'Scientists are now 95 % certain that humans are the dominant cause of \" unprecedented \" warming of the planet since the 1950s',\n",
       " 'that they ’re not taking a single dollar from the merchants of our planet ’s destruction',\n",
       " 'that a potential \" climate apartheid \" could fracture the global population , splitting the planet between the wealthy and the rest of the world who will be \" left to suffer',\n",
       " 'n’t believe in catastrophic global warming',\n",
       " 'that carbon dioxide is a greenhouse gas and that human activities have warmed the planet “ to some unspecified extent ” — both of which are uncontroversial points',\n",
       " '“ unprecedented in scale',\n",
       " 'Their 50-year scenario was positive : “ Humanity already possesses the fundamental scientific , technical and industrial know - how to solve the carbon and climate problem for the next half - century']"
      ]
     },
     "execution_count": 69,
     "metadata": {},
     "output_type": "execute_result"
    }
   ],
   "source": [
    "quotes_by_topic[4][:10]"
   ]
  },
  {
   "cell_type": "code",
   "execution_count": 70,
   "metadata": {},
   "outputs": [
    {
     "data": {
      "text/plain": [
       "['that the world is interconnected and measure the effects as widely as possible',\n",
       " \"that the biggest environmental impacts are outside of the manufacturers ' control and usually occur in the supply of raw materials or when the product is being used\",\n",
       " 'he has been a leading voice in drawing the world',\n",
       " \"However , the planet 's principal problem - from a human point of view - lies with its greenhouse effect\",\n",
       " 'that there was a hunger for a way of grieving ecological loss through ritual',\n",
       " 'that climate change impacts play a key role in exacerbating the socio - political factors that might speed up this process of communal unravelling',\n",
       " 'just how preventable the current disaster was : preventable because the causes of these intense , out - of - control bush fires are so widely known',\n",
       " 'that humans need to respect natural forces',\n",
       " 'that Bibles are often banned or dangerous to have in other countries',\n",
       " 'that Bibles are often banned or dangerous to have in other countries']"
      ]
     },
     "execution_count": 70,
     "metadata": {},
     "output_type": "execute_result"
    }
   ],
   "source": [
    "quotes_by_topic[4][-10:]"
   ]
  },
  {
   "cell_type": "code",
   "execution_count": 71,
   "metadata": {},
   "outputs": [
    {
     "data": {
      "text/plain": [
       "['Malthusianism is n’t new',\n",
       " 'But now that Biden is accepting help from super PACs',\n",
       " 'drive an electric car',\n",
       " 'Yeah , we ’re going to have to make an investment as a country',\n",
       " 'oil will be replaced by wind power',\n",
       " 'My state ’s big industry is going to have to transition into its other big industry',\n",
       " 'transition into renewable energy jobs —high demand , high skill occupations –',\n",
       " 'prices should rise to $ 50-$100 by 2030 to give businesses and governments an incentive to lower emissions even when fossil fuels are cheap',\n",
       " 'poor countries could aim for a lower tax since their economies are more vulnerable',\n",
       " 'is that we have all of 12 years to transform our energy system away from fossil fuel to energy efficiency and sustainable energy or there will be irreparable damage done to this planet']"
      ]
     },
     "execution_count": 71,
     "metadata": {},
     "output_type": "execute_result"
    }
   ],
   "source": [
    "quotes_by_topic[5][:10]"
   ]
  },
  {
   "cell_type": "code",
   "execution_count": 72,
   "metadata": {},
   "outputs": [
    {
     "data": {
      "text/plain": [
       "[\"that most of the world 's fossil fuel reserves need to be left untouched , either forever or at least until we can capture the carbon\",\n",
       " 'that energy density determines environmental impact',\n",
       " 'there are challenges in cement and concrete production and have been working hard over many years to find solutions',\n",
       " 'that it is an absolute moral detriment that we are killing people by building roads and by building substandard vehicles',\n",
       " 'it had been misled by people who were sponsored by the fossil - fuel industry',\n",
       " 'the Chinese have already invested in iGas and Cuadrilla',\n",
       " 'that fossil fuel supplies are limited',\n",
       " 'that pilot whale catches in the Faroe Islands are fully sustainable',\n",
       " 'that energy density determines environmental impact',\n",
       " 'that our remaining 1,5 ° carbon budget and ongoing fossil fuel subsidies and investments do n’t add up']"
      ]
     },
     "execution_count": 72,
     "metadata": {},
     "output_type": "execute_result"
    }
   ],
   "source": [
    "quotes_by_topic[5][-10:]"
   ]
  },
  {
   "cell_type": "code",
   "execution_count": 73,
   "metadata": {},
   "outputs": [
    {
     "data": {
      "text/plain": [
       "['the world is coming to an end',\n",
       " 'climate change is a hoax and compares carbon dioxide reduction policies to “ genocide',\n",
       " \"average global temperatures will rise by 0.5 to 8.6 degrees Fahrenheit and the world 's oceans by 10 to 32 inches by the year 2100\",\n",
       " '— from rising seas and record hurricanes to coal plants polluting low - income black and indigenous communities',\n",
       " 'Hi , I ’m Lily from Sunrise',\n",
       " 'Inskeep asked if O’Rourke supports the oil industry in his state , which provides the state with incredible prosperity , according to the state ’s 2019 State of Energy Report that shows 2018 oil production in Texas totaled a record 1.54 billion barrels ( bbl ) in 2018 , surpassing a previous record of 1.28 billion bbl set in 1973',\n",
       " 'countries should ramp up the price of carbon emissions to as much as $ 100 per metric ton by 2030 to stop catastrophic global warming',\n",
       " 'carbon dioxide should be taxed at $ 40-$80 per ton by 2020',\n",
       " \"PLASTIC POLLUTION IN WORLDS ' OCEANS COULD HAVE $ 2.5 TRILLION IMPACT\",\n",
       " \"the extra money will allow the fund 's capacity to rise to $ 2.4 billion per year between the period of 2020 and 2024 , up from about $ 1.4 billion per year , currently\"]"
      ]
     },
     "execution_count": 73,
     "metadata": {},
     "output_type": "execute_result"
    }
   ],
   "source": [
    "quotes_by_topic[6][:10]"
   ]
  },
  {
   "cell_type": "code",
   "execution_count": 74,
   "metadata": {},
   "outputs": [
    {
     "data": {
      "text/plain": [
       "['that fertility is a more reliable base for growth than solidity',\n",
       " 'that not only is the freshly printed money worthless but also most of the manufactured money from the last 20 years',\n",
       " 'that simply bringing forward a second competition is no longer sufficient to deliver the 10GW or more of CCS anticipated by 2030 , as our recent report showed',\n",
       " \"that there 's a limited carbon budget\",\n",
       " 'that large industrialised nations need to take the lion \\'s share of responsibility for the warming they have caused while allowing developing nations to increase their emissions until a safe stabilisation level - a \" carbon democracy \" - has been reached',\n",
       " 'that in the Mediterranean , for example in southern Italy , this would correspond to electricity prices in the range of 15 cents per KWh , something below what the average consumer is paying',\n",
       " 'that the 67 per cent who had doubts about greenhouse gas theory are almost certainly correct',\n",
       " 'that they must cast the net for solutions wider than in the past',\n",
       " 'that a high percentage are from its cruise - ship line – and it has just signed on for three more vessels ( albeit powered by less - polluting liquefied natural gas )',\n",
       " 'that fertility is a more reliable base for growth than solidity']"
      ]
     },
     "execution_count": 74,
     "metadata": {},
     "output_type": "execute_result"
    }
   ],
   "source": [
    "quotes_by_topic[6][-10:]"
   ]
  },
  {
   "cell_type": "code",
   "execution_count": 75,
   "metadata": {},
   "outputs": [
    {
     "data": {
      "text/plain": [
       "['we only have a few months left',\n",
       " 'the Queen controls',\n",
       " 'that the LaRouche group has been pulling similar stunts for the past 50 years',\n",
       " 'that they carried signs like “ Feed Jane Fonda to the whales',\n",
       " \"Each of the last three decades has been successively warmer at the Earth 's surface than any preceding decade since 1850\",\n",
       " 'You might have seen the video doing the rounds this week :',\n",
       " 'what happened next',\n",
       " 'The first , traditional definition is measurable',\n",
       " ', STUDY WARNS  ',\n",
       " 'The Daily Caller reported :']"
      ]
     },
     "execution_count": 75,
     "metadata": {},
     "output_type": "execute_result"
    }
   ],
   "source": [
    "quotes_by_topic[7][:10]"
   ]
  },
  {
   "cell_type": "code",
   "execution_count": 76,
   "metadata": {},
   "outputs": [
    {
     "data": {
      "text/plain": [
       "['how far gone I was',\n",
       " 'that during construction there will be disruption to many local residents',\n",
       " 'that there will be people , at the state and at the city level ,',\n",
       " 'that Australia has made huge steps in the last 12 months',\n",
       " 'that he would have to downsize and has now moved to a smaller cottage on Chesil Beach in Dorset',\n",
       " 'just how much illogical garbage and ill - formed speculation parents of children with these conditions are exposed to',\n",
       " 'that if they are considering a purchase over the next couple of years , not everyone will be buying this year',\n",
       " 'that they are sitting on a carbon asset timebomb',\n",
       " 'that Australia has made huge steps in the last 12 months',\n",
       " 'that if they are considering a purchase over the next couple of years , not everyone will be buying this year']"
      ]
     },
     "execution_count": 76,
     "metadata": {},
     "output_type": "execute_result"
    }
   ],
   "source": [
    "quotes_by_topic[7][-10:]"
   ]
  },
  {
   "cell_type": "code",
   "execution_count": null,
   "metadata": {},
   "outputs": [],
   "source": []
  }
 ],
 "metadata": {
  "kernelspec": {
   "display_name": "Python 3",
   "language": "python",
   "name": "python3"
  },
  "language_info": {
   "codemirror_mode": {
    "name": "ipython",
    "version": 3
   },
   "file_extension": ".py",
   "mimetype": "text/x-python",
   "name": "python",
   "nbconvert_exporter": "python",
   "pygments_lexer": "ipython3",
   "version": "3.7.1"
  }
 },
 "nbformat": 4,
 "nbformat_minor": 2
}
