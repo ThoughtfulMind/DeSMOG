{
 "cells": [
  {
   "cell_type": "code",
   "execution_count": 1,
   "metadata": {},
   "outputs": [],
   "source": [
    "import matplotlib.pyplot as plt\n",
    "import pandas as pd\n",
    "import numpy as np\n",
    "import pickle\n",
    "from numpy.random import RandomState\n",
    "from sklearn import metrics\n",
    "from sklearn.utils import shuffle\n",
    "import os"
   ]
  },
  {
   "cell_type": "code",
   "execution_count": 57,
   "metadata": {},
   "outputs": [],
   "source": [
    "#labeled_data = {'source':[],'type':[],'text':[],'stance':[]}\n",
    "#unlabeled_data = {'source':[],'type':[],'text':[]}"
   ]
  },
  {
   "cell_type": "markdown",
   "metadata": {},
   "source": [
    "# Dallas labeled news"
   ]
  },
  {
   "cell_type": "code",
   "execution_count": 10,
   "metadata": {},
   "outputs": [],
   "source": [
    "import json\n",
    "lines = []\n",
    "with open('all.pro-anti.sentences.jsonlist') as f:\n",
    "    for line in f:\n",
    "        lines.append(json.loads(line))"
   ]
  },
  {
   "cell_type": "code",
   "execution_count": 11,
   "metadata": {},
   "outputs": [
    {
     "data": {
      "text/plain": [
       "37105"
      ]
     },
     "execution_count": 11,
     "metadata": {},
     "output_type": "execute_result"
    }
   ],
   "source": [
    "len(lines)"
   ]
  },
  {
   "cell_type": "code",
   "execution_count": 83,
   "metadata": {
    "scrolled": true
   },
   "outputs": [],
   "source": [
    "#lines[10]"
   ]
  },
  {
   "cell_type": "code",
   "execution_count": 38,
   "metadata": {},
   "outputs": [
    {
     "data": {
      "text/plain": [
       "Counter({'pro': 30917, 'anti': 6188})"
      ]
     },
     "execution_count": 38,
     "metadata": {},
     "output_type": "execute_result"
    }
   ],
   "source": [
    "Counter([l['primary_tone'].lower() for l in lines])"
   ]
  },
  {
   "cell_type": "code",
   "execution_count": 39,
   "metadata": {},
   "outputs": [],
   "source": [
    "tone2label = {'pro':'agree','anti':'disagree'}"
   ]
  },
  {
   "cell_type": "code",
   "execution_count": 58,
   "metadata": {},
   "outputs": [
    {
     "data": {
      "text/html": [
       "<div>\n",
       "<style scoped>\n",
       "    .dataframe tbody tr th:only-of-type {\n",
       "        vertical-align: middle;\n",
       "    }\n",
       "\n",
       "    .dataframe tbody tr th {\n",
       "        vertical-align: top;\n",
       "    }\n",
       "\n",
       "    .dataframe thead th {\n",
       "        text-align: right;\n",
       "    }\n",
       "</style>\n",
       "<table border=\"1\" class=\"dataframe\">\n",
       "  <thead>\n",
       "    <tr style=\"text-align: right;\">\n",
       "      <th></th>\n",
       "      <th>source</th>\n",
       "      <th>type</th>\n",
       "      <th>text</th>\n",
       "      <th>stance</th>\n",
       "    </tr>\n",
       "  </thead>\n",
       "  <tbody>\n",
       "    <tr>\n",
       "      <td>0</td>\n",
       "      <td>climate_change1.0-12174 [SEP] 0</td>\n",
       "      <td>dallas_news</td>\n",
       "      <td>It's about seeing the forest and the trees in ...</td>\n",
       "      <td>agree</td>\n",
       "    </tr>\n",
       "    <tr>\n",
       "      <td>1</td>\n",
       "      <td>climate_change1.0-12174 [SEP] 1</td>\n",
       "      <td>dallas_news</td>\n",
       "      <td>Two of his colleagues dangled on ropes 100 fee...</td>\n",
       "      <td>agree</td>\n",
       "    </tr>\n",
       "    <tr>\n",
       "      <td>2</td>\n",
       "      <td>climate_change1.0-12174 [SEP] 2</td>\n",
       "      <td>dallas_news</td>\n",
       "      <td>Steve Sillett could hardly contain his excitem...</td>\n",
       "      <td>agree</td>\n",
       "    </tr>\n",
       "    <tr>\n",
       "      <td>3</td>\n",
       "      <td>climate_change1.0-12174 [SEP] 3</td>\n",
       "      <td>dallas_news</td>\n",
       "      <td>\"This site is just juicy.</td>\n",
       "      <td>agree</td>\n",
       "    </tr>\n",
       "    <tr>\n",
       "      <td>4</td>\n",
       "      <td>climate_change1.0-12174 [SEP] 4</td>\n",
       "      <td>dallas_news</td>\n",
       "      <td>It's loaded,\" said Sillett, gazing up at the a...</td>\n",
       "      <td>agree</td>\n",
       "    </tr>\n",
       "    <tr>\n",
       "      <td>5</td>\n",
       "      <td>climate_change1.0-12174 [SEP] 5</td>\n",
       "      <td>dallas_news</td>\n",
       "      <td>\"There are amazing lichens up there.</td>\n",
       "      <td>agree</td>\n",
       "    </tr>\n",
       "    <tr>\n",
       "      <td>6</td>\n",
       "      <td>climate_change1.0-12174 [SEP] 6</td>\n",
       "      <td>dallas_news</td>\n",
       "      <td>There are aphids being hunted by ladybugs.</td>\n",
       "      <td>agree</td>\n",
       "    </tr>\n",
       "    <tr>\n",
       "      <td>7</td>\n",
       "      <td>climate_change1.0-12174 [SEP] 7</td>\n",
       "      <td>dallas_news</td>\n",
       "      <td>I found a sizable dogwood tree growing from a ...</td>\n",
       "      <td>agree</td>\n",
       "    </tr>\n",
       "    <tr>\n",
       "      <td>8</td>\n",
       "      <td>climate_change1.0-12174 [SEP] 8</td>\n",
       "      <td>dallas_news</td>\n",
       "      <td>The foggy, lost worlds atop the world's bigges...</td>\n",
       "      <td>agree</td>\n",
       "    </tr>\n",
       "    <tr>\n",
       "      <td>9</td>\n",
       "      <td>climate_change1.0-12174 [SEP] 9</td>\n",
       "      <td>dallas_news</td>\n",
       "      <td>Concerned that rising temperatures across Cali...</td>\n",
       "      <td>agree</td>\n",
       "    </tr>\n",
       "  </tbody>\n",
       "</table>\n",
       "</div>"
      ],
      "text/plain": [
       "                            source         type  \\\n",
       "0  climate_change1.0-12174 [SEP] 0  dallas_news   \n",
       "1  climate_change1.0-12174 [SEP] 1  dallas_news   \n",
       "2  climate_change1.0-12174 [SEP] 2  dallas_news   \n",
       "3  climate_change1.0-12174 [SEP] 3  dallas_news   \n",
       "4  climate_change1.0-12174 [SEP] 4  dallas_news   \n",
       "5  climate_change1.0-12174 [SEP] 5  dallas_news   \n",
       "6  climate_change1.0-12174 [SEP] 6  dallas_news   \n",
       "7  climate_change1.0-12174 [SEP] 7  dallas_news   \n",
       "8  climate_change1.0-12174 [SEP] 8  dallas_news   \n",
       "9  climate_change1.0-12174 [SEP] 9  dallas_news   \n",
       "\n",
       "                                                text stance  \n",
       "0  It's about seeing the forest and the trees in ...  agree  \n",
       "1  Two of his colleagues dangled on ropes 100 fee...  agree  \n",
       "2  Steve Sillett could hardly contain his excitem...  agree  \n",
       "3                          \"This site is just juicy.  agree  \n",
       "4  It's loaded,\" said Sillett, gazing up at the a...  agree  \n",
       "5               \"There are amazing lichens up there.  agree  \n",
       "6         There are aphids being hunted by ladybugs.  agree  \n",
       "7  I found a sizable dogwood tree growing from a ...  agree  \n",
       "8  The foggy, lost worlds atop the world's bigges...  agree  \n",
       "9  Concerned that rising temperatures across Cali...  agree  "
      ]
     },
     "execution_count": 58,
     "metadata": {},
     "output_type": "execute_result"
    }
   ],
   "source": [
    "labeled_data['source'] = [l['article_id'] + ' [SEP] ' + str(l['sent_index']) for l in lines]\n",
    "labeled_data['type'] = ['dallas_news']*len(lines)\n",
    "labeled_data['text'] = [l['text'] for l in lines]\n",
    "labeled_data['stance'] = [tone2label[l['primary_tone'].lower()] for l in lines]\n",
    "labeled_data_df = pd.DataFrame(labeled_data)\n",
    "labeled_data_df.head(10)"
   ]
  },
  {
   "cell_type": "markdown",
   "metadata": {},
   "source": [
    "# Dallas unlabeled news"
   ]
  },
  {
   "cell_type": "code",
   "execution_count": 17,
   "metadata": {},
   "outputs": [],
   "source": [
    "all_sents = []\n",
    "with open('all.sentences.jsonlist') as f:\n",
    "    for line in f:\n",
    "        all_sents.append(json.loads(line))"
   ]
  },
  {
   "cell_type": "code",
   "execution_count": 18,
   "metadata": {},
   "outputs": [
    {
     "data": {
      "text/plain": [
       "126100"
      ]
     },
     "execution_count": 18,
     "metadata": {},
     "output_type": "execute_result"
    }
   ],
   "source": [
    "len(all_sents)"
   ]
  },
  {
   "cell_type": "code",
   "execution_count": 20,
   "metadata": {},
   "outputs": [
    {
     "data": {
      "text/plain": [
       "False"
      ]
     },
     "execution_count": 20,
     "metadata": {},
     "output_type": "execute_result"
    }
   ],
   "source": [
    "'climate_change1.0-6365 [SEP] 0' in labeled_data_df['source']"
   ]
  },
  {
   "cell_type": "code",
   "execution_count": 84,
   "metadata": {
    "scrolled": true
   },
   "outputs": [],
   "source": [
    "#all_sents[1]"
   ]
  },
  {
   "cell_type": "code",
   "execution_count": 178,
   "metadata": {},
   "outputs": [
    {
     "data": {
      "text/html": [
       "<div>\n",
       "<style scoped>\n",
       "    .dataframe tbody tr th:only-of-type {\n",
       "        vertical-align: middle;\n",
       "    }\n",
       "\n",
       "    .dataframe tbody tr th {\n",
       "        vertical-align: top;\n",
       "    }\n",
       "\n",
       "    .dataframe thead th {\n",
       "        text-align: right;\n",
       "    }\n",
       "</style>\n",
       "<table border=\"1\" class=\"dataframe\">\n",
       "  <thead>\n",
       "    <tr style=\"text-align: right;\">\n",
       "      <th></th>\n",
       "      <th>source</th>\n",
       "      <th>type</th>\n",
       "      <th>text</th>\n",
       "    </tr>\n",
       "  </thead>\n",
       "  <tbody>\n",
       "    <tr>\n",
       "      <td>0</td>\n",
       "      <td>climate_change1.0-6365 [SEP] 0</td>\n",
       "      <td>dallas_news</td>\n",
       "      <td>No Accord, and Little Optimism, at Bonn Talks ...</td>\n",
       "    </tr>\n",
       "    <tr>\n",
       "      <td>1</td>\n",
       "      <td>climate_change1.0-6365 [SEP] 1</td>\n",
       "      <td>dallas_news</td>\n",
       "      <td>Delegates from 143 countries ended their preli...</td>\n",
       "    </tr>\n",
       "    <tr>\n",
       "      <td>2</td>\n",
       "      <td>climate_change1.0-6365 [SEP] 2</td>\n",
       "      <td>dallas_news</td>\n",
       "      <td>The United States' long-awaited proposal for c...</td>\n",
       "    </tr>\n",
       "    <tr>\n",
       "      <td>3</td>\n",
       "      <td>climate_change1.0-6365 [SEP] 3</td>\n",
       "      <td>dallas_news</td>\n",
       "      <td>And there is no sign that American negotiators...</td>\n",
       "    </tr>\n",
       "    <tr>\n",
       "      <td>4</td>\n",
       "      <td>climate_change1.0-6365 [SEP] 4</td>\n",
       "      <td>dallas_news</td>\n",
       "      <td>Still, the Americans themselves said there was...</td>\n",
       "    </tr>\n",
       "    <tr>\n",
       "      <td>5</td>\n",
       "      <td>climate_change1.0-6365 [SEP] 5</td>\n",
       "      <td>dallas_news</td>\n",
       "      <td>Meanwhile, several small-scale but higher-leve...</td>\n",
       "    </tr>\n",
       "    <tr>\n",
       "      <td>6</td>\n",
       "      <td>climate_change1.0-6365 [SEP] 6</td>\n",
       "      <td>dallas_news</td>\n",
       "      <td>The goal of the conference is to revise the cl...</td>\n",
       "    </tr>\n",
       "    <tr>\n",
       "      <td>7</td>\n",
       "      <td>climate_change1.0-6365 [SEP] 7</td>\n",
       "      <td>dallas_news</td>\n",
       "      <td>\"There are enough ideas out there to have an a...</td>\n",
       "    </tr>\n",
       "    <tr>\n",
       "      <td>8</td>\n",
       "      <td>climate_change1.0-6365 [SEP] 8</td>\n",
       "      <td>dallas_news</td>\n",
       "      <td>\"We just don't see all the kinds of coalescenc...</td>\n",
       "    </tr>\n",
       "    <tr>\n",
       "      <td>9</td>\n",
       "      <td>climate_change1.0-6365 [SEP] 9</td>\n",
       "      <td>dallas_news</td>\n",
       "      <td>On the surface, the American proposal looks li...</td>\n",
       "    </tr>\n",
       "  </tbody>\n",
       "</table>\n",
       "</div>"
      ],
      "text/plain": [
       "                           source         type  \\\n",
       "0  climate_change1.0-6365 [SEP] 0  dallas_news   \n",
       "1  climate_change1.0-6365 [SEP] 1  dallas_news   \n",
       "2  climate_change1.0-6365 [SEP] 2  dallas_news   \n",
       "3  climate_change1.0-6365 [SEP] 3  dallas_news   \n",
       "4  climate_change1.0-6365 [SEP] 4  dallas_news   \n",
       "5  climate_change1.0-6365 [SEP] 5  dallas_news   \n",
       "6  climate_change1.0-6365 [SEP] 6  dallas_news   \n",
       "7  climate_change1.0-6365 [SEP] 7  dallas_news   \n",
       "8  climate_change1.0-6365 [SEP] 8  dallas_news   \n",
       "9  climate_change1.0-6365 [SEP] 9  dallas_news   \n",
       "\n",
       "                                                text  \n",
       "0  No Accord, and Little Optimism, at Bonn Talks ...  \n",
       "1  Delegates from 143 countries ended their preli...  \n",
       "2  The United States' long-awaited proposal for c...  \n",
       "3  And there is no sign that American negotiators...  \n",
       "4  Still, the Americans themselves said there was...  \n",
       "5  Meanwhile, several small-scale but higher-leve...  \n",
       "6  The goal of the conference is to revise the cl...  \n",
       "7  \"There are enough ideas out there to have an a...  \n",
       "8  \"We just don't see all the kinds of coalescenc...  \n",
       "9  On the surface, the American proposal looks li...  "
      ]
     },
     "execution_count": 178,
     "metadata": {},
     "output_type": "execute_result"
    }
   ],
   "source": [
    "unlabeled_data['source'] = [l['article_id'] + ' [SEP] ' + str(l['sent_index']) \n",
    "                               for l in all_sents]\n",
    "unlabeled_data['type'] = ['dallas_news']*len(all_sents)\n",
    "unlabeled_data['text'] = [l['text'] for l in all_sents]\n",
    "unlabeled_data_df = pd.DataFrame(unlabeled_data)\n",
    "unlabeled_data_df.head(10)"
   ]
  },
  {
   "cell_type": "markdown",
   "metadata": {},
   "source": [
    "# SemEval tweets"
   ]
  },
  {
   "cell_type": "code",
   "execution_count": 30,
   "metadata": {},
   "outputs": [],
   "source": [
    "targets = []\n",
    "with open(os.getcwd()+'/semeval2016-task6-testdata-gold/SemEval2016-Task6-subtaskB-testdata\\\n",
    "-gold.txt') as f:\n",
    "    semeval_b = f.readlines()\n",
    "    for line in semeval_b[1:]:\n",
    "        id_,target,tweet,stance = line.strip().split('\\t')\n",
    "        targets.append(target)"
   ]
  },
  {
   "cell_type": "code",
   "execution_count": 32,
   "metadata": {},
   "outputs": [
    {
     "data": {
      "text/plain": [
       "Counter({'Donald Trump': 707})"
      ]
     },
     "execution_count": 32,
     "metadata": {},
     "output_type": "execute_result"
    }
   ],
   "source": [
    "from collections import Counter\n",
    "Counter(targets)"
   ]
  },
  {
   "cell_type": "code",
   "execution_count": 28,
   "metadata": {},
   "outputs": [],
   "source": [
    "semeval_tweets = []\n",
    "with open(os.getcwd()+'/semeval2016-task6-testdata-gold/SemEval2016-Task6-subtaskA-testdata\\\n",
    "-gold.txt') as f:\n",
    "    semeval_a = f.readlines()\n",
    "    for line in semeval_a[1:]:\n",
    "        id_,target,tweet,stance = line.strip().split('\\t')\n",
    "        if target == 'Climate Change is a Real Concern':\n",
    "            semeval_tweets.append(line.strip().split('\\t'))"
   ]
  },
  {
   "cell_type": "code",
   "execution_count": 29,
   "metadata": {},
   "outputs": [
    {
     "data": {
      "text/plain": [
       "169"
      ]
     },
     "execution_count": 29,
     "metadata": {},
     "output_type": "execute_result"
    }
   ],
   "source": [
    "len(semeval_tweets)"
   ]
  },
  {
   "cell_type": "code",
   "execution_count": 33,
   "metadata": {
    "scrolled": true
   },
   "outputs": [
    {
     "data": {
      "text/plain": [
       "Counter({'NONE': 35, 'FAVOR': 123, 'AGAINST': 11})"
      ]
     },
     "execution_count": 33,
     "metadata": {},
     "output_type": "execute_result"
    }
   ],
   "source": [
    "from collections import Counter\n",
    "Counter([x[-1] for x in semeval_tweets])"
   ]
  },
  {
   "cell_type": "code",
   "execution_count": 34,
   "metadata": {},
   "outputs": [],
   "source": [
    "tweetstance2label = {'NONE':'neutral','FAVOR':'agree','AGAINST':'disagree'}"
   ]
  },
  {
   "cell_type": "code",
   "execution_count": 59,
   "metadata": {},
   "outputs": [
    {
     "data": {
      "text/html": [
       "<div>\n",
       "<style scoped>\n",
       "    .dataframe tbody tr th:only-of-type {\n",
       "        vertical-align: middle;\n",
       "    }\n",
       "\n",
       "    .dataframe tbody tr th {\n",
       "        vertical-align: top;\n",
       "    }\n",
       "\n",
       "    .dataframe thead th {\n",
       "        text-align: right;\n",
       "    }\n",
       "</style>\n",
       "<table border=\"1\" class=\"dataframe\">\n",
       "  <thead>\n",
       "    <tr style=\"text-align: right;\">\n",
       "      <th></th>\n",
       "      <th>source</th>\n",
       "      <th>type</th>\n",
       "      <th>text</th>\n",
       "      <th>stance</th>\n",
       "    </tr>\n",
       "  </thead>\n",
       "  <tbody>\n",
       "    <tr>\n",
       "      <td>0</td>\n",
       "      <td>climate_change1.0-12174 [SEP] 0</td>\n",
       "      <td>dallas_news</td>\n",
       "      <td>It's about seeing the forest and the trees in ...</td>\n",
       "      <td>agree</td>\n",
       "    </tr>\n",
       "    <tr>\n",
       "      <td>1</td>\n",
       "      <td>climate_change1.0-12174 [SEP] 1</td>\n",
       "      <td>dallas_news</td>\n",
       "      <td>Two of his colleagues dangled on ropes 100 fee...</td>\n",
       "      <td>agree</td>\n",
       "    </tr>\n",
       "    <tr>\n",
       "      <td>2</td>\n",
       "      <td>climate_change1.0-12174 [SEP] 2</td>\n",
       "      <td>dallas_news</td>\n",
       "      <td>Steve Sillett could hardly contain his excitem...</td>\n",
       "      <td>agree</td>\n",
       "    </tr>\n",
       "    <tr>\n",
       "      <td>3</td>\n",
       "      <td>climate_change1.0-12174 [SEP] 3</td>\n",
       "      <td>dallas_news</td>\n",
       "      <td>\"This site is just juicy.</td>\n",
       "      <td>agree</td>\n",
       "    </tr>\n",
       "    <tr>\n",
       "      <td>4</td>\n",
       "      <td>climate_change1.0-12174 [SEP] 4</td>\n",
       "      <td>dallas_news</td>\n",
       "      <td>It's loaded,\" said Sillett, gazing up at the a...</td>\n",
       "      <td>agree</td>\n",
       "    </tr>\n",
       "    <tr>\n",
       "      <td>5</td>\n",
       "      <td>climate_change1.0-12174 [SEP] 5</td>\n",
       "      <td>dallas_news</td>\n",
       "      <td>\"There are amazing lichens up there.</td>\n",
       "      <td>agree</td>\n",
       "    </tr>\n",
       "    <tr>\n",
       "      <td>6</td>\n",
       "      <td>climate_change1.0-12174 [SEP] 6</td>\n",
       "      <td>dallas_news</td>\n",
       "      <td>There are aphids being hunted by ladybugs.</td>\n",
       "      <td>agree</td>\n",
       "    </tr>\n",
       "    <tr>\n",
       "      <td>7</td>\n",
       "      <td>climate_change1.0-12174 [SEP] 7</td>\n",
       "      <td>dallas_news</td>\n",
       "      <td>I found a sizable dogwood tree growing from a ...</td>\n",
       "      <td>agree</td>\n",
       "    </tr>\n",
       "    <tr>\n",
       "      <td>8</td>\n",
       "      <td>climate_change1.0-12174 [SEP] 8</td>\n",
       "      <td>dallas_news</td>\n",
       "      <td>The foggy, lost worlds atop the world's bigges...</td>\n",
       "      <td>agree</td>\n",
       "    </tr>\n",
       "    <tr>\n",
       "      <td>9</td>\n",
       "      <td>climate_change1.0-12174 [SEP] 9</td>\n",
       "      <td>dallas_news</td>\n",
       "      <td>Concerned that rising temperatures across Cali...</td>\n",
       "      <td>agree</td>\n",
       "    </tr>\n",
       "  </tbody>\n",
       "</table>\n",
       "</div>"
      ],
      "text/plain": [
       "                            source         type  \\\n",
       "0  climate_change1.0-12174 [SEP] 0  dallas_news   \n",
       "1  climate_change1.0-12174 [SEP] 1  dallas_news   \n",
       "2  climate_change1.0-12174 [SEP] 2  dallas_news   \n",
       "3  climate_change1.0-12174 [SEP] 3  dallas_news   \n",
       "4  climate_change1.0-12174 [SEP] 4  dallas_news   \n",
       "5  climate_change1.0-12174 [SEP] 5  dallas_news   \n",
       "6  climate_change1.0-12174 [SEP] 6  dallas_news   \n",
       "7  climate_change1.0-12174 [SEP] 7  dallas_news   \n",
       "8  climate_change1.0-12174 [SEP] 8  dallas_news   \n",
       "9  climate_change1.0-12174 [SEP] 9  dallas_news   \n",
       "\n",
       "                                                text stance  \n",
       "0  It's about seeing the forest and the trees in ...  agree  \n",
       "1  Two of his colleagues dangled on ropes 100 fee...  agree  \n",
       "2  Steve Sillett could hardly contain his excitem...  agree  \n",
       "3                          \"This site is just juicy.  agree  \n",
       "4  It's loaded,\" said Sillett, gazing up at the a...  agree  \n",
       "5               \"There are amazing lichens up there.  agree  \n",
       "6         There are aphids being hunted by ladybugs.  agree  \n",
       "7  I found a sizable dogwood tree growing from a ...  agree  \n",
       "8  The foggy, lost worlds atop the world's bigges...  agree  \n",
       "9  Concerned that rising temperatures across Cali...  agree  "
      ]
     },
     "execution_count": 59,
     "metadata": {},
     "output_type": "execute_result"
    }
   ],
   "source": [
    "labeled_data['source'].extend([l[0] for l in semeval_tweets])\n",
    "labeled_data['type'].extend(['semeval_tweets']*len(semeval_tweets))\n",
    "labeled_data['text'].extend([l[2] for l in semeval_tweets])\n",
    "labeled_data['stance'].extend([tweetstance2label[l[3]] for l in semeval_tweets])\n",
    "labeled_data_df = pd.DataFrame(labeled_data)\n",
    "labeled_data_df.head(10)"
   ]
  },
  {
   "cell_type": "code",
   "execution_count": 43,
   "metadata": {},
   "outputs": [
    {
     "data": {
      "text/html": [
       "<div>\n",
       "<style scoped>\n",
       "    .dataframe tbody tr th:only-of-type {\n",
       "        vertical-align: middle;\n",
       "    }\n",
       "\n",
       "    .dataframe tbody tr th {\n",
       "        vertical-align: top;\n",
       "    }\n",
       "\n",
       "    .dataframe thead th {\n",
       "        text-align: right;\n",
       "    }\n",
       "</style>\n",
       "<table border=\"1\" class=\"dataframe\">\n",
       "  <thead>\n",
       "    <tr style=\"text-align: right;\">\n",
       "      <th></th>\n",
       "      <th>source</th>\n",
       "      <th>type</th>\n",
       "      <th>text</th>\n",
       "      <th>stance</th>\n",
       "    </tr>\n",
       "  </thead>\n",
       "  <tbody>\n",
       "    <tr>\n",
       "      <td>37264</td>\n",
       "      <td>10380</td>\n",
       "      <td>semeval_tweets</td>\n",
       "      <td>@4EvaMartino  Everyone should learn this recip...</td>\n",
       "      <td>agree</td>\n",
       "    </tr>\n",
       "    <tr>\n",
       "      <td>37265</td>\n",
       "      <td>10381</td>\n",
       "      <td>semeval_tweets</td>\n",
       "      <td>Rec high temp for this date in Charlotte is 10...</td>\n",
       "      <td>agree</td>\n",
       "    </tr>\n",
       "    <tr>\n",
       "      <td>37266</td>\n",
       "      <td>10382</td>\n",
       "      <td>semeval_tweets</td>\n",
       "      <td>Lot's of time, class over! @nationaljournal #S...</td>\n",
       "      <td>neutral</td>\n",
       "    </tr>\n",
       "    <tr>\n",
       "      <td>37267</td>\n",
       "      <td>10383</td>\n",
       "      <td>semeval_tweets</td>\n",
       "      <td>@TheLibertyEagle Oh for the love of Pete! I th...</td>\n",
       "      <td>neutral</td>\n",
       "    </tr>\n",
       "    <tr>\n",
       "      <td>37268</td>\n",
       "      <td>10384</td>\n",
       "      <td>semeval_tweets</td>\n",
       "      <td>If complaining about irrelevant problems were ...</td>\n",
       "      <td>neutral</td>\n",
       "    </tr>\n",
       "    <tr>\n",
       "      <td>37269</td>\n",
       "      <td>10385</td>\n",
       "      <td>semeval_tweets</td>\n",
       "      <td>@LiberalAus - \"All\" you folks #owe me an #offi...</td>\n",
       "      <td>neutral</td>\n",
       "    </tr>\n",
       "    <tr>\n",
       "      <td>37270</td>\n",
       "      <td>10386</td>\n",
       "      <td>semeval_tweets</td>\n",
       "      <td>Maybe we should start \"labelling every #produc...</td>\n",
       "      <td>agree</td>\n",
       "    </tr>\n",
       "    <tr>\n",
       "      <td>37271</td>\n",
       "      <td>10387</td>\n",
       "      <td>semeval_tweets</td>\n",
       "      <td>If we touch #Antarctica for one more #reason o...</td>\n",
       "      <td>agree</td>\n",
       "    </tr>\n",
       "    <tr>\n",
       "      <td>37272</td>\n",
       "      <td>10388</td>\n",
       "      <td>semeval_tweets</td>\n",
       "      <td>Wind power helped stabilize Texas' power grid ...</td>\n",
       "      <td>agree</td>\n",
       "    </tr>\n",
       "    <tr>\n",
       "      <td>37273</td>\n",
       "      <td>10389</td>\n",
       "      <td>semeval_tweets</td>\n",
       "      <td>It's so cold and windy here in Sydney, I just ...</td>\n",
       "      <td>agree</td>\n",
       "    </tr>\n",
       "  </tbody>\n",
       "</table>\n",
       "</div>"
      ],
      "text/plain": [
       "      source            type  \\\n",
       "37264  10380  semeval_tweets   \n",
       "37265  10381  semeval_tweets   \n",
       "37266  10382  semeval_tweets   \n",
       "37267  10383  semeval_tweets   \n",
       "37268  10384  semeval_tweets   \n",
       "37269  10385  semeval_tweets   \n",
       "37270  10386  semeval_tweets   \n",
       "37271  10387  semeval_tweets   \n",
       "37272  10388  semeval_tweets   \n",
       "37273  10389  semeval_tweets   \n",
       "\n",
       "                                                    text   stance  \n",
       "37264  @4EvaMartino  Everyone should learn this recip...    agree  \n",
       "37265  Rec high temp for this date in Charlotte is 10...    agree  \n",
       "37266  Lot's of time, class over! @nationaljournal #S...  neutral  \n",
       "37267  @TheLibertyEagle Oh for the love of Pete! I th...  neutral  \n",
       "37268  If complaining about irrelevant problems were ...  neutral  \n",
       "37269  @LiberalAus - \"All\" you folks #owe me an #offi...  neutral  \n",
       "37270  Maybe we should start \"labelling every #produc...    agree  \n",
       "37271  If we touch #Antarctica for one more #reason o...    agree  \n",
       "37272  Wind power helped stabilize Texas' power grid ...    agree  \n",
       "37273  It's so cold and windy here in Sydney, I just ...    agree  "
      ]
     },
     "execution_count": 43,
     "metadata": {},
     "output_type": "execute_result"
    }
   ],
   "source": [
    "labeled_data_df.tail(10)"
   ]
  },
  {
   "cell_type": "code",
   "execution_count": 46,
   "metadata": {
    "code_folding": [],
    "scrolled": true
   },
   "outputs": [
    {
     "name": "stderr",
     "output_type": "stream",
     "text": [
      "/anaconda3/lib/python3.7/site-packages/ipykernel_launcher.py:1: DeprecationWarning: 'U' mode is deprecated\n",
      "  \"\"\"Entry point for launching an IPython kernel.\n"
     ]
    }
   ],
   "source": [
    "stance_test = pd.read_csv(open(os.getcwd()+'/StanceDataset/test.csv','rU'),\n",
    "                          encoding='utf-8', engine='c')"
   ]
  },
  {
   "cell_type": "code",
   "execution_count": 47,
   "metadata": {},
   "outputs": [],
   "source": [
    "stance_test = stance_test[stance_test['Target'] == 'Climate Change is a Real Concern']"
   ]
  },
  {
   "cell_type": "code",
   "execution_count": 48,
   "metadata": {},
   "outputs": [
    {
     "data": {
      "text/html": [
       "<div>\n",
       "<style scoped>\n",
       "    .dataframe tbody tr th:only-of-type {\n",
       "        vertical-align: middle;\n",
       "    }\n",
       "\n",
       "    .dataframe tbody tr th {\n",
       "        vertical-align: top;\n",
       "    }\n",
       "\n",
       "    .dataframe thead th {\n",
       "        text-align: right;\n",
       "    }\n",
       "</style>\n",
       "<table border=\"1\" class=\"dataframe\">\n",
       "  <thead>\n",
       "    <tr style=\"text-align: right;\">\n",
       "      <th></th>\n",
       "      <th>Tweet</th>\n",
       "      <th>Target</th>\n",
       "      <th>Stance</th>\n",
       "      <th>Opinion Towards</th>\n",
       "      <th>Sentiment</th>\n",
       "    </tr>\n",
       "  </thead>\n",
       "  <tbody>\n",
       "    <tr>\n",
       "      <td>220</td>\n",
       "      <td>Closed door session begins. More after they de...</td>\n",
       "      <td>Climate Change is a Real Concern</td>\n",
       "      <td>NONE</td>\n",
       "      <td>3.  The tweet is not explicitly expressing opi...</td>\n",
       "      <td>other</td>\n",
       "    </tr>\n",
       "    <tr>\n",
       "      <td>221</td>\n",
       "      <td>What is the #energiewende agenda? Why are they...</td>\n",
       "      <td>Climate Change is a Real Concern</td>\n",
       "      <td>FAVOR</td>\n",
       "      <td>1.  The tweet explicitly expresses opinion abo...</td>\n",
       "      <td>neg</td>\n",
       "    </tr>\n",
       "    <tr>\n",
       "      <td>222</td>\n",
       "      <td>@climasphere Stocker: Fish catch potential cou...</td>\n",
       "      <td>Climate Change is a Real Concern</td>\n",
       "      <td>FAVOR</td>\n",
       "      <td>1.  The tweet explicitly expresses opinion abo...</td>\n",
       "      <td>neg</td>\n",
       "    </tr>\n",
       "    <tr>\n",
       "      <td>223</td>\n",
       "      <td>...a longer memory, and a sterner sense of jus...</td>\n",
       "      <td>Climate Change is a Real Concern</td>\n",
       "      <td>NONE</td>\n",
       "      <td>2. The tweet does NOT expresses opinion about ...</td>\n",
       "      <td>other</td>\n",
       "    </tr>\n",
       "    <tr>\n",
       "      <td>224</td>\n",
       "      <td>Boni \"Future Sea level rise will not be unifor...</td>\n",
       "      <td>Climate Change is a Real Concern</td>\n",
       "      <td>FAVOR</td>\n",
       "      <td>1.  The tweet explicitly expresses opinion abo...</td>\n",
       "      <td>other</td>\n",
       "    </tr>\n",
       "  </tbody>\n",
       "</table>\n",
       "</div>"
      ],
      "text/plain": [
       "                                                 Tweet  \\\n",
       "220  Closed door session begins. More after they de...   \n",
       "221  What is the #energiewende agenda? Why are they...   \n",
       "222  @climasphere Stocker: Fish catch potential cou...   \n",
       "223  ...a longer memory, and a sterner sense of jus...   \n",
       "224  Boni \"Future Sea level rise will not be unifor...   \n",
       "\n",
       "                               Target Stance  \\\n",
       "220  Climate Change is a Real Concern   NONE   \n",
       "221  Climate Change is a Real Concern  FAVOR   \n",
       "222  Climate Change is a Real Concern  FAVOR   \n",
       "223  Climate Change is a Real Concern   NONE   \n",
       "224  Climate Change is a Real Concern  FAVOR   \n",
       "\n",
       "                                       Opinion Towards Sentiment  \n",
       "220  3.  The tweet is not explicitly expressing opi...     other  \n",
       "221  1.  The tweet explicitly expresses opinion abo...       neg  \n",
       "222  1.  The tweet explicitly expresses opinion abo...       neg  \n",
       "223  2. The tweet does NOT expresses opinion about ...     other  \n",
       "224  1.  The tweet explicitly expresses opinion abo...     other  "
      ]
     },
     "execution_count": 48,
     "metadata": {},
     "output_type": "execute_result"
    }
   ],
   "source": [
    "stance_test.head()"
   ]
  },
  {
   "cell_type": "code",
   "execution_count": 60,
   "metadata": {},
   "outputs": [
    {
     "data": {
      "text/html": [
       "<div>\n",
       "<style scoped>\n",
       "    .dataframe tbody tr th:only-of-type {\n",
       "        vertical-align: middle;\n",
       "    }\n",
       "\n",
       "    .dataframe tbody tr th {\n",
       "        vertical-align: top;\n",
       "    }\n",
       "\n",
       "    .dataframe thead th {\n",
       "        text-align: right;\n",
       "    }\n",
       "</style>\n",
       "<table border=\"1\" class=\"dataframe\">\n",
       "  <thead>\n",
       "    <tr style=\"text-align: right;\">\n",
       "      <th></th>\n",
       "      <th>source</th>\n",
       "      <th>type</th>\n",
       "      <th>text</th>\n",
       "      <th>stance</th>\n",
       "    </tr>\n",
       "  </thead>\n",
       "  <tbody>\n",
       "    <tr>\n",
       "      <td>0</td>\n",
       "      <td>climate_change1.0-12174 [SEP] 0</td>\n",
       "      <td>dallas_news</td>\n",
       "      <td>It's about seeing the forest and the trees in ...</td>\n",
       "      <td>agree</td>\n",
       "    </tr>\n",
       "    <tr>\n",
       "      <td>1</td>\n",
       "      <td>climate_change1.0-12174 [SEP] 1</td>\n",
       "      <td>dallas_news</td>\n",
       "      <td>Two of his colleagues dangled on ropes 100 fee...</td>\n",
       "      <td>agree</td>\n",
       "    </tr>\n",
       "    <tr>\n",
       "      <td>2</td>\n",
       "      <td>climate_change1.0-12174 [SEP] 2</td>\n",
       "      <td>dallas_news</td>\n",
       "      <td>Steve Sillett could hardly contain his excitem...</td>\n",
       "      <td>agree</td>\n",
       "    </tr>\n",
       "    <tr>\n",
       "      <td>3</td>\n",
       "      <td>climate_change1.0-12174 [SEP] 3</td>\n",
       "      <td>dallas_news</td>\n",
       "      <td>\"This site is just juicy.</td>\n",
       "      <td>agree</td>\n",
       "    </tr>\n",
       "    <tr>\n",
       "      <td>4</td>\n",
       "      <td>climate_change1.0-12174 [SEP] 4</td>\n",
       "      <td>dallas_news</td>\n",
       "      <td>It's loaded,\" said Sillett, gazing up at the a...</td>\n",
       "      <td>agree</td>\n",
       "    </tr>\n",
       "    <tr>\n",
       "      <td>5</td>\n",
       "      <td>climate_change1.0-12174 [SEP] 5</td>\n",
       "      <td>dallas_news</td>\n",
       "      <td>\"There are amazing lichens up there.</td>\n",
       "      <td>agree</td>\n",
       "    </tr>\n",
       "    <tr>\n",
       "      <td>6</td>\n",
       "      <td>climate_change1.0-12174 [SEP] 6</td>\n",
       "      <td>dallas_news</td>\n",
       "      <td>There are aphids being hunted by ladybugs.</td>\n",
       "      <td>agree</td>\n",
       "    </tr>\n",
       "    <tr>\n",
       "      <td>7</td>\n",
       "      <td>climate_change1.0-12174 [SEP] 7</td>\n",
       "      <td>dallas_news</td>\n",
       "      <td>I found a sizable dogwood tree growing from a ...</td>\n",
       "      <td>agree</td>\n",
       "    </tr>\n",
       "    <tr>\n",
       "      <td>8</td>\n",
       "      <td>climate_change1.0-12174 [SEP] 8</td>\n",
       "      <td>dallas_news</td>\n",
       "      <td>The foggy, lost worlds atop the world's bigges...</td>\n",
       "      <td>agree</td>\n",
       "    </tr>\n",
       "    <tr>\n",
       "      <td>9</td>\n",
       "      <td>climate_change1.0-12174 [SEP] 9</td>\n",
       "      <td>dallas_news</td>\n",
       "      <td>Concerned that rising temperatures across Cali...</td>\n",
       "      <td>agree</td>\n",
       "    </tr>\n",
       "  </tbody>\n",
       "</table>\n",
       "</div>"
      ],
      "text/plain": [
       "                            source         type  \\\n",
       "0  climate_change1.0-12174 [SEP] 0  dallas_news   \n",
       "1  climate_change1.0-12174 [SEP] 1  dallas_news   \n",
       "2  climate_change1.0-12174 [SEP] 2  dallas_news   \n",
       "3  climate_change1.0-12174 [SEP] 3  dallas_news   \n",
       "4  climate_change1.0-12174 [SEP] 4  dallas_news   \n",
       "5  climate_change1.0-12174 [SEP] 5  dallas_news   \n",
       "6  climate_change1.0-12174 [SEP] 6  dallas_news   \n",
       "7  climate_change1.0-12174 [SEP] 7  dallas_news   \n",
       "8  climate_change1.0-12174 [SEP] 8  dallas_news   \n",
       "9  climate_change1.0-12174 [SEP] 9  dallas_news   \n",
       "\n",
       "                                                text stance  \n",
       "0  It's about seeing the forest and the trees in ...  agree  \n",
       "1  Two of his colleagues dangled on ropes 100 fee...  agree  \n",
       "2  Steve Sillett could hardly contain his excitem...  agree  \n",
       "3                          \"This site is just juicy.  agree  \n",
       "4  It's loaded,\" said Sillett, gazing up at the a...  agree  \n",
       "5               \"There are amazing lichens up there.  agree  \n",
       "6         There are aphids being hunted by ladybugs.  agree  \n",
       "7  I found a sizable dogwood tree growing from a ...  agree  \n",
       "8  The foggy, lost worlds atop the world's bigges...  agree  \n",
       "9  Concerned that rising temperatures across Cali...  agree  "
      ]
     },
     "execution_count": 60,
     "metadata": {},
     "output_type": "execute_result"
    }
   ],
   "source": [
    "labeled_data['source'].extend(list(stance_test.index))\n",
    "labeled_data['type'].extend(['semeval_test_tweets']*len(stance_test))\n",
    "labeled_data['text'].extend([stance_test.loc[l]['Tweet'] for l in stance_test.index])\n",
    "labeled_data['stance'].extend([tweetstance2label[stance_test.loc[l]['Stance']] \n",
    "                               for l in stance_test.index])\n",
    "labeled_data_df = pd.DataFrame(labeled_data)\n",
    "labeled_data_df.head(10)"
   ]
  },
  {
   "cell_type": "code",
   "execution_count": 61,
   "metadata": {},
   "outputs": [
    {
     "data": {
      "text/html": [
       "<div>\n",
       "<style scoped>\n",
       "    .dataframe tbody tr th:only-of-type {\n",
       "        vertical-align: middle;\n",
       "    }\n",
       "\n",
       "    .dataframe tbody tr th {\n",
       "        vertical-align: top;\n",
       "    }\n",
       "\n",
       "    .dataframe thead th {\n",
       "        text-align: right;\n",
       "    }\n",
       "</style>\n",
       "<table border=\"1\" class=\"dataframe\">\n",
       "  <thead>\n",
       "    <tr style=\"text-align: right;\">\n",
       "      <th></th>\n",
       "      <th>source</th>\n",
       "      <th>type</th>\n",
       "      <th>text</th>\n",
       "      <th>stance</th>\n",
       "    </tr>\n",
       "  </thead>\n",
       "  <tbody>\n",
       "    <tr>\n",
       "      <td>37433</td>\n",
       "      <td>379</td>\n",
       "      <td>semeval_test_tweets</td>\n",
       "      <td>@4EvaMartino  Everyone should learn this recip...</td>\n",
       "      <td>agree</td>\n",
       "    </tr>\n",
       "    <tr>\n",
       "      <td>37434</td>\n",
       "      <td>380</td>\n",
       "      <td>semeval_test_tweets</td>\n",
       "      <td>Rec high temp for this date in Charlotte is 10...</td>\n",
       "      <td>agree</td>\n",
       "    </tr>\n",
       "    <tr>\n",
       "      <td>37435</td>\n",
       "      <td>381</td>\n",
       "      <td>semeval_test_tweets</td>\n",
       "      <td>Lot's of time, class over! @nationaljournal #S...</td>\n",
       "      <td>neutral</td>\n",
       "    </tr>\n",
       "    <tr>\n",
       "      <td>37436</td>\n",
       "      <td>382</td>\n",
       "      <td>semeval_test_tweets</td>\n",
       "      <td>@TheLibertyEagle Oh for the love of Pete! I th...</td>\n",
       "      <td>neutral</td>\n",
       "    </tr>\n",
       "    <tr>\n",
       "      <td>37437</td>\n",
       "      <td>383</td>\n",
       "      <td>semeval_test_tweets</td>\n",
       "      <td>If complaining about irrelevant problems were ...</td>\n",
       "      <td>neutral</td>\n",
       "    </tr>\n",
       "    <tr>\n",
       "      <td>37438</td>\n",
       "      <td>384</td>\n",
       "      <td>semeval_test_tweets</td>\n",
       "      <td>@LiberalAus - \"All\" you folks #owe me an #offi...</td>\n",
       "      <td>neutral</td>\n",
       "    </tr>\n",
       "    <tr>\n",
       "      <td>37439</td>\n",
       "      <td>385</td>\n",
       "      <td>semeval_test_tweets</td>\n",
       "      <td>Maybe we should start \"labelling every #produc...</td>\n",
       "      <td>agree</td>\n",
       "    </tr>\n",
       "    <tr>\n",
       "      <td>37440</td>\n",
       "      <td>386</td>\n",
       "      <td>semeval_test_tweets</td>\n",
       "      <td>If we touch #Antarctica for one more #reason o...</td>\n",
       "      <td>agree</td>\n",
       "    </tr>\n",
       "    <tr>\n",
       "      <td>37441</td>\n",
       "      <td>387</td>\n",
       "      <td>semeval_test_tweets</td>\n",
       "      <td>Wind power helped stabilize Texas' power grid ...</td>\n",
       "      <td>agree</td>\n",
       "    </tr>\n",
       "    <tr>\n",
       "      <td>37442</td>\n",
       "      <td>388</td>\n",
       "      <td>semeval_test_tweets</td>\n",
       "      <td>It's so cold and windy here in Sydney, I just ...</td>\n",
       "      <td>agree</td>\n",
       "    </tr>\n",
       "  </tbody>\n",
       "</table>\n",
       "</div>"
      ],
      "text/plain": [
       "      source                 type  \\\n",
       "37433    379  semeval_test_tweets   \n",
       "37434    380  semeval_test_tweets   \n",
       "37435    381  semeval_test_tweets   \n",
       "37436    382  semeval_test_tweets   \n",
       "37437    383  semeval_test_tweets   \n",
       "37438    384  semeval_test_tweets   \n",
       "37439    385  semeval_test_tweets   \n",
       "37440    386  semeval_test_tweets   \n",
       "37441    387  semeval_test_tweets   \n",
       "37442    388  semeval_test_tweets   \n",
       "\n",
       "                                                    text   stance  \n",
       "37433  @4EvaMartino  Everyone should learn this recip...    agree  \n",
       "37434  Rec high temp for this date in Charlotte is 10...    agree  \n",
       "37435  Lot's of time, class over! @nationaljournal #S...  neutral  \n",
       "37436  @TheLibertyEagle Oh for the love of Pete! I th...  neutral  \n",
       "37437  If complaining about irrelevant problems were ...  neutral  \n",
       "37438  @LiberalAus - \"All\" you folks #owe me an #offi...  neutral  \n",
       "37439  Maybe we should start \"labelling every #produc...    agree  \n",
       "37440  If we touch #Antarctica for one more #reason o...    agree  \n",
       "37441  Wind power helped stabilize Texas' power grid ...    agree  \n",
       "37442  It's so cold and windy here in Sydney, I just ...    agree  "
      ]
     },
     "execution_count": 61,
     "metadata": {},
     "output_type": "execute_result"
    }
   ],
   "source": [
    "labeled_data_df.tail(10)"
   ]
  },
  {
   "cell_type": "code",
   "execution_count": 62,
   "metadata": {},
   "outputs": [
    {
     "name": "stderr",
     "output_type": "stream",
     "text": [
      "/anaconda3/lib/python3.7/site-packages/ipykernel_launcher.py:1: DeprecationWarning: 'U' mode is deprecated\n",
      "  \"\"\"Entry point for launching an IPython kernel.\n"
     ]
    }
   ],
   "source": [
    "stance_train = pd.read_csv(open(os.getcwd()+'/StanceDataset/train.csv','rU'),\n",
    "                          encoding='utf-8', engine='c')"
   ]
  },
  {
   "cell_type": "code",
   "execution_count": 63,
   "metadata": {
    "scrolled": true
   },
   "outputs": [],
   "source": [
    "stance_train = stance_train[stance_train['Target'] == 'Climate Change is a Real Concern']"
   ]
  },
  {
   "cell_type": "code",
   "execution_count": 64,
   "metadata": {},
   "outputs": [
    {
     "data": {
      "text/html": [
       "<div>\n",
       "<style scoped>\n",
       "    .dataframe tbody tr th:only-of-type {\n",
       "        vertical-align: middle;\n",
       "    }\n",
       "\n",
       "    .dataframe tbody tr th {\n",
       "        vertical-align: top;\n",
       "    }\n",
       "\n",
       "    .dataframe thead th {\n",
       "        text-align: right;\n",
       "    }\n",
       "</style>\n",
       "<table border=\"1\" class=\"dataframe\">\n",
       "  <thead>\n",
       "    <tr style=\"text-align: right;\">\n",
       "      <th></th>\n",
       "      <th>Tweet</th>\n",
       "      <th>Target</th>\n",
       "      <th>Stance</th>\n",
       "      <th>Opinion Towards</th>\n",
       "      <th>Sentiment</th>\n",
       "    </tr>\n",
       "  </thead>\n",
       "  <tbody>\n",
       "    <tr>\n",
       "      <td>613</td>\n",
       "      <td>We cant deny it, its really happening.  #SemST</td>\n",
       "      <td>Climate Change is a Real Concern</td>\n",
       "      <td>FAVOR</td>\n",
       "      <td>1.  The tweet explicitly expresses opinion abo...</td>\n",
       "      <td>other</td>\n",
       "    </tr>\n",
       "    <tr>\n",
       "      <td>614</td>\n",
       "      <td>RT @cderworiz: Timelines are short. Strategy m...</td>\n",
       "      <td>Climate Change is a Real Concern</td>\n",
       "      <td>FAVOR</td>\n",
       "      <td>1.  The tweet explicitly expresses opinion abo...</td>\n",
       "      <td>pos</td>\n",
       "    </tr>\n",
       "    <tr>\n",
       "      <td>615</td>\n",
       "      <td>SO EXCITING! Meaningful climate change action ...</td>\n",
       "      <td>Climate Change is a Real Concern</td>\n",
       "      <td>FAVOR</td>\n",
       "      <td>1.  The tweet explicitly expresses opinion abo...</td>\n",
       "      <td>pos</td>\n",
       "    </tr>\n",
       "    <tr>\n",
       "      <td>616</td>\n",
       "      <td>Delivering good jobs for Albertans, maintainin...</td>\n",
       "      <td>Climate Change is a Real Concern</td>\n",
       "      <td>FAVOR</td>\n",
       "      <td>1.  The tweet explicitly expresses opinion abo...</td>\n",
       "      <td>pos</td>\n",
       "    </tr>\n",
       "    <tr>\n",
       "      <td>617</td>\n",
       "      <td>@davidswann says he wants carbon fund to be sp...</td>\n",
       "      <td>Climate Change is a Real Concern</td>\n",
       "      <td>FAVOR</td>\n",
       "      <td>3.  The tweet is not explicitly expressing opi...</td>\n",
       "      <td>other</td>\n",
       "    </tr>\n",
       "  </tbody>\n",
       "</table>\n",
       "</div>"
      ],
      "text/plain": [
       "                                                 Tweet  \\\n",
       "613     We cant deny it, its really happening.  #SemST   \n",
       "614  RT @cderworiz: Timelines are short. Strategy m...   \n",
       "615  SO EXCITING! Meaningful climate change action ...   \n",
       "616  Delivering good jobs for Albertans, maintainin...   \n",
       "617  @davidswann says he wants carbon fund to be sp...   \n",
       "\n",
       "                               Target Stance  \\\n",
       "613  Climate Change is a Real Concern  FAVOR   \n",
       "614  Climate Change is a Real Concern  FAVOR   \n",
       "615  Climate Change is a Real Concern  FAVOR   \n",
       "616  Climate Change is a Real Concern  FAVOR   \n",
       "617  Climate Change is a Real Concern  FAVOR   \n",
       "\n",
       "                                       Opinion Towards Sentiment  \n",
       "613  1.  The tweet explicitly expresses opinion abo...     other  \n",
       "614  1.  The tweet explicitly expresses opinion abo...       pos  \n",
       "615  1.  The tweet explicitly expresses opinion abo...       pos  \n",
       "616  1.  The tweet explicitly expresses opinion abo...       pos  \n",
       "617  3.  The tweet is not explicitly expressing opi...     other  "
      ]
     },
     "execution_count": 64,
     "metadata": {},
     "output_type": "execute_result"
    }
   ],
   "source": [
    "stance_train.head()"
   ]
  },
  {
   "cell_type": "code",
   "execution_count": 65,
   "metadata": {},
   "outputs": [
    {
     "data": {
      "text/html": [
       "<div>\n",
       "<style scoped>\n",
       "    .dataframe tbody tr th:only-of-type {\n",
       "        vertical-align: middle;\n",
       "    }\n",
       "\n",
       "    .dataframe tbody tr th {\n",
       "        vertical-align: top;\n",
       "    }\n",
       "\n",
       "    .dataframe thead th {\n",
       "        text-align: right;\n",
       "    }\n",
       "</style>\n",
       "<table border=\"1\" class=\"dataframe\">\n",
       "  <thead>\n",
       "    <tr style=\"text-align: right;\">\n",
       "      <th></th>\n",
       "      <th>source</th>\n",
       "      <th>type</th>\n",
       "      <th>text</th>\n",
       "      <th>stance</th>\n",
       "    </tr>\n",
       "  </thead>\n",
       "  <tbody>\n",
       "    <tr>\n",
       "      <td>0</td>\n",
       "      <td>climate_change1.0-12174 [SEP] 0</td>\n",
       "      <td>dallas_news</td>\n",
       "      <td>It's about seeing the forest and the trees in ...</td>\n",
       "      <td>agree</td>\n",
       "    </tr>\n",
       "    <tr>\n",
       "      <td>1</td>\n",
       "      <td>climate_change1.0-12174 [SEP] 1</td>\n",
       "      <td>dallas_news</td>\n",
       "      <td>Two of his colleagues dangled on ropes 100 fee...</td>\n",
       "      <td>agree</td>\n",
       "    </tr>\n",
       "    <tr>\n",
       "      <td>2</td>\n",
       "      <td>climate_change1.0-12174 [SEP] 2</td>\n",
       "      <td>dallas_news</td>\n",
       "      <td>Steve Sillett could hardly contain his excitem...</td>\n",
       "      <td>agree</td>\n",
       "    </tr>\n",
       "    <tr>\n",
       "      <td>3</td>\n",
       "      <td>climate_change1.0-12174 [SEP] 3</td>\n",
       "      <td>dallas_news</td>\n",
       "      <td>\"This site is just juicy.</td>\n",
       "      <td>agree</td>\n",
       "    </tr>\n",
       "    <tr>\n",
       "      <td>4</td>\n",
       "      <td>climate_change1.0-12174 [SEP] 4</td>\n",
       "      <td>dallas_news</td>\n",
       "      <td>It's loaded,\" said Sillett, gazing up at the a...</td>\n",
       "      <td>agree</td>\n",
       "    </tr>\n",
       "    <tr>\n",
       "      <td>5</td>\n",
       "      <td>climate_change1.0-12174 [SEP] 5</td>\n",
       "      <td>dallas_news</td>\n",
       "      <td>\"There are amazing lichens up there.</td>\n",
       "      <td>agree</td>\n",
       "    </tr>\n",
       "    <tr>\n",
       "      <td>6</td>\n",
       "      <td>climate_change1.0-12174 [SEP] 6</td>\n",
       "      <td>dallas_news</td>\n",
       "      <td>There are aphids being hunted by ladybugs.</td>\n",
       "      <td>agree</td>\n",
       "    </tr>\n",
       "    <tr>\n",
       "      <td>7</td>\n",
       "      <td>climate_change1.0-12174 [SEP] 7</td>\n",
       "      <td>dallas_news</td>\n",
       "      <td>I found a sizable dogwood tree growing from a ...</td>\n",
       "      <td>agree</td>\n",
       "    </tr>\n",
       "    <tr>\n",
       "      <td>8</td>\n",
       "      <td>climate_change1.0-12174 [SEP] 8</td>\n",
       "      <td>dallas_news</td>\n",
       "      <td>The foggy, lost worlds atop the world's bigges...</td>\n",
       "      <td>agree</td>\n",
       "    </tr>\n",
       "    <tr>\n",
       "      <td>9</td>\n",
       "      <td>climate_change1.0-12174 [SEP] 9</td>\n",
       "      <td>dallas_news</td>\n",
       "      <td>Concerned that rising temperatures across Cali...</td>\n",
       "      <td>agree</td>\n",
       "    </tr>\n",
       "  </tbody>\n",
       "</table>\n",
       "</div>"
      ],
      "text/plain": [
       "                            source         type  \\\n",
       "0  climate_change1.0-12174 [SEP] 0  dallas_news   \n",
       "1  climate_change1.0-12174 [SEP] 1  dallas_news   \n",
       "2  climate_change1.0-12174 [SEP] 2  dallas_news   \n",
       "3  climate_change1.0-12174 [SEP] 3  dallas_news   \n",
       "4  climate_change1.0-12174 [SEP] 4  dallas_news   \n",
       "5  climate_change1.0-12174 [SEP] 5  dallas_news   \n",
       "6  climate_change1.0-12174 [SEP] 6  dallas_news   \n",
       "7  climate_change1.0-12174 [SEP] 7  dallas_news   \n",
       "8  climate_change1.0-12174 [SEP] 8  dallas_news   \n",
       "9  climate_change1.0-12174 [SEP] 9  dallas_news   \n",
       "\n",
       "                                                text stance  \n",
       "0  It's about seeing the forest and the trees in ...  agree  \n",
       "1  Two of his colleagues dangled on ropes 100 fee...  agree  \n",
       "2  Steve Sillett could hardly contain his excitem...  agree  \n",
       "3                          \"This site is just juicy.  agree  \n",
       "4  It's loaded,\" said Sillett, gazing up at the a...  agree  \n",
       "5               \"There are amazing lichens up there.  agree  \n",
       "6         There are aphids being hunted by ladybugs.  agree  \n",
       "7  I found a sizable dogwood tree growing from a ...  agree  \n",
       "8  The foggy, lost worlds atop the world's bigges...  agree  \n",
       "9  Concerned that rising temperatures across Cali...  agree  "
      ]
     },
     "execution_count": 65,
     "metadata": {},
     "output_type": "execute_result"
    }
   ],
   "source": [
    "labeled_data['source'].extend(list(stance_train.index))\n",
    "labeled_data['type'].extend(['semeval_train_tweets']*len(stance_train))\n",
    "labeled_data['text'].extend([stance_train.loc[l]['Tweet'] for l in stance_train.index])\n",
    "labeled_data['stance'].extend([tweetstance2label[stance_train.loc[l]['Stance']] \n",
    "                               for l in stance_train.index])\n",
    "labeled_data_df = pd.DataFrame(labeled_data)\n",
    "labeled_data_df.head(10)"
   ]
  },
  {
   "cell_type": "code",
   "execution_count": 66,
   "metadata": {},
   "outputs": [
    {
     "data": {
      "text/html": [
       "<div>\n",
       "<style scoped>\n",
       "    .dataframe tbody tr th:only-of-type {\n",
       "        vertical-align: middle;\n",
       "    }\n",
       "\n",
       "    .dataframe tbody tr th {\n",
       "        vertical-align: top;\n",
       "    }\n",
       "\n",
       "    .dataframe thead th {\n",
       "        text-align: right;\n",
       "    }\n",
       "</style>\n",
       "<table border=\"1\" class=\"dataframe\">\n",
       "  <thead>\n",
       "    <tr style=\"text-align: right;\">\n",
       "      <th></th>\n",
       "      <th>source</th>\n",
       "      <th>type</th>\n",
       "      <th>text</th>\n",
       "      <th>stance</th>\n",
       "    </tr>\n",
       "  </thead>\n",
       "  <tbody>\n",
       "    <tr>\n",
       "      <td>37828</td>\n",
       "      <td>998</td>\n",
       "      <td>semeval_train_tweets</td>\n",
       "      <td>11% reduction is this a joke? Our govt seems t...</td>\n",
       "      <td>neutral</td>\n",
       "    </tr>\n",
       "    <tr>\n",
       "      <td>37829</td>\n",
       "      <td>999</td>\n",
       "      <td>semeval_train_tweets</td>\n",
       "      <td>until newyork london frankfurt knee deep in se...</td>\n",
       "      <td>agree</td>\n",
       "    </tr>\n",
       "    <tr>\n",
       "      <td>37830</td>\n",
       "      <td>1000</td>\n",
       "      <td>semeval_train_tweets</td>\n",
       "      <td>.@ClimatParis2015, the climate science forum b...</td>\n",
       "      <td>agree</td>\n",
       "    </tr>\n",
       "    <tr>\n",
       "      <td>37831</td>\n",
       "      <td>1001</td>\n",
       "      <td>semeval_train_tweets</td>\n",
       "      <td>We need integrated #science with #indigenous k...</td>\n",
       "      <td>agree</td>\n",
       "    </tr>\n",
       "    <tr>\n",
       "      <td>37832</td>\n",
       "      <td>1002</td>\n",
       "      <td>semeval_train_tweets</td>\n",
       "      <td>.@whelan60 \"While this debate goes on, yet mor...</td>\n",
       "      <td>neutral</td>\n",
       "    </tr>\n",
       "    <tr>\n",
       "      <td>37833</td>\n",
       "      <td>1003</td>\n",
       "      <td>semeval_train_tweets</td>\n",
       "      <td>If sea levels get any higher flooding in lowla...</td>\n",
       "      <td>agree</td>\n",
       "    </tr>\n",
       "    <tr>\n",
       "      <td>37834</td>\n",
       "      <td>1004</td>\n",
       "      <td>semeval_train_tweets</td>\n",
       "      <td>If we don't do anything we will be the sad gen...</td>\n",
       "      <td>agree</td>\n",
       "    </tr>\n",
       "    <tr>\n",
       "      <td>37835</td>\n",
       "      <td>1005</td>\n",
       "      <td>semeval_train_tweets</td>\n",
       "      <td>Vallaud-Belkacem: Are we the generation who kn...</td>\n",
       "      <td>agree</td>\n",
       "    </tr>\n",
       "    <tr>\n",
       "      <td>37836</td>\n",
       "      <td>1006</td>\n",
       "      <td>semeval_train_tweets</td>\n",
       "      <td>If we do not act, we will be the generation wh...</td>\n",
       "      <td>agree</td>\n",
       "    </tr>\n",
       "    <tr>\n",
       "      <td>37837</td>\n",
       "      <td>1007</td>\n",
       "      <td>semeval_train_tweets</td>\n",
       "      <td>The carbon clock is ticking @CarbonBubble #Sur...</td>\n",
       "      <td>agree</td>\n",
       "    </tr>\n",
       "  </tbody>\n",
       "</table>\n",
       "</div>"
      ],
      "text/plain": [
       "      source                  type  \\\n",
       "37828    998  semeval_train_tweets   \n",
       "37829    999  semeval_train_tweets   \n",
       "37830   1000  semeval_train_tweets   \n",
       "37831   1001  semeval_train_tweets   \n",
       "37832   1002  semeval_train_tweets   \n",
       "37833   1003  semeval_train_tweets   \n",
       "37834   1004  semeval_train_tweets   \n",
       "37835   1005  semeval_train_tweets   \n",
       "37836   1006  semeval_train_tweets   \n",
       "37837   1007  semeval_train_tweets   \n",
       "\n",
       "                                                    text   stance  \n",
       "37828  11% reduction is this a joke? Our govt seems t...  neutral  \n",
       "37829  until newyork london frankfurt knee deep in se...    agree  \n",
       "37830  .@ClimatParis2015, the climate science forum b...    agree  \n",
       "37831  We need integrated #science with #indigenous k...    agree  \n",
       "37832  .@whelan60 \"While this debate goes on, yet mor...  neutral  \n",
       "37833  If sea levels get any higher flooding in lowla...    agree  \n",
       "37834  If we don't do anything we will be the sad gen...    agree  \n",
       "37835  Vallaud-Belkacem: Are we the generation who kn...    agree  \n",
       "37836  If we do not act, we will be the generation wh...    agree  \n",
       "37837  The carbon clock is ticking @CarbonBubble #Sur...    agree  "
      ]
     },
     "execution_count": 66,
     "metadata": {},
     "output_type": "execute_result"
    }
   ],
   "source": [
    "labeled_data_df.tail(10)"
   ]
  },
  {
   "cell_type": "markdown",
   "metadata": {},
   "source": [
    "# Dallas and Yiwei manually annotated news--not yet added"
   ]
  },
  {
   "cell_type": "code",
   "execution_count": 69,
   "metadata": {
    "scrolled": true
   },
   "outputs": [],
   "source": [
    "dallas_labels = []\n",
    "with open('subsample_annotated_dbc.jsonlist') as f:\n",
    "    for line in f:\n",
    "        dallas_labels.append(json.loads(line))"
   ]
  },
  {
   "cell_type": "code",
   "execution_count": 70,
   "metadata": {},
   "outputs": [
    {
     "data": {
      "text/plain": [
       "300"
      ]
     },
     "execution_count": 70,
     "metadata": {},
     "output_type": "execute_result"
    }
   ],
   "source": [
    "len(dallas_labels)"
   ]
  },
  {
   "cell_type": "code",
   "execution_count": 71,
   "metadata": {},
   "outputs": [
    {
     "data": {
      "text/plain": [
       "{'comp_clause': 'that the global warming debate is just like the tobacco wars of the past four decades',\n",
       " 'full': 'Reading \"an early draft\" of a federal government report has helped David Ignatius see that the global warming debate is just like the tobacco wars of the past four decades [\"Naysay Now, Pay Later,\" op-ed, Aug. 18].',\n",
       " 'key': 19565,\n",
       " 'label': 2}"
      ]
     },
     "execution_count": 71,
     "metadata": {},
     "output_type": "execute_result"
    }
   ],
   "source": [
    "dallas_labels[0]"
   ]
  },
  {
   "cell_type": "code",
   "execution_count": 74,
   "metadata": {},
   "outputs": [],
   "source": [
    "yiwei_labels = pd.read_csv('subsample_annotated_yiwei.csv',header=None)"
   ]
  },
  {
   "cell_type": "code",
   "execution_count": 75,
   "metadata": {},
   "outputs": [
    {
     "data": {
      "text/html": [
       "<div>\n",
       "<style scoped>\n",
       "    .dataframe tbody tr th:only-of-type {\n",
       "        vertical-align: middle;\n",
       "    }\n",
       "\n",
       "    .dataframe tbody tr th {\n",
       "        vertical-align: top;\n",
       "    }\n",
       "\n",
       "    .dataframe thead th {\n",
       "        text-align: right;\n",
       "    }\n",
       "</style>\n",
       "<table border=\"1\" class=\"dataframe\">\n",
       "  <thead>\n",
       "    <tr style=\"text-align: right;\">\n",
       "      <th></th>\n",
       "      <th>0</th>\n",
       "      <th>1</th>\n",
       "      <th>2</th>\n",
       "      <th>3</th>\n",
       "    </tr>\n",
       "  </thead>\n",
       "  <tbody>\n",
       "    <tr>\n",
       "      <td>0</td>\n",
       "      <td>19565</td>\n",
       "      <td>Reading \"an early draft\" of a federal governme...</td>\n",
       "      <td>that the global warming debate is just like th...</td>\n",
       "      <td>1</td>\n",
       "    </tr>\n",
       "    <tr>\n",
       "      <td>1</td>\n",
       "      <td>92670</td>\n",
       "      <td>We haven’t seen that in the observations,” Myl...</td>\n",
       "      <td>that in the observations , ” Myles Allen , pro...</td>\n",
       "      <td>2</td>\n",
       "    </tr>\n",
       "    <tr>\n",
       "      <td>2</td>\n",
       "      <td>152040</td>\n",
       "      <td>Describing it as a rare hybrid “superstorm,” f...</td>\n",
       "      <td>Sandy was created by an Arctic jet stream wrap...</td>\n",
       "      <td>2</td>\n",
       "    </tr>\n",
       "    <tr>\n",
       "      <td>3</td>\n",
       "      <td>191315</td>\n",
       "      <td>JEFFERSON CITY o Ameren Missouri says it must ...</td>\n",
       "      <td>it must decide quickly on how to comply with p...</td>\n",
       "      <td>2</td>\n",
       "    </tr>\n",
       "    <tr>\n",
       "      <td>4</td>\n",
       "      <td>250921</td>\n",
       "      <td>There was this exposé in the Times where you f...</td>\n",
       "      <td>what was happening under the Bush administrati...</td>\n",
       "      <td>3</td>\n",
       "    </tr>\n",
       "  </tbody>\n",
       "</table>\n",
       "</div>"
      ],
      "text/plain": [
       "        0                                                  1  \\\n",
       "0   19565  Reading \"an early draft\" of a federal governme...   \n",
       "1   92670  We haven’t seen that in the observations,” Myl...   \n",
       "2  152040  Describing it as a rare hybrid “superstorm,” f...   \n",
       "3  191315  JEFFERSON CITY o Ameren Missouri says it must ...   \n",
       "4  250921  There was this exposé in the Times where you f...   \n",
       "\n",
       "                                                   2  3  \n",
       "0  that the global warming debate is just like th...  1  \n",
       "1  that in the observations , ” Myles Allen , pro...  2  \n",
       "2  Sandy was created by an Arctic jet stream wrap...  2  \n",
       "3  it must decide quickly on how to comply with p...  2  \n",
       "4  what was happening under the Bush administrati...  3  "
      ]
     },
     "execution_count": 75,
     "metadata": {},
     "output_type": "execute_result"
    }
   ],
   "source": [
    "yiwei_labels.head()"
   ]
  },
  {
   "cell_type": "code",
   "execution_count": 75,
   "metadata": {},
   "outputs": [],
   "source": [
    "anti_test_data = []\n",
    "pro_test_data = []\n",
    "with open(os.getcwd()+'/test_data/anti-cc/test_data.txt') as f:\n",
    "    for line in f:\n",
    "        anti_test_data.append(line.split('\\t'))\n",
    "with open(os.getcwd()+'/test_data/pro-cc/test_data.txt') as f:\n",
    "    for line in f:\n",
    "        pro_test_data.append(line.split('\\t'))"
   ]
  },
  {
   "cell_type": "code",
   "execution_count": 76,
   "metadata": {},
   "outputs": [
    {
     "data": {
      "text/plain": [
       "92804"
      ]
     },
     "execution_count": 76,
     "metadata": {},
     "output_type": "execute_result"
    }
   ],
   "source": [
    "len(anti_test_data)"
   ]
  },
  {
   "cell_type": "code",
   "execution_count": 77,
   "metadata": {},
   "outputs": [
    {
     "data": {
      "text/plain": [
       "['We ’re also doing some avian and marine mammal monitoring',\n",
       " '',\n",
       " 'sent_no_29 of https://www.csmonitor.com/Environment/2010/1012/Will-Google-wind-power-project-harm-wildlife-Depends-on-location.',\n",
       " '',\n",
       " '“We’re also doing some avian and marine mammal monitoring,” says Rhonda Jackson, a spokesman for Fishermen’s Energy.\\n']"
      ]
     },
     "execution_count": 77,
     "metadata": {},
     "output_type": "execute_result"
    }
   ],
   "source": [
    "anti_test_data[0]"
   ]
  },
  {
   "cell_type": "code",
   "execution_count": 78,
   "metadata": {},
   "outputs": [
    {
     "data": {
      "text/plain": [
       "581383"
      ]
     },
     "execution_count": 78,
     "metadata": {},
     "output_type": "execute_result"
    }
   ],
   "source": [
    "len(pro_test_data)"
   ]
  },
  {
   "cell_type": "code",
   "execution_count": 81,
   "metadata": {},
   "outputs": [
    {
     "data": {
      "text/plain": [
       "Counter({5: 286327,\n",
       "         1: 290241,\n",
       "         17: 2316,\n",
       "         6: 113,\n",
       "         7: 59,\n",
       "         9: 34,\n",
       "         29: 2,\n",
       "         14: 27,\n",
       "         11: 33,\n",
       "         8: 12,\n",
       "         15: 1,\n",
       "         53: 353,\n",
       "         273: 56,\n",
       "         292: 1,\n",
       "         111: 91,\n",
       "         106: 464,\n",
       "         138: 459,\n",
       "         271: 165,\n",
       "         103: 209,\n",
       "         145: 1,\n",
       "         107: 12,\n",
       "         60: 5,\n",
       "         75: 11,\n",
       "         54: 7,\n",
       "         68: 6,\n",
       "         132: 2,\n",
       "         94: 2,\n",
       "         128: 5,\n",
       "         348: 17,\n",
       "         95: 1,\n",
       "         57: 1,\n",
       "         283: 1,\n",
       "         71: 11,\n",
       "         354: 13,\n",
       "         360: 1,\n",
       "         380: 2,\n",
       "         401: 1,\n",
       "         74: 1,\n",
       "         129: 2,\n",
       "         69: 17,\n",
       "         369: 2,\n",
       "         414: 1,\n",
       "         70: 4,\n",
       "         77: 2,\n",
       "         318: 4,\n",
       "         117: 14,\n",
       "         91: 7,\n",
       "         139: 5,\n",
       "         121: 8,\n",
       "         130: 3,\n",
       "         358: 5,\n",
       "         362: 2,\n",
       "         287: 1,\n",
       "         169: 7,\n",
       "         186: 4,\n",
       "         203: 4,\n",
       "         277: 6,\n",
       "         382: 5,\n",
       "         279: 2,\n",
       "         90: 8,\n",
       "         109: 53,\n",
       "         141: 1,\n",
       "         113: 3,\n",
       "         119: 11,\n",
       "         359: 1,\n",
       "         387: 1,\n",
       "         115: 4,\n",
       "         386: 2,\n",
       "         403: 1,\n",
       "         420: 1,\n",
       "         375: 3,\n",
       "         2: 32,\n",
       "         19: 8,\n",
       "         86: 6,\n",
       "         285: 1,\n",
       "         162: 1,\n",
       "         361: 4,\n",
       "         377: 1,\n",
       "         352: 1,\n",
       "         18: 1,\n",
       "         72: 1,\n",
       "         89: 1,\n",
       "         390: 1,\n",
       "         429: 1,\n",
       "         124: 3,\n",
       "         159: 1,\n",
       "         341: 2,\n",
       "         371: 1,\n",
       "         152: 4,\n",
       "         96: 2,\n",
       "         87: 4,\n",
       "         135: 4,\n",
       "         143: 2,\n",
       "         160: 1,\n",
       "         73: 9,\n",
       "         320: 1,\n",
       "         122: 2,\n",
       "         311: 2,\n",
       "         101: 1,\n",
       "         158: 1,\n",
       "         120: 2,\n",
       "         46: 1,\n",
       "         147: 1,\n",
       "         356: 2,\n",
       "         136: 4,\n",
       "         64: 1,\n",
       "         98: 2,\n",
       "         127: 1,\n",
       "         290: 1,\n",
       "         407: 1,\n",
       "         366: 1,\n",
       "         383: 1,\n",
       "         114: 1,\n",
       "         353: 1,\n",
       "         112: 1,\n",
       "         373: 1,\n",
       "         92: 1,\n",
       "         155: 1,\n",
       "         370: 1,\n",
       "         374: 1,\n",
       "         395: 1})"
      ]
     },
     "execution_count": 81,
     "metadata": {},
     "output_type": "execute_result"
    }
   ],
   "source": [
    "Counter([len(d) for d in pro_test_data])"
   ]
  },
  {
   "cell_type": "markdown",
   "metadata": {},
   "source": [
    "# Yiwei unlabeled news"
   ]
  },
  {
   "cell_type": "code",
   "execution_count": 98,
   "metadata": {},
   "outputs": [],
   "source": [
    "all_url_df = pd.read_pickle('/Users/yiweiluo/Dropbox/research/\\\n",
    "QP2/code/Fox_and_friends/all_urls_meta_and_fulltext_df_2020.pkl')"
   ]
  },
  {
   "cell_type": "code",
   "execution_count": 99,
   "metadata": {},
   "outputs": [
    {
     "name": "stderr",
     "output_type": "stream",
     "text": [
      "/anaconda3/lib/python3.7/site-packages/ipykernel_launcher.py:1: UserWarning: Boolean Series key will be reindexed to match DataFrame index.\n",
      "  \"\"\"Entry point for launching an IPython kernel.\n"
     ]
    }
   ],
   "source": [
    "cc_all_url_df = all_url_df[all_url_df['topic'] == 'cc'][all_url_df['bad NYT'] == False]"
   ]
  },
  {
   "cell_type": "code",
   "execution_count": 100,
   "metadata": {},
   "outputs": [
    {
     "data": {
      "text/html": [
       "<div>\n",
       "<style scoped>\n",
       "    .dataframe tbody tr th:only-of-type {\n",
       "        vertical-align: middle;\n",
       "    }\n",
       "\n",
       "    .dataframe tbody tr th {\n",
       "        vertical-align: top;\n",
       "    }\n",
       "\n",
       "    .dataframe thead th {\n",
       "        text-align: right;\n",
       "    }\n",
       "</style>\n",
       "<table border=\"1\" class=\"dataframe\">\n",
       "  <thead>\n",
       "    <tr style=\"text-align: right;\">\n",
       "      <th></th>\n",
       "      <th>bad NYT</th>\n",
       "      <th>date</th>\n",
       "      <th>domain</th>\n",
       "      <th>fulltext</th>\n",
       "      <th>stance</th>\n",
       "      <th>title</th>\n",
       "      <th>topic</th>\n",
       "      <th>url</th>\n",
       "    </tr>\n",
       "  </thead>\n",
       "  <tbody>\n",
       "    <tr>\n",
       "      <td>1600</td>\n",
       "      <td>False</td>\n",
       "      <td>None</td>\n",
       "      <td>:///</td>\n",
       "      <td>If you can't sleep as much as you need durin...</td>\n",
       "      <td>anti</td>\n",
       "      <td>None</td>\n",
       "      <td>cc</td>\n",
       "      <td>foxnews.com/lifestyle/climate-change-might-be-...</td>\n",
       "    </tr>\n",
       "    <tr>\n",
       "      <td>1601</td>\n",
       "      <td>False</td>\n",
       "      <td>None</td>\n",
       "      <td>:///</td>\n",
       "      <td>Paper says draft document by scientists direct...</td>\n",
       "      <td>anti</td>\n",
       "      <td>None</td>\n",
       "      <td>cc</td>\n",
       "      <td>foxnews.com/opinion/climate-policy-get-ready-f...</td>\n",
       "    </tr>\n",
       "    <tr>\n",
       "      <td>1602</td>\n",
       "      <td>False</td>\n",
       "      <td>None</td>\n",
       "      <td>:///</td>\n",
       "      <td>The public's concern about global warming has ...</td>\n",
       "      <td>anti</td>\n",
       "      <td>None</td>\n",
       "      <td>cc</td>\n",
       "      <td>foxnews.com/opinion/physicist-dont-fall-for-th...</td>\n",
       "    </tr>\n",
       "    <tr>\n",
       "      <td>1603</td>\n",
       "      <td>False</td>\n",
       "      <td>None</td>\n",
       "      <td>:///</td>\n",
       "      <td>The federal report by dozens of U.S. governmen...</td>\n",
       "      <td>anti</td>\n",
       "      <td>None</td>\n",
       "      <td>cc</td>\n",
       "      <td>foxnews.com/politics/junk-science-studies-behi...</td>\n",
       "    </tr>\n",
       "    <tr>\n",
       "      <td>1604</td>\n",
       "      <td>False</td>\n",
       "      <td>None</td>\n",
       "      <td>:///</td>\n",
       "      <td>File photo - A statue of the Virgin Mary is ...</td>\n",
       "      <td>anti</td>\n",
       "      <td>None</td>\n",
       "      <td>cc</td>\n",
       "      <td>foxnews.com/science/10-years-after-hurricane-k...</td>\n",
       "    </tr>\n",
       "  </tbody>\n",
       "</table>\n",
       "</div>"
      ],
      "text/plain": [
       "      bad NYT  date domain                                           fulltext  \\\n",
       "1600    False  None   :///    If you can't sleep as much as you need durin...   \n",
       "1601    False  None   :///  Paper says draft document by scientists direct...   \n",
       "1602    False  None   :///  The public's concern about global warming has ...   \n",
       "1603    False  None   :///  The federal report by dozens of U.S. governmen...   \n",
       "1604    False  None   :///    File photo - A statue of the Virgin Mary is ...   \n",
       "\n",
       "     stance title topic                                                url  \n",
       "1600   anti  None    cc  foxnews.com/lifestyle/climate-change-might-be-...  \n",
       "1601   anti  None    cc  foxnews.com/opinion/climate-policy-get-ready-f...  \n",
       "1602   anti  None    cc  foxnews.com/opinion/physicist-dont-fall-for-th...  \n",
       "1603   anti  None    cc  foxnews.com/politics/junk-science-studies-behi...  \n",
       "1604   anti  None    cc  foxnews.com/science/10-years-after-hurricane-k...  "
      ]
     },
     "execution_count": 100,
     "metadata": {},
     "output_type": "execute_result"
    }
   ],
   "source": [
    "cc_all_url_df.head()"
   ]
  },
  {
   "cell_type": "code",
   "execution_count": 102,
   "metadata": {},
   "outputs": [
    {
     "data": {
      "text/plain": [
       "(17601, 8)"
      ]
     },
     "execution_count": 102,
     "metadata": {},
     "output_type": "execute_result"
    }
   ],
   "source": [
    "cc_all_url_df.shape"
   ]
  },
  {
   "cell_type": "code",
   "execution_count": 181,
   "metadata": {
    "scrolled": true
   },
   "outputs": [],
   "source": [
    "from nltk.tokenize import sent_tokenize\n",
    "for ix,row in cc_all_url_df.iterrows():\n",
    "    source = row['url']\n",
    "    type_ = 'yiwei_news'\n",
    "    if row['fulltext'] is not None:\n",
    "        text = sent_tokenize(row['fulltext'])\n",
    "        unlabeled_data['text'].extend(text)\n",
    "        unlabeled_data['type'].extend([type_]*len(text))\n",
    "        unlabeled_data['source'].extend([source]*len(text))"
   ]
  },
  {
   "cell_type": "code",
   "execution_count": 192,
   "metadata": {},
   "outputs": [
    {
     "data": {
      "text/html": [
       "<div>\n",
       "<style scoped>\n",
       "    .dataframe tbody tr th:only-of-type {\n",
       "        vertical-align: middle;\n",
       "    }\n",
       "\n",
       "    .dataframe tbody tr th {\n",
       "        vertical-align: top;\n",
       "    }\n",
       "\n",
       "    .dataframe thead th {\n",
       "        text-align: right;\n",
       "    }\n",
       "</style>\n",
       "<table border=\"1\" class=\"dataframe\">\n",
       "  <thead>\n",
       "    <tr style=\"text-align: right;\">\n",
       "      <th></th>\n",
       "      <th>source</th>\n",
       "      <th>type</th>\n",
       "      <th>text</th>\n",
       "    </tr>\n",
       "  </thead>\n",
       "  <tbody>\n",
       "    <tr>\n",
       "      <td>0</td>\n",
       "      <td>climate_change1.0-6365 [SEP] 0</td>\n",
       "      <td>dallas_news</td>\n",
       "      <td>No Accord, and Little Optimism, at Bonn Talks ...</td>\n",
       "    </tr>\n",
       "    <tr>\n",
       "      <td>1</td>\n",
       "      <td>climate_change1.0-6365 [SEP] 1</td>\n",
       "      <td>dallas_news</td>\n",
       "      <td>Delegates from 143 countries ended their preli...</td>\n",
       "    </tr>\n",
       "    <tr>\n",
       "      <td>2</td>\n",
       "      <td>climate_change1.0-6365 [SEP] 2</td>\n",
       "      <td>dallas_news</td>\n",
       "      <td>The United States' long-awaited proposal for c...</td>\n",
       "    </tr>\n",
       "    <tr>\n",
       "      <td>3</td>\n",
       "      <td>climate_change1.0-6365 [SEP] 3</td>\n",
       "      <td>dallas_news</td>\n",
       "      <td>And there is no sign that American negotiators...</td>\n",
       "    </tr>\n",
       "    <tr>\n",
       "      <td>4</td>\n",
       "      <td>climate_change1.0-6365 [SEP] 4</td>\n",
       "      <td>dallas_news</td>\n",
       "      <td>Still, the Americans themselves said there was...</td>\n",
       "    </tr>\n",
       "    <tr>\n",
       "      <td>5</td>\n",
       "      <td>climate_change1.0-6365 [SEP] 5</td>\n",
       "      <td>dallas_news</td>\n",
       "      <td>Meanwhile, several small-scale but higher-leve...</td>\n",
       "    </tr>\n",
       "    <tr>\n",
       "      <td>6</td>\n",
       "      <td>climate_change1.0-6365 [SEP] 6</td>\n",
       "      <td>dallas_news</td>\n",
       "      <td>The goal of the conference is to revise the cl...</td>\n",
       "    </tr>\n",
       "    <tr>\n",
       "      <td>7</td>\n",
       "      <td>climate_change1.0-6365 [SEP] 7</td>\n",
       "      <td>dallas_news</td>\n",
       "      <td>\"There are enough ideas out there to have an a...</td>\n",
       "    </tr>\n",
       "    <tr>\n",
       "      <td>8</td>\n",
       "      <td>climate_change1.0-6365 [SEP] 8</td>\n",
       "      <td>dallas_news</td>\n",
       "      <td>\"We just don't see all the kinds of coalescenc...</td>\n",
       "    </tr>\n",
       "    <tr>\n",
       "      <td>9</td>\n",
       "      <td>climate_change1.0-6365 [SEP] 9</td>\n",
       "      <td>dallas_news</td>\n",
       "      <td>On the surface, the American proposal looks li...</td>\n",
       "    </tr>\n",
       "  </tbody>\n",
       "</table>\n",
       "</div>"
      ],
      "text/plain": [
       "                           source         type  \\\n",
       "0  climate_change1.0-6365 [SEP] 0  dallas_news   \n",
       "1  climate_change1.0-6365 [SEP] 1  dallas_news   \n",
       "2  climate_change1.0-6365 [SEP] 2  dallas_news   \n",
       "3  climate_change1.0-6365 [SEP] 3  dallas_news   \n",
       "4  climate_change1.0-6365 [SEP] 4  dallas_news   \n",
       "5  climate_change1.0-6365 [SEP] 5  dallas_news   \n",
       "6  climate_change1.0-6365 [SEP] 6  dallas_news   \n",
       "7  climate_change1.0-6365 [SEP] 7  dallas_news   \n",
       "8  climate_change1.0-6365 [SEP] 8  dallas_news   \n",
       "9  climate_change1.0-6365 [SEP] 9  dallas_news   \n",
       "\n",
       "                                                text  \n",
       "0  No Accord, and Little Optimism, at Bonn Talks ...  \n",
       "1  Delegates from 143 countries ended their preli...  \n",
       "2  The United States' long-awaited proposal for c...  \n",
       "3  And there is no sign that American negotiators...  \n",
       "4  Still, the Americans themselves said there was...  \n",
       "5  Meanwhile, several small-scale but higher-leve...  \n",
       "6  The goal of the conference is to revise the cl...  \n",
       "7  \"There are enough ideas out there to have an a...  \n",
       "8  \"We just don't see all the kinds of coalescenc...  \n",
       "9  On the surface, the American proposal looks li...  "
      ]
     },
     "execution_count": 192,
     "metadata": {},
     "output_type": "execute_result"
    }
   ],
   "source": [
    "unlabeled_data_df = pd.DataFrame(unlabeled_data)\n",
    "unlabeled_data_df.head(10)"
   ]
  },
  {
   "cell_type": "code",
   "execution_count": 193,
   "metadata": {},
   "outputs": [
    {
     "data": {
      "text/html": [
       "<div>\n",
       "<style scoped>\n",
       "    .dataframe tbody tr th:only-of-type {\n",
       "        vertical-align: middle;\n",
       "    }\n",
       "\n",
       "    .dataframe tbody tr th {\n",
       "        vertical-align: top;\n",
       "    }\n",
       "\n",
       "    .dataframe thead th {\n",
       "        text-align: right;\n",
       "    }\n",
       "</style>\n",
       "<table border=\"1\" class=\"dataframe\">\n",
       "  <thead>\n",
       "    <tr style=\"text-align: right;\">\n",
       "      <th></th>\n",
       "      <th>source</th>\n",
       "      <th>type</th>\n",
       "      <th>text</th>\n",
       "    </tr>\n",
       "  </thead>\n",
       "  <tbody>\n",
       "    <tr>\n",
       "      <td>1158101</td>\n",
       "      <td>https://pjmedia.com/trending/aoc-and-the-magic...</td>\n",
       "      <td>yiwei_news</td>\n",
       "      <td>and \"do you have a signed ration card from you...</td>\n",
       "    </tr>\n",
       "    <tr>\n",
       "      <td>1158102</td>\n",
       "      <td>https://pjmedia.com/trending/aoc-and-the-magic...</td>\n",
       "      <td>yiwei_news</td>\n",
       "      <td>You can stand by but there's no telling when a...</td>\n",
       "    </tr>\n",
       "    <tr>\n",
       "      <td>1158103</td>\n",
       "      <td>https://pjmedia.com/trending/aoc-and-the-magic...</td>\n",
       "      <td>yiwei_news</td>\n",
       "      <td>Comrade.</td>\n",
       "    </tr>\n",
       "    <tr>\n",
       "      <td>1158104</td>\n",
       "      <td>https://pjmedia.com/trending/aoc-and-the-magic...</td>\n",
       "      <td>yiwei_news</td>\n",
       "      <td>Now, a really good high-speed rail system woul...</td>\n",
       "    </tr>\n",
       "    <tr>\n",
       "      <td>1158105</td>\n",
       "      <td>https://pjmedia.com/trending/aoc-and-the-magic...</td>\n",
       "      <td>yiwei_news</td>\n",
       "      <td>Let's say something that can travel at 500 mil...</td>\n",
       "    </tr>\n",
       "    <tr>\n",
       "      <td>1158106</td>\n",
       "      <td>https://pjmedia.com/trending/aoc-and-the-magic...</td>\n",
       "      <td>yiwei_news</td>\n",
       "      <td>Something that can go to every major city, and...</td>\n",
       "    </tr>\n",
       "    <tr>\n",
       "      <td>1158107</td>\n",
       "      <td>https://pjmedia.com/trending/aoc-and-the-magic...</td>\n",
       "      <td>yiwei_news</td>\n",
       "      <td>Something that doesn't need new rights of way,...</td>\n",
       "    </tr>\n",
       "    <tr>\n",
       "      <td>1158108</td>\n",
       "      <td>https://pjmedia.com/trending/aoc-and-the-magic...</td>\n",
       "      <td>yiwei_news</td>\n",
       "      <td>Something where the rights of way are as free ...</td>\n",
       "    </tr>\n",
       "    <tr>\n",
       "      <td>1158109</td>\n",
       "      <td>https://pjmedia.com/trending/aoc-and-the-magic...</td>\n",
       "      <td>yiwei_news</td>\n",
       "      <td>But hoping for something like that is just cra...</td>\n",
       "    </tr>\n",
       "    <tr>\n",
       "      <td>1158110</td>\n",
       "      <td>https://pjmedia.com/trending/aoc-and-the-magic...</td>\n",
       "      <td>yiwei_news</td>\n",
       "      <td>https://pjmedia.com/trending/aoc-and-the-magic...</td>\n",
       "    </tr>\n",
       "  </tbody>\n",
       "</table>\n",
       "</div>"
      ],
      "text/plain": [
       "                                                    source        type  \\\n",
       "1158101  https://pjmedia.com/trending/aoc-and-the-magic...  yiwei_news   \n",
       "1158102  https://pjmedia.com/trending/aoc-and-the-magic...  yiwei_news   \n",
       "1158103  https://pjmedia.com/trending/aoc-and-the-magic...  yiwei_news   \n",
       "1158104  https://pjmedia.com/trending/aoc-and-the-magic...  yiwei_news   \n",
       "1158105  https://pjmedia.com/trending/aoc-and-the-magic...  yiwei_news   \n",
       "1158106  https://pjmedia.com/trending/aoc-and-the-magic...  yiwei_news   \n",
       "1158107  https://pjmedia.com/trending/aoc-and-the-magic...  yiwei_news   \n",
       "1158108  https://pjmedia.com/trending/aoc-and-the-magic...  yiwei_news   \n",
       "1158109  https://pjmedia.com/trending/aoc-and-the-magic...  yiwei_news   \n",
       "1158110  https://pjmedia.com/trending/aoc-and-the-magic...  yiwei_news   \n",
       "\n",
       "                                                      text  \n",
       "1158101  and \"do you have a signed ration card from you...  \n",
       "1158102  You can stand by but there's no telling when a...  \n",
       "1158103                                           Comrade.  \n",
       "1158104  Now, a really good high-speed rail system woul...  \n",
       "1158105  Let's say something that can travel at 500 mil...  \n",
       "1158106  Something that can go to every major city, and...  \n",
       "1158107  Something that doesn't need new rights of way,...  \n",
       "1158108  Something where the rights of way are as free ...  \n",
       "1158109  But hoping for something like that is just cra...  \n",
       "1158110  https://pjmedia.com/trending/aoc-and-the-magic...  "
      ]
     },
     "execution_count": 193,
     "metadata": {},
     "output_type": "execute_result"
    }
   ],
   "source": [
    "unlabeled_data_df.tail(10)"
   ]
  },
  {
   "cell_type": "markdown",
   "metadata": {},
   "source": [
    "# Clean, dedup, filter labeled and unlabeled data"
   ]
  },
  {
   "cell_type": "code",
   "execution_count": 110,
   "metadata": {
    "code_folding": [
     1,
     4,
     12
    ]
   },
   "outputs": [],
   "source": [
    "# Functions for importing & cleaning labeled items\n",
    "def lower(s):\n",
    "    return s.lower()\n",
    "\n",
    "def imports(filename):\n",
    "    imp = pd.read_pickle(filename)\n",
    "    imp = imp.drop_duplicates()\n",
    "    imp['sent_clean'] = imp['sentence'].str.replace('http\\S+|www.\\S+|pic.twitter.com\\S+', '', case=False)\n",
    "    #imp['sent_clean'] = imp['sentence'].replace('[^A-Za-z0-9 ]+','',regex=True)\n",
    "    imp['sent_clean'] = imp['sent_clean'].apply(lower)\n",
    "    return imp\n",
    "\n",
    "def clean(x):\n",
    "    return x.replace('http\\S+|www.\\S+|pic.twitter.com\\S+', '')"
   ]
  },
  {
   "cell_type": "code",
   "execution_count": 194,
   "metadata": {},
   "outputs": [],
   "source": [
    "unlabeled_data_df = unlabeled_data_df.dropna()\n",
    "unlabeled_data_df['text'] = unlabeled_data_df['text'].apply(clean)\n",
    "unlabeled_data_df.drop_duplicates(subset= 'text',inplace=True)\n",
    "unlabeled_data_df = unlabeled_data_df.reset_index()"
   ]
  },
  {
   "cell_type": "code",
   "execution_count": 195,
   "metadata": {},
   "outputs": [],
   "source": [
    "labeled_data_df = labeled_data_df.dropna()\n",
    "labeled_data_df['text'] = labeled_data_df['text'].apply(clean)\n",
    "labeled_data_df.drop_duplicates(subset= 'text',inplace=True)\n",
    "labeled_data_df = labeled_data_df.reset_index()"
   ]
  },
  {
   "cell_type": "code",
   "execution_count": 196,
   "metadata": {},
   "outputs": [],
   "source": [
    "labeled_data_df = labeled_data_df.drop(['index'],axis=1)"
   ]
  },
  {
   "cell_type": "code",
   "execution_count": 197,
   "metadata": {},
   "outputs": [
    {
     "data": {
      "text/plain": [
       "(866654, 4)"
      ]
     },
     "execution_count": 197,
     "metadata": {},
     "output_type": "execute_result"
    }
   ],
   "source": [
    "unlabeled_data_df.shape"
   ]
  },
  {
   "cell_type": "code",
   "execution_count": 198,
   "metadata": {},
   "outputs": [
    {
     "data": {
      "text/plain": [
       "(39228, 4)"
      ]
     },
     "execution_count": 198,
     "metadata": {},
     "output_type": "execute_result"
    }
   ],
   "source": [
    "labeled_data_df.shape"
   ]
  },
  {
   "cell_type": "code",
   "execution_count": null,
   "metadata": {},
   "outputs": [],
   "source": [
    "# summary of what's included"
   ]
  },
  {
   "cell_type": "code",
   "execution_count": 199,
   "metadata": {},
   "outputs": [
    {
     "data": {
      "text/html": [
       "<div>\n",
       "<style scoped>\n",
       "    .dataframe tbody tr th:only-of-type {\n",
       "        vertical-align: middle;\n",
       "    }\n",
       "\n",
       "    .dataframe tbody tr th {\n",
       "        vertical-align: top;\n",
       "    }\n",
       "\n",
       "    .dataframe thead th {\n",
       "        text-align: right;\n",
       "    }\n",
       "</style>\n",
       "<table border=\"1\" class=\"dataframe\">\n",
       "  <thead>\n",
       "    <tr style=\"text-align: right;\">\n",
       "      <th></th>\n",
       "      <th>index</th>\n",
       "      <th>source</th>\n",
       "      <th>type</th>\n",
       "      <th>text</th>\n",
       "    </tr>\n",
       "  </thead>\n",
       "  <tbody>\n",
       "    <tr>\n",
       "      <td>866644</td>\n",
       "      <td>1158101</td>\n",
       "      <td>https://pjmedia.com/trending/aoc-and-the-magic...</td>\n",
       "      <td>yiwei_news</td>\n",
       "      <td>and \"do you have a signed ration card from you...</td>\n",
       "    </tr>\n",
       "    <tr>\n",
       "      <td>866645</td>\n",
       "      <td>1158102</td>\n",
       "      <td>https://pjmedia.com/trending/aoc-and-the-magic...</td>\n",
       "      <td>yiwei_news</td>\n",
       "      <td>You can stand by but there's no telling when a...</td>\n",
       "    </tr>\n",
       "    <tr>\n",
       "      <td>866646</td>\n",
       "      <td>1158103</td>\n",
       "      <td>https://pjmedia.com/trending/aoc-and-the-magic...</td>\n",
       "      <td>yiwei_news</td>\n",
       "      <td>Comrade.</td>\n",
       "    </tr>\n",
       "    <tr>\n",
       "      <td>866647</td>\n",
       "      <td>1158104</td>\n",
       "      <td>https://pjmedia.com/trending/aoc-and-the-magic...</td>\n",
       "      <td>yiwei_news</td>\n",
       "      <td>Now, a really good high-speed rail system woul...</td>\n",
       "    </tr>\n",
       "    <tr>\n",
       "      <td>866648</td>\n",
       "      <td>1158105</td>\n",
       "      <td>https://pjmedia.com/trending/aoc-and-the-magic...</td>\n",
       "      <td>yiwei_news</td>\n",
       "      <td>Let's say something that can travel at 500 mil...</td>\n",
       "    </tr>\n",
       "    <tr>\n",
       "      <td>866649</td>\n",
       "      <td>1158106</td>\n",
       "      <td>https://pjmedia.com/trending/aoc-and-the-magic...</td>\n",
       "      <td>yiwei_news</td>\n",
       "      <td>Something that can go to every major city, and...</td>\n",
       "    </tr>\n",
       "    <tr>\n",
       "      <td>866650</td>\n",
       "      <td>1158107</td>\n",
       "      <td>https://pjmedia.com/trending/aoc-and-the-magic...</td>\n",
       "      <td>yiwei_news</td>\n",
       "      <td>Something that doesn't need new rights of way,...</td>\n",
       "    </tr>\n",
       "    <tr>\n",
       "      <td>866651</td>\n",
       "      <td>1158108</td>\n",
       "      <td>https://pjmedia.com/trending/aoc-and-the-magic...</td>\n",
       "      <td>yiwei_news</td>\n",
       "      <td>Something where the rights of way are as free ...</td>\n",
       "    </tr>\n",
       "    <tr>\n",
       "      <td>866652</td>\n",
       "      <td>1158109</td>\n",
       "      <td>https://pjmedia.com/trending/aoc-and-the-magic...</td>\n",
       "      <td>yiwei_news</td>\n",
       "      <td>But hoping for something like that is just cra...</td>\n",
       "    </tr>\n",
       "    <tr>\n",
       "      <td>866653</td>\n",
       "      <td>1158110</td>\n",
       "      <td>https://pjmedia.com/trending/aoc-and-the-magic...</td>\n",
       "      <td>yiwei_news</td>\n",
       "      <td>https://pjmedia.com/trending/aoc-and-the-magic...</td>\n",
       "    </tr>\n",
       "  </tbody>\n",
       "</table>\n",
       "</div>"
      ],
      "text/plain": [
       "          index                                             source  \\\n",
       "866644  1158101  https://pjmedia.com/trending/aoc-and-the-magic...   \n",
       "866645  1158102  https://pjmedia.com/trending/aoc-and-the-magic...   \n",
       "866646  1158103  https://pjmedia.com/trending/aoc-and-the-magic...   \n",
       "866647  1158104  https://pjmedia.com/trending/aoc-and-the-magic...   \n",
       "866648  1158105  https://pjmedia.com/trending/aoc-and-the-magic...   \n",
       "866649  1158106  https://pjmedia.com/trending/aoc-and-the-magic...   \n",
       "866650  1158107  https://pjmedia.com/trending/aoc-and-the-magic...   \n",
       "866651  1158108  https://pjmedia.com/trending/aoc-and-the-magic...   \n",
       "866652  1158109  https://pjmedia.com/trending/aoc-and-the-magic...   \n",
       "866653  1158110  https://pjmedia.com/trending/aoc-and-the-magic...   \n",
       "\n",
       "              type                                               text  \n",
       "866644  yiwei_news  and \"do you have a signed ration card from you...  \n",
       "866645  yiwei_news  You can stand by but there's no telling when a...  \n",
       "866646  yiwei_news                                           Comrade.  \n",
       "866647  yiwei_news  Now, a really good high-speed rail system woul...  \n",
       "866648  yiwei_news  Let's say something that can travel at 500 mil...  \n",
       "866649  yiwei_news  Something that can go to every major city, and...  \n",
       "866650  yiwei_news  Something that doesn't need new rights of way,...  \n",
       "866651  yiwei_news  Something where the rights of way are as free ...  \n",
       "866652  yiwei_news  But hoping for something like that is just cra...  \n",
       "866653  yiwei_news  https://pjmedia.com/trending/aoc-and-the-magic...  "
      ]
     },
     "execution_count": 199,
     "metadata": {},
     "output_type": "execute_result"
    }
   ],
   "source": [
    "unlabeled_data_df.tail(10)"
   ]
  },
  {
   "cell_type": "code",
   "execution_count": 200,
   "metadata": {},
   "outputs": [
    {
     "data": {
      "text/plain": [
       "yiwei_news     743344\n",
       "dallas_news    123310\n",
       "Name: type, dtype: int64"
      ]
     },
     "execution_count": 200,
     "metadata": {},
     "output_type": "execute_result"
    }
   ],
   "source": [
    "unlabeled_data_df['type'].value_counts() "
   ]
  },
  {
   "cell_type": "code",
   "execution_count": 201,
   "metadata": {},
   "outputs": [
    {
     "data": {
      "text/html": [
       "<div>\n",
       "<style scoped>\n",
       "    .dataframe tbody tr th:only-of-type {\n",
       "        vertical-align: middle;\n",
       "    }\n",
       "\n",
       "    .dataframe tbody tr th {\n",
       "        vertical-align: top;\n",
       "    }\n",
       "\n",
       "    .dataframe thead th {\n",
       "        text-align: right;\n",
       "    }\n",
       "</style>\n",
       "<table border=\"1\" class=\"dataframe\">\n",
       "  <thead>\n",
       "    <tr style=\"text-align: right;\">\n",
       "      <th></th>\n",
       "      <th>source</th>\n",
       "      <th>type</th>\n",
       "      <th>text</th>\n",
       "      <th>stance</th>\n",
       "    </tr>\n",
       "  </thead>\n",
       "  <tbody>\n",
       "    <tr>\n",
       "      <td>0</td>\n",
       "      <td>climate_change1.0-12174 [SEP] 0</td>\n",
       "      <td>dallas_news</td>\n",
       "      <td>It's about seeing the forest and the trees in ...</td>\n",
       "      <td>agree</td>\n",
       "    </tr>\n",
       "    <tr>\n",
       "      <td>1</td>\n",
       "      <td>climate_change1.0-12174 [SEP] 1</td>\n",
       "      <td>dallas_news</td>\n",
       "      <td>Two of his colleagues dangled on ropes 100 fee...</td>\n",
       "      <td>agree</td>\n",
       "    </tr>\n",
       "    <tr>\n",
       "      <td>2</td>\n",
       "      <td>climate_change1.0-12174 [SEP] 2</td>\n",
       "      <td>dallas_news</td>\n",
       "      <td>Steve Sillett could hardly contain his excitem...</td>\n",
       "      <td>agree</td>\n",
       "    </tr>\n",
       "    <tr>\n",
       "      <td>3</td>\n",
       "      <td>climate_change1.0-12174 [SEP] 3</td>\n",
       "      <td>dallas_news</td>\n",
       "      <td>\"This site is just juicy.</td>\n",
       "      <td>agree</td>\n",
       "    </tr>\n",
       "    <tr>\n",
       "      <td>4</td>\n",
       "      <td>climate_change1.0-12174 [SEP] 4</td>\n",
       "      <td>dallas_news</td>\n",
       "      <td>It's loaded,\" said Sillett, gazing up at the a...</td>\n",
       "      <td>agree</td>\n",
       "    </tr>\n",
       "    <tr>\n",
       "      <td>...</td>\n",
       "      <td>...</td>\n",
       "      <td>...</td>\n",
       "      <td>...</td>\n",
       "      <td>...</td>\n",
       "    </tr>\n",
       "    <tr>\n",
       "      <td>39223</td>\n",
       "      <td>round5_batch9_sentidt45</td>\n",
       "      <td>mturk</td>\n",
       "      <td>Although the data series started in 1958 has a...</td>\n",
       "      <td>neutral</td>\n",
       "    </tr>\n",
       "    <tr>\n",
       "      <td>39224</td>\n",
       "      <td>round5_batch9_sentidt46</td>\n",
       "      <td>mturk</td>\n",
       "      <td>The Keystone pipeline would unduly worsen clim...</td>\n",
       "      <td>agree</td>\n",
       "    </tr>\n",
       "    <tr>\n",
       "      <td>39225</td>\n",
       "      <td>round5_batch9_sentidt47</td>\n",
       "      <td>mturk</td>\n",
       "      <td>Many young adults have become anxious about wh...</td>\n",
       "      <td>neutral</td>\n",
       "    </tr>\n",
       "    <tr>\n",
       "      <td>39226</td>\n",
       "      <td>round5_batch9_sentidt48</td>\n",
       "      <td>mturk</td>\n",
       "      <td>Regardless of the reasons for climate change, ...</td>\n",
       "      <td>agree</td>\n",
       "    </tr>\n",
       "    <tr>\n",
       "      <td>39227</td>\n",
       "      <td>round5_batch9_sentidt49</td>\n",
       "      <td>mturk</td>\n",
       "      <td>Steyer would declare a climate emergency on hi...</td>\n",
       "      <td>neutral</td>\n",
       "    </tr>\n",
       "  </tbody>\n",
       "</table>\n",
       "<p>39228 rows × 4 columns</p>\n",
       "</div>"
      ],
      "text/plain": [
       "                                source         type  \\\n",
       "0      climate_change1.0-12174 [SEP] 0  dallas_news   \n",
       "1      climate_change1.0-12174 [SEP] 1  dallas_news   \n",
       "2      climate_change1.0-12174 [SEP] 2  dallas_news   \n",
       "3      climate_change1.0-12174 [SEP] 3  dallas_news   \n",
       "4      climate_change1.0-12174 [SEP] 4  dallas_news   \n",
       "...                                ...          ...   \n",
       "39223          round5_batch9_sentidt45        mturk   \n",
       "39224          round5_batch9_sentidt46        mturk   \n",
       "39225          round5_batch9_sentidt47        mturk   \n",
       "39226          round5_batch9_sentidt48        mturk   \n",
       "39227          round5_batch9_sentidt49        mturk   \n",
       "\n",
       "                                                    text   stance  \n",
       "0      It's about seeing the forest and the trees in ...    agree  \n",
       "1      Two of his colleagues dangled on ropes 100 fee...    agree  \n",
       "2      Steve Sillett could hardly contain his excitem...    agree  \n",
       "3                              \"This site is just juicy.    agree  \n",
       "4      It's loaded,\" said Sillett, gazing up at the a...    agree  \n",
       "...                                                  ...      ...  \n",
       "39223  Although the data series started in 1958 has a...  neutral  \n",
       "39224  The Keystone pipeline would unduly worsen clim...    agree  \n",
       "39225  Many young adults have become anxious about wh...  neutral  \n",
       "39226  Regardless of the reasons for climate change, ...    agree  \n",
       "39227  Steyer would declare a climate emergency on hi...  neutral  \n",
       "\n",
       "[39228 rows x 4 columns]"
      ]
     },
     "execution_count": 201,
     "metadata": {},
     "output_type": "execute_result"
    }
   ],
   "source": [
    "labeled_data_df"
   ]
  },
  {
   "cell_type": "code",
   "execution_count": 173,
   "metadata": {},
   "outputs": [],
   "source": [
    "labeled_data_df.to_csv('labeled_data_df')"
   ]
  },
  {
   "cell_type": "code",
   "execution_count": 202,
   "metadata": {},
   "outputs": [
    {
     "data": {
      "text/plain": [
       "agree       31629\n",
       "disagree     6534\n",
       "neutral      1065\n",
       "Name: stance, dtype: int64"
      ]
     },
     "execution_count": 202,
     "metadata": {},
     "output_type": "execute_result"
    }
   ],
   "source": [
    "labeled_data_df['stance'].value_counts()"
   ]
  },
  {
   "cell_type": "code",
   "execution_count": 203,
   "metadata": {},
   "outputs": [
    {
     "data": {
      "text/plain": [
       "dallas_news             36624\n",
       "mturk                    2040\n",
       "semeval_train_tweets      395\n",
       "semeval_tweets            169\n",
       "Name: type, dtype: int64"
      ]
     },
     "execution_count": 203,
     "metadata": {},
     "output_type": "execute_result"
    }
   ],
   "source": [
    "labeled_data_df['type'].value_counts()"
   ]
  },
  {
   "cell_type": "code",
   "execution_count": null,
   "metadata": {},
   "outputs": [],
   "source": []
  },
  {
   "cell_type": "code",
   "execution_count": null,
   "metadata": {},
   "outputs": [],
   "source": []
  },
  {
   "cell_type": "code",
   "execution_count": null,
   "metadata": {},
   "outputs": [],
   "source": []
  },
  {
   "cell_type": "code",
   "execution_count": 158,
   "metadata": {
    "scrolled": true
   },
   "outputs": [],
   "source": [
    "dallas_sentence_scores = pd.read_csv('/Users/yiweiluo/scientific-debates/\\\n",
    "cc_stance/MTurk_results/sent_scores_df.tsv',delimiter='\\t')\n",
    "dallas_sentence_scores['max_prob_label'] = dallas_sentence_scores[['disagree',\n",
    "                                                                  'neutral',\n",
    "                                                                  'agree']].idxmax(axis=1)"
   ]
  },
  {
   "cell_type": "code",
   "execution_count": 161,
   "metadata": {},
   "outputs": [
    {
     "data": {
      "text/html": [
       "<div>\n",
       "<style scoped>\n",
       "    .dataframe tbody tr th:only-of-type {\n",
       "        vertical-align: middle;\n",
       "    }\n",
       "\n",
       "    .dataframe tbody tr th {\n",
       "        vertical-align: top;\n",
       "    }\n",
       "\n",
       "    .dataframe thead th {\n",
       "        text-align: right;\n",
       "    }\n",
       "</style>\n",
       "<table border=\"1\" class=\"dataframe\">\n",
       "  <thead>\n",
       "    <tr style=\"text-align: right;\">\n",
       "      <th></th>\n",
       "      <th>source</th>\n",
       "      <th>type</th>\n",
       "      <th>text</th>\n",
       "      <th>stance</th>\n",
       "    </tr>\n",
       "  </thead>\n",
       "  <tbody>\n",
       "    <tr>\n",
       "      <td>0</td>\n",
       "      <td>climate_change1.0-12174 [SEP] 0</td>\n",
       "      <td>dallas_news</td>\n",
       "      <td>It's about seeing the forest and the trees in ...</td>\n",
       "      <td>agree</td>\n",
       "    </tr>\n",
       "    <tr>\n",
       "      <td>1</td>\n",
       "      <td>climate_change1.0-12174 [SEP] 1</td>\n",
       "      <td>dallas_news</td>\n",
       "      <td>Two of his colleagues dangled on ropes 100 fee...</td>\n",
       "      <td>agree</td>\n",
       "    </tr>\n",
       "    <tr>\n",
       "      <td>2</td>\n",
       "      <td>climate_change1.0-12174 [SEP] 2</td>\n",
       "      <td>dallas_news</td>\n",
       "      <td>Steve Sillett could hardly contain his excitem...</td>\n",
       "      <td>agree</td>\n",
       "    </tr>\n",
       "    <tr>\n",
       "      <td>3</td>\n",
       "      <td>climate_change1.0-12174 [SEP] 3</td>\n",
       "      <td>dallas_news</td>\n",
       "      <td>\"This site is just juicy.</td>\n",
       "      <td>agree</td>\n",
       "    </tr>\n",
       "    <tr>\n",
       "      <td>4</td>\n",
       "      <td>climate_change1.0-12174 [SEP] 4</td>\n",
       "      <td>dallas_news</td>\n",
       "      <td>It's loaded,\" said Sillett, gazing up at the a...</td>\n",
       "      <td>agree</td>\n",
       "    </tr>\n",
       "    <tr>\n",
       "      <td>5</td>\n",
       "      <td>climate_change1.0-12174 [SEP] 5</td>\n",
       "      <td>dallas_news</td>\n",
       "      <td>\"There are amazing lichens up there.</td>\n",
       "      <td>agree</td>\n",
       "    </tr>\n",
       "    <tr>\n",
       "      <td>6</td>\n",
       "      <td>climate_change1.0-12174 [SEP] 6</td>\n",
       "      <td>dallas_news</td>\n",
       "      <td>There are aphids being hunted by ladybugs.</td>\n",
       "      <td>agree</td>\n",
       "    </tr>\n",
       "    <tr>\n",
       "      <td>7</td>\n",
       "      <td>climate_change1.0-12174 [SEP] 7</td>\n",
       "      <td>dallas_news</td>\n",
       "      <td>I found a sizable dogwood tree growing from a ...</td>\n",
       "      <td>agree</td>\n",
       "    </tr>\n",
       "    <tr>\n",
       "      <td>8</td>\n",
       "      <td>climate_change1.0-12174 [SEP] 8</td>\n",
       "      <td>dallas_news</td>\n",
       "      <td>The foggy, lost worlds atop the world's bigges...</td>\n",
       "      <td>agree</td>\n",
       "    </tr>\n",
       "    <tr>\n",
       "      <td>9</td>\n",
       "      <td>climate_change1.0-12174 [SEP] 9</td>\n",
       "      <td>dallas_news</td>\n",
       "      <td>Concerned that rising temperatures across Cali...</td>\n",
       "      <td>agree</td>\n",
       "    </tr>\n",
       "  </tbody>\n",
       "</table>\n",
       "</div>"
      ],
      "text/plain": [
       "                            source         type  \\\n",
       "0  climate_change1.0-12174 [SEP] 0  dallas_news   \n",
       "1  climate_change1.0-12174 [SEP] 1  dallas_news   \n",
       "2  climate_change1.0-12174 [SEP] 2  dallas_news   \n",
       "3  climate_change1.0-12174 [SEP] 3  dallas_news   \n",
       "4  climate_change1.0-12174 [SEP] 4  dallas_news   \n",
       "5  climate_change1.0-12174 [SEP] 5  dallas_news   \n",
       "6  climate_change1.0-12174 [SEP] 6  dallas_news   \n",
       "7  climate_change1.0-12174 [SEP] 7  dallas_news   \n",
       "8  climate_change1.0-12174 [SEP] 8  dallas_news   \n",
       "9  climate_change1.0-12174 [SEP] 9  dallas_news   \n",
       "\n",
       "                                                text stance  \n",
       "0  It's about seeing the forest and the trees in ...  agree  \n",
       "1  Two of his colleagues dangled on ropes 100 fee...  agree  \n",
       "2  Steve Sillett could hardly contain his excitem...  agree  \n",
       "3                          \"This site is just juicy.  agree  \n",
       "4  It's loaded,\" said Sillett, gazing up at the a...  agree  \n",
       "5               \"There are amazing lichens up there.  agree  \n",
       "6         There are aphids being hunted by ladybugs.  agree  \n",
       "7  I found a sizable dogwood tree growing from a ...  agree  \n",
       "8  The foggy, lost worlds atop the world's bigges...  agree  \n",
       "9  Concerned that rising temperatures across Cali...  agree  "
      ]
     },
     "execution_count": 161,
     "metadata": {},
     "output_type": "execute_result"
    }
   ],
   "source": [
    "labeled_data['source'].extend(['round{}_batch{}_sentid{}'.format(row['round'],\n",
    "                                                              row['batch'],\n",
    "                                                              row['sent_id'])\n",
    "                              for ix,row in dallas_sentence_scores.iterrows()])\n",
    "labeled_data['type'].extend(['mturk']*len(dallas_sentence_scores))\n",
    "labeled_data['text'].extend([row['sentence'] for ix,row in \n",
    "                             dallas_sentence_scores.iterrows()])\n",
    "labeled_data['stance'].extend([row['max_prob_label'] for ix,row in \n",
    "                             dallas_sentence_scores.iterrows()])\n",
    "labeled_data_df = pd.DataFrame(labeled_data)\n",
    "labeled_data_df.head(10)"
   ]
  },
  {
   "cell_type": "code",
   "execution_count": 159,
   "metadata": {},
   "outputs": [
    {
     "data": {
      "text/html": [
       "<div>\n",
       "<style scoped>\n",
       "    .dataframe tbody tr th:only-of-type {\n",
       "        vertical-align: middle;\n",
       "    }\n",
       "\n",
       "    .dataframe tbody tr th {\n",
       "        vertical-align: top;\n",
       "    }\n",
       "\n",
       "    .dataframe thead th {\n",
       "        text-align: right;\n",
       "    }\n",
       "</style>\n",
       "<table border=\"1\" class=\"dataframe\">\n",
       "  <thead>\n",
       "    <tr style=\"text-align: right;\">\n",
       "      <th></th>\n",
       "      <th>Unnamed: 0</th>\n",
       "      <th>round</th>\n",
       "      <th>batch</th>\n",
       "      <th>sent_id</th>\n",
       "      <th>disagree</th>\n",
       "      <th>neutral</th>\n",
       "      <th>agree</th>\n",
       "      <th>sentence</th>\n",
       "      <th>max_prob_label</th>\n",
       "    </tr>\n",
       "  </thead>\n",
       "  <tbody>\n",
       "    <tr>\n",
       "      <td>0</td>\n",
       "      <td>0</td>\n",
       "      <td>1</td>\n",
       "      <td>0</td>\n",
       "      <td>t0</td>\n",
       "      <td>0.004241</td>\n",
       "      <td>0.260963</td>\n",
       "      <td>0.734797</td>\n",
       "      <td>Warmer-than-normal sea surface temperatures ar...</td>\n",
       "      <td>agree</td>\n",
       "    </tr>\n",
       "    <tr>\n",
       "      <td>1</td>\n",
       "      <td>1</td>\n",
       "      <td>1</td>\n",
       "      <td>0</td>\n",
       "      <td>t1</td>\n",
       "      <td>0.001548</td>\n",
       "      <td>0.996214</td>\n",
       "      <td>0.002239</td>\n",
       "      <td>We will continue to rely in part on fossil fue...</td>\n",
       "      <td>neutral</td>\n",
       "    </tr>\n",
       "    <tr>\n",
       "      <td>2</td>\n",
       "      <td>2</td>\n",
       "      <td>1</td>\n",
       "      <td>0</td>\n",
       "      <td>t10</td>\n",
       "      <td>0.001440</td>\n",
       "      <td>0.996503</td>\n",
       "      <td>0.002057</td>\n",
       "      <td>The actual rise in sea levels measured only 1....</td>\n",
       "      <td>neutral</td>\n",
       "    </tr>\n",
       "    <tr>\n",
       "      <td>3</td>\n",
       "      <td>3</td>\n",
       "      <td>1</td>\n",
       "      <td>0</td>\n",
       "      <td>t11</td>\n",
       "      <td>0.996815</td>\n",
       "      <td>0.001588</td>\n",
       "      <td>0.001596</td>\n",
       "      <td>Claims of global warming have been greatly exa...</td>\n",
       "      <td>disagree</td>\n",
       "    </tr>\n",
       "    <tr>\n",
       "      <td>4</td>\n",
       "      <td>4</td>\n",
       "      <td>1</td>\n",
       "      <td>0</td>\n",
       "      <td>t12</td>\n",
       "      <td>0.035201</td>\n",
       "      <td>0.959757</td>\n",
       "      <td>0.005042</td>\n",
       "      <td>The Intergovernmental Panel on Climate Change ...</td>\n",
       "      <td>neutral</td>\n",
       "    </tr>\n",
       "  </tbody>\n",
       "</table>\n",
       "</div>"
      ],
      "text/plain": [
       "   Unnamed: 0  round  batch sent_id  disagree   neutral     agree  \\\n",
       "0           0      1      0      t0  0.004241  0.260963  0.734797   \n",
       "1           1      1      0      t1  0.001548  0.996214  0.002239   \n",
       "2           2      1      0     t10  0.001440  0.996503  0.002057   \n",
       "3           3      1      0     t11  0.996815  0.001588  0.001596   \n",
       "4           4      1      0     t12  0.035201  0.959757  0.005042   \n",
       "\n",
       "                                            sentence max_prob_label  \n",
       "0  Warmer-than-normal sea surface temperatures ar...          agree  \n",
       "1  We will continue to rely in part on fossil fue...        neutral  \n",
       "2  The actual rise in sea levels measured only 1....        neutral  \n",
       "3  Claims of global warming have been greatly exa...       disagree  \n",
       "4  The Intergovernmental Panel on Climate Change ...        neutral  "
      ]
     },
     "execution_count": 159,
     "metadata": {},
     "output_type": "execute_result"
    }
   ],
   "source": [
    "#dallas_sentence_scores.to_pickle('dallas_sent_scores.pkl')\n",
    "dallas_sentence_scores.head()"
   ]
  },
  {
   "cell_type": "markdown",
   "metadata": {},
   "source": [
    "# Create train / val / test split"
   ]
  },
  {
   "cell_type": "code",
   "execution_count": 10,
   "metadata": {},
   "outputs": [
    {
     "name": "stdout",
     "output_type": "stream",
     "text": [
      "2050 783 863 404\n"
     ]
    }
   ],
   "source": [
    "all_train = sentence_df[['round','batch','sent_id','disagree','neutral','agree',\n",
    "                        'max_prob_label','sent_clean']]\n",
    "\n",
    "print(len(all_train), len(all_train[all_train['max_prob_label']=='agree']), \n",
    "      len(all_train[all_train['max_prob_label']=='neutral']),\n",
    "     len(all_train[all_train['max_prob_label']=='disagree']))"
   ]
  },
  {
   "cell_type": "code",
   "execution_count": 11,
   "metadata": {},
   "outputs": [
    {
     "name": "stdout",
     "output_type": "stream",
     "text": [
      "1381\n"
     ]
    }
   ],
   "source": [
    "sub_train = all_train[all_train['sent_clean'].str.\\\n",
    "                      contains(\"climate|change|global|warming\")==True]\n",
    "print(len(sub_train))"
   ]
  },
  {
   "cell_type": "code",
   "execution_count": 13,
   "metadata": {},
   "outputs": [
    {
     "data": {
      "text/plain": [
       "2100"
      ]
     },
     "execution_count": 13,
     "metadata": {},
     "output_type": "execute_result"
    }
   ],
   "source": [
    "300+400+400+500+500"
   ]
  },
  {
   "cell_type": "code",
   "execution_count": 14,
   "metadata": {},
   "outputs": [
    {
     "name": "stdout",
     "output_type": "stream",
     "text": [
      "2042\n",
      "779 862 401\n"
     ]
    }
   ],
   "source": [
    "#randomly select tweets that go to validation set or training set\n",
    "all_train = shuffle(all_train,random_state=123)\n",
    "all_train = all_train.drop_duplicates('sent_clean')\n",
    "num_sents = len(all_train)\n",
    "\n",
    "print(num_sents)\n",
    "infl_val_agr = all_train[all_train['max_prob_label']=='agree']\n",
    "infl_val_neut = all_train[all_train['max_prob_label']=='neutral']\n",
    "infl_val_dis = all_train[all_train['max_prob_label']=='disagree']\n",
    "print(len(infl_val_agr), len(infl_val_neut), len(infl_val_dis))\n",
    "\n",
    "train_pct = .9"
   ]
  },
  {
   "cell_type": "code",
   "execution_count": 15,
   "metadata": {},
   "outputs": [
    {
     "name": "stdout",
     "output_type": "stream",
     "text": [
      "Num total sentences 2042 \n",
      " Num train sentences 1837 \n",
      " Num validation sentences 205\n"
     ]
    }
   ],
   "source": [
    "training_data = all_train[:int(num_sents*train_pct)]\n",
    "\n",
    "val_data = all_train[int(num_sents*train_pct):]\n",
    "\n",
    "print(\"Num total sentences\", num_sents,\n",
    "      \"\\n Num train sentences\", len(training_data), \n",
    "      \"\\n Num validation sentences\", len(val_data))"
   ]
  },
  {
   "cell_type": "code",
   "execution_count": 16,
   "metadata": {},
   "outputs": [],
   "source": [
    "training_data.to_csv(os.getcwd()+'/data_for_classifier/dedup_training_data.csv', sep=',')\n",
    "val_data.to_csv(os.getcwd()+'/data_for_classifier/dedup_val_data.csv', sep=',')"
   ]
  },
  {
   "cell_type": "code",
   "execution_count": 2,
   "metadata": {},
   "outputs": [
    {
     "data": {
      "text/plain": [
       "'/Users/yiweiluo/scientific-debates/cc_stance/MTurk_results'"
      ]
     },
     "execution_count": 2,
     "metadata": {},
     "output_type": "execute_result"
    }
   ],
   "source": [
    "import os\n",
    "os.getcwd()"
   ]
  },
  {
   "cell_type": "code",
   "execution_count": null,
   "metadata": {},
   "outputs": [],
   "source": []
  }
 ],
 "metadata": {
  "kernelspec": {
   "display_name": "Python 3",
   "language": "python",
   "name": "python3"
  },
  "language_info": {
   "codemirror_mode": {
    "name": "ipython",
    "version": 3
   },
   "file_extension": ".py",
   "mimetype": "text/x-python",
   "name": "python",
   "nbconvert_exporter": "python",
   "pygments_lexer": "ipython3",
   "version": "3.7.1"
  }
 },
 "nbformat": 4,
 "nbformat_minor": 2
}
