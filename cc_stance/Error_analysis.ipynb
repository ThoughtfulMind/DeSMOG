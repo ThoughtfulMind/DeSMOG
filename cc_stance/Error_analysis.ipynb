{
 "cells": [
  {
   "cell_type": "code",
   "execution_count": 60,
   "metadata": {},
   "outputs": [],
   "source": [
    "import pandas as pd\n",
    "pd.set_option('display.max_colwidth', -1)\n",
    "import numpy as np"
   ]
  },
  {
   "cell_type": "code",
   "execution_count": 1,
   "metadata": {},
   "outputs": [
    {
     "data": {
      "text/plain": [
       "'/Users/yiweiluo/scientific-debates/cc_stance'"
      ]
     },
     "execution_count": 1,
     "metadata": {},
     "output_type": "execute_result"
    }
   ],
   "source": [
    "# import os\n",
    "# os.getcwd()"
   ]
  },
  {
   "cell_type": "code",
   "execution_count": 3,
   "metadata": {
    "code_folding": []
   },
   "outputs": [],
   "source": [
    "def to_int(x):\n",
    "    if x == 'neutral' or x == 2:\n",
    "        return -1\n",
    "    elif x == 'disagree' or x == 1:\n",
    "        return 0\n",
    "    else:\n",
    "        return 1"
   ]
  },
  {
   "cell_type": "code",
   "execution_count": 62,
   "metadata": {},
   "outputs": [],
   "source": [
    "BERT_PRED_DIR = 'BERT/bert_preds/'\n",
    "DATA_DIR = './data_creation/scripts/save/'"
   ]
  },
  {
   "cell_type": "code",
   "execution_count": null,
   "metadata": {},
   "outputs": [],
   "source": []
  },
  {
   "cell_type": "markdown",
   "metadata": {},
   "source": [
    "# BERT predictions"
   ]
  },
  {
   "cell_type": "code",
   "execution_count": 77,
   "metadata": {
    "code_folding": [
     0
    ]
   },
   "outputs": [],
   "source": [
    "def do_error_analysis(pred_filename,true_filename):\n",
    "    # Load and pre-process\n",
    "    preds = pd.read_csv(BERT_PRED_DIR+pred_filename,sep='\\t',header=0,index_col=False)\n",
    "    true = pd.read_csv(DATA_DIR+true_filename,sep='\\t',header=None,index_col=False)\n",
    "    assert len(preds) == len(true)\n",
    "    preds['true'] = preds['true'].apply(to_int)\n",
    "    preds['predicted'] = preds['predicted'].apply(to_int)\n",
    "    true[1] = true[1].apply(to_int)\n",
    "    print(true.head(10))\n",
    "    assert np.sum([(true[1] == preds['true'])]) == len(preds)\n",
    "    preds['sentence'] = true[0]\n",
    "    \n",
    "    bad_preds = preds[preds.true != preds.predicted]\n",
    "    good_preds = preds[preds.true == preds.predicted]\n",
    "    opp_preds = bad_preds[bad_preds.true == bad_preds.predicted*-1]\n",
    "    N_correct = len(good_preds)\n",
    "    N_wrong = len(bad_preds)\n",
    "    N_opp = len(opp_preds)\n",
    "    total_N = len(preds)\n",
    "    print('Num correct: {},\\tNum wrong: {},\\tNum opposite: {}\\n'.format(N_correct,\n",
    "                                                                N_wrong,\n",
    "                                                                N_opp))\n",
    "    print('Percent correct: {},\\tPercent wrong: {},\\tPercent opposite: {}\\n'\\\n",
    "          .format(round(N_correct/len(preds),3),\n",
    "                 round(N_wrong/len(preds),3),\n",
    "                 round(N_opp/len(preds),3)))\n",
    "    \n",
    "    prop_opp_from_agrees = round(len(opp_preds[opp_preds.true == 1])/len(opp_preds)*100,2)\n",
    "    print('Of the opposite preds, {}% were true agrees and {}% were true disagrees.\\n'\\\n",
    "         .format(prop_opp_from_agrees,100-prop_opp_from_agrees))\n",
    "    \n",
    "    false_neutrals = bad_preds[bad_preds.predicted == 0]\n",
    "    false_agrees = bad_preds[bad_preds.predicted == 1]\n",
    "    false_disagrees = bad_preds[bad_preds.predicted == -1]\n",
    "    true_neutrals = good_preds[good_preds.predicted == 0]\n",
    "    true_agrees = good_preds[good_preds.predicted == 1]\n",
    "    true_disagrees = good_preds[good_preds.predicted == -1]\n",
    "    \n",
    "    print('Proportion of false agrees: {} (out of {} true agrees)'.\\\n",
    "          format(round(len(false_agrees)/len(preds),3),\n",
    "                len(true_agrees)))\n",
    "    print('Distribution of true values of false agrees:\\n', \n",
    "          false_agrees.true.value_counts())\n",
    "    \n",
    "    print('Proportion of false disagrees: {} (out of {} true disagrees)'.\\\n",
    "          format(round(len(false_disagrees)/len(preds),3),\n",
    "                len(true_disagrees)))\n",
    "    print('Distribution of true values of false disagrees:\\n', \n",
    "          false_disagrees.true.value_counts())\n",
    "    \n",
    "    print('Proportion of false neutrals: {} (out of {} true neutrals)'.\\\n",
    "          format(round(len(false_neutrals)/len(preds),3),\n",
    "                len(true_neutrals)))\n",
    "    print('Distribution of true values of false neutrals:\\n', \n",
    "          false_neutrals.true.value_counts())\n",
    "    \n",
    "    return preds,opp_preds"
   ]
  },
  {
   "cell_type": "code",
   "execution_count": 80,
   "metadata": {},
   "outputs": [
    {
     "name": "stdout",
     "output_type": "stream",
     "text": [
      "                                                                                                                                                                                                                                                 0  \\\n",
      "0  The effects of decisions like these will be felt for generations as global warming leads to more powerful storms and higher risk of damage to property.                                                                                           \n",
      "1  Hawaii is committed to environmental stewardship, and we look forward to working with other states to fight global climate change.                                                                                                                \n",
      "2  The global south in particular is both more vulnerable to the effects of climate change and less equipped to deal with those effects.                                                                                                             \n",
      "3  They would look self-serving and out of touch if they tried to deny climate change.                                                                                                                                                               \n",
      "4  Because climate change perceptions in children seem less susceptible to the influence of worldview or political context, it may be possible for them to inspire adults toward higher levels of climate concern, and in turn, collective action.   \n",
      "5  Following another year of extreme heat and ice sheet melt, environmental issues are now considered to be the top five long-term risks confronting the global economy.                                                                             \n",
      "6  This is the result of climate change.                                                                                                                                                                                                             \n",
      "7  In California alone, rising sea levels could threaten $100 billion in infrastructure and imperil half a million people.                                                                                                                           \n",
      "8  The climate benefits of the program -- as well as the health benefits that will come from a reduction in tailpipe pollution, and the jobs and improved infrastructure that fresh investment will bring -- more than outweigh those costs.         \n",
      "9  While many scientists are wary of drawing firm links between any particular storm and climate change, a rising sea level adds to the destructiveness of storm surges, and a warming atmosphere holds more moisture, leading to more rain.         \n",
      "\n",
      "   1  \n",
      "0  1  \n",
      "1  1  \n",
      "2  1  \n",
      "3  1  \n",
      "4  1  \n",
      "5  1  \n",
      "6  1  \n",
      "7  1  \n",
      "8  1  \n",
      "9  1  \n",
      "Num correct: 184,\tNum wrong: 53,\tNum opposite: 11\n",
      "\n",
      "Percent correct: 0.776,\tPercent wrong: 0.224,\tPercent opposite: 0.046\n",
      "\n",
      "Of the opposite preds, 18.18% were true agrees and 81.82% were true disagrees.\n",
      "\n",
      "Proportion of false agrees: 0.08 (out of 58 true agrees)\n",
      "Distribution of true values of false agrees:\n",
      "  0    10\n",
      "-1    9 \n",
      "Name: true, dtype: int64\n",
      "Proportion of false disagrees: 0.021 (out of 52 true disagrees)\n",
      "Distribution of true values of false disagrees:\n",
      " 0    3\n",
      "1    2\n",
      "Name: true, dtype: int64\n",
      "Proportion of false neutrals: 0.122 (out of 74 true neutrals)\n",
      "Distribution of true values of false neutrals:\n",
      "  1    18\n",
      "-1    11\n",
      "Name: true, dtype: int64\n"
     ]
    }
   ],
   "source": [
    "preds_dev,opp_preds_dev = do_error_analysis('downsampled_mturk_dev_preds.tsv',\n",
    "                 'downsampled_mturk/dev.tsv')"
   ]
  },
  {
   "cell_type": "code",
   "execution_count": 79,
   "metadata": {},
   "outputs": [
    {
     "data": {
      "text/html": [
       "<div>\n",
       "<style scoped>\n",
       "    .dataframe tbody tr th:only-of-type {\n",
       "        vertical-align: middle;\n",
       "    }\n",
       "\n",
       "    .dataframe tbody tr th {\n",
       "        vertical-align: top;\n",
       "    }\n",
       "\n",
       "    .dataframe thead th {\n",
       "        text-align: right;\n",
       "    }\n",
       "</style>\n",
       "<table border=\"1\" class=\"dataframe\">\n",
       "  <thead>\n",
       "    <tr style=\"text-align: right;\">\n",
       "      <th></th>\n",
       "      <th>true</th>\n",
       "      <th>predicted</th>\n",
       "      <th>sentence</th>\n",
       "    </tr>\n",
       "  </thead>\n",
       "  <tbody>\n",
       "    <tr>\n",
       "      <td>31</td>\n",
       "      <td>1</td>\n",
       "      <td>-1</td>\n",
       "      <td>They are too pessimistic about the chances of limiting global warming.</td>\n",
       "    </tr>\n",
       "    <tr>\n",
       "      <td>45</td>\n",
       "      <td>1</td>\n",
       "      <td>-1</td>\n",
       "      <td>Its appropriate to call such storms global warming type events.</td>\n",
       "    </tr>\n",
       "    <tr>\n",
       "      <td>167</td>\n",
       "      <td>-1</td>\n",
       "      <td>1</td>\n",
       "      <td>The magnitude of the dryness is well beyond what global warming would be able to do so far.</td>\n",
       "    </tr>\n",
       "    <tr>\n",
       "      <td>171</td>\n",
       "      <td>-1</td>\n",
       "      <td>1</td>\n",
       "      <td>Global warming is occurring more slowly than computer models forecast a decade ago.</td>\n",
       "    </tr>\n",
       "    <tr>\n",
       "      <td>185</td>\n",
       "      <td>-1</td>\n",
       "      <td>1</td>\n",
       "      <td>Global warming can be tackled without changing entrenched patterns of production and consumption in industrialized societies.</td>\n",
       "    </tr>\n",
       "    <tr>\n",
       "      <td>188</td>\n",
       "      <td>-1</td>\n",
       "      <td>1</td>\n",
       "      <td>Ultimately, global warming has become the sole focus of so much environmental discussion that it risks eclipsing much more pressing and demonstrable environmental problems.</td>\n",
       "    </tr>\n",
       "    <tr>\n",
       "      <td>189</td>\n",
       "      <td>-1</td>\n",
       "      <td>1</td>\n",
       "      <td>Mitch McConnell and the Republican Party are going to boldly confront climate change and create millions of jobs in the process.</td>\n",
       "    </tr>\n",
       "    <tr>\n",
       "      <td>207</td>\n",
       "      <td>-1</td>\n",
       "      <td>1</td>\n",
       "      <td>By now there should have been global warming equivalent to 2.8 degrees / century.</td>\n",
       "    </tr>\n",
       "    <tr>\n",
       "      <td>210</td>\n",
       "      <td>-1</td>\n",
       "      <td>1</td>\n",
       "      <td>Policies designed to curb global warming would hurt the economy.</td>\n",
       "    </tr>\n",
       "    <tr>\n",
       "      <td>225</td>\n",
       "      <td>-1</td>\n",
       "      <td>1</td>\n",
       "      <td>All that our world leaders need is a little more common sense, in order to avoid the nonsense of seeking a globally-binding treaty to reduce CO2 emissions.</td>\n",
       "    </tr>\n",
       "    <tr>\n",
       "      <td>232</td>\n",
       "      <td>-1</td>\n",
       "      <td>1</td>\n",
       "      <td>The rising level of carbon dioxide in the earths atmosphere is currently net beneficial for both humanity and the biosphere generally.</td>\n",
       "    </tr>\n",
       "  </tbody>\n",
       "</table>\n",
       "</div>"
      ],
      "text/plain": [
       "     true  predicted  \\\n",
       "31   1    -1           \n",
       "45   1    -1           \n",
       "167 -1     1           \n",
       "171 -1     1           \n",
       "185 -1     1           \n",
       "188 -1     1           \n",
       "189 -1     1           \n",
       "207 -1     1           \n",
       "210 -1     1           \n",
       "225 -1     1           \n",
       "232 -1     1           \n",
       "\n",
       "                                                                                                                                                                         sentence  \n",
       "31   They are too pessimistic about the chances of limiting global warming.                                                                                                        \n",
       "45   Its appropriate to call such storms global warming type events.                                                                                                               \n",
       "167  The magnitude of the dryness is well beyond what global warming would be able to do so far.                                                                                   \n",
       "171  Global warming is occurring more slowly than computer models forecast a decade ago.                                                                                           \n",
       "185  Global warming can be tackled without changing entrenched patterns of production and consumption in industrialized societies.                                                 \n",
       "188  Ultimately, global warming has become the sole focus of so much environmental discussion that it risks eclipsing much more pressing and demonstrable environmental problems.  \n",
       "189  Mitch McConnell and the Republican Party are going to boldly confront climate change and create millions of jobs in the process.                                              \n",
       "207  By now there should have been global warming equivalent to 2.8 degrees / century.                                                                                             \n",
       "210  Policies designed to curb global warming would hurt the economy.                                                                                                              \n",
       "225  All that our world leaders need is a little more common sense, in order to avoid the nonsense of seeking a globally-binding treaty to reduce CO2 emissions.                   \n",
       "232  The rising level of carbon dioxide in the earths atmosphere is currently net beneficial for both humanity and the biosphere generally.                                        "
      ]
     },
     "execution_count": 79,
     "metadata": {},
     "output_type": "execute_result"
    }
   ],
   "source": [
    "# Train on downsampled MTurk; evaluate on dev MTurk\n",
    "opp_preds"
   ]
  },
  {
   "cell_type": "code",
   "execution_count": 81,
   "metadata": {},
   "outputs": [
    {
     "name": "stdout",
     "output_type": "stream",
     "text": [
      "                                                                                                                                                                                                                                                                                                                               0  \\\n",
      "0  The ridiculously warm temperatures in the Arctic during October and November this year this year are off the charts over our 68 years of measurements.                                                                                                                                                                          \n",
      "1  No one can say they are happy about climate change.                                                                                                                                                                                                                                                                             \n",
      "2  Earlier this year painted a bleaker portrait than the IPCC, stating that without a \"decisive shift\" by 2030 the globe will pass the point of no return and be unable to keep the global temperature rise to below 2C.                                                                                                           \n",
      "3  Climate change can be blunted only by moving to renewable energy and capping any growth of fossil fuels.                                                                                                                                                                                                                        \n",
      "4  A diet heavy on vegetables is the best diet for the planet in this age of global warming.                                                                                                                                                                                                                                       \n",
      "5  Living like climate change is real and that we can do something about it are signals to others.                                                                                                                                                                                                                                 \n",
      "6  Global warming is a meteor that will strike in our lifetimes, and consequently urged mainstream media outlets to cover the threat it poses above all other news.                                                                                                                                                                \n",
      "7  Rapid warming in the Arctic could upset these deposits, melting them and freeing the gas.                                                                                                                                                                                                                                       \n",
      "8  Climate change is affecting the Antarctic more than previously believed and is likely to prompt global projections of sea-level rise to be revised upward.                                                                                                                                                                      \n",
      "9  If we are to fully exploit this new oil source, and continue to burn we conventional oil, gas and coal supplies, concentrations of carbon dioxide in the atmosphere eventually would reach levels higher than in the Pliocene era, more than 2.5 million years ago, when sea level is at least 50 feet higher than it is now.   \n",
      "\n",
      "   1  \n",
      "0  1  \n",
      "1  1  \n",
      "2  1  \n",
      "3  1  \n",
      "4  1  \n",
      "5  1  \n",
      "6  1  \n",
      "7  1  \n",
      "8  1  \n",
      "9  1  \n",
      "Num correct: 683,\tNum wrong: 178,\tNum opposite: 28\n",
      "\n",
      "Percent correct: 0.793,\tPercent wrong: 0.207,\tPercent opposite: 0.033\n",
      "\n",
      "Of the opposite preds, 82.14% were true agrees and 17.86% were true disagrees.\n",
      "\n",
      "Proportion of false agrees: 0.059 (out of 299 true agrees)\n",
      "Distribution of true values of false agrees:\n",
      "  0    46\n",
      "-1    5 \n",
      "Name: true, dtype: int64\n",
      "Proportion of false disagrees: 0.063 (out of 30 true disagrees)\n",
      "Distribution of true values of false disagrees:\n",
      " 0    31\n",
      "1    23\n",
      "Name: true, dtype: int64\n",
      "Proportion of false neutrals: 0.085 (out of 354 true neutrals)\n",
      "Distribution of true values of false neutrals:\n",
      "  1    67\n",
      "-1    6 \n",
      "Name: true, dtype: int64\n"
     ]
    }
   ],
   "source": [
    "preds_test,opp_preds_test = do_error_analysis('downsampled_mturk_test_preds.tsv',\n",
    "                 'downsampled_mturk/test.tsv')"
   ]
  },
  {
   "cell_type": "code",
   "execution_count": 82,
   "metadata": {},
   "outputs": [
    {
     "data": {
      "text/html": [
       "<div>\n",
       "<style scoped>\n",
       "    .dataframe tbody tr th:only-of-type {\n",
       "        vertical-align: middle;\n",
       "    }\n",
       "\n",
       "    .dataframe tbody tr th {\n",
       "        vertical-align: top;\n",
       "    }\n",
       "\n",
       "    .dataframe thead th {\n",
       "        text-align: right;\n",
       "    }\n",
       "</style>\n",
       "<table border=\"1\" class=\"dataframe\">\n",
       "  <thead>\n",
       "    <tr style=\"text-align: right;\">\n",
       "      <th></th>\n",
       "      <th>true</th>\n",
       "      <th>predicted</th>\n",
       "      <th>sentence</th>\n",
       "    </tr>\n",
       "  </thead>\n",
       "  <tbody>\n",
       "    <tr>\n",
       "      <td>0</td>\n",
       "      <td>1</td>\n",
       "      <td>-1</td>\n",
       "      <td>The ridiculously warm temperatures in the Arctic during October and November this year this year are off the charts over our 68 years of measurements.</td>\n",
       "    </tr>\n",
       "    <tr>\n",
       "      <td>5</td>\n",
       "      <td>1</td>\n",
       "      <td>-1</td>\n",
       "      <td>Living like climate change is real and that we can do something about it are signals to others.</td>\n",
       "    </tr>\n",
       "    <tr>\n",
       "      <td>10</td>\n",
       "      <td>1</td>\n",
       "      <td>-1</td>\n",
       "      <td>The low number is derived from a method that did not take account of the way global warming had sped up since the 1970s.</td>\n",
       "    </tr>\n",
       "    <tr>\n",
       "      <td>37</td>\n",
       "      <td>1</td>\n",
       "      <td>-1</td>\n",
       "      <td>It does not include a discussion on climate change, which is an outrage.</td>\n",
       "    </tr>\n",
       "    <tr>\n",
       "      <td>87</td>\n",
       "      <td>1</td>\n",
       "      <td>-1</td>\n",
       "      <td>No use in denying global warming exists.</td>\n",
       "    </tr>\n",
       "    <tr>\n",
       "      <td>89</td>\n",
       "      <td>1</td>\n",
       "      <td>-1</td>\n",
       "      <td>Global warming is the tide coming in, and El Nio is the waves.</td>\n",
       "    </tr>\n",
       "    <tr>\n",
       "      <td>102</td>\n",
       "      <td>1</td>\n",
       "      <td>-1</td>\n",
       "      <td>The beans contains some powerful refutations of a number of other global warming denier talking points, as well as some ingenious sequences that explain the planetary-scale significance of climate change.</td>\n",
       "    </tr>\n",
       "    <tr>\n",
       "      <td>115</td>\n",
       "      <td>1</td>\n",
       "      <td>-1</td>\n",
       "      <td>The missed deadline underscores the disdain with which the Trump administration views the worldwide effort to rein in global warming.</td>\n",
       "    </tr>\n",
       "    <tr>\n",
       "      <td>116</td>\n",
       "      <td>1</td>\n",
       "      <td>-1</td>\n",
       "      <td>Today 's [ Green New Deal ] vote is a partisan stunt to side-step needed debate on climate action, and give Republicans cover to put oil lobby checks over our kids.</td>\n",
       "    </tr>\n",
       "    <tr>\n",
       "      <td>146</td>\n",
       "      <td>1</td>\n",
       "      <td>-1</td>\n",
       "      <td>Global warming is real, because the rise of terrorism tracks with their  adjusted  climate data.</td>\n",
       "    </tr>\n",
       "    <tr>\n",
       "      <td>147</td>\n",
       "      <td>1</td>\n",
       "      <td>-1</td>\n",
       "      <td>Rep. Dana Rohrabacher (R-Calif) doesnt think carbon dioxide causes global warming, a denial of science so basic its essentially the same as saying the Earth is flat.</td>\n",
       "    </tr>\n",
       "    <tr>\n",
       "      <td>148</td>\n",
       "      <td>1</td>\n",
       "      <td>-1</td>\n",
       "      <td>There is something unusual about current temperatures: that we have catastrophic global warming from industrialisation.</td>\n",
       "    </tr>\n",
       "    <tr>\n",
       "      <td>188</td>\n",
       "      <td>1</td>\n",
       "      <td>-1</td>\n",
       "      <td>The paper in no way diminishes the extensive body of observations that global warming is happening and that it is largely due to human activity.</td>\n",
       "    </tr>\n",
       "    <tr>\n",
       "      <td>189</td>\n",
       "      <td>1</td>\n",
       "      <td>-1</td>\n",
       "      <td>Climate change has changed the atmosphere itself.</td>\n",
       "    </tr>\n",
       "    <tr>\n",
       "      <td>257</td>\n",
       "      <td>1</td>\n",
       "      <td>-1</td>\n",
       "      <td>This resolution is simply going to be just one of many examples of Democrats on offense and united on the seriousness of and the need to take urgent action on climate change while Republicans are focused on cynical show votes.</td>\n",
       "    </tr>\n",
       "    <tr>\n",
       "      <td>259</td>\n",
       "      <td>1</td>\n",
       "      <td>-1</td>\n",
       "      <td>Unfortunately, the Trump administration has become a rogue outlier in its shortsighted attempt to prop up the dirty fossil fuel industries of the past.</td>\n",
       "    </tr>\n",
       "    <tr>\n",
       "      <td>293</td>\n",
       "      <td>1</td>\n",
       "      <td>-1</td>\n",
       "      <td>You have failed in humanity's task of protecting the climate.</td>\n",
       "    </tr>\n",
       "    <tr>\n",
       "      <td>335</td>\n",
       "      <td>1</td>\n",
       "      <td>-1</td>\n",
       "      <td>Global warming is nt approaching  it had already arrived.</td>\n",
       "    </tr>\n",
       "    <tr>\n",
       "      <td>343</td>\n",
       "      <td>1</td>\n",
       "      <td>-1</td>\n",
       "      <td>People in the United States the United States are being harmed by global warming right now.</td>\n",
       "    </tr>\n",
       "    <tr>\n",
       "      <td>357</td>\n",
       "      <td>1</td>\n",
       "      <td>-1</td>\n",
       "      <td>Despite the worldwide recession, the urgency of reaching an international agreement on reducing carbon emissions cannot be overstated.</td>\n",
       "    </tr>\n",
       "    <tr>\n",
       "      <td>361</td>\n",
       "      <td>1</td>\n",
       "      <td>-1</td>\n",
       "      <td>Human activity is the main cause of global warming, while the other investigation reveals widespread political interference in federal climate science here in the United States.</td>\n",
       "    </tr>\n",
       "    <tr>\n",
       "      <td>367</td>\n",
       "      <td>1</td>\n",
       "      <td>-1</td>\n",
       "      <td>Co2 is a demon molecule that causes global warming.</td>\n",
       "    </tr>\n",
       "    <tr>\n",
       "      <td>383</td>\n",
       "      <td>1</td>\n",
       "      <td>-1</td>\n",
       "      <td>The rate at which they are diminishing is more or less parallel to the increase in the rate of global warming.</td>\n",
       "    </tr>\n",
       "    <tr>\n",
       "      <td>838</td>\n",
       "      <td>-1</td>\n",
       "      <td>1</td>\n",
       "      <td>Global cooling is inevitable.</td>\n",
       "    </tr>\n",
       "    <tr>\n",
       "      <td>842</td>\n",
       "      <td>-1</td>\n",
       "      <td>1</td>\n",
       "      <td>Anthropogenic global warming is the greatest and widest-ranging market failure ever seen.</td>\n",
       "    </tr>\n",
       "    <tr>\n",
       "      <td>844</td>\n",
       "      <td>-1</td>\n",
       "      <td>1</td>\n",
       "      <td>Global warming is beneficial to the welfare and business.</td>\n",
       "    </tr>\n",
       "    <tr>\n",
       "      <td>847</td>\n",
       "      <td>-1</td>\n",
       "      <td>1</td>\n",
       "      <td>The climate scare will soon lose credibility as global warming.</td>\n",
       "    </tr>\n",
       "    <tr>\n",
       "      <td>860</td>\n",
       "      <td>-1</td>\n",
       "      <td>1</td>\n",
       "      <td>The world may have already begun to cool in response to a weakening Sun, a phenomenon far more dangerous than any possible human-induced warming.</td>\n",
       "    </tr>\n",
       "  </tbody>\n",
       "</table>\n",
       "</div>"
      ],
      "text/plain": [
       "     true  predicted  \\\n",
       "0    1    -1           \n",
       "5    1    -1           \n",
       "10   1    -1           \n",
       "37   1    -1           \n",
       "87   1    -1           \n",
       "89   1    -1           \n",
       "102  1    -1           \n",
       "115  1    -1           \n",
       "116  1    -1           \n",
       "146  1    -1           \n",
       "147  1    -1           \n",
       "148  1    -1           \n",
       "188  1    -1           \n",
       "189  1    -1           \n",
       "257  1    -1           \n",
       "259  1    -1           \n",
       "293  1    -1           \n",
       "335  1    -1           \n",
       "343  1    -1           \n",
       "357  1    -1           \n",
       "361  1    -1           \n",
       "367  1    -1           \n",
       "383  1    -1           \n",
       "838 -1     1           \n",
       "842 -1     1           \n",
       "844 -1     1           \n",
       "847 -1     1           \n",
       "860 -1     1           \n",
       "\n",
       "                                                                                                                                                                                                                               sentence  \n",
       "0    The ridiculously warm temperatures in the Arctic during October and November this year this year are off the charts over our 68 years of measurements.                                                                              \n",
       "5    Living like climate change is real and that we can do something about it are signals to others.                                                                                                                                     \n",
       "10   The low number is derived from a method that did not take account of the way global warming had sped up since the 1970s.                                                                                                            \n",
       "37   It does not include a discussion on climate change, which is an outrage.                                                                                                                                                            \n",
       "87   No use in denying global warming exists.                                                                                                                                                                                            \n",
       "89   Global warming is the tide coming in, and El Nio is the waves.                                                                                                                                                                      \n",
       "102  The beans contains some powerful refutations of a number of other global warming denier talking points, as well as some ingenious sequences that explain the planetary-scale significance of climate change.                        \n",
       "115  The missed deadline underscores the disdain with which the Trump administration views the worldwide effort to rein in global warming.                                                                                               \n",
       "116  Today 's [ Green New Deal ] vote is a partisan stunt to side-step needed debate on climate action, and give Republicans cover to put oil lobby checks over our kids.                                                                \n",
       "146  Global warming is real, because the rise of terrorism tracks with their  adjusted  climate data.                                                                                                                                    \n",
       "147  Rep. Dana Rohrabacher (R-Calif) doesnt think carbon dioxide causes global warming, a denial of science so basic its essentially the same as saying the Earth is flat.                                                               \n",
       "148  There is something unusual about current temperatures: that we have catastrophic global warming from industrialisation.                                                                                                             \n",
       "188  The paper in no way diminishes the extensive body of observations that global warming is happening and that it is largely due to human activity.                                                                                    \n",
       "189  Climate change has changed the atmosphere itself.                                                                                                                                                                                   \n",
       "257  This resolution is simply going to be just one of many examples of Democrats on offense and united on the seriousness of and the need to take urgent action on climate change while Republicans are focused on cynical show votes.  \n",
       "259  Unfortunately, the Trump administration has become a rogue outlier in its shortsighted attempt to prop up the dirty fossil fuel industries of the past.                                                                             \n",
       "293  You have failed in humanity's task of protecting the climate.                                                                                                                                                                       \n",
       "335  Global warming is nt approaching  it had already arrived.                                                                                                                                                                           \n",
       "343  People in the United States the United States are being harmed by global warming right now.                                                                                                                                         \n",
       "357  Despite the worldwide recession, the urgency of reaching an international agreement on reducing carbon emissions cannot be overstated.                                                                                              \n",
       "361  Human activity is the main cause of global warming, while the other investigation reveals widespread political interference in federal climate science here in the United States.                                                   \n",
       "367  Co2 is a demon molecule that causes global warming.                                                                                                                                                                                 \n",
       "383  The rate at which they are diminishing is more or less parallel to the increase in the rate of global warming.                                                                                                                      \n",
       "838  Global cooling is inevitable.                                                                                                                                                                                                       \n",
       "842  Anthropogenic global warming is the greatest and widest-ranging market failure ever seen.                                                                                                                                           \n",
       "844  Global warming is beneficial to the welfare and business.                                                                                                                                                                           \n",
       "847  The climate scare will soon lose credibility as global warming.                                                                                                                                                                     \n",
       "860  The world may have already begun to cool in response to a weakening Sun, a phenomenon far more dangerous than any possible human-induced warming.                                                                                   "
      ]
     },
     "execution_count": 82,
     "metadata": {},
     "output_type": "execute_result"
    }
   ],
   "source": [
    "opp_preds_test"
   ]
  },
  {
   "cell_type": "markdown",
   "metadata": {},
   "source": [
    "BERT trained on MTurk only, no downsampling:"
   ]
  },
  {
   "cell_type": "markdown",
   "metadata": {},
   "source": [
    "More of the opposite predictions are coming from true \"disagrees\" than \"agrees\"."
   ]
  },
  {
   "cell_type": "code",
   "execution_count": 43,
   "metadata": {},
   "outputs": [
    {
     "data": {
      "text/plain": [
       "0.18181818181818182"
      ]
     },
     "execution_count": 43,
     "metadata": {},
     "output_type": "execute_result"
    }
   ],
   "source": [
    "len(opp_preds[opp_preds.true == 1])/len(opp_preds)"
   ]
  },
  {
   "cell_type": "code",
   "execution_count": 44,
   "metadata": {},
   "outputs": [
    {
     "data": {
      "text/plain": [
       "0.8181818181818182"
      ]
     },
     "execution_count": 44,
     "metadata": {},
     "output_type": "execute_result"
    }
   ],
   "source": [
    "len(opp_preds[opp_preds.true == -1])/len(opp_preds)"
   ]
  },
  {
   "cell_type": "code",
   "execution_count": 58,
   "metadata": {
    "scrolled": true
   },
   "outputs": [
    {
     "data": {
      "text/html": [
       "<div>\n",
       "<style scoped>\n",
       "    .dataframe tbody tr th:only-of-type {\n",
       "        vertical-align: middle;\n",
       "    }\n",
       "\n",
       "    .dataframe tbody tr th {\n",
       "        vertical-align: top;\n",
       "    }\n",
       "\n",
       "    .dataframe thead th {\n",
       "        text-align: right;\n",
       "    }\n",
       "</style>\n",
       "<table border=\"1\" class=\"dataframe\">\n",
       "  <thead>\n",
       "    <tr style=\"text-align: right;\">\n",
       "      <th></th>\n",
       "      <th>true</th>\n",
       "      <th>predicted</th>\n",
       "      <th>sentence</th>\n",
       "    </tr>\n",
       "  </thead>\n",
       "  <tbody>\n",
       "    <tr>\n",
       "      <td>31</td>\n",
       "      <td>1</td>\n",
       "      <td>-1</td>\n",
       "      <td>They are too pessimistic about the chances of limiting global warming.</td>\n",
       "    </tr>\n",
       "    <tr>\n",
       "      <td>45</td>\n",
       "      <td>1</td>\n",
       "      <td>-1</td>\n",
       "      <td>Its appropriate to call such storms global warming type events.</td>\n",
       "    </tr>\n",
       "    <tr>\n",
       "      <td>167</td>\n",
       "      <td>-1</td>\n",
       "      <td>1</td>\n",
       "      <td>The magnitude of the dryness is well beyond what global warming would be able to do so far.</td>\n",
       "    </tr>\n",
       "    <tr>\n",
       "      <td>171</td>\n",
       "      <td>-1</td>\n",
       "      <td>1</td>\n",
       "      <td>Global warming is occurring more slowly than computer models forecast a decade ago.</td>\n",
       "    </tr>\n",
       "    <tr>\n",
       "      <td>185</td>\n",
       "      <td>-1</td>\n",
       "      <td>1</td>\n",
       "      <td>Global warming can be tackled without changing entrenched patterns of production and consumption in industrialized societies.</td>\n",
       "    </tr>\n",
       "    <tr>\n",
       "      <td>188</td>\n",
       "      <td>-1</td>\n",
       "      <td>1</td>\n",
       "      <td>Ultimately, global warming has become the sole focus of so much environmental discussion that it risks eclipsing much more pressing and demonstrable environmental problems.</td>\n",
       "    </tr>\n",
       "    <tr>\n",
       "      <td>189</td>\n",
       "      <td>-1</td>\n",
       "      <td>1</td>\n",
       "      <td>Mitch McConnell and the Republican Party are going to boldly confront climate change and create millions of jobs in the process.</td>\n",
       "    </tr>\n",
       "    <tr>\n",
       "      <td>207</td>\n",
       "      <td>-1</td>\n",
       "      <td>1</td>\n",
       "      <td>By now there should have been global warming equivalent to 2.8 degrees / century.</td>\n",
       "    </tr>\n",
       "    <tr>\n",
       "      <td>210</td>\n",
       "      <td>-1</td>\n",
       "      <td>1</td>\n",
       "      <td>Policies designed to curb global warming would hurt the economy.</td>\n",
       "    </tr>\n",
       "    <tr>\n",
       "      <td>225</td>\n",
       "      <td>-1</td>\n",
       "      <td>1</td>\n",
       "      <td>All that our world leaders need is a little more common sense, in order to avoid the nonsense of seeking a globally-binding treaty to reduce CO2 emissions.</td>\n",
       "    </tr>\n",
       "    <tr>\n",
       "      <td>232</td>\n",
       "      <td>-1</td>\n",
       "      <td>1</td>\n",
       "      <td>The rising level of carbon dioxide in the earths atmosphere is currently net beneficial for both humanity and the biosphere generally.</td>\n",
       "    </tr>\n",
       "  </tbody>\n",
       "</table>\n",
       "</div>"
      ],
      "text/plain": [
       "     true  predicted  \\\n",
       "31   1    -1           \n",
       "45   1    -1           \n",
       "167 -1     1           \n",
       "171 -1     1           \n",
       "185 -1     1           \n",
       "188 -1     1           \n",
       "189 -1     1           \n",
       "207 -1     1           \n",
       "210 -1     1           \n",
       "225 -1     1           \n",
       "232 -1     1           \n",
       "\n",
       "                                                                                                                                                                         sentence  \n",
       "31   They are too pessimistic about the chances of limiting global warming.                                                                                                        \n",
       "45   Its appropriate to call such storms global warming type events.                                                                                                               \n",
       "167  The magnitude of the dryness is well beyond what global warming would be able to do so far.                                                                                   \n",
       "171  Global warming is occurring more slowly than computer models forecast a decade ago.                                                                                           \n",
       "185  Global warming can be tackled without changing entrenched patterns of production and consumption in industrialized societies.                                                 \n",
       "188  Ultimately, global warming has become the sole focus of so much environmental discussion that it risks eclipsing much more pressing and demonstrable environmental problems.  \n",
       "189  Mitch McConnell and the Republican Party are going to boldly confront climate change and create millions of jobs in the process.                                              \n",
       "207  By now there should have been global warming equivalent to 2.8 degrees / century.                                                                                             \n",
       "210  Policies designed to curb global warming would hurt the economy.                                                                                                              \n",
       "225  All that our world leaders need is a little more common sense, in order to avoid the nonsense of seeking a globally-binding treaty to reduce CO2 emissions.                   \n",
       "232  The rising level of carbon dioxide in the earths atmosphere is currently net beneficial for both humanity and the biosphere generally.                                        "
      ]
     },
     "execution_count": 58,
     "metadata": {},
     "output_type": "execute_result"
    }
   ],
   "source": [
    "opp_preds"
   ]
  },
  {
   "cell_type": "code",
   "execution_count": 173,
   "metadata": {},
   "outputs": [],
   "source": [
    "false_neutrals = bad_preds[bad_preds.predicted == 0]\n",
    "false_agrees = bad_preds[bad_preds.predicted == 1]\n",
    "false_disagrees = bad_preds[bad_preds.predicted == -1]\n",
    "true_neutrals = good_preds[good_preds.predicted == 0]\n",
    "true_agrees = good_preds[good_preds.predicted == 1]\n",
    "true_disagrees = good_preds[good_preds.predicted == -1]"
   ]
  },
  {
   "cell_type": "code",
   "execution_count": 175,
   "metadata": {},
   "outputs": [
    {
     "data": {
      "text/plain": [
       "0.15030674846625766"
      ]
     },
     "execution_count": 175,
     "metadata": {},
     "output_type": "execute_result"
    }
   ],
   "source": [
    "len(false_agrees)/len(mturk_only_preds)"
   ]
  },
  {
   "cell_type": "code",
   "execution_count": 176,
   "metadata": {},
   "outputs": [
    {
     "data": {
      "text/plain": [
       "84"
      ]
     },
     "execution_count": 176,
     "metadata": {},
     "output_type": "execute_result"
    }
   ],
   "source": [
    "len(true_agrees)"
   ]
  },
  {
   "cell_type": "code",
   "execution_count": 177,
   "metadata": {
    "scrolled": true
   },
   "outputs": [
    {
     "data": {
      "text/plain": [
       " 0    28\n",
       "-1    21\n",
       "Name: true, dtype: int64"
      ]
     },
     "execution_count": 177,
     "metadata": {},
     "output_type": "execute_result"
    }
   ],
   "source": [
    "false_agrees.true.value_counts()"
   ]
  },
  {
   "cell_type": "code",
   "execution_count": 179,
   "metadata": {},
   "outputs": [
    {
     "data": {
      "text/plain": [
       "0.08895705521472393"
      ]
     },
     "execution_count": 179,
     "metadata": {},
     "output_type": "execute_result"
    }
   ],
   "source": [
    "len(false_disagrees)/len(mturk_only_preds)"
   ]
  },
  {
   "cell_type": "code",
   "execution_count": 180,
   "metadata": {},
   "outputs": [
    {
     "data": {
      "text/plain": [
       "27"
      ]
     },
     "execution_count": 180,
     "metadata": {},
     "output_type": "execute_result"
    }
   ],
   "source": [
    "len(true_disagrees)"
   ]
  },
  {
   "cell_type": "code",
   "execution_count": 181,
   "metadata": {},
   "outputs": [
    {
     "data": {
      "text/plain": [
       "0    15\n",
       "1    14\n",
       "Name: true, dtype: int64"
      ]
     },
     "execution_count": 181,
     "metadata": {},
     "output_type": "execute_result"
    }
   ],
   "source": [
    "false_disagrees.true.value_counts()"
   ]
  },
  {
   "cell_type": "code",
   "execution_count": 182,
   "metadata": {},
   "outputs": [
    {
     "data": {
      "text/plain": [
       "0.13496932515337423"
      ]
     },
     "execution_count": 182,
     "metadata": {},
     "output_type": "execute_result"
    }
   ],
   "source": [
    "len(false_neutrals)/len(mturk_only_preds)"
   ]
  },
  {
   "cell_type": "code",
   "execution_count": 183,
   "metadata": {},
   "outputs": [
    {
     "data": {
      "text/plain": [
       "93"
      ]
     },
     "execution_count": 183,
     "metadata": {},
     "output_type": "execute_result"
    }
   ],
   "source": [
    "len(true_neutrals)"
   ]
  },
  {
   "cell_type": "code",
   "execution_count": 184,
   "metadata": {},
   "outputs": [
    {
     "data": {
      "text/plain": [
       " 1    35\n",
       "-1    9 \n",
       "Name: true, dtype: int64"
      ]
     },
     "execution_count": 184,
     "metadata": {},
     "output_type": "execute_result"
    }
   ],
   "source": [
    "false_neutrals.true.value_counts()"
   ]
  },
  {
   "cell_type": "code",
   "execution_count": null,
   "metadata": {},
   "outputs": [],
   "source": []
  },
  {
   "cell_type": "code",
   "execution_count": null,
   "metadata": {},
   "outputs": [],
   "source": []
  },
  {
   "cell_type": "markdown",
   "metadata": {},
   "source": [
    "BERT Trained on all data:"
   ]
  },
  {
   "cell_type": "code",
   "execution_count": 131,
   "metadata": {},
   "outputs": [
    {
     "data": {
      "text/plain": [
       "0.25"
      ]
     },
     "execution_count": 131,
     "metadata": {},
     "output_type": "execute_result"
    }
   ],
   "source": [
    "len(opp_preds[opp_preds.true == 1])/len(opp_preds)"
   ]
  },
  {
   "cell_type": "code",
   "execution_count": 132,
   "metadata": {},
   "outputs": [
    {
     "data": {
      "text/plain": [
       "0.75"
      ]
     },
     "execution_count": 132,
     "metadata": {},
     "output_type": "execute_result"
    }
   ],
   "source": [
    "len(opp_preds[opp_preds.true == -1])/len(opp_preds)"
   ]
  },
  {
   "cell_type": "code",
   "execution_count": 119,
   "metadata": {
    "scrolled": true
   },
   "outputs": [
    {
     "data": {
      "text/html": [
       "<div>\n",
       "<style scoped>\n",
       "    .dataframe tbody tr th:only-of-type {\n",
       "        vertical-align: middle;\n",
       "    }\n",
       "\n",
       "    .dataframe tbody tr th {\n",
       "        vertical-align: top;\n",
       "    }\n",
       "\n",
       "    .dataframe thead th {\n",
       "        text-align: right;\n",
       "    }\n",
       "</style>\n",
       "<table border=\"1\" class=\"dataframe\">\n",
       "  <thead>\n",
       "    <tr style=\"text-align: right;\">\n",
       "      <th></th>\n",
       "      <th>true</th>\n",
       "      <th>predicted</th>\n",
       "      <th>sentence</th>\n",
       "    </tr>\n",
       "  </thead>\n",
       "  <tbody>\n",
       "    <tr>\n",
       "      <td>13</td>\n",
       "      <td>-1</td>\n",
       "      <td>1</td>\n",
       "      <td>This a sneaky way to cover up the reality that global warming is a sham.</td>\n",
       "    </tr>\n",
       "    <tr>\n",
       "      <td>17</td>\n",
       "      <td>-1</td>\n",
       "      <td>1</td>\n",
       "      <td>An increase in C02 emissions from fossil fuels will be a great benefit to plant and animal life on Earth.</td>\n",
       "    </tr>\n",
       "    <tr>\n",
       "      <td>42</td>\n",
       "      <td>-1</td>\n",
       "      <td>1</td>\n",
       "      <td>Global warming idiots out of danger.</td>\n",
       "    </tr>\n",
       "    <tr>\n",
       "      <td>49</td>\n",
       "      <td>-1</td>\n",
       "      <td>1</td>\n",
       "      <td>The world may have already begun to cool in response to a weakening Sun, a phenomenon far more dangerous than any possible human-induced warming.</td>\n",
       "    </tr>\n",
       "    <tr>\n",
       "      <td>50</td>\n",
       "      <td>-1</td>\n",
       "      <td>1</td>\n",
       "      <td>Global warming helps plants — and thus also helps humans and animals .</td>\n",
       "    </tr>\n",
       "    <tr>\n",
       "      <td>58</td>\n",
       "      <td>-1</td>\n",
       "      <td>1</td>\n",
       "      <td>There is a rush to judgment that every time something happens it’s because of global warming.</td>\n",
       "    </tr>\n",
       "    <tr>\n",
       "      <td>60</td>\n",
       "      <td>-1</td>\n",
       "      <td>1</td>\n",
       "      <td>For example, stressing the idea that human activity is behind global warming can be counterproductive.</td>\n",
       "    </tr>\n",
       "    <tr>\n",
       "      <td>86</td>\n",
       "      <td>-1</td>\n",
       "      <td>1</td>\n",
       "      <td>Global warming is a relatively distant threat.</td>\n",
       "    </tr>\n",
       "    <tr>\n",
       "      <td>88</td>\n",
       "      <td>-1</td>\n",
       "      <td>1</td>\n",
       "      <td>Satellite data disputes global warming.</td>\n",
       "    </tr>\n",
       "    <tr>\n",
       "      <td>98</td>\n",
       "      <td>-1</td>\n",
       "      <td>1</td>\n",
       "      <td>Even in liberal states doubt global warming is caused mostly by human carbon emissions.</td>\n",
       "    </tr>\n",
       "    <tr>\n",
       "      <td>103</td>\n",
       "      <td>-1</td>\n",
       "      <td>1</td>\n",
       "      <td>The economic consequences of cutting carbon too quickly will outweigh the short-term benefit to the environment.</td>\n",
       "    </tr>\n",
       "    <tr>\n",
       "      <td>111</td>\n",
       "      <td>1</td>\n",
       "      <td>-1</td>\n",
       "      <td>The ridiculously warm temperatures in the Arctic during October and November this year this year are off the charts over our 68 years of measurements.</td>\n",
       "    </tr>\n",
       "    <tr>\n",
       "      <td>116</td>\n",
       "      <td>-1</td>\n",
       "      <td>1</td>\n",
       "      <td>Global warming global warming is natural.</td>\n",
       "    </tr>\n",
       "    <tr>\n",
       "      <td>120</td>\n",
       "      <td>-1</td>\n",
       "      <td>1</td>\n",
       "      <td>The shoddy and absurd climate change plan.</td>\n",
       "    </tr>\n",
       "    <tr>\n",
       "      <td>136</td>\n",
       "      <td>-1</td>\n",
       "      <td>1</td>\n",
       "      <td>Better models are needed before exceptional events can be reliably linked to global warming.</td>\n",
       "    </tr>\n",
       "    <tr>\n",
       "      <td>139</td>\n",
       "      <td>-1</td>\n",
       "      <td>1</td>\n",
       "      <td>We can only fix climate change by destroying the economy or our personal liberties.</td>\n",
       "    </tr>\n",
       "    <tr>\n",
       "      <td>155</td>\n",
       "      <td>-1</td>\n",
       "      <td>1</td>\n",
       "      <td>Publishing papers on climate change in academic literature based on flawed methods is a formula.</td>\n",
       "    </tr>\n",
       "    <tr>\n",
       "      <td>168</td>\n",
       "      <td>1</td>\n",
       "      <td>-1</td>\n",
       "      <td>Climate change is exacerbating drought in Texas, rapidly rising sea levels along the Atlantic coast and higher storm surges caused by hurricanes in states like Florida and Louisiana.</td>\n",
       "    </tr>\n",
       "    <tr>\n",
       "      <td>191</td>\n",
       "      <td>1</td>\n",
       "      <td>-1</td>\n",
       "      <td>Global warming is caused due to human activity, and only 44 percent believe it to be a “very serious problem” versus 90 percent of Brazilians, 68 percent of the French and 65 percent of the Japanese population.</td>\n",
       "    </tr>\n",
       "    <tr>\n",
       "      <td>192</td>\n",
       "      <td>1</td>\n",
       "      <td>-1</td>\n",
       "      <td>Climate change is a man-made problem, which is why women should rule the world.</td>\n",
       "    </tr>\n",
       "    <tr>\n",
       "      <td>202</td>\n",
       "      <td>-1</td>\n",
       "      <td>1</td>\n",
       "      <td>The rate of ice loss expected for warming of 1.6 degrees is slow, occurring over 50,000 years.</td>\n",
       "    </tr>\n",
       "    <tr>\n",
       "      <td>213</td>\n",
       "      <td>-1</td>\n",
       "      <td>1</td>\n",
       "      <td>I'd have more today about the climate change insanity.</td>\n",
       "    </tr>\n",
       "    <tr>\n",
       "      <td>234</td>\n",
       "      <td>-1</td>\n",
       "      <td>1</td>\n",
       "      <td>Two extremely broad propositions – carbon dioxide is a “greenhouse gas,” and human activity has warmed the planet to some extent – tallied up the papers in their survey sample that agreed with these propositions to even the slightest degree, and manufactured the “97 percent consensus” factoid.</td>\n",
       "    </tr>\n",
       "    <tr>\n",
       "      <td>236</td>\n",
       "      <td>1</td>\n",
       "      <td>-1</td>\n",
       "      <td>It does not include a discussion on climate change, which is an outrage.</td>\n",
       "    </tr>\n",
       "    <tr>\n",
       "      <td>239</td>\n",
       "      <td>1</td>\n",
       "      <td>-1</td>\n",
       "      <td>The early 21st-century drought that afflicted Central Asia is the worst in Mongolia in more than 1,000 years, and made harsher by the higher temperatures consistent with man-made global warming.</td>\n",
       "    </tr>\n",
       "    <tr>\n",
       "      <td>242</td>\n",
       "      <td>1</td>\n",
       "      <td>-1</td>\n",
       "      <td>Climate change has been driven by runaway human consumption, much of which is based on want (comfort, convenience, entertainment), not need.</td>\n",
       "    </tr>\n",
       "    <tr>\n",
       "      <td>243</td>\n",
       "      <td>1</td>\n",
       "      <td>-1</td>\n",
       "      <td>Global warming is worse than terrorism.</td>\n",
       "    </tr>\n",
       "    <tr>\n",
       "      <td>251</td>\n",
       "      <td>-1</td>\n",
       "      <td>1</td>\n",
       "      <td>It's delusional to propose a carbon tax right now.</td>\n",
       "    </tr>\n",
       "    <tr>\n",
       "      <td>252</td>\n",
       "      <td>-1</td>\n",
       "      <td>1</td>\n",
       "      <td>Reining in carbon emissions is both futile and unnecessary, and that money is better spent adapting to what he says will be moderately higher temperatures.</td>\n",
       "    </tr>\n",
       "    <tr>\n",
       "      <td>268</td>\n",
       "      <td>-1</td>\n",
       "      <td>1</td>\n",
       "      <td>Carbon offsets do more harm than help for native peoples.</td>\n",
       "    </tr>\n",
       "    <tr>\n",
       "      <td>274</td>\n",
       "      <td>-1</td>\n",
       "      <td>1</td>\n",
       "      <td>Temperatures in the Antarctic Peninsula had been falling steadily for the last 18 years at the rate of nearly one degree Fahrenheit per decade, countering earlier warming trends and completely undermining one of the most cited cases of rapid climate change.</td>\n",
       "    </tr>\n",
       "    <tr>\n",
       "      <td>275</td>\n",
       "      <td>-1</td>\n",
       "      <td>1</td>\n",
       "      <td>But only half of the carbon dioxide stays up there.</td>\n",
       "    </tr>\n",
       "    <tr>\n",
       "      <td>319</td>\n",
       "      <td>-1</td>\n",
       "      <td>1</td>\n",
       "      <td>The non-climatic effects of carbon dioxide as a sustainer of wildlife and crop plants are enormously beneficial, that the possibly harmful climatic effects of carbon dioxide have been greatly exaggerated, and that the benefits clearly outweigh the possible damage.</td>\n",
       "    </tr>\n",
       "    <tr>\n",
       "      <td>336</td>\n",
       "      <td>-1</td>\n",
       "      <td>1</td>\n",
       "      <td>I am also old enough to remember when Climate Change was called Global Warming and then had to be re-branded because God made it snow every time Al Gore gave a speech.</td>\n",
       "    </tr>\n",
       "    <tr>\n",
       "      <td>342</td>\n",
       "      <td>1</td>\n",
       "      <td>-1</td>\n",
       "      <td>The level of carbon dioxide in the atmosphere has never been higher.</td>\n",
       "    </tr>\n",
       "    <tr>\n",
       "      <td>351</td>\n",
       "      <td>1</td>\n",
       "      <td>-1</td>\n",
       "      <td>The issue of global warming's the height of arrogance for human beings to think that they can control the weather.</td>\n",
       "    </tr>\n",
       "    <tr>\n",
       "      <td>358</td>\n",
       "      <td>-1</td>\n",
       "      <td>1</td>\n",
       "      <td>By now there should have been global warming equivalent to 2.8 degrees / century.</td>\n",
       "    </tr>\n",
       "    <tr>\n",
       "      <td>392</td>\n",
       "      <td>-1</td>\n",
       "      <td>1</td>\n",
       "      <td>Strengthening Australia's carbon emission reduction targets will damage the economy.</td>\n",
       "    </tr>\n",
       "    <tr>\n",
       "      <td>395</td>\n",
       "      <td>-1</td>\n",
       "      <td>1</td>\n",
       "      <td>Then there is climate change, which has ratcheted up the opportunity cost of every conflict.</td>\n",
       "    </tr>\n",
       "    <tr>\n",
       "      <td>406</td>\n",
       "      <td>-1</td>\n",
       "      <td>1</td>\n",
       "      <td>Our need to focus on it and on jobs and not worry so much about global warming.</td>\n",
       "    </tr>\n",
       "  </tbody>\n",
       "</table>\n",
       "</div>"
      ],
      "text/plain": [
       "     true  predicted  \\\n",
       "13  -1     1           \n",
       "17  -1     1           \n",
       "42  -1     1           \n",
       "49  -1     1           \n",
       "50  -1     1           \n",
       "58  -1     1           \n",
       "60  -1     1           \n",
       "86  -1     1           \n",
       "88  -1     1           \n",
       "98  -1     1           \n",
       "103 -1     1           \n",
       "111  1    -1           \n",
       "116 -1     1           \n",
       "120 -1     1           \n",
       "136 -1     1           \n",
       "139 -1     1           \n",
       "155 -1     1           \n",
       "168  1    -1           \n",
       "191  1    -1           \n",
       "192  1    -1           \n",
       "202 -1     1           \n",
       "213 -1     1           \n",
       "234 -1     1           \n",
       "236  1    -1           \n",
       "239  1    -1           \n",
       "242  1    -1           \n",
       "243  1    -1           \n",
       "251 -1     1           \n",
       "252 -1     1           \n",
       "268 -1     1           \n",
       "274 -1     1           \n",
       "275 -1     1           \n",
       "319 -1     1           \n",
       "336 -1     1           \n",
       "342  1    -1           \n",
       "351  1    -1           \n",
       "358 -1     1           \n",
       "392 -1     1           \n",
       "395 -1     1           \n",
       "406 -1     1           \n",
       "\n",
       "                                                                                                                                                                                                                                                                                                   sentence  \n",
       "13   This a sneaky way to cover up the reality that global warming is a sham.                                                                                                                                                                                                                                \n",
       "17   An increase in C02 emissions from fossil fuels will be a great benefit to plant and animal life on Earth.                                                                                                                                                                                               \n",
       "42   Global warming idiots out of danger.                                                                                                                                                                                                                                                                    \n",
       "49   The world may have already begun to cool in response to a weakening Sun, a phenomenon far more dangerous than any possible human-induced warming.                                                                                                                                                       \n",
       "50   Global warming helps plants — and thus also helps humans and animals .                                                                                                                                                                                                                                  \n",
       "58   There is a rush to judgment that every time something happens it’s because of global warming.                                                                                                                                                                                                           \n",
       "60   For example, stressing the idea that human activity is behind global warming can be counterproductive.                                                                                                                                                                                                  \n",
       "86   Global warming is a relatively distant threat.                                                                                                                                                                                                                                                          \n",
       "88   Satellite data disputes global warming.                                                                                                                                                                                                                                                                 \n",
       "98   Even in liberal states doubt global warming is caused mostly by human carbon emissions.                                                                                                                                                                                                                 \n",
       "103  The economic consequences of cutting carbon too quickly will outweigh the short-term benefit to the environment.                                                                                                                                                                                        \n",
       "111  The ridiculously warm temperatures in the Arctic during October and November this year this year are off the charts over our 68 years of measurements.                                                                                                                                                  \n",
       "116  Global warming global warming is natural.                                                                                                                                                                                                                                                               \n",
       "120  The shoddy and absurd climate change plan.                                                                                                                                                                                                                                                              \n",
       "136  Better models are needed before exceptional events can be reliably linked to global warming.                                                                                                                                                                                                            \n",
       "139  We can only fix climate change by destroying the economy or our personal liberties.                                                                                                                                                                                                                     \n",
       "155  Publishing papers on climate change in academic literature based on flawed methods is a formula.                                                                                                                                                                                                        \n",
       "168  Climate change is exacerbating drought in Texas, rapidly rising sea levels along the Atlantic coast and higher storm surges caused by hurricanes in states like Florida and Louisiana.                                                                                                                  \n",
       "191  Global warming is caused due to human activity, and only 44 percent believe it to be a “very serious problem” versus 90 percent of Brazilians, 68 percent of the French and 65 percent of the Japanese population.                                                                                      \n",
       "192  Climate change is a man-made problem, which is why women should rule the world.                                                                                                                                                                                                                         \n",
       "202  The rate of ice loss expected for warming of 1.6 degrees is slow, occurring over 50,000 years.                                                                                                                                                                                                          \n",
       "213  I'd have more today about the climate change insanity.                                                                                                                                                                                                                                                  \n",
       "234  Two extremely broad propositions – carbon dioxide is a “greenhouse gas,” and human activity has warmed the planet to some extent – tallied up the papers in their survey sample that agreed with these propositions to even the slightest degree, and manufactured the “97 percent consensus” factoid.  \n",
       "236  It does not include a discussion on climate change, which is an outrage.                                                                                                                                                                                                                                \n",
       "239  The early 21st-century drought that afflicted Central Asia is the worst in Mongolia in more than 1,000 years, and made harsher by the higher temperatures consistent with man-made global warming.                                                                                                      \n",
       "242  Climate change has been driven by runaway human consumption, much of which is based on want (comfort, convenience, entertainment), not need.                                                                                                                                                            \n",
       "243  Global warming is worse than terrorism.                                                                                                                                                                                                                                                                 \n",
       "251  It's delusional to propose a carbon tax right now.                                                                                                                                                                                                                                                      \n",
       "252  Reining in carbon emissions is both futile and unnecessary, and that money is better spent adapting to what he says will be moderately higher temperatures.                                                                                                                                             \n",
       "268  Carbon offsets do more harm than help for native peoples.                                                                                                                                                                                                                                               \n",
       "274  Temperatures in the Antarctic Peninsula had been falling steadily for the last 18 years at the rate of nearly one degree Fahrenheit per decade, countering earlier warming trends and completely undermining one of the most cited cases of rapid climate change.                                       \n",
       "275  But only half of the carbon dioxide stays up there.                                                                                                                                                                                                                                                     \n",
       "319  The non-climatic effects of carbon dioxide as a sustainer of wildlife and crop plants are enormously beneficial, that the possibly harmful climatic effects of carbon dioxide have been greatly exaggerated, and that the benefits clearly outweigh the possible damage.                                \n",
       "336  I am also old enough to remember when Climate Change was called Global Warming and then had to be re-branded because God made it snow every time Al Gore gave a speech.                                                                                                                                 \n",
       "342  The level of carbon dioxide in the atmosphere has never been higher.                                                                                                                                                                                                                                    \n",
       "351  The issue of global warming's the height of arrogance for human beings to think that they can control the weather.                                                                                                                                                                                      \n",
       "358  By now there should have been global warming equivalent to 2.8 degrees / century.                                                                                                                                                                                                                       \n",
       "392  Strengthening Australia's carbon emission reduction targets will damage the economy.                                                                                                                                                                                                                    \n",
       "395  Then there is climate change, which has ratcheted up the opportunity cost of every conflict.                                                                                                                                                                                                            \n",
       "406  Our need to focus on it and on jobs and not worry so much about global warming.                                                                                                                                                                                                                         "
      ]
     },
     "execution_count": 119,
     "metadata": {},
     "output_type": "execute_result"
    }
   ],
   "source": [
    "opp_preds"
   ]
  },
  {
   "cell_type": "code",
   "execution_count": 120,
   "metadata": {},
   "outputs": [],
   "source": [
    "false_neutrals = bad_preds[bad_preds.predicted == 0]\n",
    "false_agrees = bad_preds[bad_preds.predicted == 1]\n",
    "false_disagrees = bad_preds[bad_preds.predicted == -1]\n",
    "true_neutrals = good_preds[good_preds.predicted == 0]\n",
    "true_agrees = good_preds[good_preds.predicted == 1]\n",
    "true_disagrees = good_preds[good_preds.predicted == -1]"
   ]
  },
  {
   "cell_type": "code",
   "execution_count": 121,
   "metadata": {},
   "outputs": [
    {
     "data": {
      "text/plain": [
       "0.3857493857493858"
      ]
     },
     "execution_count": 121,
     "metadata": {},
     "output_type": "execute_result"
    }
   ],
   "source": [
    "len(false_agrees)/407."
   ]
  },
  {
   "cell_type": "code",
   "execution_count": 122,
   "metadata": {},
   "outputs": [
    {
     "data": {
      "text/plain": [
       "132"
      ]
     },
     "execution_count": 122,
     "metadata": {},
     "output_type": "execute_result"
    }
   ],
   "source": [
    "len(true_agrees)"
   ]
  },
  {
   "cell_type": "code",
   "execution_count": 123,
   "metadata": {},
   "outputs": [
    {
     "data": {
      "text/plain": [
       " 0    127\n",
       "-1    30 \n",
       "Name: true, dtype: int64"
      ]
     },
     "execution_count": 123,
     "metadata": {},
     "output_type": "execute_result"
    }
   ],
   "source": [
    "false_agrees.true.value_counts()"
   ]
  },
  {
   "cell_type": "code",
   "execution_count": 124,
   "metadata": {},
   "outputs": [
    {
     "data": {
      "text/plain": [
       "0.07616707616707617"
      ]
     },
     "execution_count": 124,
     "metadata": {},
     "output_type": "execute_result"
    }
   ],
   "source": [
    "len(false_disagrees)/407"
   ]
  },
  {
   "cell_type": "code",
   "execution_count": 125,
   "metadata": {},
   "outputs": [
    {
     "data": {
      "text/plain": [
       "30"
      ]
     },
     "execution_count": 125,
     "metadata": {},
     "output_type": "execute_result"
    }
   ],
   "source": [
    "len(true_disagrees)"
   ]
  },
  {
   "cell_type": "code",
   "execution_count": 126,
   "metadata": {},
   "outputs": [
    {
     "data": {
      "text/plain": [
       "0    21\n",
       "1    10\n",
       "Name: true, dtype: int64"
      ]
     },
     "execution_count": 126,
     "metadata": {},
     "output_type": "execute_result"
    }
   ],
   "source": [
    "false_disagrees.true.value_counts()"
   ]
  },
  {
   "cell_type": "code",
   "execution_count": 127,
   "metadata": {},
   "outputs": [
    {
     "data": {
      "text/plain": [
       "0.04668304668304668"
      ]
     },
     "execution_count": 127,
     "metadata": {},
     "output_type": "execute_result"
    }
   ],
   "source": [
    "len(false_neutrals)/407"
   ]
  },
  {
   "cell_type": "code",
   "execution_count": 129,
   "metadata": {},
   "outputs": [
    {
     "data": {
      "text/plain": [
       "38"
      ]
     },
     "execution_count": 129,
     "metadata": {},
     "output_type": "execute_result"
    }
   ],
   "source": [
    "len(true_neutrals)"
   ]
  },
  {
   "cell_type": "code",
   "execution_count": 128,
   "metadata": {},
   "outputs": [
    {
     "data": {
      "text/plain": [
       " 1    13\n",
       "-1    6 \n",
       "Name: true, dtype: int64"
      ]
     },
     "execution_count": 128,
     "metadata": {},
     "output_type": "execute_result"
    }
   ],
   "source": [
    "false_neutrals.true.value_counts()"
   ]
  },
  {
   "cell_type": "code",
   "execution_count": null,
   "metadata": {},
   "outputs": [],
   "source": []
  },
  {
   "cell_type": "code",
   "execution_count": null,
   "metadata": {},
   "outputs": [],
   "source": []
  },
  {
   "cell_type": "code",
   "execution_count": null,
   "metadata": {},
   "outputs": [],
   "source": []
  },
  {
   "cell_type": "markdown",
   "metadata": {},
   "source": [
    "# GPT(?) predictions "
   ]
  },
  {
   "cell_type": "code",
   "execution_count": 51,
   "metadata": {
    "scrolled": true
   },
   "outputs": [
    {
     "name": "stderr",
     "output_type": "stream",
     "text": [
      "/anaconda3/lib/python3.7/site-packages/ipykernel_launcher.py:1: SettingWithCopyWarning: \n",
      "A value is trying to be set on a copy of a slice from a DataFrame.\n",
      "Try using .loc[row_indexer,col_indexer] = value instead\n",
      "\n",
      "See the caveats in the documentation: http://pandas.pydata.org/pandas-docs/stable/user_guide/indexing.html#returning-a-view-versus-a-copy\n",
      "  \"\"\"Entry point for launching an IPython kernel.\n",
      "/anaconda3/lib/python3.7/site-packages/ipykernel_launcher.py:2: SettingWithCopyWarning: \n",
      "A value is trying to be set on a copy of a slice from a DataFrame.\n",
      "Try using .loc[row_indexer,col_indexer] = value instead\n",
      "\n",
      "See the caveats in the documentation: http://pandas.pydata.org/pandas-docs/stable/user_guide/indexing.html#returning-a-view-versus-a-copy\n",
      "  \n",
      "/anaconda3/lib/python3.7/site-packages/ipykernel_launcher.py:3: SettingWithCopyWarning: \n",
      "A value is trying to be set on a copy of a slice from a DataFrame.\n",
      "Try using .loc[row_indexer,col_indexer] = value instead\n",
      "\n",
      "See the caveats in the documentation: http://pandas.pydata.org/pandas-docs/stable/user_guide/indexing.html#returning-a-view-versus-a-copy\n",
      "  This is separate from the ipykernel package so we can avoid doing imports until\n",
      "/anaconda3/lib/python3.7/site-packages/ipykernel_launcher.py:4: SettingWithCopyWarning: \n",
      "A value is trying to be set on a copy of a slice from a DataFrame.\n",
      "Try using .loc[row_indexer,col_indexer] = value instead\n",
      "\n",
      "See the caveats in the documentation: http://pandas.pydata.org/pandas-docs/stable/user_guide/indexing.html#returning-a-view-versus-a-copy\n",
      "  after removing the cwd from sys.path.\n"
     ]
    }
   ],
   "source": [
    "bad_preds['true_stance'] = bad_preds['true_stance'].apply(to_int)\n",
    "bad_preds['pred_stance'] = bad_preds['pred_stance'].apply(to_int)\n",
    "good_preds['true_stance'] = good_preds['true_stance'].apply(to_int)\n",
    "good_preds['pred_stance'] = good_preds['pred_stance'].apply(to_int)"
   ]
  },
  {
   "cell_type": "code",
   "execution_count": 46,
   "metadata": {},
   "outputs": [],
   "source": [
    "bad_preds = preds[preds.true_stance != preds.pred_stance]\n",
    "good_preds = preds[preds.true_stance == preds.pred_stance]\n",
    "opp_preds = bad_preds[bad_preds.true_stance == bad_preds.pred_stance*-1]"
   ]
  },
  {
   "cell_type": "code",
   "execution_count": 47,
   "metadata": {
    "scrolled": true
   },
   "outputs": [
    {
     "data": {
      "text/plain": [
       "(111, 4)"
      ]
     },
     "execution_count": 47,
     "metadata": {},
     "output_type": "execute_result"
    }
   ],
   "source": [
    "bad_preds.shape"
   ]
  },
  {
   "cell_type": "code",
   "execution_count": 48,
   "metadata": {
    "scrolled": true
   },
   "outputs": [
    {
     "data": {
      "text/plain": [
       "(53, 4)"
      ]
     },
     "execution_count": 48,
     "metadata": {},
     "output_type": "execute_result"
    }
   ],
   "source": [
    "good_preds.shape"
   ]
  },
  {
   "cell_type": "code",
   "execution_count": 54,
   "metadata": {},
   "outputs": [
    {
     "data": {
      "text/plain": [
       "(22, 4)"
      ]
     },
     "execution_count": 54,
     "metadata": {},
     "output_type": "execute_result"
    }
   ],
   "source": [
    "opp_preds.shape"
   ]
  },
  {
   "cell_type": "code",
   "execution_count": 55,
   "metadata": {},
   "outputs": [],
   "source": [
    "false_neutrals = bad_preds[bad_preds.pred_stance == 0]\n",
    "false_agrees = bad_preds[bad_preds.pred_stance == 1]\n",
    "false_disagrees = bad_preds[bad_preds.pred_stance == -1]\n",
    "true_neutrals = good_preds[good_preds.pred_stance == 0]\n",
    "true_agrees = good_preds[good_preds.pred_stance == 1]\n",
    "true_disagrees = good_preds[good_preds.pred_stance == -1]"
   ]
  },
  {
   "cell_type": "markdown",
   "metadata": {},
   "source": [
    "27% of predictions were false \"agrees\". More \"neutrals\" than \"disagrees\" were falsely predicted.\n",
    "There were 19 true agrees."
   ]
  },
  {
   "cell_type": "code",
   "execution_count": 31,
   "metadata": {},
   "outputs": [
    {
     "data": {
      "text/plain": [
       "0.27439024390243905"
      ]
     },
     "execution_count": 31,
     "metadata": {},
     "output_type": "execute_result"
    }
   ],
   "source": [
    "len(false_agrees)/164"
   ]
  },
  {
   "cell_type": "code",
   "execution_count": 41,
   "metadata": {},
   "outputs": [
    {
     "data": {
      "text/plain": [
       "19"
      ]
     },
     "execution_count": 41,
     "metadata": {},
     "output_type": "execute_result"
    }
   ],
   "source": [
    "len(true_agrees)"
   ]
  },
  {
   "cell_type": "code",
   "execution_count": 33,
   "metadata": {},
   "outputs": [
    {
     "data": {
      "text/plain": [
       " 0    33\n",
       "-1    12\n",
       "Name: true_stance, dtype: int64"
      ]
     },
     "execution_count": 33,
     "metadata": {},
     "output_type": "execute_result"
    }
   ],
   "source": [
    "false_agrees.true_stance.value_counts()"
   ]
  },
  {
   "cell_type": "markdown",
   "metadata": {},
   "source": [
    "13% of predictions were false \"disagrees\". About equal numbers of \"agrees\" and \"neutrals\" were falsely predicted. There were 7 true disagrees. "
   ]
  },
  {
   "cell_type": "code",
   "execution_count": 57,
   "metadata": {},
   "outputs": [
    {
     "data": {
      "text/plain": [
       "0.12804878048780488"
      ]
     },
     "execution_count": 57,
     "metadata": {},
     "output_type": "execute_result"
    }
   ],
   "source": [
    "len(false_disagrees)/164"
   ]
  },
  {
   "cell_type": "code",
   "execution_count": 58,
   "metadata": {},
   "outputs": [
    {
     "data": {
      "text/plain": [
       "7"
      ]
     },
     "execution_count": 58,
     "metadata": {},
     "output_type": "execute_result"
    }
   ],
   "source": [
    "len(true_disagrees)"
   ]
  },
  {
   "cell_type": "code",
   "execution_count": 59,
   "metadata": {},
   "outputs": [
    {
     "data": {
      "text/plain": [
       "0    11\n",
       "1    10\n",
       "Name: true_stance, dtype: int64"
      ]
     },
     "execution_count": 59,
     "metadata": {},
     "output_type": "execute_result"
    }
   ],
   "source": [
    "false_disagrees.true_stance.value_counts()"
   ]
  },
  {
   "cell_type": "code",
   "execution_count": null,
   "metadata": {},
   "outputs": [],
   "source": []
  },
  {
   "cell_type": "markdown",
   "metadata": {},
   "source": [
    "27% of predictions were false neutrals. More \"agrees\" than \"disagrees\" were getting predicted to be \"neutral\"."
   ]
  },
  {
   "cell_type": "code",
   "execution_count": 27,
   "metadata": {},
   "outputs": [
    {
     "data": {
      "text/plain": [
       "0.27439024390243905"
      ]
     },
     "execution_count": 27,
     "metadata": {},
     "output_type": "execute_result"
    }
   ],
   "source": [
    "len(false_neutrals)/164."
   ]
  },
  {
   "cell_type": "code",
   "execution_count": 28,
   "metadata": {},
   "outputs": [
    {
     "data": {
      "text/plain": [
       " 1    29\n",
       "-1    16\n",
       "Name: true_stance, dtype: int64"
      ]
     },
     "execution_count": 28,
     "metadata": {},
     "output_type": "execute_result"
    }
   ],
   "source": [
    "false_neutrals.true_stance.value_counts()"
   ]
  },
  {
   "cell_type": "markdown",
   "metadata": {},
   "source": [
    "13% of predictions were the opposite of the correct label (e.g., \"agree\" was predicted \"disagree\" or vice versa."
   ]
  },
  {
   "cell_type": "code",
   "execution_count": 61,
   "metadata": {},
   "outputs": [
    {
     "data": {
      "text/plain": [
       "0.13414634146341464"
      ]
     },
     "execution_count": 61,
     "metadata": {},
     "output_type": "execute_result"
    }
   ],
   "source": [
    "len(opp_preds)/164."
   ]
  },
  {
   "cell_type": "markdown",
   "metadata": {},
   "source": [
    "Of this 13%, about half are mistaken \"agrees\" (and the other 55% mistaken \"disagrees\")."
   ]
  },
  {
   "cell_type": "code",
   "execution_count": 24,
   "metadata": {},
   "outputs": [
    {
     "data": {
      "text/plain": [
       "0.45454545454545453"
      ]
     },
     "execution_count": 24,
     "metadata": {},
     "output_type": "execute_result"
    }
   ],
   "source": [
    "len(opp_preds[opp_preds.true_stance == 1])/len(opp_preds)"
   ]
  },
  {
   "cell_type": "code",
   "execution_count": 65,
   "metadata": {
    "scrolled": true
   },
   "outputs": [
    {
     "data": {
      "text/html": [
       "<div>\n",
       "<style scoped>\n",
       "    .dataframe tbody tr th:only-of-type {\n",
       "        vertical-align: middle;\n",
       "    }\n",
       "\n",
       "    .dataframe tbody tr th {\n",
       "        vertical-align: top;\n",
       "    }\n",
       "\n",
       "    .dataframe thead th {\n",
       "        text-align: right;\n",
       "    }\n",
       "</style>\n",
       "<table border=\"1\" class=\"dataframe\">\n",
       "  <thead>\n",
       "    <tr style=\"text-align: right;\">\n",
       "      <th></th>\n",
       "      <th>type</th>\n",
       "      <th>sentence</th>\n",
       "      <th>true_stance</th>\n",
       "      <th>pred_stance</th>\n",
       "    </tr>\n",
       "  </thead>\n",
       "  <tbody>\n",
       "    <tr>\n",
       "      <td>4</td>\n",
       "      <td>mturk</td>\n",
       "      <td>Global warming isn't real Leo.</td>\n",
       "      <td>-1</td>\n",
       "      <td>1</td>\n",
       "    </tr>\n",
       "    <tr>\n",
       "      <td>6</td>\n",
       "      <td>mturk</td>\n",
       "      <td>A combination of factors are at work, including a natural El Nino system, man-made global warming and a dash of random weather.</td>\n",
       "      <td>-1</td>\n",
       "      <td>1</td>\n",
       "    </tr>\n",
       "    <tr>\n",
       "      <td>17</td>\n",
       "      <td>mturk</td>\n",
       "      <td>The paper in no way diminishes the extensive body of observations that global warming is happening and that it is largely due to human activity.</td>\n",
       "      <td>1</td>\n",
       "      <td>-1</td>\n",
       "    </tr>\n",
       "    <tr>\n",
       "      <td>23</td>\n",
       "      <td>mturk</td>\n",
       "      <td>Carbon dioxide fertilizes plants, and emissions from fossil fuels have already had a hugely beneficial effect on crops, increasing yields by at least 10-15 percent.</td>\n",
       "      <td>-1</td>\n",
       "      <td>1</td>\n",
       "    </tr>\n",
       "    <tr>\n",
       "      <td>34</td>\n",
       "      <td>mturk</td>\n",
       "      <td>Global warming is having an impact now.</td>\n",
       "      <td>1</td>\n",
       "      <td>-1</td>\n",
       "    </tr>\n",
       "    <tr>\n",
       "      <td>36</td>\n",
       "      <td>mturk</td>\n",
       "      <td>Man-made climate change isn't solely to blame for tropical storms.</td>\n",
       "      <td>-1</td>\n",
       "      <td>1</td>\n",
       "    </tr>\n",
       "    <tr>\n",
       "      <td>37</td>\n",
       "      <td>mturk</td>\n",
       "      <td>Fossil fuel investments are pretty good bets regardless of the political climate.</td>\n",
       "      <td>-1</td>\n",
       "      <td>1</td>\n",
       "    </tr>\n",
       "    <tr>\n",
       "      <td>58</td>\n",
       "      <td>mturk</td>\n",
       "      <td>The claim made in the 2007 report by the Intergovernmental Panel on Climate Change (IPCC) is unrealistic and the large Himalayan glaciers could not melt in a few decades.</td>\n",
       "      <td>-1</td>\n",
       "      <td>1</td>\n",
       "    </tr>\n",
       "    <tr>\n",
       "      <td>59</td>\n",
       "      <td>mturk</td>\n",
       "      <td>Climate change would be used as an excuse to expand `big government' and lead to a loss of personal freedom.</td>\n",
       "      <td>-1</td>\n",
       "      <td>1</td>\n",
       "    </tr>\n",
       "    <tr>\n",
       "      <td>61</td>\n",
       "      <td>mturk</td>\n",
       "      <td>Global warming is real.</td>\n",
       "      <td>1</td>\n",
       "      <td>-1</td>\n",
       "    </tr>\n",
       "    <tr>\n",
       "      <td>62</td>\n",
       "      <td>mturk</td>\n",
       "      <td>There is a realistic win-win outcome: with the right government policies, we can stimulate investment in green energy, efficient cities, better transportation and the like, which will address climate change as well as make many of our lives better and more comfortable.</td>\n",
       "      <td>1</td>\n",
       "      <td>-1</td>\n",
       "    </tr>\n",
       "    <tr>\n",
       "      <td>95</td>\n",
       "      <td>mturk</td>\n",
       "      <td>Global warming is caused mostly by human carbon emissions.</td>\n",
       "      <td>1</td>\n",
       "      <td>-1</td>\n",
       "    </tr>\n",
       "    <tr>\n",
       "      <td>100</td>\n",
       "      <td>mturk</td>\n",
       "      <td>Global warming is mainly caused by human activity.</td>\n",
       "      <td>1</td>\n",
       "      <td>-1</td>\n",
       "    </tr>\n",
       "    <tr>\n",
       "      <td>101</td>\n",
       "      <td>mturk</td>\n",
       "      <td>The several previous warming periods (called climate optima) directly correlated to fantastic periods of human prosperity and advances.</td>\n",
       "      <td>-1</td>\n",
       "      <td>1</td>\n",
       "    </tr>\n",
       "    <tr>\n",
       "      <td>104</td>\n",
       "      <td>mturk</td>\n",
       "      <td>We are all losing the fight against climate change.</td>\n",
       "      <td>1</td>\n",
       "      <td>-1</td>\n",
       "    </tr>\n",
       "    <tr>\n",
       "      <td>106</td>\n",
       "      <td>mturk</td>\n",
       "      <td>Global warming could eventually reach these levels.</td>\n",
       "      <td>1</td>\n",
       "      <td>-1</td>\n",
       "    </tr>\n",
       "    <tr>\n",
       "      <td>107</td>\n",
       "      <td>mturk</td>\n",
       "      <td>No single epidemic can be attributed wholly to climate change.</td>\n",
       "      <td>-1</td>\n",
       "      <td>1</td>\n",
       "    </tr>\n",
       "    <tr>\n",
       "      <td>111</td>\n",
       "      <td>mturk</td>\n",
       "      <td>In California, however, which is already being ravaged by the heat and drought of climate change.</td>\n",
       "      <td>1</td>\n",
       "      <td>-1</td>\n",
       "    </tr>\n",
       "    <tr>\n",
       "      <td>119</td>\n",
       "      <td>mturk</td>\n",
       "      <td>Global warming is occurring more slowly than computer models forecast a decade ago.</td>\n",
       "      <td>-1</td>\n",
       "      <td>1</td>\n",
       "    </tr>\n",
       "    <tr>\n",
       "      <td>122</td>\n",
       "      <td>mturk</td>\n",
       "      <td>Climate change is a cult.</td>\n",
       "      <td>-1</td>\n",
       "      <td>1</td>\n",
       "    </tr>\n",
       "    <tr>\n",
       "      <td>125</td>\n",
       "      <td>mturk</td>\n",
       "      <td>Most global warming is natural and even if there had been no Industrial Revolution current global temperatures would be almost exactly the same as they are now.</td>\n",
       "      <td>-1</td>\n",
       "      <td>1</td>\n",
       "    </tr>\n",
       "    <tr>\n",
       "      <td>141</td>\n",
       "      <td>mturk</td>\n",
       "      <td>Rising sea levels could force Los Angeles International Airport (LAX) to be moved.</td>\n",
       "      <td>1</td>\n",
       "      <td>-1</td>\n",
       "    </tr>\n",
       "  </tbody>\n",
       "</table>\n",
       "</div>"
      ],
      "text/plain": [
       "      type  \\\n",
       "4    mturk   \n",
       "6    mturk   \n",
       "17   mturk   \n",
       "23   mturk   \n",
       "34   mturk   \n",
       "36   mturk   \n",
       "37   mturk   \n",
       "58   mturk   \n",
       "59   mturk   \n",
       "61   mturk   \n",
       "62   mturk   \n",
       "95   mturk   \n",
       "100  mturk   \n",
       "101  mturk   \n",
       "104  mturk   \n",
       "106  mturk   \n",
       "107  mturk   \n",
       "111  mturk   \n",
       "119  mturk   \n",
       "122  mturk   \n",
       "125  mturk   \n",
       "141  mturk   \n",
       "\n",
       "                                                                                                                                                                                                                                                                          sentence  \\\n",
       "4    Global warming isn't real Leo.                                                                                                                                                                                                                                                  \n",
       "6    A combination of factors are at work, including a natural El Nino system, man-made global warming and a dash of random weather.                                                                                                                                                 \n",
       "17   The paper in no way diminishes the extensive body of observations that global warming is happening and that it is largely due to human activity.                                                                                                                                \n",
       "23   Carbon dioxide fertilizes plants, and emissions from fossil fuels have already had a hugely beneficial effect on crops, increasing yields by at least 10-15 percent.                                                                                                            \n",
       "34   Global warming is having an impact now.                                                                                                                                                                                                                                         \n",
       "36   Man-made climate change isn't solely to blame for tropical storms.                                                                                                                                                                                                              \n",
       "37   Fossil fuel investments are pretty good bets regardless of the political climate.                                                                                                                                                                                               \n",
       "58   The claim made in the 2007 report by the Intergovernmental Panel on Climate Change (IPCC) is unrealistic and the large Himalayan glaciers could not melt in a few decades.                                                                                                      \n",
       "59   Climate change would be used as an excuse to expand `big government' and lead to a loss of personal freedom.                                                                                                                                                                    \n",
       "61   Global warming is real.                                                                                                                                                                                                                                                         \n",
       "62   There is a realistic win-win outcome: with the right government policies, we can stimulate investment in green energy, efficient cities, better transportation and the like, which will address climate change as well as make many of our lives better and more comfortable.   \n",
       "95   Global warming is caused mostly by human carbon emissions.                                                                                                                                                                                                                      \n",
       "100  Global warming is mainly caused by human activity.                                                                                                                                                                                                                              \n",
       "101  The several previous warming periods (called climate optima) directly correlated to fantastic periods of human prosperity and advances.                                                                                                                                         \n",
       "104  We are all losing the fight against climate change.                                                                                                                                                                                                                             \n",
       "106  Global warming could eventually reach these levels.                                                                                                                                                                                                                             \n",
       "107  No single epidemic can be attributed wholly to climate change.                                                                                                                                                                                                                  \n",
       "111  In California, however, which is already being ravaged by the heat and drought of climate change.                                                                                                                                                                               \n",
       "119  Global warming is occurring more slowly than computer models forecast a decade ago.                                                                                                                                                                                             \n",
       "122  Climate change is a cult.                                                                                                                                                                                                                                                       \n",
       "125  Most global warming is natural and even if there had been no Industrial Revolution current global temperatures would be almost exactly the same as they are now.                                                                                                                \n",
       "141  Rising sea levels could force Los Angeles International Airport (LAX) to be moved.                                                                                                                                                                                              \n",
       "\n",
       "     true_stance  pred_stance  \n",
       "4   -1            1            \n",
       "6   -1            1            \n",
       "17   1           -1            \n",
       "23  -1            1            \n",
       "34   1           -1            \n",
       "36  -1            1            \n",
       "37  -1            1            \n",
       "58  -1            1            \n",
       "59  -1            1            \n",
       "61   1           -1            \n",
       "62   1           -1            \n",
       "95   1           -1            \n",
       "100  1           -1            \n",
       "101 -1            1            \n",
       "104  1           -1            \n",
       "106  1           -1            \n",
       "107 -1            1            \n",
       "111  1           -1            \n",
       "119 -1            1            \n",
       "122 -1            1            \n",
       "125 -1            1            \n",
       "141  1           -1            "
      ]
     },
     "execution_count": 65,
     "metadata": {},
     "output_type": "execute_result"
    }
   ],
   "source": [
    "opp_preds"
   ]
  },
  {
   "cell_type": "code",
   "execution_count": 63,
   "metadata": {
    "scrolled": true
   },
   "outputs": [
    {
     "data": {
      "text/plain": [
       "[\"Global warming isn't real Leo.\",\n",
       " 'A combination of factors are at work, including a natural El Nino system, man-made global warming and a dash of random weather.',\n",
       " 'The paper in no way diminishes the extensive body of observations that global warming is happening and that it is largely due to human activity.',\n",
       " 'Carbon dioxide fertilizes plants, and emissions from fossil fuels have already had a hugely beneficial effect on crops, increasing yields by at least 10-15 percent.',\n",
       " 'Global warming is having an impact now.',\n",
       " \"Man-made climate change isn't solely to blame for tropical storms.\",\n",
       " 'Fossil fuel investments are pretty good bets regardless of the political climate.',\n",
       " 'The claim made in the 2007 report by the Intergovernmental Panel on Climate Change (IPCC) is unrealistic and the large Himalayan glaciers could not melt in a few decades.',\n",
       " \"Climate change would be used as an excuse to expand `big government' and lead to a loss of personal freedom.\",\n",
       " 'Global warming is real.',\n",
       " 'There is a realistic win-win outcome: with the right government policies, we can stimulate investment in green energy, efficient cities, better transportation and the like, which will address climate change as well as make many of our lives better and more comfortable.',\n",
       " 'Global warming is caused mostly by human carbon emissions.',\n",
       " 'Global warming is mainly caused by human activity.',\n",
       " 'The several previous warming periods (called climate optima) directly correlated to fantastic periods of human prosperity and advances.',\n",
       " 'We are all losing the fight against climate change.',\n",
       " 'Global warming could eventually reach these levels.',\n",
       " 'No single epidemic can be attributed wholly to climate change.',\n",
       " 'In California, however, which is already being ravaged by the heat and drought of climate change.',\n",
       " 'Global warming is occurring more slowly than computer models forecast a decade ago.',\n",
       " 'Climate change is a cult.',\n",
       " 'Most global warming is natural and even if there had been no Industrial Revolution current global temperatures would be almost exactly the same as they are now.',\n",
       " 'Rising sea levels could force Los Angeles International Airport (LAX) to be moved.']"
      ]
     },
     "execution_count": 63,
     "metadata": {},
     "output_type": "execute_result"
    }
   ],
   "source": [
    "list(opp_preds.sentence)"
   ]
  },
  {
   "cell_type": "code",
   "execution_count": null,
   "metadata": {},
   "outputs": [],
   "source": []
  }
 ],
 "metadata": {
  "kernelspec": {
   "display_name": "Python 3",
   "language": "python",
   "name": "python3"
  },
  "language_info": {
   "codemirror_mode": {
    "name": "ipython",
    "version": 3
   },
   "file_extension": ".py",
   "mimetype": "text/x-python",
   "name": "python",
   "nbconvert_exporter": "python",
   "pygments_lexer": "ipython3",
   "version": "3.7.1"
  }
 },
 "nbformat": 4,
 "nbformat_minor": 2
}
