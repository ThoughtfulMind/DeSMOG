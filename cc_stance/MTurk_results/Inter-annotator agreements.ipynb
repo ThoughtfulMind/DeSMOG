{
 "cells": [
  {
   "cell_type": "code",
   "execution_count": 1,
   "metadata": {},
   "outputs": [],
   "source": [
    "import pandas as pd\n",
    "import numpy as np"
   ]
  },
  {
   "cell_type": "code",
   "execution_count": 2,
   "metadata": {},
   "outputs": [],
   "source": [
    "MTURK_RES_DIR = \"/Users/yiweiluo/mturk_tools/Submiterator/projectfiles/\""
   ]
  },
  {
   "cell_type": "code",
   "execution_count": 4,
   "metadata": {},
   "outputs": [],
   "source": [
    "CURR_TASK = \"cc_stance_LIVE_pilot_0/\""
   ]
  },
  {
   "cell_type": "code",
   "execution_count": 244,
   "metadata": {},
   "outputs": [],
   "source": [
    "subject_info = pd.read_csv(MTURK_RES_DIR + CURR_TASK + \"cc_stance_pilot_0-subject-info.csv\")\n",
    "trial_info = pd.read_csv(MTURK_RES_DIR + CURR_TASK + \"cc_stance_pilot_0-trials.csv\")"
   ]
  },
  {
   "cell_type": "code",
   "execution_count": 245,
   "metadata": {
    "scrolled": false
   },
   "outputs": [
    {
     "data": {
      "text/html": [
       "<div>\n",
       "<style scoped>\n",
       "    .dataframe tbody tr th:only-of-type {\n",
       "        vertical-align: middle;\n",
       "    }\n",
       "\n",
       "    .dataframe tbody tr th {\n",
       "        vertical-align: top;\n",
       "    }\n",
       "\n",
       "    .dataframe thead th {\n",
       "        text-align: right;\n",
       "    }\n",
       "</style>\n",
       "<table border=\"1\" class=\"dataframe\">\n",
       "  <thead>\n",
       "    <tr style=\"text-align: right;\">\n",
       "      <th></th>\n",
       "      <th>startDate</th>\n",
       "      <th>startTime</th>\n",
       "      <th>comments</th>\n",
       "      <th>criticisms</th>\n",
       "      <th>HitCorrect</th>\n",
       "      <th>HitFamiliar</th>\n",
       "      <th>age</th>\n",
       "      <th>gender</th>\n",
       "      <th>education</th>\n",
       "      <th>party</th>\n",
       "      <th>languages</th>\n",
       "      <th>endTime</th>\n",
       "      <th>timeSpent</th>\n",
       "      <th>likert1</th>\n",
       "      <th>likert2</th>\n",
       "      <th>likert3</th>\n",
       "      <th>likert4</th>\n",
       "      <th>likert5</th>\n",
       "      <th>likert6</th>\n",
       "      <th>workerid</th>\n",
       "    </tr>\n",
       "  </thead>\n",
       "  <tbody>\n",
       "    <tr>\n",
       "      <td>0</td>\n",
       "      <td>Tue Oct 29 2019 12:50:13 GMT-0500 (Central Daylight Time)</td>\n",
       "      <td>1572371413516</td>\n",
       "      <td>thanks for the opportunity, this was an interesting task, and I took my time to provide accurate and useful data. Thanks!</td>\n",
       "      <td>NaN</td>\n",
       "      <td>0</td>\n",
       "      <td>1</td>\n",
       "      <td>22</td>\n",
       "      <td>male</td>\n",
       "      <td>graduated_college</td>\n",
       "      <td>republican</td>\n",
       "      <td>english</td>\n",
       "      <td>1572371987690</td>\n",
       "      <td>9.569567</td>\n",
       "      <td>strong_agree</td>\n",
       "      <td>agree</td>\n",
       "      <td>disagree</td>\n",
       "      <td>strong_agree</td>\n",
       "      <td>strong_disagree</td>\n",
       "      <td>strong_disagree</td>\n",
       "      <td>A2UREJJH126LX9</td>\n",
       "    </tr>\n",
       "    <tr>\n",
       "      <td>1</td>\n",
       "      <td>Tue Oct 29 2019 13:57:27 GMT-0400 (Eastern Daylight Time)</td>\n",
       "      <td>1572371847606</td>\n",
       "      <td>Very difficult, more me, anyway.</td>\n",
       "      <td>none. thank you.</td>\n",
       "      <td>0</td>\n",
       "      <td>404</td>\n",
       "      <td>69</td>\n",
       "      <td>female</td>\n",
       "      <td>other</td>\n",
       "      <td>republican</td>\n",
       "      <td>english</td>\n",
       "      <td>1572372493079</td>\n",
       "      <td>10.757883</td>\n",
       "      <td>agree</td>\n",
       "      <td>strong_agree</td>\n",
       "      <td>strong_agree</td>\n",
       "      <td>strong_agree</td>\n",
       "      <td>neutral</td>\n",
       "      <td>strong_disagree</td>\n",
       "      <td>A2APG8MSLJ6G2K</td>\n",
       "    </tr>\n",
       "    <tr>\n",
       "      <td>2</td>\n",
       "      <td>Tue Oct 29 2019 14:00:24 GMT-0400 (Eastern Daylight Time)</td>\n",
       "      <td>1572372024960</td>\n",
       "      <td>no</td>\n",
       "      <td>none</td>\n",
       "      <td>0</td>\n",
       "      <td>1</td>\n",
       "      <td>39</td>\n",
       "      <td>female</td>\n",
       "      <td>graduated_high_school</td>\n",
       "      <td>democrat</td>\n",
       "      <td>English, Arabic</td>\n",
       "      <td>1572372368903</td>\n",
       "      <td>5.732383</td>\n",
       "      <td>strong_agree</td>\n",
       "      <td>strong_agree</td>\n",
       "      <td>neutral</td>\n",
       "      <td>strong_agree</td>\n",
       "      <td>disagree</td>\n",
       "      <td>neutral</td>\n",
       "      <td>AMV1E7FFPVAW4</td>\n",
       "    </tr>\n",
       "    <tr>\n",
       "      <td>3</td>\n",
       "      <td>Tue Oct 29 2019 14:28:22 GMT-0400 (Eastern Daylight Time)</td>\n",
       "      <td>1572373702890</td>\n",
       "      <td>NaN</td>\n",
       "      <td>NaN</td>\n",
       "      <td>0</td>\n",
       "      <td>1</td>\n",
       "      <td>59</td>\n",
       "      <td>female</td>\n",
       "      <td>graduated_college</td>\n",
       "      <td>democrat</td>\n",
       "      <td>eng</td>\n",
       "      <td>1572374379667</td>\n",
       "      <td>11.279617</td>\n",
       "      <td>agree</td>\n",
       "      <td>strong_agree</td>\n",
       "      <td>strong_agree</td>\n",
       "      <td>strong_agree</td>\n",
       "      <td>disagree</td>\n",
       "      <td>disagree</td>\n",
       "      <td>A1GKD3NG1NNHRP</td>\n",
       "    </tr>\n",
       "    <tr>\n",
       "      <td>4</td>\n",
       "      <td>Tue Oct 29 2019 13:54:34 GMT-0400 (Eastern Daylight Time)</td>\n",
       "      <td>1572371674068</td>\n",
       "      <td>NaN</td>\n",
       "      <td>NaN</td>\n",
       "      <td>0</td>\n",
       "      <td>1</td>\n",
       "      <td>29</td>\n",
       "      <td>male</td>\n",
       "      <td>graduated_college</td>\n",
       "      <td>independent</td>\n",
       "      <td>English</td>\n",
       "      <td>1572372629479</td>\n",
       "      <td>15.923517</td>\n",
       "      <td>strong_agree</td>\n",
       "      <td>strong_agree</td>\n",
       "      <td>agree</td>\n",
       "      <td>strong_agree</td>\n",
       "      <td>agree</td>\n",
       "      <td>strong_agree</td>\n",
       "      <td>A2541C8MY0BYV3</td>\n",
       "    </tr>\n",
       "  </tbody>\n",
       "</table>\n",
       "</div>"
      ],
      "text/plain": [
       "                                                   startDate      startTime  \\\n",
       "0  Tue Oct 29 2019 12:50:13 GMT-0500 (Central Daylight Time)  1572371413516   \n",
       "1  Tue Oct 29 2019 13:57:27 GMT-0400 (Eastern Daylight Time)  1572371847606   \n",
       "2  Tue Oct 29 2019 14:00:24 GMT-0400 (Eastern Daylight Time)  1572372024960   \n",
       "3  Tue Oct 29 2019 14:28:22 GMT-0400 (Eastern Daylight Time)  1572373702890   \n",
       "4  Tue Oct 29 2019 13:54:34 GMT-0400 (Eastern Daylight Time)  1572371674068   \n",
       "\n",
       "                                                                                                                    comments  \\\n",
       "0  thanks for the opportunity, this was an interesting task, and I took my time to provide accurate and useful data. Thanks!   \n",
       "1  Very difficult, more me, anyway.                                                                                            \n",
       "2  no                                                                                                                          \n",
       "3  NaN                                                                                                                         \n",
       "4  NaN                                                                                                                         \n",
       "\n",
       "         criticisms  HitCorrect  HitFamiliar  age  gender  \\\n",
       "0  NaN               0           1            22   male     \n",
       "1  none. thank you.  0           404          69   female   \n",
       "2  none              0           1            39   female   \n",
       "3  NaN               0           1            59   female   \n",
       "4  NaN               0           1            29   male     \n",
       "\n",
       "               education        party        languages        endTime  \\\n",
       "0  graduated_college      republican   english          1572371987690   \n",
       "1  other                  republican   english          1572372493079   \n",
       "2  graduated_high_school  democrat     English, Arabic  1572372368903   \n",
       "3  graduated_college      democrat     eng              1572374379667   \n",
       "4  graduated_college      independent  English          1572372629479   \n",
       "\n",
       "   timeSpent       likert1       likert2       likert3       likert4  \\\n",
       "0  9.569567   strong_agree  agree         disagree      strong_agree   \n",
       "1  10.757883  agree         strong_agree  strong_agree  strong_agree   \n",
       "2  5.732383   strong_agree  strong_agree  neutral       strong_agree   \n",
       "3  11.279617  agree         strong_agree  strong_agree  strong_agree   \n",
       "4  15.923517  strong_agree  strong_agree  agree         strong_agree   \n",
       "\n",
       "           likert5          likert6        workerid  \n",
       "0  strong_disagree  strong_disagree  A2UREJJH126LX9  \n",
       "1  neutral          strong_disagree  A2APG8MSLJ6G2K  \n",
       "2  disagree         neutral          AMV1E7FFPVAW4   \n",
       "3  disagree         disagree         A1GKD3NG1NNHRP  \n",
       "4  agree            strong_agree     A2541C8MY0BYV3  "
      ]
     },
     "execution_count": 245,
     "metadata": {},
     "output_type": "execute_result"
    }
   ],
   "source": [
    "subject_info"
   ]
  },
  {
   "cell_type": "code",
   "execution_count": 246,
   "metadata": {},
   "outputs": [
    {
     "name": "stdout",
     "output_type": "stream",
     "text": [
      "Mean time spent: 10.652593333333334\n",
      "Max time spent: 15.923516666666664\n",
      "Min time spent: 5.732383333333333\n"
     ]
    }
   ],
   "source": [
    "print('Mean time spent:',subject_info['timeSpent'].mean())\n",
    "print('Max time spent:',subject_info['timeSpent'].max())\n",
    "print('Min time spent:',subject_info['timeSpent'].min())"
   ]
  },
  {
   "cell_type": "markdown",
   "metadata": {},
   "source": [
    "Distribution of reading times per worker:"
   ]
  },
  {
   "cell_type": "code",
   "execution_count": 214,
   "metadata": {},
   "outputs": [],
   "source": [
    "import matplotlib.pyplot as plt\n",
    "%matplotlib inline"
   ]
  },
  {
   "cell_type": "code",
   "execution_count": 243,
   "metadata": {
    "scrolled": true
   },
   "outputs": [
    {
     "name": "stdout",
     "output_type": "stream",
     "text": [
      "s0\n",
      "Mean RT: 2.75\tMin RT: 1.0\tMax RT: 5.0\n",
      "\n",
      "\n",
      "s1\n",
      "Mean RT: 9.75\tMin RT: 4.0\tMax RT: 21.0\n",
      "\n",
      "\n",
      "s2\n",
      "Mean RT: 7.0\tMin RT: 2.0\tMax RT: 19.0\n",
      "\n",
      "\n",
      "s3\n",
      "Mean RT: 3.25\tMin RT: 2.0\tMax RT: 6.0\n",
      "\n",
      "\n",
      "s4\n",
      "Mean RT: 1.75\tMin RT: 1.0\tMax RT: 2.0\n",
      "\n",
      "\n",
      "t0\n",
      "Mean RT: 54.0\tMin RT: 7.0\tMax RT: 188.0\n",
      "\n",
      "\n",
      "t1\n",
      "Mean RT: 2.5\tMin RT: 2.0\tMax RT: 3.0\n",
      "\n",
      "\n",
      "t10\n",
      "Mean RT: 7.75\tMin RT: 4.0\tMax RT: 16.0\n",
      "\n",
      "\n",
      "t11\n",
      "Mean RT: 5.0\tMin RT: 3.0\tMax RT: 10.0\n",
      "\n",
      "\n",
      "t12\n",
      "Mean RT: 9.0\tMin RT: 5.0\tMax RT: 16.0\n",
      "\n",
      "\n",
      "t13\n",
      "Mean RT: 48.0\tMin RT: 5.0\tMax RT: 167.0\n",
      "\n",
      "\n",
      "t14\n",
      "Mean RT: 12.25\tMin RT: 7.0\tMax RT: 18.0\n",
      "\n",
      "\n",
      "t15\n",
      "Mean RT: 6.25\tMin RT: 3.0\tMax RT: 11.0\n",
      "\n",
      "\n",
      "t16\n",
      "Mean RT: 10.25\tMin RT: 5.0\tMax RT: 22.0\n",
      "\n",
      "\n",
      "t17\n",
      "Mean RT: 3.75\tMin RT: 3.0\tMax RT: 6.0\n",
      "\n",
      "\n",
      "t18\n",
      "Mean RT: 7.75\tMin RT: 5.0\tMax RT: 10.0\n",
      "\n",
      "\n",
      "t19\n",
      "Mean RT: 7.5\tMin RT: 4.0\tMax RT: 10.0\n",
      "\n",
      "\n",
      "t2\n",
      "Mean RT: 4.75\tMin RT: 2.0\tMax RT: 7.0\n",
      "\n",
      "\n",
      "t20\n",
      "Mean RT: 5.0\tMin RT: 2.0\tMax RT: 10.0\n",
      "\n",
      "\n",
      "t21\n",
      "Mean RT: 4.0\tMin RT: 2.0\tMax RT: 6.0\n",
      "\n",
      "\n",
      "t22\n",
      "Mean RT: 3.5\tMin RT: 2.0\tMax RT: 6.0\n",
      "\n",
      "\n",
      "t23\n",
      "Mean RT: 6.75\tMin RT: 4.0\tMax RT: 9.0\n",
      "\n",
      "\n",
      "t24\n",
      "Mean RT: 4.5\tMin RT: 3.0\tMax RT: 5.0\n",
      "\n",
      "\n",
      "t3\n",
      "Mean RT: 15.75\tMin RT: 3.0\tMax RT: 43.0\n",
      "\n",
      "\n",
      "t4\n",
      "Mean RT: 4.25\tMin RT: 2.0\tMax RT: 6.0\n",
      "\n",
      "\n",
      "t5\n",
      "Mean RT: 9.0\tMin RT: 6.0\tMax RT: 15.0\n",
      "\n",
      "\n",
      "t6\n",
      "Mean RT: 3.75\tMin RT: 2.0\tMax RT: 7.0\n",
      "\n",
      "\n",
      "t7\n",
      "Mean RT: 8.0\tMin RT: 5.0\tMax RT: 10.0\n",
      "\n",
      "\n",
      "t8\n",
      "Mean RT: 8.25\tMin RT: 6.0\tMax RT: 10.0\n",
      "\n",
      "\n",
      "t9\n",
      "Mean RT: 15.5\tMin RT: 3.0\tMax RT: 31.0\n",
      "\n",
      "\n"
     ]
    }
   ],
   "source": [
    "question_groups = trial_info.groupby('trial_sent_id')\n",
    "for sent_id in question_groups.first().index:\n",
    "    rts = round(question_groups.get_group(sent_id)['RT']/1000.)\n",
    "    print(sent_id)\n",
    "    print('Mean RT: {}\\tMin RT: {}\\tMax RT: {}'.format(rts.mean(),rts.min(),rts.max()))\n",
    "    print('\\n')"
   ]
  },
  {
   "cell_type": "code",
   "execution_count": null,
   "metadata": {},
   "outputs": [],
   "source": [
    "# t0, t13, t3"
   ]
  },
  {
   "cell_type": "code",
   "execution_count": 227,
   "metadata": {
    "scrolled": false
   },
   "outputs": [
    {
     "data": {
      "image/png": "[encoded data removed]",
      "text/plain": [
       "<Figure size 432x1440 with 4 Axes>"
      ]
     },
     "metadata": {
      "needs_background": "light"
     },
     "output_type": "display_data"
    }
   ],
   "source": [
    "fig,ax_list = plt.subplots(4,1,figsize=(6,20),sharey=True,sharex=True)\n",
    "for w_id in worker_ids:\n",
    "    ax_list[w_id].hist(trials_per_worker.get_group(w_id)['RT']/1000.)"
   ]
  },
  {
   "cell_type": "markdown",
   "metadata": {},
   "source": [
    "Organize party and likert responses:"
   ]
  },
  {
   "cell_type": "code",
   "execution_count": 171,
   "metadata": {
    "code_folding": [
     0
    ]
   },
   "outputs": [],
   "source": [
    "likert_qs = [\"Global average temperatures have been increasing over the past century.\",\n",
    "            \"Humans are the primary cause of this global warming.\",\n",
    "            \"Global warming is a natural process.\",\n",
    "            \"Urgent government action is required to address the problem of global warming.\",\n",
    "            \"We should continue to rely on fossil fuels as our primary source of energy.\",\n",
    "            \"I trust the ability of news media to provide unbiased coverage of science.\"]"
   ]
  },
  {
   "cell_type": "code",
   "execution_count": 247,
   "metadata": {
    "scrolled": true
   },
   "outputs": [],
   "source": [
    "likert_df = subject_info[['likert{}'.format(ix) for ix in range(1,7)]].T"
   ]
  },
  {
   "cell_type": "code",
   "execution_count": 248,
   "metadata": {
    "scrolled": true
   },
   "outputs": [],
   "source": [
    "likert_df['statement'] = likert_qs"
   ]
  },
  {
   "cell_type": "code",
   "execution_count": 249,
   "metadata": {},
   "outputs": [
    {
     "data": {
      "text/html": [
       "<div>\n",
       "<style scoped>\n",
       "    .dataframe tbody tr th:only-of-type {\n",
       "        vertical-align: middle;\n",
       "    }\n",
       "\n",
       "    .dataframe tbody tr th {\n",
       "        vertical-align: top;\n",
       "    }\n",
       "\n",
       "    .dataframe thead th {\n",
       "        text-align: right;\n",
       "    }\n",
       "</style>\n",
       "<table border=\"1\" class=\"dataframe\">\n",
       "  <thead>\n",
       "    <tr style=\"text-align: right;\">\n",
       "      <th></th>\n",
       "      <th>0</th>\n",
       "      <th>1</th>\n",
       "      <th>2</th>\n",
       "      <th>3</th>\n",
       "      <th>4</th>\n",
       "    </tr>\n",
       "    <tr>\n",
       "      <th>statement</th>\n",
       "      <th></th>\n",
       "      <th></th>\n",
       "      <th></th>\n",
       "      <th></th>\n",
       "      <th></th>\n",
       "    </tr>\n",
       "  </thead>\n",
       "  <tbody>\n",
       "    <tr>\n",
       "      <td>Global average temperatures have been increasing over the past century.</td>\n",
       "      <td>strong_agree</td>\n",
       "      <td>agree</td>\n",
       "      <td>strong_agree</td>\n",
       "      <td>agree</td>\n",
       "      <td>strong_agree</td>\n",
       "    </tr>\n",
       "    <tr>\n",
       "      <td>Humans are the primary cause of this global warming.</td>\n",
       "      <td>agree</td>\n",
       "      <td>strong_agree</td>\n",
       "      <td>strong_agree</td>\n",
       "      <td>strong_agree</td>\n",
       "      <td>strong_agree</td>\n",
       "    </tr>\n",
       "    <tr>\n",
       "      <td>Global warming is a natural process.</td>\n",
       "      <td>disagree</td>\n",
       "      <td>strong_agree</td>\n",
       "      <td>neutral</td>\n",
       "      <td>strong_agree</td>\n",
       "      <td>agree</td>\n",
       "    </tr>\n",
       "    <tr>\n",
       "      <td>Urgent government action is required to address the problem of global warming.</td>\n",
       "      <td>strong_agree</td>\n",
       "      <td>strong_agree</td>\n",
       "      <td>strong_agree</td>\n",
       "      <td>strong_agree</td>\n",
       "      <td>strong_agree</td>\n",
       "    </tr>\n",
       "    <tr>\n",
       "      <td>We should continue to rely on fossil fuels as our primary source of energy.</td>\n",
       "      <td>strong_disagree</td>\n",
       "      <td>neutral</td>\n",
       "      <td>disagree</td>\n",
       "      <td>disagree</td>\n",
       "      <td>agree</td>\n",
       "    </tr>\n",
       "    <tr>\n",
       "      <td>I trust the ability of news media to provide unbiased coverage of science.</td>\n",
       "      <td>strong_disagree</td>\n",
       "      <td>strong_disagree</td>\n",
       "      <td>neutral</td>\n",
       "      <td>disagree</td>\n",
       "      <td>strong_agree</td>\n",
       "    </tr>\n",
       "  </tbody>\n",
       "</table>\n",
       "</div>"
      ],
      "text/plain": [
       "                                                                                              0  \\\n",
       "statement                                                                                         \n",
       "Global average temperatures have been increasing over the past century.         strong_agree      \n",
       "Humans are the primary cause of this global warming.                            agree             \n",
       "Global warming is a natural process.                                            disagree          \n",
       "Urgent government action is required to address the problem of global warming.  strong_agree      \n",
       "We should continue to rely on fossil fuels as our primary source of energy.     strong_disagree   \n",
       "I trust the ability of news media to provide unbiased coverage of science.      strong_disagree   \n",
       "\n",
       "                                                                                              1  \\\n",
       "statement                                                                                         \n",
       "Global average temperatures have been increasing over the past century.         agree             \n",
       "Humans are the primary cause of this global warming.                            strong_agree      \n",
       "Global warming is a natural process.                                            strong_agree      \n",
       "Urgent government action is required to address the problem of global warming.  strong_agree      \n",
       "We should continue to rely on fossil fuels as our primary source of energy.     neutral           \n",
       "I trust the ability of news media to provide unbiased coverage of science.      strong_disagree   \n",
       "\n",
       "                                                                                           2  \\\n",
       "statement                                                                                      \n",
       "Global average temperatures have been increasing over the past century.         strong_agree   \n",
       "Humans are the primary cause of this global warming.                            strong_agree   \n",
       "Global warming is a natural process.                                            neutral        \n",
       "Urgent government action is required to address the problem of global warming.  strong_agree   \n",
       "We should continue to rely on fossil fuels as our primary source of energy.     disagree       \n",
       "I trust the ability of news media to provide unbiased coverage of science.      neutral        \n",
       "\n",
       "                                                                                           3  \\\n",
       "statement                                                                                      \n",
       "Global average temperatures have been increasing over the past century.         agree          \n",
       "Humans are the primary cause of this global warming.                            strong_agree   \n",
       "Global warming is a natural process.                                            strong_agree   \n",
       "Urgent government action is required to address the problem of global warming.  strong_agree   \n",
       "We should continue to rely on fossil fuels as our primary source of energy.     disagree       \n",
       "I trust the ability of news media to provide unbiased coverage of science.      disagree       \n",
       "\n",
       "                                                                                           4  \n",
       "statement                                                                                     \n",
       "Global average temperatures have been increasing over the past century.         strong_agree  \n",
       "Humans are the primary cause of this global warming.                            strong_agree  \n",
       "Global warming is a natural process.                                            agree         \n",
       "Urgent government action is required to address the problem of global warming.  strong_agree  \n",
       "We should continue to rely on fossil fuels as our primary source of energy.     agree         \n",
       "I trust the ability of news media to provide unbiased coverage of science.      strong_agree  "
      ]
     },
     "execution_count": 249,
     "metadata": {},
     "output_type": "execute_result"
    }
   ],
   "source": [
    "likert_df.set_index('statement')"
   ]
  },
  {
   "cell_type": "code",
   "execution_count": 250,
   "metadata": {},
   "outputs": [
    {
     "data": {
      "text/plain": [
       "0    republican \n",
       "1    republican \n",
       "2    democrat   \n",
       "3    democrat   \n",
       "4    independent\n",
       "Name: party, dtype: object"
      ]
     },
     "execution_count": 250,
     "metadata": {},
     "output_type": "execute_result"
    }
   ],
   "source": [
    "subject_info['party']"
   ]
  },
  {
   "cell_type": "code",
   "execution_count": null,
   "metadata": {},
   "outputs": [],
   "source": [
    "# statement 3 \"natural process\" is confusing?\n",
    "# Move to first statement?\n",
    "# \"Natural temperature fluctuations account for observed extreme weather events and increasing temperature\""
   ]
  },
  {
   "cell_type": "markdown",
   "metadata": {},
   "source": [
    "# 1. Fleiss's kappa for 2+ annotators"
   ]
  },
  {
   "cell_type": "code",
   "execution_count": 7,
   "metadata": {},
   "outputs": [
    {
     "data": {
      "text/plain": [
       "Index(['trial_number', 'RT', 'condition', 'workerid', 'trial_sent_id',\n",
       "       'option_chosen'],\n",
       "      dtype='object')"
      ]
     },
     "execution_count": 7,
     "metadata": {},
     "output_type": "execute_result"
    }
   ],
   "source": [
    "trial_info.columns"
   ]
  },
  {
   "cell_type": "markdown",
   "metadata": {},
   "source": [
    "Break trials into chunks for each annotator:"
   ]
  },
  {
   "cell_type": "code",
   "execution_count": 251,
   "metadata": {},
   "outputs": [],
   "source": [
    "trials_per_worker = trial_info.groupby('workerid')"
   ]
  },
  {
   "cell_type": "code",
   "execution_count": 252,
   "metadata": {},
   "outputs": [
    {
     "data": {
      "text/html": [
       "<div>\n",
       "<style scoped>\n",
       "    .dataframe tbody tr th:only-of-type {\n",
       "        vertical-align: middle;\n",
       "    }\n",
       "\n",
       "    .dataframe tbody tr th {\n",
       "        vertical-align: top;\n",
       "    }\n",
       "\n",
       "    .dataframe thead th {\n",
       "        text-align: right;\n",
       "    }\n",
       "</style>\n",
       "<table border=\"1\" class=\"dataframe\">\n",
       "  <thead>\n",
       "    <tr style=\"text-align: right;\">\n",
       "      <th></th>\n",
       "      <th>trial_sent_id</th>\n",
       "      <th>RT</th>\n",
       "      <th>trial_number</th>\n",
       "      <th>condition</th>\n",
       "      <th>option_chosen</th>\n",
       "    </tr>\n",
       "    <tr>\n",
       "      <th>workerid</th>\n",
       "      <th></th>\n",
       "      <th></th>\n",
       "      <th></th>\n",
       "      <th></th>\n",
       "      <th></th>\n",
       "    </tr>\n",
       "  </thead>\n",
       "  <tbody>\n",
       "    <tr>\n",
       "      <td>0</td>\n",
       "      <td>t9</td>\n",
       "      <td>31346</td>\n",
       "      <td>1</td>\n",
       "      <td>true</td>\n",
       "      <td>neutral</td>\n",
       "    </tr>\n",
       "    <tr>\n",
       "      <td>1</td>\n",
       "      <td>s2</td>\n",
       "      <td>18869</td>\n",
       "      <td>1</td>\n",
       "      <td>screen</td>\n",
       "      <td>neutral</td>\n",
       "    </tr>\n",
       "    <tr>\n",
       "      <td>2</td>\n",
       "      <td>t14</td>\n",
       "      <td>17574</td>\n",
       "      <td>1</td>\n",
       "      <td>true</td>\n",
       "      <td>agrees</td>\n",
       "    </tr>\n",
       "    <tr>\n",
       "      <td>3</td>\n",
       "      <td>t19</td>\n",
       "      <td>11048</td>\n",
       "      <td>1</td>\n",
       "      <td>true</td>\n",
       "      <td>disagrees</td>\n",
       "    </tr>\n",
       "    <tr>\n",
       "      <td>4</td>\n",
       "      <td>t12</td>\n",
       "      <td>6544</td>\n",
       "      <td>1</td>\n",
       "      <td>true</td>\n",
       "      <td>neutral</td>\n",
       "    </tr>\n",
       "  </tbody>\n",
       "</table>\n",
       "</div>"
      ],
      "text/plain": [
       "         trial_sent_id     RT  trial_number condition option_chosen\n",
       "workerid                                                           \n",
       "0         t9            31346  1             true      neutral     \n",
       "1         s2            18869  1             screen    neutral     \n",
       "2         t14           17574  1             true      agrees      \n",
       "3         t19           11048  1             true      disagrees   \n",
       "4         t12           6544   1             true      neutral     "
      ]
     },
     "execution_count": 252,
     "metadata": {},
     "output_type": "execute_result"
    }
   ],
   "source": [
    "trials_per_worker.first()"
   ]
  },
  {
   "cell_type": "code",
   "execution_count": 258,
   "metadata": {},
   "outputs": [],
   "source": [
    "worker_ids = list(trials_per_worker.first().index)"
   ]
  },
  {
   "cell_type": "markdown",
   "metadata": {},
   "source": [
    "Step 1: Calculate how many assignments went (proportionally) to each category $(P_c)$.\n",
    "\n",
    "$$P_c=\\frac{1}{Aa}\\sum_{i=1}^{A}a_{ic},$$\n",
    "\n",
    "$A =$ number of annotators,\n",
    "$a =$ number of annotations each annotator created,\n",
    "$a_{ic} =$ number of annotations in category $c$ for annotator $i$ "
   ]
  },
  {
   "cell_type": "code",
   "execution_count": 254,
   "metadata": {},
   "outputs": [],
   "source": [
    "A = 5\n",
    "a = 30"
   ]
  },
  {
   "cell_type": "code",
   "execution_count": 255,
   "metadata": {},
   "outputs": [],
   "source": [
    "P_agree = 1./(A*a)*(np.sum([np.sum(trials_per_worker.get_group(w_id)['option_chosen'] == 'agrees')\n",
    "                           for w_id in worker_ids]))\n",
    "P_disagree = 1./(A*a)*(np.sum([np.sum(trials_per_worker.get_group(w_id)['option_chosen'] == 'disagrees')\n",
    "                           for w_id in worker_ids]))\n",
    "P_neutral = 1./(A*a)*(np.sum([np.sum(trials_per_worker.get_group(w_id)['option_chosen'] == 'neutral')\n",
    "                           for w_id in worker_ids]))"
   ]
  },
  {
   "cell_type": "code",
   "execution_count": 256,
   "metadata": {},
   "outputs": [
    {
     "data": {
      "text/plain": [
       "0.5133333333333334"
      ]
     },
     "execution_count": 256,
     "metadata": {},
     "output_type": "execute_result"
    }
   ],
   "source": [
    "P_neutral"
   ]
  },
  {
   "cell_type": "markdown",
   "metadata": {},
   "source": [
    "Step 2: Calculate each annotator's agreement with other annotators, compared to all possible agreement values ($P_i$):\n",
    "\n",
    "$$P_i = \\frac{(\\sum_{c=1}^ka_{ic}^2)-a}{a(a-1)},$$\n",
    "\n",
    "$k =$ number of categories."
   ]
  },
  {
   "cell_type": "code",
   "execution_count": 257,
   "metadata": {},
   "outputs": [],
   "source": [
    "k = 3"
   ]
  },
  {
   "cell_type": "code",
   "execution_count": 259,
   "metadata": {},
   "outputs": [],
   "source": [
    "P_annotators = {}\n",
    "for w_id in worker_ids:\n",
    "    P_annotators[w_id] = (np.sum(trials_per_worker.get_group(w_id)['option_chosen'] == 'agrees')**2+\\\n",
    "    np.sum(trials_per_worker.get_group(w_id)['option_chosen'] == 'disagrees')**2+\\\n",
    "    np.sum(trials_per_worker.get_group(w_id)['option_chosen'] == 'neutral')**2-a)/(a*(a-1.))"
   ]
  },
  {
   "cell_type": "code",
   "execution_count": 260,
   "metadata": {},
   "outputs": [
    {
     "data": {
      "text/plain": [
       "{0: 0.45057471264367815,\n",
       " 1: 0.3195402298850575,\n",
       " 2: 0.37471264367816093,\n",
       " 3: 0.4850574712643678,\n",
       " 4: 0.3724137931034483}"
      ]
     },
     "execution_count": 260,
     "metadata": {},
     "output_type": "execute_result"
    }
   ],
   "source": [
    "P_annotators"
   ]
  },
  {
   "cell_type": "markdown",
   "metadata": {},
   "source": [
    "Step 3: Calculate $\\bar{P}$, the average of ```P_annotators```:"
   ]
  },
  {
   "cell_type": "code",
   "execution_count": 261,
   "metadata": {},
   "outputs": [],
   "source": [
    "P_av = np.mean(list(P_annotators.values()))"
   ]
  },
  {
   "cell_type": "code",
   "execution_count": 262,
   "metadata": {},
   "outputs": [
    {
     "data": {
      "text/plain": [
       "0.4004597701149425"
      ]
     },
     "execution_count": 262,
     "metadata": {},
     "output_type": "execute_result"
    }
   ],
   "source": [
    "P_av"
   ]
  },
  {
   "cell_type": "markdown",
   "metadata": {},
   "source": [
    "Step 4: Calculate $\\bar{P_e}$, the average of the expected agreement:"
   ]
  },
  {
   "cell_type": "code",
   "execution_count": 263,
   "metadata": {},
   "outputs": [],
   "source": [
    "P_e = np.sum(P_agree**2 + P_disagree**2 + P_neutral**2)"
   ]
  },
  {
   "cell_type": "code",
   "execution_count": 264,
   "metadata": {},
   "outputs": [
    {
     "data": {
      "text/plain": [
       "0.38693333333333346"
      ]
     },
     "execution_count": 264,
     "metadata": {},
     "output_type": "execute_result"
    }
   ],
   "source": [
    "P_e"
   ]
  },
  {
   "cell_type": "markdown",
   "metadata": {},
   "source": [
    "Step 5: Calculate Fleiss's kappa:\n",
    "\n",
    "$$K = \\frac{\\bar{P}-\\bar{P_e}}{1-\\bar{P_e}}$$"
   ]
  },
  {
   "cell_type": "code",
   "execution_count": 265,
   "metadata": {},
   "outputs": [],
   "source": [
    "kappa = (P_av-P_e)/(1.-P_e)"
   ]
  },
  {
   "cell_type": "code",
   "execution_count": 266,
   "metadata": {},
   "outputs": [
    {
     "data": {
      "text/plain": [
       "0.0220635658682183"
      ]
     },
     "execution_count": 266,
     "metadata": {},
     "output_type": "execute_result"
    }
   ],
   "source": [
    "kappa"
   ]
  },
  {
   "cell_type": "markdown",
   "metadata": {},
   "source": [
    "\"Slight agreement\" within the range 0.01 - 0.20."
   ]
  },
  {
   "cell_type": "markdown",
   "metadata": {},
   "source": [
    "# 2. Correlation"
   ]
  },
  {
   "cell_type": "markdown",
   "metadata": {},
   "source": [
    "Fleiss's kappa only measures agreement over category totals. Looking at correlation also gives us a p-value."
   ]
  },
  {
   "cell_type": "code",
   "execution_count": 267,
   "metadata": {},
   "outputs": [],
   "source": [
    "labels_per_worker = {}\n",
    "for w_id in worker_ids:\n",
    "    worker_labels = trials_per_worker.get_group(w_id).sort_values(by='trial_sent_id')\n",
    "    worker_labels = worker_labels.set_index('trial_sent_id')\n",
    "    worker_labels = worker_labels.drop([\"trial_number\",\"RT\",\"condition\"],axis=1)\n",
    "    worker_labels.columns = ['worker_{}'.format(w_id)]\n",
    "    labels_per_worker[w_id] = worker_labels"
   ]
  },
  {
   "cell_type": "code",
   "execution_count": 268,
   "metadata": {
    "scrolled": true
   },
   "outputs": [],
   "source": [
    "all_worker_labels = pd.concat([labels_per_worker[0], labels_per_worker[1], labels_per_worker[2], \n",
    "                               labels_per_worker[3], labels_per_worker[4]], axis=1)"
   ]
  },
  {
   "cell_type": "markdown",
   "metadata": {},
   "source": [
    "Add original sentence:"
   ]
  },
  {
   "cell_type": "code",
   "execution_count": 127,
   "metadata": {},
   "outputs": [],
   "source": [
    "import json"
   ]
  },
  {
   "cell_type": "code",
   "execution_count": 148,
   "metadata": {},
   "outputs": [],
   "source": [
    "trial_sents = []"
   ]
  },
  {
   "cell_type": "code",
   "execution_count": 156,
   "metadata": {
    "code_folding": [],
    "scrolled": true
   },
   "outputs": [],
   "source": [
    "with open(MTURK_RES_DIR + CURR_TASK + 'pilot_0_main_trials.jsonlist') as f:\n",
    "    lines = f.readlines()\n",
    "for ix in range(0,270,9):\n",
    "    line_chunk = [l.strip() for l in lines[ix:ix+9]]\n",
    "    line_chunk = \"\".join(line_chunk)\n",
    "    if line_chunk[-1] == ',':\n",
    "        line_chunk = line_chunk[:-1]\n",
    "    trial_sents.append(json.loads(line_chunk))"
   ]
  },
  {
   "cell_type": "code",
   "execution_count": 269,
   "metadata": {},
   "outputs": [],
   "source": [
    "all_worker_labels['sentence'] = [item['sentence'] for item in trial_sents]"
   ]
  },
  {
   "cell_type": "code",
   "execution_count": 270,
   "metadata": {
    "scrolled": false
   },
   "outputs": [
    {
     "data": {
      "text/html": [
       "<div>\n",
       "<style scoped>\n",
       "    .dataframe tbody tr th:only-of-type {\n",
       "        vertical-align: middle;\n",
       "    }\n",
       "\n",
       "    .dataframe tbody tr th {\n",
       "        vertical-align: top;\n",
       "    }\n",
       "\n",
       "    .dataframe thead th {\n",
       "        text-align: right;\n",
       "    }\n",
       "</style>\n",
       "<table border=\"1\" class=\"dataframe\">\n",
       "  <thead>\n",
       "    <tr style=\"text-align: right;\">\n",
       "      <th></th>\n",
       "      <th>worker_0</th>\n",
       "      <th>worker_1</th>\n",
       "      <th>worker_2</th>\n",
       "      <th>worker_3</th>\n",
       "      <th>worker_4</th>\n",
       "      <th>sentence</th>\n",
       "    </tr>\n",
       "    <tr>\n",
       "      <th>trial_sent_id</th>\n",
       "      <th></th>\n",
       "      <th></th>\n",
       "      <th></th>\n",
       "      <th></th>\n",
       "      <th></th>\n",
       "      <th></th>\n",
       "    </tr>\n",
       "  </thead>\n",
       "  <tbody>\n",
       "    <tr>\n",
       "      <td>s0</td>\n",
       "      <td>disagrees</td>\n",
       "      <td>disagrees</td>\n",
       "      <td>disagrees</td>\n",
       "      <td>disagrees</td>\n",
       "      <td>disagrees</td>\n",
       "      <td>Global warming is a hoax.</td>\n",
       "    </tr>\n",
       "    <tr>\n",
       "      <td>s1</td>\n",
       "      <td>neutral</td>\n",
       "      <td>neutral</td>\n",
       "      <td>neutral</td>\n",
       "      <td>agrees</td>\n",
       "      <td>agrees</td>\n",
       "      <td>Alarming levels of sea level rise are predicted to threaten Florida over the next decades.</td>\n",
       "    </tr>\n",
       "    <tr>\n",
       "      <td>s2</td>\n",
       "      <td>neutral</td>\n",
       "      <td>neutral</td>\n",
       "      <td>neutral</td>\n",
       "      <td>neutral</td>\n",
       "      <td>neutral</td>\n",
       "      <td>The current president of the US is a republican.</td>\n",
       "    </tr>\n",
       "    <tr>\n",
       "      <td>s3</td>\n",
       "      <td>agrees</td>\n",
       "      <td>agrees</td>\n",
       "      <td>agrees</td>\n",
       "      <td>agrees</td>\n",
       "      <td>agrees</td>\n",
       "      <td>Global warming is happening and it will be dangerous to human health and welfare.</td>\n",
       "    </tr>\n",
       "    <tr>\n",
       "      <td>s4</td>\n",
       "      <td>neutral</td>\n",
       "      <td>neutral</td>\n",
       "      <td>neutral</td>\n",
       "      <td>neutral</td>\n",
       "      <td>neutral</td>\n",
       "      <td>Some dogs are cute.</td>\n",
       "    </tr>\n",
       "    <tr>\n",
       "      <td>t0</td>\n",
       "      <td>neutral</td>\n",
       "      <td>agrees</td>\n",
       "      <td>neutral</td>\n",
       "      <td>neutral</td>\n",
       "      <td>neutral</td>\n",
       "      <td>The term global warming is associated with greater public understanding, emotional engagement, and support for personal and national action than the term climate change.</td>\n",
       "    </tr>\n",
       "    <tr>\n",
       "      <td>t1</td>\n",
       "      <td>agrees</td>\n",
       "      <td>agrees</td>\n",
       "      <td>agrees</td>\n",
       "      <td>agrees</td>\n",
       "      <td>agrees</td>\n",
       "      <td>The polar bear is being driven extinct by global warming.</td>\n",
       "    </tr>\n",
       "    <tr>\n",
       "      <td>t10</td>\n",
       "      <td>neutral</td>\n",
       "      <td>agrees</td>\n",
       "      <td>neutral</td>\n",
       "      <td>neutral</td>\n",
       "      <td>neutral</td>\n",
       "      <td>The growing deluge of greenhouse gas emissions continue.</td>\n",
       "    </tr>\n",
       "    <tr>\n",
       "      <td>t11</td>\n",
       "      <td>neutral</td>\n",
       "      <td>agrees</td>\n",
       "      <td>neutral</td>\n",
       "      <td>neutral</td>\n",
       "      <td>neutral</td>\n",
       "      <td>Poorer nations adapt to the impacts of global warming, like sea-level rise or droughts.</td>\n",
       "    </tr>\n",
       "    <tr>\n",
       "      <td>t12</td>\n",
       "      <td>neutral</td>\n",
       "      <td>agrees</td>\n",
       "      <td>agrees</td>\n",
       "      <td>neutral</td>\n",
       "      <td>neutral</td>\n",
       "      <td>There's no longer any serious doubt that climate change is real, accelerating, and caused by human activities.</td>\n",
       "    </tr>\n",
       "    <tr>\n",
       "      <td>t13</td>\n",
       "      <td>neutral</td>\n",
       "      <td>neutral</td>\n",
       "      <td>agrees</td>\n",
       "      <td>neutral</td>\n",
       "      <td>agrees</td>\n",
       "      <td>Measures such as conservation won't cost much and will buy insurance against global warming.</td>\n",
       "    </tr>\n",
       "    <tr>\n",
       "      <td>t14</td>\n",
       "      <td>neutral</td>\n",
       "      <td>disagrees</td>\n",
       "      <td>agrees</td>\n",
       "      <td>neutral</td>\n",
       "      <td>agrees</td>\n",
       "      <td>Human-caused global warming is proceeding rapidly.</td>\n",
       "    </tr>\n",
       "    <tr>\n",
       "      <td>t15</td>\n",
       "      <td>disagrees</td>\n",
       "      <td>disagrees</td>\n",
       "      <td>agrees</td>\n",
       "      <td>neutral</td>\n",
       "      <td>neutral</td>\n",
       "      <td>Even if the countries followed today's commitments to the letter, they wouldn't succeed in halting climate change.</td>\n",
       "    </tr>\n",
       "    <tr>\n",
       "      <td>t16</td>\n",
       "      <td>disagrees</td>\n",
       "      <td>neutral</td>\n",
       "      <td>agrees</td>\n",
       "      <td>neutral</td>\n",
       "      <td>neutral</td>\n",
       "      <td>The forecast was based on an expected change in sunspots and ocean temperatures, still better-understood factors than climate change.</td>\n",
       "    </tr>\n",
       "    <tr>\n",
       "      <td>t17</td>\n",
       "      <td>disagrees</td>\n",
       "      <td>disagrees</td>\n",
       "      <td>disagrees</td>\n",
       "      <td>disagrees</td>\n",
       "      <td>disagrees</td>\n",
       "      <td>That may be the only meaningful alternative to a politically doomed climate treaty based on specific targets for cutting greenhouse gas emissions.</td>\n",
       "    </tr>\n",
       "    <tr>\n",
       "      <td>t18</td>\n",
       "      <td>disagrees</td>\n",
       "      <td>neutral</td>\n",
       "      <td>neutral</td>\n",
       "      <td>neutral</td>\n",
       "      <td>neutral</td>\n",
       "      <td>Natural gas pipelines are crucial to national security.</td>\n",
       "    </tr>\n",
       "    <tr>\n",
       "      <td>t19</td>\n",
       "      <td>disagrees</td>\n",
       "      <td>disagrees</td>\n",
       "      <td>disagrees</td>\n",
       "      <td>disagrees</td>\n",
       "      <td>disagrees</td>\n",
       "      <td>We cannot act until poor countries act.</td>\n",
       "    </tr>\n",
       "    <tr>\n",
       "      <td>t2</td>\n",
       "      <td>agrees</td>\n",
       "      <td>agrees</td>\n",
       "      <td>neutral</td>\n",
       "      <td>agrees</td>\n",
       "      <td>neutral</td>\n",
       "      <td>Rather than the earlier prediction of warmer and drier weather here, conditions would get cooler and wetter.</td>\n",
       "    </tr>\n",
       "    <tr>\n",
       "      <td>t20</td>\n",
       "      <td>neutral</td>\n",
       "      <td>agrees</td>\n",
       "      <td>agrees</td>\n",
       "      <td>neutral</td>\n",
       "      <td>disagrees</td>\n",
       "      <td>It must decide quickly on how to comply with proposed Environmental Protection Agency rules limiting carbon pollution.</td>\n",
       "    </tr>\n",
       "    <tr>\n",
       "      <td>t21</td>\n",
       "      <td>neutral</td>\n",
       "      <td>neutral</td>\n",
       "      <td>agrees</td>\n",
       "      <td>neutral</td>\n",
       "      <td>neutral</td>\n",
       "      <td>Environmental Protection Agency regulations to curb mercury and other pollutants will force its utilities to close coal-fired plants, driving up customer bills and putting the grid's reliability at risk.</td>\n",
       "    </tr>\n",
       "    <tr>\n",
       "      <td>t22</td>\n",
       "      <td>neutral</td>\n",
       "      <td>disagrees</td>\n",
       "      <td>neutral</td>\n",
       "      <td>neutral</td>\n",
       "      <td>disagrees</td>\n",
       "      <td>About five years ago the environmental groups were supportive of natural gas technology as a cleaner alternative.</td>\n",
       "    </tr>\n",
       "    <tr>\n",
       "      <td>t23</td>\n",
       "      <td>neutral</td>\n",
       "      <td>neutral</td>\n",
       "      <td>agrees</td>\n",
       "      <td>neutral</td>\n",
       "      <td>neutral</td>\n",
       "      <td>A transition to cleaner fuels will happen eventually based on natural trends in energy markets, and that forcing a change too rapidly would do more harm than good.</td>\n",
       "    </tr>\n",
       "    <tr>\n",
       "      <td>t24</td>\n",
       "      <td>neutral</td>\n",
       "      <td>neutral</td>\n",
       "      <td>neutral</td>\n",
       "      <td>neutral</td>\n",
       "      <td>neutral</td>\n",
       "      <td>Global warming is not a crisis.</td>\n",
       "    </tr>\n",
       "    <tr>\n",
       "      <td>t3</td>\n",
       "      <td>neutral</td>\n",
       "      <td>neutral</td>\n",
       "      <td>neutral</td>\n",
       "      <td>neutral</td>\n",
       "      <td>neutral</td>\n",
       "      <td>Climate can change from both natural and anthropogenic causes.</td>\n",
       "    </tr>\n",
       "    <tr>\n",
       "      <td>t4</td>\n",
       "      <td>agrees</td>\n",
       "      <td>agrees</td>\n",
       "      <td>agrees</td>\n",
       "      <td>agrees</td>\n",
       "      <td>agrees</td>\n",
       "      <td>Climate scientists warning about warming can not be trusted because they were proclaiming the dawn of an ice age in the 1970s.</td>\n",
       "    </tr>\n",
       "    <tr>\n",
       "      <td>t5</td>\n",
       "      <td>neutral</td>\n",
       "      <td>agrees</td>\n",
       "      <td>agrees</td>\n",
       "      <td>neutral</td>\n",
       "      <td>neutral</td>\n",
       "      <td>The global warming has become a new religion.</td>\n",
       "    </tr>\n",
       "    <tr>\n",
       "      <td>t6</td>\n",
       "      <td>agrees</td>\n",
       "      <td>agrees</td>\n",
       "      <td>agrees</td>\n",
       "      <td>agrees</td>\n",
       "      <td>agrees</td>\n",
       "      <td>Climate change has been going on since the beginning of time.</td>\n",
       "    </tr>\n",
       "    <tr>\n",
       "      <td>t7</td>\n",
       "      <td>neutral</td>\n",
       "      <td>disagrees</td>\n",
       "      <td>agrees</td>\n",
       "      <td>neutral</td>\n",
       "      <td>disagrees</td>\n",
       "      <td>Climate models are not perfect.</td>\n",
       "    </tr>\n",
       "    <tr>\n",
       "      <td>t8</td>\n",
       "      <td>neutral</td>\n",
       "      <td>disagrees</td>\n",
       "      <td>disagrees</td>\n",
       "      <td>disagrees</td>\n",
       "      <td>disagrees</td>\n",
       "      <td>On the upside, weaning ourselves off of fossil fuels will likely happen at some point, just not tomorrow.</td>\n",
       "    </tr>\n",
       "    <tr>\n",
       "      <td>t9</td>\n",
       "      <td>neutral</td>\n",
       "      <td>agrees</td>\n",
       "      <td>neutral</td>\n",
       "      <td>neutral</td>\n",
       "      <td>neutral</td>\n",
       "      <td>No single episode can either prove or disprove global climate change.</td>\n",
       "    </tr>\n",
       "  </tbody>\n",
       "</table>\n",
       "</div>"
      ],
      "text/plain": [
       "                worker_0   worker_1   worker_2   worker_3   worker_4  \\\n",
       "trial_sent_id                                                          \n",
       "s0             disagrees  disagrees  disagrees  disagrees  disagrees   \n",
       "s1             neutral    neutral    neutral    agrees     agrees      \n",
       "s2             neutral    neutral    neutral    neutral    neutral     \n",
       "s3             agrees     agrees     agrees     agrees     agrees      \n",
       "s4             neutral    neutral    neutral    neutral    neutral     \n",
       "t0             neutral    agrees     neutral    neutral    neutral     \n",
       "t1             agrees     agrees     agrees     agrees     agrees      \n",
       "t10            neutral    agrees     neutral    neutral    neutral     \n",
       "t11            neutral    agrees     neutral    neutral    neutral     \n",
       "t12            neutral    agrees     agrees     neutral    neutral     \n",
       "t13            neutral    neutral    agrees     neutral    agrees      \n",
       "t14            neutral    disagrees  agrees     neutral    agrees      \n",
       "t15            disagrees  disagrees  agrees     neutral    neutral     \n",
       "t16            disagrees  neutral    agrees     neutral    neutral     \n",
       "t17            disagrees  disagrees  disagrees  disagrees  disagrees   \n",
       "t18            disagrees  neutral    neutral    neutral    neutral     \n",
       "t19            disagrees  disagrees  disagrees  disagrees  disagrees   \n",
       "t2             agrees     agrees     neutral    agrees     neutral     \n",
       "t20            neutral    agrees     agrees     neutral    disagrees   \n",
       "t21            neutral    neutral    agrees     neutral    neutral     \n",
       "t22            neutral    disagrees  neutral    neutral    disagrees   \n",
       "t23            neutral    neutral    agrees     neutral    neutral     \n",
       "t24            neutral    neutral    neutral    neutral    neutral     \n",
       "t3             neutral    neutral    neutral    neutral    neutral     \n",
       "t4             agrees     agrees     agrees     agrees     agrees      \n",
       "t5             neutral    agrees     agrees     neutral    neutral     \n",
       "t6             agrees     agrees     agrees     agrees     agrees      \n",
       "t7             neutral    disagrees  agrees     neutral    disagrees   \n",
       "t8             neutral    disagrees  disagrees  disagrees  disagrees   \n",
       "t9             neutral    agrees     neutral    neutral    neutral     \n",
       "\n",
       "                                                                                                                                                                                                                  sentence  \n",
       "trial_sent_id                                                                                                                                                                                                               \n",
       "s0             Global warming is a hoax.                                                                                                                                                                                    \n",
       "s1             Alarming levels of sea level rise are predicted to threaten Florida over the next decades.                                                                                                                   \n",
       "s2             The current president of the US is a republican.                                                                                                                                                             \n",
       "s3             Global warming is happening and it will be dangerous to human health and welfare.                                                                                                                            \n",
       "s4             Some dogs are cute.                                                                                                                                                                                          \n",
       "t0             The term global warming is associated with greater public understanding, emotional engagement, and support for personal and national action than the term climate change.                                    \n",
       "t1             The polar bear is being driven extinct by global warming.                                                                                                                                                    \n",
       "t10            The growing deluge of greenhouse gas emissions continue.                                                                                                                                                     \n",
       "t11            Poorer nations adapt to the impacts of global warming, like sea-level rise or droughts.                                                                                                                      \n",
       "t12            There's no longer any serious doubt that climate change is real, accelerating, and caused by human activities.                                                                                               \n",
       "t13            Measures such as conservation won't cost much and will buy insurance against global warming.                                                                                                                 \n",
       "t14            Human-caused global warming is proceeding rapidly.                                                                                                                                                           \n",
       "t15            Even if the countries followed today's commitments to the letter, they wouldn't succeed in halting climate change.                                                                                           \n",
       "t16            The forecast was based on an expected change in sunspots and ocean temperatures, still better-understood factors than climate change.                                                                        \n",
       "t17            That may be the only meaningful alternative to a politically doomed climate treaty based on specific targets for cutting greenhouse gas emissions.                                                           \n",
       "t18            Natural gas pipelines are crucial to national security.                                                                                                                                                      \n",
       "t19            We cannot act until poor countries act.                                                                                                                                                                      \n",
       "t2             Rather than the earlier prediction of warmer and drier weather here, conditions would get cooler and wetter.                                                                                                 \n",
       "t20            It must decide quickly on how to comply with proposed Environmental Protection Agency rules limiting carbon pollution.                                                                                       \n",
       "t21            Environmental Protection Agency regulations to curb mercury and other pollutants will force its utilities to close coal-fired plants, driving up customer bills and putting the grid's reliability at risk.  \n",
       "t22            About five years ago the environmental groups were supportive of natural gas technology as a cleaner alternative.                                                                                            \n",
       "t23            A transition to cleaner fuels will happen eventually based on natural trends in energy markets, and that forcing a change too rapidly would do more harm than good.                                          \n",
       "t24            Global warming is not a crisis.                                                                                                                                                                              \n",
       "t3             Climate can change from both natural and anthropogenic causes.                                                                                                                                               \n",
       "t4             Climate scientists warning about warming can not be trusted because they were proclaiming the dawn of an ice age in the 1970s.                                                                               \n",
       "t5             The global warming has become a new religion.                                                                                                                                                                \n",
       "t6             Climate change has been going on since the beginning of time.                                                                                                                                                \n",
       "t7             Climate models are not perfect.                                                                                                                                                                              \n",
       "t8             On the upside, weaning ourselves off of fossil fuels will likely happen at some point, just not tomorrow.                                                                                                    \n",
       "t9             No single episode can either prove or disprove global climate change.                                                                                                                                        "
      ]
     },
     "execution_count": 270,
     "metadata": {},
     "output_type": "execute_result"
    }
   ],
   "source": [
    "pd.set_option('display.max_colwidth', -1)\n",
    "all_worker_labels"
   ]
  },
  {
   "cell_type": "code",
   "execution_count": null,
   "metadata": {},
   "outputs": [],
   "source": [
    "# t12, t24, t4, t5, "
   ]
  },
  {
   "cell_type": "markdown",
   "metadata": {},
   "source": [
    "Step 1: Make binarized matrices for each annotator."
   ]
  },
  {
   "cell_type": "code",
   "execution_count": 74,
   "metadata": {},
   "outputs": [],
   "source": [
    "def convert_int(l):\n",
    "    return int(l)"
   ]
  },
  {
   "cell_type": "code",
   "execution_count": 83,
   "metadata": {},
   "outputs": [],
   "source": [
    "worker_matrices = {}"
   ]
  },
  {
   "cell_type": "code",
   "execution_count": 86,
   "metadata": {},
   "outputs": [],
   "source": [
    "for w_id in worker_ids:\n",
    "    label_matrix_w = pd.DataFrame.from_dict({'trial_sent_id':all_worker_labels.index,\n",
    "                                        'agrees':list((all_worker_labels['worker_{}'.format(w_id)] == 'agrees').apply(convert_int)),\n",
    "                                        'disagrees':list((all_worker_labels['worker_{}'.format(w_id)] == 'disagrees').apply(convert_int)),\n",
    "                                        'neutral':list((all_worker_labels['worker_{}'.format(w_id)] == 'neutral').apply(convert_int))})\n",
    "    label_matrix_w = label_matrix_w.set_index('trial_sent_id')\n",
    "    worker_matrices[w_id] = label_matrix_w"
   ]
  },
  {
   "cell_type": "code",
   "execution_count": 90,
   "metadata": {
    "scrolled": true
   },
   "outputs": [
    {
     "data": {
      "text/html": [
       "<div>\n",
       "<style scoped>\n",
       "    .dataframe tbody tr th:only-of-type {\n",
       "        vertical-align: middle;\n",
       "    }\n",
       "\n",
       "    .dataframe tbody tr th {\n",
       "        vertical-align: top;\n",
       "    }\n",
       "\n",
       "    .dataframe thead th {\n",
       "        text-align: right;\n",
       "    }\n",
       "</style>\n",
       "<table border=\"1\" class=\"dataframe\">\n",
       "  <thead>\n",
       "    <tr style=\"text-align: right;\">\n",
       "      <th></th>\n",
       "      <th>agrees</th>\n",
       "      <th>disagrees</th>\n",
       "      <th>neutral</th>\n",
       "    </tr>\n",
       "    <tr>\n",
       "      <th>trial_sent_id</th>\n",
       "      <th></th>\n",
       "      <th></th>\n",
       "      <th></th>\n",
       "    </tr>\n",
       "  </thead>\n",
       "  <tbody>\n",
       "    <tr>\n",
       "      <td>s0</td>\n",
       "      <td>0</td>\n",
       "      <td>1</td>\n",
       "      <td>0</td>\n",
       "    </tr>\n",
       "    <tr>\n",
       "      <td>s1</td>\n",
       "      <td>1</td>\n",
       "      <td>0</td>\n",
       "      <td>0</td>\n",
       "    </tr>\n",
       "    <tr>\n",
       "      <td>s2</td>\n",
       "      <td>0</td>\n",
       "      <td>0</td>\n",
       "      <td>1</td>\n",
       "    </tr>\n",
       "    <tr>\n",
       "      <td>s3</td>\n",
       "      <td>1</td>\n",
       "      <td>0</td>\n",
       "      <td>0</td>\n",
       "    </tr>\n",
       "    <tr>\n",
       "      <td>s4</td>\n",
       "      <td>0</td>\n",
       "      <td>0</td>\n",
       "      <td>1</td>\n",
       "    </tr>\n",
       "    <tr>\n",
       "      <td>t0</td>\n",
       "      <td>0</td>\n",
       "      <td>0</td>\n",
       "      <td>1</td>\n",
       "    </tr>\n",
       "    <tr>\n",
       "      <td>t1</td>\n",
       "      <td>1</td>\n",
       "      <td>0</td>\n",
       "      <td>0</td>\n",
       "    </tr>\n",
       "    <tr>\n",
       "      <td>t10</td>\n",
       "      <td>0</td>\n",
       "      <td>0</td>\n",
       "      <td>1</td>\n",
       "    </tr>\n",
       "    <tr>\n",
       "      <td>t11</td>\n",
       "      <td>0</td>\n",
       "      <td>0</td>\n",
       "      <td>1</td>\n",
       "    </tr>\n",
       "    <tr>\n",
       "      <td>t12</td>\n",
       "      <td>0</td>\n",
       "      <td>0</td>\n",
       "      <td>1</td>\n",
       "    </tr>\n",
       "    <tr>\n",
       "      <td>t13</td>\n",
       "      <td>1</td>\n",
       "      <td>0</td>\n",
       "      <td>0</td>\n",
       "    </tr>\n",
       "    <tr>\n",
       "      <td>t14</td>\n",
       "      <td>1</td>\n",
       "      <td>0</td>\n",
       "      <td>0</td>\n",
       "    </tr>\n",
       "    <tr>\n",
       "      <td>t15</td>\n",
       "      <td>0</td>\n",
       "      <td>0</td>\n",
       "      <td>1</td>\n",
       "    </tr>\n",
       "    <tr>\n",
       "      <td>t16</td>\n",
       "      <td>0</td>\n",
       "      <td>0</td>\n",
       "      <td>1</td>\n",
       "    </tr>\n",
       "    <tr>\n",
       "      <td>t17</td>\n",
       "      <td>0</td>\n",
       "      <td>1</td>\n",
       "      <td>0</td>\n",
       "    </tr>\n",
       "    <tr>\n",
       "      <td>t18</td>\n",
       "      <td>0</td>\n",
       "      <td>0</td>\n",
       "      <td>1</td>\n",
       "    </tr>\n",
       "    <tr>\n",
       "      <td>t19</td>\n",
       "      <td>0</td>\n",
       "      <td>1</td>\n",
       "      <td>0</td>\n",
       "    </tr>\n",
       "    <tr>\n",
       "      <td>t2</td>\n",
       "      <td>0</td>\n",
       "      <td>0</td>\n",
       "      <td>1</td>\n",
       "    </tr>\n",
       "    <tr>\n",
       "      <td>t20</td>\n",
       "      <td>0</td>\n",
       "      <td>1</td>\n",
       "      <td>0</td>\n",
       "    </tr>\n",
       "    <tr>\n",
       "      <td>t21</td>\n",
       "      <td>0</td>\n",
       "      <td>0</td>\n",
       "      <td>1</td>\n",
       "    </tr>\n",
       "    <tr>\n",
       "      <td>t22</td>\n",
       "      <td>0</td>\n",
       "      <td>1</td>\n",
       "      <td>0</td>\n",
       "    </tr>\n",
       "    <tr>\n",
       "      <td>t23</td>\n",
       "      <td>0</td>\n",
       "      <td>0</td>\n",
       "      <td>1</td>\n",
       "    </tr>\n",
       "    <tr>\n",
       "      <td>t24</td>\n",
       "      <td>0</td>\n",
       "      <td>0</td>\n",
       "      <td>1</td>\n",
       "    </tr>\n",
       "    <tr>\n",
       "      <td>t3</td>\n",
       "      <td>0</td>\n",
       "      <td>0</td>\n",
       "      <td>1</td>\n",
       "    </tr>\n",
       "    <tr>\n",
       "      <td>t4</td>\n",
       "      <td>1</td>\n",
       "      <td>0</td>\n",
       "      <td>0</td>\n",
       "    </tr>\n",
       "    <tr>\n",
       "      <td>t5</td>\n",
       "      <td>0</td>\n",
       "      <td>0</td>\n",
       "      <td>1</td>\n",
       "    </tr>\n",
       "    <tr>\n",
       "      <td>t6</td>\n",
       "      <td>1</td>\n",
       "      <td>0</td>\n",
       "      <td>0</td>\n",
       "    </tr>\n",
       "    <tr>\n",
       "      <td>t7</td>\n",
       "      <td>0</td>\n",
       "      <td>1</td>\n",
       "      <td>0</td>\n",
       "    </tr>\n",
       "    <tr>\n",
       "      <td>t8</td>\n",
       "      <td>0</td>\n",
       "      <td>1</td>\n",
       "      <td>0</td>\n",
       "    </tr>\n",
       "    <tr>\n",
       "      <td>t9</td>\n",
       "      <td>0</td>\n",
       "      <td>0</td>\n",
       "      <td>1</td>\n",
       "    </tr>\n",
       "  </tbody>\n",
       "</table>\n",
       "</div>"
      ],
      "text/plain": [
       "               agrees  disagrees  neutral\n",
       "trial_sent_id                            \n",
       "s0                  0          1        0\n",
       "s1                  1          0        0\n",
       "s2                  0          0        1\n",
       "s3                  1          0        0\n",
       "s4                  0          0        1\n",
       "t0                  0          0        1\n",
       "t1                  1          0        0\n",
       "t10                 0          0        1\n",
       "t11                 0          0        1\n",
       "t12                 0          0        1\n",
       "t13                 1          0        0\n",
       "t14                 1          0        0\n",
       "t15                 0          0        1\n",
       "t16                 0          0        1\n",
       "t17                 0          1        0\n",
       "t18                 0          0        1\n",
       "t19                 0          1        0\n",
       "t2                  0          0        1\n",
       "t20                 0          1        0\n",
       "t21                 0          0        1\n",
       "t22                 0          1        0\n",
       "t23                 0          0        1\n",
       "t24                 0          0        1\n",
       "t3                  0          0        1\n",
       "t4                  1          0        0\n",
       "t5                  0          0        1\n",
       "t6                  1          0        0\n",
       "t7                  0          1        0\n",
       "t8                  0          1        0\n",
       "t9                  0          0        1"
      ]
     },
     "execution_count": 90,
     "metadata": {},
     "output_type": "execute_result"
    }
   ],
   "source": [
    "worker_matrices[3]"
   ]
  },
  {
   "cell_type": "markdown",
   "metadata": {},
   "source": [
    "Step 2: Calculate spearman correlation coefficients for each worker's matrix with the other worker matrices:"
   ]
  },
  {
   "cell_type": "code",
   "execution_count": 91,
   "metadata": {},
   "outputs": [],
   "source": [
    "from scipy.stats import spearmanr\n",
    "from scipy.stats import wilcoxon\n",
    "from statsmodels.stats.multitest import multipletests"
   ]
  },
  {
   "cell_type": "code",
   "execution_count": null,
   "metadata": {},
   "outputs": [],
   "source": []
  },
  {
   "cell_type": "code",
   "execution_count": null,
   "metadata": {},
   "outputs": [],
   "source": [
    "# Apply Wilcoxon signed rank test to test significance of each dimension\n",
    "p_vals = np.apply_along_axis(wilcoxon, 0, corr_per_rater)[1]"
   ]
  },
  {
   "cell_type": "code",
   "execution_count": null,
   "metadata": {},
   "outputs": [],
   "source": [
    "# Apply Bonferroni correction\n",
    "reject, corr_pvals, _, newalpha = multipletests(\n",
    "     p_vals, alpha=0.05, method=\"bonferroni\") "
   ]
  },
  {
   "cell_type": "markdown",
   "metadata": {},
   "source": [
    "# 3. Krippendorff's alpha"
   ]
  },
  {
   "cell_type": "code",
   "execution_count": 92,
   "metadata": {
    "code_folding": [
     1,
     3,
     7,
     11,
     15,
     19,
     104
    ]
   },
   "outputs": [
    {
     "name": "stdout",
     "output_type": "stream",
     "text": [
      "Example from http://en.wikipedia.org/wiki/Krippendorff's_Alpha\n",
      "nominal metric: 0.691\n",
      "interval metric: 0.811\n"
     ]
    }
   ],
   "source": [
    "from __future__ import print_function\n",
    "try:\n",
    "    import numpy as np\n",
    "except ImportError:\n",
    "    np = None\n",
    "\n",
    "\n",
    "def nominal_metric(a, b):\n",
    "    return a != b\n",
    "\n",
    "\n",
    "def interval_metric(a, b):\n",
    "    return (a-b)**2\n",
    "\n",
    "\n",
    "def ratio_metric(a, b):\n",
    "    return ((a-b)/(a+b))**2\n",
    "\n",
    "\n",
    "def krippendorff_alpha(data, metric=interval_metric, force_vecmath=False, convert_items=float, missing_items=None):\n",
    "    '''\n",
    "    Calculate Krippendorff's alpha (inter-rater reliability):\n",
    "    \n",
    "    data is in the format\n",
    "    [\n",
    "        {unit1:value, unit2:value, ...},  # coder 1\n",
    "        {unit1:value, unit3:value, ...},   # coder 2\n",
    "        ...                            # more coders\n",
    "    ]\n",
    "    or \n",
    "    it is a sequence of (masked) sequences (list, numpy.array, numpy.ma.array, e.g.) with rows corresponding to coders and columns to items\n",
    "    \n",
    "    metric: function calculating the pairwise distance\n",
    "    force_vecmath: force vector math for custom metrics (numpy required)\n",
    "    convert_items: function for the type conversion of items (default: float)\n",
    "    missing_items: indicator for missing items (default: None)\n",
    "    '''\n",
    "    \n",
    "    # number of coders\n",
    "    m = len(data)\n",
    "    \n",
    "    # set of constants identifying missing values\n",
    "    if missing_items is None:\n",
    "        maskitems = []\n",
    "    else:\n",
    "        maskitems = list(missing_items)\n",
    "    if np is not None:\n",
    "        maskitems.append(np.ma.masked_singleton)\n",
    "    \n",
    "    # convert input data to a dict of items\n",
    "    units = {}\n",
    "    for d in data:\n",
    "        try:\n",
    "            # try if d behaves as a dict\n",
    "            diter = d.items()\n",
    "        except AttributeError:\n",
    "            # sequence assumed for d\n",
    "            diter = enumerate(d)\n",
    "            \n",
    "        for it, g in diter:\n",
    "            if g not in maskitems:\n",
    "                try:\n",
    "                    its = units[it]\n",
    "                except KeyError:\n",
    "                    its = []\n",
    "                    units[it] = its\n",
    "                its.append(convert_items(g))\n",
    "\n",
    "\n",
    "    units = dict((it, d) for it, d in units.items() if len(d) > 1)  # units with pairable values\n",
    "    n = sum(len(pv) for pv in units.values())  # number of pairable values\n",
    "    \n",
    "    if n == 0:\n",
    "        raise ValueError(\"No items to compare.\")\n",
    "    \n",
    "    np_metric = (np is not None) and ((metric in (interval_metric, nominal_metric, ratio_metric)) or force_vecmath)\n",
    "    \n",
    "    Do = 0.\n",
    "    for grades in units.values():\n",
    "        if np_metric:\n",
    "            gr = np.asarray(grades)\n",
    "            Du = sum(np.sum(metric(gr, gri)) for gri in gr)\n",
    "        else:\n",
    "            Du = sum(metric(gi, gj) for gi in grades for gj in grades)\n",
    "        Do += Du/float(len(grades)-1)\n",
    "    Do /= float(n)\n",
    "\n",
    "    if Do == 0:\n",
    "        return 1.\n",
    "\n",
    "    De = 0.\n",
    "    for g1 in units.values():\n",
    "        if np_metric:\n",
    "            d1 = np.asarray(g1)\n",
    "            for g2 in units.values():\n",
    "                De += sum(np.sum(metric(d1, gj)) for gj in g2)\n",
    "        else:\n",
    "            for g2 in units.values():\n",
    "                De += sum(metric(gi, gj) for gi in g1 for gj in g2)\n",
    "    De /= float(n*(n-1))\n",
    "\n",
    "    return 1.-Do/De if (Do and De) else 1.\n",
    "\n",
    "\n",
    "if __name__ == '__main__': \n",
    "    print(\"Example from http://en.wikipedia.org/wiki/Krippendorff's_Alpha\")\n",
    "\n",
    "    data = (\n",
    "        \"*    *    *    *    *    3    4    1    2    1    1    3    3    *    3\", # coder A\n",
    "        \"1    *    2    1    3    3    4    3    *    *    *    *    *    *    *\", # coder B\n",
    "        \"*    *    2    1    3    4    4    *    2    1    1    3    3    *    4\", # coder C\n",
    "    )\n",
    "\n",
    "    missing = '*' # indicator for missing values\n",
    "    array = [d.split() for d in data]  # convert to 2D list of string items\n",
    "    \n",
    "    print(\"nominal metric: %.3f\" % krippendorff_alpha(array, nominal_metric, missing_items=missing))\n",
    "    print(\"interval metric: %.3f\" % krippendorff_alpha(array, interval_metric, missing_items=missing))"
   ]
  },
  {
   "cell_type": "code",
   "execution_count": 95,
   "metadata": {},
   "outputs": [
    {
     "data": {
      "text/plain": [
       "Index(['s0', 's1', 's2', 's3', 's4', 't0', 't1', 't10', 't11', 't12', 't13',\n",
       "       't14', 't15', 't16', 't17', 't18', 't19', 't2', 't20', 't21', 't22',\n",
       "       't23', 't24', 't3', 't4', 't5', 't6', 't7', 't8', 't9'],\n",
       "      dtype='object', name='trial_sent_id')"
      ]
     },
     "execution_count": 95,
     "metadata": {},
     "output_type": "execute_result"
    }
   ],
   "source": [
    "all_worker_labels.index"
   ]
  },
  {
   "cell_type": "code",
   "execution_count": 103,
   "metadata": {},
   "outputs": [],
   "source": [
    "label2int = {'agrees':1,'neutral':0,'disagrees':-1}"
   ]
  },
  {
   "cell_type": "code",
   "execution_count": 273,
   "metadata": {},
   "outputs": [],
   "source": [
    "data_per_coder = []\n",
    "for w_id in worker_ids:\n",
    "    worker_data_dict = {sent_index: label2int[all_worker_labels['worker_{}'.format(w_id)].loc[sent_index]] \n",
    "                        for sent_index in all_worker_labels.index if sent_index[0] == 's'}\n",
    "    data_per_coder.append(worker_data_dict)"
   ]
  },
  {
   "cell_type": "code",
   "execution_count": 274,
   "metadata": {},
   "outputs": [
    {
     "data": {
      "text/plain": [
       "0.8783783783783784"
      ]
     },
     "execution_count": 274,
     "metadata": {},
     "output_type": "execute_result"
    }
   ],
   "source": [
    "# Agreement for screen questions\n",
    "krippendorff_alpha(data_per_coder)"
   ]
  },
  {
   "cell_type": "code",
   "execution_count": 272,
   "metadata": {},
   "outputs": [
    {
     "data": {
      "text/plain": [
       "0.5345920745920746"
      ]
     },
     "execution_count": 272,
     "metadata": {},
     "output_type": "execute_result"
    }
   ],
   "source": [
    "# Agreement for full questions\n",
    "krippendorff_alpha(data_per_coder)"
   ]
  },
  {
   "cell_type": "code",
   "execution_count": 275,
   "metadata": {
    "code_folding": [],
    "scrolled": true
   },
   "outputs": [
    {
     "name": "stdout",
     "output_type": "stream",
     "text": [
      "Alpha b/w worker_0 and worker_1:\t0.5856293895191789\n",
      "(republican, republican)\n",
      "\n",
      "\n",
      "Alpha b/w worker_0 and worker_2:\t0.32429174201326105\n",
      "(republican, democrat)\n",
      "\n",
      "\n",
      "Alpha b/w worker_0 and worker_3:\t0.7656870532168387\n",
      "(republican, democrat)\n",
      "\n",
      "\n",
      "Alpha b/w worker_0 and worker_4:\t0.5670446964643097\n",
      "(republican, independent)\n",
      "\n",
      "\n",
      "Alpha b/w worker_1 and worker_2:\t0.3771593090211133\n",
      "(republican, democrat)\n",
      "\n",
      "\n",
      "Alpha b/w worker_1 and worker_3:\t0.5986394557823129\n",
      "(republican, democrat)\n",
      "\n",
      "\n",
      "Alpha b/w worker_1 and worker_4:\t0.47529644268774707\n",
      "(republican, independent)\n",
      "\n",
      "\n",
      "Alpha b/w worker_2 and worker_3:\t0.5390625\n",
      "(democrat, democrat)\n",
      "\n",
      "\n",
      "Alpha b/w worker_2 and worker_4:\t0.4813186813186814\n",
      "(democrat, independent)\n",
      "\n",
      "\n",
      "Alpha b/w worker_3 and worker_4:\t0.7534818941504178\n",
      "(democrat, independent)\n",
      "\n",
      "\n"
     ]
    }
   ],
   "source": [
    "# Pairwise agreements for full questions\n",
    "for worker_id_a in [0,1,2,3]:\n",
    "    for worker_id_b in range(worker_id_a+1,5):\n",
    "        data_per_coder = []\n",
    "        for w_id in [worker_id_a,worker_id_b]:\n",
    "            worker_data_dict = {sent_index: label2int[all_worker_labels['worker_{}'.format(w_id)].loc[sent_index]] \n",
    "                                for sent_index in all_worker_labels.index}\n",
    "            data_per_coder.append(worker_data_dict)\n",
    "        print(\"Alpha b/w worker_{} and worker_{}:\\t{}\".format(worker_id_a,worker_id_b,\n",
    "                                                              krippendorff_alpha(data_per_coder)))\n",
    "        print('({}, {})'.format(subject_info.iloc[worker_id_a]['party'],\n",
    "                                                               subject_info.iloc[worker_id_b]['party']))\n",
    "        print('\\n')"
   ]
  },
  {
   "cell_type": "code",
   "execution_count": null,
   "metadata": {},
   "outputs": [],
   "source": []
  }
 ],
 "metadata": {
  "kernelspec": {
   "display_name": "Python 3",
   "language": "python",
   "name": "python3"
  },
  "language_info": {
   "codemirror_mode": {
    "name": "ipython",
    "version": 3
   },
   "file_extension": ".py",
   "mimetype": "text/x-python",
   "name": "python",
   "nbconvert_exporter": "python",
   "pygments_lexer": "ipython3",
   "version": "3.7.1"
  }
 },
 "nbformat": 4,
 "nbformat_minor": 2
}
