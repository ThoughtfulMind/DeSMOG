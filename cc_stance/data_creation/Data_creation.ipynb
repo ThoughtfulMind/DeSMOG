{
 "cells": [
  {
   "cell_type": "code",
   "execution_count": 63,
   "metadata": {},
   "outputs": [],
   "source": [
    "import matplotlib.pyplot as plt\n",
    "import pandas as pd\n",
    "import numpy as np\n",
    "import pickle\n",
    "from numpy.random import RandomState\n",
    "from sklearn import metrics\n",
    "from sklearn.utils import shuffle\n",
    "from sklearn.model_selection import train_test_split\n",
    "import os\n",
    "import re\n",
    "pd.set_option('display.max_colwidth', -1)"
   ]
  },
  {
   "cell_type": "code",
   "execution_count": 2,
   "metadata": {},
   "outputs": [
    {
     "data": {
      "text/plain": [
       "'/Users/yiweiluo/scientific-debates/cc_stance/data_creation'"
      ]
     },
     "execution_count": 2,
     "metadata": {},
     "output_type": "execute_result"
    }
   ],
   "source": [
    "os.getcwd()"
   ]
  },
  {
   "cell_type": "code",
   "execution_count": 3,
   "metadata": {},
   "outputs": [],
   "source": [
    "#labeled_data = pd.read_csv('./tweet-stance-prediction/data/labeled_data_df')\n",
    "labeled_data = pd.read_pickle('./data/labeled_data_df.pkl')\n",
    "#{'source':[],'type':[],'text':[],'stance':[]}\n",
    "#unlabeled_data = {'source':[],'type':[],'text':[]}"
   ]
  },
  {
   "cell_type": "code",
   "execution_count": 5,
   "metadata": {},
   "outputs": [
    {
     "data": {
      "text/plain": [
       "(678485, 4)"
      ]
     },
     "execution_count": 5,
     "metadata": {},
     "output_type": "execute_result"
    }
   ],
   "source": [
    "labeled_data.shape"
   ]
  },
  {
   "cell_type": "code",
   "execution_count": 6,
   "metadata": {
    "scrolled": true
   },
   "outputs": [
    {
     "data": {
      "text/plain": [
       "twint_tweet              520886\n",
       "dallas_news_predicted    114686\n",
       "dallas_news              40309 \n",
       "mturk                    2040  \n",
       "semeval_train_tweets     395   \n",
       "semeval_tweets           169   \n",
       "Name: type, dtype: int64"
      ]
     },
     "execution_count": 6,
     "metadata": {},
     "output_type": "execute_result"
    }
   ],
   "source": [
    "labeled_data.type.value_counts()"
   ]
  },
  {
   "cell_type": "code",
   "execution_count": 7,
   "metadata": {
    "scrolled": true
   },
   "outputs": [
    {
     "data": {
      "text/plain": [
       "Index(['source', 'type', 'text', 'stance'], dtype='object')"
      ]
     },
     "execution_count": 7,
     "metadata": {},
     "output_type": "execute_result"
    }
   ],
   "source": [
    "labeled_data.columns"
   ]
  },
  {
   "cell_type": "code",
   "execution_count": 8,
   "metadata": {},
   "outputs": [],
   "source": [
    "labeled_data = labeled_data[['source','type','text','stance']]"
   ]
  },
  {
   "cell_type": "markdown",
   "metadata": {},
   "source": [
    "# Comp clauses w/ +/- 2 sentence window"
   ]
  },
  {
   "cell_type": "code",
   "execution_count": 169,
   "metadata": {},
   "outputs": [],
   "source": [
    "from nltk.tokenize import sent_tokenize"
   ]
  },
  {
   "cell_type": "code",
   "execution_count": 145,
   "metadata": {
    "code_folding": []
   },
   "outputs": [
    {
     "name": "stdout",
     "output_type": "stream",
     "text": [
      "22639\n"
     ]
    }
   ],
   "source": [
    "# Load dataframe \n",
    "all_url_df = pd.read_pickle(\"/Users/yiweiluo/Dropbox/research/QP2/code/Fox_and_friends/\\\n",
    "all_urls_meta_and_fulltext_df_2020.pkl\")\n",
    "all_urls = list(all_url_df['url'])\n",
    "all_urls_set = set(all_urls)\n",
    "print(len(all_urls))"
   ]
  },
  {
   "cell_type": "code",
   "execution_count": 147,
   "metadata": {},
   "outputs": [],
   "source": [
    "cc_df = all_url_df.loc[(all_url_df['topic']=='cc') & (all_url_df['bad NYT']==False)]"
   ]
  },
  {
   "cell_type": "code",
   "execution_count": 347,
   "metadata": {
    "code_folding": [
     1
    ],
    "scrolled": false
   },
   "outputs": [],
   "source": [
    "#cc_sent_tokens_by_url = {}\n",
    "# for ix,url in enumerate(cc_df.url):\n",
    "#     ft = cc_df.loc[cc_df.url == url]['fulltext'].values[0]\n",
    "#     if ft is not None and len(ft) > 0:\n",
    "#         sent_tokens = sent_tokenize(ft)\n",
    "#         cc_sent_tokens_by_url[url] = sent_tokens\n",
    "#     else:\n",
    "#         cc_sent_tokens_by_url[url] = []\n",
    "        \n",
    "#     if ix % 1000 == 0:\n",
    "#         print(ix)"
   ]
  },
  {
   "cell_type": "code",
   "execution_count": 348,
   "metadata": {},
   "outputs": [],
   "source": [
    "#pickle.dump(cc_sent_tokens_by_url,open('tokenized_cc_fulltexts.pkl','wb'))"
   ]
  },
  {
   "cell_type": "code",
   "execution_count": 159,
   "metadata": {},
   "outputs": [],
   "source": [
    "pro_cc_tuples = pickle.load(\n",
    "           open('/Users/yiweiluo/Dropbox/research/QP2/code/Fox_and_friends/\\\n",
    "pro_cc_tuples_verb_subject_iq_filtered.pkl','rb'))\n",
    "anti_cc_tuples = pickle.load(\n",
    "           open('/Users/yiweiluo/Dropbox/research/QP2/code/Fox_and_friends/\\\n",
    "anti_cc_tuples_verb_subject_iq_filtered.pkl','rb'))"
   ]
  },
  {
   "cell_type": "code",
   "execution_count": 225,
   "metadata": {
    "code_folding": [
     0,
     7
    ]
   },
   "outputs": [],
   "source": [
    "def get_url_from_tup(tup):\n",
    "    res = tup[-1]\n",
    "    split_res = res.split(' of ')\n",
    "    url = split_res[-1]\n",
    "    sent_no = split_res[0].split('sent_no_')[-1]\n",
    "    return (url,sent_no)\n",
    "\n",
    "def get_url_from_sent_key(x):\n",
    "    split_res = x.split(' of ')\n",
    "    url = split_res[-1]\n",
    "    sent_no = split_res[0].split('sent_no_')[-1]\n",
    "    return (url,sent_no)"
   ]
  },
  {
   "cell_type": "code",
   "execution_count": 258,
   "metadata": {
    "code_folding": [
     0,
     5
    ]
   },
   "outputs": [],
   "source": [
    "def get_fulltext(tup):\n",
    "    url,sent_no = get_url_from_tup(tup)\n",
    "    fulltext = cc_df.loc[cc_df.url == url]['fulltext'].values[0]\n",
    "    return fulltext\n",
    "\n",
    "def get_fulltext_from_sent_key(x):\n",
    "    url,sent_no = get_url_from_sent_key(x)\n",
    "    ft = cc_df.loc[cc_df.url == url]['fulltext'].values[0]\n",
    "    return ft"
   ]
  },
  {
   "cell_type": "code",
   "execution_count": 318,
   "metadata": {
    "code_folding": [
     0,
     13,
     20
    ]
   },
   "outputs": [],
   "source": [
    "def get_window_from_tup(tup):\n",
    "    url,sent_no = get_url_from_tup(tup)\n",
    "    sent_no = int(sent_no)-1\n",
    "    sent_tokens = cc_sent_tokens_by_url[url]\n",
    "    if len(sent_tokens) > 0:\n",
    "        start = max(sent_no-3,0)\n",
    "        end = min(sent_no+2,len(sent_tokens))\n",
    "        #print('preceding:',sent_tokens[start:sent_no-1])\n",
    "        #print('postceding:',sent_tokens[sent_no:end])\n",
    "        return sent_tokens[start:sent_no-1]+sent_tokens[sent_no:end]\n",
    "    else:\n",
    "        print('Empty article text')\n",
    "        \n",
    "def get_window(round_no,batch_no,sent_id):\n",
    "    sent_tokens = sent_tokenize(get_fulltext_from_sent_key(get_orig_meta(round_no,batch_no,\n",
    "                                                                         sent_id)\\\n",
    "                                                       ['sent_key']))\n",
    "    #print(sent_tokens)\n",
    "    if len(sent_tokens) > 0:\n",
    "        center_sent = mturk_labeled_data.loc[mturk_labeled_data.source == 'round{}_batch{}\\\n",
    "_sentid{}'.format(round_no,batch_no,sent_id)]['text'].values[0]\n",
    "        #print(center_sent)\n",
    "        ix_center_sent = -1\n",
    "        for ix,s in enumerate(sent_tokens):\n",
    "            if center_sent[1:-1] in s:\n",
    "                ix_center_sent = ix\n",
    "                break\n",
    "        #print(ix_center_sent)\n",
    "        if ix_center_sent == -1:\n",
    "            print('Sentence not found!')\n",
    "            return None\n",
    "        else:\n",
    "            #print(sent_tokens[ix_center_sent])\n",
    "            window_start = max(0,ix_center_sent-2)\n",
    "            window_end = min(len(sent_tokens),ix_center_sent+3)\n",
    "            #print('Preceding:',sent_tokens[window_start:ix_center_sent])\n",
    "            #print('Post-ceding:',sent_tokens[ix_center_sent+1:window_end])\n",
    "            return (sent_tokens[window_start:ix_center_sent],\n",
    "                   sent_tokens[ix_center_sent+1:window_end])\n",
    "    else:\n",
    "        print('Empty article text')"
   ]
  },
  {
   "cell_type": "markdown",
   "metadata": {},
   "source": [
    "## Create train data from expanded windows for labeled MTurk"
   ]
  },
  {
   "cell_type": "code",
   "execution_count": 207,
   "metadata": {},
   "outputs": [],
   "source": [
    "mturk_labeled_data = labeled_data[labeled_data.type=='mturk']"
   ]
  },
  {
   "cell_type": "code",
   "execution_count": 210,
   "metadata": {
    "scrolled": true
   },
   "outputs": [],
   "source": [
    "data_for_mturk_df = pd.read_pickle('/Users/yiweiluo/Dropbox/research/QP2/code/Fox_and_friends/\\\n",
    "data_for_mturk_2020.pkl')\n",
    "data_for_mturk_df_old = pd.read_pickle('/Users/yiweiluo/Dropbox/research/QP2/code/Fox_and_friends/\\\n",
    "data_for_mturk.pkl')"
   ]
  },
  {
   "cell_type": "code",
   "execution_count": 216,
   "metadata": {},
   "outputs": [],
   "source": [
    "all_round_data = {r: {} for r in range(1,6)}\n",
    "for round_no in range(1,6):\n",
    "    all_round_data[round_no] = pickle.load(open('/Users/yiweiluo/Dropbox/research/QP2/code/Fox_and_friends/\\\n",
    "LIVE_ROUND{}_BATCH_DATA.pkl'.format(round_no),'rb'))"
   ]
  },
  {
   "cell_type": "code",
   "execution_count": 351,
   "metadata": {
    "code_folding": [
     0,
     8,
     22,
     28
    ]
   },
   "outputs": [],
   "source": [
    "def get_df_index(round_id,batch_id,sent_id):\n",
    "    data = pd.DataFrame(all_round_data[round_id][batch_id])\n",
    "    \n",
    "    #print(data)\n",
    "    row = data.loc[data.sent_id == sent_id]\n",
    "    #print(row)\n",
    "    return row['df_key']\n",
    "\n",
    "def get_orig_meta(round_id,batch_id,sent_id):\n",
    "    df_key = get_df_index(round_id,batch_id,sent_id)\n",
    "    if round_id <= 4:\n",
    "        df = data_for_mturk_df_old\n",
    "    else:\n",
    "        df = data_for_mturk_df\n",
    "    row = df.iloc[df_key]\n",
    "    #print(row['subject'].value)\n",
    "    return {'subj':row['subject'].values[0].lower(),\n",
    "           'neg':row['negation'].values[0],\n",
    "           'verb':row['verb'].values[0].lower(),\n",
    "           'outlet_bias':row['bias'].values[0],\n",
    "           'sent_key':row['sent_key'].values[0]} \n",
    "\n",
    "def get_stance(round_id,batch_id,sent_id):\n",
    "    row = sent_scores.loc[(sent_scores['round']==round_id) & (sent_scores['sent_id'] == sent_id)\n",
    "               & (sent_scores['batch']==batch_id)]\n",
    "    return row['max_prob_label'].values[0]\n",
    "\n",
    "def clean_space(text):\n",
    "    return re.sub('\\s+',' ',text)"
   ]
  },
  {
   "cell_type": "code",
   "execution_count": 309,
   "metadata": {
    "scrolled": false
   },
   "outputs": [
    {
     "data": {
      "text/plain": [
       "(['President Trump has said nothing about it.',\n",
       "  '[The New York Times] • More than 40 governments around the world, including California, have put a price on carbon.'],\n",
       " ['[The New York Times] • The two candidates for governor — Gavin Newsom and John Cox — met for their only scheduled debate.',\n",
       "  'Here’s what we learned.'])"
      ]
     },
     "execution_count": 309,
     "metadata": {},
     "output_type": "execute_result"
    }
   ],
   "source": [
    "get_window(1,0,'t25')"
   ]
  },
  {
   "cell_type": "code",
   "execution_count": 323,
   "metadata": {},
   "outputs": [],
   "source": [
    "# Concatenate preceding window + comp clause + post-ceding window for each train example\n",
    "# train_ex = []\n",
    "# unfound_sents = []\n",
    "# for source in mturk_labeled_data.source:\n",
    "#     fields = source.split('_')\n",
    "#     round_no = int(fields[0].split('round')[-1])\n",
    "#     batch_no = int(fields[1].split('batch')[-1])\n",
    "#     sent_id = fields[2].split('sentid')[-1]\n",
    "#     stance = mturk_labeled_data.loc[mturk_labeled_data.source == source]['stance'].values[0]\n",
    "#     center = mturk_labeled_data.loc[mturk_labeled_data.source == source]['text'].values[0]\n",
    "#     window = get_window(round_no,batch_no,sent_id)\n",
    "#     if window is not None:\n",
    "#         ex = window[0]+[center]+window[1]\n",
    "#         ex = ' '.join(ex)\n",
    "#         print(ex)\n",
    "#         train_ex.append((ex,stance))\n",
    "#     else:\n",
    "#         unfound_sents.append(source)"
   ]
  },
  {
   "cell_type": "code",
   "execution_count": 355,
   "metadata": {},
   "outputs": [],
   "source": [
    "stances = [\"agree\", \"neutral\", \"disagree\"]\n",
    "class_nums = {s: i for i, s in enumerate(stances)}"
   ]
  },
  {
   "cell_type": "code",
   "execution_count": 320,
   "metadata": {},
   "outputs": [
    {
     "data": {
      "text/plain": [
       "773"
      ]
     },
     "execution_count": 320,
     "metadata": {},
     "output_type": "execute_result"
    }
   ],
   "source": [
    "len(unfound_sents)"
   ]
  },
  {
   "cell_type": "code",
   "execution_count": 356,
   "metadata": {},
   "outputs": [
    {
     "data": {
      "text/plain": [
       "(1267, 2)"
      ]
     },
     "execution_count": 356,
     "metadata": {},
     "output_type": "execute_result"
    }
   ],
   "source": [
    "windowed_train_df = pd.DataFrame(train_ex,columns=['text','stance'])\n",
    "windowed_train_df['text'] = windowed_train_df['text'].apply(clean_space)\n",
    "windowed_train_df['stance'] = windowed_train_df['stance'].apply(lambda x: class_nums[x])\n",
    "windowed_train_df.shape"
   ]
  },
  {
   "cell_type": "code",
   "execution_count": 326,
   "metadata": {},
   "outputs": [],
   "source": [
    "# Use unfound sentences for dev and test!"
   ]
  },
  {
   "cell_type": "code",
   "execution_count": 341,
   "metadata": {},
   "outputs": [
    {
     "name": "stdout",
     "output_type": "stream",
     "text": [
      "309 464\n"
     ]
    }
   ],
   "source": [
    "seed1 = 122353453\n",
    "dev_test_sources = unfound_sents\n",
    "dev_sources,test_sources = train_test_split(dev_test_sources,test_size=0.6,\n",
    "                                            random_state=seed1)\n",
    "print(len(dev_sources),len(test_sources))"
   ]
  },
  {
   "cell_type": "code",
   "execution_count": 358,
   "metadata": {},
   "outputs": [
    {
     "name": "stderr",
     "output_type": "stream",
     "text": [
      "/anaconda3/lib/python3.7/site-packages/ipykernel_launcher.py:3: SettingWithCopyWarning: \n",
      "A value is trying to be set on a copy of a slice from a DataFrame.\n",
      "Try using .loc[row_indexer,col_indexer] = value instead\n",
      "\n",
      "See the caveats in the documentation: http://pandas.pydata.org/pandas-docs/stable/user_guide/indexing.html#returning-a-view-versus-a-copy\n",
      "  This is separate from the ipykernel package so we can avoid doing imports until\n",
      "/anaconda3/lib/python3.7/site-packages/ipykernel_launcher.py:4: SettingWithCopyWarning: \n",
      "A value is trying to be set on a copy of a slice from a DataFrame.\n",
      "Try using .loc[row_indexer,col_indexer] = value instead\n",
      "\n",
      "See the caveats in the documentation: http://pandas.pydata.org/pandas-docs/stable/user_guide/indexing.html#returning-a-view-versus-a-copy\n",
      "  after removing the cwd from sys.path.\n"
     ]
    },
    {
     "data": {
      "text/plain": [
       "((309, 4), (464, 4))"
      ]
     },
     "execution_count": 358,
     "metadata": {},
     "output_type": "execute_result"
    }
   ],
   "source": [
    "dev_df = mturk_labeled_data[mturk_labeled_data.source.isin(dev_sources)]\n",
    "test_df = mturk_labeled_data[mturk_labeled_data.source.isin(test_sources)]\n",
    "dev_df['stance'] = dev_df['stance'].apply(lambda x: class_nums[x])\n",
    "test_df['stance'] = test_df['stance'].apply(lambda x: class_nums[x])\n",
    "dev_df.shape,test_df.shape"
   ]
  },
  {
   "cell_type": "code",
   "execution_count": 359,
   "metadata": {},
   "outputs": [],
   "source": [
    "windowed_train_df.to_csv('./scripts/save/mturk_windowed/train.tsv',header=None,index=False,\n",
    "                        sep='\\t')\n",
    "dev_df[['text','stance']].to_csv('./scripts/save/mturk_windowed/dev.tsv',\n",
    "                                header=None,index=False,sep='\\t')\n",
    "test_df[['text','stance']].to_csv('./scripts/save/mturk_windowed/test.tsv',\n",
    "                                header=None,index=False,sep='\\t')"
   ]
  },
  {
   "cell_type": "markdown",
   "metadata": {
    "heading_collapsed": true
   },
   "source": [
    "# Flattened MTurk data"
   ]
  },
  {
   "cell_type": "code",
   "execution_count": 9,
   "metadata": {
    "hidden": true
   },
   "outputs": [],
   "source": [
    "res = pd.read_pickle('../MTurk/MTurk_results/dallas_sent_scores.pkl')"
   ]
  },
  {
   "cell_type": "code",
   "execution_count": 15,
   "metadata": {
    "hidden": true
   },
   "outputs": [],
   "source": [
    "worker_res = pd.read_csv('../MTurk/MTurk_results/worker_scores_df.tsv',sep='\\t',index_col=0)"
   ]
  },
  {
   "cell_type": "code",
   "execution_count": 16,
   "metadata": {
    "hidden": true
   },
   "outputs": [
    {
     "data": {
      "text/html": [
       "<div>\n",
       "<style scoped>\n",
       "    .dataframe tbody tr th:only-of-type {\n",
       "        vertical-align: middle;\n",
       "    }\n",
       "\n",
       "    .dataframe tbody tr th {\n",
       "        vertical-align: top;\n",
       "    }\n",
       "\n",
       "    .dataframe thead th {\n",
       "        text-align: right;\n",
       "    }\n",
       "</style>\n",
       "<table border=\"1\" class=\"dataframe\">\n",
       "  <thead>\n",
       "    <tr style=\"text-align: right;\">\n",
       "      <th></th>\n",
       "      <th>round</th>\n",
       "      <th>batch</th>\n",
       "      <th>worker</th>\n",
       "      <th>mturk_id</th>\n",
       "      <th>disagree</th>\n",
       "      <th>neutral</th>\n",
       "      <th>agree</th>\n",
       "      <th>prop_random</th>\n",
       "    </tr>\n",
       "  </thead>\n",
       "  <tbody>\n",
       "    <tr>\n",
       "      <td>0</td>\n",
       "      <td>1</td>\n",
       "      <td>0</td>\n",
       "      <td>0</td>\n",
       "      <td>A2RVDEU138ZF9P</td>\n",
       "      <td>0.506513</td>\n",
       "      <td>0.345374</td>\n",
       "      <td>0.148113</td>\n",
       "      <td>0.296849</td>\n",
       "    </tr>\n",
       "    <tr>\n",
       "      <td>1</td>\n",
       "      <td>1</td>\n",
       "      <td>0</td>\n",
       "      <td>1</td>\n",
       "      <td>A2JDYN6QM8M5UN</td>\n",
       "      <td>0.298691</td>\n",
       "      <td>0.244103</td>\n",
       "      <td>0.457205</td>\n",
       "      <td>0.315689</td>\n",
       "    </tr>\n",
       "    <tr>\n",
       "      <td>2</td>\n",
       "      <td>1</td>\n",
       "      <td>0</td>\n",
       "      <td>2</td>\n",
       "      <td>A375U716FNSE7K</td>\n",
       "      <td>0.265322</td>\n",
       "      <td>0.450586</td>\n",
       "      <td>0.284092</td>\n",
       "      <td>0.271039</td>\n",
       "    </tr>\n",
       "    <tr>\n",
       "      <td>3</td>\n",
       "      <td>1</td>\n",
       "      <td>0</td>\n",
       "      <td>3</td>\n",
       "      <td>AVBRJBJONL47I</td>\n",
       "      <td>0.216829</td>\n",
       "      <td>0.492412</td>\n",
       "      <td>0.290759</td>\n",
       "      <td>0.324430</td>\n",
       "    </tr>\n",
       "    <tr>\n",
       "      <td>4</td>\n",
       "      <td>1</td>\n",
       "      <td>0</td>\n",
       "      <td>4</td>\n",
       "      <td>AZBH4LJ5SL456</td>\n",
       "      <td>0.215031</td>\n",
       "      <td>0.453613</td>\n",
       "      <td>0.331356</td>\n",
       "      <td>0.241430</td>\n",
       "    </tr>\n",
       "  </tbody>\n",
       "</table>\n",
       "</div>"
      ],
      "text/plain": [
       "   round  batch  worker        mturk_id  disagree   neutral     agree  \\\n",
       "0  1      0      0       A2RVDEU138ZF9P  0.506513  0.345374  0.148113   \n",
       "1  1      0      1       A2JDYN6QM8M5UN  0.298691  0.244103  0.457205   \n",
       "2  1      0      2       A375U716FNSE7K  0.265322  0.450586  0.284092   \n",
       "3  1      0      3       AVBRJBJONL47I   0.216829  0.492412  0.290759   \n",
       "4  1      0      4       AZBH4LJ5SL456   0.215031  0.453613  0.331356   \n",
       "\n",
       "   prop_random  \n",
       "0  0.296849     \n",
       "1  0.315689     \n",
       "2  0.271039     \n",
       "3  0.324430     \n",
       "4  0.241430     "
      ]
     },
     "execution_count": 16,
     "metadata": {},
     "output_type": "execute_result"
    }
   ],
   "source": [
    "worker_res.head()"
   ]
  },
  {
   "cell_type": "code",
   "execution_count": 23,
   "metadata": {
    "hidden": true
   },
   "outputs": [],
   "source": [
    "indices_to_exclude = worker_res.loc[worker_res.prop_random > 0.5]"
   ]
  },
  {
   "cell_type": "code",
   "execution_count": 20,
   "metadata": {
    "hidden": true
   },
   "outputs": [
    {
     "data": {
      "text/plain": [
       "<matplotlib.axes._subplots.AxesSubplot at 0x12ff56eb8>"
      ]
     },
     "execution_count": 20,
     "metadata": {},
     "output_type": "execute_result"
    },
    {
     "data": {
      "image/png": "[encoded data removed]",
      "text/plain": [
       "<Figure size 432x288 with 1 Axes>"
      ]
     },
     "metadata": {
      "needs_background": "light"
     },
     "output_type": "display_data"
    }
   ],
   "source": [
    "worker_res.prop_random.plot.hist()"
   ]
  },
  {
   "cell_type": "code",
   "execution_count": 24,
   "metadata": {
    "hidden": true,
    "scrolled": true
   },
   "outputs": [
    {
     "data": {
      "text/html": [
       "<div>\n",
       "<style scoped>\n",
       "    .dataframe tbody tr th:only-of-type {\n",
       "        vertical-align: middle;\n",
       "    }\n",
       "\n",
       "    .dataframe tbody tr th {\n",
       "        vertical-align: top;\n",
       "    }\n",
       "\n",
       "    .dataframe thead th {\n",
       "        text-align: right;\n",
       "    }\n",
       "</style>\n",
       "<table border=\"1\" class=\"dataframe\">\n",
       "  <thead>\n",
       "    <tr style=\"text-align: right;\">\n",
       "      <th></th>\n",
       "      <th>round</th>\n",
       "      <th>batch</th>\n",
       "      <th>worker</th>\n",
       "      <th>mturk_id</th>\n",
       "      <th>disagree</th>\n",
       "      <th>neutral</th>\n",
       "      <th>agree</th>\n",
       "      <th>prop_random</th>\n",
       "    </tr>\n",
       "  </thead>\n",
       "  <tbody>\n",
       "    <tr>\n",
       "      <td>13</td>\n",
       "      <td>1</td>\n",
       "      <td>1</td>\n",
       "      <td>5</td>\n",
       "      <td>A1P2RQ166VS5BT</td>\n",
       "      <td>0.244265</td>\n",
       "      <td>0.489481</td>\n",
       "      <td>0.266254</td>\n",
       "      <td>0.685695</td>\n",
       "    </tr>\n",
       "    <tr>\n",
       "      <td>19</td>\n",
       "      <td>1</td>\n",
       "      <td>2</td>\n",
       "      <td>3</td>\n",
       "      <td>A2PU5BM2YXFQQS</td>\n",
       "      <td>0.235364</td>\n",
       "      <td>0.309435</td>\n",
       "      <td>0.455201</td>\n",
       "      <td>0.825659</td>\n",
       "    </tr>\n",
       "    <tr>\n",
       "      <td>28</td>\n",
       "      <td>1</td>\n",
       "      <td>3</td>\n",
       "      <td>4</td>\n",
       "      <td>A1VR1XQEQQXYUE</td>\n",
       "      <td>0.153444</td>\n",
       "      <td>0.345825</td>\n",
       "      <td>0.500731</td>\n",
       "      <td>0.620384</td>\n",
       "    </tr>\n",
       "    <tr>\n",
       "      <td>35</td>\n",
       "      <td>1</td>\n",
       "      <td>4</td>\n",
       "      <td>3</td>\n",
       "      <td>A1K3SIFF770RB5</td>\n",
       "      <td>0.346948</td>\n",
       "      <td>0.361438</td>\n",
       "      <td>0.291614</td>\n",
       "      <td>0.889525</td>\n",
       "    </tr>\n",
       "    <tr>\n",
       "      <td>40</td>\n",
       "      <td>1</td>\n",
       "      <td>5</td>\n",
       "      <td>0</td>\n",
       "      <td>A29AKJXQ248KNK</td>\n",
       "      <td>0.260259</td>\n",
       "      <td>0.530716</td>\n",
       "      <td>0.209025</td>\n",
       "      <td>0.519023</td>\n",
       "    </tr>\n",
       "    <tr>\n",
       "      <td>...</td>\n",
       "      <td>...</td>\n",
       "      <td>...</td>\n",
       "      <td>...</td>\n",
       "      <td>...</td>\n",
       "      <td>...</td>\n",
       "      <td>...</td>\n",
       "      <td>...</td>\n",
       "      <td>...</td>\n",
       "    </tr>\n",
       "    <tr>\n",
       "      <td>379</td>\n",
       "      <td>5</td>\n",
       "      <td>7</td>\n",
       "      <td>3</td>\n",
       "      <td>AONRPFWPSEWX6</td>\n",
       "      <td>0.312181</td>\n",
       "      <td>0.191209</td>\n",
       "      <td>0.496610</td>\n",
       "      <td>0.941212</td>\n",
       "    </tr>\n",
       "    <tr>\n",
       "      <td>383</td>\n",
       "      <td>5</td>\n",
       "      <td>7</td>\n",
       "      <td>7</td>\n",
       "      <td>A2XW91EHCZ3T3V</td>\n",
       "      <td>0.236069</td>\n",
       "      <td>0.271547</td>\n",
       "      <td>0.492384</td>\n",
       "      <td>0.744748</td>\n",
       "    </tr>\n",
       "    <tr>\n",
       "      <td>385</td>\n",
       "      <td>5</td>\n",
       "      <td>8</td>\n",
       "      <td>1</td>\n",
       "      <td>A11M5KWP2835VO</td>\n",
       "      <td>0.366913</td>\n",
       "      <td>0.310235</td>\n",
       "      <td>0.322852</td>\n",
       "      <td>0.904175</td>\n",
       "    </tr>\n",
       "    <tr>\n",
       "      <td>386</td>\n",
       "      <td>5</td>\n",
       "      <td>8</td>\n",
       "      <td>2</td>\n",
       "      <td>A2YGOORS5N9RW8</td>\n",
       "      <td>0.151257</td>\n",
       "      <td>0.648289</td>\n",
       "      <td>0.200454</td>\n",
       "      <td>0.526170</td>\n",
       "    </tr>\n",
       "    <tr>\n",
       "      <td>393</td>\n",
       "      <td>5</td>\n",
       "      <td>9</td>\n",
       "      <td>1</td>\n",
       "      <td>A1UZU88V9BMFT7</td>\n",
       "      <td>0.392436</td>\n",
       "      <td>0.233655</td>\n",
       "      <td>0.373909</td>\n",
       "      <td>0.831506</td>\n",
       "    </tr>\n",
       "  </tbody>\n",
       "</table>\n",
       "<p>90 rows × 8 columns</p>\n",
       "</div>"
      ],
      "text/plain": [
       "     round  batch  worker        mturk_id  disagree   neutral     agree  \\\n",
       "13   1      1      5       A1P2RQ166VS5BT  0.244265  0.489481  0.266254   \n",
       "19   1      2      3       A2PU5BM2YXFQQS  0.235364  0.309435  0.455201   \n",
       "28   1      3      4       A1VR1XQEQQXYUE  0.153444  0.345825  0.500731   \n",
       "35   1      4      3       A1K3SIFF770RB5  0.346948  0.361438  0.291614   \n",
       "40   1      5      0       A29AKJXQ248KNK  0.260259  0.530716  0.209025   \n",
       "..  ..     ..     ..                  ...       ...       ...       ...   \n",
       "379  5      7      3       AONRPFWPSEWX6   0.312181  0.191209  0.496610   \n",
       "383  5      7      7       A2XW91EHCZ3T3V  0.236069  0.271547  0.492384   \n",
       "385  5      8      1       A11M5KWP2835VO  0.366913  0.310235  0.322852   \n",
       "386  5      8      2       A2YGOORS5N9RW8  0.151257  0.648289  0.200454   \n",
       "393  5      9      1       A1UZU88V9BMFT7  0.392436  0.233655  0.373909   \n",
       "\n",
       "     prop_random  \n",
       "13   0.685695     \n",
       "19   0.825659     \n",
       "28   0.620384     \n",
       "35   0.889525     \n",
       "40   0.519023     \n",
       "..        ...     \n",
       "379  0.941212     \n",
       "383  0.744748     \n",
       "385  0.904175     \n",
       "386  0.526170     \n",
       "393  0.831506     \n",
       "\n",
       "[90 rows x 8 columns]"
      ]
     },
     "execution_count": 24,
     "metadata": {},
     "output_type": "execute_result"
    }
   ],
   "source": [
    "indices_to_exclude"
   ]
  },
  {
   "cell_type": "code",
   "execution_count": 29,
   "metadata": {
    "hidden": true
   },
   "outputs": [],
   "source": [
    "full_ratings = pd.read_pickle('../MTurk/MTurk_results/full_ratings_per_round.pkl')"
   ]
  },
  {
   "cell_type": "code",
   "execution_count": 114,
   "metadata": {
    "code_folding": [
     1
    ],
    "hidden": true
   },
   "outputs": [],
   "source": [
    "sources,types,texts,stances,MACEs = [],[],[],[],[]\n",
    "for round_no in range(1,6):\n",
    "    for batch_no in range(0,10):\n",
    "        ratings = full_ratings[round_no][batch_no]\n",
    "        # drop labels from low competence workers\n",
    "        ratings = ratings.drop([c for c in ratings.columns[3:] \n",
    "                               if ratings[c]['MACE competence'] < 0.6], axis=1)\n",
    "        for s_id in ratings.index[5:-1]:\n",
    "            row = ratings.loc[s_id]\n",
    "            for col in row.index[3:]:\n",
    "                rating = row[col]\n",
    "                sources.append('round{}_batch{}_sentid{}'.format(round_no,\n",
    "                                                                batch_no,\n",
    "                                                                s_id))\n",
    "                types.append('mturk_flat')\n",
    "                texts.append(row['sentence'])\n",
    "                stances.append(rating)\n",
    "                MACEs.append(row['MACE_pred'])"
   ]
  },
  {
   "cell_type": "code",
   "execution_count": 115,
   "metadata": {
    "hidden": true
   },
   "outputs": [],
   "source": [
    "flat_mturk_df = pd.DataFrame.from_dict({\n",
    "    'source':sources,'type':types,'text':texts,'stance':stances,'MACE_pred':MACEs\n",
    "})"
   ]
  },
  {
   "cell_type": "code",
   "execution_count": 143,
   "metadata": {
    "hidden": true,
    "scrolled": true
   },
   "outputs": [],
   "source": [
    "flat_mturk_df.to_pickle('flat_mturk_df.pkl')"
   ]
  },
  {
   "cell_type": "code",
   "execution_count": null,
   "metadata": {
    "hidden": true
   },
   "outputs": [],
   "source": [
    "# need to divide portion into train, dev+test, stance of dev+test will be collapsed over \n",
    "# same source"
   ]
  },
  {
   "cell_type": "code",
   "execution_count": 60,
   "metadata": {
    "hidden": true
   },
   "outputs": [],
   "source": [
    "#flat_mturk_df = labeled_data[labeled_data.type=='mturk_flat']"
   ]
  },
  {
   "cell_type": "code",
   "execution_count": 117,
   "metadata": {
    "hidden": true
   },
   "outputs": [
    {
     "data": {
      "text/html": [
       "<div>\n",
       "<style scoped>\n",
       "    .dataframe tbody tr th:only-of-type {\n",
       "        vertical-align: middle;\n",
       "    }\n",
       "\n",
       "    .dataframe tbody tr th {\n",
       "        vertical-align: top;\n",
       "    }\n",
       "\n",
       "    .dataframe thead th {\n",
       "        text-align: right;\n",
       "    }\n",
       "</style>\n",
       "<table border=\"1\" class=\"dataframe\">\n",
       "  <thead>\n",
       "    <tr style=\"text-align: right;\">\n",
       "      <th></th>\n",
       "      <th>source</th>\n",
       "      <th>type</th>\n",
       "      <th>text</th>\n",
       "      <th>stance</th>\n",
       "      <th>MACE_pred</th>\n",
       "    </tr>\n",
       "  </thead>\n",
       "  <tbody>\n",
       "    <tr>\n",
       "      <td>0</td>\n",
       "      <td>round1_batch0_sentidt0</td>\n",
       "      <td>mturk_flat</td>\n",
       "      <td>Warmer-than-normal sea surface temperatures are a key player in the development of hurricanes such as Katrina and superstorm Sandy, which hit the U.S. east coast in 2011.</td>\n",
       "      <td>neutral</td>\n",
       "      <td>agrees</td>\n",
       "    </tr>\n",
       "    <tr>\n",
       "      <td>1</td>\n",
       "      <td>round1_batch0_sentidt0</td>\n",
       "      <td>mturk_flat</td>\n",
       "      <td>Warmer-than-normal sea surface temperatures are a key player in the development of hurricanes such as Katrina and superstorm Sandy, which hit the U.S. east coast in 2011.</td>\n",
       "      <td>neutral</td>\n",
       "      <td>agrees</td>\n",
       "    </tr>\n",
       "    <tr>\n",
       "      <td>2</td>\n",
       "      <td>round1_batch0_sentidt0</td>\n",
       "      <td>mturk_flat</td>\n",
       "      <td>Warmer-than-normal sea surface temperatures are a key player in the development of hurricanes such as Katrina and superstorm Sandy, which hit the U.S. east coast in 2011.</td>\n",
       "      <td>neutral</td>\n",
       "      <td>agrees</td>\n",
       "    </tr>\n",
       "    <tr>\n",
       "      <td>3</td>\n",
       "      <td>round1_batch0_sentidt0</td>\n",
       "      <td>mturk_flat</td>\n",
       "      <td>Warmer-than-normal sea surface temperatures are a key player in the development of hurricanes such as Katrina and superstorm Sandy, which hit the U.S. east coast in 2011.</td>\n",
       "      <td>agrees</td>\n",
       "      <td>agrees</td>\n",
       "    </tr>\n",
       "    <tr>\n",
       "      <td>4</td>\n",
       "      <td>round1_batch0_sentidt0</td>\n",
       "      <td>mturk_flat</td>\n",
       "      <td>Warmer-than-normal sea surface temperatures are a key player in the development of hurricanes such as Katrina and superstorm Sandy, which hit the U.S. east coast in 2011.</td>\n",
       "      <td>agrees</td>\n",
       "      <td>agrees</td>\n",
       "    </tr>\n",
       "  </tbody>\n",
       "</table>\n",
       "</div>"
      ],
      "text/plain": [
       "                   source        type  \\\n",
       "0  round1_batch0_sentidt0  mturk_flat   \n",
       "1  round1_batch0_sentidt0  mturk_flat   \n",
       "2  round1_batch0_sentidt0  mturk_flat   \n",
       "3  round1_batch0_sentidt0  mturk_flat   \n",
       "4  round1_batch0_sentidt0  mturk_flat   \n",
       "\n",
       "                                                                                                                                                                         text  \\\n",
       "0  Warmer-than-normal sea surface temperatures are a key player in the development of hurricanes such as Katrina and superstorm Sandy, which hit the U.S. east coast in 2011.   \n",
       "1  Warmer-than-normal sea surface temperatures are a key player in the development of hurricanes such as Katrina and superstorm Sandy, which hit the U.S. east coast in 2011.   \n",
       "2  Warmer-than-normal sea surface temperatures are a key player in the development of hurricanes such as Katrina and superstorm Sandy, which hit the U.S. east coast in 2011.   \n",
       "3  Warmer-than-normal sea surface temperatures are a key player in the development of hurricanes such as Katrina and superstorm Sandy, which hit the U.S. east coast in 2011.   \n",
       "4  Warmer-than-normal sea surface temperatures are a key player in the development of hurricanes such as Katrina and superstorm Sandy, which hit the U.S. east coast in 2011.   \n",
       "\n",
       "    stance MACE_pred  \n",
       "0  neutral  agrees    \n",
       "1  neutral  agrees    \n",
       "2  neutral  agrees    \n",
       "3  agrees   agrees    \n",
       "4  agrees   agrees    "
      ]
     },
     "execution_count": 117,
     "metadata": {},
     "output_type": "execute_result"
    }
   ],
   "source": [
    "flat_mturk_df.head()"
   ]
  },
  {
   "cell_type": "code",
   "execution_count": 118,
   "metadata": {
    "hidden": true
   },
   "outputs": [],
   "source": [
    "flat_mturk_source_groups = flat_mturk_df.groupby('source')"
   ]
  },
  {
   "cell_type": "code",
   "execution_count": 119,
   "metadata": {
    "hidden": true,
    "scrolled": true
   },
   "outputs": [
    {
     "data": {
      "text/html": [
       "<div>\n",
       "<style scoped>\n",
       "    .dataframe tbody tr th:only-of-type {\n",
       "        vertical-align: middle;\n",
       "    }\n",
       "\n",
       "    .dataframe tbody tr th {\n",
       "        vertical-align: top;\n",
       "    }\n",
       "\n",
       "    .dataframe thead th {\n",
       "        text-align: right;\n",
       "    }\n",
       "</style>\n",
       "<table border=\"1\" class=\"dataframe\">\n",
       "  <thead>\n",
       "    <tr style=\"text-align: right;\">\n",
       "      <th></th>\n",
       "      <th>source</th>\n",
       "      <th>type</th>\n",
       "      <th>text</th>\n",
       "      <th>stance</th>\n",
       "      <th>MACE_pred</th>\n",
       "    </tr>\n",
       "  </thead>\n",
       "  <tbody>\n",
       "    <tr>\n",
       "      <td>14</td>\n",
       "      <td>round1_batch0_sentidt10</td>\n",
       "      <td>mturk_flat</td>\n",
       "      <td>The actual rise in sea levels measured only 1.2 millimeters instead of the previously accepted 1.6 to 1.9 millimeters.</td>\n",
       "      <td>neutral</td>\n",
       "      <td>neutral</td>\n",
       "    </tr>\n",
       "    <tr>\n",
       "      <td>15</td>\n",
       "      <td>round1_batch0_sentidt10</td>\n",
       "      <td>mturk_flat</td>\n",
       "      <td>The actual rise in sea levels measured only 1.2 millimeters instead of the previously accepted 1.6 to 1.9 millimeters.</td>\n",
       "      <td>neutral</td>\n",
       "      <td>neutral</td>\n",
       "    </tr>\n",
       "    <tr>\n",
       "      <td>16</td>\n",
       "      <td>round1_batch0_sentidt10</td>\n",
       "      <td>mturk_flat</td>\n",
       "      <td>The actual rise in sea levels measured only 1.2 millimeters instead of the previously accepted 1.6 to 1.9 millimeters.</td>\n",
       "      <td>neutral</td>\n",
       "      <td>neutral</td>\n",
       "    </tr>\n",
       "    <tr>\n",
       "      <td>17</td>\n",
       "      <td>round1_batch0_sentidt10</td>\n",
       "      <td>mturk_flat</td>\n",
       "      <td>The actual rise in sea levels measured only 1.2 millimeters instead of the previously accepted 1.6 to 1.9 millimeters.</td>\n",
       "      <td>neutral</td>\n",
       "      <td>neutral</td>\n",
       "    </tr>\n",
       "    <tr>\n",
       "      <td>18</td>\n",
       "      <td>round1_batch0_sentidt10</td>\n",
       "      <td>mturk_flat</td>\n",
       "      <td>The actual rise in sea levels measured only 1.2 millimeters instead of the previously accepted 1.6 to 1.9 millimeters.</td>\n",
       "      <td>neutral</td>\n",
       "      <td>neutral</td>\n",
       "    </tr>\n",
       "    <tr>\n",
       "      <td>19</td>\n",
       "      <td>round1_batch0_sentidt10</td>\n",
       "      <td>mturk_flat</td>\n",
       "      <td>The actual rise in sea levels measured only 1.2 millimeters instead of the previously accepted 1.6 to 1.9 millimeters.</td>\n",
       "      <td>neutral</td>\n",
       "      <td>neutral</td>\n",
       "    </tr>\n",
       "    <tr>\n",
       "      <td>20</td>\n",
       "      <td>round1_batch0_sentidt10</td>\n",
       "      <td>mturk_flat</td>\n",
       "      <td>The actual rise in sea levels measured only 1.2 millimeters instead of the previously accepted 1.6 to 1.9 millimeters.</td>\n",
       "      <td>neutral</td>\n",
       "      <td>neutral</td>\n",
       "    </tr>\n",
       "  </tbody>\n",
       "</table>\n",
       "</div>"
      ],
      "text/plain": [
       "                     source        type  \\\n",
       "14  round1_batch0_sentidt10  mturk_flat   \n",
       "15  round1_batch0_sentidt10  mturk_flat   \n",
       "16  round1_batch0_sentidt10  mturk_flat   \n",
       "17  round1_batch0_sentidt10  mturk_flat   \n",
       "18  round1_batch0_sentidt10  mturk_flat   \n",
       "19  round1_batch0_sentidt10  mturk_flat   \n",
       "20  round1_batch0_sentidt10  mturk_flat   \n",
       "\n",
       "                                                                                                                      text  \\\n",
       "14  The actual rise in sea levels measured only 1.2 millimeters instead of the previously accepted 1.6 to 1.9 millimeters.   \n",
       "15  The actual rise in sea levels measured only 1.2 millimeters instead of the previously accepted 1.6 to 1.9 millimeters.   \n",
       "16  The actual rise in sea levels measured only 1.2 millimeters instead of the previously accepted 1.6 to 1.9 millimeters.   \n",
       "17  The actual rise in sea levels measured only 1.2 millimeters instead of the previously accepted 1.6 to 1.9 millimeters.   \n",
       "18  The actual rise in sea levels measured only 1.2 millimeters instead of the previously accepted 1.6 to 1.9 millimeters.   \n",
       "19  The actual rise in sea levels measured only 1.2 millimeters instead of the previously accepted 1.6 to 1.9 millimeters.   \n",
       "20  The actual rise in sea levels measured only 1.2 millimeters instead of the previously accepted 1.6 to 1.9 millimeters.   \n",
       "\n",
       "     stance MACE_pred  \n",
       "14  neutral  neutral   \n",
       "15  neutral  neutral   \n",
       "16  neutral  neutral   \n",
       "17  neutral  neutral   \n",
       "18  neutral  neutral   \n",
       "19  neutral  neutral   \n",
       "20  neutral  neutral   "
      ]
     },
     "execution_count": 119,
     "metadata": {},
     "output_type": "execute_result"
    }
   ],
   "source": [
    "flat_mturk_source_groups.get_group('round1_batch0_sentidt10')"
   ]
  },
  {
   "cell_type": "code",
   "execution_count": 120,
   "metadata": {
    "hidden": true
   },
   "outputs": [],
   "source": [
    "seed1 = 3535999445\n",
    "train_sources, dev_test_sources = train_test_split(flat_mturk_source_groups.first().index,\n",
    "                 test_size=0.3, random_state=seed1)"
   ]
  },
  {
   "cell_type": "code",
   "execution_count": 121,
   "metadata": {
    "hidden": true
   },
   "outputs": [
    {
     "data": {
      "text/plain": [
       "(1435, 615)"
      ]
     },
     "execution_count": 121,
     "metadata": {},
     "output_type": "execute_result"
    }
   ],
   "source": [
    "len(train_sources),len(dev_test_sources)"
   ]
  },
  {
   "cell_type": "code",
   "execution_count": 122,
   "metadata": {
    "hidden": true,
    "scrolled": true
   },
   "outputs": [
    {
     "data": {
      "text/plain": [
       "Index(['round3_batch4_sentidt11', 'round1_batch8_sentidt27',\n",
       "       'round5_batch8_sentidt25', 'round2_batch1_sentidt34',\n",
       "       'round2_batch7_sentidt20'],\n",
       "      dtype='object', name='source')"
      ]
     },
     "execution_count": 122,
     "metadata": {},
     "output_type": "execute_result"
    }
   ],
   "source": [
    "train_sources[:5]"
   ]
  },
  {
   "cell_type": "code",
   "execution_count": 123,
   "metadata": {
    "hidden": true
   },
   "outputs": [],
   "source": [
    "dev_sources,test_sources = train_test_split(dev_test_sources,test_size=0.6,random_state=seed1)"
   ]
  },
  {
   "cell_type": "code",
   "execution_count": 124,
   "metadata": {
    "hidden": true
   },
   "outputs": [
    {
     "data": {
      "text/plain": [
       "(246, 369)"
      ]
     },
     "execution_count": 124,
     "metadata": {},
     "output_type": "execute_result"
    }
   ],
   "source": [
    "len(dev_sources),len(test_sources)"
   ]
  },
  {
   "cell_type": "code",
   "execution_count": 125,
   "metadata": {
    "hidden": true,
    "scrolled": true
   },
   "outputs": [],
   "source": [
    "train_df = flat_mturk_df[flat_mturk_df.source.isin(train_sources)]\n",
    "dev_df = flat_mturk_df[flat_mturk_df.source.isin(dev_sources)]\n",
    "test_df = flat_mturk_df[flat_mturk_df.source.isin(test_sources)]"
   ]
  },
  {
   "cell_type": "code",
   "execution_count": 126,
   "metadata": {
    "hidden": true
   },
   "outputs": [
    {
     "data": {
      "text/plain": [
       "[('Warmer-than-normal sea surface temperatures are a key player in the development of hurricanes such as Katrina and superstorm Sandy, which hit the U.S. east coast in 2011.',\n",
       "  'neutral'),\n",
       " ('Warmer-than-normal sea surface temperatures are a key player in the development of hurricanes such as Katrina and superstorm Sandy, which hit the U.S. east coast in 2011.',\n",
       "  'neutral'),\n",
       " ('Warmer-than-normal sea surface temperatures are a key player in the development of hurricanes such as Katrina and superstorm Sandy, which hit the U.S. east coast in 2011.',\n",
       "  'neutral')]"
      ]
     },
     "execution_count": 126,
     "metadata": {},
     "output_type": "execute_result"
    }
   ],
   "source": [
    "train_X = train_df.text.values\n",
    "train_Y = train_df.stance.values\n",
    "list(zip(train_X[:3],train_Y[:3]))"
   ]
  },
  {
   "cell_type": "code",
   "execution_count": 128,
   "metadata": {
    "hidden": true
   },
   "outputs": [],
   "source": [
    "dev_source_groups = dev_df.groupby('source')\n",
    "test_source_groups = test_df.groupby('source')"
   ]
  },
  {
   "cell_type": "code",
   "execution_count": 132,
   "metadata": {
    "hidden": true
   },
   "outputs": [
    {
     "data": {
      "text/plain": [
       "'disagrees'"
      ]
     },
     "execution_count": 132,
     "metadata": {},
     "output_type": "execute_result"
    }
   ],
   "source": [
    "from statistics import *\n",
    "\n",
    "mode(dev_source_groups.get_group('round1_batch0_sentidt27').stance.values)"
   ]
  },
  {
   "cell_type": "code",
   "execution_count": 133,
   "metadata": {
    "hidden": true
   },
   "outputs": [],
   "source": [
    "dev_X,dev_Y = [],[]\n",
    "for source in dev_source_groups.first().index:\n",
    "    group = dev_source_groups.get_group(source)\n",
    "    dev_X.append(group.text.values[0])\n",
    "    try:\n",
    "        dev_Y.append(mode(group.stance.values))\n",
    "    except StatisticsError:\n",
    "        dev_Y.append(group.MACE_pred.values[0])"
   ]
  },
  {
   "cell_type": "code",
   "execution_count": 136,
   "metadata": {
    "hidden": true
   },
   "outputs": [],
   "source": [
    "test_X,test_Y = [],[]\n",
    "for source in test_source_groups.first().index:\n",
    "    group = test_source_groups.get_group(source)\n",
    "    test_X.append(group.text.values[0])\n",
    "    try:\n",
    "        test_Y.append(mode(group.stance.values))\n",
    "    except StatisticsError:\n",
    "        test_Y.append(group.MACE_pred.values[0])"
   ]
  },
  {
   "cell_type": "code",
   "execution_count": 142,
   "metadata": {
    "hidden": true
   },
   "outputs": [
    {
     "data": {
      "text/plain": [
       "Counter({'neutral': 2861, 'agrees': 2332, 'disagrees': 1242})"
      ]
     },
     "execution_count": 142,
     "metadata": {},
     "output_type": "execute_result"
    }
   ],
   "source": [
    "from collections import Counter\n",
    "Counter(train_Y)"
   ]
  },
  {
   "cell_type": "code",
   "execution_count": null,
   "metadata": {
    "hidden": true
   },
   "outputs": [],
   "source": []
  },
  {
   "cell_type": "code",
   "execution_count": 55,
   "metadata": {
    "hidden": true
   },
   "outputs": [],
   "source": [
    "labeled_data = labeled_data.append(flat_mturk_df,ignore_index=True)"
   ]
  },
  {
   "cell_type": "code",
   "execution_count": 56,
   "metadata": {
    "hidden": true
   },
   "outputs": [
    {
     "data": {
      "text/plain": [
       "(687730, 4)"
      ]
     },
     "execution_count": 56,
     "metadata": {},
     "output_type": "execute_result"
    }
   ],
   "source": [
    "labeled_data.shape"
   ]
  },
  {
   "cell_type": "code",
   "execution_count": 57,
   "metadata": {
    "hidden": true
   },
   "outputs": [
    {
     "data": {
      "text/plain": [
       "twint_tweet              520886\n",
       "dallas_news_predicted    114686\n",
       "dallas_news              40309 \n",
       "mturk_flat               9245  \n",
       "mturk                    2040  \n",
       "semeval_train_tweets     395   \n",
       "semeval_tweets           169   \n",
       "Name: type, dtype: int64"
      ]
     },
     "execution_count": 57,
     "metadata": {},
     "output_type": "execute_result"
    }
   ],
   "source": [
    "labeled_data.type.value_counts()"
   ]
  },
  {
   "cell_type": "code",
   "execution_count": 58,
   "metadata": {
    "hidden": true
   },
   "outputs": [
    {
     "data": {
      "text/plain": [
       "'/Users/yiweiluo/scientific-debates/cc_stance/data_creation'"
      ]
     },
     "execution_count": 58,
     "metadata": {},
     "output_type": "execute_result"
    }
   ],
   "source": [
    "os.getcwd()"
   ]
  },
  {
   "cell_type": "code",
   "execution_count": 59,
   "metadata": {
    "hidden": true
   },
   "outputs": [],
   "source": [
    "labeled_data.to_pickle('labeled_data_df_2.pkl')"
   ]
  },
  {
   "cell_type": "markdown",
   "metadata": {
    "heading_collapsed": true
   },
   "source": [
    "# Dallas ELMO predicted labeled news"
   ]
  },
  {
   "cell_type": "code",
   "execution_count": 59,
   "metadata": {
    "hidden": true
   },
   "outputs": [],
   "source": [
    "import json\n",
    "lines = []\n",
    "with open('data/all-predicted-sentences.jsonlist') as f:\n",
    "    for line in f:\n",
    "        lines.append(json.loads(line))"
   ]
  },
  {
   "cell_type": "code",
   "execution_count": 61,
   "metadata": {
    "hidden": true
   },
   "outputs": [
    {
     "data": {
      "text/plain": [
       "114686"
      ]
     },
     "execution_count": 61,
     "metadata": {},
     "output_type": "execute_result"
    }
   ],
   "source": [
    "len(lines)"
   ]
  },
  {
   "cell_type": "code",
   "execution_count": 60,
   "metadata": {
    "hidden": true,
    "scrolled": true
   },
   "outputs": [
    {
     "data": {
      "text/plain": [
       "[{'article_id': 'climate_change1.0-6365',\n",
       "  'sent_index': 0,\n",
       "  'tokens': ['No',\n",
       "   'Accord',\n",
       "   ',',\n",
       "   'and',\n",
       "   'Little',\n",
       "   'Optimism',\n",
       "   ',',\n",
       "   'at',\n",
       "   'Bonn',\n",
       "   'Talks',\n",
       "   'on',\n",
       "   'Global',\n",
       "   'Warming'],\n",
       "  'primary_tone': 'Pro'},\n",
       " {'article_id': 'climate_change1.0-6365',\n",
       "  'sent_index': 1,\n",
       "  'tokens': ['Delegates',\n",
       "   'from',\n",
       "   '143',\n",
       "   'countries',\n",
       "   'ended',\n",
       "   'their',\n",
       "   'preliminary',\n",
       "   'talks',\n",
       "   'on',\n",
       "   'global',\n",
       "   'warming',\n",
       "   'here',\n",
       "   'today',\n",
       "   'with',\n",
       "   'no',\n",
       "   'agreement',\n",
       "   'on',\n",
       "   'key',\n",
       "   'issues',\n",
       "   'and',\n",
       "   'growing',\n",
       "   'concern',\n",
       "   'about',\n",
       "   'the',\n",
       "   'prospect',\n",
       "   'for',\n",
       "   'success',\n",
       "   'at',\n",
       "   'the',\n",
       "   'concluding',\n",
       "   'meeting',\n",
       "   ',',\n",
       "   'to',\n",
       "   'be',\n",
       "   'held',\n",
       "   'in',\n",
       "   'Kyoto',\n",
       "   ',',\n",
       "   'Japan',\n",
       "   ',',\n",
       "   'in',\n",
       "   'early',\n",
       "   'December',\n",
       "   '.'],\n",
       "  'primary_tone': 'Pro'},\n",
       " {'article_id': 'climate_change1.0-6365',\n",
       "  'sent_index': 2,\n",
       "  'tokens': ['The',\n",
       "   'United',\n",
       "   'States',\n",
       "   \"'\",\n",
       "   'long-awaited',\n",
       "   'proposal',\n",
       "   'for',\n",
       "   'cutting',\n",
       "   'emissions',\n",
       "   'of',\n",
       "   'heat-trapping',\n",
       "   'greenhouse',\n",
       "   'gases',\n",
       "   'has',\n",
       "   'been',\n",
       "   'scornfully',\n",
       "   'attacked',\n",
       "   'as',\n",
       "   'too',\n",
       "   'weak',\n",
       "   'by',\n",
       "   'delegates',\n",
       "   'and',\n",
       "   'environmentalists',\n",
       "   'from',\n",
       "   'around',\n",
       "   'the',\n",
       "   'world',\n",
       "   '.'],\n",
       "  'primary_tone': 'Pro'}]"
      ]
     },
     "execution_count": 60,
     "metadata": {},
     "output_type": "execute_result"
    }
   ],
   "source": [
    "lines[:3]"
   ]
  },
  {
   "cell_type": "code",
   "execution_count": 62,
   "metadata": {
    "hidden": true
   },
   "outputs": [
    {
     "data": {
      "text/plain": [
       "Counter({'Pro': 113777, 'Anti': 909})"
      ]
     },
     "execution_count": 62,
     "metadata": {},
     "output_type": "execute_result"
    }
   ],
   "source": [
    "Counter([line['primary_tone'] for line in lines])"
   ]
  },
  {
   "cell_type": "code",
   "execution_count": 64,
   "metadata": {
    "hidden": true,
    "scrolled": true
   },
   "outputs": [
    {
     "data": {
      "text/html": [
       "<div>\n",
       "<style scoped>\n",
       "    .dataframe tbody tr th:only-of-type {\n",
       "        vertical-align: middle;\n",
       "    }\n",
       "\n",
       "    .dataframe tbody tr th {\n",
       "        vertical-align: top;\n",
       "    }\n",
       "\n",
       "    .dataframe thead th {\n",
       "        text-align: right;\n",
       "    }\n",
       "</style>\n",
       "<table border=\"1\" class=\"dataframe\">\n",
       "  <thead>\n",
       "    <tr style=\"text-align: right;\">\n",
       "      <th></th>\n",
       "      <th>source</th>\n",
       "      <th>type</th>\n",
       "      <th>text</th>\n",
       "      <th>stance</th>\n",
       "    </tr>\n",
       "  </thead>\n",
       "  <tbody>\n",
       "    <tr>\n",
       "      <td>0</td>\n",
       "      <td>climate_change1.0-6365 [SEP] 0</td>\n",
       "      <td>dallas_news_predicted</td>\n",
       "      <td>No Accord , and Little Optimism , at Bonn Talks on Global Warmi.</td>\n",
       "      <td>agree</td>\n",
       "    </tr>\n",
       "    <tr>\n",
       "      <td>1</td>\n",
       "      <td>climate_change1.0-6365 [SEP] 1</td>\n",
       "      <td>dallas_news_predicted</td>\n",
       "      <td>Delegates from 143 countries ended their preliminary talks on global warming here today with no agreement on key issues and growing concern about the prospect for success at the concluding meeting , to be held in Kyoto , Japan , in early December.</td>\n",
       "      <td>agree</td>\n",
       "    </tr>\n",
       "    <tr>\n",
       "      <td>2</td>\n",
       "      <td>climate_change1.0-6365 [SEP] 2</td>\n",
       "      <td>dallas_news_predicted</td>\n",
       "      <td>The United States ' long-awaited proposal for cutting emissions of heat-trapping greenhouse gases has been scornfully attacked as too weak by delegates and environmentalists from around the world.</td>\n",
       "      <td>agree</td>\n",
       "    </tr>\n",
       "    <tr>\n",
       "      <td>3</td>\n",
       "      <td>climate_change1.0-6365 [SEP] 3</td>\n",
       "      <td>dallas_news_predicted</td>\n",
       "      <td>And there is no sign that American negotiators are about to yield.</td>\n",
       "      <td>agree</td>\n",
       "    </tr>\n",
       "    <tr>\n",
       "      <td>4</td>\n",
       "      <td>climate_change1.0-6365 [SEP] 4</td>\n",
       "      <td>dallas_news_predicted</td>\n",
       "      <td>Still , the Americans themselves said there was more than a little cause for hope , and they have been lobbying their counterparts here , urging them to take a closer look at the American proposal.</td>\n",
       "      <td>agree</td>\n",
       "    </tr>\n",
       "    <tr>\n",
       "      <td>5</td>\n",
       "      <td>climate_change1.0-6365 [SEP] 5</td>\n",
       "      <td>dallas_news_predicted</td>\n",
       "      <td>Meanwhile , several small-scale but higher-level meetings will be held between now and Dec. 1 , when the Kyoto conference begins.</td>\n",
       "      <td>agree</td>\n",
       "    </tr>\n",
       "    <tr>\n",
       "      <td>6</td>\n",
       "      <td>climate_change1.0-6365 [SEP] 6</td>\n",
       "      <td>dallas_news_predicted</td>\n",
       "      <td>The goal of the conference is to revise the climate treaty negotiated in Rio in 1992 , which set voluntary limits on emissions.</td>\n",
       "      <td>agree</td>\n",
       "    </tr>\n",
       "    <tr>\n",
       "      <td>7</td>\n",
       "      <td>climate_change1.0-6365 [SEP] 7</td>\n",
       "      <td>dallas_news_predicted</td>\n",
       "      <td>`` There are enough ideas out there to have an agreement , '' a senior State Department official said here , speaking on condition of anonymity.</td>\n",
       "      <td>agree</td>\n",
       "    </tr>\n",
       "    <tr>\n",
       "      <td>8</td>\n",
       "      <td>climate_change1.0-6365 [SEP] 8</td>\n",
       "      <td>dallas_news_predicted</td>\n",
       "      <td>`` We just do n't see all the kinds of coalescence that you need yet '' for that to happen.</td>\n",
       "      <td>agree</td>\n",
       "    </tr>\n",
       "    <tr>\n",
       "      <td>9</td>\n",
       "      <td>climate_change1.0-6365 [SEP] 9</td>\n",
       "      <td>dallas_news_predicted</td>\n",
       "      <td>On the surface , the American proposal looks like the weakest on the table.</td>\n",
       "      <td>agree</td>\n",
       "    </tr>\n",
       "  </tbody>\n",
       "</table>\n",
       "</div>"
      ],
      "text/plain": [
       "                           source                   type  \\\n",
       "0  climate_change1.0-6365 [SEP] 0  dallas_news_predicted   \n",
       "1  climate_change1.0-6365 [SEP] 1  dallas_news_predicted   \n",
       "2  climate_change1.0-6365 [SEP] 2  dallas_news_predicted   \n",
       "3  climate_change1.0-6365 [SEP] 3  dallas_news_predicted   \n",
       "4  climate_change1.0-6365 [SEP] 4  dallas_news_predicted   \n",
       "5  climate_change1.0-6365 [SEP] 5  dallas_news_predicted   \n",
       "6  climate_change1.0-6365 [SEP] 6  dallas_news_predicted   \n",
       "7  climate_change1.0-6365 [SEP] 7  dallas_news_predicted   \n",
       "8  climate_change1.0-6365 [SEP] 8  dallas_news_predicted   \n",
       "9  climate_change1.0-6365 [SEP] 9  dallas_news_predicted   \n",
       "\n",
       "                                                                                                                                                                                                                                                      text  \\\n",
       "0  No Accord , and Little Optimism , at Bonn Talks on Global Warmi.                                                                                                                                                                                          \n",
       "1  Delegates from 143 countries ended their preliminary talks on global warming here today with no agreement on key issues and growing concern about the prospect for success at the concluding meeting , to be held in Kyoto , Japan , in early December.   \n",
       "2  The United States ' long-awaited proposal for cutting emissions of heat-trapping greenhouse gases has been scornfully attacked as too weak by delegates and environmentalists from around the world.                                                      \n",
       "3  And there is no sign that American negotiators are about to yield.                                                                                                                                                                                        \n",
       "4  Still , the Americans themselves said there was more than a little cause for hope , and they have been lobbying their counterparts here , urging them to take a closer look at the American proposal.                                                     \n",
       "5  Meanwhile , several small-scale but higher-level meetings will be held between now and Dec. 1 , when the Kyoto conference begins.                                                                                                                         \n",
       "6  The goal of the conference is to revise the climate treaty negotiated in Rio in 1992 , which set voluntary limits on emissions.                                                                                                                           \n",
       "7  `` There are enough ideas out there to have an agreement , '' a senior State Department official said here , speaking on condition of anonymity.                                                                                                          \n",
       "8  `` We just do n't see all the kinds of coalescence that you need yet '' for that to happen.                                                                                                                                                               \n",
       "9  On the surface , the American proposal looks like the weakest on the table.                                                                                                                                                                               \n",
       "\n",
       "  stance  \n",
       "0  agree  \n",
       "1  agree  \n",
       "2  agree  \n",
       "3  agree  \n",
       "4  agree  \n",
       "5  agree  \n",
       "6  agree  \n",
       "7  agree  \n",
       "8  agree  \n",
       "9  agree  "
      ]
     },
     "execution_count": 64,
     "metadata": {},
     "output_type": "execute_result"
    }
   ],
   "source": [
    "labeled_data = {'source':[],'type':[],'text':[],'stance':[]}\n",
    "labeled_data['source'] = [l['article_id'] + ' [SEP] ' + str(l['sent_index']) \n",
    "                          for l in lines]\n",
    "labeled_data['type'] = ['dallas_news_predicted']*len(lines)\n",
    "labeled_data['text'] = [' '.join(l['tokens'])[:-2]+'.' for l in lines]\n",
    "labeled_data['stance'] = [tone2label[l['primary_tone'].lower()] for l in lines]\n",
    "labeled_data_df = pd.DataFrame(labeled_data)\n",
    "labeled_data_df.head(10)"
   ]
  },
  {
   "cell_type": "code",
   "execution_count": 70,
   "metadata": {
    "hidden": true
   },
   "outputs": [
    {
     "data": {
      "text/plain": [
       "(114686, 4)"
      ]
     },
     "execution_count": 70,
     "metadata": {},
     "output_type": "execute_result"
    }
   ],
   "source": [
    "labeled_data_df.shape"
   ]
  },
  {
   "cell_type": "code",
   "execution_count": 71,
   "metadata": {
    "hidden": true
   },
   "outputs": [],
   "source": [
    "labeled_data = labeled_data.append(labeled_data_df, ignore_index = True)\n",
    "labeled_data.to_csv('./tweet-stance-prediction/data/labeled_data_df')"
   ]
  },
  {
   "cell_type": "markdown",
   "metadata": {
    "heading_collapsed": true
   },
   "source": [
    "# Dallas new labeled news"
   ]
  },
  {
   "cell_type": "code",
   "execution_count": 32,
   "metadata": {
    "hidden": true
   },
   "outputs": [],
   "source": [
    "import json\n",
    "lines = []\n",
    "with open('data/all-annotated-sentences.jsonlist') as f:\n",
    "    for line in f:\n",
    "        lines.append(json.loads(line))"
   ]
  },
  {
   "cell_type": "code",
   "execution_count": 33,
   "metadata": {
    "hidden": true
   },
   "outputs": [
    {
     "data": {
      "text/plain": [
       "40790"
      ]
     },
     "execution_count": 33,
     "metadata": {},
     "output_type": "execute_result"
    }
   ],
   "source": [
    "len(lines)"
   ]
  },
  {
   "cell_type": "code",
   "execution_count": 34,
   "metadata": {
    "hidden": true,
    "scrolled": true
   },
   "outputs": [
    {
     "data": {
      "text/plain": [
       "[{'article_id': 'climate_change1.0-12174',\n",
       "  'sent_index': 0,\n",
       "  'tokens': ['It',\n",
       "   \"'s\",\n",
       "   'about',\n",
       "   'seeing',\n",
       "   'the',\n",
       "   'forest',\n",
       "   'and',\n",
       "   'the',\n",
       "   'trees',\n",
       "   'in',\n",
       "   'Calif.',\n",
       "   ';',\n",
       "   'Scientists',\n",
       "   'study',\n",
       "   'global',\n",
       "   'warming',\n",
       "   \"'s\",\n",
       "   'effect',\n",
       "   'on',\n",
       "   'redwoods',\n",
       "   'and',\n",
       "   'sequoias'],\n",
       "  'primary_tone': 'Pro'},\n",
       " {'article_id': 'climate_change1.0-12174',\n",
       "  'sent_index': 1,\n",
       "  'tokens': ['Two',\n",
       "   'of',\n",
       "   'his',\n",
       "   'colleagues',\n",
       "   'dangled',\n",
       "   'on',\n",
       "   'ropes',\n",
       "   '100',\n",
       "   'feet',\n",
       "   'above',\n",
       "   'from',\n",
       "   'the',\n",
       "   'gnarled',\n",
       "   'branches',\n",
       "   'of',\n",
       "   'a',\n",
       "   'giant',\n",
       "   'sequoia',\n",
       "   'tree',\n",
       "   '.'],\n",
       "  'primary_tone': 'Pro'},\n",
       " {'article_id': 'climate_change1.0-12174',\n",
       "  'sent_index': 2,\n",
       "  'tokens': ['Steve',\n",
       "   'Sillett',\n",
       "   'could',\n",
       "   'hardly',\n",
       "   'contain',\n",
       "   'his',\n",
       "   'excitement',\n",
       "   '.'],\n",
       "  'primary_tone': 'Pro'},\n",
       " {'article_id': 'climate_change1.0-12174',\n",
       "  'sent_index': 3,\n",
       "  'tokens': ['``', 'This', 'site', 'is', 'just', 'juicy', '.'],\n",
       "  'primary_tone': 'Pro'},\n",
       " {'article_id': 'climate_change1.0-12174',\n",
       "  'sent_index': 4,\n",
       "  'tokens': ['It',\n",
       "   \"'s\",\n",
       "   'loaded',\n",
       "   ',',\n",
       "   \"''\",\n",
       "   'said',\n",
       "   'Sillett',\n",
       "   ',',\n",
       "   'gazing',\n",
       "   'up',\n",
       "   'at',\n",
       "   'the',\n",
       "   'ancient',\n",
       "   'canopy',\n",
       "   'at',\n",
       "   'Calaveras',\n",
       "   'Big',\n",
       "   'Trees',\n",
       "   'State',\n",
       "   'Park',\n",
       "   '.'],\n",
       "  'primary_tone': 'Pro'}]"
      ]
     },
     "execution_count": 34,
     "metadata": {},
     "output_type": "execute_result"
    }
   ],
   "source": [
    "lines[:5]"
   ]
  },
  {
   "cell_type": "code",
   "execution_count": 35,
   "metadata": {
    "hidden": true
   },
   "outputs": [
    {
     "data": {
      "text/plain": [
       "Counter({'Pro': 30917, 'Neutral': 3685, 'Anti': 6188})"
      ]
     },
     "execution_count": 35,
     "metadata": {},
     "output_type": "execute_result"
    }
   ],
   "source": [
    "Counter([line['primary_tone'] for line in lines])"
   ]
  },
  {
   "cell_type": "code",
   "execution_count": 40,
   "metadata": {
    "hidden": true
   },
   "outputs": [],
   "source": [
    "tone2label = {'pro':'agree','anti':'disagree','neutral':'neutral'}"
   ]
  },
  {
   "cell_type": "code",
   "execution_count": 37,
   "metadata": {
    "hidden": true
   },
   "outputs": [
    {
     "data": {
      "text/plain": [
       "3685"
      ]
     },
     "execution_count": 37,
     "metadata": {},
     "output_type": "execute_result"
    }
   ],
   "source": [
    "neutral_lines = [l for l in lines if l['primary_tone'] == 'Neutral']\n",
    "len(neutral_lines)"
   ]
  },
  {
   "cell_type": "code",
   "execution_count": 41,
   "metadata": {
    "hidden": true,
    "scrolled": true
   },
   "outputs": [
    {
     "data": {
      "text/html": [
       "<div>\n",
       "<style scoped>\n",
       "    .dataframe tbody tr th:only-of-type {\n",
       "        vertical-align: middle;\n",
       "    }\n",
       "\n",
       "    .dataframe tbody tr th {\n",
       "        vertical-align: top;\n",
       "    }\n",
       "\n",
       "    .dataframe thead th {\n",
       "        text-align: right;\n",
       "    }\n",
       "</style>\n",
       "<table border=\"1\" class=\"dataframe\">\n",
       "  <thead>\n",
       "    <tr style=\"text-align: right;\">\n",
       "      <th></th>\n",
       "      <th>source</th>\n",
       "      <th>type</th>\n",
       "      <th>text</th>\n",
       "      <th>stance</th>\n",
       "    </tr>\n",
       "  </thead>\n",
       "  <tbody>\n",
       "    <tr>\n",
       "      <td>0</td>\n",
       "      <td>climate_change1.0-9251 [SEP] 0</td>\n",
       "      <td>dallas_news</td>\n",
       "      <td>From Nuclear Freeze to Global Warming - and Back</td>\n",
       "      <td>neutral</td>\n",
       "    </tr>\n",
       "    <tr>\n",
       "      <td>1</td>\n",
       "      <td>climate_change1.0-9251 [SEP] 1</td>\n",
       "      <td>dallas_news</td>\n",
       "      <td>In June 1982 , up to a million demonstrators gathered in Central Park calling for a nuclear freeze .</td>\n",
       "      <td>neutral</td>\n",
       "    </tr>\n",
       "    <tr>\n",
       "      <td>2</td>\n",
       "      <td>climate_change1.0-9251 [SEP] 2</td>\n",
       "      <td>dallas_news</td>\n",
       "      <td>They were protesting the Reagan-era nuclear arms buildup and other developments they saw , not unreasonably , as a threat to civilization and to life on Earth , including talk by some Reagan aides about fighting and winning a nuclear war .</td>\n",
       "      <td>neutral</td>\n",
       "    </tr>\n",
       "    <tr>\n",
       "      <td>3</td>\n",
       "      <td>climate_change1.0-9251 [SEP] 3</td>\n",
       "      <td>dallas_news</td>\n",
       "      <td>Last Sunday - a generation later - hundreds of thousands of demonstrators took part in the People 's Climate March in Manhattan to protest international inaction on global warming , which they see , not unreasonably , as a threat to civilization and to life on Earth.The front page of The New York Times on Monday brought the two events together , in an unintended though instructive way .</td>\n",
       "      <td>neutral</td>\n",
       "    </tr>\n",
       "    <tr>\n",
       "      <td>4</td>\n",
       "      <td>climate_change1.0-9251 [SEP] 4</td>\n",
       "      <td>dallas_news</td>\n",
       "      <td>The photographs were of the climate marchers .</td>\n",
       "      <td>neutral</td>\n",
       "    </tr>\n",
       "    <tr>\n",
       "      <td>5</td>\n",
       "      <td>climate_change1.0-9251 [SEP] 5</td>\n",
       "      <td>dallas_news</td>\n",
       "      <td>But the lead story was about the current aggressive efforts to rebuild the nation 's nuclear arsenal .</td>\n",
       "      <td>neutral</td>\n",
       "    </tr>\n",
       "    <tr>\n",
       "      <td>6</td>\n",
       "      <td>climate_change1.0-9251 [SEP] 6</td>\n",
       "      <td>dallas_news</td>\n",
       "      <td>The fact that , 32 years after the Central Park gathering , progress on significant arms reductions is going into reverse is something the climate marchers should note .</td>\n",
       "      <td>neutral</td>\n",
       "    </tr>\n",
       "    <tr>\n",
       "      <td>7</td>\n",
       "      <td>climate_change1.0-9251 [SEP] 7</td>\n",
       "      <td>dallas_news</td>\n",
       "      <td>Because , intentionally or not , the climate change movement mirrors the nuclear freeze in many ways .</td>\n",
       "      <td>neutral</td>\n",
       "    </tr>\n",
       "    <tr>\n",
       "      <td>8</td>\n",
       "      <td>climate_change1.0-9251 [SEP] 8</td>\n",
       "      <td>dallas_news</td>\n",
       "      <td>Both are rooted in the idea of a global planetary emergency .</td>\n",
       "      <td>neutral</td>\n",
       "    </tr>\n",
       "    <tr>\n",
       "      <td>9</td>\n",
       "      <td>climate_change1.0-9251 [SEP] 9</td>\n",
       "      <td>dallas_news</td>\n",
       "      <td>Both grew along with scientific evidence that challenges the status quo in politics and industry .</td>\n",
       "      <td>neutral</td>\n",
       "    </tr>\n",
       "  </tbody>\n",
       "</table>\n",
       "</div>"
      ],
      "text/plain": [
       "                           source         type  \\\n",
       "0  climate_change1.0-9251 [SEP] 0  dallas_news   \n",
       "1  climate_change1.0-9251 [SEP] 1  dallas_news   \n",
       "2  climate_change1.0-9251 [SEP] 2  dallas_news   \n",
       "3  climate_change1.0-9251 [SEP] 3  dallas_news   \n",
       "4  climate_change1.0-9251 [SEP] 4  dallas_news   \n",
       "5  climate_change1.0-9251 [SEP] 5  dallas_news   \n",
       "6  climate_change1.0-9251 [SEP] 6  dallas_news   \n",
       "7  climate_change1.0-9251 [SEP] 7  dallas_news   \n",
       "8  climate_change1.0-9251 [SEP] 8  dallas_news   \n",
       "9  climate_change1.0-9251 [SEP] 9  dallas_news   \n",
       "\n",
       "                                                                                                                                                                                                                                                                                                                                                                                                    text  \\\n",
       "0  From Nuclear Freeze to Global Warming - and Back                                                                                                                                                                                                                                                                                                                                                        \n",
       "1  In June 1982 , up to a million demonstrators gathered in Central Park calling for a nuclear freeze .                                                                                                                                                                                                                                                                                                    \n",
       "2  They were protesting the Reagan-era nuclear arms buildup and other developments they saw , not unreasonably , as a threat to civilization and to life on Earth , including talk by some Reagan aides about fighting and winning a nuclear war .                                                                                                                                                         \n",
       "3  Last Sunday - a generation later - hundreds of thousands of demonstrators took part in the People 's Climate March in Manhattan to protest international inaction on global warming , which they see , not unreasonably , as a threat to civilization and to life on Earth.The front page of The New York Times on Monday brought the two events together , in an unintended though instructive way .   \n",
       "4  The photographs were of the climate marchers .                                                                                                                                                                                                                                                                                                                                                          \n",
       "5  But the lead story was about the current aggressive efforts to rebuild the nation 's nuclear arsenal .                                                                                                                                                                                                                                                                                                  \n",
       "6  The fact that , 32 years after the Central Park gathering , progress on significant arms reductions is going into reverse is something the climate marchers should note .                                                                                                                                                                                                                               \n",
       "7  Because , intentionally or not , the climate change movement mirrors the nuclear freeze in many ways .                                                                                                                                                                                                                                                                                                  \n",
       "8  Both are rooted in the idea of a global planetary emergency .                                                                                                                                                                                                                                                                                                                                           \n",
       "9  Both grew along with scientific evidence that challenges the status quo in politics and industry .                                                                                                                                                                                                                                                                                                      \n",
       "\n",
       "    stance  \n",
       "0  neutral  \n",
       "1  neutral  \n",
       "2  neutral  \n",
       "3  neutral  \n",
       "4  neutral  \n",
       "5  neutral  \n",
       "6  neutral  \n",
       "7  neutral  \n",
       "8  neutral  \n",
       "9  neutral  "
      ]
     },
     "execution_count": 41,
     "metadata": {},
     "output_type": "execute_result"
    }
   ],
   "source": [
    "# Add all the neutrals to labeled_data_df\n",
    "labeled_data = {'source':[],'type':[],'text':[],'stance':[]}\n",
    "labeled_data['source'] = [l['article_id'] + ' [SEP] ' + str(l['sent_index']) \n",
    "                          for l in neutral_lines]\n",
    "labeled_data['type'] = ['dallas_news']*len(neutral_lines)\n",
    "labeled_data['text'] = [' '.join(l['tokens']) for l in neutral_lines]\n",
    "labeled_data['stance'] = [tone2label[l['primary_tone'].lower()] for l in neutral_lines]\n",
    "labeled_data_df = pd.DataFrame(labeled_data)\n",
    "labeled_data_df.head(10)"
   ]
  },
  {
   "cell_type": "code",
   "execution_count": 42,
   "metadata": {
    "hidden": true,
    "scrolled": true
   },
   "outputs": [
    {
     "data": {
      "text/plain": [
       "(3685, 4)"
      ]
     },
     "execution_count": 42,
     "metadata": {},
     "output_type": "execute_result"
    }
   ],
   "source": [
    "labeled_data_df.shape"
   ]
  },
  {
   "cell_type": "code",
   "execution_count": 47,
   "metadata": {
    "hidden": true
   },
   "outputs": [
    {
     "data": {
      "text/plain": [
       "(39228, 5)"
      ]
     },
     "execution_count": 47,
     "metadata": {},
     "output_type": "execute_result"
    }
   ],
   "source": [
    "labeled_data.shape"
   ]
  },
  {
   "cell_type": "code",
   "execution_count": 58,
   "metadata": {
    "hidden": true
   },
   "outputs": [
    {
     "data": {
      "text/plain": [
       "42913"
      ]
     },
     "execution_count": 58,
     "metadata": {},
     "output_type": "execute_result"
    }
   ],
   "source": [
    "39228+3685"
   ]
  },
  {
   "cell_type": "code",
   "execution_count": 53,
   "metadata": {
    "hidden": true
   },
   "outputs": [],
   "source": [
    "labeled_data = labeled_data.append(labeled_data_df, ignore_index = True)\n",
    "labeled_data.to_csv('./tweet-stance-prediction/data/labeled_data_df')"
   ]
  },
  {
   "cell_type": "markdown",
   "metadata": {
    "heading_collapsed": true
   },
   "source": [
    "# Dallas labeled news"
   ]
  },
  {
   "cell_type": "code",
   "execution_count": 15,
   "metadata": {
    "hidden": true,
    "scrolled": true
   },
   "outputs": [],
   "source": [
    "import json\n",
    "lines = []\n",
    "with open('data/all.pro-anti.sentences.jsonlist') as f:\n",
    "    for line in f:\n",
    "        lines.append(json.loads(line))"
   ]
  },
  {
   "cell_type": "code",
   "execution_count": 16,
   "metadata": {
    "hidden": true,
    "scrolled": true
   },
   "outputs": [
    {
     "data": {
      "text/plain": [
       "37105"
      ]
     },
     "execution_count": 16,
     "metadata": {},
     "output_type": "execute_result"
    }
   ],
   "source": [
    "len(lines)"
   ]
  },
  {
   "cell_type": "code",
   "execution_count": 22,
   "metadata": {
    "hidden": true,
    "scrolled": true
   },
   "outputs": [
    {
     "data": {
      "text/plain": [
       "[{'article_id': 'climate_change1.0-12174',\n",
       "  'sent_index': 0,\n",
       "  'text': \"It's about seeing the forest and the trees in Calif.; Scientists study global warming's effect on redwoods and sequoias\",\n",
       "  'tokens': ['It',\n",
       "   \"'s\",\n",
       "   'about',\n",
       "   'seeing',\n",
       "   'the',\n",
       "   'forest',\n",
       "   'and',\n",
       "   'the',\n",
       "   'trees',\n",
       "   'in',\n",
       "   'Calif.',\n",
       "   ';',\n",
       "   'Scientists',\n",
       "   'study',\n",
       "   'global',\n",
       "   'warming',\n",
       "   \"'s\",\n",
       "   'effect',\n",
       "   'on',\n",
       "   'redwoods',\n",
       "   'and',\n",
       "   'sequoias'],\n",
       "  'primary_tone': 'Pro'},\n",
       " {'article_id': 'climate_change1.0-12174',\n",
       "  'sent_index': 1,\n",
       "  'text': 'Two of his colleagues dangled on ropes 100 feet above from the gnarled branches of a giant sequoia tree.',\n",
       "  'tokens': ['Two',\n",
       "   'of',\n",
       "   'his',\n",
       "   'colleagues',\n",
       "   'dangled',\n",
       "   'on',\n",
       "   'ropes',\n",
       "   '100',\n",
       "   'feet',\n",
       "   'above',\n",
       "   'from',\n",
       "   'the',\n",
       "   'gnarled',\n",
       "   'branches',\n",
       "   'of',\n",
       "   'a',\n",
       "   'giant',\n",
       "   'sequoia',\n",
       "   'tree',\n",
       "   '.'],\n",
       "  'primary_tone': 'Pro'},\n",
       " {'article_id': 'climate_change1.0-12174',\n",
       "  'sent_index': 2,\n",
       "  'text': 'Steve Sillett could hardly contain his excitement.',\n",
       "  'tokens': ['Steve',\n",
       "   'Sillett',\n",
       "   'could',\n",
       "   'hardly',\n",
       "   'contain',\n",
       "   'his',\n",
       "   'excitement',\n",
       "   '.'],\n",
       "  'primary_tone': 'Pro'},\n",
       " {'article_id': 'climate_change1.0-12174',\n",
       "  'sent_index': 3,\n",
       "  'text': '\"This site is just juicy.',\n",
       "  'tokens': ['``', 'This', 'site', 'is', 'just', 'juicy', '.'],\n",
       "  'primary_tone': 'Pro'},\n",
       " {'article_id': 'climate_change1.0-12174',\n",
       "  'sent_index': 4,\n",
       "  'text': 'It\\'s loaded,\" said Sillett, gazing up at the ancient canopy at Calaveras Big Trees State Park.',\n",
       "  'tokens': ['It',\n",
       "   \"'s\",\n",
       "   'loaded',\n",
       "   ',',\n",
       "   \"''\",\n",
       "   'said',\n",
       "   'Sillett',\n",
       "   ',',\n",
       "   'gazing',\n",
       "   'up',\n",
       "   'at',\n",
       "   'the',\n",
       "   'ancient',\n",
       "   'canopy',\n",
       "   'at',\n",
       "   'Calaveras',\n",
       "   'Big',\n",
       "   'Trees',\n",
       "   'State',\n",
       "   'Park',\n",
       "   '.'],\n",
       "  'primary_tone': 'Pro'}]"
      ]
     },
     "execution_count": 22,
     "metadata": {},
     "output_type": "execute_result"
    }
   ],
   "source": [
    "lines[:5]"
   ]
  },
  {
   "cell_type": "code",
   "execution_count": 38,
   "metadata": {
    "hidden": true
   },
   "outputs": [
    {
     "data": {
      "text/plain": [
       "Counter({'pro': 30917, 'anti': 6188})"
      ]
     },
     "execution_count": 38,
     "metadata": {},
     "output_type": "execute_result"
    }
   ],
   "source": [
    "Counter([l['primary_tone'].lower() for l in lines])"
   ]
  },
  {
   "cell_type": "code",
   "execution_count": 39,
   "metadata": {
    "hidden": true
   },
   "outputs": [],
   "source": [
    "tone2label = {'pro':'agree','anti':'disagree'}"
   ]
  },
  {
   "cell_type": "code",
   "execution_count": 58,
   "metadata": {
    "hidden": true,
    "scrolled": true
   },
   "outputs": [
    {
     "data": {
      "text/html": [
       "<div>\n",
       "<style scoped>\n",
       "    .dataframe tbody tr th:only-of-type {\n",
       "        vertical-align: middle;\n",
       "    }\n",
       "\n",
       "    .dataframe tbody tr th {\n",
       "        vertical-align: top;\n",
       "    }\n",
       "\n",
       "    .dataframe thead th {\n",
       "        text-align: right;\n",
       "    }\n",
       "</style>\n",
       "<table border=\"1\" class=\"dataframe\">\n",
       "  <thead>\n",
       "    <tr style=\"text-align: right;\">\n",
       "      <th></th>\n",
       "      <th>source</th>\n",
       "      <th>type</th>\n",
       "      <th>text</th>\n",
       "      <th>stance</th>\n",
       "    </tr>\n",
       "  </thead>\n",
       "  <tbody>\n",
       "    <tr>\n",
       "      <td>0</td>\n",
       "      <td>climate_change1.0-12174 [SEP] 0</td>\n",
       "      <td>dallas_news</td>\n",
       "      <td>It's about seeing the forest and the trees in ...</td>\n",
       "      <td>agree</td>\n",
       "    </tr>\n",
       "    <tr>\n",
       "      <td>1</td>\n",
       "      <td>climate_change1.0-12174 [SEP] 1</td>\n",
       "      <td>dallas_news</td>\n",
       "      <td>Two of his colleagues dangled on ropes 100 fee...</td>\n",
       "      <td>agree</td>\n",
       "    </tr>\n",
       "    <tr>\n",
       "      <td>2</td>\n",
       "      <td>climate_change1.0-12174 [SEP] 2</td>\n",
       "      <td>dallas_news</td>\n",
       "      <td>Steve Sillett could hardly contain his excitem...</td>\n",
       "      <td>agree</td>\n",
       "    </tr>\n",
       "    <tr>\n",
       "      <td>3</td>\n",
       "      <td>climate_change1.0-12174 [SEP] 3</td>\n",
       "      <td>dallas_news</td>\n",
       "      <td>\"This site is just juicy.</td>\n",
       "      <td>agree</td>\n",
       "    </tr>\n",
       "    <tr>\n",
       "      <td>4</td>\n",
       "      <td>climate_change1.0-12174 [SEP] 4</td>\n",
       "      <td>dallas_news</td>\n",
       "      <td>It's loaded,\" said Sillett, gazing up at the a...</td>\n",
       "      <td>agree</td>\n",
       "    </tr>\n",
       "    <tr>\n",
       "      <td>5</td>\n",
       "      <td>climate_change1.0-12174 [SEP] 5</td>\n",
       "      <td>dallas_news</td>\n",
       "      <td>\"There are amazing lichens up there.</td>\n",
       "      <td>agree</td>\n",
       "    </tr>\n",
       "    <tr>\n",
       "      <td>6</td>\n",
       "      <td>climate_change1.0-12174 [SEP] 6</td>\n",
       "      <td>dallas_news</td>\n",
       "      <td>There are aphids being hunted by ladybugs.</td>\n",
       "      <td>agree</td>\n",
       "    </tr>\n",
       "    <tr>\n",
       "      <td>7</td>\n",
       "      <td>climate_change1.0-12174 [SEP] 7</td>\n",
       "      <td>dallas_news</td>\n",
       "      <td>I found a sizable dogwood tree growing from a ...</td>\n",
       "      <td>agree</td>\n",
       "    </tr>\n",
       "    <tr>\n",
       "      <td>8</td>\n",
       "      <td>climate_change1.0-12174 [SEP] 8</td>\n",
       "      <td>dallas_news</td>\n",
       "      <td>The foggy, lost worlds atop the world's bigges...</td>\n",
       "      <td>agree</td>\n",
       "    </tr>\n",
       "    <tr>\n",
       "      <td>9</td>\n",
       "      <td>climate_change1.0-12174 [SEP] 9</td>\n",
       "      <td>dallas_news</td>\n",
       "      <td>Concerned that rising temperatures across Cali...</td>\n",
       "      <td>agree</td>\n",
       "    </tr>\n",
       "  </tbody>\n",
       "</table>\n",
       "</div>"
      ],
      "text/plain": [
       "                            source         type  \\\n",
       "0  climate_change1.0-12174 [SEP] 0  dallas_news   \n",
       "1  climate_change1.0-12174 [SEP] 1  dallas_news   \n",
       "2  climate_change1.0-12174 [SEP] 2  dallas_news   \n",
       "3  climate_change1.0-12174 [SEP] 3  dallas_news   \n",
       "4  climate_change1.0-12174 [SEP] 4  dallas_news   \n",
       "5  climate_change1.0-12174 [SEP] 5  dallas_news   \n",
       "6  climate_change1.0-12174 [SEP] 6  dallas_news   \n",
       "7  climate_change1.0-12174 [SEP] 7  dallas_news   \n",
       "8  climate_change1.0-12174 [SEP] 8  dallas_news   \n",
       "9  climate_change1.0-12174 [SEP] 9  dallas_news   \n",
       "\n",
       "                                                text stance  \n",
       "0  It's about seeing the forest and the trees in ...  agree  \n",
       "1  Two of his colleagues dangled on ropes 100 fee...  agree  \n",
       "2  Steve Sillett could hardly contain his excitem...  agree  \n",
       "3                          \"This site is just juicy.  agree  \n",
       "4  It's loaded,\" said Sillett, gazing up at the a...  agree  \n",
       "5               \"There are amazing lichens up there.  agree  \n",
       "6         There are aphids being hunted by ladybugs.  agree  \n",
       "7  I found a sizable dogwood tree growing from a ...  agree  \n",
       "8  The foggy, lost worlds atop the world's bigges...  agree  \n",
       "9  Concerned that rising temperatures across Cali...  agree  "
      ]
     },
     "execution_count": 58,
     "metadata": {},
     "output_type": "execute_result"
    }
   ],
   "source": [
    "\n",
    "labeled_data['source'] = [l['article_id'] + ' [SEP] ' + str(l['sent_index']) for l in lines]\n",
    "labeled_data['type'] = ['dallas_news']*len(lines)\n",
    "labeled_data['text'] = [l['text'] for l in lines]\n",
    "labeled_data['stance'] = [tone2label[l['primary_tone'].lower()] for l in lines]\n",
    "labeled_data_df = pd.DataFrame(labeled_data)\n",
    "labeled_data_df.head(10)"
   ]
  },
  {
   "cell_type": "code",
   "execution_count": null,
   "metadata": {
    "hidden": true
   },
   "outputs": [],
   "source": []
  },
  {
   "cell_type": "markdown",
   "metadata": {
    "heading_collapsed": true
   },
   "source": [
    "# Dallas unlabeled news"
   ]
  },
  {
   "cell_type": "code",
   "execution_count": 9,
   "metadata": {
    "hidden": true
   },
   "outputs": [
    {
     "data": {
      "text/plain": [
       "'/Users/yiweiluo/scientific-debates/cc_stance'"
      ]
     },
     "execution_count": 9,
     "metadata": {},
     "output_type": "execute_result"
    }
   ],
   "source": [
    "os.getcwd()"
   ]
  },
  {
   "cell_type": "code",
   "execution_count": 25,
   "metadata": {
    "hidden": true
   },
   "outputs": [],
   "source": [
    "all_sents = []\n",
    "with open('data/all.sentences.jsonlist') as f:\n",
    "    for line in f:\n",
    "        all_sents.append(json.loads(line))"
   ]
  },
  {
   "cell_type": "code",
   "execution_count": 11,
   "metadata": {
    "hidden": true
   },
   "outputs": [
    {
     "data": {
      "text/plain": [
       "126100"
      ]
     },
     "execution_count": 11,
     "metadata": {},
     "output_type": "execute_result"
    }
   ],
   "source": [
    "len(all_sents)"
   ]
  },
  {
   "cell_type": "code",
   "execution_count": 21,
   "metadata": {
    "hidden": true
   },
   "outputs": [
    {
     "data": {
      "text/plain": [
       "0"
      ]
     },
     "execution_count": 21,
     "metadata": {},
     "output_type": "execute_result"
    }
   ],
   "source": [
    "len([line['primary_tone'] for line in all_sents if 'primary_tone' in line])"
   ]
  },
  {
   "cell_type": "code",
   "execution_count": 26,
   "metadata": {
    "hidden": true
   },
   "outputs": [
    {
     "data": {
      "text/plain": [
       "[{'article_id': 'climate_change1.0-6365',\n",
       "  'sent_index': 0,\n",
       "  'text': 'No Accord, and Little Optimism, at Bonn Talks on Global Warming',\n",
       "  'tokens': ['No',\n",
       "   'Accord',\n",
       "   ',',\n",
       "   'and',\n",
       "   'Little',\n",
       "   'Optimism',\n",
       "   ',',\n",
       "   'at',\n",
       "   'Bonn',\n",
       "   'Talks',\n",
       "   'on',\n",
       "   'Global',\n",
       "   'Warming']},\n",
       " {'article_id': 'climate_change1.0-6365',\n",
       "  'sent_index': 1,\n",
       "  'text': 'Delegates from 143 countries ended their preliminary talks on global warming here today with no agreement on key issues and growing concern about the prospect for success at the concluding meeting, to be held in Kyoto, Japan, in early December.',\n",
       "  'tokens': ['Delegates',\n",
       "   'from',\n",
       "   '143',\n",
       "   'countries',\n",
       "   'ended',\n",
       "   'their',\n",
       "   'preliminary',\n",
       "   'talks',\n",
       "   'on',\n",
       "   'global',\n",
       "   'warming',\n",
       "   'here',\n",
       "   'today',\n",
       "   'with',\n",
       "   'no',\n",
       "   'agreement',\n",
       "   'on',\n",
       "   'key',\n",
       "   'issues',\n",
       "   'and',\n",
       "   'growing',\n",
       "   'concern',\n",
       "   'about',\n",
       "   'the',\n",
       "   'prospect',\n",
       "   'for',\n",
       "   'success',\n",
       "   'at',\n",
       "   'the',\n",
       "   'concluding',\n",
       "   'meeting',\n",
       "   ',',\n",
       "   'to',\n",
       "   'be',\n",
       "   'held',\n",
       "   'in',\n",
       "   'Kyoto',\n",
       "   ',',\n",
       "   'Japan',\n",
       "   ',',\n",
       "   'in',\n",
       "   'early',\n",
       "   'December',\n",
       "   '.']},\n",
       " {'article_id': 'climate_change1.0-6365',\n",
       "  'sent_index': 2,\n",
       "  'text': \"The United States' long-awaited proposal for cutting emissions of heat-trapping greenhouse gases has been scornfully attacked as too weak by delegates and environmentalists from around the world.\",\n",
       "  'tokens': ['The',\n",
       "   'United',\n",
       "   'States',\n",
       "   \"'\",\n",
       "   'long-awaited',\n",
       "   'proposal',\n",
       "   'for',\n",
       "   'cutting',\n",
       "   'emissions',\n",
       "   'of',\n",
       "   'heat-trapping',\n",
       "   'greenhouse',\n",
       "   'gases',\n",
       "   'has',\n",
       "   'been',\n",
       "   'scornfully',\n",
       "   'attacked',\n",
       "   'as',\n",
       "   'too',\n",
       "   'weak',\n",
       "   'by',\n",
       "   'delegates',\n",
       "   'and',\n",
       "   'environmentalists',\n",
       "   'from',\n",
       "   'around',\n",
       "   'the',\n",
       "   'world',\n",
       "   '.']},\n",
       " {'article_id': 'climate_change1.0-6365',\n",
       "  'sent_index': 3,\n",
       "  'text': 'And there is no sign that American negotiators are about to yield.',\n",
       "  'tokens': ['And',\n",
       "   'there',\n",
       "   'is',\n",
       "   'no',\n",
       "   'sign',\n",
       "   'that',\n",
       "   'American',\n",
       "   'negotiators',\n",
       "   'are',\n",
       "   'about',\n",
       "   'to',\n",
       "   'yield',\n",
       "   '.']},\n",
       " {'article_id': 'climate_change1.0-6365',\n",
       "  'sent_index': 4,\n",
       "  'text': 'Still, the Americans themselves said there was more than a little cause for hope, and they have been lobbying their counterparts here, urging them to take a closer look at the American proposal.',\n",
       "  'tokens': ['Still',\n",
       "   ',',\n",
       "   'the',\n",
       "   'Americans',\n",
       "   'themselves',\n",
       "   'said',\n",
       "   'there',\n",
       "   'was',\n",
       "   'more',\n",
       "   'than',\n",
       "   'a',\n",
       "   'little',\n",
       "   'cause',\n",
       "   'for',\n",
       "   'hope',\n",
       "   ',',\n",
       "   'and',\n",
       "   'they',\n",
       "   'have',\n",
       "   'been',\n",
       "   'lobbying',\n",
       "   'their',\n",
       "   'counterparts',\n",
       "   'here',\n",
       "   ',',\n",
       "   'urging',\n",
       "   'them',\n",
       "   'to',\n",
       "   'take',\n",
       "   'a',\n",
       "   'closer',\n",
       "   'look',\n",
       "   'at',\n",
       "   'the',\n",
       "   'American',\n",
       "   'proposal',\n",
       "   '.']},\n",
       " {'article_id': 'climate_change1.0-6365',\n",
       "  'sent_index': 5,\n",
       "  'text': 'Meanwhile, several small-scale but higher-level meetings will be held between now and Dec. 1, when the Kyoto conference begins.',\n",
       "  'tokens': ['Meanwhile',\n",
       "   ',',\n",
       "   'several',\n",
       "   'small-scale',\n",
       "   'but',\n",
       "   'higher-level',\n",
       "   'meetings',\n",
       "   'will',\n",
       "   'be',\n",
       "   'held',\n",
       "   'between',\n",
       "   'now',\n",
       "   'and',\n",
       "   'Dec.',\n",
       "   '1',\n",
       "   ',',\n",
       "   'when',\n",
       "   'the',\n",
       "   'Kyoto',\n",
       "   'conference',\n",
       "   'begins',\n",
       "   '.']},\n",
       " {'article_id': 'climate_change1.0-6365',\n",
       "  'sent_index': 6,\n",
       "  'text': 'The goal of the conference is to revise the climate treaty negotiated in Rio in 1992, which set voluntary limits on emissions.',\n",
       "  'tokens': ['The',\n",
       "   'goal',\n",
       "   'of',\n",
       "   'the',\n",
       "   'conference',\n",
       "   'is',\n",
       "   'to',\n",
       "   'revise',\n",
       "   'the',\n",
       "   'climate',\n",
       "   'treaty',\n",
       "   'negotiated',\n",
       "   'in',\n",
       "   'Rio',\n",
       "   'in',\n",
       "   '1992',\n",
       "   ',',\n",
       "   'which',\n",
       "   'set',\n",
       "   'voluntary',\n",
       "   'limits',\n",
       "   'on',\n",
       "   'emissions',\n",
       "   '.']},\n",
       " {'article_id': 'climate_change1.0-6365',\n",
       "  'sent_index': 7,\n",
       "  'text': '\"There are enough ideas out there to have an agreement,\" a senior State Department official said here, speaking on condition of anonymity.',\n",
       "  'tokens': ['``',\n",
       "   'There',\n",
       "   'are',\n",
       "   'enough',\n",
       "   'ideas',\n",
       "   'out',\n",
       "   'there',\n",
       "   'to',\n",
       "   'have',\n",
       "   'an',\n",
       "   'agreement',\n",
       "   ',',\n",
       "   \"''\",\n",
       "   'a',\n",
       "   'senior',\n",
       "   'State',\n",
       "   'Department',\n",
       "   'official',\n",
       "   'said',\n",
       "   'here',\n",
       "   ',',\n",
       "   'speaking',\n",
       "   'on',\n",
       "   'condition',\n",
       "   'of',\n",
       "   'anonymity',\n",
       "   '.']},\n",
       " {'article_id': 'climate_change1.0-6365',\n",
       "  'sent_index': 8,\n",
       "  'text': '\"We just don\\'t see all the kinds of coalescence that you need yet\" for that to happen.',\n",
       "  'tokens': ['``',\n",
       "   'We',\n",
       "   'just',\n",
       "   'do',\n",
       "   \"n't\",\n",
       "   'see',\n",
       "   'all',\n",
       "   'the',\n",
       "   'kinds',\n",
       "   'of',\n",
       "   'coalescence',\n",
       "   'that',\n",
       "   'you',\n",
       "   'need',\n",
       "   'yet',\n",
       "   \"''\",\n",
       "   'for',\n",
       "   'that',\n",
       "   'to',\n",
       "   'happen',\n",
       "   '.']},\n",
       " {'article_id': 'climate_change1.0-6365',\n",
       "  'sent_index': 9,\n",
       "  'text': 'On the surface, the American proposal looks like the weakest on the table.',\n",
       "  'tokens': ['On',\n",
       "   'the',\n",
       "   'surface',\n",
       "   ',',\n",
       "   'the',\n",
       "   'American',\n",
       "   'proposal',\n",
       "   'looks',\n",
       "   'like',\n",
       "   'the',\n",
       "   'weakest',\n",
       "   'on',\n",
       "   'the',\n",
       "   'table',\n",
       "   '.']}]"
      ]
     },
     "execution_count": 26,
     "metadata": {},
     "output_type": "execute_result"
    }
   ],
   "source": [
    "all_sents[:10]"
   ]
  },
  {
   "cell_type": "code",
   "execution_count": null,
   "metadata": {
    "hidden": true
   },
   "outputs": [],
   "source": []
  },
  {
   "cell_type": "code",
   "execution_count": null,
   "metadata": {
    "hidden": true
   },
   "outputs": [],
   "source": []
  },
  {
   "cell_type": "code",
   "execution_count": 20,
   "metadata": {
    "hidden": true
   },
   "outputs": [
    {
     "data": {
      "text/plain": [
       "False"
      ]
     },
     "execution_count": 20,
     "metadata": {},
     "output_type": "execute_result"
    }
   ],
   "source": [
    "'climate_change1.0-6365 [SEP] 0' in labeled_data_df['source']"
   ]
  },
  {
   "cell_type": "code",
   "execution_count": 84,
   "metadata": {
    "hidden": true,
    "scrolled": true
   },
   "outputs": [],
   "source": [
    "#all_sents[1]"
   ]
  },
  {
   "cell_type": "code",
   "execution_count": 178,
   "metadata": {
    "hidden": true
   },
   "outputs": [
    {
     "data": {
      "text/html": [
       "<div>\n",
       "<style scoped>\n",
       "    .dataframe tbody tr th:only-of-type {\n",
       "        vertical-align: middle;\n",
       "    }\n",
       "\n",
       "    .dataframe tbody tr th {\n",
       "        vertical-align: top;\n",
       "    }\n",
       "\n",
       "    .dataframe thead th {\n",
       "        text-align: right;\n",
       "    }\n",
       "</style>\n",
       "<table border=\"1\" class=\"dataframe\">\n",
       "  <thead>\n",
       "    <tr style=\"text-align: right;\">\n",
       "      <th></th>\n",
       "      <th>source</th>\n",
       "      <th>type</th>\n",
       "      <th>text</th>\n",
       "    </tr>\n",
       "  </thead>\n",
       "  <tbody>\n",
       "    <tr>\n",
       "      <td>0</td>\n",
       "      <td>climate_change1.0-6365 [SEP] 0</td>\n",
       "      <td>dallas_news</td>\n",
       "      <td>No Accord, and Little Optimism, at Bonn Talks ...</td>\n",
       "    </tr>\n",
       "    <tr>\n",
       "      <td>1</td>\n",
       "      <td>climate_change1.0-6365 [SEP] 1</td>\n",
       "      <td>dallas_news</td>\n",
       "      <td>Delegates from 143 countries ended their preli...</td>\n",
       "    </tr>\n",
       "    <tr>\n",
       "      <td>2</td>\n",
       "      <td>climate_change1.0-6365 [SEP] 2</td>\n",
       "      <td>dallas_news</td>\n",
       "      <td>The United States' long-awaited proposal for c...</td>\n",
       "    </tr>\n",
       "    <tr>\n",
       "      <td>3</td>\n",
       "      <td>climate_change1.0-6365 [SEP] 3</td>\n",
       "      <td>dallas_news</td>\n",
       "      <td>And there is no sign that American negotiators...</td>\n",
       "    </tr>\n",
       "    <tr>\n",
       "      <td>4</td>\n",
       "      <td>climate_change1.0-6365 [SEP] 4</td>\n",
       "      <td>dallas_news</td>\n",
       "      <td>Still, the Americans themselves said there was...</td>\n",
       "    </tr>\n",
       "    <tr>\n",
       "      <td>5</td>\n",
       "      <td>climate_change1.0-6365 [SEP] 5</td>\n",
       "      <td>dallas_news</td>\n",
       "      <td>Meanwhile, several small-scale but higher-leve...</td>\n",
       "    </tr>\n",
       "    <tr>\n",
       "      <td>6</td>\n",
       "      <td>climate_change1.0-6365 [SEP] 6</td>\n",
       "      <td>dallas_news</td>\n",
       "      <td>The goal of the conference is to revise the cl...</td>\n",
       "    </tr>\n",
       "    <tr>\n",
       "      <td>7</td>\n",
       "      <td>climate_change1.0-6365 [SEP] 7</td>\n",
       "      <td>dallas_news</td>\n",
       "      <td>\"There are enough ideas out there to have an a...</td>\n",
       "    </tr>\n",
       "    <tr>\n",
       "      <td>8</td>\n",
       "      <td>climate_change1.0-6365 [SEP] 8</td>\n",
       "      <td>dallas_news</td>\n",
       "      <td>\"We just don't see all the kinds of coalescenc...</td>\n",
       "    </tr>\n",
       "    <tr>\n",
       "      <td>9</td>\n",
       "      <td>climate_change1.0-6365 [SEP] 9</td>\n",
       "      <td>dallas_news</td>\n",
       "      <td>On the surface, the American proposal looks li...</td>\n",
       "    </tr>\n",
       "  </tbody>\n",
       "</table>\n",
       "</div>"
      ],
      "text/plain": [
       "                           source         type  \\\n",
       "0  climate_change1.0-6365 [SEP] 0  dallas_news   \n",
       "1  climate_change1.0-6365 [SEP] 1  dallas_news   \n",
       "2  climate_change1.0-6365 [SEP] 2  dallas_news   \n",
       "3  climate_change1.0-6365 [SEP] 3  dallas_news   \n",
       "4  climate_change1.0-6365 [SEP] 4  dallas_news   \n",
       "5  climate_change1.0-6365 [SEP] 5  dallas_news   \n",
       "6  climate_change1.0-6365 [SEP] 6  dallas_news   \n",
       "7  climate_change1.0-6365 [SEP] 7  dallas_news   \n",
       "8  climate_change1.0-6365 [SEP] 8  dallas_news   \n",
       "9  climate_change1.0-6365 [SEP] 9  dallas_news   \n",
       "\n",
       "                                                text  \n",
       "0  No Accord, and Little Optimism, at Bonn Talks ...  \n",
       "1  Delegates from 143 countries ended their preli...  \n",
       "2  The United States' long-awaited proposal for c...  \n",
       "3  And there is no sign that American negotiators...  \n",
       "4  Still, the Americans themselves said there was...  \n",
       "5  Meanwhile, several small-scale but higher-leve...  \n",
       "6  The goal of the conference is to revise the cl...  \n",
       "7  \"There are enough ideas out there to have an a...  \n",
       "8  \"We just don't see all the kinds of coalescenc...  \n",
       "9  On the surface, the American proposal looks li...  "
      ]
     },
     "execution_count": 178,
     "metadata": {},
     "output_type": "execute_result"
    }
   ],
   "source": [
    "unlabeled_data['source'] = [l['article_id'] + ' [SEP] ' + str(l['sent_index']) \n",
    "                               for l in all_sents]\n",
    "unlabeled_data['type'] = ['dallas_news']*len(all_sents)\n",
    "unlabeled_data['text'] = [l['text'] for l in all_sents]\n",
    "unlabeled_data_df = pd.DataFrame(unlabeled_data)\n",
    "unlabeled_data_df.head(10)"
   ]
  },
  {
   "cell_type": "markdown",
   "metadata": {
    "heading_collapsed": true
   },
   "source": [
    "# SemEval tweets"
   ]
  },
  {
   "cell_type": "code",
   "execution_count": 4,
   "metadata": {
    "hidden": true
   },
   "outputs": [],
   "source": [
    "targets = []\n",
    "with open(os.getcwd()+'/data/semeval2016-task6-testdata-gold/SemEval2016-Task6-subtaskB-testdata\\\n",
    "-gold.txt') as f:\n",
    "    semeval_b = f.readlines()\n",
    "    for line in semeval_b[1:]:\n",
    "        id_,target,tweet,stance = line.strip().split('\\t')\n",
    "        targets.append(target)"
   ]
  },
  {
   "cell_type": "code",
   "execution_count": 5,
   "metadata": {
    "hidden": true
   },
   "outputs": [
    {
     "data": {
      "text/plain": [
       "Counter({'Donald Trump': 707})"
      ]
     },
     "execution_count": 5,
     "metadata": {},
     "output_type": "execute_result"
    }
   ],
   "source": [
    "from collections import Counter\n",
    "Counter(targets)"
   ]
  },
  {
   "cell_type": "code",
   "execution_count": 6,
   "metadata": {
    "hidden": true
   },
   "outputs": [],
   "source": [
    "semeval_tweets = []\n",
    "with open(os.getcwd()+'/data/semeval2016-task6-testdata-gold/SemEval2016-Task6-subtaskA-testdata\\\n",
    "-gold.txt') as f:\n",
    "    semeval_a = f.readlines()\n",
    "    for line in semeval_a[1:]:\n",
    "        id_,target,tweet,stance = line.strip().split('\\t')\n",
    "        if target == 'Climate Change is a Real Concern':\n",
    "            semeval_tweets.append(line.strip().split('\\t'))"
   ]
  },
  {
   "cell_type": "code",
   "execution_count": 7,
   "metadata": {
    "hidden": true
   },
   "outputs": [
    {
     "data": {
      "text/plain": [
       "169"
      ]
     },
     "execution_count": 7,
     "metadata": {},
     "output_type": "execute_result"
    }
   ],
   "source": [
    "len(semeval_tweets)"
   ]
  },
  {
   "cell_type": "code",
   "execution_count": 8,
   "metadata": {
    "hidden": true,
    "scrolled": true
   },
   "outputs": [
    {
     "data": {
      "text/plain": [
       "Counter({'NONE': 35, 'FAVOR': 123, 'AGAINST': 11})"
      ]
     },
     "execution_count": 8,
     "metadata": {},
     "output_type": "execute_result"
    }
   ],
   "source": [
    "from collections import Counter\n",
    "Counter([x[-1] for x in semeval_tweets])"
   ]
  },
  {
   "cell_type": "code",
   "execution_count": 9,
   "metadata": {
    "hidden": true
   },
   "outputs": [],
   "source": [
    "tweetstance2label = {'NONE':'neutral','FAVOR':'agree','AGAINST':'disagree'}"
   ]
  },
  {
   "cell_type": "code",
   "execution_count": 11,
   "metadata": {
    "hidden": true
   },
   "outputs": [
    {
     "data": {
      "text/html": [
       "<div>\n",
       "<style scoped>\n",
       "    .dataframe tbody tr th:only-of-type {\n",
       "        vertical-align: middle;\n",
       "    }\n",
       "\n",
       "    .dataframe tbody tr th {\n",
       "        vertical-align: top;\n",
       "    }\n",
       "\n",
       "    .dataframe thead th {\n",
       "        text-align: right;\n",
       "    }\n",
       "</style>\n",
       "<table border=\"1\" class=\"dataframe\">\n",
       "  <thead>\n",
       "    <tr style=\"text-align: right;\">\n",
       "      <th></th>\n",
       "      <th>source</th>\n",
       "      <th>type</th>\n",
       "      <th>text</th>\n",
       "      <th>stance</th>\n",
       "    </tr>\n",
       "  </thead>\n",
       "  <tbody>\n",
       "    <tr>\n",
       "      <td>0</td>\n",
       "      <td>10221</td>\n",
       "      <td>semeval_tweets</td>\n",
       "      <td>Closed door session begins. More after they de...</td>\n",
       "      <td>neutral</td>\n",
       "    </tr>\n",
       "    <tr>\n",
       "      <td>1</td>\n",
       "      <td>10222</td>\n",
       "      <td>semeval_tweets</td>\n",
       "      <td>What is the #energiewende agenda? Why are they...</td>\n",
       "      <td>agree</td>\n",
       "    </tr>\n",
       "    <tr>\n",
       "      <td>2</td>\n",
       "      <td>10223</td>\n",
       "      <td>semeval_tweets</td>\n",
       "      <td>@climasphere Stocker: Fish catch potential cou...</td>\n",
       "      <td>agree</td>\n",
       "    </tr>\n",
       "    <tr>\n",
       "      <td>3</td>\n",
       "      <td>10224</td>\n",
       "      <td>semeval_tweets</td>\n",
       "      <td>...a longer memory, and a sterner sense of jus...</td>\n",
       "      <td>neutral</td>\n",
       "    </tr>\n",
       "    <tr>\n",
       "      <td>4</td>\n",
       "      <td>10225</td>\n",
       "      <td>semeval_tweets</td>\n",
       "      <td>Boni \"Future Sea level rise will not be unifor...</td>\n",
       "      <td>agree</td>\n",
       "    </tr>\n",
       "    <tr>\n",
       "      <td>5</td>\n",
       "      <td>10226</td>\n",
       "      <td>semeval_tweets</td>\n",
       "      <td>@climasphere Bony: Extreme weather events (hea...</td>\n",
       "      <td>agree</td>\n",
       "    </tr>\n",
       "    <tr>\n",
       "      <td>6</td>\n",
       "      <td>10227</td>\n",
       "      <td>semeval_tweets</td>\n",
       "      <td>Camille Parmesan: 2/3 of species have changed ...</td>\n",
       "      <td>agree</td>\n",
       "    </tr>\n",
       "    <tr>\n",
       "      <td>7</td>\n",
       "      <td>10228</td>\n",
       "      <td>semeval_tweets</td>\n",
       "      <td>5 meta-analyses show 1/2 of species have chang...</td>\n",
       "      <td>agree</td>\n",
       "    </tr>\n",
       "    <tr>\n",
       "      <td>8</td>\n",
       "      <td>10229</td>\n",
       "      <td>semeval_tweets</td>\n",
       "      <td>It literarly just took me 10 minutes to get in...</td>\n",
       "      <td>neutral</td>\n",
       "    </tr>\n",
       "    <tr>\n",
       "      <td>9</td>\n",
       "      <td>10230</td>\n",
       "      <td>semeval_tweets</td>\n",
       "      <td>Grubb: state of energy: shift US &amp; EU from net...</td>\n",
       "      <td>agree</td>\n",
       "    </tr>\n",
       "  </tbody>\n",
       "</table>\n",
       "</div>"
      ],
      "text/plain": [
       "  source            type                                               text  \\\n",
       "0  10221  semeval_tweets  Closed door session begins. More after they de...   \n",
       "1  10222  semeval_tweets  What is the #energiewende agenda? Why are they...   \n",
       "2  10223  semeval_tweets  @climasphere Stocker: Fish catch potential cou...   \n",
       "3  10224  semeval_tweets  ...a longer memory, and a sterner sense of jus...   \n",
       "4  10225  semeval_tweets  Boni \"Future Sea level rise will not be unifor...   \n",
       "5  10226  semeval_tweets  @climasphere Bony: Extreme weather events (hea...   \n",
       "6  10227  semeval_tweets  Camille Parmesan: 2/3 of species have changed ...   \n",
       "7  10228  semeval_tweets  5 meta-analyses show 1/2 of species have chang...   \n",
       "8  10229  semeval_tweets  It literarly just took me 10 minutes to get in...   \n",
       "9  10230  semeval_tweets  Grubb: state of energy: shift US & EU from net...   \n",
       "\n",
       "    stance  \n",
       "0  neutral  \n",
       "1    agree  \n",
       "2    agree  \n",
       "3  neutral  \n",
       "4    agree  \n",
       "5    agree  \n",
       "6    agree  \n",
       "7    agree  \n",
       "8  neutral  \n",
       "9    agree  "
      ]
     },
     "execution_count": 11,
     "metadata": {},
     "output_type": "execute_result"
    }
   ],
   "source": [
    "labeled_data['source'].extend([l[0] for l in semeval_tweets])\n",
    "labeled_data['type'].extend(['semeval_tweets']*len(semeval_tweets))\n",
    "labeled_data['text'].extend([l[2] for l in semeval_tweets])\n",
    "labeled_data['stance'].extend([tweetstance2label[l[3]] for l in semeval_tweets])\n",
    "labeled_data_df = pd.DataFrame(labeled_data)\n",
    "labeled_data_df.head(10)"
   ]
  },
  {
   "cell_type": "code",
   "execution_count": 12,
   "metadata": {
    "hidden": true
   },
   "outputs": [
    {
     "data": {
      "text/plain": [
       "[['10221',\n",
       "  'Climate Change is a Real Concern',\n",
       "  'Closed door session begins. More after they decide on the entities.  #GCF #SemST',\n",
       "  'NONE'],\n",
       " ['10222',\n",
       "  'Climate Change is a Real Concern',\n",
       "  'What is the #energiewende agenda? Why are they not in the \"de-carbonizer\" camp?.  How long will you tolerate the lies?  #SemST',\n",
       "  'FAVOR'],\n",
       " ['10223',\n",
       "  'Climate Change is a Real Concern',\n",
       "  '@climasphere Stocker: Fish catch potential could drop by as much as 50% in some areas due to #oceanacidification. #CFCC15 #SemST',\n",
       "  'FAVOR'],\n",
       " ['10224',\n",
       "  'Climate Change is a Real Concern',\n",
       "  '...a longer memory, and a sterner sense of justice than we do. -W.Berry #SemST',\n",
       "  'NONE'],\n",
       " ['10225',\n",
       "  'Climate Change is a Real Concern',\n",
       "  'Boni \"Future Sea level rise will not be uniform & different for coasts\" #CCFC15 #Journey2015 #SemST',\n",
       "  'FAVOR'],\n",
       " ['10226',\n",
       "  'Climate Change is a Real Concern',\n",
       "  '@climasphere Bony: Extreme weather events (heat waves, drought, flooding, windstorms) made more frequent/intense by #CFCC15 #SemST',\n",
       "  'FAVOR'],\n",
       " ['10227',\n",
       "  'Climate Change is a Real Concern',\n",
       "  'Camille Parmesan: 2/3 of species have changed #habitat because of #H12 #CFCC15 #SemST',\n",
       "  'FAVOR'],\n",
       " ['10228',\n",
       "  'Climate Change is a Real Concern',\n",
       "  '5 meta-analyses show 1/2 of species have changed where they live, 2/3 have changed when they live. Camille Parmesan #CFCC15 #SemST',\n",
       "  'FAVOR'],\n",
       " ['10229',\n",
       "  'Climate Change is a Real Concern',\n",
       "  'It literarly just took me 10 minutes to get in a bus because an old lady just had to go in front of everyone... #SemST',\n",
       "  'NONE'],\n",
       " ['10230',\n",
       "  'Climate Change is a Real Concern',\n",
       "  'Grubb: state of energy: shift US & EU from net-producer to net-importer of emissions\" #CCFC15 #journey2015 #SemST',\n",
       "  'FAVOR'],\n",
       " ['10231',\n",
       "  'Climate Change is a Real Concern',\n",
       "  'Interesting speaker Maarten Van Aalst @Federation how their humanitarian experience can help Climate scientists #CCFC15 #SemST',\n",
       "  'FAVOR'],\n",
       " ['10232',\n",
       "  'Climate Change is a Real Concern',\n",
       "  'putting my neck out as such when I did not have to be here at all? Regards Dion #peace #GMS #Democracy #Transparency #Future! #SemST',\n",
       "  'NONE'],\n",
       " ['10233',\n",
       "  'Climate Change is a Real Concern',\n",
       "  'grow food not lawns  Lawns are Ecocide in your yard. #Patriarchy is Ecocide of your own species #DominoEffect #SemST',\n",
       "  'FAVOR'],\n",
       " ['10234',\n",
       "  'Climate Change is a Real Concern',\n",
       "  'This halcyon summer is over. Climate is on the move. Doug Kelbaugh #CNU23 #declarationsignee #SemST',\n",
       "  'FAVOR'],\n",
       " ['10235',\n",
       "  'Climate Change is a Real Concern',\n",
       "  '@soundofideas we Have to talk about new normals #SemST',\n",
       "  'NONE'],\n",
       " ['10236',\n",
       "  'Climate Change is a Real Concern',\n",
       "  'Citizens have a right to access information that would protect their lives against #risk #CLIMWARN #CFCC15 #vulnerability #SemST',\n",
       "  'FAVOR'],\n",
       " ['10237',\n",
       "  'Climate Change is a Real Concern',\n",
       "  \"That moment when Canadians realised global warming doesn't equal a tropical vacation #BCwildfire #Canadaburns #SemST\",\n",
       "  'FAVOR'],\n",
       " ['10238',\n",
       "  'Climate Change is a Real Concern',\n",
       "  'We NEED alternatives to #fossilfuel, but also need to maintain our #economy! This change will be gradual so lets START NOW! #SemST',\n",
       "  'FAVOR'],\n",
       " ['10239',\n",
       "  'Climate Change is a Real Concern',\n",
       "  '#Defrance: displacements due to natural disasters higher than those caused by conflicts #migration #development #CFCC #S2242 #SemST',\n",
       "  'FAVOR'],\n",
       " ['10240',\n",
       "  'Climate Change is a Real Concern',\n",
       "  \"@loic Yes, you shouldn't. But, stop killing animals is not the only reason to become a vegan - #stopfamine #behealthy #SemST\",\n",
       "  'NONE'],\n",
       " ['10241',\n",
       "  'Climate Change is a Real Concern',\n",
       "  \"We don't inherit the earth from our parents we borrow it from our children #Conservation #Perspective #SemST\",\n",
       "  'FAVOR'],\n",
       " ['10242',\n",
       "  'Climate Change is a Real Concern',\n",
       "  \".@vj44 @POTUS Yay! We'd love to convert to solar power! PG&E plan to raise our rates again. #ActOnClimate #p2 #SemST\",\n",
       "  'FAVOR'],\n",
       " ['10243',\n",
       "  'Climate Change is a Real Concern',\n",
       "  '#rsaeconomy: #tax can surely play a greater role in helping richer countries slow emissions and poor countries transition. #SemST',\n",
       "  'FAVOR'],\n",
       " ['10244',\n",
       "  'Climate Change is a Real Concern',\n",
       "  \"It's raining and feels like fall I don't know what kinda summer this is  #isReal #SemST\",\n",
       "  'FAVOR'],\n",
       " ['10245',\n",
       "  'Climate Change is a Real Concern',\n",
       "  'We can address both climate change and sustainable development with the same measures @CFigueres #SDGs #climateaction #COP21 #SemST',\n",
       "  'FAVOR'],\n",
       " ['10246',\n",
       "  'Climate Change is a Real Concern',\n",
       "  \"@RachelNotley what's the plan for getting job-creating big green energy corps located here in #alberta? #taxbreaks #jobs #SemST\",\n",
       "  'FAVOR'],\n",
       " ['10247',\n",
       "  'Climate Change is a Real Concern',\n",
       "  '#Mission:#Climate @ home > Purchase renewable power from your utility (by @AveKathleen) #Tip #ImpactIsReal #SemST',\n",
       "  'FAVOR'],\n",
       " ['10248',\n",
       "  'Climate Change is a Real Concern',\n",
       "  \"There's no more normal rains anymore. Always storms, heavy and flooding. #SemST\",\n",
       "  'FAVOR'],\n",
       " ['10249',\n",
       "  'Climate Change is a Real Concern',\n",
       "  '@AlanBrownSNP HS2 does too much damage to local communities + to the environment,they use 60% more fuel than regular trains. #SemST',\n",
       "  'FAVOR'],\n",
       " ['10250',\n",
       "  'Climate Change is a Real Concern',\n",
       "  \"As Western Canada Burns Harper's got his head so deep in the #tarsands he can see #ChristyClark's ankles #BCwildfire #cdnpoli #SemST\",\n",
       "  'NONE'],\n",
       " ['10251',\n",
       "  'Climate Change is a Real Concern',\n",
       "  \"Also what's up with this ridiculous weather?? It was raining this morning and now it's like super hot! #weatherproblems #lame #SemST\",\n",
       "  'FAVOR'],\n",
       " ['10252',\n",
       "  'Climate Change is a Real Concern',\n",
       "  '@TheWayneKing @RickSantorum @hardball @hardball_chris What values is heUsing ref criminal safety checks for weaponsAddressing #SemST',\n",
       "  'NONE'],\n",
       " ['10253',\n",
       "  'Climate Change is a Real Concern',\n",
       "  'Eager to learn at the Modern Prosperity event at the @hfxpublib hosted by  @EcologyAction #carbonpricing #jobsjusticeclimate #SemST',\n",
       "  'FAVOR'],\n",
       " ['10254',\n",
       "  'Climate Change is a Real Concern',\n",
       "  'The #carbontrading in #Quebec has very ambitious GHG reduction target of 20% #nspoli #SemST',\n",
       "  'FAVOR'],\n",
       " ['10255',\n",
       "  'Climate Change is a Real Concern',\n",
       "  '@jiminhofe anthropogenicthat which is caused by humans; #SnowballJim #SemST',\n",
       "  'FAVOR'],\n",
       " ['10256',\n",
       "  'Climate Change is a Real Concern',\n",
       "  'I thought Seattle was supposed to have a lot more rain #drought #SemST',\n",
       "  'FAVOR'],\n",
       " ['10257',\n",
       "  'Climate Change is a Real Concern',\n",
       "  'On a scale of 1 to 10 the air quality in Whistler is a 35. #wildfires #BCwildfire #SemST',\n",
       "  'FAVOR'],\n",
       " ['10258',\n",
       "  'Climate Change is a Real Concern',\n",
       "  '@catethegreat52 yes Catherine, the future of human civilisation depends on this generation & how it acts on #Auspol #SemST',\n",
       "  'FAVOR'],\n",
       " ['10259',\n",
       "  'Climate Change is a Real Concern',\n",
       "  \"It's most exciting to witness a major development! @urgenda #SemST\",\n",
       "  'NONE'],\n",
       " ['10260',\n",
       "  'Climate Change is a Real Concern',\n",
       "  'We are causing the ice masses of Earth to melt at an alarming rate. #SemST',\n",
       "  'FAVOR'],\n",
       " ['10261',\n",
       "  'Climate Change is a Real Concern',\n",
       "  '@mdrewnz Will @NZGreens support Canterbury Rocket + Nuclear Power for NZ? Send our nuclear waste to space @GenerationZer0 #SemST',\n",
       "  'FAVOR'],\n",
       " ['10262',\n",
       "  'Climate Change is a Real Concern',\n",
       "  '@Sam6869 research is irrelevant when biosphere is on the brink of collapse. #deforestation #6thExtinction #war #SemST',\n",
       "  'FAVOR'],\n",
       " ['10263',\n",
       "  'Climate Change is a Real Concern',\n",
       "  \"@ChadCowie Indigenous ppl will save the country, if it's not too late. #SemST\",\n",
       "  'NONE'],\n",
       " ['10264',\n",
       "  'Climate Change is a Real Concern',\n",
       "  \"Turn the Liverpool Plains into a coal mine...is there any bad idea this government doesn't like? #FoodBowl #Shenhua #auspol #SemST\",\n",
       "  'FAVOR'],\n",
       " ['10265',\n",
       "  'Climate Change is a Real Concern',\n",
       "  '@CBSNewYork Seems the marine animals are finally declaring war on man due to man-made environmental destruction. #SemST',\n",
       "  'FAVOR'],\n",
       " ['10266',\n",
       "  'Climate Change is a Real Concern',\n",
       "  'Seems I may yet get my Climate Apocalypse >:) You fucking morons! #Shenhua #LNPFAIL #keepitintheground #SemST',\n",
       "  'FAVOR'],\n",
       " ['10267',\n",
       "  'Climate Change is a Real Concern',\n",
       "  'The Weather app keeps taunting us with rain. #PNW #drought #SemST',\n",
       "  'NONE'],\n",
       " ['10268',\n",
       "  'Climate Change is a Real Concern',\n",
       "  'What do you do to help reverse climate change? Tweet your tips to inspire others! #Tip #SavePolarBear #SemST',\n",
       "  'FAVOR'],\n",
       " ['10269',\n",
       "  'Climate Change is a Real Concern',\n",
       "  'You know things are pretty out of control when you\\'re happy to have \"only\" 30 degrees C indoor and it feels good. #SemST',\n",
       "  'FAVOR'],\n",
       " ['10270',\n",
       "  'Climate Change is a Real Concern',\n",
       "  \"Haven't moved an inch since yesterday.  #bcpoli #vancouver #bcwildfire #yvr #realrenewables #SemST\",\n",
       "  'NONE'],\n",
       " ['10271',\n",
       "  'Climate Change is a Real Concern',\n",
       "  '@Gwillaumau @timpoliti @ABCthedrum @whelan60 @chrisberg NEVER KNEW INCONVENIENT FACTS WARRANTED A SHRINK!!! ROTFLMAO #auspol #SemST',\n",
       "  'NONE'],\n",
       " ['10272',\n",
       "  'Climate Change is a Real Concern',\n",
       "  \"Will the world place sanctions on #Australia for it's insane pursuit of new massive #coal mines? #UN #auspol #sanctions #SemST\",\n",
       "  'FAVOR'],\n",
       " ['10273',\n",
       "  'Climate Change is a Real Concern',\n",
       "  'Now moving from summer season to........ Life, too moves from...  #climate #weatherchange #rain #forecast #wind #SemST',\n",
       "  'FAVOR'],\n",
       " ['10274',\n",
       "  'Climate Change is a Real Concern',\n",
       "  'Climate change is my issue - make it yours #Zim #SemST',\n",
       "  'FAVOR'],\n",
       " ['10275',\n",
       "  'Climate Change is a Real Concern',\n",
       "  \"#Mission:#Climate @ home > Don't let heat escape from your house over a long period #Tip #EarthRightNow #SemST\",\n",
       "  'FAVOR'],\n",
       " ['10276',\n",
       "  'Climate Change is a Real Concern',\n",
       "  'Counting down the days until my PhD starts #77 #tephrochronology #southernhemisphere  #chronology #oxford #SemST',\n",
       "  'NONE'],\n",
       " ['10277',\n",
       "  'Climate Change is a Real Concern',\n",
       "  'Today Europe is breaking heat records, while Asia is breaking the lowest temperature records!! Should we not be concerned?!  #SemST',\n",
       "  'FAVOR'],\n",
       " ['10278',\n",
       "  'Climate Change is a Real Concern',\n",
       "  'Paul Leadley Talking about #biodiversity scenarios under #h22 #CFCC15 #SemST',\n",
       "  'FAVOR'],\n",
       " ['10279',\n",
       "  'Climate Change is a Real Concern',\n",
       "  'Our cardboard city with @Joshpaulevans from @TearfundRhythms in our @cscw_uk youth club on Monday. #SemST',\n",
       "  'NONE'],\n",
       " ['10280',\n",
       "  'Climate Change is a Real Concern',\n",
       "  'Dhakal: There is no silver bullet for solutions - each city has to devise own local/specific responses to #CFCC15 #SemST',\n",
       "  'FAVOR'],\n",
       " ['10281',\n",
       "  'Climate Change is a Real Concern',\n",
       "  'Follow @ClimatParis2015 for information on #CFCC15 - the climate change conference in Paris. #SemST',\n",
       "  'FAVOR'],\n",
       " ['10282',\n",
       "  'Climate Change is a Real Concern',\n",
       "  'Am not a Catholic, but the pope is spot on when it comes climate change & protecting the amazon forest. #SemST',\n",
       "  'FAVOR'],\n",
       " ['10283',\n",
       "  'Climate Change is a Real Concern',\n",
       "  'Food and water security are intertwined: \"Adaptation costs water.\" #CFCC15 #journey2015 #L25 #SemST',\n",
       "  'FAVOR'],\n",
       " ['10284',\n",
       "  'Climate Change is a Real Concern',\n",
       "  \"It's July and its 57 degrees, can't imagine what winter is going to feel like this year. #ChicagoWeather #SemST\",\n",
       "  'FAVOR'],\n",
       " ['10285',\n",
       "  'Climate Change is a Real Concern',\n",
       "  'Adaptation is something that reduces the negative impact or enhances the positive impact of #CFCC15 #Journey2015 #SemST',\n",
       "  'FAVOR'],\n",
       " ['10286',\n",
       "  'Climate Change is a Real Concern',\n",
       "  '@MAPSProgramme tackles difficult challenges of growth needs and unemployment alongside #CFCC15. #SemST',\n",
       "  'FAVOR'],\n",
       " ['10287',\n",
       "  'Climate Change is a Real Concern',\n",
       "  'Much good to be had in the lead up to #COP21. 2,200 researchers from over 100 countries, uniting to address global #CFCC15 #SemST',\n",
       "  'FAVOR'],\n",
       " ['10288',\n",
       "  'Climate Change is a Real Concern',\n",
       "  '#Earth is a #finite in #nature #environment, \"no amount of #dividend #value can #buy its #natural #diversity back! #SemST',\n",
       "  'FAVOR'],\n",
       " ['10289',\n",
       "  'Climate Change is a Real Concern',\n",
       "  '#Obama said \"can\\'t prevent oil exploration completely\" in the Arctic, is \"setting the highest possible standards=BS #shellno #SemST',\n",
       "  'FAVOR'],\n",
       " ['10290',\n",
       "  'Climate Change is a Real Concern',\n",
       "  '@RichardTuffin Tuvalu has been at the forefront of dealing with consequences of climate change. They are realists #auspol #SemST',\n",
       "  'FAVOR'],\n",
       " ['10291',\n",
       "  'Climate Change is a Real Concern',\n",
       "  \"A Very Good Discussion:Ruth Valerio @ARochaUK and Premier Radio's @revcindy1 on key issues affecting us in #Pope #Encyclical #SemST\",\n",
       "  'NONE'],\n",
       " ['10292',\n",
       "  'Climate Change is a Real Concern',\n",
       "  'Be kind to the earth beneath your feet.  #environment #SemST',\n",
       "  'FAVOR'],\n",
       " ['10293',\n",
       "  'Climate Change is a Real Concern',\n",
       "  \"Also, it's raining here in the Brazilian central savannas. We were supposed to be in the pinnacle of the dry season. #SemST\",\n",
       "  'FAVOR'],\n",
       " ['10294',\n",
       "  'Climate Change is a Real Concern',\n",
       "  'avg house in US consumes 10,656 kWh per year 2006, Gore devoured nearly 221,000 kWh more than 20 X the nat average. #onpoli #SemST',\n",
       "  'FAVOR'],\n",
       " ['10295',\n",
       "  'Climate Change is a Real Concern',\n",
       "  'Please will someone at @BBCRadio4 clarify what Osbourne said about oil and renewables energy?  #budget2015 #futureoftheplanet #SemST',\n",
       "  'FAVOR'],\n",
       " ['10296',\n",
       "  'Climate Change is a Real Concern',\n",
       "  'Participation is essential: bring vulnerable voices to the table at #COP21 says @wjamann #AgCOP21 #CFCC15 @cgiarclimate #SemST',\n",
       "  'FAVOR'],\n",
       " ['10297',\n",
       "  'Climate Change is a Real Concern',\n",
       "  'We blame cities for the majority of CO2 emissions without acknowledging their vulnerability to #CFCC15 #journey2015 #S2228 #SemST',\n",
       "  'FAVOR'],\n",
       " ['10298',\n",
       "  'Climate Change is a Real Concern',\n",
       "  '@FoxNews LOL. Too bad all the other scientists agree with him. #ClimateChangeDenier #SemST',\n",
       "  'FAVOR'],\n",
       " ['10299',\n",
       "  'Climate Change is a Real Concern',\n",
       "  '#KCA #VoteJKT48ID ClimateCommRPB: The green diet: how to eat healthy and save the planet #SemST',\n",
       "  'FAVOR'],\n",
       " ['10300',\n",
       "  'Climate Change is a Real Concern',\n",
       "  \"@JimHarris thank you for the follow Jim!  I'm flattered!  #SemST\",\n",
       "  'NONE'],\n",
       " ['10301',\n",
       "  'Climate Change is a Real Concern',\n",
       "  \"@DavidSuzukiFDN @cleanenergycan Need hydro bill fix in ON so ppl won't use dirty alt fuels to heat homes. #foodorheat #onpoli #SemST\",\n",
       "  'FAVOR'],\n",
       " ['10302',\n",
       "  'Climate Change is a Real Concern',\n",
       "  '#Asthma is hitting our communities hard in #Chicago says @LVEJO Kim Wasserman  #cleanair4kids #Latinos #SemST',\n",
       "  'FAVOR'],\n",
       " ['10303',\n",
       "  'Climate Change is a Real Concern',\n",
       "  \"The extreme humidity and heat right now might kill me  and it's only 10a.m. #FloridaProblems #SemST\",\n",
       "  'FAVOR'],\n",
       " ['10304',\n",
       "  'Climate Change is a Real Concern',\n",
       "  '@ILuvCO2 @UNGeneva @WMOnews @ParisCOP21 U love CO2 so I can only understand your point of view.But u n I know the trigger of #SemST',\n",
       "  'FAVOR'],\n",
       " ['10305',\n",
       "  'Climate Change is a Real Concern',\n",
       "  \"Haven't seen the mountains in days with all these fires. Can't stand breathing this air quality any longer!!  #SemST\",\n",
       "  'FAVOR'],\n",
       " ['10306',\n",
       "  'Climate Change is a Real Concern',\n",
       "  '@UCSUSA @POTUS @NSCPress @DHSgov @nytimes Criminal capitalist wrecked economy08Now misleadingInvestors as to Risk of #Ecocide #SemST',\n",
       "  'FAVOR'],\n",
       " ['10307',\n",
       "  'Climate Change is a Real Concern',\n",
       "  'Jared likes child porn now .... Is that what happens if you eat all your meals at Subway? Must be either that or #SemST',\n",
       "  'NONE'],\n",
       " ['10308',\n",
       "  'Climate Change is a Real Concern',\n",
       "  '@UCSUSA @pmharper @ThomasMulcair @Kathleen_Wynne #CSOTA #fossilfuels corp misleading investors about liability for #Ecocide #SemST',\n",
       "  'FAVOR'],\n",
       " ['10309',\n",
       "  'Climate Change is a Real Concern',\n",
       "  \"Actually on second thoughts, it's pretty bloody terrifying #climatecrisis #ISS15 #SemST\",\n",
       "  'FAVOR'],\n",
       " ['10310',\n",
       "  'Climate Change is a Real Concern',\n",
       "  'Gone are the days where we would get temperatures of Min -2 and Max 5 in Cape Town #SemST',\n",
       "  'FAVOR'],\n",
       " ['10311',\n",
       "  'Climate Change is a Real Concern',\n",
       "  'Zinta Zommers: need for a unified tool to bring all these variabilities together #CFCC15 #climate #SemST',\n",
       "  'FAVOR'],\n",
       " ['10312',\n",
       "  'Climate Change is a Real Concern',\n",
       "  \"#Mission:#Climate @ home > Run your dishwasher only if it's full. (by @gaiam) #Tip #ActOnClimate #SemST\",\n",
       "  'FAVOR'],\n",
       " ['10313',\n",
       "  'Climate Change is a Real Concern',\n",
       "  'The stock market froze  In the summer ?!! #SemST',\n",
       "  'NONE'],\n",
       " ['10314',\n",
       "  'Climate Change is a Real Concern',\n",
       "  'Living an unexamined #life may be easier, but leads to disastrous consequences. #ActonClimate #Action2015 #leadership #SemST',\n",
       "  'FAVOR'],\n",
       " ['10315',\n",
       "  'Climate Change is a Real Concern',\n",
       "  '@stormchaser4850 @MiddleAmericaMS @NOAA 2014 was hottest year on record. Looks like 2015 is going to break that record. #SemST',\n",
       "  'FAVOR'],\n",
       " ['10316',\n",
       "  'Climate Change is a Real Concern',\n",
       "  'Climate Change Deniers are Like Pre Historic Cave Dwellers: California Governor Jerry Brown #CSOTA #uspoli #cdnpoli #SemST',\n",
       "  'FAVOR'],\n",
       " ['10317',\n",
       "  'Climate Change is a Real Concern',\n",
       "  'What has happened to sunny Colorado?? #cloudy #denver #nosunshine #SemST',\n",
       "  'FAVOR'],\n",
       " ['10318',\n",
       "  'Climate Change is a Real Concern',\n",
       "  'The biggest terror threat in the World is climate change #drought #floods #SemST',\n",
       "  'FAVOR'],\n",
       " ['10319',\n",
       "  'Climate Change is a Real Concern',\n",
       "  'What has been will be again, what has been done will be done again; there is nothing new under the sun. Ecclesiastes 1:9 #SemST',\n",
       "  'NONE'],\n",
       " ['10320',\n",
       "  'Climate Change is a Real Concern',\n",
       "  'ONE Volcano emits more pollution than man has in our HISTORY! #SemST',\n",
       "  'AGAINST'],\n",
       " ['10321',\n",
       "  'Climate Change is a Real Concern',\n",
       "  \"@SenSanders Republicans don't care about the environment all together. They deny this fact. #SemST\",\n",
       "  'FAVOR'],\n",
       " ['10322',\n",
       "  'Climate Change is a Real Concern',\n",
       "  \"@xrisham Reminds me of Nottingham in the early 1960's #ActOnClimate #SemST\",\n",
       "  'FAVOR'],\n",
       " ['10323',\n",
       "  'Climate Change is a Real Concern',\n",
       "  \"@blueislandcity Jason Berry says he discusses that while $$ would buy a big pipe, maybe that won't work w #ResilientChicago #SemST\",\n",
       "  'NONE'],\n",
       " ['10324',\n",
       "  'Climate Change is a Real Concern',\n",
       "  \"#Follow @SkyMutual US leader in weather #riskmanagement . Helping the world's #economy adapt to climate change. #SemST\",\n",
       "  'FAVOR'],\n",
       " ['10325',\n",
       "  'Climate Change is a Real Concern',\n",
       "  '#CSOTA is trending at #3 in Canada on Twitter Now w/ 3,800 Tweets from the #Climate Summit of the Americas! #sm #socialmedia #SemST',\n",
       "  'FAVOR'],\n",
       " ['10326',\n",
       "  'Climate Change is a Real Concern',\n",
       "  'Why is Stephen Harper or representative not at #costa   Does he not care about the environment?  #cdnpoli #environment #SemST',\n",
       "  'FAVOR'],\n",
       " ['10327',\n",
       "  'Climate Change is a Real Concern',\n",
       "  'RT @TheCLF: Thanks to everyone in Maine who contacted their legislators in support of #energyefficiency funding! #MEpoli #SemST',\n",
       "  'FAVOR'],\n",
       " ['10328',\n",
       "  'Climate Change is a Real Concern',\n",
       "  \"We're Committed to Green in Our Dreams: @GovInslee. What'll Drive Change is Power of Parents & Grandparents #CSOTA #SemST\",\n",
       "  'FAVOR'],\n",
       " ['10329',\n",
       "  'Climate Change is a Real Concern',\n",
       "  '@UN_Spokesperson @FRANCE24 @UN @COP21 @NorwayMFA \"We are the last generation who can address this climate change #SemST',\n",
       "  'FAVOR'],\n",
       " ['10330',\n",
       "  'Climate Change is a Real Concern',\n",
       "  '@UN ice cracking in the summer?? SO ALARMING. #climatechangehoax #SemST',\n",
       "  'AGAINST'],\n",
       " ['10331',\n",
       "  'Climate Change is a Real Concern',\n",
       "  'Its July 8th.. I have clean clothes... I just put jeans on though. #SemST',\n",
       "  'NONE'],\n",
       " ['10332',\n",
       "  'Climate Change is a Real Concern',\n",
       "  'the water hole time to drink! RT\"@vicenews #SemST',\n",
       "  'NONE'],\n",
       " ['10333',\n",
       "  'Climate Change is a Real Concern',\n",
       "  'I understand the rain, but it is only about 60 degrees right now..... It is never 60 degrees in July....  #SemST',\n",
       "  'FAVOR'],\n",
       " ['10334',\n",
       "  'Climate Change is a Real Concern',\n",
       "  \".@McKenzieAmanda's presentation on shifting the public narrative in a hostile environment should be good #anzca2015 #SemST\",\n",
       "  'NONE'],\n",
       " ['10335',\n",
       "  'Climate Change is a Real Concern',\n",
       "  '67 degrees Fahrenheit on July 8th. I love this weather! #PureMichigan #SemST',\n",
       "  'NONE'],\n",
       " ['10336',\n",
       "  'Climate Change is a Real Concern',\n",
       "  \"#coalmining & destruction of our ability to live on earth is so stupid. Don't kill our species habitat #duh #Shenhua  #SemST\",\n",
       "  'FAVOR'],\n",
       " ['10337',\n",
       "  'Climate Change is a Real Concern',\n",
       "  '@abcnews @Ginger_Zee  how about you give me TWO SENTENCES about climate instead of ending with a bs whale story. #SemST',\n",
       "  'FAVOR'],\n",
       " ['10338',\n",
       "  'Climate Change is a Real Concern',\n",
       "  \"Someone send some chicken soup or some '80s Conan comics to @jamesbobier4 he's under the weather & noone wants to be there #SemST\",\n",
       "  'NONE'],\n",
       " ['10339',\n",
       "  'Climate Change is a Real Concern',\n",
       "  '@billmckibben @suzyji Right out of the Big Tobacco playbook! Why is this disgusting strategy so bulletproof? #SemST',\n",
       "  'NONE'],\n",
       " ['10340',\n",
       "  'Climate Change is a Real Concern',\n",
       "  '@GuardianAus @GrogsGamut Nobody denies the climate changes. #SemST',\n",
       "  'FAVOR'],\n",
       " ['10341',\n",
       "  'Climate Change is a Real Concern',\n",
       "  '#ClimateChangeDefinitions \"settled science\" = flawed computer models with jiggered data to force a predefined conclusion. #SemST',\n",
       "  'AGAINST'],\n",
       " ['10342',\n",
       "  'Climate Change is a Real Concern',\n",
       "  \"People need to wake up & realize what's happening to our earth  #hello #SemST\",\n",
       "  'FAVOR'],\n",
       " ['10343',\n",
       "  'Climate Change is a Real Concern',\n",
       "  '#Questiontime Who is more likely to solve problems related to #poverty #sustainability & #government? #religion? #business? #SemST',\n",
       "  'NONE'],\n",
       " ['10344',\n",
       "  'Climate Change is a Real Concern',\n",
       "  'The countries most likely to survive climate change in one infographic #Survive #Infographic #SemST',\n",
       "  'FAVOR'],\n",
       " ['10345',\n",
       "  'Climate Change is a Real Concern',\n",
       "  'Terraform Earth so we can recolonize our own homes. #SemST',\n",
       "  'FAVOR'],\n",
       " ['10346',\n",
       "  'Climate Change is a Real Concern',\n",
       "  \"What's next after 2 years? :) #thinkbig #world #solution #water #SemST\",\n",
       "  'FAVOR'],\n",
       " ['10347',\n",
       "  'Climate Change is a Real Concern',\n",
       "  'Climate change has already cut into the global food supply and is fuelling wars &natural disasters #FoodFactsWithHeroRadio #SemST',\n",
       "  'FAVOR'],\n",
       " ['10348',\n",
       "  'Climate Change is a Real Concern',\n",
       "  '@Myrmecos Still a larval theory. Still poorly modelled. Still unquantified. Still multi-factor. Still flummoxed by albedo. #SemST',\n",
       "  'AGAINST'],\n",
       " ['10349',\n",
       "  'Climate Change is a Real Concern',\n",
       "  'Whole species #Boomers #GenerationX GenerationY #GenZ Needs a vacation. 25 years on a Greek Island anyone? #HumanExtinction #SemST',\n",
       "  'FAVOR'],\n",
       " ['10350',\n",
       "  'Climate Change is a Real Concern',\n",
       "  '#Mission:#Climate on the road > Fly less #Tip #EarthRightNow #SemST',\n",
       "  'FAVOR'],\n",
       " ['10351',\n",
       "  'Climate Change is a Real Concern',\n",
       "  'Edenhofer: Carbon pricing is needed but not sufficient. we need complementary policies to counter #coal renaissance & #CFCC15 #SemST',\n",
       "  'FAVOR'],\n",
       " ['10352',\n",
       "  'Climate Change is a Real Concern',\n",
       "  'Humanity is making #mother earth angry, that angriness is the reason for #SemST',\n",
       "  'FAVOR'],\n",
       " ['10353',\n",
       "  'Climate Change is a Real Concern',\n",
       "  '@WEETFEvents Jonathan Tillson from @DefraGovUK highlights how economic stability will be undermined by #SemST',\n",
       "  'NONE'],\n",
       " ['10354',\n",
       "  'Climate Change is a Real Concern',\n",
       "  'UK homes & buildings need to be adapted to higher temperatures Daniel Johns @theCCCuk #weetfEvents #adaptation #SemST',\n",
       "  'FAVOR'],\n",
       " ['10355',\n",
       "  'Climate Change is a Real Concern',\n",
       "  'Plants and trees make oxygen which we breathe and killing the rainforest will make the earths oxygen supply weak. #earth #SemST',\n",
       "  'FAVOR'],\n",
       " ['10356',\n",
       "  'Climate Change is a Real Concern',\n",
       "  '$500,000 on flags in 12 months  vs  An Inter-Generational Rot that addresses   #ThingsToSpendMyTaxesOnOtherThanFlags #SemST',\n",
       "  'NONE'],\n",
       " ['10357',\n",
       "  'Climate Change is a Real Concern',\n",
       "  'Climate deniers is a term used to silence those pointing out the hypocrisy in the fanatical zeal on  #climatetruth #SemST',\n",
       "  'AGAINST'],\n",
       " ['10358',\n",
       "  'Climate Change is a Real Concern',\n",
       "  '#Mission:#Climate on the road > Purchase a fuel-efficient, low-greenhouse gas vehicle (by @EPA) #Tip #MissionAccept #SemST',\n",
       "  'FAVOR'],\n",
       " ['10359',\n",
       "  'Climate Change is a Real Concern',\n",
       "  \"@algore: Will we change? That's the reason we are here. Be of good cheer. We're going to win this #CSOTA #SemST\",\n",
       "  'FAVOR'],\n",
       " ['10360',\n",
       "  'Climate Change is a Real Concern',\n",
       "  \"Incredibly moving as a scientist weeps on @BBCRadio4 for the #ocean & for our grandchildren's future ttp://bbc.in/1G9uil5 #SemST\",\n",
       "  'FAVOR'],\n",
       " ['10361',\n",
       "  'Climate Change is a Real Concern',\n",
       "  'Following the invitation only Climate Summit of the Americas online via twitter #CSOTA #Toronto #environment #COP21 #climate #SemST',\n",
       "  'FAVOR'],\n",
       " ['10362',\n",
       "  'Climate Change is a Real Concern',\n",
       "  'Are the voices of younger generations represented at #CSOTA? We have a say in our collective future. #environment #COP21 #SemST',\n",
       "  'FAVOR'],\n",
       " ['10363',\n",
       "  'Climate Change is a Real Concern',\n",
       "  \"@WalshConstCo We're proud to sign #ORbizclimatedeclaration because we are committed to fighting climate change #SemST\",\n",
       "  'FAVOR'],\n",
       " ['10364',\n",
       "  'Climate Change is a Real Concern',\n",
       "  'I remember a time when summer was actually summer, you know when it was sunny and 90 degrees everyday #whatshappening #SemST',\n",
       "  'FAVOR'],\n",
       " ['10365',\n",
       "  'Climate Change is a Real Concern',\n",
       "  '@neiltyson Rettet die Erde! Save the Earth!  #SemST',\n",
       "  'FAVOR'],\n",
       " ['10366',\n",
       "  'Climate Change is a Real Concern',\n",
       "  '@wattsupwiththat yes ironic that the alarmists are the actual \"deniers #SemST',\n",
       "  'AGAINST'],\n",
       " ['10367',\n",
       "  'Climate Change is a Real Concern',\n",
       "  \"@JustinTrudeau Hey Justin I will give you 50 cents if you stop talking about climate 'Change' #Ottawa #davidsuzuki #cbc #SemST\",\n",
       "  'AGAINST'],\n",
       " ['10368',\n",
       "  'Climate Change is a Real Concern',\n",
       "  \"If @EPA & @POTUS don't have to follow SCOTUS why should anyone else have to #ClimateFraud #SpecialReport #WakeUpAmerica #SemST\",\n",
       "  'AGAINST'],\n",
       " ['10369',\n",
       "  'Climate Change is a Real Concern',\n",
       "  'If we want a future for our/Canadian kids we all need to seriously wake the fuck up,No more talk only action #Harper  #SemST',\n",
       "  'FAVOR'],\n",
       " ['10370',\n",
       "  'Climate Change is a Real Concern',\n",
       "  'Govt announcement on zero carbon homes \"short-sighted, unnecessary, retrograde and damaging\" says @UKGBC #energyefficiency #SemST',\n",
       "  'AGAINST'],\n",
       " ['10371',\n",
       "  'Climate Change is a Real Concern',\n",
       "  '@bbcweather Good to see more global awareness, thanks. #SemST',\n",
       "  'FAVOR'],\n",
       " ['10372',\n",
       "  'Climate Change is a Real Concern',\n",
       "  'We are not \"killing the Earth\". The Earth has been through worse and will be fine after all humans suffocate, drown or starve #SemST',\n",
       "  'AGAINST'],\n",
       " ['10373',\n",
       "  'Climate Change is a Real Concern',\n",
       "  'Sea Level Rise above 6 meters - what does that mean? It means 20 ft above current heights. #SemST',\n",
       "  'FAVOR'],\n",
       " ['10374',\n",
       "  'Climate Change is a Real Concern',\n",
       "  '@Agent350 This is not a fantasy this is negligence collusion with criminal corporations acting with negligence to #Ecocide #SemST',\n",
       "  'FAVOR'],\n",
       " ['10375',\n",
       "  'Climate Change is a Real Concern',\n",
       "  'We need governments and corporations to respond AND ordinary people to change our daily habits to consume less. #SemST',\n",
       "  'FAVOR'],\n",
       " ['10376',\n",
       "  'Climate Change is a Real Concern',\n",
       "  'If you dont have the capacity to take it in and act-what can you do to increase your capacity for connection and compassion? #SemST',\n",
       "  'NONE'],\n",
       " ['10377',\n",
       "  'Climate Change is a Real Concern',\n",
       "  '#Mission:#Climate @ home > Take a shower instead of a bath #Tip #LoveOurPlanet #SemST',\n",
       "  'FAVOR'],\n",
       " ['10378',\n",
       "  'Climate Change is a Real Concern',\n",
       "  'The only thing \"man made\" about global warming is the false narrative. #WakeUpAmerica #boycottSanFrancisco #Election2016 #SemST',\n",
       "  'AGAINST'],\n",
       " ['10379',\n",
       "  'Climate Change is a Real Concern',\n",
       "  'Growing concern of Pacific Islanders to adapt to sea level rise, increasing storminess; want to avoid becoming CC refugees #SemST',\n",
       "  'FAVOR'],\n",
       " ['10380',\n",
       "  'Climate Change is a Real Concern',\n",
       "  '@4EvaMartino  Everyone should learn this recipe - given summers are going to get warmer every year! #SemST',\n",
       "  'FAVOR'],\n",
       " ['10381',\n",
       "  'Climate Change is a Real Concern',\n",
       "  'Rec high temp for this date in Charlotte is 101*. That was set in 1926. T-models were the worst for dangerous emissions. #SemST',\n",
       "  'FAVOR'],\n",
       " ['10382',\n",
       "  'Climate Change is a Real Concern',\n",
       "  \"Lot's of time, class over! @nationaljournal #SemST\",\n",
       "  'NONE'],\n",
       " ['10383',\n",
       "  'Climate Change is a Real Concern',\n",
       "  '@TheLibertyEagle Oh for the love of Pete! I thought we were going to be incinerated by then! #SemST',\n",
       "  'NONE'],\n",
       " ['10384',\n",
       "  'Climate Change is a Real Concern',\n",
       "  'If complaining about irrelevant problems were illegal maybe we could solve some of the important issues #itsjustaflag #SemST',\n",
       "  'NONE'],\n",
       " ['10385',\n",
       "  'Climate Change is a Real Concern',\n",
       "  '@LiberalAus - \"All\" you folks #owe me an #official #apology at this point \"absolute\" ([minimum]), re\\'s D #peace #Transparency #SemST',\n",
       "  'NONE'],\n",
       " ['10386',\n",
       "  'Climate Change is a Real Concern',\n",
       "  'Maybe we should start \"labelling every #product\" made with its \"#Environmental #footprint\"? Sooner or later we must act! #SemST',\n",
       "  'FAVOR'],\n",
       " ['10387',\n",
       "  'Climate Change is a Real Concern',\n",
       "  'If we touch #Antarctica for one more #reason other than to #research the #impact of us we would be #insane! #Democracy #Goal? #SemST',\n",
       "  'FAVOR'],\n",
       " ['10388',\n",
       "  'Climate Change is a Real Concern',\n",
       "  \"Wind power helped stabilize Texas' power grid during a 2014 cold snap that suddenly increased demand. #ClimateHope #Climate #SemST\",\n",
       "  'FAVOR'],\n",
       " ['10389',\n",
       "  'Climate Change is a Real Concern',\n",
       "  \"It's so cold and windy here in Sydney, I just saw a climate scientist fly past my window #auspol #ClimateChangeIsReal #SemST\",\n",
       "  'FAVOR']]"
      ]
     },
     "execution_count": 12,
     "metadata": {},
     "output_type": "execute_result"
    }
   ],
   "source": [
    "semeval_tweets"
   ]
  },
  {
   "cell_type": "code",
   "execution_count": 43,
   "metadata": {
    "hidden": true
   },
   "outputs": [
    {
     "data": {
      "text/html": [
       "<div>\n",
       "<style scoped>\n",
       "    .dataframe tbody tr th:only-of-type {\n",
       "        vertical-align: middle;\n",
       "    }\n",
       "\n",
       "    .dataframe tbody tr th {\n",
       "        vertical-align: top;\n",
       "    }\n",
       "\n",
       "    .dataframe thead th {\n",
       "        text-align: right;\n",
       "    }\n",
       "</style>\n",
       "<table border=\"1\" class=\"dataframe\">\n",
       "  <thead>\n",
       "    <tr style=\"text-align: right;\">\n",
       "      <th></th>\n",
       "      <th>source</th>\n",
       "      <th>type</th>\n",
       "      <th>text</th>\n",
       "      <th>stance</th>\n",
       "    </tr>\n",
       "  </thead>\n",
       "  <tbody>\n",
       "    <tr>\n",
       "      <td>37264</td>\n",
       "      <td>10380</td>\n",
       "      <td>semeval_tweets</td>\n",
       "      <td>@4EvaMartino  Everyone should learn this recip...</td>\n",
       "      <td>agree</td>\n",
       "    </tr>\n",
       "    <tr>\n",
       "      <td>37265</td>\n",
       "      <td>10381</td>\n",
       "      <td>semeval_tweets</td>\n",
       "      <td>Rec high temp for this date in Charlotte is 10...</td>\n",
       "      <td>agree</td>\n",
       "    </tr>\n",
       "    <tr>\n",
       "      <td>37266</td>\n",
       "      <td>10382</td>\n",
       "      <td>semeval_tweets</td>\n",
       "      <td>Lot's of time, class over! @nationaljournal #S...</td>\n",
       "      <td>neutral</td>\n",
       "    </tr>\n",
       "    <tr>\n",
       "      <td>37267</td>\n",
       "      <td>10383</td>\n",
       "      <td>semeval_tweets</td>\n",
       "      <td>@TheLibertyEagle Oh for the love of Pete! I th...</td>\n",
       "      <td>neutral</td>\n",
       "    </tr>\n",
       "    <tr>\n",
       "      <td>37268</td>\n",
       "      <td>10384</td>\n",
       "      <td>semeval_tweets</td>\n",
       "      <td>If complaining about irrelevant problems were ...</td>\n",
       "      <td>neutral</td>\n",
       "    </tr>\n",
       "    <tr>\n",
       "      <td>37269</td>\n",
       "      <td>10385</td>\n",
       "      <td>semeval_tweets</td>\n",
       "      <td>@LiberalAus - \"All\" you folks #owe me an #offi...</td>\n",
       "      <td>neutral</td>\n",
       "    </tr>\n",
       "    <tr>\n",
       "      <td>37270</td>\n",
       "      <td>10386</td>\n",
       "      <td>semeval_tweets</td>\n",
       "      <td>Maybe we should start \"labelling every #produc...</td>\n",
       "      <td>agree</td>\n",
       "    </tr>\n",
       "    <tr>\n",
       "      <td>37271</td>\n",
       "      <td>10387</td>\n",
       "      <td>semeval_tweets</td>\n",
       "      <td>If we touch #Antarctica for one more #reason o...</td>\n",
       "      <td>agree</td>\n",
       "    </tr>\n",
       "    <tr>\n",
       "      <td>37272</td>\n",
       "      <td>10388</td>\n",
       "      <td>semeval_tweets</td>\n",
       "      <td>Wind power helped stabilize Texas' power grid ...</td>\n",
       "      <td>agree</td>\n",
       "    </tr>\n",
       "    <tr>\n",
       "      <td>37273</td>\n",
       "      <td>10389</td>\n",
       "      <td>semeval_tweets</td>\n",
       "      <td>It's so cold and windy here in Sydney, I just ...</td>\n",
       "      <td>agree</td>\n",
       "    </tr>\n",
       "  </tbody>\n",
       "</table>\n",
       "</div>"
      ],
      "text/plain": [
       "      source            type  \\\n",
       "37264  10380  semeval_tweets   \n",
       "37265  10381  semeval_tweets   \n",
       "37266  10382  semeval_tweets   \n",
       "37267  10383  semeval_tweets   \n",
       "37268  10384  semeval_tweets   \n",
       "37269  10385  semeval_tweets   \n",
       "37270  10386  semeval_tweets   \n",
       "37271  10387  semeval_tweets   \n",
       "37272  10388  semeval_tweets   \n",
       "37273  10389  semeval_tweets   \n",
       "\n",
       "                                                    text   stance  \n",
       "37264  @4EvaMartino  Everyone should learn this recip...    agree  \n",
       "37265  Rec high temp for this date in Charlotte is 10...    agree  \n",
       "37266  Lot's of time, class over! @nationaljournal #S...  neutral  \n",
       "37267  @TheLibertyEagle Oh for the love of Pete! I th...  neutral  \n",
       "37268  If complaining about irrelevant problems were ...  neutral  \n",
       "37269  @LiberalAus - \"All\" you folks #owe me an #offi...  neutral  \n",
       "37270  Maybe we should start \"labelling every #produc...    agree  \n",
       "37271  If we touch #Antarctica for one more #reason o...    agree  \n",
       "37272  Wind power helped stabilize Texas' power grid ...    agree  \n",
       "37273  It's so cold and windy here in Sydney, I just ...    agree  "
      ]
     },
     "execution_count": 43,
     "metadata": {},
     "output_type": "execute_result"
    }
   ],
   "source": [
    "labeled_data_df.tail(10)"
   ]
  },
  {
   "cell_type": "code",
   "execution_count": 13,
   "metadata": {
    "code_folding": [],
    "hidden": true,
    "scrolled": true
   },
   "outputs": [
    {
     "name": "stderr",
     "output_type": "stream",
     "text": [
      "/anaconda3/lib/python3.7/site-packages/ipykernel_launcher.py:1: DeprecationWarning: 'U' mode is deprecated\n",
      "  \"\"\"Entry point for launching an IPython kernel.\n"
     ]
    }
   ],
   "source": [
    "stance_test = pd.read_csv(open(os.getcwd()+'/data/StanceDataset/test.csv','rU'),\n",
    "                          encoding='utf-8', engine='c')"
   ]
  },
  {
   "cell_type": "code",
   "execution_count": 14,
   "metadata": {
    "hidden": true
   },
   "outputs": [],
   "source": [
    "stance_test = stance_test[stance_test['Target'] == 'Climate Change is a Real Concern']"
   ]
  },
  {
   "cell_type": "code",
   "execution_count": 15,
   "metadata": {
    "hidden": true
   },
   "outputs": [
    {
     "data": {
      "text/html": [
       "<div>\n",
       "<style scoped>\n",
       "    .dataframe tbody tr th:only-of-type {\n",
       "        vertical-align: middle;\n",
       "    }\n",
       "\n",
       "    .dataframe tbody tr th {\n",
       "        vertical-align: top;\n",
       "    }\n",
       "\n",
       "    .dataframe thead th {\n",
       "        text-align: right;\n",
       "    }\n",
       "</style>\n",
       "<table border=\"1\" class=\"dataframe\">\n",
       "  <thead>\n",
       "    <tr style=\"text-align: right;\">\n",
       "      <th></th>\n",
       "      <th>Tweet</th>\n",
       "      <th>Target</th>\n",
       "      <th>Stance</th>\n",
       "      <th>Opinion Towards</th>\n",
       "      <th>Sentiment</th>\n",
       "    </tr>\n",
       "  </thead>\n",
       "  <tbody>\n",
       "    <tr>\n",
       "      <td>220</td>\n",
       "      <td>Closed door session begins. More after they de...</td>\n",
       "      <td>Climate Change is a Real Concern</td>\n",
       "      <td>NONE</td>\n",
       "      <td>3.  The tweet is not explicitly expressing opi...</td>\n",
       "      <td>other</td>\n",
       "    </tr>\n",
       "    <tr>\n",
       "      <td>221</td>\n",
       "      <td>What is the #energiewende agenda? Why are they...</td>\n",
       "      <td>Climate Change is a Real Concern</td>\n",
       "      <td>FAVOR</td>\n",
       "      <td>1.  The tweet explicitly expresses opinion abo...</td>\n",
       "      <td>neg</td>\n",
       "    </tr>\n",
       "    <tr>\n",
       "      <td>222</td>\n",
       "      <td>@climasphere Stocker: Fish catch potential cou...</td>\n",
       "      <td>Climate Change is a Real Concern</td>\n",
       "      <td>FAVOR</td>\n",
       "      <td>1.  The tweet explicitly expresses opinion abo...</td>\n",
       "      <td>neg</td>\n",
       "    </tr>\n",
       "    <tr>\n",
       "      <td>223</td>\n",
       "      <td>...a longer memory, and a sterner sense of jus...</td>\n",
       "      <td>Climate Change is a Real Concern</td>\n",
       "      <td>NONE</td>\n",
       "      <td>2. The tweet does NOT expresses opinion about ...</td>\n",
       "      <td>other</td>\n",
       "    </tr>\n",
       "    <tr>\n",
       "      <td>224</td>\n",
       "      <td>Boni \"Future Sea level rise will not be unifor...</td>\n",
       "      <td>Climate Change is a Real Concern</td>\n",
       "      <td>FAVOR</td>\n",
       "      <td>1.  The tweet explicitly expresses opinion abo...</td>\n",
       "      <td>other</td>\n",
       "    </tr>\n",
       "  </tbody>\n",
       "</table>\n",
       "</div>"
      ],
      "text/plain": [
       "                                                 Tweet  \\\n",
       "220  Closed door session begins. More after they de...   \n",
       "221  What is the #energiewende agenda? Why are they...   \n",
       "222  @climasphere Stocker: Fish catch potential cou...   \n",
       "223  ...a longer memory, and a sterner sense of jus...   \n",
       "224  Boni \"Future Sea level rise will not be unifor...   \n",
       "\n",
       "                               Target Stance  \\\n",
       "220  Climate Change is a Real Concern   NONE   \n",
       "221  Climate Change is a Real Concern  FAVOR   \n",
       "222  Climate Change is a Real Concern  FAVOR   \n",
       "223  Climate Change is a Real Concern   NONE   \n",
       "224  Climate Change is a Real Concern  FAVOR   \n",
       "\n",
       "                                       Opinion Towards Sentiment  \n",
       "220  3.  The tweet is not explicitly expressing opi...     other  \n",
       "221  1.  The tweet explicitly expresses opinion abo...       neg  \n",
       "222  1.  The tweet explicitly expresses opinion abo...       neg  \n",
       "223  2. The tweet does NOT expresses opinion about ...     other  \n",
       "224  1.  The tweet explicitly expresses opinion abo...     other  "
      ]
     },
     "execution_count": 15,
     "metadata": {},
     "output_type": "execute_result"
    }
   ],
   "source": [
    "stance_test.head()"
   ]
  },
  {
   "cell_type": "code",
   "execution_count": 16,
   "metadata": {
    "hidden": true
   },
   "outputs": [
    {
     "data": {
      "text/html": [
       "<div>\n",
       "<style scoped>\n",
       "    .dataframe tbody tr th:only-of-type {\n",
       "        vertical-align: middle;\n",
       "    }\n",
       "\n",
       "    .dataframe tbody tr th {\n",
       "        vertical-align: top;\n",
       "    }\n",
       "\n",
       "    .dataframe thead th {\n",
       "        text-align: right;\n",
       "    }\n",
       "</style>\n",
       "<table border=\"1\" class=\"dataframe\">\n",
       "  <thead>\n",
       "    <tr style=\"text-align: right;\">\n",
       "      <th></th>\n",
       "      <th>source</th>\n",
       "      <th>type</th>\n",
       "      <th>text</th>\n",
       "      <th>stance</th>\n",
       "    </tr>\n",
       "  </thead>\n",
       "  <tbody>\n",
       "    <tr>\n",
       "      <td>0</td>\n",
       "      <td>10221</td>\n",
       "      <td>semeval_tweets</td>\n",
       "      <td>Closed door session begins. More after they de...</td>\n",
       "      <td>neutral</td>\n",
       "    </tr>\n",
       "    <tr>\n",
       "      <td>1</td>\n",
       "      <td>10222</td>\n",
       "      <td>semeval_tweets</td>\n",
       "      <td>What is the #energiewende agenda? Why are they...</td>\n",
       "      <td>agree</td>\n",
       "    </tr>\n",
       "    <tr>\n",
       "      <td>2</td>\n",
       "      <td>10223</td>\n",
       "      <td>semeval_tweets</td>\n",
       "      <td>@climasphere Stocker: Fish catch potential cou...</td>\n",
       "      <td>agree</td>\n",
       "    </tr>\n",
       "    <tr>\n",
       "      <td>3</td>\n",
       "      <td>10224</td>\n",
       "      <td>semeval_tweets</td>\n",
       "      <td>...a longer memory, and a sterner sense of jus...</td>\n",
       "      <td>neutral</td>\n",
       "    </tr>\n",
       "    <tr>\n",
       "      <td>4</td>\n",
       "      <td>10225</td>\n",
       "      <td>semeval_tweets</td>\n",
       "      <td>Boni \"Future Sea level rise will not be unifor...</td>\n",
       "      <td>agree</td>\n",
       "    </tr>\n",
       "    <tr>\n",
       "      <td>5</td>\n",
       "      <td>10226</td>\n",
       "      <td>semeval_tweets</td>\n",
       "      <td>@climasphere Bony: Extreme weather events (hea...</td>\n",
       "      <td>agree</td>\n",
       "    </tr>\n",
       "    <tr>\n",
       "      <td>6</td>\n",
       "      <td>10227</td>\n",
       "      <td>semeval_tweets</td>\n",
       "      <td>Camille Parmesan: 2/3 of species have changed ...</td>\n",
       "      <td>agree</td>\n",
       "    </tr>\n",
       "    <tr>\n",
       "      <td>7</td>\n",
       "      <td>10228</td>\n",
       "      <td>semeval_tweets</td>\n",
       "      <td>5 meta-analyses show 1/2 of species have chang...</td>\n",
       "      <td>agree</td>\n",
       "    </tr>\n",
       "    <tr>\n",
       "      <td>8</td>\n",
       "      <td>10229</td>\n",
       "      <td>semeval_tweets</td>\n",
       "      <td>It literarly just took me 10 minutes to get in...</td>\n",
       "      <td>neutral</td>\n",
       "    </tr>\n",
       "    <tr>\n",
       "      <td>9</td>\n",
       "      <td>10230</td>\n",
       "      <td>semeval_tweets</td>\n",
       "      <td>Grubb: state of energy: shift US &amp; EU from net...</td>\n",
       "      <td>agree</td>\n",
       "    </tr>\n",
       "  </tbody>\n",
       "</table>\n",
       "</div>"
      ],
      "text/plain": [
       "  source            type                                               text  \\\n",
       "0  10221  semeval_tweets  Closed door session begins. More after they de...   \n",
       "1  10222  semeval_tweets  What is the #energiewende agenda? Why are they...   \n",
       "2  10223  semeval_tweets  @climasphere Stocker: Fish catch potential cou...   \n",
       "3  10224  semeval_tweets  ...a longer memory, and a sterner sense of jus...   \n",
       "4  10225  semeval_tweets  Boni \"Future Sea level rise will not be unifor...   \n",
       "5  10226  semeval_tweets  @climasphere Bony: Extreme weather events (hea...   \n",
       "6  10227  semeval_tweets  Camille Parmesan: 2/3 of species have changed ...   \n",
       "7  10228  semeval_tweets  5 meta-analyses show 1/2 of species have chang...   \n",
       "8  10229  semeval_tweets  It literarly just took me 10 minutes to get in...   \n",
       "9  10230  semeval_tweets  Grubb: state of energy: shift US & EU from net...   \n",
       "\n",
       "    stance  \n",
       "0  neutral  \n",
       "1    agree  \n",
       "2    agree  \n",
       "3  neutral  \n",
       "4    agree  \n",
       "5    agree  \n",
       "6    agree  \n",
       "7    agree  \n",
       "8  neutral  \n",
       "9    agree  "
      ]
     },
     "execution_count": 16,
     "metadata": {},
     "output_type": "execute_result"
    }
   ],
   "source": [
    "labeled_data['source'].extend(list(stance_test.index))\n",
    "labeled_data['type'].extend(['semeval_test_tweets']*len(stance_test))\n",
    "labeled_data['text'].extend([stance_test.loc[l]['Tweet'] for l in stance_test.index])\n",
    "labeled_data['stance'].extend([tweetstance2label[stance_test.loc[l]['Stance']] \n",
    "                               for l in stance_test.index])\n",
    "labeled_data_df = pd.DataFrame(labeled_data)\n",
    "labeled_data_df.head(10)"
   ]
  },
  {
   "cell_type": "code",
   "execution_count": 61,
   "metadata": {
    "hidden": true
   },
   "outputs": [
    {
     "data": {
      "text/html": [
       "<div>\n",
       "<style scoped>\n",
       "    .dataframe tbody tr th:only-of-type {\n",
       "        vertical-align: middle;\n",
       "    }\n",
       "\n",
       "    .dataframe tbody tr th {\n",
       "        vertical-align: top;\n",
       "    }\n",
       "\n",
       "    .dataframe thead th {\n",
       "        text-align: right;\n",
       "    }\n",
       "</style>\n",
       "<table border=\"1\" class=\"dataframe\">\n",
       "  <thead>\n",
       "    <tr style=\"text-align: right;\">\n",
       "      <th></th>\n",
       "      <th>source</th>\n",
       "      <th>type</th>\n",
       "      <th>text</th>\n",
       "      <th>stance</th>\n",
       "    </tr>\n",
       "  </thead>\n",
       "  <tbody>\n",
       "    <tr>\n",
       "      <td>37433</td>\n",
       "      <td>379</td>\n",
       "      <td>semeval_test_tweets</td>\n",
       "      <td>@4EvaMartino  Everyone should learn this recip...</td>\n",
       "      <td>agree</td>\n",
       "    </tr>\n",
       "    <tr>\n",
       "      <td>37434</td>\n",
       "      <td>380</td>\n",
       "      <td>semeval_test_tweets</td>\n",
       "      <td>Rec high temp for this date in Charlotte is 10...</td>\n",
       "      <td>agree</td>\n",
       "    </tr>\n",
       "    <tr>\n",
       "      <td>37435</td>\n",
       "      <td>381</td>\n",
       "      <td>semeval_test_tweets</td>\n",
       "      <td>Lot's of time, class over! @nationaljournal #S...</td>\n",
       "      <td>neutral</td>\n",
       "    </tr>\n",
       "    <tr>\n",
       "      <td>37436</td>\n",
       "      <td>382</td>\n",
       "      <td>semeval_test_tweets</td>\n",
       "      <td>@TheLibertyEagle Oh for the love of Pete! I th...</td>\n",
       "      <td>neutral</td>\n",
       "    </tr>\n",
       "    <tr>\n",
       "      <td>37437</td>\n",
       "      <td>383</td>\n",
       "      <td>semeval_test_tweets</td>\n",
       "      <td>If complaining about irrelevant problems were ...</td>\n",
       "      <td>neutral</td>\n",
       "    </tr>\n",
       "    <tr>\n",
       "      <td>37438</td>\n",
       "      <td>384</td>\n",
       "      <td>semeval_test_tweets</td>\n",
       "      <td>@LiberalAus - \"All\" you folks #owe me an #offi...</td>\n",
       "      <td>neutral</td>\n",
       "    </tr>\n",
       "    <tr>\n",
       "      <td>37439</td>\n",
       "      <td>385</td>\n",
       "      <td>semeval_test_tweets</td>\n",
       "      <td>Maybe we should start \"labelling every #produc...</td>\n",
       "      <td>agree</td>\n",
       "    </tr>\n",
       "    <tr>\n",
       "      <td>37440</td>\n",
       "      <td>386</td>\n",
       "      <td>semeval_test_tweets</td>\n",
       "      <td>If we touch #Antarctica for one more #reason o...</td>\n",
       "      <td>agree</td>\n",
       "    </tr>\n",
       "    <tr>\n",
       "      <td>37441</td>\n",
       "      <td>387</td>\n",
       "      <td>semeval_test_tweets</td>\n",
       "      <td>Wind power helped stabilize Texas' power grid ...</td>\n",
       "      <td>agree</td>\n",
       "    </tr>\n",
       "    <tr>\n",
       "      <td>37442</td>\n",
       "      <td>388</td>\n",
       "      <td>semeval_test_tweets</td>\n",
       "      <td>It's so cold and windy here in Sydney, I just ...</td>\n",
       "      <td>agree</td>\n",
       "    </tr>\n",
       "  </tbody>\n",
       "</table>\n",
       "</div>"
      ],
      "text/plain": [
       "      source                 type  \\\n",
       "37433    379  semeval_test_tweets   \n",
       "37434    380  semeval_test_tweets   \n",
       "37435    381  semeval_test_tweets   \n",
       "37436    382  semeval_test_tweets   \n",
       "37437    383  semeval_test_tweets   \n",
       "37438    384  semeval_test_tweets   \n",
       "37439    385  semeval_test_tweets   \n",
       "37440    386  semeval_test_tweets   \n",
       "37441    387  semeval_test_tweets   \n",
       "37442    388  semeval_test_tweets   \n",
       "\n",
       "                                                    text   stance  \n",
       "37433  @4EvaMartino  Everyone should learn this recip...    agree  \n",
       "37434  Rec high temp for this date in Charlotte is 10...    agree  \n",
       "37435  Lot's of time, class over! @nationaljournal #S...  neutral  \n",
       "37436  @TheLibertyEagle Oh for the love of Pete! I th...  neutral  \n",
       "37437  If complaining about irrelevant problems were ...  neutral  \n",
       "37438  @LiberalAus - \"All\" you folks #owe me an #offi...  neutral  \n",
       "37439  Maybe we should start \"labelling every #produc...    agree  \n",
       "37440  If we touch #Antarctica for one more #reason o...    agree  \n",
       "37441  Wind power helped stabilize Texas' power grid ...    agree  \n",
       "37442  It's so cold and windy here in Sydney, I just ...    agree  "
      ]
     },
     "execution_count": 61,
     "metadata": {},
     "output_type": "execute_result"
    }
   ],
   "source": [
    "labeled_data_df.tail(10)"
   ]
  },
  {
   "cell_type": "code",
   "execution_count": 18,
   "metadata": {
    "hidden": true
   },
   "outputs": [
    {
     "name": "stderr",
     "output_type": "stream",
     "text": [
      "/anaconda3/lib/python3.7/site-packages/ipykernel_launcher.py:1: DeprecationWarning: 'U' mode is deprecated\n",
      "  \"\"\"Entry point for launching an IPython kernel.\n"
     ]
    }
   ],
   "source": [
    "stance_train = pd.read_csv(open(os.getcwd()+'/data/StanceDataset/train.csv','rU'),\n",
    "                          encoding='utf-8', engine='c')"
   ]
  },
  {
   "cell_type": "code",
   "execution_count": 19,
   "metadata": {
    "hidden": true,
    "scrolled": true
   },
   "outputs": [],
   "source": [
    "stance_train = stance_train[stance_train['Target'] == 'Climate Change is a Real Concern']"
   ]
  },
  {
   "cell_type": "code",
   "execution_count": 20,
   "metadata": {
    "hidden": true
   },
   "outputs": [
    {
     "data": {
      "text/html": [
       "<div>\n",
       "<style scoped>\n",
       "    .dataframe tbody tr th:only-of-type {\n",
       "        vertical-align: middle;\n",
       "    }\n",
       "\n",
       "    .dataframe tbody tr th {\n",
       "        vertical-align: top;\n",
       "    }\n",
       "\n",
       "    .dataframe thead th {\n",
       "        text-align: right;\n",
       "    }\n",
       "</style>\n",
       "<table border=\"1\" class=\"dataframe\">\n",
       "  <thead>\n",
       "    <tr style=\"text-align: right;\">\n",
       "      <th></th>\n",
       "      <th>Tweet</th>\n",
       "      <th>Target</th>\n",
       "      <th>Stance</th>\n",
       "      <th>Opinion Towards</th>\n",
       "      <th>Sentiment</th>\n",
       "    </tr>\n",
       "  </thead>\n",
       "  <tbody>\n",
       "    <tr>\n",
       "      <td>613</td>\n",
       "      <td>We cant deny it, its really happening.  #SemST</td>\n",
       "      <td>Climate Change is a Real Concern</td>\n",
       "      <td>FAVOR</td>\n",
       "      <td>1.  The tweet explicitly expresses opinion abo...</td>\n",
       "      <td>other</td>\n",
       "    </tr>\n",
       "    <tr>\n",
       "      <td>614</td>\n",
       "      <td>RT @cderworiz: Timelines are short. Strategy m...</td>\n",
       "      <td>Climate Change is a Real Concern</td>\n",
       "      <td>FAVOR</td>\n",
       "      <td>1.  The tweet explicitly expresses opinion abo...</td>\n",
       "      <td>pos</td>\n",
       "    </tr>\n",
       "    <tr>\n",
       "      <td>615</td>\n",
       "      <td>SO EXCITING! Meaningful climate change action ...</td>\n",
       "      <td>Climate Change is a Real Concern</td>\n",
       "      <td>FAVOR</td>\n",
       "      <td>1.  The tweet explicitly expresses opinion abo...</td>\n",
       "      <td>pos</td>\n",
       "    </tr>\n",
       "    <tr>\n",
       "      <td>616</td>\n",
       "      <td>Delivering good jobs for Albertans, maintainin...</td>\n",
       "      <td>Climate Change is a Real Concern</td>\n",
       "      <td>FAVOR</td>\n",
       "      <td>1.  The tweet explicitly expresses opinion abo...</td>\n",
       "      <td>pos</td>\n",
       "    </tr>\n",
       "    <tr>\n",
       "      <td>617</td>\n",
       "      <td>@davidswann says he wants carbon fund to be sp...</td>\n",
       "      <td>Climate Change is a Real Concern</td>\n",
       "      <td>FAVOR</td>\n",
       "      <td>3.  The tweet is not explicitly expressing opi...</td>\n",
       "      <td>other</td>\n",
       "    </tr>\n",
       "  </tbody>\n",
       "</table>\n",
       "</div>"
      ],
      "text/plain": [
       "                                                 Tweet  \\\n",
       "613     We cant deny it, its really happening.  #SemST   \n",
       "614  RT @cderworiz: Timelines are short. Strategy m...   \n",
       "615  SO EXCITING! Meaningful climate change action ...   \n",
       "616  Delivering good jobs for Albertans, maintainin...   \n",
       "617  @davidswann says he wants carbon fund to be sp...   \n",
       "\n",
       "                               Target Stance  \\\n",
       "613  Climate Change is a Real Concern  FAVOR   \n",
       "614  Climate Change is a Real Concern  FAVOR   \n",
       "615  Climate Change is a Real Concern  FAVOR   \n",
       "616  Climate Change is a Real Concern  FAVOR   \n",
       "617  Climate Change is a Real Concern  FAVOR   \n",
       "\n",
       "                                       Opinion Towards Sentiment  \n",
       "613  1.  The tweet explicitly expresses opinion abo...     other  \n",
       "614  1.  The tweet explicitly expresses opinion abo...       pos  \n",
       "615  1.  The tweet explicitly expresses opinion abo...       pos  \n",
       "616  1.  The tweet explicitly expresses opinion abo...       pos  \n",
       "617  3.  The tweet is not explicitly expressing opi...     other  "
      ]
     },
     "execution_count": 20,
     "metadata": {},
     "output_type": "execute_result"
    }
   ],
   "source": [
    "stance_train.head()"
   ]
  },
  {
   "cell_type": "code",
   "execution_count": 24,
   "metadata": {
    "hidden": true
   },
   "outputs": [
    {
     "data": {
      "text/html": [
       "<div>\n",
       "<style scoped>\n",
       "    .dataframe tbody tr th:only-of-type {\n",
       "        vertical-align: middle;\n",
       "    }\n",
       "\n",
       "    .dataframe tbody tr th {\n",
       "        vertical-align: top;\n",
       "    }\n",
       "\n",
       "    .dataframe thead th {\n",
       "        text-align: right;\n",
       "    }\n",
       "</style>\n",
       "<table border=\"1\" class=\"dataframe\">\n",
       "  <thead>\n",
       "    <tr style=\"text-align: right;\">\n",
       "      <th></th>\n",
       "      <th>source</th>\n",
       "      <th>type</th>\n",
       "      <th>text</th>\n",
       "      <th>stance</th>\n",
       "    </tr>\n",
       "  </thead>\n",
       "  <tbody>\n",
       "    <tr>\n",
       "      <td>0</td>\n",
       "      <td>10221</td>\n",
       "      <td>semeval_tweets</td>\n",
       "      <td>Closed door session begins. More after they decide on the entities.  #GCF #SemST</td>\n",
       "      <td>neutral</td>\n",
       "    </tr>\n",
       "    <tr>\n",
       "      <td>1</td>\n",
       "      <td>10222</td>\n",
       "      <td>semeval_tweets</td>\n",
       "      <td>What is the #energiewende agenda? Why are they not in the \"de-carbonizer\" camp?.  How long will you tolerate the lies?  #SemST</td>\n",
       "      <td>agree</td>\n",
       "    </tr>\n",
       "    <tr>\n",
       "      <td>2</td>\n",
       "      <td>10223</td>\n",
       "      <td>semeval_tweets</td>\n",
       "      <td>@climasphere Stocker: Fish catch potential could drop by as much as 50% in some areas due to #oceanacidification. #CFCC15 #SemST</td>\n",
       "      <td>agree</td>\n",
       "    </tr>\n",
       "    <tr>\n",
       "      <td>3</td>\n",
       "      <td>10224</td>\n",
       "      <td>semeval_tweets</td>\n",
       "      <td>...a longer memory, and a sterner sense of justice than we do. -W.Berry #SemST</td>\n",
       "      <td>neutral</td>\n",
       "    </tr>\n",
       "    <tr>\n",
       "      <td>4</td>\n",
       "      <td>10225</td>\n",
       "      <td>semeval_tweets</td>\n",
       "      <td>Boni \"Future Sea level rise will not be uniform &amp; different for coasts\" #CCFC15 #Journey2015 #SemST</td>\n",
       "      <td>agree</td>\n",
       "    </tr>\n",
       "    <tr>\n",
       "      <td>5</td>\n",
       "      <td>10226</td>\n",
       "      <td>semeval_tweets</td>\n",
       "      <td>@climasphere Bony: Extreme weather events (heat waves, drought, flooding, windstorms) made more frequent/intense by #CFCC15 #SemST</td>\n",
       "      <td>agree</td>\n",
       "    </tr>\n",
       "    <tr>\n",
       "      <td>6</td>\n",
       "      <td>10227</td>\n",
       "      <td>semeval_tweets</td>\n",
       "      <td>Camille Parmesan: 2/3 of species have changed #habitat because of #H12 #CFCC15 #SemST</td>\n",
       "      <td>agree</td>\n",
       "    </tr>\n",
       "    <tr>\n",
       "      <td>7</td>\n",
       "      <td>10228</td>\n",
       "      <td>semeval_tweets</td>\n",
       "      <td>5 meta-analyses show 1/2 of species have changed where they live, 2/3 have changed when they live. Camille Parmesan #CFCC15 #SemST</td>\n",
       "      <td>agree</td>\n",
       "    </tr>\n",
       "    <tr>\n",
       "      <td>8</td>\n",
       "      <td>10229</td>\n",
       "      <td>semeval_tweets</td>\n",
       "      <td>It literarly just took me 10 minutes to get in a bus because an old lady just had to go in front of everyone... #SemST</td>\n",
       "      <td>neutral</td>\n",
       "    </tr>\n",
       "    <tr>\n",
       "      <td>9</td>\n",
       "      <td>10230</td>\n",
       "      <td>semeval_tweets</td>\n",
       "      <td>Grubb: state of energy: shift US &amp; EU from net-producer to net-importer of emissions\" #CCFC15 #journey2015 #SemST</td>\n",
       "      <td>agree</td>\n",
       "    </tr>\n",
       "  </tbody>\n",
       "</table>\n",
       "</div>"
      ],
      "text/plain": [
       "  source            type  \\\n",
       "0  10221  semeval_tweets   \n",
       "1  10222  semeval_tweets   \n",
       "2  10223  semeval_tweets   \n",
       "3  10224  semeval_tweets   \n",
       "4  10225  semeval_tweets   \n",
       "5  10226  semeval_tweets   \n",
       "6  10227  semeval_tweets   \n",
       "7  10228  semeval_tweets   \n",
       "8  10229  semeval_tweets   \n",
       "9  10230  semeval_tweets   \n",
       "\n",
       "                                                                                                                                 text  \\\n",
       "0  Closed door session begins. More after they decide on the entities.  #GCF #SemST                                                     \n",
       "1  What is the #energiewende agenda? Why are they not in the \"de-carbonizer\" camp?.  How long will you tolerate the lies?  #SemST       \n",
       "2  @climasphere Stocker: Fish catch potential could drop by as much as 50% in some areas due to #oceanacidification. #CFCC15 #SemST     \n",
       "3  ...a longer memory, and a sterner sense of justice than we do. -W.Berry #SemST                                                       \n",
       "4  Boni \"Future Sea level rise will not be uniform & different for coasts\" #CCFC15 #Journey2015 #SemST                                  \n",
       "5  @climasphere Bony: Extreme weather events (heat waves, drought, flooding, windstorms) made more frequent/intense by #CFCC15 #SemST   \n",
       "6  Camille Parmesan: 2/3 of species have changed #habitat because of #H12 #CFCC15 #SemST                                                \n",
       "7  5 meta-analyses show 1/2 of species have changed where they live, 2/3 have changed when they live. Camille Parmesan #CFCC15 #SemST   \n",
       "8  It literarly just took me 10 minutes to get in a bus because an old lady just had to go in front of everyone... #SemST               \n",
       "9  Grubb: state of energy: shift US & EU from net-producer to net-importer of emissions\" #CCFC15 #journey2015 #SemST                    \n",
       "\n",
       "    stance  \n",
       "0  neutral  \n",
       "1  agree    \n",
       "2  agree    \n",
       "3  neutral  \n",
       "4  agree    \n",
       "5  agree    \n",
       "6  agree    \n",
       "7  agree    \n",
       "8  neutral  \n",
       "9  agree    "
      ]
     },
     "execution_count": 24,
     "metadata": {},
     "output_type": "execute_result"
    }
   ],
   "source": [
    "labeled_data['source'].extend(list(stance_train.index))\n",
    "labeled_data['type'].extend(['semeval_train_tweets']*len(stance_train))\n",
    "labeled_data['text'].extend([stance_train.loc[l]['Tweet'] for l in stance_train.index])\n",
    "labeled_data['stance'].extend([tweetstance2label[stance_train.loc[l]['Stance']] \n",
    "                               for l in stance_train.index])\n",
    "labeled_data_df = pd.DataFrame(labeled_data)\n",
    "labeled_data_df.head(10)"
   ]
  },
  {
   "cell_type": "code",
   "execution_count": 26,
   "metadata": {
    "hidden": true,
    "scrolled": true
   },
   "outputs": [
    {
     "data": {
      "text/html": [
       "<div>\n",
       "<style scoped>\n",
       "    .dataframe tbody tr th:only-of-type {\n",
       "        vertical-align: middle;\n",
       "    }\n",
       "\n",
       "    .dataframe tbody tr th {\n",
       "        vertical-align: top;\n",
       "    }\n",
       "\n",
       "    .dataframe thead th {\n",
       "        text-align: right;\n",
       "    }\n",
       "</style>\n",
       "<table border=\"1\" class=\"dataframe\">\n",
       "  <thead>\n",
       "    <tr style=\"text-align: right;\">\n",
       "      <th></th>\n",
       "      <th>source</th>\n",
       "      <th>type</th>\n",
       "      <th>text</th>\n",
       "      <th>stance</th>\n",
       "    </tr>\n",
       "  </thead>\n",
       "  <tbody>\n",
       "    <tr>\n",
       "      <td>99</td>\n",
       "      <td>10320</td>\n",
       "      <td>semeval_tweets</td>\n",
       "      <td>ONE Volcano emits more pollution than man has in our HISTORY! #SemST</td>\n",
       "      <td>disagree</td>\n",
       "    </tr>\n",
       "    <tr>\n",
       "      <td>109</td>\n",
       "      <td>10330</td>\n",
       "      <td>semeval_tweets</td>\n",
       "      <td>@UN ice cracking in the summer?? SO ALARMING. #climatechangehoax #SemST</td>\n",
       "      <td>disagree</td>\n",
       "    </tr>\n",
       "    <tr>\n",
       "      <td>120</td>\n",
       "      <td>10341</td>\n",
       "      <td>semeval_tweets</td>\n",
       "      <td>#ClimateChangeDefinitions \"settled science\" = flawed computer models with jiggered data to force a predefined conclusion. #SemST</td>\n",
       "      <td>disagree</td>\n",
       "    </tr>\n",
       "    <tr>\n",
       "      <td>127</td>\n",
       "      <td>10348</td>\n",
       "      <td>semeval_tweets</td>\n",
       "      <td>@Myrmecos Still a larval theory. Still poorly modelled. Still unquantified. Still multi-factor. Still flummoxed by albedo. #SemST</td>\n",
       "      <td>disagree</td>\n",
       "    </tr>\n",
       "    <tr>\n",
       "      <td>136</td>\n",
       "      <td>10357</td>\n",
       "      <td>semeval_tweets</td>\n",
       "      <td>Climate deniers is a term used to silence those pointing out the hypocrisy in the fanatical zeal on  #climatetruth #SemST</td>\n",
       "      <td>disagree</td>\n",
       "    </tr>\n",
       "    <tr>\n",
       "      <td>145</td>\n",
       "      <td>10366</td>\n",
       "      <td>semeval_tweets</td>\n",
       "      <td>@wattsupwiththat yes ironic that the alarmists are the actual \"deniers #SemST</td>\n",
       "      <td>disagree</td>\n",
       "    </tr>\n",
       "    <tr>\n",
       "      <td>146</td>\n",
       "      <td>10367</td>\n",
       "      <td>semeval_tweets</td>\n",
       "      <td>@JustinTrudeau Hey Justin I will give you 50 cents if you stop talking about climate 'Change' #Ottawa #davidsuzuki #cbc #SemST</td>\n",
       "      <td>disagree</td>\n",
       "    </tr>\n",
       "    <tr>\n",
       "      <td>147</td>\n",
       "      <td>10368</td>\n",
       "      <td>semeval_tweets</td>\n",
       "      <td>If @EPA &amp; @POTUS don't have to follow SCOTUS why should anyone else have to #ClimateFraud #SpecialReport #WakeUpAmerica #SemST</td>\n",
       "      <td>disagree</td>\n",
       "    </tr>\n",
       "    <tr>\n",
       "      <td>149</td>\n",
       "      <td>10370</td>\n",
       "      <td>semeval_tweets</td>\n",
       "      <td>Govt announcement on zero carbon homes \"short-sighted, unnecessary, retrograde and damaging\" says @UKGBC #energyefficiency #SemST</td>\n",
       "      <td>disagree</td>\n",
       "    </tr>\n",
       "    <tr>\n",
       "      <td>151</td>\n",
       "      <td>10372</td>\n",
       "      <td>semeval_tweets</td>\n",
       "      <td>We are not \"killing the Earth\". The Earth has been through worse and will be fine after all humans suffocate, drown or starve #SemST</td>\n",
       "      <td>disagree</td>\n",
       "    </tr>\n",
       "    <tr>\n",
       "      <td>157</td>\n",
       "      <td>10378</td>\n",
       "      <td>semeval_tweets</td>\n",
       "      <td>The only thing \"man made\" about global warming is the false narrative. #WakeUpAmerica #boycottSanFrancisco #Election2016 #SemST</td>\n",
       "      <td>disagree</td>\n",
       "    </tr>\n",
       "    <tr>\n",
       "      <td>268</td>\n",
       "      <td>319</td>\n",
       "      <td>semeval_test_tweets</td>\n",
       "      <td>ONE Volcano emits more pollution than man has in our HISTORY! #SemST</td>\n",
       "      <td>disagree</td>\n",
       "    </tr>\n",
       "    <tr>\n",
       "      <td>278</td>\n",
       "      <td>329</td>\n",
       "      <td>semeval_test_tweets</td>\n",
       "      <td>@UN ice cracking in the summer?? SO ALARMING. #climatechangehoax #SemST</td>\n",
       "      <td>disagree</td>\n",
       "    </tr>\n",
       "    <tr>\n",
       "      <td>289</td>\n",
       "      <td>340</td>\n",
       "      <td>semeval_test_tweets</td>\n",
       "      <td>#ClimateChangeDefinitions \"settled science\" = flawed computer models with jiggered data to force a predefined conclusion. #SemST</td>\n",
       "      <td>disagree</td>\n",
       "    </tr>\n",
       "    <tr>\n",
       "      <td>296</td>\n",
       "      <td>347</td>\n",
       "      <td>semeval_test_tweets</td>\n",
       "      <td>@Myrmecos Still a larval theory. Still poorly modelled. Still unquantified. Still multi-factor. Still flummoxed by albedo. #SemST</td>\n",
       "      <td>disagree</td>\n",
       "    </tr>\n",
       "    <tr>\n",
       "      <td>305</td>\n",
       "      <td>356</td>\n",
       "      <td>semeval_test_tweets</td>\n",
       "      <td>Climate deniers is a term used to silence those pointing out the hypocrisy in the fanatical zeal on  #climatetruth #SemST</td>\n",
       "      <td>disagree</td>\n",
       "    </tr>\n",
       "    <tr>\n",
       "      <td>314</td>\n",
       "      <td>365</td>\n",
       "      <td>semeval_test_tweets</td>\n",
       "      <td>@wattsupwiththat yes ironic that the alarmists are the actual \"deniers #SemST</td>\n",
       "      <td>disagree</td>\n",
       "    </tr>\n",
       "    <tr>\n",
       "      <td>315</td>\n",
       "      <td>366</td>\n",
       "      <td>semeval_test_tweets</td>\n",
       "      <td>@JustinTrudeau Hey Justin I will give you 50 cents if you stop talking about climate 'Change' #Ottawa #davidsuzuki #cbc #SemST</td>\n",
       "      <td>disagree</td>\n",
       "    </tr>\n",
       "    <tr>\n",
       "      <td>316</td>\n",
       "      <td>367</td>\n",
       "      <td>semeval_test_tweets</td>\n",
       "      <td>If @EPA &amp; @POTUS don't have to follow SCOTUS why should anyone else have to #ClimateFraud #SpecialReport #WakeUpAmerica #SemST</td>\n",
       "      <td>disagree</td>\n",
       "    </tr>\n",
       "    <tr>\n",
       "      <td>318</td>\n",
       "      <td>369</td>\n",
       "      <td>semeval_test_tweets</td>\n",
       "      <td>Govt announcement on zero carbon homes \"short-sighted, unnecessary, retrograde and damaging\" says @UKGBC #energyefficiency #SemST</td>\n",
       "      <td>disagree</td>\n",
       "    </tr>\n",
       "    <tr>\n",
       "      <td>320</td>\n",
       "      <td>371</td>\n",
       "      <td>semeval_test_tweets</td>\n",
       "      <td>We are not \"killing the Earth\". The Earth has been through worse and will be fine after all humans suffocate, drown or starve #SemST</td>\n",
       "      <td>disagree</td>\n",
       "    </tr>\n",
       "    <tr>\n",
       "      <td>326</td>\n",
       "      <td>377</td>\n",
       "      <td>semeval_test_tweets</td>\n",
       "      <td>The only thing \"man made\" about global warming is the false narrative. #WakeUpAmerica #boycottSanFrancisco #Election2016 #SemST</td>\n",
       "      <td>disagree</td>\n",
       "    </tr>\n",
       "    <tr>\n",
       "      <td>347</td>\n",
       "      <td>622</td>\n",
       "      <td>semeval_train_tweets</td>\n",
       "      <td>The Climate Change people are disgusting assholes. Money transfer scheme for elite. May you rot.   #SemST</td>\n",
       "      <td>disagree</td>\n",
       "    </tr>\n",
       "    <tr>\n",
       "      <td>384</td>\n",
       "      <td>659</td>\n",
       "      <td>semeval_train_tweets</td>\n",
       "      <td>BREAKING: This just in, an ocean wave just broke an inch further on the beach than normal! #SemST</td>\n",
       "      <td>disagree</td>\n",
       "    </tr>\n",
       "    <tr>\n",
       "      <td>412</td>\n",
       "      <td>687</td>\n",
       "      <td>semeval_train_tweets</td>\n",
       "      <td>Climate change?! Explain the definition of climate change.. #fraud #CCOT #liberty #CruzCrew #SemST</td>\n",
       "      <td>disagree</td>\n",
       "    </tr>\n",
       "    <tr>\n",
       "      <td>417</td>\n",
       "      <td>692</td>\n",
       "      <td>semeval_train_tweets</td>\n",
       "      <td>Last time I checked, Al Gore is a politician, not a scientist.. #WCS15 #SemST</td>\n",
       "      <td>disagree</td>\n",
       "    </tr>\n",
       "    <tr>\n",
       "      <td>627</td>\n",
       "      <td>902</td>\n",
       "      <td>semeval_train_tweets</td>\n",
       "      <td>I'm sick of celebrities who think being a well known actor makes them an authority on anything else. #robertredford #UN #SemST</td>\n",
       "      <td>disagree</td>\n",
       "    </tr>\n",
       "    <tr>\n",
       "      <td>628</td>\n",
       "      <td>903</td>\n",
       "      <td>semeval_train_tweets</td>\n",
       "      <td>[Man] cannot change the climate of any country; he adds no new element to the soil ~ Charles Darwin #anthropocene #SemST</td>\n",
       "      <td>disagree</td>\n",
       "    </tr>\n",
       "    <tr>\n",
       "      <td>629</td>\n",
       "      <td>904</td>\n",
       "      <td>semeval_train_tweets</td>\n",
       "      <td>RedScareBot: Simple Malarkey RT gingerdr Global Warming/Climate Change all a HOAX. Communist agenda for control #sustainabil... #SemST</td>\n",
       "      <td>disagree</td>\n",
       "    </tr>\n",
       "    <tr>\n",
       "      <td>630</td>\n",
       "      <td>905</td>\n",
       "      <td>semeval_train_tweets</td>\n",
       "      <td>Artic Ice highest in 10 years for the month of June..yet no headlines.. #scam #SemST</td>\n",
       "      <td>disagree</td>\n",
       "    </tr>\n",
       "    <tr>\n",
       "      <td>632</td>\n",
       "      <td>907</td>\n",
       "      <td>semeval_train_tweets</td>\n",
       "      <td>Noted climatologist, marine biologist,&amp; oceanographer Ted Danson told us 27 yrs ago that the oceans would be dead in 10 yrs. #SemST</td>\n",
       "      <td>disagree</td>\n",
       "    </tr>\n",
       "    <tr>\n",
       "      <td>669</td>\n",
       "      <td>944</td>\n",
       "      <td>semeval_train_tweets</td>\n",
       "      <td>Global Warming! Global Warming! Global Warming!  Oh wait, it's summer.  #SemST</td>\n",
       "      <td>disagree</td>\n",
       "    </tr>\n",
       "    <tr>\n",
       "      <td>670</td>\n",
       "      <td>945</td>\n",
       "      <td>semeval_train_tweets</td>\n",
       "      <td>GlblWarmingNews And the tooth fairy might be causing kids to lose teeth! #carbontaxscam #Chemtrails #SemST</td>\n",
       "      <td>disagree</td>\n",
       "    </tr>\n",
       "    <tr>\n",
       "      <td>671</td>\n",
       "      <td>946</td>\n",
       "      <td>semeval_train_tweets</td>\n",
       "      <td>tsgtalexander: GlblWarmingNews And the tooth fairy might be causing kids to lose teeth! #carbontaxscam #Chemtrails #SemST</td>\n",
       "      <td>disagree</td>\n",
       "    </tr>\n",
       "    <tr>\n",
       "      <td>672</td>\n",
       "      <td>947</td>\n",
       "      <td>semeval_train_tweets</td>\n",
       "      <td>BrettGarrot: BrettGarrot: GlblWarmingNews And the tooth fairy might be causing kids to lose teeth! #carbontaxscam #Chemtrails #SemST</td>\n",
       "      <td>disagree</td>\n",
       "    </tr>\n",
       "    <tr>\n",
       "      <td>673</td>\n",
       "      <td>948</td>\n",
       "      <td>semeval_train_tweets</td>\n",
       "      <td>When did CO2 become a dangerous pollutant that must be curtailed? What do you exhale again? #Iwantanswers #SemST</td>\n",
       "      <td>disagree</td>\n",
       "    </tr>\n",
       "    <tr>\n",
       "      <td>677</td>\n",
       "      <td>952</td>\n",
       "      <td>semeval_train_tweets</td>\n",
       "      <td>If ther clmate change alarmists come out in sept this year and tell me this was the hottest winter on record ill go postal #SemST</td>\n",
       "      <td>disagree</td>\n",
       "    </tr>\n",
       "    <tr>\n",
       "      <td>742</td>\n",
       "      <td>622</td>\n",
       "      <td>semeval_train_tweets</td>\n",
       "      <td>The Climate Change people are disgusting assholes. Money transfer scheme for elite. May you rot.   #SemST</td>\n",
       "      <td>disagree</td>\n",
       "    </tr>\n",
       "    <tr>\n",
       "      <td>779</td>\n",
       "      <td>659</td>\n",
       "      <td>semeval_train_tweets</td>\n",
       "      <td>BREAKING: This just in, an ocean wave just broke an inch further on the beach than normal! #SemST</td>\n",
       "      <td>disagree</td>\n",
       "    </tr>\n",
       "    <tr>\n",
       "      <td>807</td>\n",
       "      <td>687</td>\n",
       "      <td>semeval_train_tweets</td>\n",
       "      <td>Climate change?! Explain the definition of climate change.. #fraud #CCOT #liberty #CruzCrew #SemST</td>\n",
       "      <td>disagree</td>\n",
       "    </tr>\n",
       "    <tr>\n",
       "      <td>812</td>\n",
       "      <td>692</td>\n",
       "      <td>semeval_train_tweets</td>\n",
       "      <td>Last time I checked, Al Gore is a politician, not a scientist.. #WCS15 #SemST</td>\n",
       "      <td>disagree</td>\n",
       "    </tr>\n",
       "    <tr>\n",
       "      <td>1022</td>\n",
       "      <td>902</td>\n",
       "      <td>semeval_train_tweets</td>\n",
       "      <td>I'm sick of celebrities who think being a well known actor makes them an authority on anything else. #robertredford #UN #SemST</td>\n",
       "      <td>disagree</td>\n",
       "    </tr>\n",
       "    <tr>\n",
       "      <td>1023</td>\n",
       "      <td>903</td>\n",
       "      <td>semeval_train_tweets</td>\n",
       "      <td>[Man] cannot change the climate of any country; he adds no new element to the soil ~ Charles Darwin #anthropocene #SemST</td>\n",
       "      <td>disagree</td>\n",
       "    </tr>\n",
       "    <tr>\n",
       "      <td>1024</td>\n",
       "      <td>904</td>\n",
       "      <td>semeval_train_tweets</td>\n",
       "      <td>RedScareBot: Simple Malarkey RT gingerdr Global Warming/Climate Change all a HOAX. Communist agenda for control #sustainabil... #SemST</td>\n",
       "      <td>disagree</td>\n",
       "    </tr>\n",
       "    <tr>\n",
       "      <td>1025</td>\n",
       "      <td>905</td>\n",
       "      <td>semeval_train_tweets</td>\n",
       "      <td>Artic Ice highest in 10 years for the month of June..yet no headlines.. #scam #SemST</td>\n",
       "      <td>disagree</td>\n",
       "    </tr>\n",
       "    <tr>\n",
       "      <td>1027</td>\n",
       "      <td>907</td>\n",
       "      <td>semeval_train_tweets</td>\n",
       "      <td>Noted climatologist, marine biologist,&amp; oceanographer Ted Danson told us 27 yrs ago that the oceans would be dead in 10 yrs. #SemST</td>\n",
       "      <td>disagree</td>\n",
       "    </tr>\n",
       "    <tr>\n",
       "      <td>1064</td>\n",
       "      <td>944</td>\n",
       "      <td>semeval_train_tweets</td>\n",
       "      <td>Global Warming! Global Warming! Global Warming!  Oh wait, it's summer.  #SemST</td>\n",
       "      <td>disagree</td>\n",
       "    </tr>\n",
       "    <tr>\n",
       "      <td>1065</td>\n",
       "      <td>945</td>\n",
       "      <td>semeval_train_tweets</td>\n",
       "      <td>GlblWarmingNews And the tooth fairy might be causing kids to lose teeth! #carbontaxscam #Chemtrails #SemST</td>\n",
       "      <td>disagree</td>\n",
       "    </tr>\n",
       "    <tr>\n",
       "      <td>1066</td>\n",
       "      <td>946</td>\n",
       "      <td>semeval_train_tweets</td>\n",
       "      <td>tsgtalexander: GlblWarmingNews And the tooth fairy might be causing kids to lose teeth! #carbontaxscam #Chemtrails #SemST</td>\n",
       "      <td>disagree</td>\n",
       "    </tr>\n",
       "    <tr>\n",
       "      <td>1067</td>\n",
       "      <td>947</td>\n",
       "      <td>semeval_train_tweets</td>\n",
       "      <td>BrettGarrot: BrettGarrot: GlblWarmingNews And the tooth fairy might be causing kids to lose teeth! #carbontaxscam #Chemtrails #SemST</td>\n",
       "      <td>disagree</td>\n",
       "    </tr>\n",
       "    <tr>\n",
       "      <td>1068</td>\n",
       "      <td>948</td>\n",
       "      <td>semeval_train_tweets</td>\n",
       "      <td>When did CO2 become a dangerous pollutant that must be curtailed? What do you exhale again? #Iwantanswers #SemST</td>\n",
       "      <td>disagree</td>\n",
       "    </tr>\n",
       "    <tr>\n",
       "      <td>1072</td>\n",
       "      <td>952</td>\n",
       "      <td>semeval_train_tweets</td>\n",
       "      <td>If ther clmate change alarmists come out in sept this year and tell me this was the hottest winter on record ill go postal #SemST</td>\n",
       "      <td>disagree</td>\n",
       "    </tr>\n",
       "  </tbody>\n",
       "</table>\n",
       "</div>"
      ],
      "text/plain": [
       "     source                  type  \\\n",
       "99    10320  semeval_tweets         \n",
       "109   10330  semeval_tweets         \n",
       "120   10341  semeval_tweets         \n",
       "127   10348  semeval_tweets         \n",
       "136   10357  semeval_tweets         \n",
       "145   10366  semeval_tweets         \n",
       "146   10367  semeval_tweets         \n",
       "147   10368  semeval_tweets         \n",
       "149   10370  semeval_tweets         \n",
       "151   10372  semeval_tweets         \n",
       "157   10378  semeval_tweets         \n",
       "268   319    semeval_test_tweets    \n",
       "278   329    semeval_test_tweets    \n",
       "289   340    semeval_test_tweets    \n",
       "296   347    semeval_test_tweets    \n",
       "305   356    semeval_test_tweets    \n",
       "314   365    semeval_test_tweets    \n",
       "315   366    semeval_test_tweets    \n",
       "316   367    semeval_test_tweets    \n",
       "318   369    semeval_test_tweets    \n",
       "320   371    semeval_test_tweets    \n",
       "326   377    semeval_test_tweets    \n",
       "347   622    semeval_train_tweets   \n",
       "384   659    semeval_train_tweets   \n",
       "412   687    semeval_train_tweets   \n",
       "417   692    semeval_train_tweets   \n",
       "627   902    semeval_train_tweets   \n",
       "628   903    semeval_train_tweets   \n",
       "629   904    semeval_train_tweets   \n",
       "630   905    semeval_train_tweets   \n",
       "632   907    semeval_train_tweets   \n",
       "669   944    semeval_train_tweets   \n",
       "670   945    semeval_train_tweets   \n",
       "671   946    semeval_train_tweets   \n",
       "672   947    semeval_train_tweets   \n",
       "673   948    semeval_train_tweets   \n",
       "677   952    semeval_train_tweets   \n",
       "742   622    semeval_train_tweets   \n",
       "779   659    semeval_train_tweets   \n",
       "807   687    semeval_train_tweets   \n",
       "812   692    semeval_train_tweets   \n",
       "1022  902    semeval_train_tweets   \n",
       "1023  903    semeval_train_tweets   \n",
       "1024  904    semeval_train_tweets   \n",
       "1025  905    semeval_train_tweets   \n",
       "1027  907    semeval_train_tweets   \n",
       "1064  944    semeval_train_tweets   \n",
       "1065  945    semeval_train_tweets   \n",
       "1066  946    semeval_train_tweets   \n",
       "1067  947    semeval_train_tweets   \n",
       "1068  948    semeval_train_tweets   \n",
       "1072  952    semeval_train_tweets   \n",
       "\n",
       "                                                                                                                                        text  \\\n",
       "99    ONE Volcano emits more pollution than man has in our HISTORY! #SemST                                                                     \n",
       "109   @UN ice cracking in the summer?? SO ALARMING. #climatechangehoax #SemST                                                                  \n",
       "120   #ClimateChangeDefinitions \"settled science\" = flawed computer models with jiggered data to force a predefined conclusion. #SemST         \n",
       "127   @Myrmecos Still a larval theory. Still poorly modelled. Still unquantified. Still multi-factor. Still flummoxed by albedo. #SemST        \n",
       "136   Climate deniers is a term used to silence those pointing out the hypocrisy in the fanatical zeal on  #climatetruth #SemST                \n",
       "145   @wattsupwiththat yes ironic that the alarmists are the actual \"deniers #SemST                                                            \n",
       "146   @JustinTrudeau Hey Justin I will give you 50 cents if you stop talking about climate 'Change' #Ottawa #davidsuzuki #cbc #SemST           \n",
       "147   If @EPA & @POTUS don't have to follow SCOTUS why should anyone else have to #ClimateFraud #SpecialReport #WakeUpAmerica #SemST           \n",
       "149   Govt announcement on zero carbon homes \"short-sighted, unnecessary, retrograde and damaging\" says @UKGBC #energyefficiency #SemST        \n",
       "151   We are not \"killing the Earth\". The Earth has been through worse and will be fine after all humans suffocate, drown or starve #SemST     \n",
       "157   The only thing \"man made\" about global warming is the false narrative. #WakeUpAmerica #boycottSanFrancisco #Election2016 #SemST          \n",
       "268   ONE Volcano emits more pollution than man has in our HISTORY! #SemST                                                                     \n",
       "278   @UN ice cracking in the summer?? SO ALARMING. #climatechangehoax #SemST                                                                  \n",
       "289   #ClimateChangeDefinitions \"settled science\" = flawed computer models with jiggered data to force a predefined conclusion. #SemST         \n",
       "296   @Myrmecos Still a larval theory. Still poorly modelled. Still unquantified. Still multi-factor. Still flummoxed by albedo. #SemST        \n",
       "305   Climate deniers is a term used to silence those pointing out the hypocrisy in the fanatical zeal on  #climatetruth #SemST                \n",
       "314   @wattsupwiththat yes ironic that the alarmists are the actual \"deniers #SemST                                                            \n",
       "315   @JustinTrudeau Hey Justin I will give you 50 cents if you stop talking about climate 'Change' #Ottawa #davidsuzuki #cbc #SemST           \n",
       "316   If @EPA & @POTUS don't have to follow SCOTUS why should anyone else have to #ClimateFraud #SpecialReport #WakeUpAmerica #SemST           \n",
       "318   Govt announcement on zero carbon homes \"short-sighted, unnecessary, retrograde and damaging\" says @UKGBC #energyefficiency #SemST        \n",
       "320   We are not \"killing the Earth\". The Earth has been through worse and will be fine after all humans suffocate, drown or starve #SemST     \n",
       "326   The only thing \"man made\" about global warming is the false narrative. #WakeUpAmerica #boycottSanFrancisco #Election2016 #SemST          \n",
       "347   The Climate Change people are disgusting assholes. Money transfer scheme for elite. May you rot.   #SemST                                \n",
       "384   BREAKING: This just in, an ocean wave just broke an inch further on the beach than normal! #SemST                                        \n",
       "412   Climate change?! Explain the definition of climate change.. #fraud #CCOT #liberty #CruzCrew #SemST                                       \n",
       "417   Last time I checked, Al Gore is a politician, not a scientist.. #WCS15 #SemST                                                            \n",
       "627   I'm sick of celebrities who think being a well known actor makes them an authority on anything else. #robertredford #UN #SemST           \n",
       "628   [Man] cannot change the climate of any country; he adds no new element to the soil ~ Charles Darwin #anthropocene #SemST                 \n",
       "629   RedScareBot: Simple Malarkey RT gingerdr Global Warming/Climate Change all a HOAX. Communist agenda for control #sustainabil... #SemST   \n",
       "630   Artic Ice highest in 10 years for the month of June..yet no headlines.. #scam #SemST                                                     \n",
       "632   Noted climatologist, marine biologist,& oceanographer Ted Danson told us 27 yrs ago that the oceans would be dead in 10 yrs. #SemST      \n",
       "669   Global Warming! Global Warming! Global Warming!  Oh wait, it's summer.  #SemST                                                           \n",
       "670   GlblWarmingNews And the tooth fairy might be causing kids to lose teeth! #carbontaxscam #Chemtrails #SemST                               \n",
       "671   tsgtalexander: GlblWarmingNews And the tooth fairy might be causing kids to lose teeth! #carbontaxscam #Chemtrails #SemST                \n",
       "672   BrettGarrot: BrettGarrot: GlblWarmingNews And the tooth fairy might be causing kids to lose teeth! #carbontaxscam #Chemtrails #SemST     \n",
       "673   When did CO2 become a dangerous pollutant that must be curtailed? What do you exhale again? #Iwantanswers #SemST                         \n",
       "677   If ther clmate change alarmists come out in sept this year and tell me this was the hottest winter on record ill go postal #SemST        \n",
       "742   The Climate Change people are disgusting assholes. Money transfer scheme for elite. May you rot.   #SemST                                \n",
       "779   BREAKING: This just in, an ocean wave just broke an inch further on the beach than normal! #SemST                                        \n",
       "807   Climate change?! Explain the definition of climate change.. #fraud #CCOT #liberty #CruzCrew #SemST                                       \n",
       "812   Last time I checked, Al Gore is a politician, not a scientist.. #WCS15 #SemST                                                            \n",
       "1022  I'm sick of celebrities who think being a well known actor makes them an authority on anything else. #robertredford #UN #SemST           \n",
       "1023  [Man] cannot change the climate of any country; he adds no new element to the soil ~ Charles Darwin #anthropocene #SemST                 \n",
       "1024  RedScareBot: Simple Malarkey RT gingerdr Global Warming/Climate Change all a HOAX. Communist agenda for control #sustainabil... #SemST   \n",
       "1025  Artic Ice highest in 10 years for the month of June..yet no headlines.. #scam #SemST                                                     \n",
       "1027  Noted climatologist, marine biologist,& oceanographer Ted Danson told us 27 yrs ago that the oceans would be dead in 10 yrs. #SemST      \n",
       "1064  Global Warming! Global Warming! Global Warming!  Oh wait, it's summer.  #SemST                                                           \n",
       "1065  GlblWarmingNews And the tooth fairy might be causing kids to lose teeth! #carbontaxscam #Chemtrails #SemST                               \n",
       "1066  tsgtalexander: GlblWarmingNews And the tooth fairy might be causing kids to lose teeth! #carbontaxscam #Chemtrails #SemST                \n",
       "1067  BrettGarrot: BrettGarrot: GlblWarmingNews And the tooth fairy might be causing kids to lose teeth! #carbontaxscam #Chemtrails #SemST     \n",
       "1068  When did CO2 become a dangerous pollutant that must be curtailed? What do you exhale again? #Iwantanswers #SemST                         \n",
       "1072  If ther clmate change alarmists come out in sept this year and tell me this was the hottest winter on record ill go postal #SemST        \n",
       "\n",
       "        stance  \n",
       "99    disagree  \n",
       "109   disagree  \n",
       "120   disagree  \n",
       "127   disagree  \n",
       "136   disagree  \n",
       "145   disagree  \n",
       "146   disagree  \n",
       "147   disagree  \n",
       "149   disagree  \n",
       "151   disagree  \n",
       "157   disagree  \n",
       "268   disagree  \n",
       "278   disagree  \n",
       "289   disagree  \n",
       "296   disagree  \n",
       "305   disagree  \n",
       "314   disagree  \n",
       "315   disagree  \n",
       "316   disagree  \n",
       "318   disagree  \n",
       "320   disagree  \n",
       "326   disagree  \n",
       "347   disagree  \n",
       "384   disagree  \n",
       "412   disagree  \n",
       "417   disagree  \n",
       "627   disagree  \n",
       "628   disagree  \n",
       "629   disagree  \n",
       "630   disagree  \n",
       "632   disagree  \n",
       "669   disagree  \n",
       "670   disagree  \n",
       "671   disagree  \n",
       "672   disagree  \n",
       "673   disagree  \n",
       "677   disagree  \n",
       "742   disagree  \n",
       "779   disagree  \n",
       "807   disagree  \n",
       "812   disagree  \n",
       "1022  disagree  \n",
       "1023  disagree  \n",
       "1024  disagree  \n",
       "1025  disagree  \n",
       "1027  disagree  \n",
       "1064  disagree  \n",
       "1065  disagree  \n",
       "1066  disagree  \n",
       "1067  disagree  \n",
       "1068  disagree  \n",
       "1072  disagree  "
      ]
     },
     "execution_count": 26,
     "metadata": {},
     "output_type": "execute_result"
    }
   ],
   "source": [
    "labeled_data_df[labeled_data_df.stance=='disagree']"
   ]
  },
  {
   "cell_type": "markdown",
   "metadata": {
    "heading_collapsed": true
   },
   "source": [
    "# Dallas and Yiwei manually annotated news--not yet added"
   ]
  },
  {
   "cell_type": "code",
   "execution_count": 28,
   "metadata": {
    "hidden": true,
    "scrolled": true
   },
   "outputs": [],
   "source": [
    "import json\n",
    "dallas_labels = []\n",
    "with open('subsample_annotated_dbc.jsonlist') as f:\n",
    "    for line in f:\n",
    "        dallas_labels.append(json.loads(line))"
   ]
  },
  {
   "cell_type": "code",
   "execution_count": 29,
   "metadata": {
    "hidden": true
   },
   "outputs": [
    {
     "data": {
      "text/plain": [
       "300"
      ]
     },
     "execution_count": 29,
     "metadata": {},
     "output_type": "execute_result"
    }
   ],
   "source": [
    "len(dallas_labels)"
   ]
  },
  {
   "cell_type": "code",
   "execution_count": 34,
   "metadata": {
    "hidden": true,
    "scrolled": true
   },
   "outputs": [
    {
     "data": {
      "text/plain": [
       "[{'comp_clause': \"that measures such as conservation wo n't cost much and will buy insurance against global warming\",\n",
       "  'full': \"Some argue that measures such as conservation won't cost much and will buy insurance against global warming.\",\n",
       "  'key': 106901,\n",
       "  'label': 0},\n",
       " {'comp_clause': 'I became somewhat inspired',\n",
       "  'full': '\"I became somewhat inspired,\" he said.',\n",
       "  'key': 143590,\n",
       "  'label': 3},\n",
       " {'comp_clause': 'if he ’s joking',\n",
       "  'full': '“I would argue, as would many other beeologists,” he says, “that most bees are arguably cuter than most kids.” It’s hard to tell if he’s joking.',\n",
       "  'key': 61472,\n",
       "  'label': 3},\n",
       " {'comp_clause': 'the Earth habitable',\n",
       "  'full': 'Gases such as carbon dioxide trap the energy that pours down on the Earth from the sun, making the Earth habitable.',\n",
       "  'key': 276801,\n",
       "  'label': 2},\n",
       " {'comp_clause': 'Rescue workers tried to \\xa0 expand the sweater idea to pelicans \\xa0 during the Gulf spill in 2010',\n",
       "  'full': 'Rescue workers tried to\\xa0expand the sweater idea to pelicans\\xa0during the Gulf spill in 2010, The Christian Science Monitor reported.',\n",
       "  'key': 32669,\n",
       "  'label': 3},\n",
       " {'comp_clause': 'our government is not here officially , nor is yours',\n",
       "  'full': 'But, you know, I know a lot of the mainstream Canadian press will kind of poopoo this, and I know our government is not here officially, nor is yours.',\n",
       "  'key': 202097,\n",
       "  'label': 3},\n",
       " {'comp_clause': 'look , these guys now admit — well , because in our cases , when we were defending the tobacco companies against the state lawsuits , we were already of the position of admitting that smoking can be very dangerous for your health',\n",
       "  'full': 'But that was a harmful piece of evidence to tobacco, because we were able to show — the plaintiffs were showing this congressional testimony, which was on television or a movie or whatever it was, and they were saying, look, these guys now admit — well, because in our cases, when we were defending the tobacco companies against the state lawsuits, we were already of the position of admitting that smoking can be very dangerous for your health.',\n",
       "  'key': 145042,\n",
       "  'label': 3},\n",
       " {'comp_clause': 'how much they love the sport and how devoted to it they are',\n",
       "  'full': 'More than that, off court as well as on, and here the criticism becomes more intangible, the two best male players of the era, Federer and Rafael Nadal, have made a point of praising competitors and showing how much they love the sport and how devoted to it they are.',\n",
       "  'key': 78294,\n",
       "  'label': 3},\n",
       " {'comp_clause': 'There are still huge areas in the Barents Sea and Kara Sea to the east of \\xa0 Svalbard \\xa0 that are free of ice',\n",
       "  'full': '\"There are still huge areas in the Barents Sea and Kara Sea to the east of\\xa0Svalbard\\xa0that are free of ice,\" he said.',\n",
       "  'key': 105963,\n",
       "  'label': 0},\n",
       " {'comp_clause': 'It was all treated as , you know , you ’re too many , you ’re unwanted',\n",
       "  'full': 'It was all treated as, you know, you’re too many, you’re unwanted, we really didn’t invite you, this is our party.',\n",
       "  'key': 201890,\n",
       "  'label': 3}]"
      ]
     },
     "execution_count": 34,
     "metadata": {},
     "output_type": "execute_result"
    }
   ],
   "source": [
    "dallas_labels[10:20]"
   ]
  },
  {
   "cell_type": "code",
   "execution_count": 31,
   "metadata": {
    "hidden": true
   },
   "outputs": [],
   "source": [
    "yiwei_labels = pd.read_csv('subsample_annotated_yiwei.csv',header=None)"
   ]
  },
  {
   "cell_type": "code",
   "execution_count": 32,
   "metadata": {
    "hidden": true,
    "scrolled": true
   },
   "outputs": [
    {
     "data": {
      "text/html": [
       "<div>\n",
       "<style scoped>\n",
       "    .dataframe tbody tr th:only-of-type {\n",
       "        vertical-align: middle;\n",
       "    }\n",
       "\n",
       "    .dataframe tbody tr th {\n",
       "        vertical-align: top;\n",
       "    }\n",
       "\n",
       "    .dataframe thead th {\n",
       "        text-align: right;\n",
       "    }\n",
       "</style>\n",
       "<table border=\"1\" class=\"dataframe\">\n",
       "  <thead>\n",
       "    <tr style=\"text-align: right;\">\n",
       "      <th></th>\n",
       "      <th>0</th>\n",
       "      <th>1</th>\n",
       "      <th>2</th>\n",
       "      <th>3</th>\n",
       "    </tr>\n",
       "  </thead>\n",
       "  <tbody>\n",
       "    <tr>\n",
       "      <td>0</td>\n",
       "      <td>19565</td>\n",
       "      <td>Reading \"an early draft\" of a federal government report has helped David Ignatius see that the global warming debate is just like the tobacco wars of the past four decades [\"Naysay Now, Pay Later,\" op-ed, Aug. 18].</td>\n",
       "      <td>that the global warming debate is just like the tobacco wars of the past four decades</td>\n",
       "      <td>1</td>\n",
       "    </tr>\n",
       "    <tr>\n",
       "      <td>1</td>\n",
       "      <td>92670</td>\n",
       "      <td>We haven’t seen that in the observations,” Myles Allen, professor of geosystem science at the University of Oxford and one of the study’s authors, told the Times of London, as reported in The Independent.</td>\n",
       "      <td>that in the observations , ” Myles Allen , professor of geosystem science at the University of Oxford and one of the study ’s authors , told the Times of London , as reported in The Independent</td>\n",
       "      <td>2</td>\n",
       "    </tr>\n",
       "    <tr>\n",
       "      <td>2</td>\n",
       "      <td>152040</td>\n",
       "      <td>Describing it as a rare hybrid “superstorm,” forecasters say Sandy was created by an Arctic jet stream wrapping itself around a tropical storm.</td>\n",
       "      <td>Sandy was created by an Arctic jet stream wrapping itself around a tropical storm</td>\n",
       "      <td>2</td>\n",
       "    </tr>\n",
       "    <tr>\n",
       "      <td>3</td>\n",
       "      <td>191315</td>\n",
       "      <td>JEFFERSON CITY o Ameren Missouri says it must decide quickly on how to comply with proposed Environmental Protection Agency rules limiting carbon pollution.</td>\n",
       "      <td>it must decide quickly on how to comply with proposed Environmental Protection Agency rules limiting carbon pollution</td>\n",
       "      <td>2</td>\n",
       "    </tr>\n",
       "    <tr>\n",
       "      <td>4</td>\n",
       "      <td>250921</td>\n",
       "      <td>There was this exposé in the Times where you first were talking to Andrew Revkin and explaining what was happening under the Bush administration, and even before that, the suppression of your work when you testified before Congress to, what, Senator Al Gore at the time.</td>\n",
       "      <td>what was happening under the Bush administration ,</td>\n",
       "      <td>3</td>\n",
       "    </tr>\n",
       "  </tbody>\n",
       "</table>\n",
       "</div>"
      ],
      "text/plain": [
       "        0  \\\n",
       "0  19565    \n",
       "1  92670    \n",
       "2  152040   \n",
       "3  191315   \n",
       "4  250921   \n",
       "\n",
       "                                                                                                                                                                                                                                                                                1  \\\n",
       "0  Reading \"an early draft\" of a federal government report has helped David Ignatius see that the global warming debate is just like the tobacco wars of the past four decades [\"Naysay Now, Pay Later,\" op-ed, Aug. 18].                                                           \n",
       "1  We haven’t seen that in the observations,” Myles Allen, professor of geosystem science at the University of Oxford and one of the study’s authors, told the Times of London, as reported in The Independent.                                                                     \n",
       "2  Describing it as a rare hybrid “superstorm,” forecasters say Sandy was created by an Arctic jet stream wrapping itself around a tropical storm.                                                                                                                                  \n",
       "3  JEFFERSON CITY o Ameren Missouri says it must decide quickly on how to comply with proposed Environmental Protection Agency rules limiting carbon pollution.                                                                                                                     \n",
       "4  There was this exposé in the Times where you first were talking to Andrew Revkin and explaining what was happening under the Bush administration, and even before that, the suppression of your work when you testified before Congress to, what, Senator Al Gore at the time.   \n",
       "\n",
       "                                                                                                                                                                                                   2  \\\n",
       "0  that the global warming debate is just like the tobacco wars of the past four decades                                                                                                               \n",
       "1  that in the observations , ” Myles Allen , professor of geosystem science at the University of Oxford and one of the study ’s authors , told the Times of London , as reported in The Independent   \n",
       "2  Sandy was created by an Arctic jet stream wrapping itself around a tropical storm                                                                                                                   \n",
       "3  it must decide quickly on how to comply with proposed Environmental Protection Agency rules limiting carbon pollution                                                                               \n",
       "4  what was happening under the Bush administration ,                                                                                                                                                  \n",
       "\n",
       "   3  \n",
       "0  1  \n",
       "1  2  \n",
       "2  2  \n",
       "3  2  \n",
       "4  3  "
      ]
     },
     "execution_count": 32,
     "metadata": {},
     "output_type": "execute_result"
    }
   ],
   "source": [
    "yiwei_labels.head()"
   ]
  },
  {
   "cell_type": "code",
   "execution_count": 75,
   "metadata": {
    "hidden": true
   },
   "outputs": [],
   "source": [
    "anti_test_data = []\n",
    "pro_test_data = []\n",
    "with open(os.getcwd()+'/test_data/anti-cc/test_data.txt') as f:\n",
    "    for line in f:\n",
    "        anti_test_data.append(line.split('\\t'))\n",
    "with open(os.getcwd()+'/test_data/pro-cc/test_data.txt') as f:\n",
    "    for line in f:\n",
    "        pro_test_data.append(line.split('\\t'))"
   ]
  },
  {
   "cell_type": "code",
   "execution_count": 76,
   "metadata": {
    "hidden": true
   },
   "outputs": [
    {
     "data": {
      "text/plain": [
       "92804"
      ]
     },
     "execution_count": 76,
     "metadata": {},
     "output_type": "execute_result"
    }
   ],
   "source": [
    "len(anti_test_data)"
   ]
  },
  {
   "cell_type": "code",
   "execution_count": 77,
   "metadata": {
    "hidden": true
   },
   "outputs": [
    {
     "data": {
      "text/plain": [
       "['We ’re also doing some avian and marine mammal monitoring',\n",
       " '',\n",
       " 'sent_no_29 of https://www.csmonitor.com/Environment/2010/1012/Will-Google-wind-power-project-harm-wildlife-Depends-on-location.',\n",
       " '',\n",
       " '“We’re also doing some avian and marine mammal monitoring,” says Rhonda Jackson, a spokesman for Fishermen’s Energy.\\n']"
      ]
     },
     "execution_count": 77,
     "metadata": {},
     "output_type": "execute_result"
    }
   ],
   "source": [
    "anti_test_data[0]"
   ]
  },
  {
   "cell_type": "code",
   "execution_count": 78,
   "metadata": {
    "hidden": true
   },
   "outputs": [
    {
     "data": {
      "text/plain": [
       "581383"
      ]
     },
     "execution_count": 78,
     "metadata": {},
     "output_type": "execute_result"
    }
   ],
   "source": [
    "len(pro_test_data)"
   ]
  },
  {
   "cell_type": "code",
   "execution_count": 81,
   "metadata": {
    "hidden": true
   },
   "outputs": [
    {
     "data": {
      "text/plain": [
       "Counter({5: 286327,\n",
       "         1: 290241,\n",
       "         17: 2316,\n",
       "         6: 113,\n",
       "         7: 59,\n",
       "         9: 34,\n",
       "         29: 2,\n",
       "         14: 27,\n",
       "         11: 33,\n",
       "         8: 12,\n",
       "         15: 1,\n",
       "         53: 353,\n",
       "         273: 56,\n",
       "         292: 1,\n",
       "         111: 91,\n",
       "         106: 464,\n",
       "         138: 459,\n",
       "         271: 165,\n",
       "         103: 209,\n",
       "         145: 1,\n",
       "         107: 12,\n",
       "         60: 5,\n",
       "         75: 11,\n",
       "         54: 7,\n",
       "         68: 6,\n",
       "         132: 2,\n",
       "         94: 2,\n",
       "         128: 5,\n",
       "         348: 17,\n",
       "         95: 1,\n",
       "         57: 1,\n",
       "         283: 1,\n",
       "         71: 11,\n",
       "         354: 13,\n",
       "         360: 1,\n",
       "         380: 2,\n",
       "         401: 1,\n",
       "         74: 1,\n",
       "         129: 2,\n",
       "         69: 17,\n",
       "         369: 2,\n",
       "         414: 1,\n",
       "         70: 4,\n",
       "         77: 2,\n",
       "         318: 4,\n",
       "         117: 14,\n",
       "         91: 7,\n",
       "         139: 5,\n",
       "         121: 8,\n",
       "         130: 3,\n",
       "         358: 5,\n",
       "         362: 2,\n",
       "         287: 1,\n",
       "         169: 7,\n",
       "         186: 4,\n",
       "         203: 4,\n",
       "         277: 6,\n",
       "         382: 5,\n",
       "         279: 2,\n",
       "         90: 8,\n",
       "         109: 53,\n",
       "         141: 1,\n",
       "         113: 3,\n",
       "         119: 11,\n",
       "         359: 1,\n",
       "         387: 1,\n",
       "         115: 4,\n",
       "         386: 2,\n",
       "         403: 1,\n",
       "         420: 1,\n",
       "         375: 3,\n",
       "         2: 32,\n",
       "         19: 8,\n",
       "         86: 6,\n",
       "         285: 1,\n",
       "         162: 1,\n",
       "         361: 4,\n",
       "         377: 1,\n",
       "         352: 1,\n",
       "         18: 1,\n",
       "         72: 1,\n",
       "         89: 1,\n",
       "         390: 1,\n",
       "         429: 1,\n",
       "         124: 3,\n",
       "         159: 1,\n",
       "         341: 2,\n",
       "         371: 1,\n",
       "         152: 4,\n",
       "         96: 2,\n",
       "         87: 4,\n",
       "         135: 4,\n",
       "         143: 2,\n",
       "         160: 1,\n",
       "         73: 9,\n",
       "         320: 1,\n",
       "         122: 2,\n",
       "         311: 2,\n",
       "         101: 1,\n",
       "         158: 1,\n",
       "         120: 2,\n",
       "         46: 1,\n",
       "         147: 1,\n",
       "         356: 2,\n",
       "         136: 4,\n",
       "         64: 1,\n",
       "         98: 2,\n",
       "         127: 1,\n",
       "         290: 1,\n",
       "         407: 1,\n",
       "         366: 1,\n",
       "         383: 1,\n",
       "         114: 1,\n",
       "         353: 1,\n",
       "         112: 1,\n",
       "         373: 1,\n",
       "         92: 1,\n",
       "         155: 1,\n",
       "         370: 1,\n",
       "         374: 1,\n",
       "         395: 1})"
      ]
     },
     "execution_count": 81,
     "metadata": {},
     "output_type": "execute_result"
    }
   ],
   "source": [
    "Counter([len(d) for d in pro_test_data])"
   ]
  },
  {
   "cell_type": "markdown",
   "metadata": {
    "heading_collapsed": true
   },
   "source": [
    "# Yiwei unlabeled news"
   ]
  },
  {
   "cell_type": "code",
   "execution_count": 98,
   "metadata": {
    "hidden": true
   },
   "outputs": [],
   "source": [
    "all_url_df = pd.read_pickle('/Users/yiweiluo/Dropbox/research/\\\n",
    "QP2/code/Fox_and_friends/all_urls_meta_and_fulltext_df_2020.pkl')"
   ]
  },
  {
   "cell_type": "code",
   "execution_count": 99,
   "metadata": {
    "hidden": true
   },
   "outputs": [
    {
     "name": "stderr",
     "output_type": "stream",
     "text": [
      "/anaconda3/lib/python3.7/site-packages/ipykernel_launcher.py:1: UserWarning: Boolean Series key will be reindexed to match DataFrame index.\n",
      "  \"\"\"Entry point for launching an IPython kernel.\n"
     ]
    }
   ],
   "source": [
    "cc_all_url_df = all_url_df[all_url_df['topic'] == 'cc'][all_url_df['bad NYT'] == False]"
   ]
  },
  {
   "cell_type": "code",
   "execution_count": 100,
   "metadata": {
    "hidden": true
   },
   "outputs": [
    {
     "data": {
      "text/html": [
       "<div>\n",
       "<style scoped>\n",
       "    .dataframe tbody tr th:only-of-type {\n",
       "        vertical-align: middle;\n",
       "    }\n",
       "\n",
       "    .dataframe tbody tr th {\n",
       "        vertical-align: top;\n",
       "    }\n",
       "\n",
       "    .dataframe thead th {\n",
       "        text-align: right;\n",
       "    }\n",
       "</style>\n",
       "<table border=\"1\" class=\"dataframe\">\n",
       "  <thead>\n",
       "    <tr style=\"text-align: right;\">\n",
       "      <th></th>\n",
       "      <th>bad NYT</th>\n",
       "      <th>date</th>\n",
       "      <th>domain</th>\n",
       "      <th>fulltext</th>\n",
       "      <th>stance</th>\n",
       "      <th>title</th>\n",
       "      <th>topic</th>\n",
       "      <th>url</th>\n",
       "    </tr>\n",
       "  </thead>\n",
       "  <tbody>\n",
       "    <tr>\n",
       "      <td>1600</td>\n",
       "      <td>False</td>\n",
       "      <td>None</td>\n",
       "      <td>:///</td>\n",
       "      <td>If you can't sleep as much as you need durin...</td>\n",
       "      <td>anti</td>\n",
       "      <td>None</td>\n",
       "      <td>cc</td>\n",
       "      <td>foxnews.com/lifestyle/climate-change-might-be-...</td>\n",
       "    </tr>\n",
       "    <tr>\n",
       "      <td>1601</td>\n",
       "      <td>False</td>\n",
       "      <td>None</td>\n",
       "      <td>:///</td>\n",
       "      <td>Paper says draft document by scientists direct...</td>\n",
       "      <td>anti</td>\n",
       "      <td>None</td>\n",
       "      <td>cc</td>\n",
       "      <td>foxnews.com/opinion/climate-policy-get-ready-f...</td>\n",
       "    </tr>\n",
       "    <tr>\n",
       "      <td>1602</td>\n",
       "      <td>False</td>\n",
       "      <td>None</td>\n",
       "      <td>:///</td>\n",
       "      <td>The public's concern about global warming has ...</td>\n",
       "      <td>anti</td>\n",
       "      <td>None</td>\n",
       "      <td>cc</td>\n",
       "      <td>foxnews.com/opinion/physicist-dont-fall-for-th...</td>\n",
       "    </tr>\n",
       "    <tr>\n",
       "      <td>1603</td>\n",
       "      <td>False</td>\n",
       "      <td>None</td>\n",
       "      <td>:///</td>\n",
       "      <td>The federal report by dozens of U.S. governmen...</td>\n",
       "      <td>anti</td>\n",
       "      <td>None</td>\n",
       "      <td>cc</td>\n",
       "      <td>foxnews.com/politics/junk-science-studies-behi...</td>\n",
       "    </tr>\n",
       "    <tr>\n",
       "      <td>1604</td>\n",
       "      <td>False</td>\n",
       "      <td>None</td>\n",
       "      <td>:///</td>\n",
       "      <td>File photo - A statue of the Virgin Mary is ...</td>\n",
       "      <td>anti</td>\n",
       "      <td>None</td>\n",
       "      <td>cc</td>\n",
       "      <td>foxnews.com/science/10-years-after-hurricane-k...</td>\n",
       "    </tr>\n",
       "  </tbody>\n",
       "</table>\n",
       "</div>"
      ],
      "text/plain": [
       "      bad NYT  date domain                                           fulltext  \\\n",
       "1600    False  None   :///    If you can't sleep as much as you need durin...   \n",
       "1601    False  None   :///  Paper says draft document by scientists direct...   \n",
       "1602    False  None   :///  The public's concern about global warming has ...   \n",
       "1603    False  None   :///  The federal report by dozens of U.S. governmen...   \n",
       "1604    False  None   :///    File photo - A statue of the Virgin Mary is ...   \n",
       "\n",
       "     stance title topic                                                url  \n",
       "1600   anti  None    cc  foxnews.com/lifestyle/climate-change-might-be-...  \n",
       "1601   anti  None    cc  foxnews.com/opinion/climate-policy-get-ready-f...  \n",
       "1602   anti  None    cc  foxnews.com/opinion/physicist-dont-fall-for-th...  \n",
       "1603   anti  None    cc  foxnews.com/politics/junk-science-studies-behi...  \n",
       "1604   anti  None    cc  foxnews.com/science/10-years-after-hurricane-k...  "
      ]
     },
     "execution_count": 100,
     "metadata": {},
     "output_type": "execute_result"
    }
   ],
   "source": [
    "cc_all_url_df.head()"
   ]
  },
  {
   "cell_type": "code",
   "execution_count": 102,
   "metadata": {
    "hidden": true
   },
   "outputs": [
    {
     "data": {
      "text/plain": [
       "(17601, 8)"
      ]
     },
     "execution_count": 102,
     "metadata": {},
     "output_type": "execute_result"
    }
   ],
   "source": [
    "cc_all_url_df.shape"
   ]
  },
  {
   "cell_type": "code",
   "execution_count": 181,
   "metadata": {
    "hidden": true,
    "scrolled": true
   },
   "outputs": [],
   "source": [
    "from nltk.tokenize import sent_tokenize\n",
    "for ix,row in cc_all_url_df.iterrows():\n",
    "    source = row['url']\n",
    "    type_ = 'yiwei_news'\n",
    "    if row['fulltext'] is not None:\n",
    "        text = sent_tokenize(row['fulltext'])\n",
    "        unlabeled_data['text'].extend(text)\n",
    "        unlabeled_data['type'].extend([type_]*len(text))\n",
    "        unlabeled_data['source'].extend([source]*len(text))"
   ]
  },
  {
   "cell_type": "code",
   "execution_count": 192,
   "metadata": {
    "hidden": true
   },
   "outputs": [
    {
     "data": {
      "text/html": [
       "<div>\n",
       "<style scoped>\n",
       "    .dataframe tbody tr th:only-of-type {\n",
       "        vertical-align: middle;\n",
       "    }\n",
       "\n",
       "    .dataframe tbody tr th {\n",
       "        vertical-align: top;\n",
       "    }\n",
       "\n",
       "    .dataframe thead th {\n",
       "        text-align: right;\n",
       "    }\n",
       "</style>\n",
       "<table border=\"1\" class=\"dataframe\">\n",
       "  <thead>\n",
       "    <tr style=\"text-align: right;\">\n",
       "      <th></th>\n",
       "      <th>source</th>\n",
       "      <th>type</th>\n",
       "      <th>text</th>\n",
       "    </tr>\n",
       "  </thead>\n",
       "  <tbody>\n",
       "    <tr>\n",
       "      <td>0</td>\n",
       "      <td>climate_change1.0-6365 [SEP] 0</td>\n",
       "      <td>dallas_news</td>\n",
       "      <td>No Accord, and Little Optimism, at Bonn Talks ...</td>\n",
       "    </tr>\n",
       "    <tr>\n",
       "      <td>1</td>\n",
       "      <td>climate_change1.0-6365 [SEP] 1</td>\n",
       "      <td>dallas_news</td>\n",
       "      <td>Delegates from 143 countries ended their preli...</td>\n",
       "    </tr>\n",
       "    <tr>\n",
       "      <td>2</td>\n",
       "      <td>climate_change1.0-6365 [SEP] 2</td>\n",
       "      <td>dallas_news</td>\n",
       "      <td>The United States' long-awaited proposal for c...</td>\n",
       "    </tr>\n",
       "    <tr>\n",
       "      <td>3</td>\n",
       "      <td>climate_change1.0-6365 [SEP] 3</td>\n",
       "      <td>dallas_news</td>\n",
       "      <td>And there is no sign that American negotiators...</td>\n",
       "    </tr>\n",
       "    <tr>\n",
       "      <td>4</td>\n",
       "      <td>climate_change1.0-6365 [SEP] 4</td>\n",
       "      <td>dallas_news</td>\n",
       "      <td>Still, the Americans themselves said there was...</td>\n",
       "    </tr>\n",
       "    <tr>\n",
       "      <td>5</td>\n",
       "      <td>climate_change1.0-6365 [SEP] 5</td>\n",
       "      <td>dallas_news</td>\n",
       "      <td>Meanwhile, several small-scale but higher-leve...</td>\n",
       "    </tr>\n",
       "    <tr>\n",
       "      <td>6</td>\n",
       "      <td>climate_change1.0-6365 [SEP] 6</td>\n",
       "      <td>dallas_news</td>\n",
       "      <td>The goal of the conference is to revise the cl...</td>\n",
       "    </tr>\n",
       "    <tr>\n",
       "      <td>7</td>\n",
       "      <td>climate_change1.0-6365 [SEP] 7</td>\n",
       "      <td>dallas_news</td>\n",
       "      <td>\"There are enough ideas out there to have an a...</td>\n",
       "    </tr>\n",
       "    <tr>\n",
       "      <td>8</td>\n",
       "      <td>climate_change1.0-6365 [SEP] 8</td>\n",
       "      <td>dallas_news</td>\n",
       "      <td>\"We just don't see all the kinds of coalescenc...</td>\n",
       "    </tr>\n",
       "    <tr>\n",
       "      <td>9</td>\n",
       "      <td>climate_change1.0-6365 [SEP] 9</td>\n",
       "      <td>dallas_news</td>\n",
       "      <td>On the surface, the American proposal looks li...</td>\n",
       "    </tr>\n",
       "  </tbody>\n",
       "</table>\n",
       "</div>"
      ],
      "text/plain": [
       "                           source         type  \\\n",
       "0  climate_change1.0-6365 [SEP] 0  dallas_news   \n",
       "1  climate_change1.0-6365 [SEP] 1  dallas_news   \n",
       "2  climate_change1.0-6365 [SEP] 2  dallas_news   \n",
       "3  climate_change1.0-6365 [SEP] 3  dallas_news   \n",
       "4  climate_change1.0-6365 [SEP] 4  dallas_news   \n",
       "5  climate_change1.0-6365 [SEP] 5  dallas_news   \n",
       "6  climate_change1.0-6365 [SEP] 6  dallas_news   \n",
       "7  climate_change1.0-6365 [SEP] 7  dallas_news   \n",
       "8  climate_change1.0-6365 [SEP] 8  dallas_news   \n",
       "9  climate_change1.0-6365 [SEP] 9  dallas_news   \n",
       "\n",
       "                                                text  \n",
       "0  No Accord, and Little Optimism, at Bonn Talks ...  \n",
       "1  Delegates from 143 countries ended their preli...  \n",
       "2  The United States' long-awaited proposal for c...  \n",
       "3  And there is no sign that American negotiators...  \n",
       "4  Still, the Americans themselves said there was...  \n",
       "5  Meanwhile, several small-scale but higher-leve...  \n",
       "6  The goal of the conference is to revise the cl...  \n",
       "7  \"There are enough ideas out there to have an a...  \n",
       "8  \"We just don't see all the kinds of coalescenc...  \n",
       "9  On the surface, the American proposal looks li...  "
      ]
     },
     "execution_count": 192,
     "metadata": {},
     "output_type": "execute_result"
    }
   ],
   "source": [
    "unlabeled_data_df = pd.DataFrame(unlabeled_data)\n",
    "unlabeled_data_df.head(10)"
   ]
  },
  {
   "cell_type": "code",
   "execution_count": 193,
   "metadata": {
    "hidden": true
   },
   "outputs": [
    {
     "data": {
      "text/html": [
       "<div>\n",
       "<style scoped>\n",
       "    .dataframe tbody tr th:only-of-type {\n",
       "        vertical-align: middle;\n",
       "    }\n",
       "\n",
       "    .dataframe tbody tr th {\n",
       "        vertical-align: top;\n",
       "    }\n",
       "\n",
       "    .dataframe thead th {\n",
       "        text-align: right;\n",
       "    }\n",
       "</style>\n",
       "<table border=\"1\" class=\"dataframe\">\n",
       "  <thead>\n",
       "    <tr style=\"text-align: right;\">\n",
       "      <th></th>\n",
       "      <th>source</th>\n",
       "      <th>type</th>\n",
       "      <th>text</th>\n",
       "    </tr>\n",
       "  </thead>\n",
       "  <tbody>\n",
       "    <tr>\n",
       "      <td>1158101</td>\n",
       "      <td>https://pjmedia.com/trending/aoc-and-the-magic...</td>\n",
       "      <td>yiwei_news</td>\n",
       "      <td>and \"do you have a signed ration card from you...</td>\n",
       "    </tr>\n",
       "    <tr>\n",
       "      <td>1158102</td>\n",
       "      <td>https://pjmedia.com/trending/aoc-and-the-magic...</td>\n",
       "      <td>yiwei_news</td>\n",
       "      <td>You can stand by but there's no telling when a...</td>\n",
       "    </tr>\n",
       "    <tr>\n",
       "      <td>1158103</td>\n",
       "      <td>https://pjmedia.com/trending/aoc-and-the-magic...</td>\n",
       "      <td>yiwei_news</td>\n",
       "      <td>Comrade.</td>\n",
       "    </tr>\n",
       "    <tr>\n",
       "      <td>1158104</td>\n",
       "      <td>https://pjmedia.com/trending/aoc-and-the-magic...</td>\n",
       "      <td>yiwei_news</td>\n",
       "      <td>Now, a really good high-speed rail system woul...</td>\n",
       "    </tr>\n",
       "    <tr>\n",
       "      <td>1158105</td>\n",
       "      <td>https://pjmedia.com/trending/aoc-and-the-magic...</td>\n",
       "      <td>yiwei_news</td>\n",
       "      <td>Let's say something that can travel at 500 mil...</td>\n",
       "    </tr>\n",
       "    <tr>\n",
       "      <td>1158106</td>\n",
       "      <td>https://pjmedia.com/trending/aoc-and-the-magic...</td>\n",
       "      <td>yiwei_news</td>\n",
       "      <td>Something that can go to every major city, and...</td>\n",
       "    </tr>\n",
       "    <tr>\n",
       "      <td>1158107</td>\n",
       "      <td>https://pjmedia.com/trending/aoc-and-the-magic...</td>\n",
       "      <td>yiwei_news</td>\n",
       "      <td>Something that doesn't need new rights of way,...</td>\n",
       "    </tr>\n",
       "    <tr>\n",
       "      <td>1158108</td>\n",
       "      <td>https://pjmedia.com/trending/aoc-and-the-magic...</td>\n",
       "      <td>yiwei_news</td>\n",
       "      <td>Something where the rights of way are as free ...</td>\n",
       "    </tr>\n",
       "    <tr>\n",
       "      <td>1158109</td>\n",
       "      <td>https://pjmedia.com/trending/aoc-and-the-magic...</td>\n",
       "      <td>yiwei_news</td>\n",
       "      <td>But hoping for something like that is just cra...</td>\n",
       "    </tr>\n",
       "    <tr>\n",
       "      <td>1158110</td>\n",
       "      <td>https://pjmedia.com/trending/aoc-and-the-magic...</td>\n",
       "      <td>yiwei_news</td>\n",
       "      <td>https://pjmedia.com/trending/aoc-and-the-magic...</td>\n",
       "    </tr>\n",
       "  </tbody>\n",
       "</table>\n",
       "</div>"
      ],
      "text/plain": [
       "                                                    source        type  \\\n",
       "1158101  https://pjmedia.com/trending/aoc-and-the-magic...  yiwei_news   \n",
       "1158102  https://pjmedia.com/trending/aoc-and-the-magic...  yiwei_news   \n",
       "1158103  https://pjmedia.com/trending/aoc-and-the-magic...  yiwei_news   \n",
       "1158104  https://pjmedia.com/trending/aoc-and-the-magic...  yiwei_news   \n",
       "1158105  https://pjmedia.com/trending/aoc-and-the-magic...  yiwei_news   \n",
       "1158106  https://pjmedia.com/trending/aoc-and-the-magic...  yiwei_news   \n",
       "1158107  https://pjmedia.com/trending/aoc-and-the-magic...  yiwei_news   \n",
       "1158108  https://pjmedia.com/trending/aoc-and-the-magic...  yiwei_news   \n",
       "1158109  https://pjmedia.com/trending/aoc-and-the-magic...  yiwei_news   \n",
       "1158110  https://pjmedia.com/trending/aoc-and-the-magic...  yiwei_news   \n",
       "\n",
       "                                                      text  \n",
       "1158101  and \"do you have a signed ration card from you...  \n",
       "1158102  You can stand by but there's no telling when a...  \n",
       "1158103                                           Comrade.  \n",
       "1158104  Now, a really good high-speed rail system woul...  \n",
       "1158105  Let's say something that can travel at 500 mil...  \n",
       "1158106  Something that can go to every major city, and...  \n",
       "1158107  Something that doesn't need new rights of way,...  \n",
       "1158108  Something where the rights of way are as free ...  \n",
       "1158109  But hoping for something like that is just cra...  \n",
       "1158110  https://pjmedia.com/trending/aoc-and-the-magic...  "
      ]
     },
     "execution_count": 193,
     "metadata": {},
     "output_type": "execute_result"
    }
   ],
   "source": [
    "unlabeled_data_df.tail(10)"
   ]
  },
  {
   "cell_type": "markdown",
   "metadata": {},
   "source": [
    "# Clean, dedup, filter labeled and unlabeled data"
   ]
  },
  {
   "cell_type": "code",
   "execution_count": 110,
   "metadata": {
    "code_folding": [
     1,
     4,
     12
    ]
   },
   "outputs": [],
   "source": [
    "# Functions for importing & cleaning labeled items\n",
    "def lower(s):\n",
    "    return s.lower()\n",
    "\n",
    "def imports(filename):\n",
    "    imp = pd.read_pickle(filename)\n",
    "    imp = imp.drop_duplicates()\n",
    "    imp['sent_clean'] = imp['sentence'].str.replace('http\\S+|www.\\S+|pic.twitter.com\\S+', '', case=False)\n",
    "    #imp['sent_clean'] = imp['sentence'].replace('[^A-Za-z0-9 ]+','',regex=True)\n",
    "    imp['sent_clean'] = imp['sent_clean'].apply(lower)\n",
    "    return imp\n",
    "\n",
    "def clean(x):\n",
    "    return x.replace('http\\S+|www.\\S+|pic.twitter.com\\S+', '')"
   ]
  },
  {
   "cell_type": "code",
   "execution_count": 194,
   "metadata": {},
   "outputs": [],
   "source": [
    "unlabeled_data_df = unlabeled_data_df.dropna()\n",
    "unlabeled_data_df['text'] = unlabeled_data_df['text'].apply(clean)\n",
    "unlabeled_data_df.drop_duplicates(subset= 'text',inplace=True)\n",
    "unlabeled_data_df = unlabeled_data_df.reset_index()"
   ]
  },
  {
   "cell_type": "code",
   "execution_count": 195,
   "metadata": {},
   "outputs": [],
   "source": [
    "labeled_data_df = labeled_data_df.dropna()\n",
    "labeled_data_df['text'] = labeled_data_df['text'].apply(clean)\n",
    "labeled_data_df.drop_duplicates(subset= 'text',inplace=True)\n",
    "labeled_data_df = labeled_data_df.reset_index()"
   ]
  },
  {
   "cell_type": "code",
   "execution_count": 196,
   "metadata": {},
   "outputs": [],
   "source": [
    "labeled_data_df = labeled_data_df.drop(['index'],axis=1)"
   ]
  },
  {
   "cell_type": "code",
   "execution_count": 197,
   "metadata": {},
   "outputs": [
    {
     "data": {
      "text/plain": [
       "(866654, 4)"
      ]
     },
     "execution_count": 197,
     "metadata": {},
     "output_type": "execute_result"
    }
   ],
   "source": [
    "unlabeled_data_df.shape"
   ]
  },
  {
   "cell_type": "code",
   "execution_count": 198,
   "metadata": {},
   "outputs": [
    {
     "data": {
      "text/plain": [
       "(39228, 4)"
      ]
     },
     "execution_count": 198,
     "metadata": {},
     "output_type": "execute_result"
    }
   ],
   "source": [
    "labeled_data_df.shape"
   ]
  },
  {
   "cell_type": "code",
   "execution_count": null,
   "metadata": {},
   "outputs": [],
   "source": [
    "# summary of what's included"
   ]
  },
  {
   "cell_type": "code",
   "execution_count": 199,
   "metadata": {},
   "outputs": [
    {
     "data": {
      "text/html": [
       "<div>\n",
       "<style scoped>\n",
       "    .dataframe tbody tr th:only-of-type {\n",
       "        vertical-align: middle;\n",
       "    }\n",
       "\n",
       "    .dataframe tbody tr th {\n",
       "        vertical-align: top;\n",
       "    }\n",
       "\n",
       "    .dataframe thead th {\n",
       "        text-align: right;\n",
       "    }\n",
       "</style>\n",
       "<table border=\"1\" class=\"dataframe\">\n",
       "  <thead>\n",
       "    <tr style=\"text-align: right;\">\n",
       "      <th></th>\n",
       "      <th>index</th>\n",
       "      <th>source</th>\n",
       "      <th>type</th>\n",
       "      <th>text</th>\n",
       "    </tr>\n",
       "  </thead>\n",
       "  <tbody>\n",
       "    <tr>\n",
       "      <td>866644</td>\n",
       "      <td>1158101</td>\n",
       "      <td>https://pjmedia.com/trending/aoc-and-the-magic...</td>\n",
       "      <td>yiwei_news</td>\n",
       "      <td>and \"do you have a signed ration card from you...</td>\n",
       "    </tr>\n",
       "    <tr>\n",
       "      <td>866645</td>\n",
       "      <td>1158102</td>\n",
       "      <td>https://pjmedia.com/trending/aoc-and-the-magic...</td>\n",
       "      <td>yiwei_news</td>\n",
       "      <td>You can stand by but there's no telling when a...</td>\n",
       "    </tr>\n",
       "    <tr>\n",
       "      <td>866646</td>\n",
       "      <td>1158103</td>\n",
       "      <td>https://pjmedia.com/trending/aoc-and-the-magic...</td>\n",
       "      <td>yiwei_news</td>\n",
       "      <td>Comrade.</td>\n",
       "    </tr>\n",
       "    <tr>\n",
       "      <td>866647</td>\n",
       "      <td>1158104</td>\n",
       "      <td>https://pjmedia.com/trending/aoc-and-the-magic...</td>\n",
       "      <td>yiwei_news</td>\n",
       "      <td>Now, a really good high-speed rail system woul...</td>\n",
       "    </tr>\n",
       "    <tr>\n",
       "      <td>866648</td>\n",
       "      <td>1158105</td>\n",
       "      <td>https://pjmedia.com/trending/aoc-and-the-magic...</td>\n",
       "      <td>yiwei_news</td>\n",
       "      <td>Let's say something that can travel at 500 mil...</td>\n",
       "    </tr>\n",
       "    <tr>\n",
       "      <td>866649</td>\n",
       "      <td>1158106</td>\n",
       "      <td>https://pjmedia.com/trending/aoc-and-the-magic...</td>\n",
       "      <td>yiwei_news</td>\n",
       "      <td>Something that can go to every major city, and...</td>\n",
       "    </tr>\n",
       "    <tr>\n",
       "      <td>866650</td>\n",
       "      <td>1158107</td>\n",
       "      <td>https://pjmedia.com/trending/aoc-and-the-magic...</td>\n",
       "      <td>yiwei_news</td>\n",
       "      <td>Something that doesn't need new rights of way,...</td>\n",
       "    </tr>\n",
       "    <tr>\n",
       "      <td>866651</td>\n",
       "      <td>1158108</td>\n",
       "      <td>https://pjmedia.com/trending/aoc-and-the-magic...</td>\n",
       "      <td>yiwei_news</td>\n",
       "      <td>Something where the rights of way are as free ...</td>\n",
       "    </tr>\n",
       "    <tr>\n",
       "      <td>866652</td>\n",
       "      <td>1158109</td>\n",
       "      <td>https://pjmedia.com/trending/aoc-and-the-magic...</td>\n",
       "      <td>yiwei_news</td>\n",
       "      <td>But hoping for something like that is just cra...</td>\n",
       "    </tr>\n",
       "    <tr>\n",
       "      <td>866653</td>\n",
       "      <td>1158110</td>\n",
       "      <td>https://pjmedia.com/trending/aoc-and-the-magic...</td>\n",
       "      <td>yiwei_news</td>\n",
       "      <td>https://pjmedia.com/trending/aoc-and-the-magic...</td>\n",
       "    </tr>\n",
       "  </tbody>\n",
       "</table>\n",
       "</div>"
      ],
      "text/plain": [
       "          index                                             source  \\\n",
       "866644  1158101  https://pjmedia.com/trending/aoc-and-the-magic...   \n",
       "866645  1158102  https://pjmedia.com/trending/aoc-and-the-magic...   \n",
       "866646  1158103  https://pjmedia.com/trending/aoc-and-the-magic...   \n",
       "866647  1158104  https://pjmedia.com/trending/aoc-and-the-magic...   \n",
       "866648  1158105  https://pjmedia.com/trending/aoc-and-the-magic...   \n",
       "866649  1158106  https://pjmedia.com/trending/aoc-and-the-magic...   \n",
       "866650  1158107  https://pjmedia.com/trending/aoc-and-the-magic...   \n",
       "866651  1158108  https://pjmedia.com/trending/aoc-and-the-magic...   \n",
       "866652  1158109  https://pjmedia.com/trending/aoc-and-the-magic...   \n",
       "866653  1158110  https://pjmedia.com/trending/aoc-and-the-magic...   \n",
       "\n",
       "              type                                               text  \n",
       "866644  yiwei_news  and \"do you have a signed ration card from you...  \n",
       "866645  yiwei_news  You can stand by but there's no telling when a...  \n",
       "866646  yiwei_news                                           Comrade.  \n",
       "866647  yiwei_news  Now, a really good high-speed rail system woul...  \n",
       "866648  yiwei_news  Let's say something that can travel at 500 mil...  \n",
       "866649  yiwei_news  Something that can go to every major city, and...  \n",
       "866650  yiwei_news  Something that doesn't need new rights of way,...  \n",
       "866651  yiwei_news  Something where the rights of way are as free ...  \n",
       "866652  yiwei_news  But hoping for something like that is just cra...  \n",
       "866653  yiwei_news  https://pjmedia.com/trending/aoc-and-the-magic...  "
      ]
     },
     "execution_count": 199,
     "metadata": {},
     "output_type": "execute_result"
    }
   ],
   "source": [
    "unlabeled_data_df.tail(10)"
   ]
  },
  {
   "cell_type": "code",
   "execution_count": 1,
   "metadata": {},
   "outputs": [
    {
     "ename": "NameError",
     "evalue": "name 'unlabeled_data_df' is not defined",
     "output_type": "error",
     "traceback": [
      "\u001b[0;31m---------------------------------------------------------------------------\u001b[0m",
      "\u001b[0;31mNameError\u001b[0m                                 Traceback (most recent call last)",
      "\u001b[0;32m<ipython-input-1-c309129b2bf5>\u001b[0m in \u001b[0;36m<module>\u001b[0;34m\u001b[0m\n\u001b[0;32m----> 1\u001b[0;31m \u001b[0munlabeled_data_df\u001b[0m\u001b[0;34m[\u001b[0m\u001b[0;34m'type'\u001b[0m\u001b[0;34m]\u001b[0m\u001b[0;34m.\u001b[0m\u001b[0mvalue_counts\u001b[0m\u001b[0;34m(\u001b[0m\u001b[0;34m)\u001b[0m\u001b[0;34m\u001b[0m\u001b[0;34m\u001b[0m\u001b[0m\n\u001b[0m",
      "\u001b[0;31mNameError\u001b[0m: name 'unlabeled_data_df' is not defined"
     ]
    }
   ],
   "source": [
    "unlabeled_data_df['type'].value_counts() "
   ]
  },
  {
   "cell_type": "code",
   "execution_count": null,
   "metadata": {
    "scrolled": true
   },
   "outputs": [],
   "source": [
    "labeled_data_df"
   ]
  },
  {
   "cell_type": "code",
   "execution_count": 173,
   "metadata": {},
   "outputs": [],
   "source": [
    "labeled_data_df.to_csv('labeled_data_df')"
   ]
  },
  {
   "cell_type": "code",
   "execution_count": 202,
   "metadata": {},
   "outputs": [
    {
     "data": {
      "text/plain": [
       "agree       31629\n",
       "disagree     6534\n",
       "neutral      1065\n",
       "Name: stance, dtype: int64"
      ]
     },
     "execution_count": 202,
     "metadata": {},
     "output_type": "execute_result"
    }
   ],
   "source": [
    "labeled_data_df['stance'].value_counts()"
   ]
  },
  {
   "cell_type": "code",
   "execution_count": 203,
   "metadata": {},
   "outputs": [
    {
     "data": {
      "text/plain": [
       "dallas_news             36624\n",
       "mturk                    2040\n",
       "semeval_train_tweets      395\n",
       "semeval_tweets            169\n",
       "Name: type, dtype: int64"
      ]
     },
     "execution_count": 203,
     "metadata": {},
     "output_type": "execute_result"
    }
   ],
   "source": [
    "labeled_data_df['type'].value_counts()"
   ]
  },
  {
   "cell_type": "code",
   "execution_count": 3,
   "metadata": {
    "scrolled": true
   },
   "outputs": [],
   "source": [
    "labeled_data_df = pd.read_csv(os.getcwd()+'/tweet-stance-prediction/data/labeled_data_df')"
   ]
  },
  {
   "cell_type": "code",
   "execution_count": 4,
   "metadata": {
    "scrolled": true
   },
   "outputs": [
    {
     "data": {
      "text/plain": [
       "(39228, 5)"
      ]
     },
     "execution_count": 4,
     "metadata": {},
     "output_type": "execute_result"
    }
   ],
   "source": [
    "labeled_data_df.shape"
   ]
  },
  {
   "cell_type": "code",
   "execution_count": 5,
   "metadata": {},
   "outputs": [
    {
     "data": {
      "text/plain": [
       "dallas_news             36624\n",
       "mturk                   2040 \n",
       "semeval_train_tweets    395  \n",
       "semeval_tweets          169  \n",
       "Name: type, dtype: int64"
      ]
     },
     "execution_count": 5,
     "metadata": {},
     "output_type": "execute_result"
    }
   ],
   "source": [
    "labeled_data_df.type.value_counts()"
   ]
  },
  {
   "cell_type": "code",
   "execution_count": 6,
   "metadata": {},
   "outputs": [
    {
     "data": {
      "text/plain": [
       "agree       30517\n",
       "disagree    6107 \n",
       "Name: stance, dtype: int64"
      ]
     },
     "execution_count": 6,
     "metadata": {},
     "output_type": "execute_result"
    }
   ],
   "source": [
    "labeled_data_df.loc[labeled_data_df.type=='dallas_news'].stance.value_counts()"
   ]
  },
  {
   "cell_type": "code",
   "execution_count": null,
   "metadata": {},
   "outputs": [],
   "source": []
  },
  {
   "cell_type": "code",
   "execution_count": null,
   "metadata": {},
   "outputs": [],
   "source": []
  },
  {
   "cell_type": "code",
   "execution_count": null,
   "metadata": {},
   "outputs": [],
   "source": []
  },
  {
   "cell_type": "code",
   "execution_count": null,
   "metadata": {},
   "outputs": [],
   "source": []
  },
  {
   "cell_type": "code",
   "execution_count": null,
   "metadata": {},
   "outputs": [],
   "source": []
  },
  {
   "cell_type": "code",
   "execution_count": 39,
   "metadata": {},
   "outputs": [],
   "source": [
    "mturk_data = labeled_data_df[labeled_data_df.type=='mturk']"
   ]
  },
  {
   "cell_type": "code",
   "execution_count": 40,
   "metadata": {},
   "outputs": [
    {
     "data": {
      "text/plain": [
       "(2040, 5)"
      ]
     },
     "execution_count": 40,
     "metadata": {},
     "output_type": "execute_result"
    }
   ],
   "source": [
    "mturk_data.shape"
   ]
  },
  {
   "cell_type": "code",
   "execution_count": 41,
   "metadata": {},
   "outputs": [
    {
     "data": {
      "text/plain": [
       "neutral     862\n",
       "agree       777\n",
       "disagree    401\n",
       "Name: stance, dtype: int64"
      ]
     },
     "execution_count": 41,
     "metadata": {},
     "output_type": "execute_result"
    }
   ],
   "source": [
    "mturk_data.stance.value_counts()"
   ]
  },
  {
   "cell_type": "code",
   "execution_count": null,
   "metadata": {},
   "outputs": [],
   "source": []
  },
  {
   "cell_type": "code",
   "execution_count": 158,
   "metadata": {
    "scrolled": true
   },
   "outputs": [],
   "source": [
    "dallas_sentence_scores = pd.read_csv('/Users/yiweiluo/scientific-debates/\\\n",
    "cc_stance/MTurk_results/sent_scores_df.tsv',delimiter='\\t')\n",
    "dallas_sentence_scores['max_prob_label'] = dallas_sentence_scores[['disagree',\n",
    "                                                                  'neutral',\n",
    "                                                                  'agree']].idxmax(axis=1)"
   ]
  },
  {
   "cell_type": "code",
   "execution_count": 161,
   "metadata": {},
   "outputs": [
    {
     "data": {
      "text/html": [
       "<div>\n",
       "<style scoped>\n",
       "    .dataframe tbody tr th:only-of-type {\n",
       "        vertical-align: middle;\n",
       "    }\n",
       "\n",
       "    .dataframe tbody tr th {\n",
       "        vertical-align: top;\n",
       "    }\n",
       "\n",
       "    .dataframe thead th {\n",
       "        text-align: right;\n",
       "    }\n",
       "</style>\n",
       "<table border=\"1\" class=\"dataframe\">\n",
       "  <thead>\n",
       "    <tr style=\"text-align: right;\">\n",
       "      <th></th>\n",
       "      <th>source</th>\n",
       "      <th>type</th>\n",
       "      <th>text</th>\n",
       "      <th>stance</th>\n",
       "    </tr>\n",
       "  </thead>\n",
       "  <tbody>\n",
       "    <tr>\n",
       "      <td>0</td>\n",
       "      <td>climate_change1.0-12174 [SEP] 0</td>\n",
       "      <td>dallas_news</td>\n",
       "      <td>It's about seeing the forest and the trees in ...</td>\n",
       "      <td>agree</td>\n",
       "    </tr>\n",
       "    <tr>\n",
       "      <td>1</td>\n",
       "      <td>climate_change1.0-12174 [SEP] 1</td>\n",
       "      <td>dallas_news</td>\n",
       "      <td>Two of his colleagues dangled on ropes 100 fee...</td>\n",
       "      <td>agree</td>\n",
       "    </tr>\n",
       "    <tr>\n",
       "      <td>2</td>\n",
       "      <td>climate_change1.0-12174 [SEP] 2</td>\n",
       "      <td>dallas_news</td>\n",
       "      <td>Steve Sillett could hardly contain his excitem...</td>\n",
       "      <td>agree</td>\n",
       "    </tr>\n",
       "    <tr>\n",
       "      <td>3</td>\n",
       "      <td>climate_change1.0-12174 [SEP] 3</td>\n",
       "      <td>dallas_news</td>\n",
       "      <td>\"This site is just juicy.</td>\n",
       "      <td>agree</td>\n",
       "    </tr>\n",
       "    <tr>\n",
       "      <td>4</td>\n",
       "      <td>climate_change1.0-12174 [SEP] 4</td>\n",
       "      <td>dallas_news</td>\n",
       "      <td>It's loaded,\" said Sillett, gazing up at the a...</td>\n",
       "      <td>agree</td>\n",
       "    </tr>\n",
       "    <tr>\n",
       "      <td>5</td>\n",
       "      <td>climate_change1.0-12174 [SEP] 5</td>\n",
       "      <td>dallas_news</td>\n",
       "      <td>\"There are amazing lichens up there.</td>\n",
       "      <td>agree</td>\n",
       "    </tr>\n",
       "    <tr>\n",
       "      <td>6</td>\n",
       "      <td>climate_change1.0-12174 [SEP] 6</td>\n",
       "      <td>dallas_news</td>\n",
       "      <td>There are aphids being hunted by ladybugs.</td>\n",
       "      <td>agree</td>\n",
       "    </tr>\n",
       "    <tr>\n",
       "      <td>7</td>\n",
       "      <td>climate_change1.0-12174 [SEP] 7</td>\n",
       "      <td>dallas_news</td>\n",
       "      <td>I found a sizable dogwood tree growing from a ...</td>\n",
       "      <td>agree</td>\n",
       "    </tr>\n",
       "    <tr>\n",
       "      <td>8</td>\n",
       "      <td>climate_change1.0-12174 [SEP] 8</td>\n",
       "      <td>dallas_news</td>\n",
       "      <td>The foggy, lost worlds atop the world's bigges...</td>\n",
       "      <td>agree</td>\n",
       "    </tr>\n",
       "    <tr>\n",
       "      <td>9</td>\n",
       "      <td>climate_change1.0-12174 [SEP] 9</td>\n",
       "      <td>dallas_news</td>\n",
       "      <td>Concerned that rising temperatures across Cali...</td>\n",
       "      <td>agree</td>\n",
       "    </tr>\n",
       "  </tbody>\n",
       "</table>\n",
       "</div>"
      ],
      "text/plain": [
       "                            source         type  \\\n",
       "0  climate_change1.0-12174 [SEP] 0  dallas_news   \n",
       "1  climate_change1.0-12174 [SEP] 1  dallas_news   \n",
       "2  climate_change1.0-12174 [SEP] 2  dallas_news   \n",
       "3  climate_change1.0-12174 [SEP] 3  dallas_news   \n",
       "4  climate_change1.0-12174 [SEP] 4  dallas_news   \n",
       "5  climate_change1.0-12174 [SEP] 5  dallas_news   \n",
       "6  climate_change1.0-12174 [SEP] 6  dallas_news   \n",
       "7  climate_change1.0-12174 [SEP] 7  dallas_news   \n",
       "8  climate_change1.0-12174 [SEP] 8  dallas_news   \n",
       "9  climate_change1.0-12174 [SEP] 9  dallas_news   \n",
       "\n",
       "                                                text stance  \n",
       "0  It's about seeing the forest and the trees in ...  agree  \n",
       "1  Two of his colleagues dangled on ropes 100 fee...  agree  \n",
       "2  Steve Sillett could hardly contain his excitem...  agree  \n",
       "3                          \"This site is just juicy.  agree  \n",
       "4  It's loaded,\" said Sillett, gazing up at the a...  agree  \n",
       "5               \"There are amazing lichens up there.  agree  \n",
       "6         There are aphids being hunted by ladybugs.  agree  \n",
       "7  I found a sizable dogwood tree growing from a ...  agree  \n",
       "8  The foggy, lost worlds atop the world's bigges...  agree  \n",
       "9  Concerned that rising temperatures across Cali...  agree  "
      ]
     },
     "execution_count": 161,
     "metadata": {},
     "output_type": "execute_result"
    }
   ],
   "source": [
    "labeled_data['source'].extend(['round{}_batch{}_sentid{}'.format(row['round'],\n",
    "                                                              row['batch'],\n",
    "                                                              row['sent_id'])\n",
    "                              for ix,row in dallas_sentence_scores.iterrows()])\n",
    "labeled_data['type'].extend(['mturk']*len(dallas_sentence_scores))\n",
    "labeled_data['text'].extend([row['sentence'] for ix,row in \n",
    "                             dallas_sentence_scores.iterrows()])\n",
    "labeled_data['stance'].extend([row['max_prob_label'] for ix,row in \n",
    "                             dallas_sentence_scores.iterrows()])\n",
    "labeled_data_df = pd.DataFrame(labeled_data)\n",
    "labeled_data_df.head(10)"
   ]
  },
  {
   "cell_type": "code",
   "execution_count": 159,
   "metadata": {},
   "outputs": [
    {
     "data": {
      "text/html": [
       "<div>\n",
       "<style scoped>\n",
       "    .dataframe tbody tr th:only-of-type {\n",
       "        vertical-align: middle;\n",
       "    }\n",
       "\n",
       "    .dataframe tbody tr th {\n",
       "        vertical-align: top;\n",
       "    }\n",
       "\n",
       "    .dataframe thead th {\n",
       "        text-align: right;\n",
       "    }\n",
       "</style>\n",
       "<table border=\"1\" class=\"dataframe\">\n",
       "  <thead>\n",
       "    <tr style=\"text-align: right;\">\n",
       "      <th></th>\n",
       "      <th>Unnamed: 0</th>\n",
       "      <th>round</th>\n",
       "      <th>batch</th>\n",
       "      <th>sent_id</th>\n",
       "      <th>disagree</th>\n",
       "      <th>neutral</th>\n",
       "      <th>agree</th>\n",
       "      <th>sentence</th>\n",
       "      <th>max_prob_label</th>\n",
       "    </tr>\n",
       "  </thead>\n",
       "  <tbody>\n",
       "    <tr>\n",
       "      <td>0</td>\n",
       "      <td>0</td>\n",
       "      <td>1</td>\n",
       "      <td>0</td>\n",
       "      <td>t0</td>\n",
       "      <td>0.004241</td>\n",
       "      <td>0.260963</td>\n",
       "      <td>0.734797</td>\n",
       "      <td>Warmer-than-normal sea surface temperatures ar...</td>\n",
       "      <td>agree</td>\n",
       "    </tr>\n",
       "    <tr>\n",
       "      <td>1</td>\n",
       "      <td>1</td>\n",
       "      <td>1</td>\n",
       "      <td>0</td>\n",
       "      <td>t1</td>\n",
       "      <td>0.001548</td>\n",
       "      <td>0.996214</td>\n",
       "      <td>0.002239</td>\n",
       "      <td>We will continue to rely in part on fossil fue...</td>\n",
       "      <td>neutral</td>\n",
       "    </tr>\n",
       "    <tr>\n",
       "      <td>2</td>\n",
       "      <td>2</td>\n",
       "      <td>1</td>\n",
       "      <td>0</td>\n",
       "      <td>t10</td>\n",
       "      <td>0.001440</td>\n",
       "      <td>0.996503</td>\n",
       "      <td>0.002057</td>\n",
       "      <td>The actual rise in sea levels measured only 1....</td>\n",
       "      <td>neutral</td>\n",
       "    </tr>\n",
       "    <tr>\n",
       "      <td>3</td>\n",
       "      <td>3</td>\n",
       "      <td>1</td>\n",
       "      <td>0</td>\n",
       "      <td>t11</td>\n",
       "      <td>0.996815</td>\n",
       "      <td>0.001588</td>\n",
       "      <td>0.001596</td>\n",
       "      <td>Claims of global warming have been greatly exa...</td>\n",
       "      <td>disagree</td>\n",
       "    </tr>\n",
       "    <tr>\n",
       "      <td>4</td>\n",
       "      <td>4</td>\n",
       "      <td>1</td>\n",
       "      <td>0</td>\n",
       "      <td>t12</td>\n",
       "      <td>0.035201</td>\n",
       "      <td>0.959757</td>\n",
       "      <td>0.005042</td>\n",
       "      <td>The Intergovernmental Panel on Climate Change ...</td>\n",
       "      <td>neutral</td>\n",
       "    </tr>\n",
       "  </tbody>\n",
       "</table>\n",
       "</div>"
      ],
      "text/plain": [
       "   Unnamed: 0  round  batch sent_id  disagree   neutral     agree  \\\n",
       "0           0      1      0      t0  0.004241  0.260963  0.734797   \n",
       "1           1      1      0      t1  0.001548  0.996214  0.002239   \n",
       "2           2      1      0     t10  0.001440  0.996503  0.002057   \n",
       "3           3      1      0     t11  0.996815  0.001588  0.001596   \n",
       "4           4      1      0     t12  0.035201  0.959757  0.005042   \n",
       "\n",
       "                                            sentence max_prob_label  \n",
       "0  Warmer-than-normal sea surface temperatures ar...          agree  \n",
       "1  We will continue to rely in part on fossil fue...        neutral  \n",
       "2  The actual rise in sea levels measured only 1....        neutral  \n",
       "3  Claims of global warming have been greatly exa...       disagree  \n",
       "4  The Intergovernmental Panel on Climate Change ...        neutral  "
      ]
     },
     "execution_count": 159,
     "metadata": {},
     "output_type": "execute_result"
    }
   ],
   "source": [
    "#dallas_sentence_scores.to_pickle('dallas_sent_scores.pkl')\n",
    "dallas_sentence_scores.head()"
   ]
  },
  {
   "cell_type": "code",
   "execution_count": 206,
   "metadata": {},
   "outputs": [
    {
     "data": {
      "text/plain": [
       "'Evidence now leans against global warming resulting from human-related greenhouse gas emissions.'"
      ]
     },
     "execution_count": 206,
     "metadata": {},
     "output_type": "execute_result"
    }
   ],
   "source": [
    "dallas_sentence_scores['sentence'][5]"
   ]
  },
  {
   "cell_type": "markdown",
   "metadata": {},
   "source": [
    "# Create train / val / test split"
   ]
  },
  {
   "cell_type": "code",
   "execution_count": 10,
   "metadata": {},
   "outputs": [
    {
     "name": "stdout",
     "output_type": "stream",
     "text": [
      "2050 783 863 404\n"
     ]
    }
   ],
   "source": [
    "all_train = sentence_df[['round','batch','sent_id','disagree','neutral','agree',\n",
    "                        'max_prob_label','sent_clean']]\n",
    "\n",
    "print(len(all_train), len(all_train[all_train['max_prob_label']=='agree']), \n",
    "      len(all_train[all_train['max_prob_label']=='neutral']),\n",
    "     len(all_train[all_train['max_prob_label']=='disagree']))"
   ]
  },
  {
   "cell_type": "code",
   "execution_count": 11,
   "metadata": {},
   "outputs": [
    {
     "name": "stdout",
     "output_type": "stream",
     "text": [
      "1381\n"
     ]
    }
   ],
   "source": [
    "sub_train = all_train[all_train['sent_clean'].str.\\\n",
    "                      contains(\"climate|change|global|warming\")==True]\n",
    "print(len(sub_train))"
   ]
  },
  {
   "cell_type": "code",
   "execution_count": 13,
   "metadata": {},
   "outputs": [
    {
     "data": {
      "text/plain": [
       "2100"
      ]
     },
     "execution_count": 13,
     "metadata": {},
     "output_type": "execute_result"
    }
   ],
   "source": [
    "300+400+400+500+500"
   ]
  },
  {
   "cell_type": "code",
   "execution_count": 14,
   "metadata": {},
   "outputs": [
    {
     "name": "stdout",
     "output_type": "stream",
     "text": [
      "2042\n",
      "779 862 401\n"
     ]
    }
   ],
   "source": [
    "#randomly select tweets that go to validation set or training set\n",
    "all_train = shuffle(all_train,random_state=123)\n",
    "all_train = all_train.drop_duplicates('sent_clean')\n",
    "num_sents = len(all_train)\n",
    "\n",
    "print(num_sents)\n",
    "infl_val_agr = all_train[all_train['max_prob_label']=='agree']\n",
    "infl_val_neut = all_train[all_train['max_prob_label']=='neutral']\n",
    "infl_val_dis = all_train[all_train['max_prob_label']=='disagree']\n",
    "print(len(infl_val_agr), len(infl_val_neut), len(infl_val_dis))\n",
    "\n",
    "train_pct = .9"
   ]
  },
  {
   "cell_type": "code",
   "execution_count": 15,
   "metadata": {},
   "outputs": [
    {
     "name": "stdout",
     "output_type": "stream",
     "text": [
      "Num total sentences 2042 \n",
      " Num train sentences 1837 \n",
      " Num validation sentences 205\n"
     ]
    }
   ],
   "source": [
    "training_data = all_train[:int(num_sents*train_pct)]\n",
    "\n",
    "val_data = all_train[int(num_sents*train_pct):]\n",
    "\n",
    "print(\"Num total sentences\", num_sents,\n",
    "      \"\\n Num train sentences\", len(training_data), \n",
    "      \"\\n Num validation sentences\", len(val_data))"
   ]
  },
  {
   "cell_type": "code",
   "execution_count": 16,
   "metadata": {},
   "outputs": [],
   "source": [
    "training_data.to_csv(os.getcwd()+'/data_for_classifier/dedup_training_data.csv', sep=',')\n",
    "val_data.to_csv(os.getcwd()+'/data_for_classifier/dedup_val_data.csv', sep=',')"
   ]
  },
  {
   "cell_type": "code",
   "execution_count": 2,
   "metadata": {},
   "outputs": [
    {
     "data": {
      "text/plain": [
       "'/Users/yiweiluo/scientific-debates/cc_stance/MTurk_results'"
      ]
     },
     "execution_count": 2,
     "metadata": {},
     "output_type": "execute_result"
    }
   ],
   "source": [
    "import os\n",
    "os.getcwd()"
   ]
  },
  {
   "cell_type": "code",
   "execution_count": null,
   "metadata": {},
   "outputs": [],
   "source": []
  }
 ],
 "metadata": {
  "kernelspec": {
   "display_name": "Python 3",
   "language": "python",
   "name": "python3"
  },
  "language_info": {
   "codemirror_mode": {
    "name": "ipython",
    "version": 3
   },
   "file_extension": ".py",
   "mimetype": "text/x-python",
   "name": "python",
   "nbconvert_exporter": "python",
   "pygments_lexer": "ipython3",
   "version": "3.7.1"
  }
 },
 "nbformat": 4,
 "nbformat_minor": 2
}
