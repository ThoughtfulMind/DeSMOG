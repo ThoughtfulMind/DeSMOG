{
 "cells": [
  {
   "cell_type": "code",
   "execution_count": 77,
   "metadata": {},
   "outputs": [
    {
     "name": "stderr",
     "output_type": "stream",
     "text": [
      "/anaconda3/lib/python3.7/site-packages/ipykernel_launcher.py:12: FutureWarning: Passing a negative integer is deprecated in version 1.0 and will not be supported in future version. Instead, use None to not limit the column width.\n",
      "  if sys.path[0] == '':\n"
     ]
    }
   ],
   "source": [
    "import matplotlib.pyplot as plt\n",
    "import pandas as pd\n",
    "import numpy as np\n",
    "import pickle\n",
    "from numpy.random import RandomState\n",
    "from sklearn import metrics\n",
    "from sklearn.utils import shuffle\n",
    "from sklearn.model_selection import train_test_split\n",
    "import os\n",
    "import re\n",
    "import glob\n",
    "pd.set_option('display.max_colwidth', -1)\n",
    "from fuzzywuzzy import fuzz\n",
    "from fuzzywuzzy import process"
   ]
  },
  {
   "cell_type": "code",
   "execution_count": 250,
   "metadata": {},
   "outputs": [
    {
     "data": {
      "text/plain": [
       "(683715, 5)"
      ]
     },
     "execution_count": 250,
     "metadata": {},
     "output_type": "execute_result"
    }
   ],
   "source": [
    "labeled_data = pd.read_pickle('./data/labeled_data_df.pkl')\n",
    "labeled_data.shape"
   ]
  },
  {
   "cell_type": "code",
   "execution_count": 251,
   "metadata": {
    "scrolled": false
   },
   "outputs": [
    {
     "data": {
      "text/plain": [
       "twint_tweet               520886\n",
       "dallas_news_predicted     114686\n",
       "dallas_news               40309 \n",
       "mturk_french_backtrans    2050  \n",
       "mturk                     2050  \n",
       "mturk_zh_backtrans        2050  \n",
       "mturk_high_iaa            1120  \n",
       "semeval_train_tweets      395   \n",
       "semeval_tweets            169   \n",
       "Name: type, dtype: int64"
      ]
     },
     "execution_count": 251,
     "metadata": {},
     "output_type": "execute_result"
    }
   ],
   "source": [
    "labeled_data.type.value_counts()"
   ]
  },
  {
   "cell_type": "code",
   "execution_count": 4,
   "metadata": {
    "scrolled": true
   },
   "outputs": [
    {
     "data": {
      "text/plain": [
       "Index(['source', 'type', 'text', 'stance', 'nli_label'], dtype='object')"
      ]
     },
     "execution_count": 4,
     "metadata": {},
     "output_type": "execute_result"
    }
   ],
   "source": [
    "labeled_data.columns"
   ]
  },
  {
   "cell_type": "code",
   "execution_count": 229,
   "metadata": {},
   "outputs": [],
   "source": [
    "stances = [\"agree\", \"neutral\", \"disagree\"]\n",
    "class_nums = {s: i for i, s in enumerate(stances)}\n",
    "stance2nli = {'agree':'entailment','neutral':'neutral','disagree':'contradiction',\n",
    "             'agrees':'entailment','disagrees':'contradiction'}"
   ]
  },
  {
   "cell_type": "code",
   "execution_count": 235,
   "metadata": {
    "scrolled": true
   },
   "outputs": [
    {
     "data": {
      "text/html": [
       "<div>\n",
       "<style scoped>\n",
       "    .dataframe tbody tr th:only-of-type {\n",
       "        vertical-align: middle;\n",
       "    }\n",
       "\n",
       "    .dataframe tbody tr th {\n",
       "        vertical-align: top;\n",
       "    }\n",
       "\n",
       "    .dataframe thead th {\n",
       "        text-align: right;\n",
       "    }\n",
       "</style>\n",
       "<table border=\"1\" class=\"dataframe\">\n",
       "  <thead>\n",
       "    <tr style=\"text-align: right;\">\n",
       "      <th></th>\n",
       "      <th>source</th>\n",
       "      <th>type</th>\n",
       "      <th>text</th>\n",
       "      <th>stance</th>\n",
       "      <th>nli_label</th>\n",
       "    </tr>\n",
       "  </thead>\n",
       "  <tbody>\n",
       "    <tr>\n",
       "      <th>0</th>\n",
       "      <td>climate_change1.0-12174 [SEP] 0</td>\n",
       "      <td>dallas_news</td>\n",
       "      <td>It's about seeing the forest and the trees in Calif.; Scientists study global warming's effect on redwoods and sequoias</td>\n",
       "      <td>agree</td>\n",
       "      <td>entailment</td>\n",
       "    </tr>\n",
       "    <tr>\n",
       "      <th>1</th>\n",
       "      <td>climate_change1.0-12174 [SEP] 1</td>\n",
       "      <td>dallas_news</td>\n",
       "      <td>Two of his colleagues dangled on ropes 100 feet above from the gnarled branches of a giant sequoia tree.</td>\n",
       "      <td>agree</td>\n",
       "      <td>entailment</td>\n",
       "    </tr>\n",
       "    <tr>\n",
       "      <th>2</th>\n",
       "      <td>climate_change1.0-12174 [SEP] 2</td>\n",
       "      <td>dallas_news</td>\n",
       "      <td>Steve Sillett could hardly contain his excitement.</td>\n",
       "      <td>agree</td>\n",
       "      <td>entailment</td>\n",
       "    </tr>\n",
       "    <tr>\n",
       "      <th>3</th>\n",
       "      <td>climate_change1.0-12174 [SEP] 3</td>\n",
       "      <td>dallas_news</td>\n",
       "      <td>\"This site is just juicy.</td>\n",
       "      <td>agree</td>\n",
       "      <td>entailment</td>\n",
       "    </tr>\n",
       "    <tr>\n",
       "      <th>4</th>\n",
       "      <td>climate_change1.0-12174 [SEP] 4</td>\n",
       "      <td>dallas_news</td>\n",
       "      <td>It's loaded,\" said Sillett, gazing up at the ancient canopy at Calaveras Big Trees State Park.</td>\n",
       "      <td>agree</td>\n",
       "      <td>entailment</td>\n",
       "    </tr>\n",
       "  </tbody>\n",
       "</table>\n",
       "</div>"
      ],
      "text/plain": [
       "                            source         type  \\\n",
       "0  climate_change1.0-12174 [SEP] 0  dallas_news   \n",
       "1  climate_change1.0-12174 [SEP] 1  dallas_news   \n",
       "2  climate_change1.0-12174 [SEP] 2  dallas_news   \n",
       "3  climate_change1.0-12174 [SEP] 3  dallas_news   \n",
       "4  climate_change1.0-12174 [SEP] 4  dallas_news   \n",
       "\n",
       "                                                                                                                      text  \\\n",
       "0  It's about seeing the forest and the trees in Calif.; Scientists study global warming's effect on redwoods and sequoias   \n",
       "1  Two of his colleagues dangled on ropes 100 feet above from the gnarled branches of a giant sequoia tree.                  \n",
       "2  Steve Sillett could hardly contain his excitement.                                                                        \n",
       "3  \"This site is just juicy.                                                                                                 \n",
       "4  It's loaded,\" said Sillett, gazing up at the ancient canopy at Calaveras Big Trees State Park.                            \n",
       "\n",
       "  stance   nli_label  \n",
       "0  agree  entailment  \n",
       "1  agree  entailment  \n",
       "2  agree  entailment  \n",
       "3  agree  entailment  \n",
       "4  agree  entailment  "
      ]
     },
     "execution_count": 235,
     "metadata": {},
     "output_type": "execute_result"
    }
   ],
   "source": [
    "labeled_data.head()"
   ]
  },
  {
   "cell_type": "code",
   "execution_count": 249,
   "metadata": {},
   "outputs": [],
   "source": [
    "#labeled_data.to_pickle('./data/labeled_data_df.pkl')"
   ]
  },
  {
   "cell_type": "markdown",
   "metadata": {
    "heading_collapsed": true
   },
   "source": [
    "# Vaccines data"
   ]
  },
  {
   "cell_type": "code",
   "execution_count": 115,
   "metadata": {
    "hidden": true
   },
   "outputs": [],
   "source": [
    "vax_dir = '/Users/yiweiluo/vaccination_stance'"
   ]
  },
  {
   "cell_type": "code",
   "execution_count": 116,
   "metadata": {
    "hidden": true
   },
   "outputs": [],
   "source": [
    "vax_stances = ['for','uncertain','against']\n",
    "vax_class_nums = {s: i for i, s in enumerate(vax_stances)}"
   ]
  },
  {
   "cell_type": "code",
   "execution_count": 113,
   "metadata": {
    "hidden": true
   },
   "outputs": [],
   "source": [
    "vax_labeled_dat = {'type':[],'text':[],'stance':[]}\n",
    "#vax_labeled_dat_df = pd.read_pickle('./data/vax_labeled_data_df.pkl')"
   ]
  },
  {
   "cell_type": "markdown",
   "metadata": {
    "heading_collapsed": true,
    "hidden": true
   },
   "source": [
    "## Get Skeppstedt annotated forum data"
   ]
  },
  {
   "cell_type": "code",
   "execution_count": 167,
   "metadata": {
    "hidden": true
   },
   "outputs": [
    {
     "data": {
      "text/plain": [
       "(430, 238, 462)"
      ]
     },
     "execution_count": 167,
     "metadata": {},
     "output_type": "execute_result"
    }
   ],
   "source": [
    "for_files = glob.glob(os.path.join(vax_dir,'train_data','for','*.txt'))\n",
    "uncertain_files = glob.glob(os.path.join(vax_dir,'train_data','uncertain','*.txt'))\n",
    "against_files = glob.glob(os.path.join(vax_dir,'train_data','against','*.txt'))\n",
    "len(for_files),len(uncertain_files),len(against_files)"
   ]
  },
  {
   "cell_type": "code",
   "execution_count": 168,
   "metadata": {
    "hidden": true,
    "scrolled": true
   },
   "outputs": [
    {
     "data": {
      "text/plain": [
       "(430, 238, 462)"
      ]
     },
     "execution_count": 168,
     "metadata": {},
     "output_type": "execute_result"
    }
   ],
   "source": [
    "for_texts = []\n",
    "for file in for_files:\n",
    "    with open(file,'r') as f:\n",
    "        for_texts.append(f.read().strip())\n",
    "        \n",
    "uncertain_texts = []\n",
    "for file in uncertain_files:\n",
    "    with open(file,'r') as f:\n",
    "        uncertain_texts.append(f.read().strip())\n",
    "        \n",
    "against_texts = []\n",
    "for file in against_files:\n",
    "    with open(file,'r') as f:\n",
    "        against_texts.append(f.read().strip())\n",
    "        \n",
    "len(for_texts),len(uncertain_texts),len(against_texts)"
   ]
  },
  {
   "cell_type": "code",
   "execution_count": 169,
   "metadata": {
    "hidden": true
   },
   "outputs": [
    {
     "data": {
      "text/plain": [
       "1130"
      ]
     },
     "execution_count": 169,
     "metadata": {},
     "output_type": "execute_result"
    }
   ],
   "source": [
    "sentences = for_texts + uncertain_texts + against_texts \n",
    "len(sentences)"
   ]
  },
  {
   "cell_type": "code",
   "execution_count": 119,
   "metadata": {
    "hidden": true
   },
   "outputs": [],
   "source": [
    "texts_by_stance = {'for':for_texts,'uncertain':uncertain_texts,'against':against_texts}"
   ]
  },
  {
   "cell_type": "code",
   "execution_count": 170,
   "metadata": {
    "hidden": true
   },
   "outputs": [
    {
     "data": {
      "text/plain": [
       "'Rosi, one very anti-vaccine doctor only goes to prove that one doctor is against vaccination, not that vaccines are dangerous. One smoking doctor does not prove that smoking is harmless, just that doctors are humans and can be irrational. Loibner, who has been an anti-vaccine activist for decades, is really not suitable as a proof for a recent trend in vaccine refusal amongst doctors.'"
      ]
     },
     "execution_count": 170,
     "metadata": {},
     "output_type": "execute_result"
    }
   ],
   "source": [
    "for_texts[5] \n",
    "# Skeppstedt data is multiple sentences. Split? But individual sentence might not reflect overall stance..."
   ]
  },
  {
   "cell_type": "code",
   "execution_count": 120,
   "metadata": {
    "hidden": true
   },
   "outputs": [],
   "source": [
    "for stance in vax_stances:\n",
    "    vax_labeled_dat['type'].extend(['skeppstedt']*len(texts_by_stance[stance]))\n",
    "    vax_labeled_dat['stance'].extend([stance]*len(texts_by_stance[stance]))\n",
    "    vax_labeled_dat['text'].extend(texts_by_stance[stance])"
   ]
  },
  {
   "cell_type": "code",
   "execution_count": 121,
   "metadata": {
    "hidden": true
   },
   "outputs": [],
   "source": [
    "vax_labeled_dat_df = pd.DataFrame(vax_labeled_dat)"
   ]
  },
  {
   "cell_type": "code",
   "execution_count": 122,
   "metadata": {
    "hidden": true,
    "scrolled": true
   },
   "outputs": [
    {
     "data": {
      "text/plain": [
       "(1130, 3)"
      ]
     },
     "execution_count": 122,
     "metadata": {},
     "output_type": "execute_result"
    }
   ],
   "source": [
    "vax_labeled_dat_df.shape"
   ]
  },
  {
   "cell_type": "markdown",
   "metadata": {
    "heading_collapsed": true,
    "hidden": true
   },
   "source": [
    "## My manually annotated clauses"
   ]
  },
  {
   "cell_type": "code",
   "execution_count": 123,
   "metadata": {
    "hidden": true
   },
   "outputs": [],
   "source": [
    "vax_label_dict = {0: 'for', 1: 'against', 2: 'neutral'}"
   ]
  },
  {
   "cell_type": "code",
   "execution_count": 106,
   "metadata": {
    "hidden": true
   },
   "outputs": [],
   "source": [
    "base_dir = '/Users/yiweiluo/Dropbox/research/QP2/code/Fox_and_friends/'\n",
    "anti_tetrads_results = pd.read_csv(base_dir+'on_topic_anti_vax_tetrads_with_subject_verb_filtered.csv',header=None,\n",
    "                                  encoding = \"ISO-8859-1\")\n",
    "pro_tetrads_results = pd.read_csv(base_dir+'on_topic_pro_vax_tetrads_with_subject_verb_filtered.csv',header=None,\n",
    "                                  encoding = \"ISO-8859-1\")"
   ]
  },
  {
   "cell_type": "code",
   "execution_count": 108,
   "metadata": {
    "hidden": true
   },
   "outputs": [],
   "source": [
    "anti_tetrads_results.columns = ['subj','neg','v','sentence','stance','source','notes','subj_ent']\n",
    "pro_tetrads_results.columns = ['subj','neg','v','sentence','stance','source','notes','subj_ent']\n",
    "all_manual_vax = anti_tetrads_results.append(pro_tetrads_results,ignore_index=True)"
   ]
  },
  {
   "cell_type": "code",
   "execution_count": 109,
   "metadata": {
    "hidden": true,
    "scrolled": true
   },
   "outputs": [
    {
     "data": {
      "text/html": [
       "<div>\n",
       "<style scoped>\n",
       "    .dataframe tbody tr th:only-of-type {\n",
       "        vertical-align: middle;\n",
       "    }\n",
       "\n",
       "    .dataframe tbody tr th {\n",
       "        vertical-align: top;\n",
       "    }\n",
       "\n",
       "    .dataframe thead th {\n",
       "        text-align: right;\n",
       "    }\n",
       "</style>\n",
       "<table border=\"1\" class=\"dataframe\">\n",
       "  <thead>\n",
       "    <tr style=\"text-align: right;\">\n",
       "      <th></th>\n",
       "      <th>subj</th>\n",
       "      <th>neg</th>\n",
       "      <th>v</th>\n",
       "      <th>sentence</th>\n",
       "      <th>stance</th>\n",
       "      <th>source</th>\n",
       "      <th>notes</th>\n",
       "      <th>subj_ent</th>\n",
       "    </tr>\n",
       "  </thead>\n",
       "  <tbody>\n",
       "    <tr>\n",
       "      <th>0</th>\n",
       "      <td>authors</td>\n",
       "      <td>NaN</td>\n",
       "      <td>acknowledged</td>\n",
       "      <td>that â such an outbreak should have been virtually impossible</td>\n",
       "      <td>0</td>\n",
       "      <td>sent_no_26 of https://childrenshealthdefense.org/news/herd-immunity-a-false-rationale-for-vaccine-mandates/</td>\n",
       "      <td>NaN</td>\n",
       "      <td>s</td>\n",
       "    </tr>\n",
       "    <tr>\n",
       "      <th>1</th>\n",
       "      <td>.I</td>\n",
       "      <td>NaN</td>\n",
       "      <td>say</td>\n",
       "      <td>tics are four times more prevalent in kids with autism</td>\n",
       "      <td>1</td>\n",
       "      <td>sent_no_17 of https://childrenshealthdefense.org/uncategorized/cdc-scientist-still-maintains-agency-forced-researchers-lie-safety-mercury-based-vaccines/</td>\n",
       "      <td>NaN</td>\n",
       "      <td>NaN</td>\n",
       "    </tr>\n",
       "    <tr>\n",
       "      <th>2</th>\n",
       "      <td>New York Times</td>\n",
       "      <td>NaN</td>\n",
       "      <td>claimed</td>\n",
       "      <td>that the science showed that the vaccine represented â a big payoff in public health â and that harms from the vaccine were â almost nonexistent â</td>\n",
       "      <td>0</td>\n",
       "      <td>sent_no_4 of https://childrenshealthdefense.org/news/how-the-cdc-uses-fear-to-increase-demand-for-flu-vaccines/</td>\n",
       "      <td>NaN</td>\n",
       "      <td>p</td>\n",
       "    </tr>\n",
       "    <tr>\n",
       "      <th>3</th>\n",
       "      <td>I</td>\n",
       "      <td>NaN</td>\n",
       "      <td>say</td>\n",
       "      <td>tics are four times more prevalent in kids with autism</td>\n",
       "      <td>1</td>\n",
       "      <td>sent_no_67 of https://childrenshealthdefense.org/news/get-flu-shot-cdc-data-raise-concerns/</td>\n",
       "      <td>NaN</td>\n",
       "      <td>NaN</td>\n",
       "    </tr>\n",
       "    <tr>\n",
       "      <th>4</th>\n",
       "      <td>awards</td>\n",
       "      <td>NaN</td>\n",
       "      <td>recognize</td>\n",
       "      <td>that many of the chronic diseases that suddenly became epidemic in our children following the passage of NCVIA can be caused by vaccines or their ingredients</td>\n",
       "      <td>1</td>\n",
       "      <td>sent_no_53 of https://childrenshealthdefense.org/news/vaccines-and-the-liberal-mind/</td>\n",
       "      <td>NaN</td>\n",
       "      <td>NaN</td>\n",
       "    </tr>\n",
       "    <tr>\n",
       "      <th>...</th>\n",
       "      <td>...</td>\n",
       "      <td>...</td>\n",
       "      <td>...</td>\n",
       "      <td>...</td>\n",
       "      <td>...</td>\n",
       "      <td>...</td>\n",
       "      <td>...</td>\n",
       "      <td>...</td>\n",
       "    </tr>\n",
       "    <tr>\n",
       "      <th>995</th>\n",
       "      <td>Rabinowitz</td>\n",
       "      <td>NaN</td>\n",
       "      <td>added</td>\n",
       "      <td>that for patients with celiac disease , vaccines such as the flu vaccine are very important</td>\n",
       "      <td>0</td>\n",
       "      <td>sent_no_18 of https://www.foxnews.com/health/some-people-who-avoid-gluten-also-avoid-vaccines</td>\n",
       "      <td>NaN</td>\n",
       "      <td>doc</td>\n",
       "    </tr>\n",
       "    <tr>\n",
       "      <th>996</th>\n",
       "      <td>it</td>\n",
       "      <td>NaN</td>\n",
       "      <td>ensure</td>\n",
       "      <td>that it is not influenced by politics , such as pressure from officials to play down an outbreak that may affect tourism or trade , in raising international alarms</td>\n",
       "      <td>2</td>\n",
       "      <td>sent_no_15 of https://www.nytimes.com/2015/12/30/opinion/nearing-triumph-over-ebola.html?searchResultPosition=3</td>\n",
       "      <td>NaN</td>\n",
       "      <td>NaN</td>\n",
       "    </tr>\n",
       "    <tr>\n",
       "      <th>997</th>\n",
       "      <td>committee</td>\n",
       "      <td>NaN</td>\n",
       "      <td>decided</td>\n",
       "      <td>that nasal flu vaccine (the brand name is FluMist) nasal flu vaccine (the brand name is FluMist) nasal flu vaccine (the brand name is FluMist) nasal flu vaccine (the brand name is FluMist) nasal flu vaccine (the brand name is FluMist) nasal flu vaccine (the brand name is FluMist) nasal flu vaccine (the brand name is FluMist) nasal flu vaccine (the brand name is FluMist) nasal flu vaccine (the brand name is FluMist) nasal flu vaccine (the brand name is FluMist) should no longer be used because it has been less effective in protecting people the past couple of flu seasons</td>\n",
       "      <td>2</td>\n",
       "      <td>sent_no_3 of https://www.nytimes.com/2016/10/03/well/family/a-flu-season-without-flumist-making-shots-less-painful-for-children.html?searchResultPosition=66</td>\n",
       "      <td>NaN</td>\n",
       "      <td>dept</td>\n",
       "    </tr>\n",
       "    <tr>\n",
       "      <th>998</th>\n",
       "      <td>i</td>\n",
       "      <td>NaN</td>\n",
       "      <td>reassure</td>\n",
       "      <td>that vaccines are safe</td>\n",
       "      <td>0</td>\n",
       "      <td>sent_no_8 of https://www.foxnews.com/health/with-most-cases-centering-on-new-york-city-us-measles-count-nears-1000-toppling-records</td>\n",
       "      <td>NaN</td>\n",
       "      <td>NaN</td>\n",
       "    </tr>\n",
       "    <tr>\n",
       "      <th>999</th>\n",
       "      <td>Blasio</td>\n",
       "      <td>NaN</td>\n",
       "      <td>announced</td>\n",
       "      <td>â Ultra - Orthodox communities provide a voting bloc just as reliable as evangelical Christians , who in some cases also question the wisdom of immunizing children</td>\n",
       "      <td>0</td>\n",
       "      <td>sent_no_22 of https://www.nytimes.com/2019/04/12/nyregion/measles-vaccines-religious-exemptions.html?searchResultPosition=158</td>\n",
       "      <td>NaN</td>\n",
       "      <td>p</td>\n",
       "    </tr>\n",
       "  </tbody>\n",
       "</table>\n",
       "<p>1000 rows × 8 columns</p>\n",
       "</div>"
      ],
      "text/plain": [
       "               subj  neg             v  \\\n",
       "0    authors         NaN  acknowledged   \n",
       "1    .I              NaN  say            \n",
       "2    New York Times  NaN  claimed        \n",
       "3    I               NaN  say            \n",
       "4    awards          NaN  recognize      \n",
       "..      ...          ...        ...      \n",
       "995  Rabinowitz      NaN  added          \n",
       "996  it              NaN  ensure         \n",
       "997  committee       NaN  decided        \n",
       "998  i               NaN  reassure       \n",
       "999  Blasio          NaN  announced      \n",
       "\n",
       "                                                                                                                                                                                                                                                                                                                                                                                                                                                                                                                                                                                             sentence  \\\n",
       "0    that â such an outbreak should have been virtually impossible                                                                                                                                                                                                                                                                                                                                                                                                                                                                                                                                    \n",
       "1    tics are four times more prevalent in kids with autism                                                                                                                                                                                                                                                                                                                                                                                                                                                                                                                                             \n",
       "2    that the science showed that the vaccine represented â a big payoff in public health â and that harms from the vaccine were â almost nonexistent â                                                                                                                                                                                                                                                                                                                                                                                                                                         \n",
       "3    tics are four times more prevalent in kids with autism                                                                                                                                                                                                                                                                                                                                                                                                                                                                                                                                             \n",
       "4    that many of the chronic diseases that suddenly became epidemic in our children following the passage of NCVIA can be caused by vaccines or their ingredients                                                                                                                                                                                                                                                                                                                                                                                                                                      \n",
       "..                                                                                                                                                             ...                                                                                                                                                                                                                                                                                                                                                                                                                                      \n",
       "995  that for patients with celiac disease , vaccines such as the flu vaccine are very important                                                                                                                                                                                                                                                                                                                                                                                                                                                                                                        \n",
       "996  that it is not influenced by politics , such as pressure from officials to play down an outbreak that may affect tourism or trade , in raising international alarms                                                                                                                                                                                                                                                                                                                                                                                                                                \n",
       "997  that nasal flu vaccine (the brand name is FluMist) nasal flu vaccine (the brand name is FluMist) nasal flu vaccine (the brand name is FluMist) nasal flu vaccine (the brand name is FluMist) nasal flu vaccine (the brand name is FluMist) nasal flu vaccine (the brand name is FluMist) nasal flu vaccine (the brand name is FluMist) nasal flu vaccine (the brand name is FluMist) nasal flu vaccine (the brand name is FluMist) nasal flu vaccine (the brand name is FluMist) should no longer be used because it has been less effective in protecting people the past couple of flu seasons   \n",
       "998  that vaccines are safe                                                                                                                                                                                                                                                                                                                                                                                                                                                                                                                                                                             \n",
       "999  â Ultra - Orthodox communities provide a voting bloc just as reliable as evangelical Christians , who in some cases also question the wisdom of immunizing children                                                                                                                                                                                                                                                                                                                                                                                                                              \n",
       "\n",
       "     stance  \\\n",
       "0    0        \n",
       "1    1        \n",
       "2    0        \n",
       "3    1        \n",
       "4    1        \n",
       "..  ..        \n",
       "995  0        \n",
       "996  2        \n",
       "997  2        \n",
       "998  0        \n",
       "999  0        \n",
       "\n",
       "                                                                                                                                                           source  \\\n",
       "0    sent_no_26 of https://childrenshealthdefense.org/news/herd-immunity-a-false-rationale-for-vaccine-mandates/                                                    \n",
       "1    sent_no_17 of https://childrenshealthdefense.org/uncategorized/cdc-scientist-still-maintains-agency-forced-researchers-lie-safety-mercury-based-vaccines/      \n",
       "2    sent_no_4 of https://childrenshealthdefense.org/news/how-the-cdc-uses-fear-to-increase-demand-for-flu-vaccines/                                                \n",
       "3    sent_no_67 of https://childrenshealthdefense.org/news/get-flu-shot-cdc-data-raise-concerns/                                                                    \n",
       "4    sent_no_53 of https://childrenshealthdefense.org/news/vaccines-and-the-liberal-mind/                                                                           \n",
       "..                                                                                    ...                                                                           \n",
       "995  sent_no_18 of https://www.foxnews.com/health/some-people-who-avoid-gluten-also-avoid-vaccines                                                                  \n",
       "996  sent_no_15 of https://www.nytimes.com/2015/12/30/opinion/nearing-triumph-over-ebola.html?searchResultPosition=3                                                \n",
       "997  sent_no_3 of https://www.nytimes.com/2016/10/03/well/family/a-flu-season-without-flumist-making-shots-less-painful-for-children.html?searchResultPosition=66   \n",
       "998  sent_no_8 of https://www.foxnews.com/health/with-most-cases-centering-on-new-york-city-us-measles-count-nears-1000-toppling-records                            \n",
       "999  sent_no_22 of https://www.nytimes.com/2019/04/12/nyregion/measles-vaccines-religious-exemptions.html?searchResultPosition=158                                  \n",
       "\n",
       "    notes subj_ent  \n",
       "0    NaN   s        \n",
       "1    NaN   NaN      \n",
       "2    NaN   p        \n",
       "3    NaN   NaN      \n",
       "4    NaN   NaN      \n",
       "..   ...   ...      \n",
       "995  NaN   doc      \n",
       "996  NaN   NaN      \n",
       "997  NaN   dept     \n",
       "998  NaN   NaN      \n",
       "999  NaN   p        \n",
       "\n",
       "[1000 rows x 8 columns]"
      ]
     },
     "execution_count": 109,
     "metadata": {},
     "output_type": "execute_result"
    }
   ],
   "source": [
    "all_manual_vax"
   ]
  },
  {
   "cell_type": "code",
   "execution_count": 110,
   "metadata": {
    "hidden": true
   },
   "outputs": [
    {
     "data": {
      "text/plain": [
       "2    497\n",
       "1    265\n",
       "0    238\n",
       "Name: stance, dtype: int64"
      ]
     },
     "execution_count": 110,
     "metadata": {},
     "output_type": "execute_result"
    }
   ],
   "source": [
    "all_manual_vax.stance.value_counts()"
   ]
  },
  {
   "cell_type": "code",
   "execution_count": 111,
   "metadata": {
    "hidden": true
   },
   "outputs": [
    {
     "data": {
      "text/plain": [
       "1000"
      ]
     },
     "execution_count": 111,
     "metadata": {},
     "output_type": "execute_result"
    }
   ],
   "source": [
    "497+265+238"
   ]
  },
  {
   "cell_type": "code",
   "execution_count": 125,
   "metadata": {
    "hidden": true
   },
   "outputs": [],
   "source": [
    "texts_by_stance = {'for':all_manual_vax.loc[all_manual_vax.stance==0].sentence.values,\n",
    "                   'uncertain':all_manual_vax.loc[all_manual_vax.stance==2].sentence.values,\n",
    "                   'against':all_manual_vax.loc[all_manual_vax.stance==1].sentence.values,}"
   ]
  },
  {
   "cell_type": "code",
   "execution_count": 126,
   "metadata": {
    "hidden": true
   },
   "outputs": [],
   "source": [
    "for stance in vax_stances:\n",
    "    vax_labeled_dat['type'].extend(['my_annotations']*len(texts_by_stance[stance]))\n",
    "    vax_labeled_dat['stance'].extend([stance]*len(texts_by_stance[stance]))\n",
    "    vax_labeled_dat['text'].extend(texts_by_stance[stance])"
   ]
  },
  {
   "cell_type": "code",
   "execution_count": 127,
   "metadata": {
    "hidden": true
   },
   "outputs": [
    {
     "data": {
      "text/plain": [
       "(2130, 3)"
      ]
     },
     "execution_count": 127,
     "metadata": {},
     "output_type": "execute_result"
    }
   ],
   "source": [
    "vax_labeled_dat_df = pd.DataFrame(vax_labeled_dat)\n",
    "vax_labeled_dat_df.shape"
   ]
  },
  {
   "cell_type": "code",
   "execution_count": 128,
   "metadata": {
    "hidden": true
   },
   "outputs": [],
   "source": [
    "vax_labeled_dat_df.to_pickle('./data/vax_labeled_data_df.pkl')"
   ]
  },
  {
   "cell_type": "markdown",
   "metadata": {
    "heading_collapsed": true,
    "hidden": true
   },
   "source": [
    "## Unlabeled vaccine data for LM fine-tuning"
   ]
  },
  {
   "cell_type": "code",
   "execution_count": 170,
   "metadata": {
    "hidden": true
   },
   "outputs": [
    {
     "data": {
      "text/plain": [
       "(434, 127, 933)"
      ]
     },
     "execution_count": 170,
     "metadata": {},
     "output_type": "execute_result"
    }
   ],
   "source": [
    "for_files = glob.glob(os.path.join(vax_dir,'my_train_data','for','*.txt'))\n",
    "uncertain_files = glob.glob(os.path.join(vax_dir,'my_train_data','uncertain','*.txt'))\n",
    "against_files = glob.glob(os.path.join(vax_dir,'my_train_data','against','*.txt'))\n",
    "len(for_files),len(uncertain_files),len(against_files)"
   ]
  },
  {
   "cell_type": "code",
   "execution_count": 171,
   "metadata": {
    "hidden": true
   },
   "outputs": [
    {
     "data": {
      "text/plain": [
       "(434, 127, 933)"
      ]
     },
     "execution_count": 171,
     "metadata": {},
     "output_type": "execute_result"
    }
   ],
   "source": [
    "for_texts = []\n",
    "for file in for_files:\n",
    "    with open(file,'r') as f:\n",
    "        for_texts.append(f.read().strip().replace('\\t',''))\n",
    "        \n",
    "uncertain_texts = []\n",
    "for file in uncertain_files:\n",
    "    with open(file,'r') as f:\n",
    "        uncertain_texts.append(f.read().strip().replace('\\t',''))\n",
    "        \n",
    "against_texts = []\n",
    "for file in against_files:\n",
    "    with open(file,'r') as f:\n",
    "        against_texts.append(f.read().strip().replace('\\t',''))\n",
    "        \n",
    "len(for_texts),len(uncertain_texts),len(against_texts)"
   ]
  },
  {
   "cell_type": "code",
   "execution_count": 172,
   "metadata": {
    "hidden": true,
    "scrolled": true
   },
   "outputs": [
    {
     "name": "stdout",
     "output_type": "stream",
     "text": [
      "1130\n",
      "2624\n"
     ]
    }
   ],
   "source": [
    "print(len(sentences))\n",
    "sentences.extend(for_texts + uncertain_texts + against_texts)\n",
    "print(len(sentences))"
   ]
  },
  {
   "cell_type": "code",
   "execution_count": 179,
   "metadata": {
    "hidden": true,
    "scrolled": true
   },
   "outputs": [
    {
     "data": {
      "text/html": [
       "<div>\n",
       "<style scoped>\n",
       "    .dataframe tbody tr th:only-of-type {\n",
       "        vertical-align: middle;\n",
       "    }\n",
       "\n",
       "    .dataframe tbody tr th {\n",
       "        vertical-align: top;\n",
       "    }\n",
       "\n",
       "    .dataframe thead th {\n",
       "        text-align: right;\n",
       "    }\n",
       "</style>\n",
       "<table border=\"1\" class=\"dataframe\">\n",
       "  <thead>\n",
       "    <tr style=\"text-align: right;\">\n",
       "      <th></th>\n",
       "      <th>url</th>\n",
       "      <th>title</th>\n",
       "      <th>date</th>\n",
       "      <th>domain</th>\n",
       "      <th>stance</th>\n",
       "      <th>topic</th>\n",
       "      <th>is_AP</th>\n",
       "      <th>year</th>\n",
       "      <th>pretty_domain</th>\n",
       "    </tr>\n",
       "  </thead>\n",
       "  <tbody>\n",
       "    <tr>\n",
       "      <th>0</th>\n",
       "      <td>www.buzzfeednews.com/article/tasneemnashrulla/eat-babies-aoc-town-hall-pro-trump-troll-larouche</td>\n",
       "      <td>\"eat the babies\" viral video at aoc town hall was staged ...</td>\n",
       "      <td>2019-10-04 00:00:00</td>\n",
       "      <td>buzzfeed</td>\n",
       "      <td>pro</td>\n",
       "      <td>cc</td>\n",
       "      <td>None</td>\n",
       "      <td>2019.0</td>\n",
       "      <td>Buzzfeed</td>\n",
       "    </tr>\n",
       "    <tr>\n",
       "      <th>1</th>\n",
       "      <td>www.buzzfeednews.com/article/passantino/extremely-likely-global-warming-is-man-made-climate-scientis</td>\n",
       "      <td>\"extremely likely\" global warming is man-made, climate ...</td>\n",
       "      <td>2013-09-27 00:00:00</td>\n",
       "      <td>buzzfeed</td>\n",
       "      <td>pro</td>\n",
       "      <td>cc</td>\n",
       "      <td>None</td>\n",
       "      <td>2013.0</td>\n",
       "      <td>Buzzfeed</td>\n",
       "    </tr>\n",
       "    <tr>\n",
       "      <th>2</th>\n",
       "      <td>shotofprevention.com/2010/11/03/history-makes-headlines-with-launch-of-new-website/</td>\n",
       "      <td>\"history\" makes headlines with launch of new website</td>\n",
       "      <td>2020-03-13 14:32:02</td>\n",
       "      <td>https://shotofprevention/</td>\n",
       "      <td>pro</td>\n",
       "      <td>vax</td>\n",
       "      <td>False</td>\n",
       "      <td>2020.0</td>\n",
       "      <td>Shot of Prevention</td>\n",
       "    </tr>\n",
       "    <tr>\n",
       "      <th>3</th>\n",
       "      <td>www.buzzfeednews.com/article/andrewkaczynski/its-global-warming-stupid</td>\n",
       "      <td>\"it's global warming, stupid\" - buzzfeed news</td>\n",
       "      <td>2012-11-01 00:00:00</td>\n",
       "      <td>buzzfeed</td>\n",
       "      <td>pro</td>\n",
       "      <td>cc</td>\n",
       "      <td>None</td>\n",
       "      <td>2012.0</td>\n",
       "      <td>Buzzfeed</td>\n",
       "    </tr>\n",
       "    <tr>\n",
       "      <th>4</th>\n",
       "      <td>www.buzzfeednews.com/article/tasneemnashrulla/japan-dropped-an-atomic-bomb-on-america-during-world-war-ii</td>\n",
       "      <td>\"japan dropped an atomic bomb on america during world ...</td>\n",
       "      <td>2014-02-24 00:00:00</td>\n",
       "      <td>buzzfeed</td>\n",
       "      <td>pro</td>\n",
       "      <td>cc</td>\n",
       "      <td>None</td>\n",
       "      <td>2014.0</td>\n",
       "      <td>Buzzfeed</td>\n",
       "    </tr>\n",
       "    <tr>\n",
       "      <th>5</th>\n",
       "      <td>www.buzzfeednews.com/article/llevin/opinion-im-18-and-joe-biden-couldnt-answer-my-questions-how</td>\n",
       "      <td>\"look at my record, child\": joe biden showed me he's not ...</td>\n",
       "      <td>2019-10-31 00:00:00</td>\n",
       "      <td>buzzfeed</td>\n",
       "      <td>pro</td>\n",
       "      <td>cc</td>\n",
       "      <td>None</td>\n",
       "      <td>2019.0</td>\n",
       "      <td>Buzzfeed</td>\n",
       "    </tr>\n",
       "    <tr>\n",
       "      <th>6</th>\n",
       "      <td>www.breitbart.com/politics/2019/06/14/orourke-president-orourke-will-take-executive-action-to-end-new-oil-and-gas-leases-on-federal-lands/</td>\n",
       "      <td>\"president o'rourke will end oil and gas leases on federal ...</td>\n",
       "      <td>2019-06-14 00:00:00</td>\n",
       "      <td>breitbart</td>\n",
       "      <td>anti</td>\n",
       "      <td>cc</td>\n",
       "      <td>None</td>\n",
       "      <td>2019.0</td>\n",
       "      <td>Breitbart</td>\n",
       "    </tr>\n",
       "    <tr>\n",
       "      <th>7</th>\n",
       "      <td>www.buzzfeednews.com/article/andrewkaczynski/smoking-doesnt-kill-and-other-great-old-op-eds-from-mike-pen</td>\n",
       "      <td>smoking doesnt kill and other great old opeds from mike pence</td>\n",
       "      <td>2015-03-31 00:00:00</td>\n",
       "      <td>buzzfeed</td>\n",
       "      <td>pro</td>\n",
       "      <td>cc</td>\n",
       "      <td>None</td>\n",
       "      <td>2015.0</td>\n",
       "      <td>Buzzfeed</td>\n",
       "    </tr>\n",
       "    <tr>\n",
       "      <th>8</th>\n",
       "      <td>www.foxnews.com/world/100-carbon-tax-by-2030-could-save-climate-say-economists</td>\n",
       "      <td>$100 carbon tax by 2030 could save climate, say economists ...</td>\n",
       "      <td>2017-05-29 00:00:00</td>\n",
       "      <td>fox</td>\n",
       "      <td>anti</td>\n",
       "      <td>cc</td>\n",
       "      <td>None</td>\n",
       "      <td>2017.0</td>\n",
       "      <td>Fox</td>\n",
       "    </tr>\n",
       "    <tr>\n",
       "      <th>21585</th>\n",
       "      <td>childrenshealthdefense.org/news/4-billion-and-growing-u-s-payouts-for-vaccine-injuries-and-deaths-keep-climbing/</td>\n",
       "      <td>$4 billion and growing:  u.s. payouts for vaccine injuries and deaths keep climbing</td>\n",
       "      <td>2018-11-19 00:00:00</td>\n",
       "      <td>chd</td>\n",
       "      <td>anti</td>\n",
       "      <td>vax</td>\n",
       "      <td>None</td>\n",
       "      <td>2018.0</td>\n",
       "      <td>Children's Health Defense</td>\n",
       "    </tr>\n",
       "  </tbody>\n",
       "</table>\n",
       "</div>"
      ],
      "text/plain": [
       "                                                                                                                                              url  \\\n",
       "0      www.buzzfeednews.com/article/tasneemnashrulla/eat-babies-aoc-town-hall-pro-trump-troll-larouche                                              \n",
       "1      www.buzzfeednews.com/article/passantino/extremely-likely-global-warming-is-man-made-climate-scientis                                         \n",
       "2      shotofprevention.com/2010/11/03/history-makes-headlines-with-launch-of-new-website/                                                          \n",
       "3      www.buzzfeednews.com/article/andrewkaczynski/its-global-warming-stupid                                                                       \n",
       "4      www.buzzfeednews.com/article/tasneemnashrulla/japan-dropped-an-atomic-bomb-on-america-during-world-war-ii                                    \n",
       "5      www.buzzfeednews.com/article/llevin/opinion-im-18-and-joe-biden-couldnt-answer-my-questions-how                                              \n",
       "6      www.breitbart.com/politics/2019/06/14/orourke-president-orourke-will-take-executive-action-to-end-new-oil-and-gas-leases-on-federal-lands/   \n",
       "7      www.buzzfeednews.com/article/andrewkaczynski/smoking-doesnt-kill-and-other-great-old-op-eds-from-mike-pen                                    \n",
       "8      www.foxnews.com/world/100-carbon-tax-by-2030-could-save-climate-say-economists                                                               \n",
       "21585  childrenshealthdefense.org/news/4-billion-and-growing-u-s-payouts-for-vaccine-injuries-and-deaths-keep-climbing/                             \n",
       "\n",
       "                                                                                     title  \\\n",
       "0      \"eat the babies\" viral video at aoc town hall was staged ...                          \n",
       "1      \"extremely likely\" global warming is man-made, climate ...                            \n",
       "2      \"history\" makes headlines with launch of new website                                  \n",
       "3      \"it's global warming, stupid\" - buzzfeed news                                         \n",
       "4      \"japan dropped an atomic bomb on america during world ...                             \n",
       "5      \"look at my record, child\": joe biden showed me he's not ...                          \n",
       "6      \"president o'rourke will end oil and gas leases on federal ...                        \n",
       "7      smoking doesnt kill and other great old opeds from mike pence                         \n",
       "8      $100 carbon tax by 2030 could save climate, say economists ...                        \n",
       "21585  $4 billion and growing:  u.s. payouts for vaccine injuries and deaths keep climbing   \n",
       "\n",
       "                      date                     domain stance topic  is_AP  \\\n",
       "0      2019-10-04 00:00:00  buzzfeed                   pro    cc    None    \n",
       "1      2013-09-27 00:00:00  buzzfeed                   pro    cc    None    \n",
       "2      2020-03-13 14:32:02  https://shotofprevention/  pro    vax   False   \n",
       "3      2012-11-01 00:00:00  buzzfeed                   pro    cc    None    \n",
       "4      2014-02-24 00:00:00  buzzfeed                   pro    cc    None    \n",
       "5      2019-10-31 00:00:00  buzzfeed                   pro    cc    None    \n",
       "6      2019-06-14 00:00:00  breitbart                  anti   cc    None    \n",
       "7      2015-03-31 00:00:00  buzzfeed                   pro    cc    None    \n",
       "8      2017-05-29 00:00:00  fox                        anti   cc    None    \n",
       "21585  2018-11-19 00:00:00  chd                        anti   vax   None    \n",
       "\n",
       "         year              pretty_domain  \n",
       "0      2019.0  Buzzfeed                   \n",
       "1      2013.0  Buzzfeed                   \n",
       "2      2020.0  Shot of Prevention         \n",
       "3      2012.0  Buzzfeed                   \n",
       "4      2014.0  Buzzfeed                   \n",
       "5      2019.0  Buzzfeed                   \n",
       "6      2019.0  Breitbart                  \n",
       "7      2015.0  Buzzfeed                   \n",
       "8      2017.0  Fox                        \n",
       "21585  2018.0  Children's Health Defense  "
      ]
     },
     "execution_count": 179,
     "metadata": {},
     "output_type": "execute_result"
    }
   ],
   "source": [
    "df = pd.read_pickle('../../data_scraping/dedup_combined_df.pkl')\n",
    "df.head(10)"
   ]
  },
  {
   "cell_type": "code",
   "execution_count": 180,
   "metadata": {
    "hidden": true
   },
   "outputs": [
    {
     "data": {
      "text/plain": [
       "(2530, 9)"
      ]
     },
     "execution_count": 180,
     "metadata": {},
     "output_type": "execute_result"
    }
   ],
   "source": [
    "vax_df = df.loc[df.topic == 'vax']\n",
    "vax_df.shape"
   ]
  },
  {
   "cell_type": "code",
   "execution_count": 181,
   "metadata": {
    "hidden": true
   },
   "outputs": [
    {
     "name": "stdout",
     "output_type": "stream",
     "text": [
      "/Users/yiweiluo/scientific-debates\n"
     ]
    }
   ],
   "source": [
    "os.chdir('../../')\n",
    "print(os.getcwd())\n",
    "from utils import get_fulltext,get_fname,fulltext_exists\n",
    "os.chdir('./cc_stance/data_creation/')"
   ]
  },
  {
   "cell_type": "code",
   "execution_count": 185,
   "metadata": {
    "hidden": true
   },
   "outputs": [
    {
     "data": {
      "text/plain": [
       "(1836, 788)"
      ]
     },
     "execution_count": 185,
     "metadata": {},
     "output_type": "execute_result"
    }
   ],
   "source": [
    "train_ix,test_ix = train_test_split(list(range(len(sentences))),test_size=0.3)\n",
    "len(train_ix),len(test_ix)"
   ]
  },
  {
   "cell_type": "code",
   "execution_count": 186,
   "metadata": {
    "hidden": true
   },
   "outputs": [
    {
     "data": {
      "text/plain": [
       "(1836, 788)"
      ]
     },
     "execution_count": 186,
     "metadata": {},
     "output_type": "execute_result"
    }
   ],
   "source": [
    "train_ix,test_ix = train_test_split(list(range(len(sentences))),test_size=0.3)\n",
    "len(train_ix),len(test_ix)"
   ]
  },
  {
   "cell_type": "code",
   "execution_count": 187,
   "metadata": {
    "hidden": true
   },
   "outputs": [
    {
     "data": {
      "text/plain": [
       "(1836, 788)"
      ]
     },
     "execution_count": 187,
     "metadata": {},
     "output_type": "execute_result"
    }
   ],
   "source": [
    "train_sents = [sentences[ix] for ix in train_ix]\n",
    "test_sents = [sentences[ix] for ix in test_ix]\n",
    "len(train_sents),len(test_sents)"
   ]
  },
  {
   "cell_type": "code",
   "execution_count": 188,
   "metadata": {
    "hidden": true,
    "scrolled": false
   },
   "outputs": [
    {
     "data": {
      "text/plain": [
       "['In addition to those 400 chronic diseases and injuries that FDA suspects may be vaccine related, the vaccine generation suffers unprecedented levels of anxiety and depression and behavioral disorders running the gamut from aggression to anorexia.',\n",
       " 'The types of studies the CDC has relied on to support this claim have been thoroughly discredited due to their systemic “healthy user” selection bias, and the mortality rate has observably increased along with the increase in vaccine uptake—which the CDC has encouraged with its unevidenced claims about the vaccine’s benefits, downplaying of its risks, and a marketing strategy of trying to frighten people into getting the flu shot for themselves and their family.',\n",
       " 'Titre studies are unable to differentiate vaccine derived antibodies and those derived from natural infection so it is felt transfer in colostrum is no different in fact studies in cattle and sheep have shown it is not. The most effective antibody transfer occurs in colostrum as this has the highest concentration of antibodies \"_CITATION_PREVIOUS_POST_\" Has considerably lower levels of antibodies. The infant gut is \\'leakiest\\' to accepting antibodies in the first 3 days this rapidly falls after this so very few antibodies are absorbed. Good science has shown that maternally derived antibodies drop away rapidly at 8 weeks after birth hence the timing of the initial vaccination schedules. The rise in chronic illness in particular immune mediated illnesses like asthma and eczema are widely attributed to the \"clean theory\". Vaccine science is considerably more advanced in the veterinary world and we have much larger better quality studies looking at titres comparing natural and vaccine related immunity and maternally derived antibodies. Plus we have the first \\'canary pox technology\\' vaccine in the world which has good protection and much, much lower vaccine reactions than traditional technology. So it is really worth reading veterinary papers as well as human ones.']"
      ]
     },
     "execution_count": 188,
     "metadata": {},
     "output_type": "execute_result"
    }
   ],
   "source": [
    "train_sents[:3]"
   ]
  },
  {
   "cell_type": "code",
   "execution_count": 184,
   "metadata": {
    "hidden": true
   },
   "outputs": [
    {
     "data": {
      "text/plain": [
       "(2024, 506)"
      ]
     },
     "execution_count": 184,
     "metadata": {},
     "output_type": "execute_result"
    }
   ],
   "source": [
    "vax_df_train,vax_df_test = train_test_split(vax_df.url.values,test_size=0.2)\n",
    "len(vax_df_train),len(vax_df_test)"
   ]
  },
  {
   "cell_type": "code",
   "execution_count": 192,
   "metadata": {
    "hidden": true
   },
   "outputs": [],
   "source": [
    "with open('all.vax.fulltexts.uncased.train.raw','w+') as f:\n",
    "    for url in vax_df_train:\n",
    "        f.write(' '.join(get_fulltext(url)).lower())\n",
    "        f.write('\\n')\n",
    "    for s in train_sents:\n",
    "        f.write(s.lower()+' ')\n",
    "        \n",
    "with open('all.vax.fulltexts.uncased.test.raw','w+') as f:\n",
    "    for url in vax_df_test:\n",
    "        f.write(' '.join(get_fulltext(url)).lower())\n",
    "        f.write('\\n')\n",
    "    for s in test_sents:\n",
    "        f.write(s.lower()+' ')"
   ]
  },
  {
   "cell_type": "markdown",
   "metadata": {
    "heading_collapsed": true,
    "hidden": true
   },
   "source": [
    "## Create train/test/dev splits"
   ]
  },
  {
   "cell_type": "code",
   "execution_count": 193,
   "metadata": {
    "code_folding": [],
    "hidden": true,
    "scrolled": true
   },
   "outputs": [
    {
     "name": "stdout",
     "output_type": "stream",
     "text": [
      "./scripts/save/vanilla/\n",
      "(0, 3)\n"
     ]
    }
   ],
   "source": [
    "data_type = 'vanilla' # 'my_annotations','skeppstedt','both_vax',None\n",
    "do_downsample = False\n",
    "\n",
    "if do_downsample:\n",
    "    SAVE_DIR = './scripts/save/{}_downsampled/'.format(data_type)\n",
    "else:\n",
    "    SAVE_DIR = './scripts/save/{}/'.format(data_type)\n",
    "print(SAVE_DIR)\n",
    "if not os.path.exists(SAVE_DIR):\n",
    "    os.mkdir(SAVE_DIR)\n",
    "\n",
    "if data_type != 'both_vax':\n",
    "    data_df = vax_labeled_dat_df.loc[vax_labeled_dat_df.type == data_type]\n",
    "else:\n",
    "    data_df = vax_labeled_dat_df\n",
    "\n",
    "if data_df is not None:\n",
    "    print(data_df.shape) "
   ]
  },
  {
   "cell_type": "code",
   "execution_count": 150,
   "metadata": {
    "hidden": true
   },
   "outputs": [
    {
     "data": {
      "text/plain": [
       "RangeIndex(start=0, stop=2130, step=1)"
      ]
     },
     "execution_count": 150,
     "metadata": {},
     "output_type": "execute_result"
    }
   ],
   "source": [
    "vax_labeled_dat_df.index"
   ]
  },
  {
   "cell_type": "code",
   "execution_count": 151,
   "metadata": {
    "hidden": true
   },
   "outputs": [
    {
     "data": {
      "text/plain": [
       "(700, 300)"
      ]
     },
     "execution_count": 151,
     "metadata": {},
     "output_type": "execute_result"
    }
   ],
   "source": [
    "train_ix,eval_ix = train_test_split(vax_labeled_dat_df.loc[vax_labeled_dat_df.type=='my_annotations']\\\n",
    "                                    .index.values,test_size=300)\n",
    "len(train_ix),len(eval_ix)"
   ]
  },
  {
   "cell_type": "code",
   "execution_count": 152,
   "metadata": {
    "hidden": true
   },
   "outputs": [],
   "source": [
    "SHARED_EVAL_IX = eval_ix.copy()"
   ]
  },
  {
   "cell_type": "code",
   "execution_count": 153,
   "metadata": {
    "hidden": true
   },
   "outputs": [
    {
     "data": {
      "text/plain": [
       "(100, 200)"
      ]
     },
     "execution_count": 153,
     "metadata": {},
     "output_type": "execute_result"
    }
   ],
   "source": [
    "dev_ix,test_ix = train_test_split(eval_ix,test_size=200)\n",
    "len(dev_ix),len(test_ix)"
   ]
  },
  {
   "cell_type": "code",
   "execution_count": 155,
   "metadata": {
    "hidden": true,
    "scrolled": true
   },
   "outputs": [
    {
     "name": "stdout",
     "output_type": "stream",
     "text": [
      "(1830, 3) (100, 3) (200, 3)\n"
     ]
    }
   ],
   "source": [
    "train_df = data_df[~data_df.index.isin(SHARED_EVAL_IX)]\n",
    "dev_df = data_df.loc[dev_ix]\n",
    "test_df = data_df.loc[test_ix]\n",
    "print(train_df.shape,dev_df.shape,test_df.shape)"
   ]
  },
  {
   "cell_type": "markdown",
   "metadata": {
    "heading_collapsed": true,
    "hidden": true
   },
   "source": [
    "## Writing to files"
   ]
  },
  {
   "cell_type": "code",
   "execution_count": 156,
   "metadata": {
    "hidden": true
   },
   "outputs": [
    {
     "name": "stdout",
     "output_type": "stream",
     "text": [
      "Train distribution:\n",
      "2    649\n",
      "0    610\n",
      "1    571\n",
      "Name: stance, dtype: int64\n",
      "\n",
      "Dev distribution:\n",
      "1    56\n",
      "2    26\n",
      "0    18\n",
      "Name: stance, dtype: int64\n",
      "\n",
      "Test distribution:\n",
      "1    108\n",
      "2    52 \n",
      "0    40 \n",
      "Name: stance, dtype: int64\n"
     ]
    }
   ],
   "source": [
    "train_df_by_stance = {s: train_df.loc[train_df.stance == s] for s in vax_stances} if train_df is not None else None\n",
    "dev_df_by_stance = {s: dev_df.loc[dev_df.stance == s] for s in vax_stances}\n",
    "test_df_by_stance = {s: test_df.loc[test_df.stance == s] for s in vax_stances}\n",
    "\n",
    "train_X_by_stance = {s: train_df_by_stance[s].text.values for i,s in enumerate(vax_stances)} if train_df is not None else None\n",
    "dev_X_by_stance = {s: dev_df_by_stance[s].text.values for i,s in enumerate(vax_stances)}\n",
    "test_X_by_stance = {s: test_df_by_stance[s].text.values for i,s in enumerate(vax_stances)}\n",
    "\n",
    "train_Y_by_stance = {s: np.array([vax_class_nums[x] for x in train_df_by_stance[s].stance]) for i,s in enumerate(vax_stances)} if train_df is not None else None\n",
    "dev_Y_by_stance = {s: np.array([vax_class_nums[x] for x in dev_df_by_stance[s].stance]) for i,s in enumerate(vax_stances)}\n",
    "test_Y_by_stance = {s: np.array([vax_class_nums[x] for x in test_df_by_stance[s].stance]) for i,s in enumerate(vax_stances)}\n",
    "\n",
    "if do_downsample:\n",
    "    min_N = min([len(train_X_by_stance[s]) for s in vax_stances])\n",
    "    print('Downsampling to ~{} examples per stance.'.format(min_N))\n",
    "    for s in vax_stances:\n",
    "        train_X_by_stance[s] = train_X_by_stance[s][:min_N+50]\n",
    "\n",
    "if train_df is not None:\n",
    "    trX = []\n",
    "    trY = []\n",
    "    for i,s in enumerate(vax_stances):\n",
    "        for t, y in zip(train_X_by_stance[s], train_Y_by_stance[s]):\n",
    "            trX.append(t)\n",
    "            trY.append(y)\n",
    "\n",
    "teX = []\n",
    "teY = []\n",
    "for i,s in enumerate(vax_stances):\n",
    "    for t, y in zip(test_X_by_stance[s], test_Y_by_stance[s]):\n",
    "        teX.append(t)\n",
    "        teY.append(y)\n",
    "\n",
    "vaX = []\n",
    "vaY = []\n",
    "for i,s in enumerate(vax_stances):\n",
    "    for t, y in zip(dev_X_by_stance[s], dev_Y_by_stance[s]):\n",
    "        vaX.append(t)\n",
    "        vaY.append(y)\n",
    "        \n",
    "        \n",
    "test_dat = pd.DataFrame({'sentence':teX,'stance':teY})\n",
    "train_dat = pd.DataFrame({'sentence':trX,'stance':trY}) if train_df is not None else None\n",
    "val_dat = pd.DataFrame({'sentence':vaX,'stance':vaY})\n",
    "if train_df is not None:\n",
    "    print('Train distribution:')\n",
    "    print(train_dat.stance.value_counts()) \n",
    "print('\\nDev distribution:')\n",
    "print(val_dat.stance.value_counts())\n",
    "print('\\nTest distribution:')\n",
    "print(test_dat.stance.value_counts())\n",
    "\n",
    "if train_df is not None:\n",
    "    train_dat.to_csv(SAVE_DIR+'train.tsv',sep='\\t',header=None,index=False)\n",
    "val_dat.to_csv(SAVE_DIR+'dev.tsv',sep='\\t',header=None,index=False)\n",
    "test_dat.to_csv(SAVE_DIR+'test.tsv',sep='\\t',header=None,index=False)"
   ]
  },
  {
   "cell_type": "markdown",
   "metadata": {
    "heading_collapsed": true
   },
   "source": [
    "# Vanilla MTurk--Dallas estimated true labels"
   ]
  },
  {
   "cell_type": "code",
   "execution_count": null,
   "metadata": {
    "hidden": true
   },
   "outputs": [],
   "source": [
    "dallas_sentence_scores = pd.read_csv('/Users/yiweiluo/scientific-debates/\\\n",
    "cc_stance/MTurk/MTurk_results/sent_scores_df.tsv',delimiter='\\t')\n",
    "dallas_sentence_scores['max_prob_label'] = dallas_sentence_scores[['disagree',\n",
    "                                                                  'neutral',\n",
    "                                                                  'agree']].idxmax(axis=1)\n",
    "dallas_sentence_scores.shape"
   ]
  },
  {
   "cell_type": "code",
   "execution_count": null,
   "metadata": {
    "hidden": true
   },
   "outputs": [],
   "source": [
    "mturk_data_df = pd.DataFrame({\n",
    "    'source':['round{}_batch{}_sentid{}'.format(row['round'],\n",
    "                                                              row['batch'],\n",
    "                                                              row['sent_id'])\n",
    "                              for ix,row in dallas_sentence_scores.iterrows()],\n",
    "    'type':['mturk']*len(dallas_sentence_scores),\n",
    "    'text':[row['sentence'] for ix,row in \n",
    "                             dallas_sentence_scores.iterrows()],\n",
    "    'stance':[row['max_prob_label'] for ix,row in \n",
    "                             dallas_sentence_scores.iterrows()]\n",
    "})\n",
    "mturk_data_df.shape"
   ]
  },
  {
   "cell_type": "code",
   "execution_count": null,
   "metadata": {
    "hidden": true
   },
   "outputs": [],
   "source": [
    "labeled_data['source'].extend(['round{}_batch{}_sentid{}'.format(row['round'],\n",
    "                                                              row['batch'],\n",
    "                                                              row['sent_id'])\n",
    "                              for ix,row in dallas_sentence_scores.iterrows()])\n",
    "labeled_data['type'].extend(['mturk']*len(dallas_sentence_scores))\n",
    "labeled_data['text'].extend([row['sentence'] for ix,row in \n",
    "                             dallas_sentence_scores.iterrows()])\n",
    "labeled_data['stance'].extend([row['max_prob_label'] for ix,row in \n",
    "                             dallas_sentence_scores.iterrows()])\n",
    "labeled_data_df = pd.DataFrame(labeled_data)\n",
    "labeled_data_df.head(10)"
   ]
  },
  {
   "cell_type": "code",
   "execution_count": 57,
   "metadata": {
    "hidden": true,
    "scrolled": true
   },
   "outputs": [
    {
     "data": {
      "text/plain": [
       "neutral     863\n",
       "agree       783\n",
       "disagree    404\n",
       "Name: stance, dtype: int64"
      ]
     },
     "execution_count": 57,
     "metadata": {},
     "output_type": "execute_result"
    }
   ],
   "source": [
    "mturk_df.stance.value_counts()"
   ]
  },
  {
   "cell_type": "markdown",
   "metadata": {},
   "source": [
    "# Vanilla MTurk -- subset to high IAA"
   ]
  },
  {
   "cell_type": "code",
   "execution_count": 191,
   "metadata": {},
   "outputs": [],
   "source": [
    "all_round_data = {r: {} for r in range(1,6)}\n",
    "for round_no in range(1,6):\n",
    "    all_round_data[round_no] = pickle.load(open('/Users/yiweiluo/Dropbox/research/QP2/code/Fox_and_friends/\\\n",
    "LIVE_ROUND{}_BATCH_DATA.pkl'.format(round_no),'rb'))"
   ]
  },
  {
   "cell_type": "code",
   "execution_count": 227,
   "metadata": {
    "scrolled": true
   },
   "outputs": [],
   "source": [
    "PROP_AGREE = 0.75"
   ]
  },
  {
   "cell_type": "code",
   "execution_count": 204,
   "metadata": {},
   "outputs": [],
   "source": [
    "worker_labels_per_round = pickle.load(open('../MTurk/MTurk_results/full_ratings_per_round.pkl','rb'))"
   ]
  },
  {
   "cell_type": "code",
   "execution_count": 230,
   "metadata": {
    "code_folding": [
     1
    ]
   },
   "outputs": [],
   "source": [
    "src_df,type_df,text_df,stance_df,nli_label_df = [],[],[],[],[]\n",
    "for r in range(1,6):\n",
    "    for b in range(0,10):\n",
    "        labels = worker_labels_per_round[r][b]\n",
    "        for s_id in labels.index[5:-1]:\n",
    "            source = 'round{}_batch{}_sentid{}'.format(r,b,s_id)\n",
    "            type_ = 'mturk_high_iaa'\n",
    "            text = labels.loc[s_id].sentence\n",
    "            ratings = labels.loc[s_id][['worker_{}'.format(w_id) for w_id in range(0,8)]].values\n",
    "            counted_ratings = Counter(ratings)\n",
    "            top_rating = counted_ratings.most_common()[0]\n",
    "            if top_rating[-1] >= PROP_AGREE*8:\n",
    "                stance = top_rating[0]\n",
    "                nli_label = stance2nli[stance]\n",
    "                src_df.append(source)\n",
    "                type_df.append(type_)\n",
    "                text_df.append(text)\n",
    "                stance_df.append(stance)\n",
    "                nli_label_df.append(nli_label)"
   ]
  },
  {
   "cell_type": "code",
   "execution_count": 231,
   "metadata": {},
   "outputs": [],
   "source": [
    "high_iaa_mturk_df = pd.DataFrame({'source':src_df,\"type\":type_df,\"text\":text_df,\"stance\":stance_df,\n",
    "                                 \"nli_label\":nli_label_df})"
   ]
  },
  {
   "cell_type": "code",
   "execution_count": 241,
   "metadata": {
    "scrolled": true
   },
   "outputs": [
    {
     "data": {
      "text/plain": [
       "((1120, 5), (1124, 5))"
      ]
     },
     "execution_count": 241,
     "metadata": {},
     "output_type": "execute_result"
    }
   ],
   "source": [
    "dedup_high_iaa_mturk_df = high_iaa_mturk_df.drop_duplicates('text',keep='first')\n",
    "dedup_high_iaa_mturk_df.shape,high_iaa_mturk_df.shape"
   ]
  },
  {
   "cell_type": "code",
   "execution_count": 248,
   "metadata": {},
   "outputs": [],
   "source": [
    "labeled_data = labeled_data.append(dedup_high_iaa_mturk_df,ignore_index=True)"
   ]
  },
  {
   "cell_type": "markdown",
   "metadata": {},
   "source": [
    "# Add back translations"
   ]
  },
  {
   "cell_type": "code",
   "execution_count": 323,
   "metadata": {},
   "outputs": [],
   "source": [
    "back_trans_fr = pd.read_csv('../data/mturk_french_backtranslations.tsv',sep='\\t',\n",
    "                        header=0,index_col=0)"
   ]
  },
  {
   "cell_type": "code",
   "execution_count": null,
   "metadata": {},
   "outputs": [],
   "source": [
    "# need to make sure that whatever is chosen for test set, train set doesn't contain original source text "
   ]
  },
  {
   "cell_type": "code",
   "execution_count": 194,
   "metadata": {
    "scrolled": true
   },
   "outputs": [],
   "source": [
    "#back_trans_df.head()"
   ]
  },
  {
   "cell_type": "code",
   "execution_count": 95,
   "metadata": {},
   "outputs": [],
   "source": [
    "train_ix,test_ix = train_test_split(list(mturk_df.index),test_size=0.25)"
   ]
  },
  {
   "cell_type": "code",
   "execution_count": 96,
   "metadata": {},
   "outputs": [
    {
     "data": {
      "text/plain": [
       "(1537, 513)"
      ]
     },
     "execution_count": 96,
     "metadata": {},
     "output_type": "execute_result"
    }
   ],
   "source": [
    "len(train_ix),len(test_ix)\n",
    "# To include w/ backtranslated training data; to exclude from backtranslated portion of training data"
   ]
  },
  {
   "cell_type": "code",
   "execution_count": 193,
   "metadata": {
    "scrolled": true
   },
   "outputs": [],
   "source": [
    "test_df = mturk_df.loc[test_ix]\n",
    "#test_df"
   ]
  },
  {
   "cell_type": "code",
   "execution_count": 99,
   "metadata": {
    "scrolled": true
   },
   "outputs": [
    {
     "data": {
      "text/plain": [
       "(1537, 4)"
      ]
     },
     "execution_count": 99,
     "metadata": {},
     "output_type": "execute_result"
    }
   ],
   "source": [
    "mturk_test_sources = set(mturk_df.loc[test_ix].source.values)\n",
    "backtrans_train_df = back_trans_df.loc[~back_trans_df.source.isin(mturk_test_sources)]\n",
    "backtrans_train_df.shape"
   ]
  },
  {
   "cell_type": "code",
   "execution_count": 100,
   "metadata": {},
   "outputs": [],
   "source": [
    "train_df = mturk_df.loc[train_ix].append(backtrans_train_df)"
   ]
  },
  {
   "cell_type": "code",
   "execution_count": 101,
   "metadata": {
    "scrolled": true
   },
   "outputs": [
    {
     "data": {
      "text/plain": [
       "set()"
      ]
     },
     "execution_count": 101,
     "metadata": {},
     "output_type": "execute_result"
    }
   ],
   "source": [
    "# Make sure that train/test have no overlap in source\n",
    "set(train_df.source.values).intersection(set(test_df.source.values))"
   ]
  },
  {
   "cell_type": "code",
   "execution_count": 102,
   "metadata": {},
   "outputs": [
    {
     "data": {
      "text/plain": [
       "1537"
      ]
     },
     "execution_count": 102,
     "metadata": {},
     "output_type": "execute_result"
    }
   ],
   "source": [
    "# It's okay for backtrans_train_df and mturk_df[train_ix] to have source overlap\n",
    "# In fact, we expect overlap to be exactly 2050-len(test_df)\n",
    "len(set(mturk_df.loc[train_ix].source.values).intersection(backtrans_train_df.source.values))"
   ]
  },
  {
   "cell_type": "code",
   "execution_count": 103,
   "metadata": {},
   "outputs": [
    {
     "data": {
      "text/plain": [
       "1537"
      ]
     },
     "execution_count": 103,
     "metadata": {},
     "output_type": "execute_result"
    }
   ],
   "source": [
    "2050-len(test_df)"
   ]
  },
  {
   "cell_type": "code",
   "execution_count": 104,
   "metadata": {},
   "outputs": [
    {
     "data": {
      "text/plain": [
       "((3074, 4), (513, 4))"
      ]
     },
     "execution_count": 104,
     "metadata": {},
     "output_type": "execute_result"
    }
   ],
   "source": [
    "train_df.shape,test_df.shape"
   ]
  },
  {
   "cell_type": "code",
   "execution_count": 105,
   "metadata": {},
   "outputs": [
    {
     "name": "stdout",
     "output_type": "stream",
     "text": [
      "205 308\n",
      "(205, 4) (308, 4)\n"
     ]
    }
   ],
   "source": [
    "# split test_df into test and val dfs:\n",
    "val_ix,test_ix = train_test_split(list(test_df.index),test_size=0.6)\n",
    "print(len(val_ix),len(test_ix))\n",
    "val_df = test_df.loc[val_ix]\n",
    "test_df = test_df.loc[test_ix]\n",
    "print(val_df.shape,test_df.shape)"
   ]
  },
  {
   "cell_type": "code",
   "execution_count": 106,
   "metadata": {},
   "outputs": [
    {
     "name": "stdout",
     "output_type": "stream",
     "text": [
      "1    129\n",
      "0    122\n",
      "2    57 \n",
      "Name: stance, dtype: int64\n",
      "1    1288\n",
      "0    1172\n",
      "2    614 \n",
      "Name: stance, dtype: int64\n",
      "1    90\n",
      "0    75\n",
      "2    40\n",
      "Name: stance, dtype: int64\n"
     ]
    }
   ],
   "source": [
    "stances = [\"agree\", \"neutral\", \"disagree\"]\n",
    "class_nums = {s: i for i, s in enumerate(stances)}\n",
    "\n",
    "train_df_by_stance = {s: train_df.loc[train_df.stance == s] for s in stances}\n",
    "val_df_by_stance = {s: val_df.loc[val_df.stance == s] for s in stances}\n",
    "test_df_by_stance = {s: test_df.loc[test_df.stance == s] for s in stances}\n",
    "\n",
    "train_X_by_stance = {s: train_df_by_stance[s].text.values for i,s in enumerate(stances)}\n",
    "dev_X_by_stance = {s: val_df_by_stance[s].text.values for i,s in enumerate(stances)}\n",
    "test_X_by_stance = {s: test_df_by_stance[s].text.values for i,s in enumerate(stances)}\n",
    "\n",
    "train_Y_by_stance = {s: np.array([class_nums[x] for x in train_df_by_stance[s].stance]) for i,s in enumerate(stances)}\n",
    "dev_Y_by_stance = {s: np.array([class_nums[x] for x in val_df_by_stance[s].stance]) for i,s in enumerate(stances)}\n",
    "test_Y_by_stance = {s: np.array([class_nums[x] for x in test_df_by_stance[s].stance]) for i,s in enumerate(stances)}\n",
    "#print(train_Y_by_stance)\n",
    "\n",
    "# if args.downsample:\n",
    "#     min_N = min([len(train_X_by_stance[s]) for s in stances])\n",
    "#     print('Downsampling to ~{} examples per stance.'.format(min_N))\n",
    "#     for s in stances:\n",
    "#         train_X_by_stance[s] = train_X_by_stance[s][:min_N+200]\n",
    "\n",
    "trX = []\n",
    "trY = []\n",
    "for i,s in enumerate(stances):\n",
    "    for t, y in zip(train_X_by_stance[s], train_Y_by_stance[s]):\n",
    "        trX.append(t)\n",
    "        trY.append(y)\n",
    "\n",
    "teX = []\n",
    "teY = []\n",
    "for i,s in enumerate(stances):\n",
    "    for t, y in zip(test_X_by_stance[s], test_Y_by_stance[s]):\n",
    "        teX.append(t)\n",
    "        teY.append(y)\n",
    "\n",
    "vaX = []\n",
    "vaY = []\n",
    "for i,s in enumerate(stances):\n",
    "    for t, y in zip(dev_X_by_stance[s], dev_Y_by_stance[s]):\n",
    "        vaX.append(t)\n",
    "        vaY.append(y)\n",
    "        \n",
    "        \n",
    "test_df = pd.DataFrame({'sentence':teX,'stance':teY})\n",
    "train_df = pd.DataFrame({'sentence':trX,'stance':trY})\n",
    "val_df = pd.DataFrame({'sentence':vaX,'stance':vaY})\n",
    "print(test_df.stance.value_counts())\n",
    "print(train_df.stance.value_counts())\n",
    "print(val_df.stance.value_counts())\n",
    "\n",
    "# save_path = Path(save_dir)/desc\n",
    "# os.mkdir(save_path)\n",
    "# test_df.to_csv(save_path/'test.tsv',sep='\\t',header=None,index=False)\n",
    "# train_df.to_csv(save_path/'train.tsv',sep='\\t',header=None,index=False)\n",
    "# val_df.to_csv(save_path/'dev.tsv',sep='\\t',header=None,index=False)"
   ]
  },
  {
   "cell_type": "code",
   "execution_count": 107,
   "metadata": {},
   "outputs": [],
   "source": [
    "test_df.to_csv('./scripts/save/mturk_with_backtrans/test.tsv',sep='\\t',header=None,index=False)\n",
    "train_df.to_csv('./scripts/save/mturk_with_backtrans/train.tsv',sep='\\t',header=None,index=False)\n",
    "val_df.to_csv('./scripts/save/mturk_with_backtrans/dev.tsv',sep='\\t',header=None,index=False)"
   ]
  },
  {
   "cell_type": "code",
   "execution_count": 72,
   "metadata": {
    "code_folding": []
   },
   "outputs": [],
   "source": [
    "back_trans_zh['stance'] = [mturk_df.loc[mturk_df.source=='round{}_batch{}_sentid{}'.\\\n",
    "                                     format(row['round'],row['batch'],row['sent_id'])].stance.values[0]\n",
    "                       for ix,row in back_trans_zh.iterrows()]"
   ]
  },
  {
   "cell_type": "code",
   "execution_count": 81,
   "metadata": {
    "code_folding": []
   },
   "outputs": [],
   "source": [
    "back_trans_zh_df = pd.DataFrame({\n",
    "    'source':['round{}_batch{}_sentid{}'.format(row['round'],row['batch'],row['sent_id'])\n",
    "             for ix,row in back_trans_zh.iterrows()],\n",
    "    'type':['mturk_zh_backtrans']*len(back_trans_zh),\n",
    "    'text':[row['backtranslation_zh_en'] for ix,row in back_trans_zh.iterrows()],\n",
    "    'stance':back_trans_zh['stance']\n",
    "})"
   ]
  },
  {
   "cell_type": "code",
   "execution_count": 41,
   "metadata": {
    "scrolled": true
   },
   "outputs": [],
   "source": [
    "#back_trans_df"
   ]
  },
  {
   "cell_type": "code",
   "execution_count": 31,
   "metadata": {},
   "outputs": [
    {
     "data": {
      "text/plain": [
       "(2050, 4)"
      ]
     },
     "execution_count": 31,
     "metadata": {},
     "output_type": "execute_result"
    }
   ],
   "source": [
    "mturk_df.shape"
   ]
  },
  {
   "cell_type": "code",
   "execution_count": 82,
   "metadata": {
    "scrolled": true
   },
   "outputs": [
    {
     "data": {
      "text/plain": [
       "(2050, 4)"
      ]
     },
     "execution_count": 82,
     "metadata": {},
     "output_type": "execute_result"
    }
   ],
   "source": [
    "back_trans_zh_df.shape"
   ]
  },
  {
   "cell_type": "code",
   "execution_count": null,
   "metadata": {},
   "outputs": [],
   "source": []
  },
  {
   "cell_type": "code",
   "execution_count": 83,
   "metadata": {},
   "outputs": [
    {
     "data": {
      "text/plain": [
       "(682595, 4)"
      ]
     },
     "execution_count": 83,
     "metadata": {},
     "output_type": "execute_result"
    }
   ],
   "source": [
    "labeled_data = labeled_data.append(back_trans_zh_df,ignore_index=True)\n",
    "labeled_data.shape"
   ]
  },
  {
   "cell_type": "code",
   "execution_count": 84,
   "metadata": {},
   "outputs": [
    {
     "data": {
      "text/plain": [
       "twint_tweet               520886\n",
       "dallas_news_predicted     114686\n",
       "dallas_news               40309 \n",
       "mturk_zh_backtrans        2050  \n",
       "mturk_french_backtrans    2050  \n",
       "mturk                     2050  \n",
       "semeval_train_tweets      395   \n",
       "semeval_tweets            169   \n",
       "Name: type, dtype: int64"
      ]
     },
     "execution_count": 84,
     "metadata": {},
     "output_type": "execute_result"
    }
   ],
   "source": [
    "labeled_data.type.value_counts()"
   ]
  },
  {
   "cell_type": "markdown",
   "metadata": {
    "heading_collapsed": true
   },
   "source": [
    "# Comp clauses w/ +/- 2 sentence window"
   ]
  },
  {
   "cell_type": "markdown",
   "metadata": {
    "heading_collapsed": true,
    "hidden": true
   },
   "source": [
    "## Create train data from expanded windows for labeled MTurk"
   ]
  },
  {
   "cell_type": "code",
   "execution_count": 8,
   "metadata": {
    "hidden": true
   },
   "outputs": [
    {
     "data": {
      "text/plain": [
       "(2042, 5)"
      ]
     },
     "execution_count": 8,
     "metadata": {},
     "output_type": "execute_result"
    }
   ],
   "source": [
    "mturk_df = labeled_data[labeled_data.type=='mturk']\n",
    "mturk_df = mturk_df.drop_duplicates('text',keep='first')\n",
    "mturk_df.shape"
   ]
  },
  {
   "cell_type": "code",
   "execution_count": 10,
   "metadata": {
    "hidden": true
   },
   "outputs": [],
   "source": [
    "all_round_data = {r: {} for r in range(1,6)}\n",
    "for round_no in range(1,6):\n",
    "    all_round_data[round_no] = pickle.load(open('/Users/yiweiluo/Dropbox/research/QP2/code/Fox_and_friends/\\\n",
    "LIVE_ROUND{}_BATCH_DATA.pkl'.format(round_no),'rb'))"
   ]
  },
  {
   "cell_type": "code",
   "execution_count": 12,
   "metadata": {
    "hidden": true,
    "scrolled": true
   },
   "outputs": [],
   "source": [
    "data_for_mturk_df = pd.read_pickle('/Users/yiweiluo/Dropbox/research/QP2/code/Fox_and_friends/\\\n",
    "data_for_mturk_2020.pkl')\n",
    "data_for_mturk_df_old = pd.read_pickle('/Users/yiweiluo/Dropbox/research/QP2/code/Fox_and_friends/\\\n",
    "data_for_mturk.pkl')"
   ]
  },
  {
   "cell_type": "code",
   "execution_count": 119,
   "metadata": {
    "hidden": true
   },
   "outputs": [],
   "source": [
    "fnames = os.listdir('../../data_scraping/fulltexts')"
   ]
  },
  {
   "cell_type": "code",
   "execution_count": 155,
   "metadata": {
    "hidden": true,
    "scrolled": true
   },
   "outputs": [
    {
     "data": {
      "text/plain": [
       "0"
      ]
     },
     "execution_count": 155,
     "metadata": {},
     "output_type": "execute_result"
    }
   ],
   "source": [
    "dotearth_fnames = [x for x in fnames if 'dotearth.' in x]\n",
    "len(dotearth_fnames)"
   ]
  },
  {
   "cell_type": "code",
   "execution_count": 62,
   "metadata": {
    "hidden": true,
    "scrolled": true
   },
   "outputs": [
    {
     "data": {
      "text/plain": [
       "400"
      ]
     },
     "execution_count": 62,
     "metadata": {},
     "output_type": "execute_result"
    }
   ],
   "source": [
    "len(eval_ix)"
   ]
  },
  {
   "cell_type": "code",
   "execution_count": 167,
   "metadata": {
    "hidden": true,
    "scrolled": true
   },
   "outputs": [
    {
     "data": {
      "text/plain": [
       "(1642, 5)"
      ]
     },
     "execution_count": 167,
     "metadata": {},
     "output_type": "execute_result"
    }
   ],
   "source": [
    "mturk_df.loc[~mturk_df.index.isin(eval_ix)].shape"
   ]
  },
  {
   "cell_type": "code",
   "execution_count": 103,
   "metadata": {
    "hidden": true
   },
   "outputs": [
    {
     "data": {
      "text/plain": [
       "(140, 260)"
      ]
     },
     "execution_count": 103,
     "metadata": {},
     "output_type": "execute_result"
    }
   ],
   "source": [
    "len(dev_ix),len(test_ix)"
   ]
  },
  {
   "cell_type": "code",
   "execution_count": 189,
   "metadata": {
    "hidden": true
   },
   "outputs": [],
   "source": [
    "WINDOW_SIZE=2"
   ]
  },
  {
   "cell_type": "code",
   "execution_count": 190,
   "metadata": {
    "code_folding": [
     57,
     113
    ],
    "hidden": true,
    "scrolled": true
   },
   "outputs": [],
   "source": [
    "test_ex,test_lab,test_nli_lab = [],[],[]\n",
    "for te_ix in test_ix:\n",
    "    mturk_df_row = mturk_df.loc[te_ix]\n",
    "    target_sent = mturk_df_row.text\n",
    "    src = mturk_df_row.source\n",
    "    split_src = src.split('_')\n",
    "    r = split_src[0][-1]\n",
    "    b = split_src[1][-1]\n",
    "    s_id = split_src[-1][6:]\n",
    "    #print('Target sent:',target_sent)\n",
    "    #print('Round: {}, batch: {}, sent_id: {}'.format(r,b,s_id))\n",
    "    rb_df = pd.DataFrame(all_round_data[int(r)][int(b)])\n",
    "    df_key = rb_df.loc[rb_df.sent_id == s_id].df_key.values[0]\n",
    "    #print('df key:',df_key)\n",
    "    \n",
    "    if int(r) < 5:\n",
    "        sent_key = data_for_mturk_df_old.loc[df_key].sent_key\n",
    "    else:\n",
    "        sent_key = data_for_mturk_df.loc[df_key].sent_key\n",
    "        \n",
    "    url = sent_key.split(' of ')[-1]\n",
    "    if url[:4] == 'http':\n",
    "        url = url.split('://')[-1]\n",
    "    #print('url:',url)\n",
    "    \n",
    "    fname = url.replace('/','[SEP]')\n",
    "    fname = '{}.txt'.format(fname) if '{}.txt'.format(fname) in fnames else '{}.txt'.format(fname[:90])\n",
    "    #print('fname:',fname)\n",
    "    \n",
    "    if fname in fnames:\n",
    "    \n",
    "        with open(os.path.join('../../data_scraping/fulltexts',fname)) as f:\n",
    "            text = f.readlines()\n",
    "        if len(text) > 0:\n",
    "            text = text[0]\n",
    "\n",
    "            text_sents = sent_tokenize(text)\n",
    "            sent_with_target = process.extract(target_sent, text_sents, limit=1)\n",
    "            #print('Found sentence containing target sent:',sent_with_target)\n",
    "            ix_target_sent = text_sents.index(sent_with_target[0][0])\n",
    "\n",
    "            w_start = max(0,ix_target_sent-WINDOW_SIZE)\n",
    "            w_end = min(ix_target_sent+WINDOW_SIZE,len(text_sents)-1)\n",
    "            w_left = text_sents[w_start:ix_target_sent]\n",
    "            w_right = text_sents[ix_target_sent+1:w_end+1]\n",
    "            #print('Left sentence(s):',w_left)\n",
    "            #print('Right sentence(s):',w_right)\n",
    "            BERT_input = '[SEP] '.join(w_left)+' [SEP] [CLS] '+target_sent+' [SEP] '+' [SEP] '.join(w_right)\n",
    "            if BERT_input[:6] != ' [SEP]':\n",
    "                #print('Padding beginning with [SEP]...')\n",
    "                BERT_input = '[SEP] '+BERT_input\n",
    "            #print('BERT input:',BERT_input)\n",
    "            test_ex.append(BERT_input)\n",
    "            test_lab.append(mturk_df_row.stance)\n",
    "            test_nli_lab.append(mturk_df_row.nli_label)\n",
    "    \n",
    "dev_ex,dev_lab,dev_nli_lab = [],[],[]\n",
    "for de_ix in dev_ix:\n",
    "    mturk_df_row = mturk_df.loc[de_ix]\n",
    "    target_sent = mturk_df_row.text\n",
    "    src = mturk_df_row.source\n",
    "    split_src = src.split('_')\n",
    "    r = split_src[0][-1]\n",
    "    b = split_src[1][-1]\n",
    "    s_id = split_src[-1][6:]\n",
    "    #print('Target sent:',target_sent)\n",
    "    #print('Round: {}, batch: {}, sent_id: {}'.format(r,b,s_id))\n",
    "    rb_df = pd.DataFrame(all_round_data[int(r)][int(b)])\n",
    "    df_key = rb_df.loc[rb_df.sent_id == s_id].df_key.values[0]\n",
    "    #print('df key:',df_key)\n",
    "    \n",
    "    if int(r) < 5:\n",
    "        sent_key = data_for_mturk_df_old.loc[df_key].sent_key\n",
    "    else:\n",
    "        sent_key = data_for_mturk_df.loc[df_key].sent_key\n",
    "        \n",
    "    url = sent_key.split(' of ')[-1]\n",
    "    if url[:4] == 'http':\n",
    "        url = url.split('://')[-1]\n",
    "    #print('url:',url)\n",
    "    \n",
    "    fname = url.replace('/','[SEP]')\n",
    "    fname = '{}.txt'.format(fname) if '{}.txt'.format(fname) in fnames else '{}.txt'.format(fname[:90])\n",
    "    #print('fname:',fname)\n",
    "    \n",
    "    if fname in fnames:\n",
    "    \n",
    "        with open(os.path.join('../../data_scraping/fulltexts',fname)) as f:\n",
    "            text = f.readlines()\n",
    "        if len(text) > 0:\n",
    "            text = text[0]\n",
    "\n",
    "            text_sents = sent_tokenize(text)\n",
    "            sent_with_target = process.extract(target_sent, text_sents, limit=1)\n",
    "            #print('Found sentence containing target sent:',sent_with_target)\n",
    "            ix_target_sent = text_sents.index(sent_with_target[0][0])\n",
    "\n",
    "            w_start = max(0,ix_target_sent-WINDOW_SIZE)\n",
    "            w_end = min(ix_target_sent+WINDOW_SIZE,len(text_sents)-1)\n",
    "            w_left = text_sents[w_start:ix_target_sent]\n",
    "            w_right = text_sents[ix_target_sent+1:w_end+1]\n",
    "            #print('Left sentence(s):',w_left)\n",
    "            #print('Right sentence(s):',w_right)\n",
    "            BERT_input = '[SEP] '.join(w_left)+' [SEP] [CLS] '+target_sent+' [SEP] '+' [SEP] '.join(w_right)\n",
    "            if BERT_input[:6] != ' [SEP]':\n",
    "                #print('Padding beginning with [SEP]...')\n",
    "                BERT_input = '[SEP] '+BERT_input\n",
    "            #print('BERT input:',BERT_input)\n",
    "            dev_ex.append(BERT_input)\n",
    "            dev_lab.append(mturk_df_row.stance)\n",
    "            dev_nli_lab.append(mturk_df_row.nli_label)\n",
    "            \n",
    "tr_ex,tr_lab,tr_nli_lab = [],[],[]\n",
    "for tr_ix in mturk_df.loc[~mturk_df.index.isin(eval_ix)].index:\n",
    "    mturk_df_row = mturk_df.loc[tr_ix]\n",
    "    target_sent = mturk_df_row.text\n",
    "    src = mturk_df_row.source\n",
    "    split_src = src.split('_')\n",
    "    r = split_src[0][-1]\n",
    "    b = split_src[1][-1]\n",
    "    s_id = split_src[-1][6:]\n",
    "    #print('Target sent:',target_sent)\n",
    "    #print('Round: {}, batch: {}, sent_id: {}'.format(r,b,s_id))\n",
    "    rb_df = pd.DataFrame(all_round_data[int(r)][int(b)])\n",
    "    df_key = rb_df.loc[rb_df.sent_id == s_id].df_key.values[0]\n",
    "    #print('df key:',df_key)\n",
    "    \n",
    "    if int(r) < 5:\n",
    "        sent_key = data_for_mturk_df_old.loc[df_key].sent_key\n",
    "    else:\n",
    "        sent_key = data_for_mturk_df.loc[df_key].sent_key\n",
    "        \n",
    "    url = sent_key.split(' of ')[-1]\n",
    "    if url[:4] == 'http':\n",
    "        url = url.split('://')[-1]\n",
    "    #print('url:',url)\n",
    "    \n",
    "    fname = url.replace('/','[SEP]')\n",
    "    fname = '{}.txt'.format(fname) if '{}.txt'.format(fname) in fnames else '{}.txt'.format(fname[:90])\n",
    "    #print('fname:',fname)\n",
    "    \n",
    "    if fname in fnames:\n",
    "    \n",
    "        with open(os.path.join('../../data_scraping/fulltexts',fname)) as f:\n",
    "            text = f.readlines()\n",
    "        if len(text) > 0:\n",
    "            text = text[0]\n",
    "\n",
    "            text_sents = sent_tokenize(text)\n",
    "            sent_with_target = process.extract(target_sent, text_sents, limit=1)\n",
    "            #print('Found sentence containing target sent:',sent_with_target)\n",
    "            ix_target_sent = text_sents.index(sent_with_target[0][0])\n",
    "\n",
    "            w_start = max(0,ix_target_sent-WINDOW_SIZE)\n",
    "            w_end = min(ix_target_sent+WINDOW_SIZE,len(text_sents)-1)\n",
    "            w_left = text_sents[w_start:ix_target_sent]\n",
    "            w_right = text_sents[ix_target_sent+1:w_end+1]\n",
    "            #print('Left sentence(s):',w_left)\n",
    "            #print('Right sentence(s):',w_right)\n",
    "            BERT_input = '[SEP] '.join(w_left)+' [SEP] [CLS] '+target_sent+' [SEP] '+' [SEP] '.join(w_right)\n",
    "            if BERT_input[:6] != ' [SEP]':\n",
    "                #print('Padding beginning with [SEP]...')\n",
    "                BERT_input = '[SEP] '+BERT_input\n",
    "            #print('BERT input:',BERT_input)\n",
    "            tr_ex.append(BERT_input)\n",
    "            tr_lab.append(mturk_df_row.stance)\n",
    "            tr_nli_lab.append(mturk_df_row.nli_label)"
   ]
  },
  {
   "cell_type": "code",
   "execution_count": 173,
   "metadata": {
    "hidden": true
   },
   "outputs": [
    {
     "data": {
      "text/plain": [
       "(1495, 3)"
      ]
     },
     "execution_count": 173,
     "metadata": {},
     "output_type": "execute_result"
    }
   ],
   "source": [
    "windowed_train_df = pd.DataFrame({\"text\":tr_ex,\"stance\":tr_lab,\"nli_label\":tr_nli_lab})\n",
    "#windowed_train_df['text'] = windowed_train_df['text'].apply(clean_space)\n",
    "#windowed_train_df['stance'] = windowed_train_df['stance'].apply(lambda x: class_nums[x])\n",
    "windowed_train_df.shape"
   ]
  },
  {
   "cell_type": "code",
   "execution_count": 174,
   "metadata": {
    "hidden": true
   },
   "outputs": [
    {
     "data": {
      "text/plain": [
       "(130, 3)"
      ]
     },
     "execution_count": 174,
     "metadata": {},
     "output_type": "execute_result"
    }
   ],
   "source": [
    "windowed_dev_df = pd.DataFrame({\"text\":dev_ex,\"stance\":dev_lab,\"nli_label\":dev_nli_lab})\n",
    "#windowed_dev_df['text'] = windowed_dev_df['text'].apply(clean_space)\n",
    "#windowed_train_df['stance'] = windowed_train_df['stance'].apply(lambda x: class_nums[x])\n",
    "windowed_dev_df.shape"
   ]
  },
  {
   "cell_type": "code",
   "execution_count": 175,
   "metadata": {
    "hidden": true
   },
   "outputs": [
    {
     "data": {
      "text/plain": [
       "(233, 3)"
      ]
     },
     "execution_count": 175,
     "metadata": {},
     "output_type": "execute_result"
    }
   ],
   "source": [
    "windowed_test_df = pd.DataFrame({\"text\":test_ex,\"stance\":test_lab,\"nli_label\":test_nli_lab})\n",
    "#windowed_test_df['text'] = windowed_test_df['text'].apply(clean_space)\n",
    "#windowed_train_df['stance'] = windowed_train_df['stance'].apply(lambda x: class_nums[x])\n",
    "windowed_test_df.shape"
   ]
  },
  {
   "cell_type": "code",
   "execution_count": 183,
   "metadata": {
    "hidden": true
   },
   "outputs": [
    {
     "name": "stdout",
     "output_type": "stream",
     "text": [
      "./scripts/save/mturk_windowed_1\n"
     ]
    }
   ],
   "source": [
    "do_downsample = False\n",
    "SAVE_DIR = './scripts/save/mturk_windowed_{}'.format(WINDOW_SIZE)\n",
    "if do_downsample:\n",
    "    SAVE_DIR += '_downsampled'\n",
    "print(SAVE_DIR)\n",
    "if not os.path.exists(SAVE_DIR):\n",
    "    os.mkdir(SAVE_DIR)"
   ]
  },
  {
   "cell_type": "code",
   "execution_count": 179,
   "metadata": {
    "hidden": true
   },
   "outputs": [],
   "source": [
    "train_df_by_stance = {s: windowed_train_df.loc[windowed_train_df.stance == s] for s in stances}\n",
    "dev_df_by_stance = {s: windowed_dev_df.loc[windowed_dev_df.stance == s] for s in stances}\n",
    "test_df_by_stance = {s: windowed_test_df.loc[windowed_test_df.stance == s] for s in stances}"
   ]
  },
  {
   "cell_type": "code",
   "execution_count": 180,
   "metadata": {
    "hidden": true
   },
   "outputs": [],
   "source": [
    "train_X_by_stance = {s: train_df_by_stance[s].text.values for i,s in enumerate(stances)}\n",
    "dev_X_by_stance = {s: dev_df_by_stance[s].text.values for i,s in enumerate(stances)}\n",
    "test_X_by_stance = {s: test_df_by_stance[s].text.values for i,s in enumerate(stances)}\n",
    "\n",
    "train_Y_by_stance = {s: np.array([class_nums[x] for x in train_df_by_stance[s].stance]) for i,s in enumerate(stances)}\n",
    "dev_Y_by_stance = {s: np.array([class_nums[x] for x in dev_df_by_stance[s].stance]) for i,s in enumerate(stances)}\n",
    "test_Y_by_stance = {s: np.array([class_nums[x] for x in test_df_by_stance[s].stance]) for i,s in enumerate(stances)}\n",
    "\n",
    "if do_downsample:\n",
    "    min_N = min([len(train_X_by_stance[s]) for s in stances])\n",
    "    print('Downsampling to ~{} examples per stance.'.format(min_N))\n",
    "    for s in stances:\n",
    "        train_X_by_stance[s] = train_X_by_stance[s][:min_N+50]\n",
    "\n",
    "trX = []\n",
    "trY = []\n",
    "for i,s in enumerate(stances):\n",
    "    for t, y in zip(train_X_by_stance[s], train_Y_by_stance[s]):\n",
    "        trX.append(t)\n",
    "        trY.append(y)\n",
    "\n",
    "teX = []\n",
    "teY = []\n",
    "for i,s in enumerate(stances):\n",
    "    for t, y in zip(test_X_by_stance[s], test_Y_by_stance[s]):\n",
    "        teX.append(t)\n",
    "        teY.append(y)\n",
    "\n",
    "vaX = []\n",
    "vaY = []\n",
    "for i,s in enumerate(stances):\n",
    "    for t, y in zip(dev_X_by_stance[s], dev_Y_by_stance[s]):\n",
    "        vaX.append(t)\n",
    "        vaY.append(y)\n",
    "\n",
    "trY = np.asarray(trY, dtype=np.int32)\n",
    "vaY = np.asarray(vaY, dtype=np.int32)\n",
    "teY = np.asarray(teY, dtype=np.int32)\n",
    "# #pd.DataFrame({'sentence':teX,'stance':teY,'type':[test_data_type]*len(teX)}).to_csv(data_dir+'/test_data_{}.csv'.format(test_data_type))\n",
    "\n",
    "# return (trX, trY), (vaX, vaY), (teX, teY)"
   ]
  },
  {
   "cell_type": "code",
   "execution_count": 182,
   "metadata": {
    "hidden": true
   },
   "outputs": [
    {
     "name": "stdout",
     "output_type": "stream",
     "text": [
      "1    618\n",
      "0    556\n",
      "2    321\n",
      "Name: stance, dtype: int64\n",
      "0    49\n",
      "1    47\n",
      "2    34\n",
      "Name: stance, dtype: int64\n",
      "1    115\n",
      "0    90 \n",
      "2    28 \n",
      "Name: stance, dtype: int64\n"
     ]
    }
   ],
   "source": [
    "test_df = pd.DataFrame({'sentence':teX,'stance':teY})\n",
    "train_df = pd.DataFrame({'sentence':trX,'stance':trY})\n",
    "val_df = pd.DataFrame({'sentence':vaX,'stance':vaY})\n",
    "print(train_df.stance.value_counts())\n",
    "print(val_df.stance.value_counts())\n",
    "print(test_df.stance.value_counts())"
   ]
  },
  {
   "cell_type": "code",
   "execution_count": 187,
   "metadata": {
    "hidden": true
   },
   "outputs": [
    {
     "data": {
      "text/plain": [
       "1495"
      ]
     },
     "execution_count": 187,
     "metadata": {},
     "output_type": "execute_result"
    }
   ],
   "source": [
    "1174+321"
   ]
  },
  {
   "cell_type": "code",
   "execution_count": 184,
   "metadata": {
    "hidden": true
   },
   "outputs": [],
   "source": [
    "train_df.to_csv(SAVE_DIR+'/train.tsv',\n",
    "                         header=None,index=False,sep='\\t')\n",
    "val_df.to_csv(SAVE_DIR+'/dev.tsv',\n",
    "                                header=None,index=False,sep='\\t')\n",
    "test_df.to_csv(SAVE_DIR+'/test.tsv',\n",
    "                                header=None,index=False,sep='\\t')"
   ]
  },
  {
   "cell_type": "markdown",
   "metadata": {
    "heading_collapsed": true
   },
   "source": [
    "# Flattened MTurk data"
   ]
  },
  {
   "cell_type": "code",
   "execution_count": 6,
   "metadata": {
    "hidden": true
   },
   "outputs": [],
   "source": [
    "res = pd.read_pickle('../MTurk/MTurk_results/dallas_sent_scores.pkl')"
   ]
  },
  {
   "cell_type": "code",
   "execution_count": 195,
   "metadata": {
    "hidden": true
   },
   "outputs": [],
   "source": [
    "#res.head()"
   ]
  },
  {
   "cell_type": "code",
   "execution_count": 7,
   "metadata": {
    "hidden": true
   },
   "outputs": [],
   "source": [
    "worker_res = pd.read_csv('../MTurk/MTurk_results/worker_scores_df.tsv',sep='\\t',index_col=0)"
   ]
  },
  {
   "cell_type": "code",
   "execution_count": 196,
   "metadata": {
    "hidden": true
   },
   "outputs": [],
   "source": [
    "#worker_res.head()"
   ]
  },
  {
   "cell_type": "code",
   "execution_count": 9,
   "metadata": {
    "hidden": true
   },
   "outputs": [],
   "source": [
    "indices_to_exclude = worker_res.loc[worker_res.prop_random > 0.5]"
   ]
  },
  {
   "cell_type": "code",
   "execution_count": 197,
   "metadata": {
    "hidden": true
   },
   "outputs": [],
   "source": [
    "#worker_res.prop_random.plot.hist()"
   ]
  },
  {
   "cell_type": "code",
   "execution_count": 198,
   "metadata": {
    "hidden": true,
    "scrolled": true
   },
   "outputs": [],
   "source": [
    "#indices_to_exclude"
   ]
  },
  {
   "cell_type": "code",
   "execution_count": 12,
   "metadata": {
    "hidden": true
   },
   "outputs": [],
   "source": [
    "full_ratings = pd.read_pickle('../MTurk/MTurk_results/full_ratings_per_round.pkl')"
   ]
  },
  {
   "cell_type": "code",
   "execution_count": 40,
   "metadata": {
    "code_folding": [
     1
    ],
    "hidden": true
   },
   "outputs": [],
   "source": [
    "sources,types,texts,stances,MACEs,outlets = [],[],[],[],[],[]\n",
    "for round_no in range(1,6):\n",
    "    for batch_no in range(0,10):\n",
    "        ratings = full_ratings[round_no][batch_no]\n",
    "        # drop labels from low competence workers\n",
    "        ratings = ratings.drop([c for c in ratings.columns[3:] \n",
    "                               if ratings[c]['MACE competence'] < 0.6], axis=1)\n",
    "        for s_id in ratings.index[5:-1]:\n",
    "            row = ratings.loc[s_id]\n",
    "            for col in row.index[3:]:\n",
    "                rating = row[col]\n",
    "                sources.append('round{}_batch{}_sentid{}'.format(round_no,\n",
    "                                                                batch_no,\n",
    "                                                                s_id))\n",
    "                types.append('mturk_flat')\n",
    "                texts.append(row['sentence'])\n",
    "                stances.append(rating)\n",
    "                MACEs.append(row['MACE_pred'])\n",
    "                outlets.append(get_orig_media_slant(int(round_no),int(batch_no),s_id))"
   ]
  },
  {
   "cell_type": "code",
   "execution_count": 41,
   "metadata": {
    "hidden": true
   },
   "outputs": [],
   "source": [
    "flat_mturk_df = pd.DataFrame.from_dict({\n",
    "    'source':sources,'type':types,'text':texts,'stance':stances,'MACE_pred':MACEs,'outlet':outlets\n",
    "})"
   ]
  },
  {
   "cell_type": "code",
   "execution_count": 42,
   "metadata": {
    "hidden": true,
    "scrolled": true
   },
   "outputs": [],
   "source": [
    "flat_mturk_df.to_pickle('./data/flat_mturk_df.pkl')\n",
    "flat_mturk_df = pd.read_pickle('./data/flat_mturk_df.pkl')"
   ]
  },
  {
   "cell_type": "code",
   "execution_count": null,
   "metadata": {
    "hidden": true
   },
   "outputs": [],
   "source": [
    "# need to divide portion into train, dev+test, stance of dev+test will be collapsed over \n",
    "# same source"
   ]
  },
  {
   "cell_type": "code",
   "execution_count": 60,
   "metadata": {
    "hidden": true
   },
   "outputs": [],
   "source": [
    "#flat_mturk_df = labeled_data[labeled_data.type=='mturk_flat']"
   ]
  },
  {
   "cell_type": "code",
   "execution_count": 199,
   "metadata": {
    "hidden": true
   },
   "outputs": [],
   "source": [
    "#flat_mturk_df.head()"
   ]
  },
  {
   "cell_type": "code",
   "execution_count": 27,
   "metadata": {
    "hidden": true
   },
   "outputs": [],
   "source": [
    "# Get from shared train/dev/test split indices\n",
    "dev_sources = set(dev_df.source.values)\n",
    "test_sources = set(test_df.source.values)\n",
    "eval_sources = dev_sources | test_sources"
   ]
  },
  {
   "cell_type": "code",
   "execution_count": 44,
   "metadata": {
    "hidden": true
   },
   "outputs": [
    {
     "data": {
      "text/plain": [
       "((7422, 6), (663, 6), (1160, 6))"
      ]
     },
     "execution_count": 44,
     "metadata": {},
     "output_type": "execute_result"
    }
   ],
   "source": [
    "flat_dev_df = flat_mturk_df.loc[flat_mturk_df.source.isin(dev_sources)]\n",
    "flat_test_df = flat_mturk_df.loc[flat_mturk_df.source.isin(test_sources)]\n",
    "flat_train_df = flat_mturk_df.loc[~flat_mturk_df.source.isin(eval_sources)]\n",
    "flat_train_df.shape,flat_dev_df.shape,flat_test_df.shape"
   ]
  },
  {
   "cell_type": "code",
   "execution_count": null,
   "metadata": {
    "hidden": true
   },
   "outputs": [],
   "source": [
    "# Need to collapse dev, test dfs and add 's' to 'agree','disagree'"
   ]
  },
  {
   "cell_type": "code",
   "execution_count": 65,
   "metadata": {
    "hidden": true
   },
   "outputs": [
    {
     "name": "stderr",
     "output_type": "stream",
     "text": [
      "/anaconda3/lib/python3.7/site-packages/ipykernel_launcher.py:4: SettingWithCopyWarning: \n",
      "A value is trying to be set on a copy of a slice from a DataFrame.\n",
      "Try using .loc[row_indexer,col_indexer] = value instead\n",
      "\n",
      "See the caveats in the documentation: https://pandas.pydata.org/pandas-docs/stable/user_guide/indexing.html#returning-a-view-versus-a-copy\n",
      "  after removing the cwd from sys.path.\n"
     ]
    }
   ],
   "source": [
    "# flat_dev_df['true_stance'] = [mturk_df.loc[mturk_df.source == row['source']].stance.values[0] \n",
    "#                               for ix,row in flat_dev_df.iterrows()]\n",
    "flat_test_df['true_stance'] = [mturk_df.loc[mturk_df.source == row['source']].stance.values[0] \n",
    "                              for ix,row in flat_test_df.iterrows()]"
   ]
  },
  {
   "cell_type": "code",
   "execution_count": 73,
   "metadata": {
    "hidden": true,
    "scrolled": true
   },
   "outputs": [
    {
     "name": "stderr",
     "output_type": "stream",
     "text": [
      "/anaconda3/lib/python3.7/site-packages/ipykernel_launcher.py:2: SettingWithCopyWarning: \n",
      "A value is trying to be set on a copy of a slice from a DataFrame.\n",
      "Try using .loc[row_indexer,col_indexer] = value instead\n",
      "\n",
      "See the caveats in the documentation: https://pandas.pydata.org/pandas-docs/stable/user_guide/indexing.html#returning-a-view-versus-a-copy\n",
      "  \n"
     ]
    }
   ],
   "source": [
    "#flat_dev_df['true_stance'] = flat_dev_df['true_stance'].apply(lambda x: x+'s' if x[-1] == 'e' else x)\n",
    "flat_test_df['true_stance'] = flat_test_df['true_stance'].apply(lambda x: x+'s' if x[-1] == 'e' else x)"
   ]
  },
  {
   "cell_type": "code",
   "execution_count": 77,
   "metadata": {
    "hidden": true,
    "scrolled": true
   },
   "outputs": [],
   "source": [
    "flat_dev_df_source_groups = flat_dev_df.groupby('source')\n",
    "flat_test_df_source_groups = flat_test_df.groupby('source')"
   ]
  },
  {
   "cell_type": "code",
   "execution_count": 83,
   "metadata": {
    "hidden": true
   },
   "outputs": [
    {
     "data": {
      "text/plain": [
       "(140, 260)"
      ]
     },
     "execution_count": 83,
     "metadata": {},
     "output_type": "execute_result"
    }
   ],
   "source": [
    "unflat_dev_df = flat_dev_df_source_groups.first()\n",
    "unflat_test_df = flat_test_df_source_groups.first()\n",
    "len(unflat_dev_df),len(unflat_test_df)"
   ]
  },
  {
   "cell_type": "code",
   "execution_count": null,
   "metadata": {
    "hidden": true
   },
   "outputs": [],
   "source": []
  },
  {
   "cell_type": "code",
   "execution_count": 55,
   "metadata": {
    "hidden": true
   },
   "outputs": [],
   "source": [
    "labeled_data = labeled_data.append(flat_mturk_df,ignore_index=True)"
   ]
  },
  {
   "cell_type": "code",
   "execution_count": 56,
   "metadata": {
    "hidden": true
   },
   "outputs": [
    {
     "data": {
      "text/plain": [
       "(687730, 4)"
      ]
     },
     "execution_count": 56,
     "metadata": {},
     "output_type": "execute_result"
    }
   ],
   "source": [
    "labeled_data.shape"
   ]
  },
  {
   "cell_type": "code",
   "execution_count": 57,
   "metadata": {
    "hidden": true
   },
   "outputs": [
    {
     "data": {
      "text/plain": [
       "twint_tweet              520886\n",
       "dallas_news_predicted    114686\n",
       "dallas_news              40309 \n",
       "mturk_flat               9245  \n",
       "mturk                    2040  \n",
       "semeval_train_tweets     395   \n",
       "semeval_tweets           169   \n",
       "Name: type, dtype: int64"
      ]
     },
     "execution_count": 57,
     "metadata": {},
     "output_type": "execute_result"
    }
   ],
   "source": [
    "labeled_data.type.value_counts()"
   ]
  },
  {
   "cell_type": "code",
   "execution_count": 59,
   "metadata": {
    "hidden": true
   },
   "outputs": [],
   "source": [
    "labeled_data.to_pickle('labeled_data_df_2.pkl')"
   ]
  },
  {
   "cell_type": "markdown",
   "metadata": {
    "heading_collapsed": true
   },
   "source": [
    "# Dallas ELMO predicted labeled news"
   ]
  },
  {
   "cell_type": "code",
   "execution_count": 59,
   "metadata": {
    "hidden": true
   },
   "outputs": [],
   "source": [
    "import json\n",
    "lines = []\n",
    "with open('data/all-predicted-sentences.jsonlist') as f:\n",
    "    for line in f:\n",
    "        lines.append(json.loads(line))"
   ]
  },
  {
   "cell_type": "code",
   "execution_count": 61,
   "metadata": {
    "hidden": true
   },
   "outputs": [
    {
     "data": {
      "text/plain": [
       "114686"
      ]
     },
     "execution_count": 61,
     "metadata": {},
     "output_type": "execute_result"
    }
   ],
   "source": [
    "len(lines)"
   ]
  },
  {
   "cell_type": "code",
   "execution_count": 62,
   "metadata": {
    "hidden": true
   },
   "outputs": [
    {
     "data": {
      "text/plain": [
       "Counter({'Pro': 113777, 'Anti': 909})"
      ]
     },
     "execution_count": 62,
     "metadata": {},
     "output_type": "execute_result"
    }
   ],
   "source": [
    "Counter([line['primary_tone'] for line in lines])"
   ]
  },
  {
   "cell_type": "code",
   "execution_count": 201,
   "metadata": {
    "hidden": true,
    "scrolled": true
   },
   "outputs": [],
   "source": [
    "# labeled_data = {'source':[],'type':[],'text':[],'stance':[]}\n",
    "# labeled_data['source'] = [l['article_id'] + ' [SEP] ' + str(l['sent_index']) \n",
    "#                           for l in lines]\n",
    "# labeled_data['type'] = ['dallas_news_predicted']*len(lines)\n",
    "# labeled_data['text'] = [' '.join(l['tokens'])[:-2]+'.' for l in lines]\n",
    "# labeled_data['stance'] = [tone2label[l['primary_tone'].lower()] for l in lines]\n",
    "# labeled_data_df = pd.DataFrame(labeled_data)\n",
    "#labeled_data_df.head(10)"
   ]
  },
  {
   "cell_type": "code",
   "execution_count": 70,
   "metadata": {
    "hidden": true
   },
   "outputs": [
    {
     "data": {
      "text/plain": [
       "(114686, 4)"
      ]
     },
     "execution_count": 70,
     "metadata": {},
     "output_type": "execute_result"
    }
   ],
   "source": [
    "labeled_data_df.shape"
   ]
  },
  {
   "cell_type": "code",
   "execution_count": 71,
   "metadata": {
    "hidden": true
   },
   "outputs": [],
   "source": [
    "labeled_data = labeled_data.append(labeled_data_df, ignore_index = True)\n",
    "labeled_data.to_csv('./tweet-stance-prediction/data/labeled_data_df')"
   ]
  },
  {
   "cell_type": "markdown",
   "metadata": {
    "heading_collapsed": true
   },
   "source": [
    "# Dallas new labeled news"
   ]
  },
  {
   "cell_type": "code",
   "execution_count": 32,
   "metadata": {
    "hidden": true
   },
   "outputs": [],
   "source": [
    "import json\n",
    "lines = []\n",
    "with open('data/all-annotated-sentences.jsonlist') as f:\n",
    "    for line in f:\n",
    "        lines.append(json.loads(line))"
   ]
  },
  {
   "cell_type": "code",
   "execution_count": 33,
   "metadata": {
    "hidden": true
   },
   "outputs": [
    {
     "data": {
      "text/plain": [
       "40790"
      ]
     },
     "execution_count": 33,
     "metadata": {},
     "output_type": "execute_result"
    }
   ],
   "source": [
    "len(lines)"
   ]
  },
  {
   "cell_type": "code",
   "execution_count": 35,
   "metadata": {
    "hidden": true
   },
   "outputs": [
    {
     "data": {
      "text/plain": [
       "Counter({'Pro': 30917, 'Neutral': 3685, 'Anti': 6188})"
      ]
     },
     "execution_count": 35,
     "metadata": {},
     "output_type": "execute_result"
    }
   ],
   "source": [
    "Counter([line['primary_tone'] for line in lines])"
   ]
  },
  {
   "cell_type": "code",
   "execution_count": 40,
   "metadata": {
    "hidden": true
   },
   "outputs": [],
   "source": [
    "tone2label = {'pro':'agree','anti':'disagree','neutral':'neutral'}"
   ]
  },
  {
   "cell_type": "code",
   "execution_count": 37,
   "metadata": {
    "hidden": true
   },
   "outputs": [
    {
     "data": {
      "text/plain": [
       "3685"
      ]
     },
     "execution_count": 37,
     "metadata": {},
     "output_type": "execute_result"
    }
   ],
   "source": [
    "neutral_lines = [l for l in lines if l['primary_tone'] == 'Neutral']\n",
    "len(neutral_lines)"
   ]
  },
  {
   "cell_type": "code",
   "execution_count": 202,
   "metadata": {
    "hidden": true,
    "scrolled": true
   },
   "outputs": [],
   "source": [
    "# Add all the neutrals to labeled_data_df\n",
    "# labeled_data = {'source':[],'type':[],'text':[],'stance':[]}\n",
    "# labeled_data['source'] = [l['article_id'] + ' [SEP] ' + str(l['sent_index']) \n",
    "#                           for l in neutral_lines]\n",
    "# labeled_data['type'] = ['dallas_news']*len(neutral_lines)\n",
    "# labeled_data['text'] = [' '.join(l['tokens']) for l in neutral_lines]\n",
    "# labeled_data['stance'] = [tone2label[l['primary_tone'].lower()] for l in neutral_lines]\n",
    "# labeled_data_df = pd.DataFrame(labeled_data)\n",
    "# labeled_data_df.head(10)"
   ]
  },
  {
   "cell_type": "code",
   "execution_count": 42,
   "metadata": {
    "hidden": true,
    "scrolled": true
   },
   "outputs": [
    {
     "data": {
      "text/plain": [
       "(3685, 4)"
      ]
     },
     "execution_count": 42,
     "metadata": {},
     "output_type": "execute_result"
    }
   ],
   "source": [
    "labeled_data_df.shape"
   ]
  },
  {
   "cell_type": "code",
   "execution_count": 47,
   "metadata": {
    "hidden": true
   },
   "outputs": [
    {
     "data": {
      "text/plain": [
       "(39228, 5)"
      ]
     },
     "execution_count": 47,
     "metadata": {},
     "output_type": "execute_result"
    }
   ],
   "source": [
    "labeled_data.shape"
   ]
  },
  {
   "cell_type": "code",
   "execution_count": 58,
   "metadata": {
    "hidden": true
   },
   "outputs": [
    {
     "data": {
      "text/plain": [
       "42913"
      ]
     },
     "execution_count": 58,
     "metadata": {},
     "output_type": "execute_result"
    }
   ],
   "source": [
    "39228+3685"
   ]
  },
  {
   "cell_type": "code",
   "execution_count": 53,
   "metadata": {
    "hidden": true
   },
   "outputs": [],
   "source": [
    "labeled_data = labeled_data.append(labeled_data_df, ignore_index = True)\n",
    "labeled_data.to_csv('./tweet-stance-prediction/data/labeled_data_df')"
   ]
  },
  {
   "cell_type": "markdown",
   "metadata": {
    "heading_collapsed": true
   },
   "source": [
    "# Dallas labeled news"
   ]
  },
  {
   "cell_type": "code",
   "execution_count": 15,
   "metadata": {
    "hidden": true,
    "scrolled": true
   },
   "outputs": [],
   "source": [
    "import json\n",
    "lines = []\n",
    "with open('data/all.pro-anti.sentences.jsonlist') as f:\n",
    "    for line in f:\n",
    "        lines.append(json.loads(line))"
   ]
  },
  {
   "cell_type": "code",
   "execution_count": 16,
   "metadata": {
    "hidden": true,
    "scrolled": true
   },
   "outputs": [
    {
     "data": {
      "text/plain": [
       "37105"
      ]
     },
     "execution_count": 16,
     "metadata": {},
     "output_type": "execute_result"
    }
   ],
   "source": [
    "len(lines)"
   ]
  },
  {
   "cell_type": "code",
   "execution_count": 38,
   "metadata": {
    "hidden": true
   },
   "outputs": [
    {
     "data": {
      "text/plain": [
       "Counter({'pro': 30917, 'anti': 6188})"
      ]
     },
     "execution_count": 38,
     "metadata": {},
     "output_type": "execute_result"
    }
   ],
   "source": [
    "Counter([l['primary_tone'].lower() for l in lines])"
   ]
  },
  {
   "cell_type": "code",
   "execution_count": 39,
   "metadata": {
    "hidden": true
   },
   "outputs": [],
   "source": [
    "tone2label = {'pro':'agree','anti':'disagree'}"
   ]
  },
  {
   "cell_type": "code",
   "execution_count": 58,
   "metadata": {
    "hidden": true,
    "scrolled": true
   },
   "outputs": [
    {
     "data": {
      "text/html": [
       "<div>\n",
       "<style scoped>\n",
       "    .dataframe tbody tr th:only-of-type {\n",
       "        vertical-align: middle;\n",
       "    }\n",
       "\n",
       "    .dataframe tbody tr th {\n",
       "        vertical-align: top;\n",
       "    }\n",
       "\n",
       "    .dataframe thead th {\n",
       "        text-align: right;\n",
       "    }\n",
       "</style>\n",
       "<table border=\"1\" class=\"dataframe\">\n",
       "  <thead>\n",
       "    <tr style=\"text-align: right;\">\n",
       "      <th></th>\n",
       "      <th>source</th>\n",
       "      <th>type</th>\n",
       "      <th>text</th>\n",
       "      <th>stance</th>\n",
       "    </tr>\n",
       "  </thead>\n",
       "  <tbody>\n",
       "    <tr>\n",
       "      <td>0</td>\n",
       "      <td>climate_change1.0-12174 [SEP] 0</td>\n",
       "      <td>dallas_news</td>\n",
       "      <td>It's about seeing the forest and the trees in ...</td>\n",
       "      <td>agree</td>\n",
       "    </tr>\n",
       "    <tr>\n",
       "      <td>1</td>\n",
       "      <td>climate_change1.0-12174 [SEP] 1</td>\n",
       "      <td>dallas_news</td>\n",
       "      <td>Two of his colleagues dangled on ropes 100 fee...</td>\n",
       "      <td>agree</td>\n",
       "    </tr>\n",
       "    <tr>\n",
       "      <td>2</td>\n",
       "      <td>climate_change1.0-12174 [SEP] 2</td>\n",
       "      <td>dallas_news</td>\n",
       "      <td>Steve Sillett could hardly contain his excitem...</td>\n",
       "      <td>agree</td>\n",
       "    </tr>\n",
       "    <tr>\n",
       "      <td>3</td>\n",
       "      <td>climate_change1.0-12174 [SEP] 3</td>\n",
       "      <td>dallas_news</td>\n",
       "      <td>\"This site is just juicy.</td>\n",
       "      <td>agree</td>\n",
       "    </tr>\n",
       "    <tr>\n",
       "      <td>4</td>\n",
       "      <td>climate_change1.0-12174 [SEP] 4</td>\n",
       "      <td>dallas_news</td>\n",
       "      <td>It's loaded,\" said Sillett, gazing up at the a...</td>\n",
       "      <td>agree</td>\n",
       "    </tr>\n",
       "    <tr>\n",
       "      <td>5</td>\n",
       "      <td>climate_change1.0-12174 [SEP] 5</td>\n",
       "      <td>dallas_news</td>\n",
       "      <td>\"There are amazing lichens up there.</td>\n",
       "      <td>agree</td>\n",
       "    </tr>\n",
       "    <tr>\n",
       "      <td>6</td>\n",
       "      <td>climate_change1.0-12174 [SEP] 6</td>\n",
       "      <td>dallas_news</td>\n",
       "      <td>There are aphids being hunted by ladybugs.</td>\n",
       "      <td>agree</td>\n",
       "    </tr>\n",
       "    <tr>\n",
       "      <td>7</td>\n",
       "      <td>climate_change1.0-12174 [SEP] 7</td>\n",
       "      <td>dallas_news</td>\n",
       "      <td>I found a sizable dogwood tree growing from a ...</td>\n",
       "      <td>agree</td>\n",
       "    </tr>\n",
       "    <tr>\n",
       "      <td>8</td>\n",
       "      <td>climate_change1.0-12174 [SEP] 8</td>\n",
       "      <td>dallas_news</td>\n",
       "      <td>The foggy, lost worlds atop the world's bigges...</td>\n",
       "      <td>agree</td>\n",
       "    </tr>\n",
       "    <tr>\n",
       "      <td>9</td>\n",
       "      <td>climate_change1.0-12174 [SEP] 9</td>\n",
       "      <td>dallas_news</td>\n",
       "      <td>Concerned that rising temperatures across Cali...</td>\n",
       "      <td>agree</td>\n",
       "    </tr>\n",
       "  </tbody>\n",
       "</table>\n",
       "</div>"
      ],
      "text/plain": [
       "                            source         type  \\\n",
       "0  climate_change1.0-12174 [SEP] 0  dallas_news   \n",
       "1  climate_change1.0-12174 [SEP] 1  dallas_news   \n",
       "2  climate_change1.0-12174 [SEP] 2  dallas_news   \n",
       "3  climate_change1.0-12174 [SEP] 3  dallas_news   \n",
       "4  climate_change1.0-12174 [SEP] 4  dallas_news   \n",
       "5  climate_change1.0-12174 [SEP] 5  dallas_news   \n",
       "6  climate_change1.0-12174 [SEP] 6  dallas_news   \n",
       "7  climate_change1.0-12174 [SEP] 7  dallas_news   \n",
       "8  climate_change1.0-12174 [SEP] 8  dallas_news   \n",
       "9  climate_change1.0-12174 [SEP] 9  dallas_news   \n",
       "\n",
       "                                                text stance  \n",
       "0  It's about seeing the forest and the trees in ...  agree  \n",
       "1  Two of his colleagues dangled on ropes 100 fee...  agree  \n",
       "2  Steve Sillett could hardly contain his excitem...  agree  \n",
       "3                          \"This site is just juicy.  agree  \n",
       "4  It's loaded,\" said Sillett, gazing up at the a...  agree  \n",
       "5               \"There are amazing lichens up there.  agree  \n",
       "6         There are aphids being hunted by ladybugs.  agree  \n",
       "7  I found a sizable dogwood tree growing from a ...  agree  \n",
       "8  The foggy, lost worlds atop the world's bigges...  agree  \n",
       "9  Concerned that rising temperatures across Cali...  agree  "
      ]
     },
     "execution_count": 58,
     "metadata": {},
     "output_type": "execute_result"
    }
   ],
   "source": [
    "\n",
    "labeled_data['source'] = [l['article_id'] + ' [SEP] ' + str(l['sent_index']) for l in lines]\n",
    "labeled_data['type'] = ['dallas_news']*len(lines)\n",
    "labeled_data['text'] = [l['text'] for l in lines]\n",
    "labeled_data['stance'] = [tone2label[l['primary_tone'].lower()] for l in lines]\n",
    "labeled_data_df = pd.DataFrame(labeled_data)\n",
    "labeled_data_df.head(10)"
   ]
  },
  {
   "cell_type": "code",
   "execution_count": null,
   "metadata": {
    "hidden": true
   },
   "outputs": [],
   "source": []
  },
  {
   "cell_type": "markdown",
   "metadata": {
    "heading_collapsed": true
   },
   "source": [
    "# Dallas unlabeled news"
   ]
  },
  {
   "cell_type": "code",
   "execution_count": 90,
   "metadata": {
    "hidden": true
   },
   "outputs": [
    {
     "data": {
      "text/plain": [
       "'/Users/yiweiluo/scientific-debates/cc_stance/data_creation'"
      ]
     },
     "execution_count": 90,
     "metadata": {},
     "output_type": "execute_result"
    }
   ],
   "source": [
    "os.getcwd()"
   ]
  },
  {
   "cell_type": "code",
   "execution_count": 92,
   "metadata": {
    "hidden": true
   },
   "outputs": [],
   "source": [
    "import json\n",
    "all_sents = []\n",
    "with open('../data/all.sentences.jsonlist') as f:\n",
    "    for line in f:\n",
    "        all_sents.append(json.loads(line))"
   ]
  },
  {
   "cell_type": "code",
   "execution_count": 93,
   "metadata": {
    "hidden": true
   },
   "outputs": [
    {
     "data": {
      "text/plain": [
       "126100"
      ]
     },
     "execution_count": 93,
     "metadata": {},
     "output_type": "execute_result"
    }
   ],
   "source": [
    "len(all_sents)"
   ]
  },
  {
   "cell_type": "code",
   "execution_count": 94,
   "metadata": {
    "hidden": true
   },
   "outputs": [
    {
     "data": {
      "text/plain": [
       "0"
      ]
     },
     "execution_count": 94,
     "metadata": {},
     "output_type": "execute_result"
    }
   ],
   "source": [
    "len([line['primary_tone'] for line in all_sents if 'primary_tone' in line])"
   ]
  },
  {
   "cell_type": "markdown",
   "metadata": {
    "heading_collapsed": true,
    "hidden": true
   },
   "source": [
    "### Write to files for LM training"
   ]
  },
  {
   "cell_type": "code",
   "execution_count": 96,
   "metadata": {
    "hidden": true
   },
   "outputs": [
    {
     "data": {
      "text/plain": [
       "126100"
      ]
     },
     "execution_count": 96,
     "metadata": {},
     "output_type": "execute_result"
    }
   ],
   "source": [
    "sentences = [x['text'] for x in all_sents]\n",
    "len(sentences)"
   ]
  },
  {
   "cell_type": "code",
   "execution_count": 99,
   "metadata": {
    "hidden": true
   },
   "outputs": [
    {
     "data": {
      "text/plain": [
       "(88270, 37830)"
      ]
     },
     "execution_count": 99,
     "metadata": {},
     "output_type": "execute_result"
    }
   ],
   "source": [
    "train_ix,test_ix = train_test_split(list(range(len(sentences))),test_size=0.3)\n",
    "len(train_ix),len(test_ix)"
   ]
  },
  {
   "cell_type": "code",
   "execution_count": 101,
   "metadata": {
    "hidden": true
   },
   "outputs": [
    {
     "data": {
      "text/plain": [
       "(88270, 37830)"
      ]
     },
     "execution_count": 101,
     "metadata": {},
     "output_type": "execute_result"
    }
   ],
   "source": [
    "train_sents = [sentences[ix] for ix in train_ix]\n",
    "test_sents = [sentences[ix] for ix in test_ix]\n",
    "len(train_sents),len(test_sents)"
   ]
  },
  {
   "cell_type": "code",
   "execution_count": 102,
   "metadata": {
    "hidden": true
   },
   "outputs": [
    {
     "data": {
      "text/plain": [
       "['The case argued before the court on Wednesday was filed in 2003 in Massachusetts by a coalition of 12 states, 13 environmental groups and three large cities, which believe the Earth is warming due to heat-trapping gases caused by human activity like automobile emissions.',\n",
       " 'Obama clamps down on pollution Federal regulations are coming on gases from power plants.',\n",
       " 'In the last 30 years, scientists have proposed a variety of ways to engineer the climate, most of them dismissed as too costly, too unpredictable, impossible or ineffective:']"
      ]
     },
     "execution_count": 102,
     "metadata": {},
     "output_type": "execute_result"
    }
   ],
   "source": [
    "train_sents[:3]"
   ]
  },
  {
   "cell_type": "code",
   "execution_count": 103,
   "metadata": {
    "hidden": true
   },
   "outputs": [],
   "source": [
    "with open('dallas.cc.train.raw','w+') as f:\n",
    "    for s in train_sents:\n",
    "        f.write(s)\n",
    "        f.write(' ')\n",
    "with open('dallas.cc.test.raw','w+') as f:\n",
    "    for s in test_sents:\n",
    "        f.write(s)\n",
    "        f.write(' ')"
   ]
  },
  {
   "cell_type": "code",
   "execution_count": 104,
   "metadata": {
    "hidden": true
   },
   "outputs": [],
   "source": [
    "with open('../LM_data/both.cc.fulltexts.uncased.train.raw','a') as f:\n",
    "    for s in train_sents:\n",
    "        f.write(s.lower())\n",
    "        f.write(' ')\n",
    "with open('../LM_data/both.cc.fulltexts.uncased.test.raw','a') as f:\n",
    "    for s in test_sents:\n",
    "        f.write(s.lower())\n",
    "        f.write(' ')"
   ]
  },
  {
   "cell_type": "code",
   "execution_count": 20,
   "metadata": {
    "hidden": true
   },
   "outputs": [
    {
     "data": {
      "text/plain": [
       "False"
      ]
     },
     "execution_count": 20,
     "metadata": {},
     "output_type": "execute_result"
    }
   ],
   "source": [
    "'climate_change1.0-6365 [SEP] 0' in labeled_data_df['source']"
   ]
  },
  {
   "cell_type": "code",
   "execution_count": 84,
   "metadata": {
    "hidden": true,
    "scrolled": true
   },
   "outputs": [],
   "source": [
    "#all_sents[1]"
   ]
  },
  {
   "cell_type": "code",
   "execution_count": 203,
   "metadata": {
    "hidden": true
   },
   "outputs": [],
   "source": [
    "# unlabeled_data['source'] = [l['article_id'] + ' [SEP] ' + str(l['sent_index']) \n",
    "#                                for l in all_sents]\n",
    "# unlabeled_data['type'] = ['dallas_news']*len(all_sents)\n",
    "# unlabeled_data['text'] = [l['text'] for l in all_sents]\n",
    "# unlabeled_data_df = pd.DataFrame(unlabeled_data)\n",
    "# unlabeled_data_df.head(10)"
   ]
  },
  {
   "cell_type": "markdown",
   "metadata": {
    "heading_collapsed": true
   },
   "source": [
    "# SemEval tweets"
   ]
  },
  {
   "cell_type": "code",
   "execution_count": 4,
   "metadata": {
    "hidden": true
   },
   "outputs": [],
   "source": [
    "targets = []\n",
    "with open(os.getcwd()+'/data/semeval2016-task6-testdata-gold/SemEval2016-Task6-subtaskB-testdata\\\n",
    "-gold.txt') as f:\n",
    "    semeval_b = f.readlines()\n",
    "    for line in semeval_b[1:]:\n",
    "        id_,target,tweet,stance = line.strip().split('\\t')\n",
    "        targets.append(target)"
   ]
  },
  {
   "cell_type": "code",
   "execution_count": 5,
   "metadata": {
    "hidden": true
   },
   "outputs": [
    {
     "data": {
      "text/plain": [
       "Counter({'Donald Trump': 707})"
      ]
     },
     "execution_count": 5,
     "metadata": {},
     "output_type": "execute_result"
    }
   ],
   "source": [
    "from collections import Counter\n",
    "Counter(targets)"
   ]
  },
  {
   "cell_type": "code",
   "execution_count": 6,
   "metadata": {
    "hidden": true
   },
   "outputs": [],
   "source": [
    "semeval_tweets = []\n",
    "with open(os.getcwd()+'/data/semeval2016-task6-testdata-gold/SemEval2016-Task6-subtaskA-testdata\\\n",
    "-gold.txt') as f:\n",
    "    semeval_a = f.readlines()\n",
    "    for line in semeval_a[1:]:\n",
    "        id_,target,tweet,stance = line.strip().split('\\t')\n",
    "        if target == 'Climate Change is a Real Concern':\n",
    "            semeval_tweets.append(line.strip().split('\\t'))"
   ]
  },
  {
   "cell_type": "code",
   "execution_count": 7,
   "metadata": {
    "hidden": true
   },
   "outputs": [
    {
     "data": {
      "text/plain": [
       "169"
      ]
     },
     "execution_count": 7,
     "metadata": {},
     "output_type": "execute_result"
    }
   ],
   "source": [
    "len(semeval_tweets)"
   ]
  },
  {
   "cell_type": "code",
   "execution_count": 8,
   "metadata": {
    "hidden": true,
    "scrolled": true
   },
   "outputs": [
    {
     "data": {
      "text/plain": [
       "Counter({'NONE': 35, 'FAVOR': 123, 'AGAINST': 11})"
      ]
     },
     "execution_count": 8,
     "metadata": {},
     "output_type": "execute_result"
    }
   ],
   "source": [
    "from collections import Counter\n",
    "Counter([x[-1] for x in semeval_tweets])"
   ]
  },
  {
   "cell_type": "code",
   "execution_count": 9,
   "metadata": {
    "hidden": true
   },
   "outputs": [],
   "source": [
    "tweetstance2label = {'NONE':'neutral','FAVOR':'agree','AGAINST':'disagree'}"
   ]
  },
  {
   "cell_type": "code",
   "execution_count": 11,
   "metadata": {
    "hidden": true
   },
   "outputs": [
    {
     "data": {
      "text/html": [
       "<div>\n",
       "<style scoped>\n",
       "    .dataframe tbody tr th:only-of-type {\n",
       "        vertical-align: middle;\n",
       "    }\n",
       "\n",
       "    .dataframe tbody tr th {\n",
       "        vertical-align: top;\n",
       "    }\n",
       "\n",
       "    .dataframe thead th {\n",
       "        text-align: right;\n",
       "    }\n",
       "</style>\n",
       "<table border=\"1\" class=\"dataframe\">\n",
       "  <thead>\n",
       "    <tr style=\"text-align: right;\">\n",
       "      <th></th>\n",
       "      <th>source</th>\n",
       "      <th>type</th>\n",
       "      <th>text</th>\n",
       "      <th>stance</th>\n",
       "    </tr>\n",
       "  </thead>\n",
       "  <tbody>\n",
       "    <tr>\n",
       "      <td>0</td>\n",
       "      <td>10221</td>\n",
       "      <td>semeval_tweets</td>\n",
       "      <td>Closed door session begins. More after they de...</td>\n",
       "      <td>neutral</td>\n",
       "    </tr>\n",
       "    <tr>\n",
       "      <td>1</td>\n",
       "      <td>10222</td>\n",
       "      <td>semeval_tweets</td>\n",
       "      <td>What is the #energiewende agenda? Why are they...</td>\n",
       "      <td>agree</td>\n",
       "    </tr>\n",
       "    <tr>\n",
       "      <td>2</td>\n",
       "      <td>10223</td>\n",
       "      <td>semeval_tweets</td>\n",
       "      <td>@climasphere Stocker: Fish catch potential cou...</td>\n",
       "      <td>agree</td>\n",
       "    </tr>\n",
       "    <tr>\n",
       "      <td>3</td>\n",
       "      <td>10224</td>\n",
       "      <td>semeval_tweets</td>\n",
       "      <td>...a longer memory, and a sterner sense of jus...</td>\n",
       "      <td>neutral</td>\n",
       "    </tr>\n",
       "    <tr>\n",
       "      <td>4</td>\n",
       "      <td>10225</td>\n",
       "      <td>semeval_tweets</td>\n",
       "      <td>Boni \"Future Sea level rise will not be unifor...</td>\n",
       "      <td>agree</td>\n",
       "    </tr>\n",
       "    <tr>\n",
       "      <td>5</td>\n",
       "      <td>10226</td>\n",
       "      <td>semeval_tweets</td>\n",
       "      <td>@climasphere Bony: Extreme weather events (hea...</td>\n",
       "      <td>agree</td>\n",
       "    </tr>\n",
       "    <tr>\n",
       "      <td>6</td>\n",
       "      <td>10227</td>\n",
       "      <td>semeval_tweets</td>\n",
       "      <td>Camille Parmesan: 2/3 of species have changed ...</td>\n",
       "      <td>agree</td>\n",
       "    </tr>\n",
       "    <tr>\n",
       "      <td>7</td>\n",
       "      <td>10228</td>\n",
       "      <td>semeval_tweets</td>\n",
       "      <td>5 meta-analyses show 1/2 of species have chang...</td>\n",
       "      <td>agree</td>\n",
       "    </tr>\n",
       "    <tr>\n",
       "      <td>8</td>\n",
       "      <td>10229</td>\n",
       "      <td>semeval_tweets</td>\n",
       "      <td>It literarly just took me 10 minutes to get in...</td>\n",
       "      <td>neutral</td>\n",
       "    </tr>\n",
       "    <tr>\n",
       "      <td>9</td>\n",
       "      <td>10230</td>\n",
       "      <td>semeval_tweets</td>\n",
       "      <td>Grubb: state of energy: shift US &amp; EU from net...</td>\n",
       "      <td>agree</td>\n",
       "    </tr>\n",
       "  </tbody>\n",
       "</table>\n",
       "</div>"
      ],
      "text/plain": [
       "  source            type                                               text  \\\n",
       "0  10221  semeval_tweets  Closed door session begins. More after they de...   \n",
       "1  10222  semeval_tweets  What is the #energiewende agenda? Why are they...   \n",
       "2  10223  semeval_tweets  @climasphere Stocker: Fish catch potential cou...   \n",
       "3  10224  semeval_tweets  ...a longer memory, and a sterner sense of jus...   \n",
       "4  10225  semeval_tweets  Boni \"Future Sea level rise will not be unifor...   \n",
       "5  10226  semeval_tweets  @climasphere Bony: Extreme weather events (hea...   \n",
       "6  10227  semeval_tweets  Camille Parmesan: 2/3 of species have changed ...   \n",
       "7  10228  semeval_tweets  5 meta-analyses show 1/2 of species have chang...   \n",
       "8  10229  semeval_tweets  It literarly just took me 10 minutes to get in...   \n",
       "9  10230  semeval_tweets  Grubb: state of energy: shift US & EU from net...   \n",
       "\n",
       "    stance  \n",
       "0  neutral  \n",
       "1    agree  \n",
       "2    agree  \n",
       "3  neutral  \n",
       "4    agree  \n",
       "5    agree  \n",
       "6    agree  \n",
       "7    agree  \n",
       "8  neutral  \n",
       "9    agree  "
      ]
     },
     "execution_count": 11,
     "metadata": {},
     "output_type": "execute_result"
    }
   ],
   "source": [
    "labeled_data['source'].extend([l[0] for l in semeval_tweets])\n",
    "labeled_data['type'].extend(['semeval_tweets']*len(semeval_tweets))\n",
    "labeled_data['text'].extend([l[2] for l in semeval_tweets])\n",
    "labeled_data['stance'].extend([tweetstance2label[l[3]] for l in semeval_tweets])\n",
    "labeled_data_df = pd.DataFrame(labeled_data)\n",
    "labeled_data_df.head(10)"
   ]
  },
  {
   "cell_type": "code",
   "execution_count": 13,
   "metadata": {
    "code_folding": [],
    "hidden": true,
    "scrolled": true
   },
   "outputs": [
    {
     "name": "stderr",
     "output_type": "stream",
     "text": [
      "/anaconda3/lib/python3.7/site-packages/ipykernel_launcher.py:1: DeprecationWarning: 'U' mode is deprecated\n",
      "  \"\"\"Entry point for launching an IPython kernel.\n"
     ]
    }
   ],
   "source": [
    "stance_test = pd.read_csv(open(os.getcwd()+'/data/StanceDataset/test.csv','rU'),\n",
    "                          encoding='utf-8', engine='c')"
   ]
  },
  {
   "cell_type": "code",
   "execution_count": 14,
   "metadata": {
    "hidden": true
   },
   "outputs": [],
   "source": [
    "stance_test = stance_test[stance_test['Target'] == 'Climate Change is a Real Concern']"
   ]
  },
  {
   "cell_type": "code",
   "execution_count": 16,
   "metadata": {
    "hidden": true
   },
   "outputs": [
    {
     "data": {
      "text/html": [
       "<div>\n",
       "<style scoped>\n",
       "    .dataframe tbody tr th:only-of-type {\n",
       "        vertical-align: middle;\n",
       "    }\n",
       "\n",
       "    .dataframe tbody tr th {\n",
       "        vertical-align: top;\n",
       "    }\n",
       "\n",
       "    .dataframe thead th {\n",
       "        text-align: right;\n",
       "    }\n",
       "</style>\n",
       "<table border=\"1\" class=\"dataframe\">\n",
       "  <thead>\n",
       "    <tr style=\"text-align: right;\">\n",
       "      <th></th>\n",
       "      <th>source</th>\n",
       "      <th>type</th>\n",
       "      <th>text</th>\n",
       "      <th>stance</th>\n",
       "    </tr>\n",
       "  </thead>\n",
       "  <tbody>\n",
       "    <tr>\n",
       "      <td>0</td>\n",
       "      <td>10221</td>\n",
       "      <td>semeval_tweets</td>\n",
       "      <td>Closed door session begins. More after they de...</td>\n",
       "      <td>neutral</td>\n",
       "    </tr>\n",
       "    <tr>\n",
       "      <td>1</td>\n",
       "      <td>10222</td>\n",
       "      <td>semeval_tweets</td>\n",
       "      <td>What is the #energiewende agenda? Why are they...</td>\n",
       "      <td>agree</td>\n",
       "    </tr>\n",
       "    <tr>\n",
       "      <td>2</td>\n",
       "      <td>10223</td>\n",
       "      <td>semeval_tweets</td>\n",
       "      <td>@climasphere Stocker: Fish catch potential cou...</td>\n",
       "      <td>agree</td>\n",
       "    </tr>\n",
       "    <tr>\n",
       "      <td>3</td>\n",
       "      <td>10224</td>\n",
       "      <td>semeval_tweets</td>\n",
       "      <td>...a longer memory, and a sterner sense of jus...</td>\n",
       "      <td>neutral</td>\n",
       "    </tr>\n",
       "    <tr>\n",
       "      <td>4</td>\n",
       "      <td>10225</td>\n",
       "      <td>semeval_tweets</td>\n",
       "      <td>Boni \"Future Sea level rise will not be unifor...</td>\n",
       "      <td>agree</td>\n",
       "    </tr>\n",
       "    <tr>\n",
       "      <td>5</td>\n",
       "      <td>10226</td>\n",
       "      <td>semeval_tweets</td>\n",
       "      <td>@climasphere Bony: Extreme weather events (hea...</td>\n",
       "      <td>agree</td>\n",
       "    </tr>\n",
       "    <tr>\n",
       "      <td>6</td>\n",
       "      <td>10227</td>\n",
       "      <td>semeval_tweets</td>\n",
       "      <td>Camille Parmesan: 2/3 of species have changed ...</td>\n",
       "      <td>agree</td>\n",
       "    </tr>\n",
       "    <tr>\n",
       "      <td>7</td>\n",
       "      <td>10228</td>\n",
       "      <td>semeval_tweets</td>\n",
       "      <td>5 meta-analyses show 1/2 of species have chang...</td>\n",
       "      <td>agree</td>\n",
       "    </tr>\n",
       "    <tr>\n",
       "      <td>8</td>\n",
       "      <td>10229</td>\n",
       "      <td>semeval_tweets</td>\n",
       "      <td>It literarly just took me 10 minutes to get in...</td>\n",
       "      <td>neutral</td>\n",
       "    </tr>\n",
       "    <tr>\n",
       "      <td>9</td>\n",
       "      <td>10230</td>\n",
       "      <td>semeval_tweets</td>\n",
       "      <td>Grubb: state of energy: shift US &amp; EU from net...</td>\n",
       "      <td>agree</td>\n",
       "    </tr>\n",
       "  </tbody>\n",
       "</table>\n",
       "</div>"
      ],
      "text/plain": [
       "  source            type                                               text  \\\n",
       "0  10221  semeval_tweets  Closed door session begins. More after they de...   \n",
       "1  10222  semeval_tweets  What is the #energiewende agenda? Why are they...   \n",
       "2  10223  semeval_tweets  @climasphere Stocker: Fish catch potential cou...   \n",
       "3  10224  semeval_tweets  ...a longer memory, and a sterner sense of jus...   \n",
       "4  10225  semeval_tweets  Boni \"Future Sea level rise will not be unifor...   \n",
       "5  10226  semeval_tweets  @climasphere Bony: Extreme weather events (hea...   \n",
       "6  10227  semeval_tweets  Camille Parmesan: 2/3 of species have changed ...   \n",
       "7  10228  semeval_tweets  5 meta-analyses show 1/2 of species have chang...   \n",
       "8  10229  semeval_tweets  It literarly just took me 10 minutes to get in...   \n",
       "9  10230  semeval_tweets  Grubb: state of energy: shift US & EU from net...   \n",
       "\n",
       "    stance  \n",
       "0  neutral  \n",
       "1    agree  \n",
       "2    agree  \n",
       "3  neutral  \n",
       "4    agree  \n",
       "5    agree  \n",
       "6    agree  \n",
       "7    agree  \n",
       "8  neutral  \n",
       "9    agree  "
      ]
     },
     "execution_count": 16,
     "metadata": {},
     "output_type": "execute_result"
    }
   ],
   "source": [
    "labeled_data['source'].extend(list(stance_test.index))\n",
    "labeled_data['type'].extend(['semeval_test_tweets']*len(stance_test))\n",
    "labeled_data['text'].extend([stance_test.loc[l]['Tweet'] for l in stance_test.index])\n",
    "labeled_data['stance'].extend([tweetstance2label[stance_test.loc[l]['Stance']] \n",
    "                               for l in stance_test.index])\n",
    "labeled_data_df = pd.DataFrame(labeled_data)\n",
    "labeled_data_df.head(10)"
   ]
  },
  {
   "cell_type": "code",
   "execution_count": 18,
   "metadata": {
    "hidden": true
   },
   "outputs": [
    {
     "name": "stderr",
     "output_type": "stream",
     "text": [
      "/anaconda3/lib/python3.7/site-packages/ipykernel_launcher.py:1: DeprecationWarning: 'U' mode is deprecated\n",
      "  \"\"\"Entry point for launching an IPython kernel.\n"
     ]
    }
   ],
   "source": [
    "stance_train = pd.read_csv(open(os.getcwd()+'/data/StanceDataset/train.csv','rU'),\n",
    "                          encoding='utf-8', engine='c')"
   ]
  },
  {
   "cell_type": "code",
   "execution_count": 19,
   "metadata": {
    "hidden": true,
    "scrolled": true
   },
   "outputs": [],
   "source": [
    "stance_train = stance_train[stance_train['Target'] == 'Climate Change is a Real Concern']"
   ]
  },
  {
   "cell_type": "code",
   "execution_count": 24,
   "metadata": {
    "hidden": true
   },
   "outputs": [
    {
     "data": {
      "text/html": [
       "<div>\n",
       "<style scoped>\n",
       "    .dataframe tbody tr th:only-of-type {\n",
       "        vertical-align: middle;\n",
       "    }\n",
       "\n",
       "    .dataframe tbody tr th {\n",
       "        vertical-align: top;\n",
       "    }\n",
       "\n",
       "    .dataframe thead th {\n",
       "        text-align: right;\n",
       "    }\n",
       "</style>\n",
       "<table border=\"1\" class=\"dataframe\">\n",
       "  <thead>\n",
       "    <tr style=\"text-align: right;\">\n",
       "      <th></th>\n",
       "      <th>source</th>\n",
       "      <th>type</th>\n",
       "      <th>text</th>\n",
       "      <th>stance</th>\n",
       "    </tr>\n",
       "  </thead>\n",
       "  <tbody>\n",
       "    <tr>\n",
       "      <td>0</td>\n",
       "      <td>10221</td>\n",
       "      <td>semeval_tweets</td>\n",
       "      <td>Closed door session begins. More after they decide on the entities.  #GCF #SemST</td>\n",
       "      <td>neutral</td>\n",
       "    </tr>\n",
       "    <tr>\n",
       "      <td>1</td>\n",
       "      <td>10222</td>\n",
       "      <td>semeval_tweets</td>\n",
       "      <td>What is the #energiewende agenda? Why are they not in the \"de-carbonizer\" camp?.  How long will you tolerate the lies?  #SemST</td>\n",
       "      <td>agree</td>\n",
       "    </tr>\n",
       "    <tr>\n",
       "      <td>2</td>\n",
       "      <td>10223</td>\n",
       "      <td>semeval_tweets</td>\n",
       "      <td>@climasphere Stocker: Fish catch potential could drop by as much as 50% in some areas due to #oceanacidification. #CFCC15 #SemST</td>\n",
       "      <td>agree</td>\n",
       "    </tr>\n",
       "    <tr>\n",
       "      <td>3</td>\n",
       "      <td>10224</td>\n",
       "      <td>semeval_tweets</td>\n",
       "      <td>...a longer memory, and a sterner sense of justice than we do. -W.Berry #SemST</td>\n",
       "      <td>neutral</td>\n",
       "    </tr>\n",
       "    <tr>\n",
       "      <td>4</td>\n",
       "      <td>10225</td>\n",
       "      <td>semeval_tweets</td>\n",
       "      <td>Boni \"Future Sea level rise will not be uniform &amp; different for coasts\" #CCFC15 #Journey2015 #SemST</td>\n",
       "      <td>agree</td>\n",
       "    </tr>\n",
       "    <tr>\n",
       "      <td>5</td>\n",
       "      <td>10226</td>\n",
       "      <td>semeval_tweets</td>\n",
       "      <td>@climasphere Bony: Extreme weather events (heat waves, drought, flooding, windstorms) made more frequent/intense by #CFCC15 #SemST</td>\n",
       "      <td>agree</td>\n",
       "    </tr>\n",
       "    <tr>\n",
       "      <td>6</td>\n",
       "      <td>10227</td>\n",
       "      <td>semeval_tweets</td>\n",
       "      <td>Camille Parmesan: 2/3 of species have changed #habitat because of #H12 #CFCC15 #SemST</td>\n",
       "      <td>agree</td>\n",
       "    </tr>\n",
       "    <tr>\n",
       "      <td>7</td>\n",
       "      <td>10228</td>\n",
       "      <td>semeval_tweets</td>\n",
       "      <td>5 meta-analyses show 1/2 of species have changed where they live, 2/3 have changed when they live. Camille Parmesan #CFCC15 #SemST</td>\n",
       "      <td>agree</td>\n",
       "    </tr>\n",
       "    <tr>\n",
       "      <td>8</td>\n",
       "      <td>10229</td>\n",
       "      <td>semeval_tweets</td>\n",
       "      <td>It literarly just took me 10 minutes to get in a bus because an old lady just had to go in front of everyone... #SemST</td>\n",
       "      <td>neutral</td>\n",
       "    </tr>\n",
       "    <tr>\n",
       "      <td>9</td>\n",
       "      <td>10230</td>\n",
       "      <td>semeval_tweets</td>\n",
       "      <td>Grubb: state of energy: shift US &amp; EU from net-producer to net-importer of emissions\" #CCFC15 #journey2015 #SemST</td>\n",
       "      <td>agree</td>\n",
       "    </tr>\n",
       "  </tbody>\n",
       "</table>\n",
       "</div>"
      ],
      "text/plain": [
       "  source            type  \\\n",
       "0  10221  semeval_tweets   \n",
       "1  10222  semeval_tweets   \n",
       "2  10223  semeval_tweets   \n",
       "3  10224  semeval_tweets   \n",
       "4  10225  semeval_tweets   \n",
       "5  10226  semeval_tweets   \n",
       "6  10227  semeval_tweets   \n",
       "7  10228  semeval_tweets   \n",
       "8  10229  semeval_tweets   \n",
       "9  10230  semeval_tweets   \n",
       "\n",
       "                                                                                                                                 text  \\\n",
       "0  Closed door session begins. More after they decide on the entities.  #GCF #SemST                                                     \n",
       "1  What is the #energiewende agenda? Why are they not in the \"de-carbonizer\" camp?.  How long will you tolerate the lies?  #SemST       \n",
       "2  @climasphere Stocker: Fish catch potential could drop by as much as 50% in some areas due to #oceanacidification. #CFCC15 #SemST     \n",
       "3  ...a longer memory, and a sterner sense of justice than we do. -W.Berry #SemST                                                       \n",
       "4  Boni \"Future Sea level rise will not be uniform & different for coasts\" #CCFC15 #Journey2015 #SemST                                  \n",
       "5  @climasphere Bony: Extreme weather events (heat waves, drought, flooding, windstorms) made more frequent/intense by #CFCC15 #SemST   \n",
       "6  Camille Parmesan: 2/3 of species have changed #habitat because of #H12 #CFCC15 #SemST                                                \n",
       "7  5 meta-analyses show 1/2 of species have changed where they live, 2/3 have changed when they live. Camille Parmesan #CFCC15 #SemST   \n",
       "8  It literarly just took me 10 minutes to get in a bus because an old lady just had to go in front of everyone... #SemST               \n",
       "9  Grubb: state of energy: shift US & EU from net-producer to net-importer of emissions\" #CCFC15 #journey2015 #SemST                    \n",
       "\n",
       "    stance  \n",
       "0  neutral  \n",
       "1  agree    \n",
       "2  agree    \n",
       "3  neutral  \n",
       "4  agree    \n",
       "5  agree    \n",
       "6  agree    \n",
       "7  agree    \n",
       "8  neutral  \n",
       "9  agree    "
      ]
     },
     "execution_count": 24,
     "metadata": {},
     "output_type": "execute_result"
    }
   ],
   "source": [
    "labeled_data['source'].extend(list(stance_train.index))\n",
    "labeled_data['type'].extend(['semeval_train_tweets']*len(stance_train))\n",
    "labeled_data['text'].extend([stance_train.loc[l]['Tweet'] for l in stance_train.index])\n",
    "labeled_data['stance'].extend([tweetstance2label[stance_train.loc[l]['Stance']] \n",
    "                               for l in stance_train.index])\n",
    "labeled_data_df = pd.DataFrame(labeled_data)\n",
    "labeled_data_df.head(10)"
   ]
  },
  {
   "cell_type": "markdown",
   "metadata": {
    "heading_collapsed": true
   },
   "source": [
    "# Dallas and Yiwei manually annotated news--not yet added"
   ]
  },
  {
   "cell_type": "code",
   "execution_count": 28,
   "metadata": {
    "hidden": true,
    "scrolled": true
   },
   "outputs": [],
   "source": [
    "import json\n",
    "dallas_labels = []\n",
    "with open('subsample_annotated_dbc.jsonlist') as f:\n",
    "    for line in f:\n",
    "        dallas_labels.append(json.loads(line))"
   ]
  },
  {
   "cell_type": "code",
   "execution_count": 29,
   "metadata": {
    "hidden": true
   },
   "outputs": [
    {
     "data": {
      "text/plain": [
       "300"
      ]
     },
     "execution_count": 29,
     "metadata": {},
     "output_type": "execute_result"
    }
   ],
   "source": [
    "len(dallas_labels)"
   ]
  },
  {
   "cell_type": "code",
   "execution_count": 31,
   "metadata": {
    "hidden": true
   },
   "outputs": [],
   "source": [
    "yiwei_labels = pd.read_csv('subsample_annotated_yiwei.csv',header=None)"
   ]
  },
  {
   "cell_type": "code",
   "execution_count": 75,
   "metadata": {
    "hidden": true
   },
   "outputs": [],
   "source": [
    "anti_test_data = []\n",
    "pro_test_data = []\n",
    "with open(os.getcwd()+'/test_data/anti-cc/test_data.txt') as f:\n",
    "    for line in f:\n",
    "        anti_test_data.append(line.split('\\t'))\n",
    "with open(os.getcwd()+'/test_data/pro-cc/test_data.txt') as f:\n",
    "    for line in f:\n",
    "        pro_test_data.append(line.split('\\t'))"
   ]
  },
  {
   "cell_type": "code",
   "execution_count": 76,
   "metadata": {
    "hidden": true
   },
   "outputs": [
    {
     "data": {
      "text/plain": [
       "92804"
      ]
     },
     "execution_count": 76,
     "metadata": {},
     "output_type": "execute_result"
    }
   ],
   "source": [
    "len(anti_test_data)"
   ]
  },
  {
   "cell_type": "code",
   "execution_count": 77,
   "metadata": {
    "hidden": true
   },
   "outputs": [
    {
     "data": {
      "text/plain": [
       "['We ’re also doing some avian and marine mammal monitoring',\n",
       " '',\n",
       " 'sent_no_29 of https://www.csmonitor.com/Environment/2010/1012/Will-Google-wind-power-project-harm-wildlife-Depends-on-location.',\n",
       " '',\n",
       " '“We’re also doing some avian and marine mammal monitoring,” says Rhonda Jackson, a spokesman for Fishermen’s Energy.\\n']"
      ]
     },
     "execution_count": 77,
     "metadata": {},
     "output_type": "execute_result"
    }
   ],
   "source": [
    "anti_test_data[0]"
   ]
  },
  {
   "cell_type": "code",
   "execution_count": 78,
   "metadata": {
    "hidden": true
   },
   "outputs": [
    {
     "data": {
      "text/plain": [
       "581383"
      ]
     },
     "execution_count": 78,
     "metadata": {},
     "output_type": "execute_result"
    }
   ],
   "source": [
    "len(pro_test_data)"
   ]
  },
  {
   "cell_type": "markdown",
   "metadata": {
    "heading_collapsed": true
   },
   "source": [
    "# Yiwei unlabeled news"
   ]
  },
  {
   "cell_type": "code",
   "execution_count": 98,
   "metadata": {
    "hidden": true
   },
   "outputs": [],
   "source": [
    "all_url_df = pd.read_pickle('/Users/yiweiluo/Dropbox/research/\\\n",
    "QP2/code/Fox_and_friends/all_urls_meta_and_fulltext_df_2020.pkl')"
   ]
  },
  {
   "cell_type": "code",
   "execution_count": 99,
   "metadata": {
    "hidden": true
   },
   "outputs": [
    {
     "name": "stderr",
     "output_type": "stream",
     "text": [
      "/anaconda3/lib/python3.7/site-packages/ipykernel_launcher.py:1: UserWarning: Boolean Series key will be reindexed to match DataFrame index.\n",
      "  \"\"\"Entry point for launching an IPython kernel.\n"
     ]
    }
   ],
   "source": [
    "cc_all_url_df = all_url_df[all_url_df['topic'] == 'cc'][all_url_df['bad NYT'] == False]"
   ]
  },
  {
   "cell_type": "code",
   "execution_count": 102,
   "metadata": {
    "hidden": true
   },
   "outputs": [
    {
     "data": {
      "text/plain": [
       "(17601, 8)"
      ]
     },
     "execution_count": 102,
     "metadata": {},
     "output_type": "execute_result"
    }
   ],
   "source": [
    "cc_all_url_df.shape"
   ]
  },
  {
   "cell_type": "code",
   "execution_count": 181,
   "metadata": {
    "hidden": true,
    "scrolled": true
   },
   "outputs": [],
   "source": [
    "from nltk.tokenize import sent_tokenize\n",
    "for ix,row in cc_all_url_df.iterrows():\n",
    "    source = row['url']\n",
    "    type_ = 'yiwei_news'\n",
    "    if row['fulltext'] is not None:\n",
    "        text = sent_tokenize(row['fulltext'])\n",
    "        unlabeled_data['text'].extend(text)\n",
    "        unlabeled_data['type'].extend([type_]*len(text))\n",
    "        unlabeled_data['source'].extend([source]*len(text))"
   ]
  },
  {
   "cell_type": "markdown",
   "metadata": {
    "heading_collapsed": true
   },
   "source": [
    "# Clean, dedup, filter labeled and unlabeled data"
   ]
  },
  {
   "cell_type": "code",
   "execution_count": 110,
   "metadata": {
    "code_folding": [
     1,
     4
    ],
    "hidden": true
   },
   "outputs": [],
   "source": [
    "# Functions for importing & cleaning labeled items\n",
    "def lower(s):\n",
    "    return s.lower()\n",
    "\n",
    "def imports(filename):\n",
    "    imp = pd.read_pickle(filename)\n",
    "    imp = imp.drop_duplicates()\n",
    "    imp['sent_clean'] = imp['sentence'].str.replace('http\\S+|www.\\S+|pic.twitter.com\\S+', '', case=False)\n",
    "    #imp['sent_clean'] = imp['sentence'].replace('[^A-Za-z0-9 ]+','',regex=True)\n",
    "    imp['sent_clean'] = imp['sent_clean'].apply(lower)\n",
    "    return imp\n",
    "\n",
    "def clean(x):\n",
    "    return x.replace('http\\S+|www.\\S+|pic.twitter.com\\S+', '')"
   ]
  },
  {
   "cell_type": "code",
   "execution_count": 194,
   "metadata": {
    "hidden": true
   },
   "outputs": [],
   "source": [
    "unlabeled_data_df = unlabeled_data_df.dropna()\n",
    "unlabeled_data_df['text'] = unlabeled_data_df['text'].apply(clean)\n",
    "unlabeled_data_df.drop_duplicates(subset= 'text',inplace=True)\n",
    "unlabeled_data_df = unlabeled_data_df.reset_index()"
   ]
  },
  {
   "cell_type": "code",
   "execution_count": 195,
   "metadata": {
    "hidden": true
   },
   "outputs": [],
   "source": [
    "labeled_data_df = labeled_data_df.dropna()\n",
    "labeled_data_df['text'] = labeled_data_df['text'].apply(clean)\n",
    "labeled_data_df.drop_duplicates(subset= 'text',inplace=True)\n",
    "labeled_data_df = labeled_data_df.reset_index()"
   ]
  },
  {
   "cell_type": "code",
   "execution_count": 196,
   "metadata": {
    "hidden": true
   },
   "outputs": [],
   "source": [
    "labeled_data_df = labeled_data_df.drop(['index'],axis=1)"
   ]
  },
  {
   "cell_type": "code",
   "execution_count": 197,
   "metadata": {
    "hidden": true
   },
   "outputs": [
    {
     "data": {
      "text/plain": [
       "(866654, 4)"
      ]
     },
     "execution_count": 197,
     "metadata": {},
     "output_type": "execute_result"
    }
   ],
   "source": [
    "unlabeled_data_df.shape"
   ]
  },
  {
   "cell_type": "code",
   "execution_count": 198,
   "metadata": {
    "hidden": true
   },
   "outputs": [
    {
     "data": {
      "text/plain": [
       "(39228, 4)"
      ]
     },
     "execution_count": 198,
     "metadata": {},
     "output_type": "execute_result"
    }
   ],
   "source": [
    "labeled_data_df.shape"
   ]
  },
  {
   "cell_type": "code",
   "execution_count": null,
   "metadata": {
    "hidden": true
   },
   "outputs": [],
   "source": [
    "# summary of what's included"
   ]
  },
  {
   "cell_type": "code",
   "execution_count": null,
   "metadata": {
    "hidden": true
   },
   "outputs": [],
   "source": []
  },
  {
   "cell_type": "markdown",
   "metadata": {
    "heading_collapsed": true
   },
   "source": [
    "# Create MTurk train/eval splits for IAA comparisons"
   ]
  },
  {
   "cell_type": "code",
   "execution_count": 34,
   "metadata": {
    "hidden": true
   },
   "outputs": [
    {
     "data": {
      "text/plain": [
       "dict_keys([1, 2, 3, 4, 5])"
      ]
     },
     "execution_count": 34,
     "metadata": {},
     "output_type": "execute_result"
    }
   ],
   "source": [
    "full_annotator_ratings = pickle.load(open('../MTurk/MTurk_results/full_ratings_per_round.pkl','rb'))\n",
    "full_annotator_ratings.keys()"
   ]
  },
  {
   "cell_type": "code",
   "execution_count": 35,
   "metadata": {
    "hidden": true
   },
   "outputs": [],
   "source": [
    "def get_annotator_ratings(r,b,sent_id):\n",
    "    df_ = full_annotator_ratings[int(r)][int(b)]\n",
    "#     ratings = df_.loc['t'+sent_id][['worker_{}'.format(w_id) for w_id in range(0,8) \n",
    "#                 if df_.loc['MACE competence']['worker_{}'.format(w_id)] > 0.5]].values\n",
    "    ratings = df_.loc[sent_id][['worker_{}'.format(w_id) for w_id in range(0,8)]].values\n",
    "    \n",
    "    return ratings"
   ]
  },
  {
   "cell_type": "code",
   "execution_count": 56,
   "metadata": {
    "hidden": true
   },
   "outputs": [
    {
     "name": "stdout",
     "output_type": "stream",
     "text": [
      "50 2000\n",
      "./scripts/save/mturk_round5_batch0/\n",
      "(2000, 4)\n",
      "Train distribution:\n",
      "1    846\n",
      "0    764\n",
      "2    390\n",
      "Name: stance, dtype: int64\n",
      "\n",
      "Dev distribution:\n",
      "0    19\n",
      "1    17\n",
      "2    14\n",
      "Name: stance, dtype: int64\n",
      "50 2000\n",
      "./scripts/save/mturk_round5_batch1/\n",
      "(2000, 4)\n",
      "Train distribution:\n",
      "1    843\n",
      "0    764\n",
      "2    393\n",
      "Name: stance, dtype: int64\n",
      "\n",
      "Dev distribution:\n",
      "1    20\n",
      "0    19\n",
      "2    11\n",
      "Name: stance, dtype: int64\n",
      "50 2000\n",
      "./scripts/save/mturk_round5_batch2/\n",
      "(2000, 4)\n",
      "Train distribution:\n",
      "1    844\n",
      "0    760\n",
      "2    396\n",
      "Name: stance, dtype: int64\n",
      "\n",
      "Dev distribution:\n",
      "0    23\n",
      "1    19\n",
      "2    8 \n",
      "Name: stance, dtype: int64\n",
      "50 2000\n",
      "./scripts/save/mturk_round5_batch3/\n",
      "(2000, 4)\n",
      "Train distribution:\n",
      "1    847\n",
      "0    764\n",
      "2    389\n",
      "Name: stance, dtype: int64\n",
      "\n",
      "Dev distribution:\n",
      "0    19\n",
      "1    16\n",
      "2    15\n",
      "Name: stance, dtype: int64\n",
      "50 2000\n",
      "./scripts/save/mturk_round5_batch4/\n",
      "(2000, 4)\n",
      "Train distribution:\n",
      "1    843\n",
      "0    763\n",
      "2    394\n",
      "Name: stance, dtype: int64\n",
      "\n",
      "Dev distribution:\n",
      "1    20\n",
      "0    20\n",
      "2    10\n",
      "Name: stance, dtype: int64\n",
      "50 2000\n",
      "./scripts/save/mturk_round5_batch5/\n",
      "(2000, 4)\n",
      "Train distribution:\n",
      "1    841\n",
      "0    765\n",
      "2    394\n",
      "Name: stance, dtype: int64\n",
      "\n",
      "Dev distribution:\n",
      "1    22\n",
      "0    18\n",
      "2    10\n",
      "Name: stance, dtype: int64\n",
      "50 2000\n",
      "./scripts/save/mturk_round5_batch6/\n",
      "(2000, 4)\n",
      "Train distribution:\n",
      "1    842\n",
      "0    765\n",
      "2    393\n",
      "Name: stance, dtype: int64\n",
      "\n",
      "Dev distribution:\n",
      "1    21\n",
      "0    18\n",
      "2    11\n",
      "Name: stance, dtype: int64\n",
      "50 2000\n",
      "./scripts/save/mturk_round5_batch7/\n",
      "(2000, 4)\n",
      "Train distribution:\n",
      "1    844\n",
      "0    764\n",
      "2    392\n",
      "Name: stance, dtype: int64\n",
      "\n",
      "Dev distribution:\n",
      "1    19\n",
      "0    19\n",
      "2    12\n",
      "Name: stance, dtype: int64\n",
      "50 2000\n",
      "./scripts/save/mturk_round5_batch8/\n",
      "(2000, 4)\n",
      "Train distribution:\n",
      "1    847\n",
      "0    760\n",
      "2    393\n",
      "Name: stance, dtype: int64\n",
      "\n",
      "Dev distribution:\n",
      "0    23\n",
      "1    16\n",
      "2    11\n",
      "Name: stance, dtype: int64\n",
      "50 2000\n",
      "./scripts/save/mturk_round5_batch9/\n",
      "(2000, 4)\n",
      "Train distribution:\n",
      "1    844\n",
      "0    765\n",
      "2    391\n",
      "Name: stance, dtype: int64\n",
      "\n",
      "Dev distribution:\n",
      "1    19\n",
      "0    18\n",
      "2    13\n",
      "Name: stance, dtype: int64\n"
     ]
    }
   ],
   "source": [
    "r_no = 5\n",
    "for b_no in range(0,10):\n",
    "    srcs_for_eval = set(['round{}_batch{}_sentid{}'.format(r_no,b_no,s_id) for s_id in \n",
    "                   pd.DataFrame(full_annotator_ratings[r_no][b_no]).index.values[:-1]])\n",
    "    dev_df = mturk_df.loc[mturk_df.source.isin(srcs_for_eval)]\n",
    "    train_df = mturk_df.loc[~mturk_df.source.isin(srcs_for_eval)]\n",
    "    print(len(dev_df),len(train_df))\n",
    "    assert len(set(dev_df.source.values).intersection(set(train_df.source.values))) == 0\n",
    "    \n",
    "    data_type = 'mturk_round{}_batch{}'.format(r_no,b_no) \n",
    "\n",
    "    SAVE_DIR = './scripts/save/{}/'.format(data_type)\n",
    "    print(SAVE_DIR)\n",
    "    if not os.path.exists(SAVE_DIR):\n",
    "        os.mkdir(SAVE_DIR)\n",
    "\n",
    "    if train_df is not None:\n",
    "        print(train_df.shape) \n",
    "        \n",
    "    train_df_by_stance = {s: train_df.loc[train_df.stance == s] for s in stances} if train_df is not None else None\n",
    "    dev_df_by_stance = {s: dev_df.loc[dev_df.stance == s] for s in stances}\n",
    "\n",
    "    train_X_by_stance = {s: train_df_by_stance[s].text.values for i,s in enumerate(stances)} if train_df is not None else None\n",
    "    dev_X_by_stance = {s: dev_df_by_stance[s].text.values for i,s in enumerate(stances)}\n",
    "\n",
    "    train_Y_by_stance = {s: np.array([class_nums[x] for x in train_df_by_stance[s].stance]) for i,s in enumerate(stances)} if train_df is not None else None\n",
    "    dev_Y_by_stance = {s: np.array([class_nums[x] for x in dev_df_by_stance[s].stance]) for i,s in enumerate(stances)}\n",
    "\n",
    "    if train_df is not None:\n",
    "        trX = []\n",
    "        trY = []\n",
    "        for i,s in enumerate(stances):\n",
    "            for t, y in zip(train_X_by_stance[s], train_Y_by_stance[s]):\n",
    "                trX.append(t)\n",
    "                trY.append(y)\n",
    "\n",
    "    vaX = []\n",
    "    vaY = []\n",
    "    for i,s in enumerate(stances):\n",
    "        for t, y in zip(dev_X_by_stance[s], dev_Y_by_stance[s]):\n",
    "            vaX.append(t)\n",
    "            vaY.append(y)\n",
    "\n",
    "    train_dat = pd.DataFrame({'sentence':trX,'stance':trY}) if train_df is not None else None\n",
    "    val_dat = pd.DataFrame({'sentence':vaX,'stance':vaY})\n",
    "    if train_df is not None:\n",
    "        print('Train distribution:')\n",
    "        print(train_dat.stance.value_counts()) \n",
    "    print('\\nDev distribution:')\n",
    "    print(val_dat.stance.value_counts())\n",
    "\n",
    "    if train_df is not None:\n",
    "        train_dat.to_csv(SAVE_DIR+'train.tsv',sep='\\t',header=None,index=False)\n",
    "    val_dat.to_csv(SAVE_DIR+'dev.tsv',sep='\\t',header=None,index=False)"
   ]
  },
  {
   "cell_type": "markdown",
   "metadata": {},
   "source": [
    "# Create train / val / test splits for each train data type"
   ]
  },
  {
   "cell_type": "markdown",
   "metadata": {},
   "source": [
    "## Add original outlet slant as feature"
   ]
  },
  {
   "cell_type": "code",
   "execution_count": 271,
   "metadata": {},
   "outputs": [],
   "source": [
    "data_for_mturk_old = pickle.load(open('/Users/yiweiluo/Dropbox/research/QP2/code/Fox_and_friends/data_for_mturk.pkl',\n",
    "                                     'rb'))\n",
    "data_for_mturk = pickle.load(open('/Users/yiweiluo/Dropbox/research/QP2/code/Fox_and_friends/data_for_mturk_2020.pkl',\n",
    "                                 'rb'))"
   ]
  },
  {
   "cell_type": "code",
   "execution_count": 272,
   "metadata": {
    "scrolled": true
   },
   "outputs": [
    {
     "data": {
      "text/plain": [
       "set()"
      ]
     },
     "execution_count": 272,
     "metadata": {},
     "output_type": "execute_result"
    }
   ],
   "source": [
    "set(data_for_mturk.sent_key.values).intersection(set(data_for_mturk_old.sent_key.values))"
   ]
  },
  {
   "cell_type": "code",
   "execution_count": 273,
   "metadata": {
    "scrolled": true
   },
   "outputs": [
    {
     "data": {
      "text/plain": [
       "(3510, 7)"
      ]
     },
     "execution_count": 273,
     "metadata": {},
     "output_type": "execute_result"
    }
   ],
   "source": [
    "data_for_mturk.shape"
   ]
  },
  {
   "cell_type": "code",
   "execution_count": 274,
   "metadata": {},
   "outputs": [
    {
     "data": {
      "text/plain": [
       "RangeIndex(start=0, stop=3510, step=1)"
      ]
     },
     "execution_count": 274,
     "metadata": {},
     "output_type": "execute_result"
    }
   ],
   "source": [
    "data_for_mturk.index"
   ]
  },
  {
   "cell_type": "code",
   "execution_count": 275,
   "metadata": {},
   "outputs": [],
   "source": [
    "ROUND_DATA = {i: pickle.load(open('/Users/yiweiluo/Dropbox/research/QP2/code/Fox_and_friends/\\\n",
    "LIVE_ROUND{}_BATCH_DATA.pkl'.format(i),'rb')) for i in [n+1 for n in range(0,5)]}"
   ]
  },
  {
   "cell_type": "code",
   "execution_count": 276,
   "metadata": {},
   "outputs": [],
   "source": [
    "def get_orig_media_slant(r_no,b_no,s_id):\n",
    "    if r_no < 5:\n",
    "        df_ = data_for_mturk_old\n",
    "    else:\n",
    "        df_ = data_for_mturk\n",
    "    \n",
    "    b_df_ = pd.DataFrame(ROUND_DATA[r_no][b_no])\n",
    "    df_key = b_df_.loc[b_df_.sent_id == s_id].df_key.values[0]\n",
    "    \n",
    "    def str_to_int(s):\n",
    "        return int(s == 'pro') # 1 for pro, 0 for anti\n",
    "        \n",
    "    return str_to_int(df_.iloc[df_key].bias)"
   ]
  },
  {
   "cell_type": "markdown",
   "metadata": {
    "heading_collapsed": true
   },
   "source": [
    "## All SemEval tweets as eval"
   ]
  },
  {
   "cell_type": "code",
   "execution_count": 109,
   "metadata": {
    "hidden": true
   },
   "outputs": [
    {
     "data": {
      "text/plain": [
       "(564, 4)"
      ]
     },
     "execution_count": 109,
     "metadata": {},
     "output_type": "execute_result"
    }
   ],
   "source": [
    "semeval_df = labeled_data.loc[labeled_data.type.isin({'semeval_tweets','semeval_train_tweets'})]\n",
    "semeval_df.shape"
   ]
  },
  {
   "cell_type": "code",
   "execution_count": 118,
   "metadata": {
    "hidden": true
   },
   "outputs": [
    {
     "data": {
      "text/plain": [
       "(169, 4)"
      ]
     },
     "execution_count": 118,
     "metadata": {},
     "output_type": "execute_result"
    }
   ],
   "source": [
    "true_test_df = labeled_data.loc[labeled_data.type == 'semeval_tweets']\n",
    "true_test_df.shape"
   ]
  },
  {
   "cell_type": "code",
   "execution_count": 119,
   "metadata": {
    "hidden": true
   },
   "outputs": [
    {
     "data": {
      "text/plain": [
       "'./scripts/save/semeval/'"
      ]
     },
     "execution_count": 119,
     "metadata": {},
     "output_type": "execute_result"
    }
   ],
   "source": [
    "SAVE_DIR"
   ]
  },
  {
   "cell_type": "code",
   "execution_count": 122,
   "metadata": {
    "hidden": true
   },
   "outputs": [
    {
     "name": "stdout",
     "output_type": "stream",
     "text": [
      "\n",
      "True test distribution:\n",
      "0    123\n",
      "1    35 \n",
      "2    11 \n",
      "Name: stance, dtype: int64\n"
     ]
    }
   ],
   "source": [
    "test_df_by_stance = {s: true_test_df.loc[true_test_df.stance == s] for s in stances}\n",
    "test_X_by_stance = {s: test_df_by_stance[s].text.values for i,s in enumerate(stances)}\n",
    "test_Y_by_stance = {s: np.array([class_nums[x] for x in test_df_by_stance[s].stance]) for i,s in enumerate(stances)}\n",
    "\n",
    "teX = []\n",
    "teY = []\n",
    "for i,s in enumerate(stances):\n",
    "    for t, y in zip(test_X_by_stance[s], test_Y_by_stance[s]):\n",
    "        teX.append(t)\n",
    "        teY.append(y)\n",
    "\n",
    "test_dat = pd.DataFrame({'sentence':teX,'stance':teY})\n",
    "print('\\nTrue test distribution:')\n",
    "print(test_dat.stance.value_counts())\n",
    "\n",
    "test_dat.to_csv(SAVE_DIR+'true_test.tsv',sep='\\t',header=None,index=False)"
   ]
  },
  {
   "cell_type": "code",
   "execution_count": 110,
   "metadata": {
    "hidden": true
   },
   "outputs": [
    {
     "data": {
      "text/plain": [
       "(197, 367)"
      ]
     },
     "execution_count": 110,
     "metadata": {},
     "output_type": "execute_result"
    }
   ],
   "source": [
    "eval_ix = semeval_df.index.values\n",
    "dev_ix,test_ix = train_test_split(eval_ix,test_size=0.65)\n",
    "len(dev_ix),len(test_ix)"
   ]
  },
  {
   "cell_type": "code",
   "execution_count": 111,
   "metadata": {
    "hidden": true
   },
   "outputs": [
    {
     "data": {
      "text/plain": [
       "((197, 4), (367, 4))"
      ]
     },
     "execution_count": 111,
     "metadata": {},
     "output_type": "execute_result"
    }
   ],
   "source": [
    "dev_df = semeval_df.loc[dev_ix]\n",
    "test_df = semeval_df.loc[test_ix]\n",
    "dev_df.shape,test_df.shape"
   ]
  },
  {
   "cell_type": "markdown",
   "metadata": {},
   "source": [
    "## Single, shared dev + test set (from labeled MTurk)"
   ]
  },
  {
   "cell_type": "code",
   "execution_count": 57,
   "metadata": {},
   "outputs": [
    {
     "data": {
      "text/plain": [
       "(2042, 5)"
      ]
     },
     "execution_count": 57,
     "metadata": {},
     "output_type": "execute_result"
    }
   ],
   "source": [
    "mturk_df = labeled_data.loc[labeled_data.type=='mturk']\n",
    "mturk_df = mturk_df.drop_duplicates('text',keep='first')\n",
    "mturk_df.shape"
   ]
  },
  {
   "cell_type": "code",
   "execution_count": 277,
   "metadata": {
    "scrolled": true
   },
   "outputs": [
    {
     "data": {
      "text/plain": [
       "(2042, 6)"
      ]
     },
     "execution_count": 277,
     "metadata": {},
     "output_type": "execute_result"
    }
   ],
   "source": [
    "df_outlets = []\n",
    "for src in mturk_df.source.values:\n",
    "    spl = src.split('_')\n",
    "    r_ = spl[0][-1]\n",
    "    b_ = spl[1][-1]\n",
    "    sid_ = spl[-1][6:]\n",
    "    outlet = get_orig_media_slant(int(r_),int(b_),sid_)\n",
    "    df_outlets.append(outlet)\n",
    "mturk_df['outlet'] = df_outlets\n",
    "mturk_df.shape"
   ]
  },
  {
   "cell_type": "code",
   "execution_count": 59,
   "metadata": {},
   "outputs": [],
   "source": [
    "_,eval_ix = train_test_split(mturk_df.index.values,test_size=400,random_state=42)"
   ]
  },
  {
   "cell_type": "code",
   "execution_count": 60,
   "metadata": {},
   "outputs": [],
   "source": [
    "dev_ix,test_ix = train_test_split(eval_ix,test_size=0.65,random_state=42)"
   ]
  },
  {
   "cell_type": "code",
   "execution_count": null,
   "metadata": {},
   "outputs": [],
   "source": []
  },
  {
   "cell_type": "code",
   "execution_count": 334,
   "metadata": {
    "scrolled": true
   },
   "outputs": [
    {
     "data": {
      "text/plain": [
       "0    1038\n",
       "1    1004\n",
       "Name: outlet, dtype: int64"
      ]
     },
     "execution_count": 334,
     "metadata": {},
     "output_type": "execute_result"
    }
   ],
   "source": [
    "mturk_df.outlet.value_counts()"
   ]
  },
  {
   "cell_type": "code",
   "execution_count": 113,
   "metadata": {},
   "outputs": [],
   "source": [
    "mturk_df_outlet_groups = mturk_df.groupby('outlet')"
   ]
  },
  {
   "cell_type": "code",
   "execution_count": 125,
   "metadata": {
    "scrolled": true
   },
   "outputs": [
    {
     "data": {
      "text/plain": [
       "agree       468\n",
       "neutral     426\n",
       "disagree    115\n",
       "Name: stance, dtype: int64"
      ]
     },
     "execution_count": 125,
     "metadata": {},
     "output_type": "execute_result"
    }
   ],
   "source": [
    "# Right-wing\n",
    "mturk_df_outlet_groups.get_group(1).stance.value_counts()"
   ]
  },
  {
   "cell_type": "code",
   "execution_count": 117,
   "metadata": {},
   "outputs": [
    {
     "data": {
      "text/plain": [
       "neutral     437\n",
       "agree       315\n",
       "disagree    289\n",
       "Name: stance, dtype: int64"
      ]
     },
     "execution_count": 117,
     "metadata": {},
     "output_type": "execute_result"
    }
   ],
   "source": [
    "# Left-wing\n",
    "mturk_df_outlet_groups.get_group(0).stance.value_counts()"
   ]
  },
  {
   "cell_type": "code",
   "execution_count": 352,
   "metadata": {},
   "outputs": [],
   "source": [
    "from collections import defaultdict\n",
    "cross_val_eval_ix = defaultdict(dict)\n",
    "from sklearn.model_selection import KFold"
   ]
  },
  {
   "cell_type": "code",
   "execution_count": 221,
   "metadata": {
    "scrolled": true
   },
   "outputs": [
    {
     "name": "stdout",
     "output_type": "stream",
     "text": [
      "140 260\n",
      "140 260\n",
      "140 260\n",
      "140 260\n",
      "140 260\n",
      "140 260\n",
      "140 260\n",
      "140 260\n",
      "140 260\n",
      "140 260\n"
     ]
    }
   ],
   "source": [
    "for seed in seeds:\n",
    "    _,eval_ix = train_test_split(mturk_df.index.values,test_size=400,random_state=seed)\n",
    "    dev_ix,test_ix = train_test_split(eval_ix,test_size=0.65,random_state=seed)\n",
    "    print(len(dev_ix),len(test_ix))\n",
    "    cross_val_eval_ix[seed] = {'test':test_ix,'dev':dev_ix}"
   ]
  },
  {
   "cell_type": "code",
   "execution_count": 222,
   "metadata": {},
   "outputs": [
    {
     "data": {
      "text/plain": [
       "dict_keys([2037, 3068, 3254, 3725, 4219, 6390, 3995, 2202, 5910, 5652])"
      ]
     },
     "execution_count": 222,
     "metadata": {},
     "output_type": "execute_result"
    }
   ],
   "source": [
    "cross_val_eval_ix.keys()"
   ]
  },
  {
   "cell_type": "code",
   "execution_count": 18,
   "metadata": {},
   "outputs": [
    {
     "data": {
      "text/plain": [
       "((140, 4), (260, 4))"
      ]
     },
     "execution_count": 18,
     "metadata": {},
     "output_type": "execute_result"
    }
   ],
   "source": [
    "dev_df = mturk_df.loc[dev_ix]\n",
    "test_df = mturk_df.loc[test_ix]\n",
    "dev_df.shape,test_df.shape"
   ]
  },
  {
   "cell_type": "code",
   "execution_count": 19,
   "metadata": {},
   "outputs": [
    {
     "data": {
      "text/plain": [
       "677553    round4_batch0_sentidt8 \n",
       "677131    round2_batch9_sentidt26\n",
       "678145    round5_batch3_sentidt0 \n",
       "677075    round2_batch8_sentidt10\n",
       "678245    round5_batch5_sentidt0 \n",
       "                   ...           \n",
       "677417    round3_batch6_sentidt32\n",
       "676643    round1_batch6_sentidt25\n",
       "676557    round1_batch3_sentidt29\n",
       "677128    round2_batch9_sentidt23\n",
       "678073    round5_batch1_sentidt28\n",
       "Name: source, Length: 140, dtype: object"
      ]
     },
     "execution_count": 19,
     "metadata": {},
     "output_type": "execute_result"
    }
   ],
   "source": [
    "dev_df.source"
   ]
  },
  {
   "cell_type": "code",
   "execution_count": 106,
   "metadata": {},
   "outputs": [
    {
     "data": {
      "text/plain": [
       "array([676445, 676446, 676447, ..., 678492, 678493, 678494])"
      ]
     },
     "execution_count": 106,
     "metadata": {},
     "output_type": "execute_result"
    }
   ],
   "source": [
    "mturk_df.index.values"
   ]
  },
  {
   "cell_type": "markdown",
   "metadata": {
    "heading_collapsed": true
   },
   "source": [
    "## Vanilla MTurk"
   ]
  },
  {
   "cell_type": "code",
   "execution_count": 335,
   "metadata": {
    "hidden": true
   },
   "outputs": [
    {
     "data": {
      "text/plain": [
       "(1642, 6)"
      ]
     },
     "execution_count": 335,
     "metadata": {},
     "output_type": "execute_result"
    }
   ],
   "source": [
    "vanilla_train_df = mturk_df.loc[~mturk_df.index.isin(eval_ix)]\n",
    "vanilla_train_df.shape # Expect it to be 2050-400 = 1650"
   ]
  },
  {
   "cell_type": "code",
   "execution_count": 337,
   "metadata": {
    "hidden": true
   },
   "outputs": [],
   "source": [
    "dev_df = mturk_df.loc[dev_ix]\n",
    "test_df = mturk_df.loc[test_ix]"
   ]
  },
  {
   "cell_type": "code",
   "execution_count": 338,
   "metadata": {
    "code_folding": [],
    "hidden": true,
    "scrolled": true
   },
   "outputs": [],
   "source": [
    "assert len(set(vanilla_train_df.source.values).intersection(set(dev_df.source.values) | \n",
    "                                                            set(test_df.source.values))) == 0"
   ]
  },
  {
   "cell_type": "code",
   "execution_count": 339,
   "metadata": {
    "hidden": true
   },
   "outputs": [
    {
     "data": {
      "text/plain": [
       "set()"
      ]
     },
     "execution_count": 339,
     "metadata": {},
     "output_type": "execute_result"
    }
   ],
   "source": [
    "set(vanilla_train_df.text.values).intersection(dev_df.text.values)"
   ]
  },
  {
   "cell_type": "code",
   "execution_count": 340,
   "metadata": {
    "hidden": true,
    "scrolled": true
   },
   "outputs": [
    {
     "data": {
      "text/plain": [
       "set()"
      ]
     },
     "execution_count": 340,
     "metadata": {},
     "output_type": "execute_result"
    }
   ],
   "source": [
    "set(vanilla_train_df.text.values).intersection(test_df.text.values)"
   ]
  },
  {
   "cell_type": "markdown",
   "metadata": {},
   "source": [
    "## High IAA Vanilla MTurk"
   ]
  },
  {
   "cell_type": "code",
   "execution_count": 280,
   "metadata": {},
   "outputs": [
    {
     "data": {
      "text/plain": [
       "(140, 260)"
      ]
     },
     "execution_count": 280,
     "metadata": {},
     "output_type": "execute_result"
    }
   ],
   "source": [
    "eval_text_set = set(labeled_data.loc[eval_ix].text.values)\n",
    "dev_text_set = set(labeled_data.loc[dev_ix].text.values)\n",
    "test_text_set = set(labeled_data.loc[test_ix].text.values)\n",
    "len(dev_text_set),len(test_text_set)"
   ]
  },
  {
   "cell_type": "code",
   "execution_count": 278,
   "metadata": {},
   "outputs": [
    {
     "name": "stderr",
     "output_type": "stream",
     "text": [
      "/anaconda3/lib/python3.7/site-packages/ipykernel_launcher.py:10: SettingWithCopyWarning: \n",
      "A value is trying to be set on a copy of a slice from a DataFrame.\n",
      "Try using .loc[row_indexer,col_indexer] = value instead\n",
      "\n",
      "See the caveats in the documentation: https://pandas.pydata.org/pandas-docs/stable/user_guide/indexing.html#returning-a-view-versus-a-copy\n",
      "  # Remove the CWD from sys.path while we load stuff.\n"
     ]
    },
    {
     "data": {
      "text/plain": [
       "(1120, 6)"
      ]
     },
     "execution_count": 278,
     "metadata": {},
     "output_type": "execute_result"
    }
   ],
   "source": [
    "high_iaa_mturk_df = labeled_data.loc[labeled_data.type == 'mturk_high_iaa']\n",
    "df_outlets = []\n",
    "for src in high_iaa_mturk_df.source.values:\n",
    "    spl = src.split('_')\n",
    "    r_ = spl[0][-1]\n",
    "    b_ = spl[1][-1]\n",
    "    sid_ = spl[-1][6:]\n",
    "    outlet = get_orig_media_slant(int(r_),int(b_),sid_)\n",
    "    df_outlets.append(outlet)\n",
    "high_iaa_mturk_df['outlet'] = df_outlets\n",
    "high_iaa_mturk_df.shape"
   ]
  },
  {
   "cell_type": "code",
   "execution_count": 288,
   "metadata": {
    "scrolled": true
   },
   "outputs": [
    {
     "name": "stderr",
     "output_type": "stream",
     "text": [
      "/anaconda3/lib/python3.7/site-packages/ipykernel_launcher.py:1: SettingWithCopyWarning: \n",
      "A value is trying to be set on a copy of a slice from a DataFrame.\n",
      "Try using .loc[row_indexer,col_indexer] = value instead\n",
      "\n",
      "See the caveats in the documentation: https://pandas.pydata.org/pandas-docs/stable/user_guide/indexing.html#returning-a-view-versus-a-copy\n",
      "  \"\"\"Entry point for launching an IPython kernel.\n"
     ]
    }
   ],
   "source": [
    "high_iaa_mturk_df['stance'] = high_iaa_mturk_df['stance'].apply(lambda x: x[:-1] if x[-1] == 'e' else x)"
   ]
  },
  {
   "cell_type": "code",
   "execution_count": 340,
   "metadata": {},
   "outputs": [
    {
     "data": {
      "text/plain": [
       "(916, 6)"
      ]
     },
     "execution_count": 340,
     "metadata": {},
     "output_type": "execute_result"
    }
   ],
   "source": [
    "train_df = high_iaa_mturk_df.loc[~high_iaa_mturk_df.text.isin(eval_text_set)]\n",
    "train_df.shape"
   ]
  },
  {
   "cell_type": "code",
   "execution_count": 311,
   "metadata": {},
   "outputs": [
    {
     "data": {
      "text/plain": [
       "((77, 6), (127, 6))"
      ]
     },
     "execution_count": 311,
     "metadata": {},
     "output_type": "execute_result"
    }
   ],
   "source": [
    "dev_df = high_iaa_mturk_df.loc[high_iaa_mturk_df.text.isin(dev_text_set)]\n",
    "test_df = high_iaa_mturk_df.loc[high_iaa_mturk_df.text.isin(test_text_set)]\n",
    "dev_df.shape,test_df.shape"
   ]
  },
  {
   "cell_type": "code",
   "execution_count": 312,
   "metadata": {},
   "outputs": [],
   "source": [
    "assert set(train_df.text.values).intersection(set(dev_df.text.values)) == set()\n",
    "assert set(train_df.text.values).intersection(set(test_df.text.values)) == set()"
   ]
  },
  {
   "cell_type": "code",
   "execution_count": 422,
   "metadata": {},
   "outputs": [],
   "source": [
    "kf = KFold(n_splits=10,random_state=92273, shuffle=True)"
   ]
  },
  {
   "cell_type": "code",
   "execution_count": 423,
   "metadata": {},
   "outputs": [
    {
     "name": "stdout",
     "output_type": "stream",
     "text": [
      "0 [0 2 3 4 5] [ 1 14 16 30 39]\n",
      "1 [0 1 2 3 4] [15 21 24 29 35]\n",
      "2 [1 4 5 8 9] [0 2 3 6 7]\n",
      "3 [0 1 2 3 4] [ 5 28 44 50 51]\n",
      "4 [0 1 2 3 4] [25 26 36 62 64]\n",
      "5 [0 1 2 3 4] [ 8 17 23 47 53]\n",
      "6 [0 1 2 3 4] [11 22 42 49 54]\n",
      "7 [0 1 2 3 5] [ 4 10 31 33 46]\n",
      "8 [0 1 2 3 4] [ 9 32 34 38 55]\n",
      "9 [0 1 2 3 4] [13 18 19 20 27]\n"
     ]
    }
   ],
   "source": [
    "for fold_no,tr_te_ix in enumerate(kf.split(list(high_iaa_mturk_df.index.values))):\n",
    "    tr_ix,te_ix = tr_te_ix\n",
    "    print(fold_no,tr_ix[:5],te_ix[:5])"
   ]
  },
  {
   "cell_type": "code",
   "execution_count": 474,
   "metadata": {},
   "outputs": [
    {
     "name": "stdout",
     "output_type": "stream",
     "text": [
      "TRAIN: 1837 TEST: 205\n",
      "[0 1 2 3 4] [28 30 35 38 63]\n",
      "<class 'numpy.ndarray'> <class 'numpy.ndarray'>\n",
      "Train distribution:\n",
      "1    770\n",
      "0    705\n",
      "2    362\n",
      "Name: stance, dtype: int64\n",
      "0    935\n",
      "1    902\n",
      "Name: outlet, dtype: int64\n",
      "neutral          770\n",
      "entailment       705\n",
      "contradiction    362\n",
      "Name: nli_label, dtype: int64\n",
      "\n",
      "Test distribution:\n",
      "1    92\n",
      "0    74\n",
      "2    39\n",
      "Name: stance, dtype: int64\n",
      "1    0.448780\n",
      "0    0.360976\n",
      "2    0.190244\n",
      "Name: stance, dtype: float64\n",
      "0    103\n",
      "1    102\n",
      "Name: outlet, dtype: int64\n",
      "neutral          92\n",
      "entailment       74\n",
      "contradiction    39\n",
      "Name: nli_label, dtype: int64\n",
      "TRAIN: 1837 TEST: 205\n",
      "[0 1 3 4 5] [ 2 15 17 33 41]\n",
      "<class 'numpy.ndarray'> <class 'numpy.ndarray'>\n",
      "Train distribution:\n",
      "1    763\n",
      "0    713\n",
      "2    361\n",
      "Name: stance, dtype: int64\n",
      "0    937\n",
      "1    900\n",
      "Name: outlet, dtype: int64\n",
      "neutral          763\n",
      "entailment       713\n",
      "contradiction    361\n",
      "Name: nli_label, dtype: int64\n",
      "\n",
      "Test distribution:\n",
      "1    99\n",
      "0    66\n",
      "2    40\n",
      "Name: stance, dtype: int64\n",
      "1    0.482927\n",
      "0    0.321951\n",
      "2    0.195122\n",
      "Name: stance, dtype: float64\n",
      "1    104\n",
      "0    101\n",
      "Name: outlet, dtype: int64\n",
      "neutral          99\n",
      "entailment       66\n",
      "contradiction    40\n",
      "Name: nli_label, dtype: int64\n",
      "TRAIN: 1838 TEST: 204\n",
      "[0 1 2 3 5] [ 4 16 21 24 29]\n",
      "<class 'numpy.ndarray'> <class 'numpy.ndarray'>\n",
      "Train distribution:\n",
      "1    779\n",
      "0    699\n",
      "2    360\n",
      "Name: stance, dtype: int64\n",
      "0    928\n",
      "1    910\n",
      "Name: outlet, dtype: int64\n",
      "neutral          779\n",
      "entailment       699\n",
      "contradiction    360\n",
      "Name: nli_label, dtype: int64\n",
      "\n",
      "Test distribution:\n",
      "1    83\n",
      "0    80\n",
      "2    41\n",
      "Name: stance, dtype: int64\n",
      "1    0.406863\n",
      "0    0.392157\n",
      "2    0.200980\n",
      "Name: stance, dtype: float64\n",
      "0    110\n",
      "1    94 \n",
      "Name: outlet, dtype: int64\n",
      "neutral          83\n",
      "entailment       80\n",
      "contradiction    41\n",
      "Name: nli_label, dtype: int64\n",
      "TRAIN: 1838 TEST: 204\n",
      "[0 2 3 4 5] [ 1 12 14 25 37]\n",
      "<class 'numpy.ndarray'> <class 'numpy.ndarray'>\n",
      "Train distribution:\n",
      "1    774\n",
      "0    703\n",
      "2    361\n",
      "Name: stance, dtype: int64\n",
      "0    929\n",
      "1    909\n",
      "Name: outlet, dtype: int64\n",
      "neutral          774\n",
      "entailment       703\n",
      "contradiction    361\n",
      "Name: nli_label, dtype: int64\n",
      "\n",
      "Test distribution:\n",
      "1    88\n",
      "0    76\n",
      "2    40\n",
      "Name: stance, dtype: int64\n",
      "1    0.431373\n",
      "0    0.372549\n",
      "2    0.196078\n",
      "Name: stance, dtype: float64\n",
      "0    109\n",
      "1    95 \n",
      "Name: outlet, dtype: int64\n",
      "neutral          88\n",
      "entailment       76\n",
      "contradiction    40\n",
      "Name: nli_label, dtype: int64\n",
      "TRAIN: 1838 TEST: 204\n",
      "[0 1 2 4 5] [ 3  6  7 36 39]\n",
      "<class 'numpy.ndarray'> <class 'numpy.ndarray'>\n",
      "Train distribution:\n",
      "1    786\n",
      "0    693\n",
      "2    359\n",
      "Name: stance, dtype: int64\n",
      "0    939\n",
      "1    899\n",
      "Name: outlet, dtype: int64\n",
      "neutral          786\n",
      "entailment       693\n",
      "contradiction    359\n",
      "Name: nli_label, dtype: int64\n",
      "\n",
      "Test distribution:\n",
      "0    86\n",
      "1    76\n",
      "2    42\n",
      "Name: stance, dtype: int64\n",
      "0    0.421569\n",
      "1    0.372549\n",
      "2    0.205882\n",
      "Name: stance, dtype: float64\n",
      "1    105\n",
      "0    99 \n",
      "Name: outlet, dtype: int64\n",
      "entailment       86\n",
      "neutral          76\n",
      "contradiction    42\n",
      "Name: nli_label, dtype: int64\n",
      "TRAIN: 1838 TEST: 204\n",
      "[1 2 3 4 6] [ 0  5 22 40 50]\n",
      "<class 'numpy.ndarray'> <class 'numpy.ndarray'>\n",
      "Train distribution:\n",
      "1    785\n",
      "0    696\n",
      "2    357\n",
      "Name: stance, dtype: int64\n",
      "0    938\n",
      "1    900\n",
      "Name: outlet, dtype: int64\n",
      "neutral          785\n",
      "entailment       696\n",
      "contradiction    357\n",
      "Name: nli_label, dtype: int64\n",
      "\n",
      "Test distribution:\n",
      "0    83\n",
      "1    77\n",
      "2    44\n",
      "Name: stance, dtype: int64\n",
      "0    0.406863\n",
      "1    0.377451\n",
      "2    0.215686\n",
      "Name: stance, dtype: float64\n",
      "1    104\n",
      "0    100\n",
      "Name: outlet, dtype: int64\n",
      "entailment       83\n",
      "neutral          77\n",
      "contradiction    44\n",
      "Name: nli_label, dtype: int64\n",
      "TRAIN: 1838 TEST: 204\n",
      "[0 1 2 3 4] [ 8 23 26 34 46]\n",
      "<class 'numpy.ndarray'> <class 'numpy.ndarray'>\n",
      "Train distribution:\n",
      "1    772\n",
      "0    703\n",
      "2    363\n",
      "Name: stance, dtype: int64\n",
      "0    923\n",
      "1    915\n",
      "Name: outlet, dtype: int64\n",
      "neutral          772\n",
      "entailment       703\n",
      "contradiction    363\n",
      "Name: nli_label, dtype: int64\n",
      "\n",
      "Test distribution:\n",
      "1    90\n",
      "0    76\n",
      "2    38\n",
      "Name: stance, dtype: int64\n",
      "1    0.441176\n",
      "0    0.372549\n",
      "2    0.186275\n",
      "Name: stance, dtype: float64\n",
      "0    115\n",
      "1    89 \n",
      "Name: outlet, dtype: int64\n",
      "neutral          90\n",
      "entailment       76\n",
      "contradiction    38\n",
      "Name: nli_label, dtype: int64\n",
      "TRAIN: 1838 TEST: 204\n",
      "[0 1 2 3 4] [11 42 47 54 73]\n",
      "<class 'numpy.ndarray'> <class 'numpy.ndarray'>\n",
      "Train distribution:\n",
      "1    782\n",
      "0    694\n",
      "2    362\n",
      "Name: stance, dtype: int64\n",
      "0    942\n",
      "1    896\n",
      "Name: outlet, dtype: int64\n",
      "neutral          782\n",
      "entailment       694\n",
      "contradiction    362\n",
      "Name: nli_label, dtype: int64\n",
      "\n",
      "Test distribution:\n",
      "0    85\n",
      "1    80\n",
      "2    39\n",
      "Name: stance, dtype: int64\n",
      "0    0.416667\n",
      "1    0.392157\n",
      "2    0.191176\n",
      "Name: stance, dtype: float64\n",
      "1    108\n",
      "0    96 \n",
      "Name: outlet, dtype: int64\n",
      "entailment       85\n",
      "neutral          80\n",
      "contradiction    39\n",
      "Name: nli_label, dtype: int64\n",
      "TRAIN: 1838 TEST: 204\n",
      "[0 1 2 3 4] [ 9 10 31 32 55]\n",
      "<class 'numpy.ndarray'> <class 'numpy.ndarray'>\n",
      "Train distribution:\n",
      "1    769\n",
      "0    704\n",
      "2    365\n",
      "Name: stance, dtype: int64\n",
      "0    934\n",
      "1    904\n",
      "Name: outlet, dtype: int64\n",
      "neutral          769\n",
      "entailment       704\n",
      "contradiction    365\n",
      "Name: nli_label, dtype: int64\n",
      "\n",
      "Test distribution:\n",
      "1    93\n",
      "0    75\n",
      "2    36\n",
      "Name: stance, dtype: int64\n",
      "1    0.455882\n",
      "0    0.367647\n",
      "2    0.176471\n",
      "Name: stance, dtype: float64\n",
      "0    104\n",
      "1    100\n",
      "Name: outlet, dtype: int64\n",
      "neutral          93\n",
      "entailment       75\n",
      "contradiction    36\n",
      "Name: nli_label, dtype: int64\n",
      "TRAIN: 1838 TEST: 204\n",
      "[0 1 2 3 4] [13 18 19 20 27]\n",
      "<class 'numpy.ndarray'> <class 'numpy.ndarray'>\n",
      "Train distribution:\n",
      "1    778\n",
      "0    701\n",
      "2    359\n",
      "Name: stance, dtype: int64\n",
      "0    937\n",
      "1    901\n",
      "Name: outlet, dtype: int64\n",
      "neutral          778\n",
      "entailment       701\n",
      "contradiction    359\n",
      "Name: nli_label, dtype: int64\n",
      "\n",
      "Test distribution:\n",
      "1    84\n",
      "0    78\n",
      "2    42\n",
      "Name: stance, dtype: int64\n",
      "1    0.411765\n",
      "0    0.382353\n",
      "2    0.205882\n",
      "Name: stance, dtype: float64\n",
      "1    103\n",
      "0    101\n",
      "Name: outlet, dtype: int64\n",
      "neutral          84\n",
      "entailment       78\n",
      "contradiction    42\n",
      "Name: nli_label, dtype: int64\n"
     ]
    }
   ],
   "source": [
    "# 10 different train/test splits for cross-validation\n",
    "for fold_no, tr_te_ix in enumerate(kf.split(list(mturk_df.index.values))):\n",
    "    train_index, test_index = tr_te_ix\n",
    "    print(\"TRAIN:\", len(train_index), \"TEST:\", len(test_index))\n",
    "    print(train_index[:5],test_index[:5])\n",
    "    print(type(train_index),type(test_index))\n",
    "    train_df_,test_df_ = mturk_df.iloc[train_index],mturk_df.iloc[test_index]\n",
    "    #X_train, X_test = train_df_.text.values,test_df_.text.values\n",
    "    #y_train, y_test = train_df_.stance.values,test_df_.stance.values\n",
    "    \n",
    "#     data_type = 'mturk_high_iaa_cv2_fold_{}'.format(fold_no)\n",
    "#     SAVE_DIR = './scripts/save/{}/'.format(data_type)\n",
    "#     do_downsample = False\n",
    "#     if not os.path.exists(SAVE_DIR):\n",
    "#         os.mkdir(SAVE_DIR)\n",
    "        \n",
    "    train_df_by_stance = {s: train_df_.loc[train_df_.stance == s] for s in stances} \\\n",
    "    if train_df_ is not None else None\n",
    "    #dev_df_by_stance = {s: dev_df.loc[dev_df.stance == s.replace('ee','ees')] for s in stances}\n",
    "    test_df_by_stance = {s: test_df_.loc[test_df_.stance == s] for s in stances}\n",
    "\n",
    "    train_X_by_stance = {s: train_df_by_stance[s].text.values for i,s in enumerate(stances)} \\\n",
    "    if train_df_ is not None else None\n",
    "    #dev_X_by_stance = {s: dev_df_by_stance[s].text.values for i,s in enumerate(stances)}\n",
    "    test_X_by_stance = {s: test_df_by_stance[s].text.values for i,s in enumerate(stances)}\n",
    "\n",
    "    train_Y_by_stance = {s: np.array([class_nums[x] for x in train_df_by_stance[s].stance]) for i,s in enumerate(stances)} if train_df_ is not None else None\n",
    "    #dev_Y_by_stance = {s: np.array([class_nums[x.replace('ees','ee')] for x in dev_df_by_stance[s].stance]) for i,s in enumerate(stances)}\n",
    "    test_Y_by_stance = {s: np.array([class_nums[x] for x in test_df_by_stance[s].stance]) for i,s in enumerate(stances)}\n",
    "\n",
    "    train_nli_by_stance = {s: np.array([stance2nli[x] for x in train_df_by_stance[s].stance]) for i,s in enumerate(stances)} if train_df_ is not None else None\n",
    "    #dev_nli_by_stance = {s: np.array([stance2nli[x] for x in dev_df_by_stance[s].stance]) for i,s in enumerate(stances)}\n",
    "    test_nli_by_stance = {s: np.array([stance2nli[x] for x in test_df_by_stance[s].stance]) for i,s in enumerate(stances)}\n",
    "\n",
    "    train_O_by_stance = {s: train_df_by_stance[s].outlet.values for i,s in enumerate(stances)} if train_df_ is not None else None\n",
    "    #dev_O_by_stance = {s: dev_df_by_stance[s].outlet.values for i,s in enumerate(stances)}\n",
    "    test_O_by_stance = {s: test_df_by_stance[s].outlet.values for i,s in enumerate(stances)}\n",
    "\n",
    "\n",
    "    if do_downsample:\n",
    "        min_N = min([len(train_X_by_stance[s]) for s in stances])\n",
    "        print('Downsampling to ~{} examples per stance.'.format(min_N))\n",
    "        for s in stances:\n",
    "            train_X_by_stance[s] = train_X_by_stance[s][:min_N+50]\n",
    "\n",
    "    if train_df_ is not None:\n",
    "        trX = []\n",
    "        trY = []\n",
    "        trO = []\n",
    "        trNLI = []\n",
    "        for i,s in enumerate(stances):\n",
    "            for t, y, o, nli in zip(train_X_by_stance[s], train_Y_by_stance[s], train_O_by_stance[s], train_nli_by_stance[s]):\n",
    "                trX.append(t)\n",
    "                trY.append(y)\n",
    "                trO.append(o)\n",
    "                trNLI.append(nli)\n",
    "\n",
    "    teX = []\n",
    "    teY = []\n",
    "    teO = []\n",
    "    teNLI = []\n",
    "    for i,s in enumerate(stances):\n",
    "        for t, y, o, nli in zip(test_X_by_stance[s], test_Y_by_stance[s], test_O_by_stance[s], test_nli_by_stance[s]):\n",
    "            teX.append(t)\n",
    "            teY.append(y)\n",
    "            teO.append(o)\n",
    "            teNLI.append(nli)\n",
    "\n",
    "#     vaX = []\n",
    "#     vaY = []\n",
    "#     vaO = []\n",
    "#     vaNLI = []\n",
    "#     for i,s in enumerate(stances):\n",
    "#         for t, y, o, nli in zip(dev_X_by_stance[s], dev_Y_by_stance[s], dev_O_by_stance[s], dev_nli_by_stance[s]):\n",
    "#             vaX.append(t)\n",
    "#             vaY.append(y)\n",
    "#             vaO.append(o)\n",
    "#             vaNLI.append(nli)\n",
    "\n",
    "\n",
    "    test_dat = pd.DataFrame({'sentence':teX,'stance':teY,'outlet':teO,'nli_label':teNLI})\n",
    "    train_dat = pd.DataFrame({'sentence':trX,'stance':trY,'outlet':trO,'nli_label':trNLI}) if train_df_ is not None else None\n",
    "    #val_dat = pd.DataFrame({'sentence':vaX,'stance':vaY,'outlet':vaO,'nli_label':vaNLI})\n",
    "    if train_df_ is not None:\n",
    "        print('Train distribution:')\n",
    "        print(train_dat.stance.value_counts()) \n",
    "        print(train_dat.outlet.value_counts())\n",
    "        print(train_dat.nli_label.value_counts())\n",
    "#     print('\\nDev distribution:')\n",
    "#     print(val_dat.stance.value_counts())\n",
    "#     print(val_dat.outlet.value_counts())\n",
    "#     print(val_dat.nli_label.value_counts())\n",
    "    print('\\nTest distribution:')\n",
    "    print(test_dat.stance.value_counts())\n",
    "    print(test_dat.stance.value_counts()/np.sum(test_dat.stance.value_counts().values))\n",
    "    print(test_dat.outlet.value_counts())\n",
    "    print(test_dat.nli_label.value_counts())\n",
    "\n",
    "#     if train_df_ is not None:\n",
    "#         train_dat.to_csv(SAVE_DIR+'train.tsv',sep='\\t',header=None,index=False)\n",
    "#     #val_dat.to_csv(SAVE_DIR+'dev.tsv',sep='\\t',header=None,index=False)\n",
    "#     test_dat.to_csv(SAVE_DIR+'test.tsv',sep='\\t',header=None,index=False)"
   ]
  },
  {
   "cell_type": "markdown",
   "metadata": {
    "heading_collapsed": true
   },
   "source": [
    "## High IAA + backtranslations"
   ]
  },
  {
   "cell_type": "code",
   "execution_count": 333,
   "metadata": {
    "hidden": true
   },
   "outputs": [],
   "source": [
    "high_iaa_backtrans_fr,high_iaa_backtrans_zh,src_df,stance_df,nli_label_df,outlet_df = [],[],[],[],[],[]\n",
    "for ix_row,row in train_df.iterrows():\n",
    "    src = row.source\n",
    "    split_src = src.split('_')\n",
    "    r = int(split_src[0][-1])\n",
    "    b = int(split_src[1][-1])\n",
    "    s_id = split_src[-1][6:]\n",
    "    zh = back_trans_zh.loc[(back_trans_zh['round'] == r) & (back_trans_zh.batch == b) &\n",
    "                                  (back_trans_zh.sent_id == s_id)].backtranslation_zh_en.values[0]\n",
    "    fr = back_trans_fr.loc[(back_trans_fr['round'] == r) & (back_trans_fr.batch == b) &\n",
    "                                  (back_trans_fr.sent_id == s_id)].backtranslation.values[0]\n",
    "    high_iaa_backtrans_fr.append(fr)\n",
    "    high_iaa_backtrans_zh.append(zh)\n",
    "    src_df.append(src)\n",
    "    stance_df.append(row.stance)\n",
    "    nli_label_df.append(row.nli_label)\n",
    "    outlet_df.append(row.outlet)"
   ]
  },
  {
   "cell_type": "code",
   "execution_count": 341,
   "metadata": {
    "hidden": true,
    "scrolled": true
   },
   "outputs": [],
   "source": [
    "# Make sure train_df is set to high_iaa_df\n",
    "high_iaa_fr_df = train_df.append(pd.DataFrame({'source':src_df,'type':['mturk_high_iaa_fr']*len(src_df),\n",
    "                              'text':high_iaa_backtrans_fr,'stance':stance_df,'nli_label':nli_label_df,\n",
    "                              'outlet':outlet_df}),ignore_index=True)\n",
    "high_iaa_zh_df = train_df.append(pd.DataFrame({'source':src_df,'type':['mturk_high_iaa_zh']*len(src_df),\n",
    "                              'text':high_iaa_backtrans_zh,'stance':stance_df,'nli_label':nli_label_df,\n",
    "                              'outlet':outlet_df}),ignore_index=True)"
   ]
  },
  {
   "cell_type": "markdown",
   "metadata": {
    "heading_collapsed": true
   },
   "source": [
    "## MTurk + French and Chinese backtranslations"
   ]
  },
  {
   "cell_type": "code",
   "execution_count": 352,
   "metadata": {
    "hidden": true
   },
   "outputs": [
    {
     "data": {
      "text/plain": [
       "twint_tweet               520886\n",
       "dallas_news_predicted     114686\n",
       "dallas_news               40309 \n",
       "mturk_zh_backtrans        2050  \n",
       "mturk                     2050  \n",
       "mturk_french_backtrans    2050  \n",
       "semeval_train_tweets      395   \n",
       "semeval_tweets            169   \n",
       "Name: type, dtype: int64"
      ]
     },
     "execution_count": 352,
     "metadata": {},
     "output_type": "execute_result"
    }
   ],
   "source": [
    "labeled_data.type.value_counts()"
   ]
  },
  {
   "cell_type": "code",
   "execution_count": 356,
   "metadata": {
    "hidden": true
   },
   "outputs": [],
   "source": [
    "back_trans_fr_df = labeled_data.loc[labeled_data.type == 'mturk_french_backtrans']"
   ]
  },
  {
   "cell_type": "code",
   "execution_count": 358,
   "metadata": {
    "hidden": true
   },
   "outputs": [
    {
     "data": {
      "text/plain": [
       "(1650, 5)"
      ]
     },
     "execution_count": 358,
     "metadata": {},
     "output_type": "execute_result"
    }
   ],
   "source": [
    "# Remove backtranslations of test sentences from training data\n",
    "mturk_eval_sources = set(mturk_df.loc[eval_ix].source.values)\n",
    "backtrans_train_df = back_trans_fr_df.loc[~back_trans_fr_df.source.isin(mturk_eval_sources)]#.append(\n",
    "#back_trans_zh_df.loc[~back_trans_zh_df.source.isin(mturk_eval_sources)])\n",
    "backtrans_train_df.shape # Expect this to be (2050-400)*1 = 1650"
   ]
  },
  {
   "cell_type": "code",
   "execution_count": 359,
   "metadata": {
    "hidden": true
   },
   "outputs": [
    {
     "data": {
      "text/plain": [
       "(3292, 6)"
      ]
     },
     "execution_count": 359,
     "metadata": {},
     "output_type": "execute_result"
    }
   ],
   "source": [
    "# Add to non-backtranslated training df\n",
    "backtrans_train_df = backtrans_train_df.append(vanilla_train_df)\n",
    "backtrans_train_df.shape # Expect 1650+2042-400"
   ]
  },
  {
   "cell_type": "code",
   "execution_count": 360,
   "metadata": {
    "hidden": true
   },
   "outputs": [
    {
     "data": {
      "text/plain": [
       "3292"
      ]
     },
     "execution_count": 360,
     "metadata": {},
     "output_type": "execute_result"
    }
   ],
   "source": [
    "1650+2042-400"
   ]
  },
  {
   "cell_type": "code",
   "execution_count": 364,
   "metadata": {
    "hidden": true
   },
   "outputs": [
    {
     "data": {
      "text/plain": [
       "set()"
      ]
     },
     "execution_count": 364,
     "metadata": {},
     "output_type": "execute_result"
    }
   ],
   "source": [
    "set(backtrans_train_df.text.values).intersection(set(dev_df.text.values))"
   ]
  },
  {
   "cell_type": "code",
   "execution_count": 367,
   "metadata": {
    "hidden": true
   },
   "outputs": [
    {
     "data": {
      "text/plain": [
       "set()"
      ]
     },
     "execution_count": 367,
     "metadata": {},
     "output_type": "execute_result"
    }
   ],
   "source": [
    "set(backtrans_train_df.text.values).intersection(set(dev_df.text.values))"
   ]
  },
  {
   "cell_type": "code",
   "execution_count": null,
   "metadata": {
    "hidden": true
   },
   "outputs": [],
   "source": []
  },
  {
   "cell_type": "markdown",
   "metadata": {},
   "source": [
    "## Writing to files"
   ]
  },
  {
   "cell_type": "code",
   "execution_count": 348,
   "metadata": {
    "scrolled": false
   },
   "outputs": [
    {
     "name": "stdout",
     "output_type": "stream",
     "text": [
      "./scripts/save/mturk_high_iaa_zh/\n",
      "(1832, 6)\n"
     ]
    }
   ],
   "source": [
    "data_type = 'mturk_high_iaa_zh' # 'vanilla_new','with_backtrans','windowed_N','semeval','flat','vanilla_cross_val'\n",
    "do_downsample = False\n",
    "\n",
    "if do_downsample:\n",
    "    SAVE_DIR = './scripts/save/{}_downsampled/'.format(data_type)\n",
    "else:\n",
    "    SAVE_DIR = './scripts/save/{}/'.format(data_type)\n",
    "print(SAVE_DIR)\n",
    "if not os.path.exists(SAVE_DIR):\n",
    "    os.mkdir(SAVE_DIR)\n",
    "\n",
    "if data_type == 'vanilla':\n",
    "    train_df = vanilla_train_df\n",
    "elif data_type == 'mturk_high_iaa_fr':\n",
    "    train_df = high_iaa_fr_df\n",
    "elif data_type == 'mturk_high_iaa_zh':\n",
    "    train_df = high_iaa_zh_df\n",
    "elif data_type == 'vanilla_new':\n",
    "    train_df = vanilla_train_df\n",
    "elif data_type == 'with_backtrans_fr':\n",
    "    train_df = backtrans_train_df\n",
    "elif data_type == 'semeval':\n",
    "    train_df = None\n",
    "elif data_type == 'flat':\n",
    "    train_df = flat_train_df\n",
    "    dev_df = unflat_dev_df\n",
    "    test_df = unflat_test_df\n",
    "elif data_type == 'vanilla_cross_val':\n",
    "    dev_dfs = [mturk_df.loc[cross_val_eval_ix[seed]['dev']] for seed in seeds]\n",
    "    test_dfs = [mturk_df.loc[cross_val_eval_ix[seed]['test']] for seed in seeds]\n",
    "    print(len(dev_dfs),len(test_dfs))\n",
    "    train_dfs = [mturk_df.loc[~mturk_df.index.isin(set(cross_val_eval_ix[seed]['test'])|\\\n",
    "                                                   set(cross_val_eval_ix[seed]['dev']))] \n",
    "                 for seed in seeds]\n",
    "    print(len(train_dfs))\n",
    "else:\n",
    "    train_df = train_df\n",
    "if train_df is not None:\n",
    "    print(train_df.shape) "
   ]
  },
  {
   "cell_type": "code",
   "execution_count": 261,
   "metadata": {
    "code_folding": [
     0
    ]
   },
   "outputs": [
    {
     "name": "stdout",
     "output_type": "stream",
     "text": [
      "Train distribution:\n",
      "1    693\n",
      "0    626\n",
      "2    331\n",
      "Name: stance, dtype: int64\n",
      "0    848\n",
      "1    802\n",
      "Name: outlet, dtype: int64\n",
      "\n",
      "Dev distribution:\n",
      "1    61\n",
      "0    51\n",
      "2    28\n",
      "Name: stance, dtype: int64\n",
      "1    77\n",
      "0    63\n",
      "Name: outlet, dtype: int64\n",
      "\n",
      "Test distribution:\n",
      "1    109\n",
      "0    106\n",
      "2    45 \n",
      "Name: stance, dtype: int64\n",
      "1    130\n",
      "0    130\n",
      "Name: outlet, dtype: int64\n",
      "Train distribution:\n",
      "1    710\n",
      "0    612\n",
      "2    328\n",
      "Name: stance, dtype: int64\n",
      "0    847\n",
      "1    803\n",
      "Name: outlet, dtype: int64\n",
      "\n",
      "Dev distribution:\n",
      "0    63\n",
      "1    53\n",
      "2    24\n",
      "Name: stance, dtype: int64\n",
      "1    74\n",
      "0    66\n",
      "Name: outlet, dtype: int64\n",
      "\n",
      "Test distribution:\n",
      "0    108\n",
      "1    100\n",
      "2    52 \n",
      "Name: stance, dtype: int64\n",
      "1    132\n",
      "0    128\n",
      "Name: outlet, dtype: int64\n",
      "Train distribution:\n",
      "1    684\n",
      "0    635\n",
      "2    331\n",
      "Name: stance, dtype: int64\n",
      "0    843\n",
      "1    807\n",
      "Name: outlet, dtype: int64\n",
      "\n",
      "Dev distribution:\n",
      "1    54\n",
      "0    50\n",
      "2    36\n",
      "Name: stance, dtype: int64\n",
      "0    73\n",
      "1    67\n",
      "Name: outlet, dtype: int64\n",
      "\n",
      "Test distribution:\n",
      "1    125\n",
      "0    98 \n",
      "2    37 \n",
      "Name: stance, dtype: int64\n",
      "1    135\n",
      "0    125\n",
      "Name: outlet, dtype: int64\n",
      "Train distribution:\n",
      "1    685\n",
      "0    634\n",
      "2    331\n",
      "Name: stance, dtype: int64\n",
      "0    845\n",
      "1    805\n",
      "Name: outlet, dtype: int64\n",
      "\n",
      "Dev distribution:\n",
      "0    59\n",
      "1    58\n",
      "2    23\n",
      "Name: stance, dtype: int64\n",
      "0    72\n",
      "1    68\n",
      "Name: outlet, dtype: int64\n",
      "\n",
      "Test distribution:\n",
      "1    120\n",
      "0    90 \n",
      "2    50 \n",
      "Name: stance, dtype: int64\n",
      "1    136\n",
      "0    124\n",
      "Name: outlet, dtype: int64\n",
      "Train distribution:\n",
      "1    698\n",
      "0    627\n",
      "2    325\n",
      "Name: stance, dtype: int64\n",
      "0    839\n",
      "1    811\n",
      "Name: outlet, dtype: int64\n",
      "\n",
      "Dev distribution:\n",
      "1    63\n",
      "0    51\n",
      "2    26\n",
      "Name: stance, dtype: int64\n",
      "0    75\n",
      "1    65\n",
      "Name: outlet, dtype: int64\n",
      "\n",
      "Test distribution:\n",
      "0    105\n",
      "1    102\n",
      "2    53 \n",
      "Name: stance, dtype: int64\n",
      "1    133\n",
      "0    127\n",
      "Name: outlet, dtype: int64\n",
      "Train distribution:\n",
      "1    683\n",
      "0    631\n",
      "2    336\n",
      "Name: stance, dtype: int64\n",
      "0    847\n",
      "1    803\n",
      "Name: outlet, dtype: int64\n",
      "\n",
      "Dev distribution:\n",
      "1    57\n",
      "0    56\n",
      "2    27\n",
      "Name: stance, dtype: int64\n",
      "0    73\n",
      "1    67\n",
      "Name: outlet, dtype: int64\n",
      "\n",
      "Test distribution:\n",
      "1    123\n",
      "0    96 \n",
      "2    41 \n",
      "Name: stance, dtype: int64\n",
      "1    139\n",
      "0    121\n",
      "Name: outlet, dtype: int64\n",
      "Train distribution:\n",
      "1    699\n",
      "0    625\n",
      "2    326\n",
      "Name: stance, dtype: int64\n",
      "0    837\n",
      "1    813\n",
      "Name: outlet, dtype: int64\n",
      "\n",
      "Dev distribution:\n",
      "1    59\n",
      "0    55\n",
      "2    26\n",
      "Name: stance, dtype: int64\n",
      "1    70\n",
      "0    70\n",
      "Name: outlet, dtype: int64\n",
      "\n",
      "Test distribution:\n",
      "1    105\n",
      "0    103\n",
      "2    52 \n",
      "Name: stance, dtype: int64\n",
      "0    134\n",
      "1    126\n",
      "Name: outlet, dtype: int64\n",
      "Train distribution:\n",
      "1    692\n",
      "0    627\n",
      "2    331\n",
      "Name: stance, dtype: int64\n",
      "0    844\n",
      "1    806\n",
      "Name: outlet, dtype: int64\n",
      "\n",
      "Dev distribution:\n",
      "1    57\n",
      "0    57\n",
      "2    26\n",
      "Name: stance, dtype: int64\n",
      "1    72\n",
      "0    68\n",
      "Name: outlet, dtype: int64\n",
      "\n",
      "Test distribution:\n",
      "1    114\n",
      "0    99 \n",
      "2    47 \n",
      "Name: stance, dtype: int64\n",
      "1    131\n",
      "0    129\n",
      "Name: outlet, dtype: int64\n",
      "Train distribution:\n",
      "1    695\n",
      "0    639\n",
      "2    316\n",
      "Name: stance, dtype: int64\n",
      "0    840\n",
      "1    810\n",
      "Name: outlet, dtype: int64\n",
      "\n",
      "Dev distribution:\n",
      "1    66\n",
      "0    48\n",
      "2    26\n",
      "Name: stance, dtype: int64\n",
      "0    71\n",
      "1    69\n",
      "Name: outlet, dtype: int64\n",
      "\n",
      "Test distribution:\n",
      "1    102\n",
      "0    96 \n",
      "2    62 \n",
      "Name: stance, dtype: int64\n",
      "1    130\n",
      "0    130\n",
      "Name: outlet, dtype: int64\n",
      "Train distribution:\n",
      "1    701\n",
      "0    627\n",
      "2    322\n",
      "Name: stance, dtype: int64\n",
      "0    835\n",
      "1    815\n",
      "Name: outlet, dtype: int64\n",
      "\n",
      "Dev distribution:\n",
      "0    60\n",
      "1    52\n",
      "2    28\n",
      "Name: stance, dtype: int64\n",
      "0    73\n",
      "1    67\n",
      "Name: outlet, dtype: int64\n",
      "\n",
      "Test distribution:\n",
      "1    110\n",
      "0    96 \n",
      "2    54 \n",
      "Name: stance, dtype: int64\n",
      "0    133\n",
      "1    127\n",
      "Name: outlet, dtype: int64\n"
     ]
    }
   ],
   "source": [
    "if data_type == 'vanilla_cross_val':\n",
    "    for n_,z_ in enumerate(zip(train_dfs,dev_dfs,test_dfs)):\n",
    "        train_df,dev_df,test_df = z_\n",
    "        \n",
    "        train_df_by_stance = {s: train_df.loc[train_df.stance == s] for s in stances} if train_df is not None else None\n",
    "        dev_df_by_stance = {s: dev_df.loc[dev_df.stance == s] for s in stances}\n",
    "        test_df_by_stance = {s: test_df.loc[test_df.stance == s] for s in stances}\n",
    "\n",
    "        train_X_by_stance = {s: train_df_by_stance[s].text.values for i,s in enumerate(stances)} if train_df is not None else None\n",
    "        dev_X_by_stance = {s: dev_df_by_stance[s].text.values for i,s in enumerate(stances)}\n",
    "        test_X_by_stance = {s: test_df_by_stance[s].text.values for i,s in enumerate(stances)}\n",
    "\n",
    "        train_Y_by_stance = {s: np.array([class_nums[x] for x in train_df_by_stance[s].stance]) for i,s in enumerate(stances)} if train_df is not None else None\n",
    "        dev_Y_by_stance = {s: np.array([class_nums[x] for x in dev_df_by_stance[s].stance]) for i,s in enumerate(stances)}\n",
    "        test_Y_by_stance = {s: np.array([class_nums[x] for x in test_df_by_stance[s].stance]) for i,s in enumerate(stances)}\n",
    "\n",
    "        train_O_by_stance = {s: train_df_by_stance[s].outlet.values for i,s in enumerate(stances)} if train_df is not None else None\n",
    "        dev_O_by_stance = {s: dev_df_by_stance[s].outlet.values for i,s in enumerate(stances)}\n",
    "        test_O_by_stance = {s: test_df_by_stance[s].outlet.values for i,s in enumerate(stances)}\n",
    "\n",
    "\n",
    "        if do_downsample:\n",
    "            min_N = min([len(train_X_by_stance[s]) for s in stances])\n",
    "            print('Downsampling to ~{} examples per stance.'.format(min_N))\n",
    "            for s in stances:\n",
    "                train_X_by_stance[s] = train_X_by_stance[s][:min_N+50]\n",
    "\n",
    "        if train_df is not None:\n",
    "            trX = []\n",
    "            trY = []\n",
    "            trO = []\n",
    "            for i,s in enumerate(stances):\n",
    "                for t, y, o in zip(train_X_by_stance[s], train_Y_by_stance[s], train_O_by_stance[s]):\n",
    "                    trX.append(t)\n",
    "                    trY.append(y)\n",
    "                    trO.append(o)\n",
    "\n",
    "        teX = []\n",
    "        teY = []\n",
    "        teO = []\n",
    "        for i,s in enumerate(stances):\n",
    "            for t, y, o in zip(test_X_by_stance[s], test_Y_by_stance[s], test_O_by_stance[s]):\n",
    "                teX.append(t)\n",
    "                teY.append(y)\n",
    "                teO.append(o)\n",
    "\n",
    "        vaX = []\n",
    "        vaY = []\n",
    "        vaO = []\n",
    "        for i,s in enumerate(stances):\n",
    "            for t, y, o in zip(dev_X_by_stance[s], dev_Y_by_stance[s], dev_O_by_stance[s]):\n",
    "                vaX.append(t)\n",
    "                vaY.append(y)\n",
    "                vaO.append(o)\n",
    "\n",
    "\n",
    "        test_dat = pd.DataFrame({'sentence':teX,'stance':teY,'outlet':teO})\n",
    "        train_dat = pd.DataFrame({'sentence':trX,'stance':trY,'outlet':trO}) if train_df is not None else None\n",
    "        val_dat = pd.DataFrame({'sentence':vaX,'stance':vaY,'outlet':vaO})\n",
    "        if train_df is not None:\n",
    "            print('Train distribution:')\n",
    "            print(train_dat.stance.value_counts()) \n",
    "            print(train_dat.outlet.value_counts())\n",
    "        print('\\nDev distribution:')\n",
    "        print(val_dat.stance.value_counts())\n",
    "        print(val_dat.outlet.value_counts())\n",
    "        print('\\nTest distribution:')\n",
    "        print(test_dat.stance.value_counts())\n",
    "        print(test_dat.outlet.value_counts())\n",
    "\n",
    "        if not os.path.exists(os.path.join(SAVE_DIR,str(n_))):\n",
    "            os.mkdir(os.path.join(SAVE_DIR,str(n_)))\n",
    "        if train_df is not None:\n",
    "            train_dat.to_csv(os.path.join(SAVE_DIR,str(n_),'train.tsv'),sep='\\t',header=None,index=False)\n",
    "        val_dat.to_csv(os.path.join(SAVE_DIR,str(n_),'dev.tsv'),sep='\\t',header=None,index=False)\n",
    "        test_dat.to_csv(os.path.join(SAVE_DIR,str(n_),'test.tsv'),sep='\\t',header=None,index=False)"
   ]
  },
  {
   "cell_type": "code",
   "execution_count": 349,
   "metadata": {
    "code_folding": [],
    "scrolled": true
   },
   "outputs": [
    {
     "name": "stdout",
     "output_type": "stream",
     "text": [
      "Train distribution:\n",
      "0    772\n",
      "1    740\n",
      "2    320\n",
      "Name: stance, dtype: int64\n",
      "0    938\n",
      "1    894\n",
      "Name: outlet, dtype: int64\n",
      "entailment       772\n",
      "neutral          740\n",
      "contradiction    320\n",
      "Name: nli_label, dtype: int64\n",
      "\n",
      "Dev distribution:\n",
      "1    31\n",
      "0    26\n",
      "2    20\n",
      "Name: stance, dtype: int64\n",
      "0    47\n",
      "1    30\n",
      "Name: outlet, dtype: int64\n",
      "neutral          31\n",
      "entailment       26\n",
      "contradiction    20\n",
      "Name: nli_label, dtype: int64\n",
      "\n",
      "Test distribution:\n",
      "1    66\n",
      "0    46\n",
      "2    15\n",
      "Name: stance, dtype: int64\n",
      "1    72\n",
      "0    55\n",
      "Name: outlet, dtype: int64\n",
      "neutral          66\n",
      "entailment       46\n",
      "contradiction    15\n",
      "Name: nli_label, dtype: int64\n"
     ]
    }
   ],
   "source": [
    "train_df_by_stance = {s: train_df.loc[train_df.stance == s.replace('ee','ees')] for s in stances} \\\n",
    "if train_df is not None else None\n",
    "dev_df_by_stance = {s: dev_df.loc[dev_df.stance == s.replace('ee','ees')] for s in stances}\n",
    "test_df_by_stance = {s: test_df.loc[test_df.stance == s.replace('ee','ees')] for s in stances}\n",
    "\n",
    "train_X_by_stance = {s: train_df_by_stance[s].text.values for i,s in enumerate(stances)} \\\n",
    "if train_df is not None else None\n",
    "dev_X_by_stance = {s: dev_df_by_stance[s].text.values for i,s in enumerate(stances)}\n",
    "test_X_by_stance = {s: test_df_by_stance[s].text.values for i,s in enumerate(stances)}\n",
    "\n",
    "train_Y_by_stance = {s: np.array([class_nums[x.replace('ees','ee')] for x in train_df_by_stance[s].stance]) for i,s in enumerate(stances)} if train_df is not None else None\n",
    "dev_Y_by_stance = {s: np.array([class_nums[x.replace('ees','ee')] for x in dev_df_by_stance[s].stance]) for i,s in enumerate(stances)}\n",
    "test_Y_by_stance = {s: np.array([class_nums[x.replace('ees','ee')] for x in test_df_by_stance[s].stance]) for i,s in enumerate(stances)}\n",
    "\n",
    "train_nli_by_stance = {s: np.array([stance2nli[x] for x in train_df_by_stance[s].stance]) for i,s in enumerate(stances)} if train_df is not None else None\n",
    "dev_nli_by_stance = {s: np.array([stance2nli[x] for x in dev_df_by_stance[s].stance]) for i,s in enumerate(stances)}\n",
    "test_nli_by_stance = {s: np.array([stance2nli[x] for x in test_df_by_stance[s].stance]) for i,s in enumerate(stances)}\n",
    "\n",
    "train_O_by_stance = {s: train_df_by_stance[s].outlet.values for i,s in enumerate(stances)} if train_df is not None else None\n",
    "dev_O_by_stance = {s: dev_df_by_stance[s].outlet.values for i,s in enumerate(stances)}\n",
    "test_O_by_stance = {s: test_df_by_stance[s].outlet.values for i,s in enumerate(stances)}\n",
    "\n",
    "\n",
    "if do_downsample:\n",
    "    min_N = min([len(train_X_by_stance[s]) for s in stances])\n",
    "    print('Downsampling to ~{} examples per stance.'.format(min_N))\n",
    "    for s in stances:\n",
    "        train_X_by_stance[s] = train_X_by_stance[s][:min_N+50]\n",
    "\n",
    "if train_df is not None:\n",
    "    trX = []\n",
    "    trY = []\n",
    "    trO = []\n",
    "    trNLI = []\n",
    "    for i,s in enumerate(stances):\n",
    "        for t, y, o, nli in zip(train_X_by_stance[s], train_Y_by_stance[s], train_O_by_stance[s], train_nli_by_stance[s]):\n",
    "            trX.append(t)\n",
    "            trY.append(y)\n",
    "            trO.append(o)\n",
    "            trNLI.append(nli)\n",
    "\n",
    "teX = []\n",
    "teY = []\n",
    "teO = []\n",
    "teNLI = []\n",
    "for i,s in enumerate(stances):\n",
    "    for t, y, o, nli in zip(test_X_by_stance[s], test_Y_by_stance[s], test_O_by_stance[s], test_nli_by_stance[s]):\n",
    "        teX.append(t)\n",
    "        teY.append(y)\n",
    "        teO.append(o)\n",
    "        teNLI.append(nli)\n",
    "\n",
    "vaX = []\n",
    "vaY = []\n",
    "vaO = []\n",
    "vaNLI = []\n",
    "for i,s in enumerate(stances):\n",
    "    for t, y, o, nli in zip(dev_X_by_stance[s], dev_Y_by_stance[s], dev_O_by_stance[s], dev_nli_by_stance[s]):\n",
    "        vaX.append(t)\n",
    "        vaY.append(y)\n",
    "        vaO.append(o)\n",
    "        vaNLI.append(nli)\n",
    "        \n",
    "        \n",
    "test_dat = pd.DataFrame({'sentence':teX,'stance':teY,'outlet':teO,'nli_label':teNLI})\n",
    "train_dat = pd.DataFrame({'sentence':trX,'stance':trY,'outlet':trO,'nli_label':trNLI}) if train_df is not None else None\n",
    "val_dat = pd.DataFrame({'sentence':vaX,'stance':vaY,'outlet':vaO,'nli_label':vaNLI})\n",
    "if train_df is not None:\n",
    "    print('Train distribution:')\n",
    "    print(train_dat.stance.value_counts()) \n",
    "    print(train_dat.outlet.value_counts())\n",
    "    print(train_dat.nli_label.value_counts())\n",
    "print('\\nDev distribution:')\n",
    "print(val_dat.stance.value_counts())\n",
    "print(val_dat.outlet.value_counts())\n",
    "print(val_dat.nli_label.value_counts())\n",
    "print('\\nTest distribution:')\n",
    "print(test_dat.stance.value_counts())\n",
    "print(test_dat.outlet.value_counts())\n",
    "print(test_dat.nli_label.value_counts())\n",
    "\n",
    "if train_df is not None:\n",
    "    train_dat.to_csv(SAVE_DIR+'train.tsv',sep='\\t',header=None,index=False)\n",
    "val_dat.to_csv(SAVE_DIR+'dev.tsv',sep='\\t',header=None,index=False)\n",
    "test_dat.to_csv(SAVE_DIR+'test.tsv',sep='\\t',header=None,index=False)"
   ]
  },
  {
   "cell_type": "code",
   "execution_count": 471,
   "metadata": {},
   "outputs": [
    {
     "data": {
      "text/plain": [
       "0.5196850393700787"
      ]
     },
     "execution_count": 471,
     "metadata": {},
     "output_type": "execute_result"
    }
   ],
   "source": [
    "66/(66+46+15)"
   ]
  },
  {
   "cell_type": "code",
   "execution_count": 425,
   "metadata": {},
   "outputs": [],
   "source": [
    "df_str = \"\"\"\n",
    "text_b\thigh_iaa_fold0\ttest\tuncased\tLM-finetuned-all-cc-uncased\t3\t500\t0.79\t0.75\n",
    "text_b\thigh_iaa_fold0\ttest\tuncased\tbert-base-uncased\t3\t500\t0.78\t0.73\n",
    "no_text_b\thigh_iaa_fold0\ttest\tuncased\tLM-finetuned-all-cc-uncased\t3\t500\t0.79\t0.75\n",
    "text_b\thigh_iaa_fold1\ttest\tuncased\tLM-finetuned-all-cc-uncased\t3\t500\t0.75\t0.73\n",
    "text_b\thigh_iaa_fold1\ttest\tuncased\tbert-base-uncased\t3\t500\t0.75\t0.72\n",
    "no_text_b\thigh_iaa_fold1\ttest\tuncased\tLM-finetuned-all-cc-uncased\t3\t500\t0.75\t0.73\n",
    "text_b\thigh_iaa_fold2\ttest\tuncased\tLM-finetuned-all-cc-uncased\t3\t500\t0.82\t0.8\n",
    "text_b\thigh_iaa_fold2\ttest\tuncased\tbert-base-uncased\t3\t500\t0.8\t0.77\n",
    "no_text_b\thigh_iaa_fold2\ttest\tuncased\tLM-finetuned-all-cc-uncased\t3\t500\t0.82\t0.8\n",
    "text_b\thigh_iaa_fold3\ttest\tuncased\tLM-finetuned-all-cc-uncased\t3\t500\t0.82\t0.8\n",
    "text_b\thigh_iaa_fold3\ttest\tuncased\tbert-base-uncased\t3\t500\t0.79\t0.77\n",
    "no_text_b\thigh_iaa_fold3\ttest\tuncased\tLM-finetuned-all-cc-uncased\t3\t500\t0.82\t0.8\n",
    "text_b\thigh_iaa_fold4\ttest\tuncased\tLM-finetuned-all-cc-uncased\t3\t500\t0.79\t0.79\n",
    "text_b\thigh_iaa_fold4\ttest\tuncased\tbert-base-uncased\t3\t500\t0.8\t0.8\n",
    "no_text_b\thigh_iaa_fold4\ttest\tuncased\tLM-finetuned-all-cc-uncased\t3\t500\t0.79\t0.79\n",
    "text_b\thigh_iaa_fold5\ttest\tuncased\tLM-finetuned-all-cc-uncased\t3\t500\t0.84\t0.82\n",
    "text_b\thigh_iaa_fold5\ttest\tuncased\tbert-base-uncased\t3\t500\t0.84\t0.82\n",
    "no_text_b\thigh_iaa_fold5\ttest\tuncased\tLM-finetuned-all-cc-uncased\t3\t500\t0.84\t0.82\n",
    "text_b\thigh_iaa_fold6\ttest\tuncased\tLM-finetuned-all-cc-uncased\t3\t500\t0.83\t0.82\n",
    "text_b\thigh_iaa_fold6\ttest\tuncased\tbert-base-uncased\t3\t500\t0.79\t0.79\n",
    "no_text_b\thigh_iaa_fold6\ttest\tuncased\tLM-finetuned-all-cc-uncased\t3\t500\t0.84\t0.83\n",
    "text_b\thigh_iaa_fold7\ttest\tuncased\tLM-finetuned-all-cc-uncased\t3\t500\t0.79\t0.75\n",
    "text_b\thigh_iaa_fold7\ttest\tuncased\tbert-base-uncased\t3\t500\t0.78\t0.75\n",
    "no_text_b\thigh_iaa_fold7\ttest\tuncased\tLM-finetuned-all-cc-uncased\t3\t500\t0.79\t0.75\n",
    "text_b\thigh_iaa_fold8\ttest\tuncased\tLM-finetuned-all-cc-uncased\t3\t500\t0.81\t0.79\n",
    "text_b\thigh_iaa_fold8\ttest\tuncased\tbert-base-uncased\t3\t500\t0.79\t0.76\n",
    "no_text_b\thigh_iaa_fold8\ttest\tuncased\tLM-finetuned-all-cc-uncased\t3\t500\t0.8\t0.78\n",
    "text_b\thigh_iaa_fold9\ttest\tuncased\tLM-finetuned-all-cc-uncased\t3\t500\t0.79\t0.78\n",
    "text_b\thigh_iaa_fold9\ttest\tuncased\tbert-base-uncased\t3\t500\t0.74\t0.71\n",
    "no_text_b\thigh_iaa_fold9\ttest\tuncased\tLM-finetuned-all-cc-uncased\t3\t500\t0.77\t0.75\n",
    "\"\"\"\n",
    "\n",
    "df_2_str = \"\"\"text_b\thigh_iaa_fold0\ttest\tuncased\tLM-finetuned-all-cc-uncased\t3\t500\t0.79\t0.76\n",
    "text_b\thigh_iaa_fold0\ttest\tuncased\tbert-base-uncased\t3\t500\t\t\n",
    "no_text_b\thigh_iaa_fold0\ttest\tuncased\tLM-finetuned-all-cc-uncased\t3\t500\t\t\n",
    "text_b\thigh_iaa_fold1\ttest\tuncased\tLM-finetuned-all-cc-uncased\t3\t500\t0.82\t0.8\n",
    "text_b\thigh_iaa_fold1\ttest\tuncased\tbert-base-uncased\t3\t500\t\t\n",
    "no_text_b\thigh_iaa_fold1\ttest\tuncased\tLM-finetuned-all-cc-uncased\t3\t500\t\t\n",
    "text_b\thigh_iaa_fold2\ttest\tuncased\tLM-finetuned-all-cc-uncased\t3\t500\t0.81\t0.79\n",
    "text_b\thigh_iaa_fold2\ttest\tuncased\tbert-base-uncased\t3\t500\t\t\n",
    "no_text_b\thigh_iaa_fold2\ttest\tuncased\tLM-finetuned-all-cc-uncased\t3\t500\t\t\n",
    "text_b\thigh_iaa_fold3\ttest\tuncased\tLM-finetuned-all-cc-uncased\t3\t500\t0.8\t0.77\n",
    "text_b\thigh_iaa_fold3\ttest\tuncased\tbert-base-uncased\t3\t500\t\t\n",
    "no_text_b\thigh_iaa_fold3\ttest\tuncased\tLM-finetuned-all-cc-uncased\t3\t500\t\t\n",
    "text_b\thigh_iaa_fold4\ttest\tuncased\tLM-finetuned-all-cc-uncased\t3\t500\t0.8\t0.78\n",
    "text_b\thigh_iaa_fold4\ttest\tuncased\tbert-base-uncased\t3\t500\t\t\n",
    "no_text_b\thigh_iaa_fold4\ttest\tuncased\tLM-finetuned-all-cc-uncased\t3\t500\t\t\n",
    "text_b\thigh_iaa_fold5\ttest\tuncased\tLM-finetuned-all-cc-uncased\t3\t500\t0.82\t0.81\n",
    "text_b\thigh_iaa_fold5\ttest\tuncased\tbert-base-uncased\t3\t500\t\t\n",
    "no_text_b\thigh_iaa_fold5\ttest\tuncased\tLM-finetuned-all-cc-uncased\t3\t500\t\t\n",
    "text_b\thigh_iaa_fold6\ttest\tuncased\tLM-finetuned-all-cc-uncased\t3\t500\t0.8\t0.78\n",
    "text_b\thigh_iaa_fold6\ttest\tuncased\tbert-base-uncased\t3\t500\t\t\n",
    "no_text_b\thigh_iaa_fold6\ttest\tuncased\tLM-finetuned-all-cc-uncased\t3\t500\t\t\n",
    "text_b\thigh_iaa_fold7\ttest\tuncased\tLM-finetuned-all-cc-uncased\t3\t500\t0.79\t0.78\n",
    "text_b\thigh_iaa_fold7\ttest\tuncased\tbert-base-uncased\t3\t500\t\t\n",
    "no_text_b\thigh_iaa_fold7\ttest\tuncased\tLM-finetuned-all-cc-uncased\t3\t500\t\t\n",
    "text_b\thigh_iaa_fold8\ttest\tuncased\tLM-finetuned-all-cc-uncased\t3\t500\t0.71\t0.66\n",
    "text_b\thigh_iaa_fold8\ttest\tuncased\tbert-base-uncased\t3\t500\t\t\n",
    "no_text_b\thigh_iaa_fold8\ttest\tuncased\tLM-finetuned-all-cc-uncased\t3\t500\t\t\n",
    "text_b\thigh_iaa_fold9\ttest\tuncased\tLM-finetuned-all-cc-uncased\t3\t500\t0.86\t0.84\n",
    "text_b\thigh_iaa_fold9\ttest\tuncased\tbert-base-uncased\t3\t500\t\t\n",
    "no_text_b\thigh_iaa_fold9\ttest\tuncased\tLM-finetuned-all-cc-uncased\t3\t500\t\t\"\"\""
   ]
  },
  {
   "cell_type": "code",
   "execution_count": 426,
   "metadata": {
    "scrolled": true
   },
   "outputs": [],
   "source": [
    "high_iaa_res_df = pd.DataFrame([row.split('\\t') for row in df_str.split(\"\\n\")[1:-1]])\n",
    "high_iaa_res_df.columns = ['text_b','fold','test','casing','base_model','num_epochs','max_seq_length','acc',\n",
    "                           'macro_f1']\n",
    "high_iaa_res_df_2 = pd.DataFrame([row.split('\\t') for row in df_2_str.split(\"\\n\")])\n",
    "high_iaa_res_df_2.columns = ['text_b','fold','test','casing','base_model','num_epochs','max_seq_length','acc',\n",
    "                           'macro_f1']"
   ]
  },
  {
   "cell_type": "code",
   "execution_count": 430,
   "metadata": {
    "scrolled": true
   },
   "outputs": [],
   "source": [
    "high_iaa_res_df['fold_no'] = high_iaa_res_df['fold'].apply(lambda x: int(x[-1]))\n",
    "high_iaa_res_df['acc'] = high_iaa_res_df['acc'].apply(lambda x: float(x))\n",
    "high_iaa_res_df['macro_f1'] = high_iaa_res_df['macro_f1'].apply(lambda x: float(x))\n",
    "high_iaa_res_df_2['fold_no'] = high_iaa_res_df_2['fold'].apply(lambda x: 10+int(x[-1]) if x != '' else x)\n",
    "high_iaa_res_df_2['acc'] = high_iaa_res_df_2['acc'].apply(lambda x: float(x) if x != '' else -1)\n",
    "high_iaa_res_df_2['macro_f1'] = high_iaa_res_df_2['macro_f1'].apply(lambda x: float(x) if x != '' else -1)"
   ]
  },
  {
   "cell_type": "code",
   "execution_count": 432,
   "metadata": {
    "scrolled": true
   },
   "outputs": [
    {
     "data": {
      "text/html": [
       "<div>\n",
       "<style scoped>\n",
       "    .dataframe tbody tr th:only-of-type {\n",
       "        vertical-align: middle;\n",
       "    }\n",
       "\n",
       "    .dataframe tbody tr th {\n",
       "        vertical-align: top;\n",
       "    }\n",
       "\n",
       "    .dataframe thead th {\n",
       "        text-align: right;\n",
       "    }\n",
       "</style>\n",
       "<table border=\"1\" class=\"dataframe\">\n",
       "  <thead>\n",
       "    <tr style=\"text-align: right;\">\n",
       "      <th></th>\n",
       "      <th>text_b</th>\n",
       "      <th>fold</th>\n",
       "      <th>test</th>\n",
       "      <th>casing</th>\n",
       "      <th>base_model</th>\n",
       "      <th>num_epochs</th>\n",
       "      <th>max_seq_length</th>\n",
       "      <th>acc</th>\n",
       "      <th>macro_f1</th>\n",
       "      <th>fold_no</th>\n",
       "    </tr>\n",
       "  </thead>\n",
       "  <tbody>\n",
       "    <tr>\n",
       "      <th>0</th>\n",
       "      <td>text_b</td>\n",
       "      <td>high_iaa_fold0</td>\n",
       "      <td>test</td>\n",
       "      <td>uncased</td>\n",
       "      <td>LM-finetuned-all-cc-uncased</td>\n",
       "      <td>3</td>\n",
       "      <td>500</td>\n",
       "      <td>0.79</td>\n",
       "      <td>0.75</td>\n",
       "      <td>0</td>\n",
       "    </tr>\n",
       "    <tr>\n",
       "      <th>1</th>\n",
       "      <td>text_b</td>\n",
       "      <td>high_iaa_fold0</td>\n",
       "      <td>test</td>\n",
       "      <td>uncased</td>\n",
       "      <td>bert-base-uncased</td>\n",
       "      <td>3</td>\n",
       "      <td>500</td>\n",
       "      <td>0.78</td>\n",
       "      <td>0.73</td>\n",
       "      <td>0</td>\n",
       "    </tr>\n",
       "    <tr>\n",
       "      <th>2</th>\n",
       "      <td>no_text_b</td>\n",
       "      <td>high_iaa_fold0</td>\n",
       "      <td>test</td>\n",
       "      <td>uncased</td>\n",
       "      <td>LM-finetuned-all-cc-uncased</td>\n",
       "      <td>3</td>\n",
       "      <td>500</td>\n",
       "      <td>0.79</td>\n",
       "      <td>0.75</td>\n",
       "      <td>0</td>\n",
       "    </tr>\n",
       "    <tr>\n",
       "      <th>3</th>\n",
       "      <td>text_b</td>\n",
       "      <td>high_iaa_fold1</td>\n",
       "      <td>test</td>\n",
       "      <td>uncased</td>\n",
       "      <td>LM-finetuned-all-cc-uncased</td>\n",
       "      <td>3</td>\n",
       "      <td>500</td>\n",
       "      <td>0.75</td>\n",
       "      <td>0.73</td>\n",
       "      <td>1</td>\n",
       "    </tr>\n",
       "    <tr>\n",
       "      <th>4</th>\n",
       "      <td>text_b</td>\n",
       "      <td>high_iaa_fold1</td>\n",
       "      <td>test</td>\n",
       "      <td>uncased</td>\n",
       "      <td>bert-base-uncased</td>\n",
       "      <td>3</td>\n",
       "      <td>500</td>\n",
       "      <td>0.75</td>\n",
       "      <td>0.72</td>\n",
       "      <td>1</td>\n",
       "    </tr>\n",
       "    <tr>\n",
       "      <th>5</th>\n",
       "      <td>no_text_b</td>\n",
       "      <td>high_iaa_fold1</td>\n",
       "      <td>test</td>\n",
       "      <td>uncased</td>\n",
       "      <td>LM-finetuned-all-cc-uncased</td>\n",
       "      <td>3</td>\n",
       "      <td>500</td>\n",
       "      <td>0.75</td>\n",
       "      <td>0.73</td>\n",
       "      <td>1</td>\n",
       "    </tr>\n",
       "    <tr>\n",
       "      <th>6</th>\n",
       "      <td>text_b</td>\n",
       "      <td>high_iaa_fold2</td>\n",
       "      <td>test</td>\n",
       "      <td>uncased</td>\n",
       "      <td>LM-finetuned-all-cc-uncased</td>\n",
       "      <td>3</td>\n",
       "      <td>500</td>\n",
       "      <td>0.82</td>\n",
       "      <td>0.8</td>\n",
       "      <td>2</td>\n",
       "    </tr>\n",
       "    <tr>\n",
       "      <th>7</th>\n",
       "      <td>text_b</td>\n",
       "      <td>high_iaa_fold2</td>\n",
       "      <td>test</td>\n",
       "      <td>uncased</td>\n",
       "      <td>bert-base-uncased</td>\n",
       "      <td>3</td>\n",
       "      <td>500</td>\n",
       "      <td>0.8</td>\n",
       "      <td>0.77</td>\n",
       "      <td>2</td>\n",
       "    </tr>\n",
       "    <tr>\n",
       "      <th>8</th>\n",
       "      <td>no_text_b</td>\n",
       "      <td>high_iaa_fold2</td>\n",
       "      <td>test</td>\n",
       "      <td>uncased</td>\n",
       "      <td>LM-finetuned-all-cc-uncased</td>\n",
       "      <td>3</td>\n",
       "      <td>500</td>\n",
       "      <td>0.82</td>\n",
       "      <td>0.8</td>\n",
       "      <td>2</td>\n",
       "    </tr>\n",
       "    <tr>\n",
       "      <th>9</th>\n",
       "      <td>text_b</td>\n",
       "      <td>high_iaa_fold3</td>\n",
       "      <td>test</td>\n",
       "      <td>uncased</td>\n",
       "      <td>LM-finetuned-all-cc-uncased</td>\n",
       "      <td>3</td>\n",
       "      <td>500</td>\n",
       "      <td>0.82</td>\n",
       "      <td>0.8</td>\n",
       "      <td>3</td>\n",
       "    </tr>\n",
       "    <tr>\n",
       "      <th>10</th>\n",
       "      <td>text_b</td>\n",
       "      <td>high_iaa_fold3</td>\n",
       "      <td>test</td>\n",
       "      <td>uncased</td>\n",
       "      <td>bert-base-uncased</td>\n",
       "      <td>3</td>\n",
       "      <td>500</td>\n",
       "      <td>0.79</td>\n",
       "      <td>0.77</td>\n",
       "      <td>3</td>\n",
       "    </tr>\n",
       "    <tr>\n",
       "      <th>11</th>\n",
       "      <td>no_text_b</td>\n",
       "      <td>high_iaa_fold3</td>\n",
       "      <td>test</td>\n",
       "      <td>uncased</td>\n",
       "      <td>LM-finetuned-all-cc-uncased</td>\n",
       "      <td>3</td>\n",
       "      <td>500</td>\n",
       "      <td>0.82</td>\n",
       "      <td>0.8</td>\n",
       "      <td>3</td>\n",
       "    </tr>\n",
       "    <tr>\n",
       "      <th>12</th>\n",
       "      <td>text_b</td>\n",
       "      <td>high_iaa_fold4</td>\n",
       "      <td>test</td>\n",
       "      <td>uncased</td>\n",
       "      <td>LM-finetuned-all-cc-uncased</td>\n",
       "      <td>3</td>\n",
       "      <td>500</td>\n",
       "      <td>0.79</td>\n",
       "      <td>0.79</td>\n",
       "      <td>4</td>\n",
       "    </tr>\n",
       "    <tr>\n",
       "      <th>13</th>\n",
       "      <td>text_b</td>\n",
       "      <td>high_iaa_fold4</td>\n",
       "      <td>test</td>\n",
       "      <td>uncased</td>\n",
       "      <td>bert-base-uncased</td>\n",
       "      <td>3</td>\n",
       "      <td>500</td>\n",
       "      <td>0.8</td>\n",
       "      <td>0.8</td>\n",
       "      <td>4</td>\n",
       "    </tr>\n",
       "    <tr>\n",
       "      <th>14</th>\n",
       "      <td>no_text_b</td>\n",
       "      <td>high_iaa_fold4</td>\n",
       "      <td>test</td>\n",
       "      <td>uncased</td>\n",
       "      <td>LM-finetuned-all-cc-uncased</td>\n",
       "      <td>3</td>\n",
       "      <td>500</td>\n",
       "      <td>0.79</td>\n",
       "      <td>0.79</td>\n",
       "      <td>4</td>\n",
       "    </tr>\n",
       "    <tr>\n",
       "      <th>15</th>\n",
       "      <td>text_b</td>\n",
       "      <td>high_iaa_fold5</td>\n",
       "      <td>test</td>\n",
       "      <td>uncased</td>\n",
       "      <td>LM-finetuned-all-cc-uncased</td>\n",
       "      <td>3</td>\n",
       "      <td>500</td>\n",
       "      <td>0.84</td>\n",
       "      <td>0.82</td>\n",
       "      <td>5</td>\n",
       "    </tr>\n",
       "    <tr>\n",
       "      <th>16</th>\n",
       "      <td>text_b</td>\n",
       "      <td>high_iaa_fold5</td>\n",
       "      <td>test</td>\n",
       "      <td>uncased</td>\n",
       "      <td>bert-base-uncased</td>\n",
       "      <td>3</td>\n",
       "      <td>500</td>\n",
       "      <td>0.84</td>\n",
       "      <td>0.82</td>\n",
       "      <td>5</td>\n",
       "    </tr>\n",
       "    <tr>\n",
       "      <th>17</th>\n",
       "      <td>no_text_b</td>\n",
       "      <td>high_iaa_fold5</td>\n",
       "      <td>test</td>\n",
       "      <td>uncased</td>\n",
       "      <td>LM-finetuned-all-cc-uncased</td>\n",
       "      <td>3</td>\n",
       "      <td>500</td>\n",
       "      <td>0.84</td>\n",
       "      <td>0.82</td>\n",
       "      <td>5</td>\n",
       "    </tr>\n",
       "    <tr>\n",
       "      <th>18</th>\n",
       "      <td>text_b</td>\n",
       "      <td>high_iaa_fold6</td>\n",
       "      <td>test</td>\n",
       "      <td>uncased</td>\n",
       "      <td>LM-finetuned-all-cc-uncased</td>\n",
       "      <td>3</td>\n",
       "      <td>500</td>\n",
       "      <td>0.83</td>\n",
       "      <td>0.82</td>\n",
       "      <td>6</td>\n",
       "    </tr>\n",
       "    <tr>\n",
       "      <th>19</th>\n",
       "      <td>text_b</td>\n",
       "      <td>high_iaa_fold6</td>\n",
       "      <td>test</td>\n",
       "      <td>uncased</td>\n",
       "      <td>bert-base-uncased</td>\n",
       "      <td>3</td>\n",
       "      <td>500</td>\n",
       "      <td>0.79</td>\n",
       "      <td>0.79</td>\n",
       "      <td>6</td>\n",
       "    </tr>\n",
       "    <tr>\n",
       "      <th>20</th>\n",
       "      <td>no_text_b</td>\n",
       "      <td>high_iaa_fold6</td>\n",
       "      <td>test</td>\n",
       "      <td>uncased</td>\n",
       "      <td>LM-finetuned-all-cc-uncased</td>\n",
       "      <td>3</td>\n",
       "      <td>500</td>\n",
       "      <td>0.84</td>\n",
       "      <td>0.83</td>\n",
       "      <td>6</td>\n",
       "    </tr>\n",
       "    <tr>\n",
       "      <th>21</th>\n",
       "      <td>text_b</td>\n",
       "      <td>high_iaa_fold7</td>\n",
       "      <td>test</td>\n",
       "      <td>uncased</td>\n",
       "      <td>LM-finetuned-all-cc-uncased</td>\n",
       "      <td>3</td>\n",
       "      <td>500</td>\n",
       "      <td>0.79</td>\n",
       "      <td>0.75</td>\n",
       "      <td>7</td>\n",
       "    </tr>\n",
       "    <tr>\n",
       "      <th>22</th>\n",
       "      <td>text_b</td>\n",
       "      <td>high_iaa_fold7</td>\n",
       "      <td>test</td>\n",
       "      <td>uncased</td>\n",
       "      <td>bert-base-uncased</td>\n",
       "      <td>3</td>\n",
       "      <td>500</td>\n",
       "      <td>0.78</td>\n",
       "      <td>0.75</td>\n",
       "      <td>7</td>\n",
       "    </tr>\n",
       "    <tr>\n",
       "      <th>23</th>\n",
       "      <td>no_text_b</td>\n",
       "      <td>high_iaa_fold7</td>\n",
       "      <td>test</td>\n",
       "      <td>uncased</td>\n",
       "      <td>LM-finetuned-all-cc-uncased</td>\n",
       "      <td>3</td>\n",
       "      <td>500</td>\n",
       "      <td>0.79</td>\n",
       "      <td>0.75</td>\n",
       "      <td>7</td>\n",
       "    </tr>\n",
       "    <tr>\n",
       "      <th>24</th>\n",
       "      <td>text_b</td>\n",
       "      <td>high_iaa_fold8</td>\n",
       "      <td>test</td>\n",
       "      <td>uncased</td>\n",
       "      <td>LM-finetuned-all-cc-uncased</td>\n",
       "      <td>3</td>\n",
       "      <td>500</td>\n",
       "      <td>0.81</td>\n",
       "      <td>0.79</td>\n",
       "      <td>8</td>\n",
       "    </tr>\n",
       "    <tr>\n",
       "      <th>25</th>\n",
       "      <td>text_b</td>\n",
       "      <td>high_iaa_fold8</td>\n",
       "      <td>test</td>\n",
       "      <td>uncased</td>\n",
       "      <td>bert-base-uncased</td>\n",
       "      <td>3</td>\n",
       "      <td>500</td>\n",
       "      <td>0.79</td>\n",
       "      <td>0.76</td>\n",
       "      <td>8</td>\n",
       "    </tr>\n",
       "    <tr>\n",
       "      <th>26</th>\n",
       "      <td>no_text_b</td>\n",
       "      <td>high_iaa_fold8</td>\n",
       "      <td>test</td>\n",
       "      <td>uncased</td>\n",
       "      <td>LM-finetuned-all-cc-uncased</td>\n",
       "      <td>3</td>\n",
       "      <td>500</td>\n",
       "      <td>0.8</td>\n",
       "      <td>0.78</td>\n",
       "      <td>8</td>\n",
       "    </tr>\n",
       "    <tr>\n",
       "      <th>27</th>\n",
       "      <td>text_b</td>\n",
       "      <td>high_iaa_fold9</td>\n",
       "      <td>test</td>\n",
       "      <td>uncased</td>\n",
       "      <td>LM-finetuned-all-cc-uncased</td>\n",
       "      <td>3</td>\n",
       "      <td>500</td>\n",
       "      <td>0.79</td>\n",
       "      <td>0.78</td>\n",
       "      <td>9</td>\n",
       "    </tr>\n",
       "    <tr>\n",
       "      <th>28</th>\n",
       "      <td>text_b</td>\n",
       "      <td>high_iaa_fold9</td>\n",
       "      <td>test</td>\n",
       "      <td>uncased</td>\n",
       "      <td>bert-base-uncased</td>\n",
       "      <td>3</td>\n",
       "      <td>500</td>\n",
       "      <td>0.74</td>\n",
       "      <td>0.71</td>\n",
       "      <td>9</td>\n",
       "    </tr>\n",
       "    <tr>\n",
       "      <th>29</th>\n",
       "      <td>no_text_b</td>\n",
       "      <td>high_iaa_fold9</td>\n",
       "      <td>test</td>\n",
       "      <td>uncased</td>\n",
       "      <td>LM-finetuned-all-cc-uncased</td>\n",
       "      <td>3</td>\n",
       "      <td>500</td>\n",
       "      <td>0.77</td>\n",
       "      <td>0.75</td>\n",
       "      <td>9</td>\n",
       "    </tr>\n",
       "    <tr>\n",
       "      <th>30</th>\n",
       "      <td>text_b</td>\n",
       "      <td>high_iaa_fold0</td>\n",
       "      <td>test</td>\n",
       "      <td>uncased</td>\n",
       "      <td>LM-finetuned-all-cc-uncased</td>\n",
       "      <td>3</td>\n",
       "      <td>500</td>\n",
       "      <td>0.79</td>\n",
       "      <td>0.76</td>\n",
       "      <td>10</td>\n",
       "    </tr>\n",
       "    <tr>\n",
       "      <th>31</th>\n",
       "      <td>text_b</td>\n",
       "      <td>high_iaa_fold0</td>\n",
       "      <td>test</td>\n",
       "      <td>uncased</td>\n",
       "      <td>bert-base-uncased</td>\n",
       "      <td>3</td>\n",
       "      <td>500</td>\n",
       "      <td></td>\n",
       "      <td></td>\n",
       "      <td>10</td>\n",
       "    </tr>\n",
       "    <tr>\n",
       "      <th>32</th>\n",
       "      <td>no_text_b</td>\n",
       "      <td>high_iaa_fold0</td>\n",
       "      <td>test</td>\n",
       "      <td>uncased</td>\n",
       "      <td>LM-finetuned-all-cc-uncased</td>\n",
       "      <td>3</td>\n",
       "      <td>500</td>\n",
       "      <td></td>\n",
       "      <td></td>\n",
       "      <td>10</td>\n",
       "    </tr>\n",
       "    <tr>\n",
       "      <th>33</th>\n",
       "      <td>text_b</td>\n",
       "      <td>high_iaa_fold1</td>\n",
       "      <td>test</td>\n",
       "      <td>uncased</td>\n",
       "      <td>LM-finetuned-all-cc-uncased</td>\n",
       "      <td>3</td>\n",
       "      <td>500</td>\n",
       "      <td>0.82</td>\n",
       "      <td>0.8</td>\n",
       "      <td>11</td>\n",
       "    </tr>\n",
       "    <tr>\n",
       "      <th>34</th>\n",
       "      <td>text_b</td>\n",
       "      <td>high_iaa_fold1</td>\n",
       "      <td>test</td>\n",
       "      <td>uncased</td>\n",
       "      <td>bert-base-uncased</td>\n",
       "      <td>3</td>\n",
       "      <td>500</td>\n",
       "      <td></td>\n",
       "      <td></td>\n",
       "      <td>11</td>\n",
       "    </tr>\n",
       "    <tr>\n",
       "      <th>35</th>\n",
       "      <td>no_text_b</td>\n",
       "      <td>high_iaa_fold1</td>\n",
       "      <td>test</td>\n",
       "      <td>uncased</td>\n",
       "      <td>LM-finetuned-all-cc-uncased</td>\n",
       "      <td>3</td>\n",
       "      <td>500</td>\n",
       "      <td></td>\n",
       "      <td></td>\n",
       "      <td>11</td>\n",
       "    </tr>\n",
       "    <tr>\n",
       "      <th>36</th>\n",
       "      <td>text_b</td>\n",
       "      <td>high_iaa_fold2</td>\n",
       "      <td>test</td>\n",
       "      <td>uncased</td>\n",
       "      <td>LM-finetuned-all-cc-uncased</td>\n",
       "      <td>3</td>\n",
       "      <td>500</td>\n",
       "      <td>0.81</td>\n",
       "      <td>0.79</td>\n",
       "      <td>12</td>\n",
       "    </tr>\n",
       "    <tr>\n",
       "      <th>37</th>\n",
       "      <td>text_b</td>\n",
       "      <td>high_iaa_fold2</td>\n",
       "      <td>test</td>\n",
       "      <td>uncased</td>\n",
       "      <td>bert-base-uncased</td>\n",
       "      <td>3</td>\n",
       "      <td>500</td>\n",
       "      <td></td>\n",
       "      <td></td>\n",
       "      <td>12</td>\n",
       "    </tr>\n",
       "    <tr>\n",
       "      <th>38</th>\n",
       "      <td>no_text_b</td>\n",
       "      <td>high_iaa_fold2</td>\n",
       "      <td>test</td>\n",
       "      <td>uncased</td>\n",
       "      <td>LM-finetuned-all-cc-uncased</td>\n",
       "      <td>3</td>\n",
       "      <td>500</td>\n",
       "      <td></td>\n",
       "      <td></td>\n",
       "      <td>12</td>\n",
       "    </tr>\n",
       "    <tr>\n",
       "      <th>39</th>\n",
       "      <td>text_b</td>\n",
       "      <td>high_iaa_fold3</td>\n",
       "      <td>test</td>\n",
       "      <td>uncased</td>\n",
       "      <td>LM-finetuned-all-cc-uncased</td>\n",
       "      <td>3</td>\n",
       "      <td>500</td>\n",
       "      <td>0.8</td>\n",
       "      <td>0.77</td>\n",
       "      <td>13</td>\n",
       "    </tr>\n",
       "    <tr>\n",
       "      <th>40</th>\n",
       "      <td>text_b</td>\n",
       "      <td>high_iaa_fold3</td>\n",
       "      <td>test</td>\n",
       "      <td>uncased</td>\n",
       "      <td>bert-base-uncased</td>\n",
       "      <td>3</td>\n",
       "      <td>500</td>\n",
       "      <td></td>\n",
       "      <td></td>\n",
       "      <td>13</td>\n",
       "    </tr>\n",
       "    <tr>\n",
       "      <th>41</th>\n",
       "      <td>no_text_b</td>\n",
       "      <td>high_iaa_fold3</td>\n",
       "      <td>test</td>\n",
       "      <td>uncased</td>\n",
       "      <td>LM-finetuned-all-cc-uncased</td>\n",
       "      <td>3</td>\n",
       "      <td>500</td>\n",
       "      <td></td>\n",
       "      <td></td>\n",
       "      <td>13</td>\n",
       "    </tr>\n",
       "    <tr>\n",
       "      <th>42</th>\n",
       "      <td>text_b</td>\n",
       "      <td>high_iaa_fold4</td>\n",
       "      <td>test</td>\n",
       "      <td>uncased</td>\n",
       "      <td>LM-finetuned-all-cc-uncased</td>\n",
       "      <td>3</td>\n",
       "      <td>500</td>\n",
       "      <td>0.8</td>\n",
       "      <td>0.78</td>\n",
       "      <td>14</td>\n",
       "    </tr>\n",
       "    <tr>\n",
       "      <th>43</th>\n",
       "      <td>text_b</td>\n",
       "      <td>high_iaa_fold4</td>\n",
       "      <td>test</td>\n",
       "      <td>uncased</td>\n",
       "      <td>bert-base-uncased</td>\n",
       "      <td>3</td>\n",
       "      <td>500</td>\n",
       "      <td></td>\n",
       "      <td></td>\n",
       "      <td>14</td>\n",
       "    </tr>\n",
       "    <tr>\n",
       "      <th>44</th>\n",
       "      <td>no_text_b</td>\n",
       "      <td>high_iaa_fold4</td>\n",
       "      <td>test</td>\n",
       "      <td>uncased</td>\n",
       "      <td>LM-finetuned-all-cc-uncased</td>\n",
       "      <td>3</td>\n",
       "      <td>500</td>\n",
       "      <td></td>\n",
       "      <td></td>\n",
       "      <td>14</td>\n",
       "    </tr>\n",
       "    <tr>\n",
       "      <th>45</th>\n",
       "      <td>text_b</td>\n",
       "      <td>high_iaa_fold5</td>\n",
       "      <td>test</td>\n",
       "      <td>uncased</td>\n",
       "      <td>LM-finetuned-all-cc-uncased</td>\n",
       "      <td>3</td>\n",
       "      <td>500</td>\n",
       "      <td>0.82</td>\n",
       "      <td>0.81</td>\n",
       "      <td>15</td>\n",
       "    </tr>\n",
       "    <tr>\n",
       "      <th>46</th>\n",
       "      <td>text_b</td>\n",
       "      <td>high_iaa_fold5</td>\n",
       "      <td>test</td>\n",
       "      <td>uncased</td>\n",
       "      <td>bert-base-uncased</td>\n",
       "      <td>3</td>\n",
       "      <td>500</td>\n",
       "      <td></td>\n",
       "      <td></td>\n",
       "      <td>15</td>\n",
       "    </tr>\n",
       "    <tr>\n",
       "      <th>47</th>\n",
       "      <td>no_text_b</td>\n",
       "      <td>high_iaa_fold5</td>\n",
       "      <td>test</td>\n",
       "      <td>uncased</td>\n",
       "      <td>LM-finetuned-all-cc-uncased</td>\n",
       "      <td>3</td>\n",
       "      <td>500</td>\n",
       "      <td></td>\n",
       "      <td></td>\n",
       "      <td>15</td>\n",
       "    </tr>\n",
       "    <tr>\n",
       "      <th>48</th>\n",
       "      <td>text_b</td>\n",
       "      <td>high_iaa_fold6</td>\n",
       "      <td>test</td>\n",
       "      <td>uncased</td>\n",
       "      <td>LM-finetuned-all-cc-uncased</td>\n",
       "      <td>3</td>\n",
       "      <td>500</td>\n",
       "      <td>0.8</td>\n",
       "      <td>0.78</td>\n",
       "      <td>16</td>\n",
       "    </tr>\n",
       "    <tr>\n",
       "      <th>49</th>\n",
       "      <td>text_b</td>\n",
       "      <td>high_iaa_fold6</td>\n",
       "      <td>test</td>\n",
       "      <td>uncased</td>\n",
       "      <td>bert-base-uncased</td>\n",
       "      <td>3</td>\n",
       "      <td>500</td>\n",
       "      <td></td>\n",
       "      <td></td>\n",
       "      <td>16</td>\n",
       "    </tr>\n",
       "    <tr>\n",
       "      <th>50</th>\n",
       "      <td>no_text_b</td>\n",
       "      <td>high_iaa_fold6</td>\n",
       "      <td>test</td>\n",
       "      <td>uncased</td>\n",
       "      <td>LM-finetuned-all-cc-uncased</td>\n",
       "      <td>3</td>\n",
       "      <td>500</td>\n",
       "      <td></td>\n",
       "      <td></td>\n",
       "      <td>16</td>\n",
       "    </tr>\n",
       "    <tr>\n",
       "      <th>51</th>\n",
       "      <td>text_b</td>\n",
       "      <td>high_iaa_fold7</td>\n",
       "      <td>test</td>\n",
       "      <td>uncased</td>\n",
       "      <td>LM-finetuned-all-cc-uncased</td>\n",
       "      <td>3</td>\n",
       "      <td>500</td>\n",
       "      <td>0.79</td>\n",
       "      <td>0.78</td>\n",
       "      <td>17</td>\n",
       "    </tr>\n",
       "    <tr>\n",
       "      <th>52</th>\n",
       "      <td>text_b</td>\n",
       "      <td>high_iaa_fold7</td>\n",
       "      <td>test</td>\n",
       "      <td>uncased</td>\n",
       "      <td>bert-base-uncased</td>\n",
       "      <td>3</td>\n",
       "      <td>500</td>\n",
       "      <td></td>\n",
       "      <td></td>\n",
       "      <td>17</td>\n",
       "    </tr>\n",
       "    <tr>\n",
       "      <th>53</th>\n",
       "      <td>no_text_b</td>\n",
       "      <td>high_iaa_fold7</td>\n",
       "      <td>test</td>\n",
       "      <td>uncased</td>\n",
       "      <td>LM-finetuned-all-cc-uncased</td>\n",
       "      <td>3</td>\n",
       "      <td>500</td>\n",
       "      <td></td>\n",
       "      <td></td>\n",
       "      <td>17</td>\n",
       "    </tr>\n",
       "    <tr>\n",
       "      <th>54</th>\n",
       "      <td>text_b</td>\n",
       "      <td>high_iaa_fold8</td>\n",
       "      <td>test</td>\n",
       "      <td>uncased</td>\n",
       "      <td>LM-finetuned-all-cc-uncased</td>\n",
       "      <td>3</td>\n",
       "      <td>500</td>\n",
       "      <td>0.71</td>\n",
       "      <td>0.66</td>\n",
       "      <td>18</td>\n",
       "    </tr>\n",
       "    <tr>\n",
       "      <th>55</th>\n",
       "      <td>text_b</td>\n",
       "      <td>high_iaa_fold8</td>\n",
       "      <td>test</td>\n",
       "      <td>uncased</td>\n",
       "      <td>bert-base-uncased</td>\n",
       "      <td>3</td>\n",
       "      <td>500</td>\n",
       "      <td></td>\n",
       "      <td></td>\n",
       "      <td>18</td>\n",
       "    </tr>\n",
       "    <tr>\n",
       "      <th>56</th>\n",
       "      <td>no_text_b</td>\n",
       "      <td>high_iaa_fold8</td>\n",
       "      <td>test</td>\n",
       "      <td>uncased</td>\n",
       "      <td>LM-finetuned-all-cc-uncased</td>\n",
       "      <td>3</td>\n",
       "      <td>500</td>\n",
       "      <td></td>\n",
       "      <td></td>\n",
       "      <td>18</td>\n",
       "    </tr>\n",
       "    <tr>\n",
       "      <th>57</th>\n",
       "      <td>text_b</td>\n",
       "      <td>high_iaa_fold9</td>\n",
       "      <td>test</td>\n",
       "      <td>uncased</td>\n",
       "      <td>LM-finetuned-all-cc-uncased</td>\n",
       "      <td>3</td>\n",
       "      <td>500</td>\n",
       "      <td>0.86</td>\n",
       "      <td>0.84</td>\n",
       "      <td>19</td>\n",
       "    </tr>\n",
       "    <tr>\n",
       "      <th>58</th>\n",
       "      <td>text_b</td>\n",
       "      <td>high_iaa_fold9</td>\n",
       "      <td>test</td>\n",
       "      <td>uncased</td>\n",
       "      <td>bert-base-uncased</td>\n",
       "      <td>3</td>\n",
       "      <td>500</td>\n",
       "      <td></td>\n",
       "      <td></td>\n",
       "      <td>19</td>\n",
       "    </tr>\n",
       "    <tr>\n",
       "      <th>59</th>\n",
       "      <td>no_text_b</td>\n",
       "      <td>high_iaa_fold9</td>\n",
       "      <td>test</td>\n",
       "      <td>uncased</td>\n",
       "      <td>LM-finetuned-all-cc-uncased</td>\n",
       "      <td>3</td>\n",
       "      <td>500</td>\n",
       "      <td></td>\n",
       "      <td></td>\n",
       "      <td>19</td>\n",
       "    </tr>\n",
       "  </tbody>\n",
       "</table>\n",
       "</div>"
      ],
      "text/plain": [
       "       text_b            fold  test   casing                   base_model  \\\n",
       "0   text_b     high_iaa_fold0  test  uncased  LM-finetuned-all-cc-uncased   \n",
       "1   text_b     high_iaa_fold0  test  uncased  bert-base-uncased             \n",
       "2   no_text_b  high_iaa_fold0  test  uncased  LM-finetuned-all-cc-uncased   \n",
       "3   text_b     high_iaa_fold1  test  uncased  LM-finetuned-all-cc-uncased   \n",
       "4   text_b     high_iaa_fold1  test  uncased  bert-base-uncased             \n",
       "5   no_text_b  high_iaa_fold1  test  uncased  LM-finetuned-all-cc-uncased   \n",
       "6   text_b     high_iaa_fold2  test  uncased  LM-finetuned-all-cc-uncased   \n",
       "7   text_b     high_iaa_fold2  test  uncased  bert-base-uncased             \n",
       "8   no_text_b  high_iaa_fold2  test  uncased  LM-finetuned-all-cc-uncased   \n",
       "9   text_b     high_iaa_fold3  test  uncased  LM-finetuned-all-cc-uncased   \n",
       "10  text_b     high_iaa_fold3  test  uncased  bert-base-uncased             \n",
       "11  no_text_b  high_iaa_fold3  test  uncased  LM-finetuned-all-cc-uncased   \n",
       "12  text_b     high_iaa_fold4  test  uncased  LM-finetuned-all-cc-uncased   \n",
       "13  text_b     high_iaa_fold4  test  uncased  bert-base-uncased             \n",
       "14  no_text_b  high_iaa_fold4  test  uncased  LM-finetuned-all-cc-uncased   \n",
       "15  text_b     high_iaa_fold5  test  uncased  LM-finetuned-all-cc-uncased   \n",
       "16  text_b     high_iaa_fold5  test  uncased  bert-base-uncased             \n",
       "17  no_text_b  high_iaa_fold5  test  uncased  LM-finetuned-all-cc-uncased   \n",
       "18  text_b     high_iaa_fold6  test  uncased  LM-finetuned-all-cc-uncased   \n",
       "19  text_b     high_iaa_fold6  test  uncased  bert-base-uncased             \n",
       "20  no_text_b  high_iaa_fold6  test  uncased  LM-finetuned-all-cc-uncased   \n",
       "21  text_b     high_iaa_fold7  test  uncased  LM-finetuned-all-cc-uncased   \n",
       "22  text_b     high_iaa_fold7  test  uncased  bert-base-uncased             \n",
       "23  no_text_b  high_iaa_fold7  test  uncased  LM-finetuned-all-cc-uncased   \n",
       "24  text_b     high_iaa_fold8  test  uncased  LM-finetuned-all-cc-uncased   \n",
       "25  text_b     high_iaa_fold8  test  uncased  bert-base-uncased             \n",
       "26  no_text_b  high_iaa_fold8  test  uncased  LM-finetuned-all-cc-uncased   \n",
       "27  text_b     high_iaa_fold9  test  uncased  LM-finetuned-all-cc-uncased   \n",
       "28  text_b     high_iaa_fold9  test  uncased  bert-base-uncased             \n",
       "29  no_text_b  high_iaa_fold9  test  uncased  LM-finetuned-all-cc-uncased   \n",
       "30  text_b     high_iaa_fold0  test  uncased  LM-finetuned-all-cc-uncased   \n",
       "31  text_b     high_iaa_fold0  test  uncased  bert-base-uncased             \n",
       "32  no_text_b  high_iaa_fold0  test  uncased  LM-finetuned-all-cc-uncased   \n",
       "33  text_b     high_iaa_fold1  test  uncased  LM-finetuned-all-cc-uncased   \n",
       "34  text_b     high_iaa_fold1  test  uncased  bert-base-uncased             \n",
       "35  no_text_b  high_iaa_fold1  test  uncased  LM-finetuned-all-cc-uncased   \n",
       "36  text_b     high_iaa_fold2  test  uncased  LM-finetuned-all-cc-uncased   \n",
       "37  text_b     high_iaa_fold2  test  uncased  bert-base-uncased             \n",
       "38  no_text_b  high_iaa_fold2  test  uncased  LM-finetuned-all-cc-uncased   \n",
       "39  text_b     high_iaa_fold3  test  uncased  LM-finetuned-all-cc-uncased   \n",
       "40  text_b     high_iaa_fold3  test  uncased  bert-base-uncased             \n",
       "41  no_text_b  high_iaa_fold3  test  uncased  LM-finetuned-all-cc-uncased   \n",
       "42  text_b     high_iaa_fold4  test  uncased  LM-finetuned-all-cc-uncased   \n",
       "43  text_b     high_iaa_fold4  test  uncased  bert-base-uncased             \n",
       "44  no_text_b  high_iaa_fold4  test  uncased  LM-finetuned-all-cc-uncased   \n",
       "45  text_b     high_iaa_fold5  test  uncased  LM-finetuned-all-cc-uncased   \n",
       "46  text_b     high_iaa_fold5  test  uncased  bert-base-uncased             \n",
       "47  no_text_b  high_iaa_fold5  test  uncased  LM-finetuned-all-cc-uncased   \n",
       "48  text_b     high_iaa_fold6  test  uncased  LM-finetuned-all-cc-uncased   \n",
       "49  text_b     high_iaa_fold6  test  uncased  bert-base-uncased             \n",
       "50  no_text_b  high_iaa_fold6  test  uncased  LM-finetuned-all-cc-uncased   \n",
       "51  text_b     high_iaa_fold7  test  uncased  LM-finetuned-all-cc-uncased   \n",
       "52  text_b     high_iaa_fold7  test  uncased  bert-base-uncased             \n",
       "53  no_text_b  high_iaa_fold7  test  uncased  LM-finetuned-all-cc-uncased   \n",
       "54  text_b     high_iaa_fold8  test  uncased  LM-finetuned-all-cc-uncased   \n",
       "55  text_b     high_iaa_fold8  test  uncased  bert-base-uncased             \n",
       "56  no_text_b  high_iaa_fold8  test  uncased  LM-finetuned-all-cc-uncased   \n",
       "57  text_b     high_iaa_fold9  test  uncased  LM-finetuned-all-cc-uncased   \n",
       "58  text_b     high_iaa_fold9  test  uncased  bert-base-uncased             \n",
       "59  no_text_b  high_iaa_fold9  test  uncased  LM-finetuned-all-cc-uncased   \n",
       "\n",
       "   num_epochs max_seq_length   acc macro_f1  fold_no  \n",
       "0   3          500            0.79  0.75     0        \n",
       "1   3          500            0.78  0.73     0        \n",
       "2   3          500            0.79  0.75     0        \n",
       "3   3          500            0.75  0.73     1        \n",
       "4   3          500            0.75  0.72     1        \n",
       "5   3          500            0.75  0.73     1        \n",
       "6   3          500            0.82  0.8      2        \n",
       "7   3          500            0.8   0.77     2        \n",
       "8   3          500            0.82  0.8      2        \n",
       "9   3          500            0.82  0.8      3        \n",
       "10  3          500            0.79  0.77     3        \n",
       "11  3          500            0.82  0.8      3        \n",
       "12  3          500            0.79  0.79     4        \n",
       "13  3          500            0.8   0.8      4        \n",
       "14  3          500            0.79  0.79     4        \n",
       "15  3          500            0.84  0.82     5        \n",
       "16  3          500            0.84  0.82     5        \n",
       "17  3          500            0.84  0.82     5        \n",
       "18  3          500            0.83  0.82     6        \n",
       "19  3          500            0.79  0.79     6        \n",
       "20  3          500            0.84  0.83     6        \n",
       "21  3          500            0.79  0.75     7        \n",
       "22  3          500            0.78  0.75     7        \n",
       "23  3          500            0.79  0.75     7        \n",
       "24  3          500            0.81  0.79     8        \n",
       "25  3          500            0.79  0.76     8        \n",
       "26  3          500            0.8   0.78     8        \n",
       "27  3          500            0.79  0.78     9        \n",
       "28  3          500            0.74  0.71     9        \n",
       "29  3          500            0.77  0.75     9        \n",
       "30  3          500            0.79  0.76     10       \n",
       "31  3          500                           10       \n",
       "32  3          500                           10       \n",
       "33  3          500            0.82  0.8      11       \n",
       "34  3          500                           11       \n",
       "35  3          500                           11       \n",
       "36  3          500            0.81  0.79     12       \n",
       "37  3          500                           12       \n",
       "38  3          500                           12       \n",
       "39  3          500            0.8   0.77     13       \n",
       "40  3          500                           13       \n",
       "41  3          500                           13       \n",
       "42  3          500            0.8   0.78     14       \n",
       "43  3          500                           14       \n",
       "44  3          500                           14       \n",
       "45  3          500            0.82  0.81     15       \n",
       "46  3          500                           15       \n",
       "47  3          500                           15       \n",
       "48  3          500            0.8   0.78     16       \n",
       "49  3          500                           16       \n",
       "50  3          500                           16       \n",
       "51  3          500            0.79  0.78     17       \n",
       "52  3          500                           17       \n",
       "53  3          500                           17       \n",
       "54  3          500            0.71  0.66     18       \n",
       "55  3          500                           18       \n",
       "56  3          500                           18       \n",
       "57  3          500            0.86  0.84     19       \n",
       "58  3          500                           19       \n",
       "59  3          500                           19       "
      ]
     },
     "execution_count": 432,
     "metadata": {},
     "output_type": "execute_result"
    }
   ],
   "source": [
    "high_iaa_res_df = high_iaa_res_df.append(high_iaa_res_df_2,ignore_index=True)\n",
    "high_iaa_res_df"
   ]
  },
  {
   "cell_type": "code",
   "execution_count": 384,
   "metadata": {},
   "outputs": [
    {
     "name": "stderr",
     "output_type": "stream",
     "text": [
      "/anaconda3/lib/python3.7/site-packages/statsmodels/tools/_testing.py:19: FutureWarning: pandas.util.testing is deprecated. Use the functions in the public API at pandas.testing instead.\n",
      "  import pandas.util.testing as tm\n"
     ]
    }
   ],
   "source": [
    "#num_bins = 5\n",
    "import seaborn as sns\n",
    "sns.set()\n",
    "import matplotlib.pyplot as plt"
   ]
  },
  {
   "cell_type": "code",
   "execution_count": 462,
   "metadata": {
    "scrolled": true
   },
   "outputs": [
    {
     "data": {
      "text/plain": [
       "<matplotlib.axes._subplots.AxesSubplot at 0x11d6aa9b0>"
      ]
     },
     "execution_count": 462,
     "metadata": {},
     "output_type": "execute_result"
    },
    {
     "data": {
      "image/png": "[encoded data removed]",
      "text/plain": [
       "<Figure size 720x504 with 1 Axes>"
      ]
     },
     "metadata": {},
     "output_type": "display_data"
    }
   ],
   "source": [
    "fig,ax=plt.subplots(figsize=(10,7))\n",
    "sns.lineplot(x='fold_no',y='acc',\n",
    "             data=high_iaa_res_df.loc[(high_iaa_res_df.base_model=='LM-finetuned-all-cc-uncased') & \n",
    "                                     (high_iaa_res_df.text_b=='text_b')],\n",
    "           ax=ax)\n",
    "# sns.lineplot(x='fold_no',y='acc',data=high_iaa_res_df.loc[high_iaa_res_df.base_model!='LM-finetuned-all-cc-uncased'],\n",
    "#             ax=ax,color='r')"
   ]
  },
  {
   "cell_type": "code",
   "execution_count": 465,
   "metadata": {},
   "outputs": [
    {
     "data": {
      "text/plain": [
       "(array([1., 0., 1., 0., 0., 9., 6., 1., 1., 2.]),\n",
       " array([0.71 , 0.726, 0.742, 0.758, 0.774, 0.79 , 0.806, 0.822, 0.838,\n",
       "        0.854, 0.87 ]),\n",
       " <a list of 10 Patch objects>)"
      ]
     },
     "execution_count": 465,
     "metadata": {},
     "output_type": "execute_result"
    },
    {
     "data": {
      "image/png": "[encoded data removed]",
      "text/plain": [
       "<Figure size 432x288 with 1 Axes>"
      ]
     },
     "metadata": {},
     "output_type": "display_data"
    }
   ],
   "source": [
    "plt.hist(list(high_iaa_res_df.loc[(high_iaa_res_df.base_model=='LM-finetuned-all-cc-uncased') & \n",
    "                                     (high_iaa_res_df.text_b=='text_b')].acc.values)+[0.87])"
   ]
  },
  {
   "cell_type": "code",
   "execution_count": 470,
   "metadata": {},
   "outputs": [
    {
     "data": {
      "text/plain": [
       "(array([1., 0., 1., 0., 3., 1., 0., 2., 0., 3.]),\n",
       " array([0.75, 0.76, 0.77, 0.78, 0.79, 0.8 , 0.81, 0.82, 0.83, 0.84, 0.85]),\n",
       " <a list of 10 Patch objects>)"
      ]
     },
     "execution_count": 470,
     "metadata": {},
     "output_type": "execute_result"
    },
    {
     "data": {
      "image/png": "[encoded data removed]",
      "text/plain": [
       "<Figure size 432x288 with 1 Axes>"
      ]
     },
     "metadata": {},
     "output_type": "display_data"
    }
   ],
   "source": [
    "plt.hist(list(high_iaa_res_df.loc[(high_iaa_res_df.base_model=='LM-finetuned-all-cc-uncased') & \n",
    "                                     (high_iaa_res_df.text_b=='no_text_b') & \n",
    "                   (high_iaa_res_df.acc != -1)].acc.values)+[0.85])"
   ]
  },
  {
   "cell_type": "code",
   "execution_count": 469,
   "metadata": {},
   "outputs": [
    {
     "data": {
      "text/plain": [
       "array([0.79, 0.75, 0.82, 0.82, 0.79, 0.84, 0.84, 0.79, 0.8 , 0.77])"
      ]
     },
     "execution_count": 469,
     "metadata": {},
     "output_type": "execute_result"
    }
   ],
   "source": [
    "high_iaa_res_df.loc[(high_iaa_res_df.base_model=='LM-finetuned-all-cc-uncased') & \n",
    "                                     (high_iaa_res_df.text_b=='no_text_b') & \n",
    "                   (high_iaa_res_df.acc != -1)].acc.values"
   ]
  },
  {
   "cell_type": "code",
   "execution_count": null,
   "metadata": {},
   "outputs": [],
   "source": []
  }
 ],
 "metadata": {
  "kernelspec": {
   "display_name": "Python 3",
   "language": "python",
   "name": "python3"
  },
  "language_info": {
   "codemirror_mode": {
    "name": "ipython",
    "version": 3
   },
   "file_extension": ".py",
   "mimetype": "text/x-python",
   "name": "python",
   "nbconvert_exporter": "python",
   "pygments_lexer": "ipython3",
   "version": "3.7.1"
  }
 },
 "nbformat": 4,
 "nbformat_minor": 2
}
