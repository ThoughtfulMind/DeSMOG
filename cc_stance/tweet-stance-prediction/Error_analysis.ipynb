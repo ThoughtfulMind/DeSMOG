{
 "cells": [
  {
   "cell_type": "code",
   "execution_count": 133,
   "metadata": {},
   "outputs": [],
   "source": [
    "import pandas as pd\n",
    "pd.set_option('display.max_colwidth', -1)"
   ]
  },
  {
   "cell_type": "code",
   "execution_count": 153,
   "metadata": {
    "code_folding": []
   },
   "outputs": [],
   "source": [
    "def to_int(x):\n",
    "    if x == 'neutral' or x == 2:\n",
    "        return -1\n",
    "    elif x == 'disagree' or x == 1:\n",
    "        return 0\n",
    "    else:\n",
    "        return 1"
   ]
  },
  {
   "cell_type": "markdown",
   "metadata": {},
   "source": [
    "# BERT predictions"
   ]
  },
  {
   "cell_type": "code",
   "execution_count": 154,
   "metadata": {},
   "outputs": [],
   "source": [
    "#preds = pd.read_csv('predicted_defaults.tsv',sep='\\t',header=0)\n",
    "preds = pd.read_csv('/Users/yiweiluo/Desktop/bert/preds.tsv',sep='\\t',header=0,index_col=False)\n",
    "true = pd.read_csv('/Users/yiweiluo/transformers/glue_data/climate/train=all_test=mturk/\\\n",
    "test.tsv',sep='\\t',header=0)\n",
    "\n",
    "mturk_only_preds = pd.read_csv('/Users/yiweiluo/Desktop/bert/mturk_only_preds.tsv',\n",
    "                               sep='\\t',header=0,index_col=False)\n",
    "mturk_only_true = pd.read_csv('/Users/yiweiluo/transformers/glue_data/climate/train=mturk\\\n",
    "_test=mturk/test.tsv',sep='\\t',header=0)"
   ]
  },
  {
   "cell_type": "code",
   "execution_count": 155,
   "metadata": {},
   "outputs": [
    {
     "data": {
      "text/html": [
       "<div>\n",
       "<style scoped>\n",
       "    .dataframe tbody tr th:only-of-type {\n",
       "        vertical-align: middle;\n",
       "    }\n",
       "\n",
       "    .dataframe tbody tr th {\n",
       "        vertical-align: top;\n",
       "    }\n",
       "\n",
       "    .dataframe thead th {\n",
       "        text-align: right;\n",
       "    }\n",
       "</style>\n",
       "<table border=\"1\" class=\"dataframe\">\n",
       "  <thead>\n",
       "    <tr style=\"text-align: right;\">\n",
       "      <th></th>\n",
       "      <th>true</th>\n",
       "      <th>predicted</th>\n",
       "    </tr>\n",
       "  </thead>\n",
       "  <tbody>\n",
       "    <tr>\n",
       "      <td>0</td>\n",
       "      <td>1</td>\n",
       "      <td>1</td>\n",
       "    </tr>\n",
       "    <tr>\n",
       "      <td>1</td>\n",
       "      <td>1</td>\n",
       "      <td>1</td>\n",
       "    </tr>\n",
       "    <tr>\n",
       "      <td>2</td>\n",
       "      <td>0</td>\n",
       "      <td>0</td>\n",
       "    </tr>\n",
       "    <tr>\n",
       "      <td>3</td>\n",
       "      <td>1</td>\n",
       "      <td>1</td>\n",
       "    </tr>\n",
       "    <tr>\n",
       "      <td>4</td>\n",
       "      <td>1</td>\n",
       "      <td>0</td>\n",
       "    </tr>\n",
       "  </tbody>\n",
       "</table>\n",
       "</div>"
      ],
      "text/plain": [
       "   true  predicted\n",
       "0  1     1        \n",
       "1  1     1        \n",
       "2  0     0        \n",
       "3  1     1        \n",
       "4  1     0        "
      ]
     },
     "execution_count": 155,
     "metadata": {},
     "output_type": "execute_result"
    }
   ],
   "source": [
    "mturk_only_preds.head()"
   ]
  },
  {
   "cell_type": "code",
   "execution_count": 145,
   "metadata": {},
   "outputs": [
    {
     "data": {
      "text/html": [
       "<div>\n",
       "<style scoped>\n",
       "    .dataframe tbody tr th:only-of-type {\n",
       "        vertical-align: middle;\n",
       "    }\n",
       "\n",
       "    .dataframe tbody tr th {\n",
       "        vertical-align: top;\n",
       "    }\n",
       "\n",
       "    .dataframe thead th {\n",
       "        text-align: right;\n",
       "    }\n",
       "</style>\n",
       "<table border=\"1\" class=\"dataframe\">\n",
       "  <thead>\n",
       "    <tr style=\"text-align: right;\">\n",
       "      <th></th>\n",
       "      <th>true</th>\n",
       "      <th>predicted</th>\n",
       "    </tr>\n",
       "  </thead>\n",
       "  <tbody>\n",
       "    <tr>\n",
       "      <td>0</td>\n",
       "      <td>0</td>\n",
       "      <td>0</td>\n",
       "    </tr>\n",
       "    <tr>\n",
       "      <td>1</td>\n",
       "      <td>1</td>\n",
       "      <td>1</td>\n",
       "    </tr>\n",
       "    <tr>\n",
       "      <td>2</td>\n",
       "      <td>2</td>\n",
       "      <td>0</td>\n",
       "    </tr>\n",
       "    <tr>\n",
       "      <td>3</td>\n",
       "      <td>2</td>\n",
       "      <td>0</td>\n",
       "    </tr>\n",
       "    <tr>\n",
       "      <td>4</td>\n",
       "      <td>1</td>\n",
       "      <td>1</td>\n",
       "    </tr>\n",
       "  </tbody>\n",
       "</table>\n",
       "</div>"
      ],
      "text/plain": [
       "   true  predicted\n",
       "0  0     0        \n",
       "1  1     1        \n",
       "2  2     0        \n",
       "3  2     0        \n",
       "4  1     1        "
      ]
     },
     "execution_count": 145,
     "metadata": {},
     "output_type": "execute_result"
    }
   ],
   "source": [
    "preds.head()"
   ]
  },
  {
   "cell_type": "code",
   "execution_count": 156,
   "metadata": {},
   "outputs": [],
   "source": [
    "mturk_only_preds['true'] = mturk_only_preds['true'].apply(to_int)\n",
    "mturk_only_preds['predicted'] = mturk_only_preds['predicted'].apply(to_int)\n",
    "preds['true'] = preds['true'].apply(to_int)\n",
    "preds['predicted'] = preds['predicted'].apply(to_int)"
   ]
  },
  {
   "cell_type": "code",
   "execution_count": 157,
   "metadata": {},
   "outputs": [
    {
     "data": {
      "text/plain": [
       "(326, 2)"
      ]
     },
     "execution_count": 157,
     "metadata": {},
     "output_type": "execute_result"
    }
   ],
   "source": [
    "mturk_only_true.shape"
   ]
  },
  {
   "cell_type": "code",
   "execution_count": 158,
   "metadata": {},
   "outputs": [
    {
     "data": {
      "text/plain": [
       "(326, 2)"
      ]
     },
     "execution_count": 158,
     "metadata": {},
     "output_type": "execute_result"
    }
   ],
   "source": [
    "mturk_only_preds.shape"
   ]
  },
  {
   "cell_type": "code",
   "execution_count": 159,
   "metadata": {
    "scrolled": true
   },
   "outputs": [
    {
     "data": {
      "text/html": [
       "<div>\n",
       "<style scoped>\n",
       "    .dataframe tbody tr th:only-of-type {\n",
       "        vertical-align: middle;\n",
       "    }\n",
       "\n",
       "    .dataframe tbody tr th {\n",
       "        vertical-align: top;\n",
       "    }\n",
       "\n",
       "    .dataframe thead th {\n",
       "        text-align: right;\n",
       "    }\n",
       "</style>\n",
       "<table border=\"1\" class=\"dataframe\">\n",
       "  <thead>\n",
       "    <tr style=\"text-align: right;\">\n",
       "      <th></th>\n",
       "      <th>true</th>\n",
       "      <th>predicted</th>\n",
       "    </tr>\n",
       "  </thead>\n",
       "  <tbody>\n",
       "    <tr>\n",
       "      <td>0</td>\n",
       "      <td>0</td>\n",
       "      <td>0</td>\n",
       "    </tr>\n",
       "    <tr>\n",
       "      <td>1</td>\n",
       "      <td>0</td>\n",
       "      <td>0</td>\n",
       "    </tr>\n",
       "    <tr>\n",
       "      <td>2</td>\n",
       "      <td>1</td>\n",
       "      <td>1</td>\n",
       "    </tr>\n",
       "    <tr>\n",
       "      <td>3</td>\n",
       "      <td>0</td>\n",
       "      <td>0</td>\n",
       "    </tr>\n",
       "    <tr>\n",
       "      <td>4</td>\n",
       "      <td>0</td>\n",
       "      <td>1</td>\n",
       "    </tr>\n",
       "    <tr>\n",
       "      <td>...</td>\n",
       "      <td>...</td>\n",
       "      <td>...</td>\n",
       "    </tr>\n",
       "    <tr>\n",
       "      <td>321</td>\n",
       "      <td>1</td>\n",
       "      <td>1</td>\n",
       "    </tr>\n",
       "    <tr>\n",
       "      <td>322</td>\n",
       "      <td>0</td>\n",
       "      <td>0</td>\n",
       "    </tr>\n",
       "    <tr>\n",
       "      <td>323</td>\n",
       "      <td>1</td>\n",
       "      <td>1</td>\n",
       "    </tr>\n",
       "    <tr>\n",
       "      <td>324</td>\n",
       "      <td>1</td>\n",
       "      <td>0</td>\n",
       "    </tr>\n",
       "    <tr>\n",
       "      <td>325</td>\n",
       "      <td>1</td>\n",
       "      <td>1</td>\n",
       "    </tr>\n",
       "  </tbody>\n",
       "</table>\n",
       "<p>326 rows × 2 columns</p>\n",
       "</div>"
      ],
      "text/plain": [
       "     true  predicted\n",
       "0    0     0        \n",
       "1    0     0        \n",
       "2    1     1        \n",
       "3    0     0        \n",
       "4    0     1        \n",
       "..  ..    ..        \n",
       "321  1     1        \n",
       "322  0     0        \n",
       "323  1     1        \n",
       "324  1     0        \n",
       "325  1     1        \n",
       "\n",
       "[326 rows x 2 columns]"
      ]
     },
     "execution_count": 159,
     "metadata": {},
     "output_type": "execute_result"
    }
   ],
   "source": [
    "mturk_only_preds"
   ]
  },
  {
   "cell_type": "code",
   "execution_count": 160,
   "metadata": {
    "scrolled": true
   },
   "outputs": [
    {
     "data": {
      "text/html": [
       "<div>\n",
       "<style scoped>\n",
       "    .dataframe tbody tr th:only-of-type {\n",
       "        vertical-align: middle;\n",
       "    }\n",
       "\n",
       "    .dataframe tbody tr th {\n",
       "        vertical-align: top;\n",
       "    }\n",
       "\n",
       "    .dataframe thead th {\n",
       "        text-align: right;\n",
       "    }\n",
       "</style>\n",
       "<table border=\"1\" class=\"dataframe\">\n",
       "  <thead>\n",
       "    <tr style=\"text-align: right;\">\n",
       "      <th></th>\n",
       "      <th>The court is sensitive to the plaintiff 's arguments for a strong mechanism to combat the effects of global climate change.</th>\n",
       "      <th>1</th>\n",
       "    </tr>\n",
       "  </thead>\n",
       "  <tbody>\n",
       "    <tr>\n",
       "      <td>0</td>\n",
       "      <td>To get any improvement in ice forecasting, you really have to improve weather forecasting in the Arctic.</td>\n",
       "      <td>0</td>\n",
       "    </tr>\n",
       "    <tr>\n",
       "      <td>1</td>\n",
       "      <td>Global sea levels have risen approximately 8 inches over the past century, with sea-level rises getting higher in some parts of the globe.</td>\n",
       "      <td>0</td>\n",
       "    </tr>\n",
       "    <tr>\n",
       "      <td>2</td>\n",
       "      <td>The increase in extreme flood likelihood will occur prior to reaching 73-percent urbanization because of changes in climate.</td>\n",
       "      <td>1</td>\n",
       "    </tr>\n",
       "    <tr>\n",
       "      <td>3</td>\n",
       "      <td>We found out that the majority of our carbon emissions are actually coming from our supply chains.</td>\n",
       "      <td>0</td>\n",
       "    </tr>\n",
       "    <tr>\n",
       "      <td>4</td>\n",
       "      <td>The death of 200 reindeer earlier this year in the Arctic archipelago Svalbard is caused by climate change, according to the Norwegian Polar Institute, which cited starvation.</td>\n",
       "      <td>0</td>\n",
       "    </tr>\n",
       "    <tr>\n",
       "      <td>5</td>\n",
       "      <td>A group of American scientists is rescued from an island off Antarcticaâs coast after ice prevented a U.S. Antarctic Program research vessel from reaching them.</td>\n",
       "      <td>0</td>\n",
       "    </tr>\n",
       "    <tr>\n",
       "      <td>6</td>\n",
       "      <td>Global warming will never hurt anyone.</td>\n",
       "      <td>-1</td>\n",
       "    </tr>\n",
       "    <tr>\n",
       "      <td>7</td>\n",
       "      <td>Many of the world’s remaining fossil fuel resources must be left unexploited if the climate is not to be put in danger, and prominent scientific and political leaders are increasingly calling for this to be recognized.</td>\n",
       "      <td>1</td>\n",
       "    </tr>\n",
       "    <tr>\n",
       "      <td>8</td>\n",
       "      <td>The Arctic ice cap, which is thought to have lost an average of 12.9 billion tonnes of ice a year between 1992 and 2010 due to general warming, may be losing an extra 27 billion tonnes a year just because of dust, potentially adding several centimeters of sea-level rise by 2100.</td>\n",
       "      <td>1</td>\n",
       "    </tr>\n",
       "    <tr>\n",
       "      <td>9</td>\n",
       "      <td>Carbon dioxide – what you are exhaling – is what controls temperature.</td>\n",
       "      <td>0</td>\n",
       "    </tr>\n",
       "    <tr>\n",
       "      <td>10</td>\n",
       "      <td>Human activities are not a major cause of global warming.</td>\n",
       "      <td>-1</td>\n",
       "    </tr>\n",
       "    <tr>\n",
       "      <td>11</td>\n",
       "      <td>Rising sea levels could force Los Angeles International Airport (LAX) to be moved.</td>\n",
       "      <td>1</td>\n",
       "    </tr>\n",
       "    <tr>\n",
       "      <td>12</td>\n",
       "      <td>We can't solve the problem when we have elected officials who are paid by the fossil fuel industry.</td>\n",
       "      <td>1</td>\n",
       "    </tr>\n",
       "    <tr>\n",
       "      <td>13</td>\n",
       "      <td>Earth is about to go through an extensive global cooling period.</td>\n",
       "      <td>-1</td>\n",
       "    </tr>\n",
       "    <tr>\n",
       "      <td>14</td>\n",
       "      <td>Global warming is influencing the weather, in the wake of a string of deadly extreme events in the US.</td>\n",
       "      <td>1</td>\n",
       "    </tr>\n",
       "    <tr>\n",
       "      <td>15</td>\n",
       "      <td>Different countries have different densities, so to speak, of global warming denial.</td>\n",
       "      <td>0</td>\n",
       "    </tr>\n",
       "    <tr>\n",
       "      <td>16</td>\n",
       "      <td>There is no scientific proof that human emissions of carbon dioxide (CO2) are the dominant cause of the minor warming of the Earth’s atmosphere over the past 100 years.</td>\n",
       "      <td>-1</td>\n",
       "    </tr>\n",
       "    <tr>\n",
       "      <td>17</td>\n",
       "      <td>Around 20 percent of global greenhouse gas emissions are caused by deforestation from agricultural expansion and destructive logging practices, among other factors.</td>\n",
       "      <td>0</td>\n",
       "    </tr>\n",
       "    <tr>\n",
       "      <td>18</td>\n",
       "      <td>During this century, half of the energy the world needs will come from fossil fuels.</td>\n",
       "      <td>0</td>\n",
       "    </tr>\n",
       "    <tr>\n",
       "      <td>19</td>\n",
       "      <td>You can’t stop using fossil fuels without killing people and destroying our economies.</td>\n",
       "      <td>-1</td>\n",
       "    </tr>\n",
       "  </tbody>\n",
       "</table>\n",
       "</div>"
      ],
      "text/plain": [
       "                                                                                                                                                                The court is sensitive to the plaintiff 's arguments for a strong mechanism to combat the effects of global climate change.  \\\n",
       "0   To get any improvement in ice forecasting, you really have to improve weather forecasting in the Arctic.                                                                                                                                                                                  \n",
       "1   Global sea levels have risen approximately 8 inches over the past century, with sea-level rises getting higher in some parts of the globe.                                                                                                                                                \n",
       "2   The increase in extreme flood likelihood will occur prior to reaching 73-percent urbanization because of changes in climate.                                                                                                                                                              \n",
       "3   We found out that the majority of our carbon emissions are actually coming from our supply chains.                                                                                                                                                                                        \n",
       "4   The death of 200 reindeer earlier this year in the Arctic archipelago Svalbard is caused by climate change, according to the Norwegian Polar Institute, which cited starvation.                                                                                                           \n",
       "5   A group of American scientists is rescued from an island off Antarcticaâs coast after ice prevented a U.S. Antarctic Program research vessel from reaching them.                                                                                                                        \n",
       "6   Global warming will never hurt anyone.                                                                                                                                                                                                                                                    \n",
       "7   Many of the world’s remaining fossil fuel resources must be left unexploited if the climate is not to be put in danger, and prominent scientific and political leaders are increasingly calling for this to be recognized.                                                                \n",
       "8   The Arctic ice cap, which is thought to have lost an average of 12.9 billion tonnes of ice a year between 1992 and 2010 due to general warming, may be losing an extra 27 billion tonnes a year just because of dust, potentially adding several centimeters of sea-level rise by 2100.   \n",
       "9   Carbon dioxide – what you are exhaling – is what controls temperature.                                                                                                                                                                                                                    \n",
       "10  Human activities are not a major cause of global warming.                                                                                                                                                                                                                                 \n",
       "11  Rising sea levels could force Los Angeles International Airport (LAX) to be moved.                                                                                                                                                                                                        \n",
       "12  We can't solve the problem when we have elected officials who are paid by the fossil fuel industry.                                                                                                                                                                                       \n",
       "13  Earth is about to go through an extensive global cooling period.                                                                                                                                                                                                                          \n",
       "14  Global warming is influencing the weather, in the wake of a string of deadly extreme events in the US.                                                                                                                                                                                    \n",
       "15  Different countries have different densities, so to speak, of global warming denial.                                                                                                                                                                                                      \n",
       "16  There is no scientific proof that human emissions of carbon dioxide (CO2) are the dominant cause of the minor warming of the Earth’s atmosphere over the past 100 years.                                                                                                                  \n",
       "17  Around 20 percent of global greenhouse gas emissions are caused by deforestation from agricultural expansion and destructive logging practices, among other factors.                                                                                                                      \n",
       "18  During this century, half of the energy the world needs will come from fossil fuels.                                                                                                                                                                                                      \n",
       "19  You can’t stop using fossil fuels without killing people and destroying our economies.                                                                                                                                                                                                    \n",
       "\n",
       "    1  \n",
       "0   0  \n",
       "1   0  \n",
       "2   1  \n",
       "3   0  \n",
       "4   0  \n",
       "5   0  \n",
       "6  -1  \n",
       "7   1  \n",
       "8   1  \n",
       "9   0  \n",
       "10 -1  \n",
       "11  1  \n",
       "12  1  \n",
       "13 -1  \n",
       "14  1  \n",
       "15  0  \n",
       "16 -1  \n",
       "17  0  \n",
       "18  0  \n",
       "19 -1  "
      ]
     },
     "execution_count": 160,
     "metadata": {},
     "output_type": "execute_result"
    }
   ],
   "source": [
    "true['2'] = true['2'].apply(to_int)\n",
    "mturk_only_true['1'] = mturk_only_true['1'].apply(to_int)\n",
    "mturk_only_true.head(20)"
   ]
  },
  {
   "cell_type": "code",
   "execution_count": 152,
   "metadata": {
    "scrolled": true
   },
   "outputs": [
    {
     "data": {
      "text/html": [
       "<div>\n",
       "<style scoped>\n",
       "    .dataframe tbody tr th:only-of-type {\n",
       "        vertical-align: middle;\n",
       "    }\n",
       "\n",
       "    .dataframe tbody tr th {\n",
       "        vertical-align: top;\n",
       "    }\n",
       "\n",
       "    .dataframe thead th {\n",
       "        text-align: right;\n",
       "    }\n",
       "</style>\n",
       "<table border=\"1\" class=\"dataframe\">\n",
       "  <thead>\n",
       "    <tr style=\"text-align: right;\">\n",
       "      <th></th>\n",
       "      <th>The deaths caused by colonization led to a drop of about 3.5 parts per million of carbon dioxide in the atmosphere.</th>\n",
       "      <th>2</th>\n",
       "    </tr>\n",
       "  </thead>\n",
       "  <tbody>\n",
       "    <tr>\n",
       "      <td>0</td>\n",
       "      <td>Global warming will harm Americans.</td>\n",
       "      <td>1</td>\n",
       "    </tr>\n",
       "    <tr>\n",
       "      <td>1</td>\n",
       "      <td>Coal is winning, Arctic ice is not melting -- and those who disagree are no better than the censors in Orwell's 1984.</td>\n",
       "      <td>-1</td>\n",
       "    </tr>\n",
       "    <tr>\n",
       "      <td>2</td>\n",
       "      <td>A portion of every dollar raised by a carbon tax in A Green New Deal would be invested in two new community colleges and high-speed broadband in rural areas of every state.</td>\n",
       "      <td>0</td>\n",
       "    </tr>\n",
       "    <tr>\n",
       "      <td>3</td>\n",
       "      <td>Antarctica is not currently contributing to sea level rise, but is taking 0.23 millimeters per year away.</td>\n",
       "      <td>0</td>\n",
       "    </tr>\n",
       "    <tr>\n",
       "      <td>4</td>\n",
       "      <td>What is once considered one of the most remarkable cases of accelerated anthropogenic climate warming is not due to human causes at all but rather to natural climate swings.</td>\n",
       "      <td>-1</td>\n",
       "    </tr>\n",
       "    <tr>\n",
       "      <td>5</td>\n",
       "      <td>The White House had received ”a lot of communications” from those critical of any attempt to regulate emissions that are viewed as contributing to global warming.</td>\n",
       "      <td>0</td>\n",
       "    </tr>\n",
       "    <tr>\n",
       "      <td>6</td>\n",
       "      <td>Atmospheric concentrations of carbon dioxide beyond 350 parts-per-million (ppm) could set off compounding feedback loops and so lock us into runaway climate change.</td>\n",
       "      <td>1</td>\n",
       "    </tr>\n",
       "    <tr>\n",
       "      <td>7</td>\n",
       "      <td>Cutting down on fossil fuels is â a monumental task â but doing so ultimately offered economic as well as ecological benefits.</td>\n",
       "      <td>1</td>\n",
       "    </tr>\n",
       "    <tr>\n",
       "      <td>8</td>\n",
       "      <td>Short periods of minor global warming could be considered significant, while similar periods of cooling or stagnation could be ignored by the scientific community.</td>\n",
       "      <td>0</td>\n",
       "    </tr>\n",
       "    <tr>\n",
       "      <td>9</td>\n",
       "      <td>PFTBA remains in the atmosphere for about 500 years, and unlike carbon dioxide, is taken up by forests and oceans.</td>\n",
       "      <td>0</td>\n",
       "    </tr>\n",
       "    <tr>\n",
       "      <td>10</td>\n",
       "      <td>Released enough greenhouse gases into the atmosphere to prevent another global cool down.</td>\n",
       "      <td>0</td>\n",
       "    </tr>\n",
       "    <tr>\n",
       "      <td>11</td>\n",
       "      <td>Gradual loss of these largely pristine, intact forests has a much greater climate impact than previously accounted for.</td>\n",
       "      <td>1</td>\n",
       "    </tr>\n",
       "    <tr>\n",
       "      <td>12</td>\n",
       "      <td>No matter what happens with climate change, the economics of fossil fuel production are likely to stay favorable for the foreseeable future.</td>\n",
       "      <td>0</td>\n",
       "    </tr>\n",
       "    <tr>\n",
       "      <td>13</td>\n",
       "      <td>This a sneaky way to cover up the reality that global warming is a sham.</td>\n",
       "      <td>-1</td>\n",
       "    </tr>\n",
       "    <tr>\n",
       "      <td>14</td>\n",
       "      <td>15 percent of Americans have volunteered or donated money to an organization working to reduce global warming.</td>\n",
       "      <td>0</td>\n",
       "    </tr>\n",
       "    <tr>\n",
       "      <td>15</td>\n",
       "      <td>Natural ice conditions are diminishing across the globe, particularly in Canada.</td>\n",
       "      <td>0</td>\n",
       "    </tr>\n",
       "    <tr>\n",
       "      <td>16</td>\n",
       "      <td>I’ve heard Al Gore talk about global warming so much that I’m starting to think that his mouth is the leading source of all that supposedly deadly carbon dioxide.</td>\n",
       "      <td>-1</td>\n",
       "    </tr>\n",
       "    <tr>\n",
       "      <td>17</td>\n",
       "      <td>An increase in C02 emissions from fossil fuels will be a great benefit to plant and animal life on Earth.</td>\n",
       "      <td>-1</td>\n",
       "    </tr>\n",
       "    <tr>\n",
       "      <td>18</td>\n",
       "      <td>Already Yellowstone, which sits at a relatively high average elevation of 8,000 feet above sea level in Wyoming, Montana and Idaho, is warming faster than the rest of the globe.</td>\n",
       "      <td>1</td>\n",
       "    </tr>\n",
       "    <tr>\n",
       "      <td>19</td>\n",
       "      <td>Cutting out meat from an individual's diet reduces their greenhouse gas emissions by 35%, and substituting carbon-intensive meats such as beef and lamb with chicken or pork can reduce one person's emissions contribution by 18.</td>\n",
       "      <td>0</td>\n",
       "    </tr>\n",
       "  </tbody>\n",
       "</table>\n",
       "</div>"
      ],
      "text/plain": [
       "                                                                                                                   The deaths caused by colonization led to a drop of about 3.5 parts per million of carbon dioxide in the atmosphere.  \\\n",
       "0   Global warming will harm Americans.                                                                                                                                                                                                  \n",
       "1   Coal is winning, Arctic ice is not melting -- and those who disagree are no better than the censors in Orwell's 1984.                                                                                                                \n",
       "2   A portion of every dollar raised by a carbon tax in A Green New Deal would be invested in two new community colleges and high-speed broadband in rural areas of every state.                                                         \n",
       "3   Antarctica is not currently contributing to sea level rise, but is taking 0.23 millimeters per year away.                                                                                                                            \n",
       "4   What is once considered one of the most remarkable cases of accelerated anthropogenic climate warming is not due to human causes at all but rather to natural climate swings.                                                        \n",
       "5   The White House had received ”a lot of communications” from those critical of any attempt to regulate emissions that are viewed as contributing to global warming.                                                                   \n",
       "6   Atmospheric concentrations of carbon dioxide beyond 350 parts-per-million (ppm) could set off compounding feedback loops and so lock us into runaway climate change.                                                                 \n",
       "7   Cutting down on fossil fuels is â a monumental task â but doing so ultimately offered economic as well as ecological benefits.                                                                                                   \n",
       "8   Short periods of minor global warming could be considered significant, while similar periods of cooling or stagnation could be ignored by the scientific community.                                                                  \n",
       "9   PFTBA remains in the atmosphere for about 500 years, and unlike carbon dioxide, is taken up by forests and oceans.                                                                                                                   \n",
       "10  Released enough greenhouse gases into the atmosphere to prevent another global cool down.                                                                                                                                            \n",
       "11  Gradual loss of these largely pristine, intact forests has a much greater climate impact than previously accounted for.                                                                                                              \n",
       "12  No matter what happens with climate change, the economics of fossil fuel production are likely to stay favorable for the foreseeable future.                                                                                         \n",
       "13  This a sneaky way to cover up the reality that global warming is a sham.                                                                                                                                                             \n",
       "14  15 percent of Americans have volunteered or donated money to an organization working to reduce global warming.                                                                                                                       \n",
       "15  Natural ice conditions are diminishing across the globe, particularly in Canada.                                                                                                                                                     \n",
       "16  I’ve heard Al Gore talk about global warming so much that I’m starting to think that his mouth is the leading source of all that supposedly deadly carbon dioxide.                                                                   \n",
       "17  An increase in C02 emissions from fossil fuels will be a great benefit to plant and animal life on Earth.                                                                                                                            \n",
       "18  Already Yellowstone, which sits at a relatively high average elevation of 8,000 feet above sea level in Wyoming, Montana and Idaho, is warming faster than the rest of the globe.                                                    \n",
       "19  Cutting out meat from an individual's diet reduces their greenhouse gas emissions by 35%, and substituting carbon-intensive meats such as beef and lamb with chicken or pork can reduce one person's emissions contribution by 18.   \n",
       "\n",
       "    2  \n",
       "0   1  \n",
       "1  -1  \n",
       "2   0  \n",
       "3   0  \n",
       "4  -1  \n",
       "5   0  \n",
       "6   1  \n",
       "7   1  \n",
       "8   0  \n",
       "9   0  \n",
       "10  0  \n",
       "11  1  \n",
       "12  0  \n",
       "13 -1  \n",
       "14  0  \n",
       "15  0  \n",
       "16 -1  \n",
       "17 -1  \n",
       "18  1  \n",
       "19  0  "
      ]
     },
     "execution_count": 152,
     "metadata": {},
     "output_type": "execute_result"
    }
   ],
   "source": [
    "true.head(20)"
   ]
  },
  {
   "cell_type": "code",
   "execution_count": 161,
   "metadata": {},
   "outputs": [
    {
     "data": {
      "text/plain": [
       "326"
      ]
     },
     "execution_count": 161,
     "metadata": {},
     "output_type": "execute_result"
    }
   ],
   "source": [
    "import numpy as np\n",
    "np.sum([(mturk_only_true['1'] == mturk_only_preds['true'])])"
   ]
  },
  {
   "cell_type": "code",
   "execution_count": 162,
   "metadata": {
    "scrolled": true
   },
   "outputs": [],
   "source": [
    "mturk_only_preds['sentence'] = mturk_only_true[\"The court is sensitive to the plaintiff 's arguments for a strong mechanism to combat the effects of global climate change.\"]"
   ]
  },
  {
   "cell_type": "code",
   "execution_count": 163,
   "metadata": {},
   "outputs": [
    {
     "data": {
      "text/plain": [
       "0      0\n",
       "1      0\n",
       "2      1\n",
       "3      0\n",
       "4      1\n",
       "      ..\n",
       "321    1\n",
       "322    0\n",
       "323    1\n",
       "324    0\n",
       "325    1\n",
       "Name: predicted, Length: 326, dtype: int64"
      ]
     },
     "execution_count": 163,
     "metadata": {},
     "output_type": "execute_result"
    }
   ],
   "source": [
    "mturk_only_preds['predicted']"
   ]
  },
  {
   "cell_type": "code",
   "execution_count": 164,
   "metadata": {},
   "outputs": [],
   "source": [
    "#bad_preds = preds[preds.true != preds.predicted]\n",
    "#good_preds = preds[preds.true == preds.predicted]\n",
    "bad_preds = mturk_only_preds[mturk_only_preds.true != mturk_only_preds.predicted]\n",
    "good_preds = mturk_only_preds[mturk_only_preds.true == mturk_only_preds.predicted]"
   ]
  },
  {
   "cell_type": "code",
   "execution_count": 165,
   "metadata": {},
   "outputs": [],
   "source": [
    "opp_preds = bad_preds[bad_preds.true == bad_preds.predicted*-1]"
   ]
  },
  {
   "cell_type": "code",
   "execution_count": 166,
   "metadata": {},
   "outputs": [
    {
     "data": {
      "text/plain": [
       "(122, 3)"
      ]
     },
     "execution_count": 166,
     "metadata": {},
     "output_type": "execute_result"
    }
   ],
   "source": [
    "bad_preds.shape"
   ]
  },
  {
   "cell_type": "code",
   "execution_count": 167,
   "metadata": {},
   "outputs": [
    {
     "data": {
      "text/plain": [
       "(204, 3)"
      ]
     },
     "execution_count": 167,
     "metadata": {},
     "output_type": "execute_result"
    }
   ],
   "source": [
    "good_preds.shape"
   ]
  },
  {
   "cell_type": "code",
   "execution_count": 168,
   "metadata": {},
   "outputs": [
    {
     "data": {
      "text/plain": [
       "(35, 3)"
      ]
     },
     "execution_count": 168,
     "metadata": {},
     "output_type": "execute_result"
    }
   ],
   "source": [
    "opp_preds.shape"
   ]
  },
  {
   "cell_type": "code",
   "execution_count": 169,
   "metadata": {},
   "outputs": [
    {
     "data": {
      "text/plain": [
       "0.10736196319018405"
      ]
     },
     "execution_count": 169,
     "metadata": {},
     "output_type": "execute_result"
    }
   ],
   "source": [
    "len(opp_preds)/len(mturk_only_preds)"
   ]
  },
  {
   "cell_type": "markdown",
   "metadata": {},
   "source": [
    "BERT trained on MTurk only:"
   ]
  },
  {
   "cell_type": "code",
   "execution_count": 170,
   "metadata": {},
   "outputs": [
    {
     "data": {
      "text/plain": [
       "0.4"
      ]
     },
     "execution_count": 170,
     "metadata": {},
     "output_type": "execute_result"
    }
   ],
   "source": [
    "len(opp_preds[opp_preds.true == 1])/len(opp_preds)"
   ]
  },
  {
   "cell_type": "code",
   "execution_count": 171,
   "metadata": {},
   "outputs": [
    {
     "data": {
      "text/plain": [
       "0.6"
      ]
     },
     "execution_count": 171,
     "metadata": {},
     "output_type": "execute_result"
    }
   ],
   "source": [
    "len(opp_preds[opp_preds.true == -1])/len(opp_preds)"
   ]
  },
  {
   "cell_type": "code",
   "execution_count": 172,
   "metadata": {
    "scrolled": true
   },
   "outputs": [
    {
     "data": {
      "text/html": [
       "<div>\n",
       "<style scoped>\n",
       "    .dataframe tbody tr th:only-of-type {\n",
       "        vertical-align: middle;\n",
       "    }\n",
       "\n",
       "    .dataframe tbody tr th {\n",
       "        vertical-align: top;\n",
       "    }\n",
       "\n",
       "    .dataframe thead th {\n",
       "        text-align: right;\n",
       "    }\n",
       "</style>\n",
       "<table border=\"1\" class=\"dataframe\">\n",
       "  <thead>\n",
       "    <tr style=\"text-align: right;\">\n",
       "      <th></th>\n",
       "      <th>true</th>\n",
       "      <th>predicted</th>\n",
       "      <th>sentence</th>\n",
       "    </tr>\n",
       "  </thead>\n",
       "  <tbody>\n",
       "    <tr>\n",
       "      <td>13</td>\n",
       "      <td>-1</td>\n",
       "      <td>1</td>\n",
       "      <td>Earth is about to go through an extensive global cooling period.</td>\n",
       "    </tr>\n",
       "    <tr>\n",
       "      <td>19</td>\n",
       "      <td>-1</td>\n",
       "      <td>1</td>\n",
       "      <td>You can’t stop using fossil fuels without killing people and destroying our economies.</td>\n",
       "    </tr>\n",
       "    <tr>\n",
       "      <td>36</td>\n",
       "      <td>-1</td>\n",
       "      <td>1</td>\n",
       "      <td>A combination of factors are at work, including a natural El Nino system, man-made global warming and a dash of random weather.</td>\n",
       "    </tr>\n",
       "    <tr>\n",
       "      <td>77</td>\n",
       "      <td>1</td>\n",
       "      <td>-1</td>\n",
       "      <td>It’s appropriate to call such storms “global warming type” events.</td>\n",
       "    </tr>\n",
       "    <tr>\n",
       "      <td>87</td>\n",
       "      <td>1</td>\n",
       "      <td>-1</td>\n",
       "      <td>Those who are unable to contradict with facts and arguments the movement of young people committed in the battle against the climate crisis have recourse instead to violence and intimidation.</td>\n",
       "    </tr>\n",
       "    <tr>\n",
       "      <td>90</td>\n",
       "      <td>-1</td>\n",
       "      <td>1</td>\n",
       "      <td>Global warming helps plants — and thus also helps humans and animals .</td>\n",
       "    </tr>\n",
       "    <tr>\n",
       "      <td>100</td>\n",
       "      <td>-1</td>\n",
       "      <td>1</td>\n",
       "      <td>The climate is always changing in accordance with natural causes and recent changes.</td>\n",
       "    </tr>\n",
       "    <tr>\n",
       "      <td>102</td>\n",
       "      <td>-1</td>\n",
       "      <td>1</td>\n",
       "      <td>The global warming of the 1900s is caused by a rise in solar output.</td>\n",
       "    </tr>\n",
       "    <tr>\n",
       "      <td>105</td>\n",
       "      <td>-1</td>\n",
       "      <td>1</td>\n",
       "      <td>Any warming that may occur is likely to be modest and cause no net harm to the global environment or to human well-being.</td>\n",
       "    </tr>\n",
       "    <tr>\n",
       "      <td>107</td>\n",
       "      <td>-1</td>\n",
       "      <td>1</td>\n",
       "      <td>Global warming would open stretches of the Arctic Ocean to shipping and drilling.</td>\n",
       "    </tr>\n",
       "    <tr>\n",
       "      <td>111</td>\n",
       "      <td>-1</td>\n",
       "      <td>1</td>\n",
       "      <td>Then there is climate change, which has ratcheted up the opportunity cost of every conflict.</td>\n",
       "    </tr>\n",
       "    <tr>\n",
       "      <td>114</td>\n",
       "      <td>-1</td>\n",
       "      <td>1</td>\n",
       "      <td>Our need to focus on it and on jobs and not worry so much about global warming.</td>\n",
       "    </tr>\n",
       "    <tr>\n",
       "      <td>132</td>\n",
       "      <td>1</td>\n",
       "      <td>-1</td>\n",
       "      <td>The leader of a company that disputes a threat from global warming has no place at an institution where scientists have underscored the seriousness of the problem and administrators.</td>\n",
       "    </tr>\n",
       "    <tr>\n",
       "      <td>141</td>\n",
       "      <td>-1</td>\n",
       "      <td>1</td>\n",
       "      <td>Global cooling is inevitable.</td>\n",
       "    </tr>\n",
       "    <tr>\n",
       "      <td>146</td>\n",
       "      <td>-1</td>\n",
       "      <td>1</td>\n",
       "      <td>The rising level of carbon dioxide in the earth’s atmosphere is currently net beneficial for both humanity and the biosphere generally.</td>\n",
       "    </tr>\n",
       "    <tr>\n",
       "      <td>160</td>\n",
       "      <td>1</td>\n",
       "      <td>-1</td>\n",
       "      <td>It is no longer possible for us to ignore Microsoft's complicity in the climate crisis.</td>\n",
       "    </tr>\n",
       "    <tr>\n",
       "      <td>168</td>\n",
       "      <td>1</td>\n",
       "      <td>-1</td>\n",
       "      <td>The level of carbon dioxide in the atmosphere has never been higher.</td>\n",
       "    </tr>\n",
       "    <tr>\n",
       "      <td>169</td>\n",
       "      <td>1</td>\n",
       "      <td>-1</td>\n",
       "      <td>I am a firm believer that climate change is real, that it is impacted by human behavior and carbon emissions.</td>\n",
       "    </tr>\n",
       "    <tr>\n",
       "      <td>185</td>\n",
       "      <td>1</td>\n",
       "      <td>-1</td>\n",
       "      <td>They are too pessimistic about the chances of limiting global warming.</td>\n",
       "    </tr>\n",
       "    <tr>\n",
       "      <td>193</td>\n",
       "      <td>1</td>\n",
       "      <td>-1</td>\n",
       "      <td>The word climate change, to the best of my knowledge, is not discussed in this new NAFTA agreement at all, which is an outrage.</td>\n",
       "    </tr>\n",
       "    <tr>\n",
       "      <td>207</td>\n",
       "      <td>1</td>\n",
       "      <td>-1</td>\n",
       "      <td>Sarah Palin and Rush Limbaugh are trying to kill us with global warming disinformation.</td>\n",
       "    </tr>\n",
       "    <tr>\n",
       "      <td>209</td>\n",
       "      <td>-1</td>\n",
       "      <td>1</td>\n",
       "      <td>The water level is affected by things other than global warming.</td>\n",
       "    </tr>\n",
       "    <tr>\n",
       "      <td>210</td>\n",
       "      <td>1</td>\n",
       "      <td>-1</td>\n",
       "      <td>Global warming is not expected to end anytime soon.</td>\n",
       "    </tr>\n",
       "    <tr>\n",
       "      <td>216</td>\n",
       "      <td>-1</td>\n",
       "      <td>1</td>\n",
       "      <td>Global warming is occurring more slowly than computer models forecast a decade ago.</td>\n",
       "    </tr>\n",
       "    <tr>\n",
       "      <td>234</td>\n",
       "      <td>-1</td>\n",
       "      <td>1</td>\n",
       "      <td>The findings will infuriate environmental campaigners who argue by 2030 we could be facing increased sea levels and flooding due to glacial melt at the poles.</td>\n",
       "    </tr>\n",
       "    <tr>\n",
       "      <td>239</td>\n",
       "      <td>-1</td>\n",
       "      <td>1</td>\n",
       "      <td>While the world is in turmoil and falling apart in so many different ways especially with ISIS, our President is worried about global warming–what a ridiculous situation.</td>\n",
       "    </tr>\n",
       "    <tr>\n",
       "      <td>242</td>\n",
       "      <td>1</td>\n",
       "      <td>-1</td>\n",
       "      <td>Global warming is real, because the rise of terrorism tracks with their â adjusted â climate data.</td>\n",
       "    </tr>\n",
       "    <tr>\n",
       "      <td>246</td>\n",
       "      <td>-1</td>\n",
       "      <td>1</td>\n",
       "      <td>The magnitude of the dryness is well beyond what global warming would be able to do so far.</td>\n",
       "    </tr>\n",
       "    <tr>\n",
       "      <td>262</td>\n",
       "      <td>1</td>\n",
       "      <td>-1</td>\n",
       "      <td>The low number is derived from a method that did not take account of the way global warming had sped up since the 1970s.</td>\n",
       "    </tr>\n",
       "    <tr>\n",
       "      <td>270</td>\n",
       "      <td>-1</td>\n",
       "      <td>1</td>\n",
       "      <td>Global warming won't cause immediate flooding on every coast.</td>\n",
       "    </tr>\n",
       "    <tr>\n",
       "      <td>285</td>\n",
       "      <td>-1</td>\n",
       "      <td>1</td>\n",
       "      <td>There are a \"tremendous number of factors\" influencing global climate, and outlandish predictions almost always turn out to be false.</td>\n",
       "    </tr>\n",
       "    <tr>\n",
       "      <td>295</td>\n",
       "      <td>1</td>\n",
       "      <td>-1</td>\n",
       "      <td>Ice at both ends of the Earth is melting far faster, and oceans are warming far faster, than previously thought, suggesting that scientific estimates of a warming planet have been too conservative.</td>\n",
       "    </tr>\n",
       "    <tr>\n",
       "      <td>297</td>\n",
       "      <td>-1</td>\n",
       "      <td>1</td>\n",
       "      <td>Global warming is beneficial to the welfare and business.</td>\n",
       "    </tr>\n",
       "    <tr>\n",
       "      <td>306</td>\n",
       "      <td>1</td>\n",
       "      <td>-1</td>\n",
       "      <td>Human activity is the main cause of global warming, while the other investigation reveals widespread political interference in federal climate science here in the United States.</td>\n",
       "    </tr>\n",
       "    <tr>\n",
       "      <td>307</td>\n",
       "      <td>-1</td>\n",
       "      <td>1</td>\n",
       "      <td>Ultimately, global warming has become the sole focus of so much environmental discussion that it risks eclipsing much more pressing and demonstrable environmental problems.</td>\n",
       "    </tr>\n",
       "  </tbody>\n",
       "</table>\n",
       "</div>"
      ],
      "text/plain": [
       "     true  predicted  \\\n",
       "13  -1     1           \n",
       "19  -1     1           \n",
       "36  -1     1           \n",
       "77   1    -1           \n",
       "87   1    -1           \n",
       "90  -1     1           \n",
       "100 -1     1           \n",
       "102 -1     1           \n",
       "105 -1     1           \n",
       "107 -1     1           \n",
       "111 -1     1           \n",
       "114 -1     1           \n",
       "132  1    -1           \n",
       "141 -1     1           \n",
       "146 -1     1           \n",
       "160  1    -1           \n",
       "168  1    -1           \n",
       "169  1    -1           \n",
       "185  1    -1           \n",
       "193  1    -1           \n",
       "207  1    -1           \n",
       "209 -1     1           \n",
       "210  1    -1           \n",
       "216 -1     1           \n",
       "234 -1     1           \n",
       "239 -1     1           \n",
       "242  1    -1           \n",
       "246 -1     1           \n",
       "262  1    -1           \n",
       "270 -1     1           \n",
       "285 -1     1           \n",
       "295  1    -1           \n",
       "297 -1     1           \n",
       "306  1    -1           \n",
       "307 -1     1           \n",
       "\n",
       "                                                                                                                                                                                                  sentence  \n",
       "13   Earth is about to go through an extensive global cooling period.                                                                                                                                       \n",
       "19   You can’t stop using fossil fuels without killing people and destroying our economies.                                                                                                                 \n",
       "36   A combination of factors are at work, including a natural El Nino system, man-made global warming and a dash of random weather.                                                                        \n",
       "77   It’s appropriate to call such storms “global warming type” events.                                                                                                                                     \n",
       "87   Those who are unable to contradict with facts and arguments the movement of young people committed in the battle against the climate crisis have recourse instead to violence and intimidation.        \n",
       "90   Global warming helps plants — and thus also helps humans and animals .                                                                                                                                 \n",
       "100  The climate is always changing in accordance with natural causes and recent changes.                                                                                                                   \n",
       "102  The global warming of the 1900s is caused by a rise in solar output.                                                                                                                                   \n",
       "105  Any warming that may occur is likely to be modest and cause no net harm to the global environment or to human well-being.                                                                              \n",
       "107  Global warming would open stretches of the Arctic Ocean to shipping and drilling.                                                                                                                      \n",
       "111  Then there is climate change, which has ratcheted up the opportunity cost of every conflict.                                                                                                           \n",
       "114  Our need to focus on it and on jobs and not worry so much about global warming.                                                                                                                        \n",
       "132  The leader of a company that disputes a threat from global warming has no place at an institution where scientists have underscored the seriousness of the problem and administrators.                 \n",
       "141  Global cooling is inevitable.                                                                                                                                                                          \n",
       "146  The rising level of carbon dioxide in the earth’s atmosphere is currently net beneficial for both humanity and the biosphere generally.                                                                \n",
       "160  It is no longer possible for us to ignore Microsoft's complicity in the climate crisis.                                                                                                                \n",
       "168  The level of carbon dioxide in the atmosphere has never been higher.                                                                                                                                   \n",
       "169  I am a firm believer that climate change is real, that it is impacted by human behavior and carbon emissions.                                                                                          \n",
       "185  They are too pessimistic about the chances of limiting global warming.                                                                                                                                 \n",
       "193  The word climate change, to the best of my knowledge, is not discussed in this new NAFTA agreement at all, which is an outrage.                                                                        \n",
       "207  Sarah Palin and Rush Limbaugh are trying to kill us with global warming disinformation.                                                                                                                \n",
       "209  The water level is affected by things other than global warming.                                                                                                                                       \n",
       "210  Global warming is not expected to end anytime soon.                                                                                                                                                    \n",
       "216  Global warming is occurring more slowly than computer models forecast a decade ago.                                                                                                                    \n",
       "234  The findings will infuriate environmental campaigners who argue by 2030 we could be facing increased sea levels and flooding due to glacial melt at the poles.                                         \n",
       "239  While the world is in turmoil and falling apart in so many different ways especially with ISIS, our President is worried about global warming–what a ridiculous situation.                             \n",
       "242  Global warming is real, because the rise of terrorism tracks with their â adjusted â climate data.                                                                                                 \n",
       "246  The magnitude of the dryness is well beyond what global warming would be able to do so far.                                                                                                            \n",
       "262  The low number is derived from a method that did not take account of the way global warming had sped up since the 1970s.                                                                               \n",
       "270  Global warming won't cause immediate flooding on every coast.                                                                                                                                          \n",
       "285  There are a \"tremendous number of factors\" influencing global climate, and outlandish predictions almost always turn out to be false.                                                                  \n",
       "295  Ice at both ends of the Earth is melting far faster, and oceans are warming far faster, than previously thought, suggesting that scientific estimates of a warming planet have been too conservative.  \n",
       "297  Global warming is beneficial to the welfare and business.                                                                                                                                              \n",
       "306  Human activity is the main cause of global warming, while the other investigation reveals widespread political interference in federal climate science here in the United States.                      \n",
       "307  Ultimately, global warming has become the sole focus of so much environmental discussion that it risks eclipsing much more pressing and demonstrable environmental problems.                           "
      ]
     },
     "execution_count": 172,
     "metadata": {},
     "output_type": "execute_result"
    }
   ],
   "source": [
    "opp_preds"
   ]
  },
  {
   "cell_type": "code",
   "execution_count": 173,
   "metadata": {},
   "outputs": [],
   "source": [
    "false_neutrals = bad_preds[bad_preds.predicted == 0]\n",
    "false_agrees = bad_preds[bad_preds.predicted == 1]\n",
    "false_disagrees = bad_preds[bad_preds.predicted == -1]\n",
    "true_neutrals = good_preds[good_preds.predicted == 0]\n",
    "true_agrees = good_preds[good_preds.predicted == 1]\n",
    "true_disagrees = good_preds[good_preds.predicted == -1]"
   ]
  },
  {
   "cell_type": "code",
   "execution_count": 175,
   "metadata": {},
   "outputs": [
    {
     "data": {
      "text/plain": [
       "0.15030674846625766"
      ]
     },
     "execution_count": 175,
     "metadata": {},
     "output_type": "execute_result"
    }
   ],
   "source": [
    "len(false_agrees)/len(mturk_only_preds)"
   ]
  },
  {
   "cell_type": "code",
   "execution_count": 176,
   "metadata": {},
   "outputs": [
    {
     "data": {
      "text/plain": [
       "84"
      ]
     },
     "execution_count": 176,
     "metadata": {},
     "output_type": "execute_result"
    }
   ],
   "source": [
    "len(true_agrees)"
   ]
  },
  {
   "cell_type": "code",
   "execution_count": 177,
   "metadata": {
    "scrolled": true
   },
   "outputs": [
    {
     "data": {
      "text/plain": [
       " 0    28\n",
       "-1    21\n",
       "Name: true, dtype: int64"
      ]
     },
     "execution_count": 177,
     "metadata": {},
     "output_type": "execute_result"
    }
   ],
   "source": [
    "false_agrees.true.value_counts()"
   ]
  },
  {
   "cell_type": "code",
   "execution_count": 179,
   "metadata": {},
   "outputs": [
    {
     "data": {
      "text/plain": [
       "0.08895705521472393"
      ]
     },
     "execution_count": 179,
     "metadata": {},
     "output_type": "execute_result"
    }
   ],
   "source": [
    "len(false_disagrees)/len(mturk_only_preds)"
   ]
  },
  {
   "cell_type": "code",
   "execution_count": 180,
   "metadata": {},
   "outputs": [
    {
     "data": {
      "text/plain": [
       "27"
      ]
     },
     "execution_count": 180,
     "metadata": {},
     "output_type": "execute_result"
    }
   ],
   "source": [
    "len(true_disagrees)"
   ]
  },
  {
   "cell_type": "code",
   "execution_count": 181,
   "metadata": {},
   "outputs": [
    {
     "data": {
      "text/plain": [
       "0    15\n",
       "1    14\n",
       "Name: true, dtype: int64"
      ]
     },
     "execution_count": 181,
     "metadata": {},
     "output_type": "execute_result"
    }
   ],
   "source": [
    "false_disagrees.true.value_counts()"
   ]
  },
  {
   "cell_type": "code",
   "execution_count": 182,
   "metadata": {},
   "outputs": [
    {
     "data": {
      "text/plain": [
       "0.13496932515337423"
      ]
     },
     "execution_count": 182,
     "metadata": {},
     "output_type": "execute_result"
    }
   ],
   "source": [
    "len(false_neutrals)/len(mturk_only_preds)"
   ]
  },
  {
   "cell_type": "code",
   "execution_count": 183,
   "metadata": {},
   "outputs": [
    {
     "data": {
      "text/plain": [
       "93"
      ]
     },
     "execution_count": 183,
     "metadata": {},
     "output_type": "execute_result"
    }
   ],
   "source": [
    "len(true_neutrals)"
   ]
  },
  {
   "cell_type": "code",
   "execution_count": 184,
   "metadata": {},
   "outputs": [
    {
     "data": {
      "text/plain": [
       " 1    35\n",
       "-1    9 \n",
       "Name: true, dtype: int64"
      ]
     },
     "execution_count": 184,
     "metadata": {},
     "output_type": "execute_result"
    }
   ],
   "source": [
    "false_neutrals.true.value_counts()"
   ]
  },
  {
   "cell_type": "code",
   "execution_count": null,
   "metadata": {},
   "outputs": [],
   "source": []
  },
  {
   "cell_type": "code",
   "execution_count": null,
   "metadata": {},
   "outputs": [],
   "source": []
  },
  {
   "cell_type": "markdown",
   "metadata": {},
   "source": [
    "BERT Trained on all data:"
   ]
  },
  {
   "cell_type": "code",
   "execution_count": 131,
   "metadata": {},
   "outputs": [
    {
     "data": {
      "text/plain": [
       "0.25"
      ]
     },
     "execution_count": 131,
     "metadata": {},
     "output_type": "execute_result"
    }
   ],
   "source": [
    "len(opp_preds[opp_preds.true == 1])/len(opp_preds)"
   ]
  },
  {
   "cell_type": "code",
   "execution_count": 132,
   "metadata": {},
   "outputs": [
    {
     "data": {
      "text/plain": [
       "0.75"
      ]
     },
     "execution_count": 132,
     "metadata": {},
     "output_type": "execute_result"
    }
   ],
   "source": [
    "len(opp_preds[opp_preds.true == -1])/len(opp_preds)"
   ]
  },
  {
   "cell_type": "code",
   "execution_count": 119,
   "metadata": {
    "scrolled": true
   },
   "outputs": [
    {
     "data": {
      "text/html": [
       "<div>\n",
       "<style scoped>\n",
       "    .dataframe tbody tr th:only-of-type {\n",
       "        vertical-align: middle;\n",
       "    }\n",
       "\n",
       "    .dataframe tbody tr th {\n",
       "        vertical-align: top;\n",
       "    }\n",
       "\n",
       "    .dataframe thead th {\n",
       "        text-align: right;\n",
       "    }\n",
       "</style>\n",
       "<table border=\"1\" class=\"dataframe\">\n",
       "  <thead>\n",
       "    <tr style=\"text-align: right;\">\n",
       "      <th></th>\n",
       "      <th>true</th>\n",
       "      <th>predicted</th>\n",
       "      <th>sentence</th>\n",
       "    </tr>\n",
       "  </thead>\n",
       "  <tbody>\n",
       "    <tr>\n",
       "      <td>13</td>\n",
       "      <td>-1</td>\n",
       "      <td>1</td>\n",
       "      <td>This a sneaky way to cover up the reality that global warming is a sham.</td>\n",
       "    </tr>\n",
       "    <tr>\n",
       "      <td>17</td>\n",
       "      <td>-1</td>\n",
       "      <td>1</td>\n",
       "      <td>An increase in C02 emissions from fossil fuels will be a great benefit to plant and animal life on Earth.</td>\n",
       "    </tr>\n",
       "    <tr>\n",
       "      <td>42</td>\n",
       "      <td>-1</td>\n",
       "      <td>1</td>\n",
       "      <td>Global warming idiots out of danger.</td>\n",
       "    </tr>\n",
       "    <tr>\n",
       "      <td>49</td>\n",
       "      <td>-1</td>\n",
       "      <td>1</td>\n",
       "      <td>The world may have already begun to cool in response to a weakening Sun, a phenomenon far more dangerous than any possible human-induced warming.</td>\n",
       "    </tr>\n",
       "    <tr>\n",
       "      <td>50</td>\n",
       "      <td>-1</td>\n",
       "      <td>1</td>\n",
       "      <td>Global warming helps plants — and thus also helps humans and animals .</td>\n",
       "    </tr>\n",
       "    <tr>\n",
       "      <td>58</td>\n",
       "      <td>-1</td>\n",
       "      <td>1</td>\n",
       "      <td>There is a rush to judgment that every time something happens it’s because of global warming.</td>\n",
       "    </tr>\n",
       "    <tr>\n",
       "      <td>60</td>\n",
       "      <td>-1</td>\n",
       "      <td>1</td>\n",
       "      <td>For example, stressing the idea that human activity is behind global warming can be counterproductive.</td>\n",
       "    </tr>\n",
       "    <tr>\n",
       "      <td>86</td>\n",
       "      <td>-1</td>\n",
       "      <td>1</td>\n",
       "      <td>Global warming is a relatively distant threat.</td>\n",
       "    </tr>\n",
       "    <tr>\n",
       "      <td>88</td>\n",
       "      <td>-1</td>\n",
       "      <td>1</td>\n",
       "      <td>Satellite data disputes global warming.</td>\n",
       "    </tr>\n",
       "    <tr>\n",
       "      <td>98</td>\n",
       "      <td>-1</td>\n",
       "      <td>1</td>\n",
       "      <td>Even in liberal states doubt global warming is caused mostly by human carbon emissions.</td>\n",
       "    </tr>\n",
       "    <tr>\n",
       "      <td>103</td>\n",
       "      <td>-1</td>\n",
       "      <td>1</td>\n",
       "      <td>The economic consequences of cutting carbon too quickly will outweigh the short-term benefit to the environment.</td>\n",
       "    </tr>\n",
       "    <tr>\n",
       "      <td>111</td>\n",
       "      <td>1</td>\n",
       "      <td>-1</td>\n",
       "      <td>The ridiculously warm temperatures in the Arctic during October and November this year this year are off the charts over our 68 years of measurements.</td>\n",
       "    </tr>\n",
       "    <tr>\n",
       "      <td>116</td>\n",
       "      <td>-1</td>\n",
       "      <td>1</td>\n",
       "      <td>Global warming global warming is natural.</td>\n",
       "    </tr>\n",
       "    <tr>\n",
       "      <td>120</td>\n",
       "      <td>-1</td>\n",
       "      <td>1</td>\n",
       "      <td>The shoddy and absurd climate change plan.</td>\n",
       "    </tr>\n",
       "    <tr>\n",
       "      <td>136</td>\n",
       "      <td>-1</td>\n",
       "      <td>1</td>\n",
       "      <td>Better models are needed before exceptional events can be reliably linked to global warming.</td>\n",
       "    </tr>\n",
       "    <tr>\n",
       "      <td>139</td>\n",
       "      <td>-1</td>\n",
       "      <td>1</td>\n",
       "      <td>We can only fix climate change by destroying the economy or our personal liberties.</td>\n",
       "    </tr>\n",
       "    <tr>\n",
       "      <td>155</td>\n",
       "      <td>-1</td>\n",
       "      <td>1</td>\n",
       "      <td>Publishing papers on climate change in academic literature based on flawed methods is a formula.</td>\n",
       "    </tr>\n",
       "    <tr>\n",
       "      <td>168</td>\n",
       "      <td>1</td>\n",
       "      <td>-1</td>\n",
       "      <td>Climate change is exacerbating drought in Texas, rapidly rising sea levels along the Atlantic coast and higher storm surges caused by hurricanes in states like Florida and Louisiana.</td>\n",
       "    </tr>\n",
       "    <tr>\n",
       "      <td>191</td>\n",
       "      <td>1</td>\n",
       "      <td>-1</td>\n",
       "      <td>Global warming is caused due to human activity, and only 44 percent believe it to be a “very serious problem” versus 90 percent of Brazilians, 68 percent of the French and 65 percent of the Japanese population.</td>\n",
       "    </tr>\n",
       "    <tr>\n",
       "      <td>192</td>\n",
       "      <td>1</td>\n",
       "      <td>-1</td>\n",
       "      <td>Climate change is a man-made problem, which is why women should rule the world.</td>\n",
       "    </tr>\n",
       "    <tr>\n",
       "      <td>202</td>\n",
       "      <td>-1</td>\n",
       "      <td>1</td>\n",
       "      <td>The rate of ice loss expected for warming of 1.6 degrees is slow, occurring over 50,000 years.</td>\n",
       "    </tr>\n",
       "    <tr>\n",
       "      <td>213</td>\n",
       "      <td>-1</td>\n",
       "      <td>1</td>\n",
       "      <td>I'd have more today about the climate change insanity.</td>\n",
       "    </tr>\n",
       "    <tr>\n",
       "      <td>234</td>\n",
       "      <td>-1</td>\n",
       "      <td>1</td>\n",
       "      <td>Two extremely broad propositions – carbon dioxide is a “greenhouse gas,” and human activity has warmed the planet to some extent – tallied up the papers in their survey sample that agreed with these propositions to even the slightest degree, and manufactured the “97 percent consensus” factoid.</td>\n",
       "    </tr>\n",
       "    <tr>\n",
       "      <td>236</td>\n",
       "      <td>1</td>\n",
       "      <td>-1</td>\n",
       "      <td>It does not include a discussion on climate change, which is an outrage.</td>\n",
       "    </tr>\n",
       "    <tr>\n",
       "      <td>239</td>\n",
       "      <td>1</td>\n",
       "      <td>-1</td>\n",
       "      <td>The early 21st-century drought that afflicted Central Asia is the worst in Mongolia in more than 1,000 years, and made harsher by the higher temperatures consistent with man-made global warming.</td>\n",
       "    </tr>\n",
       "    <tr>\n",
       "      <td>242</td>\n",
       "      <td>1</td>\n",
       "      <td>-1</td>\n",
       "      <td>Climate change has been driven by runaway human consumption, much of which is based on want (comfort, convenience, entertainment), not need.</td>\n",
       "    </tr>\n",
       "    <tr>\n",
       "      <td>243</td>\n",
       "      <td>1</td>\n",
       "      <td>-1</td>\n",
       "      <td>Global warming is worse than terrorism.</td>\n",
       "    </tr>\n",
       "    <tr>\n",
       "      <td>251</td>\n",
       "      <td>-1</td>\n",
       "      <td>1</td>\n",
       "      <td>It's delusional to propose a carbon tax right now.</td>\n",
       "    </tr>\n",
       "    <tr>\n",
       "      <td>252</td>\n",
       "      <td>-1</td>\n",
       "      <td>1</td>\n",
       "      <td>Reining in carbon emissions is both futile and unnecessary, and that money is better spent adapting to what he says will be moderately higher temperatures.</td>\n",
       "    </tr>\n",
       "    <tr>\n",
       "      <td>268</td>\n",
       "      <td>-1</td>\n",
       "      <td>1</td>\n",
       "      <td>Carbon offsets do more harm than help for native peoples.</td>\n",
       "    </tr>\n",
       "    <tr>\n",
       "      <td>274</td>\n",
       "      <td>-1</td>\n",
       "      <td>1</td>\n",
       "      <td>Temperatures in the Antarctic Peninsula had been falling steadily for the last 18 years at the rate of nearly one degree Fahrenheit per decade, countering earlier warming trends and completely undermining one of the most cited cases of rapid climate change.</td>\n",
       "    </tr>\n",
       "    <tr>\n",
       "      <td>275</td>\n",
       "      <td>-1</td>\n",
       "      <td>1</td>\n",
       "      <td>But only half of the carbon dioxide stays up there.</td>\n",
       "    </tr>\n",
       "    <tr>\n",
       "      <td>319</td>\n",
       "      <td>-1</td>\n",
       "      <td>1</td>\n",
       "      <td>The non-climatic effects of carbon dioxide as a sustainer of wildlife and crop plants are enormously beneficial, that the possibly harmful climatic effects of carbon dioxide have been greatly exaggerated, and that the benefits clearly outweigh the possible damage.</td>\n",
       "    </tr>\n",
       "    <tr>\n",
       "      <td>336</td>\n",
       "      <td>-1</td>\n",
       "      <td>1</td>\n",
       "      <td>I am also old enough to remember when Climate Change was called Global Warming and then had to be re-branded because God made it snow every time Al Gore gave a speech.</td>\n",
       "    </tr>\n",
       "    <tr>\n",
       "      <td>342</td>\n",
       "      <td>1</td>\n",
       "      <td>-1</td>\n",
       "      <td>The level of carbon dioxide in the atmosphere has never been higher.</td>\n",
       "    </tr>\n",
       "    <tr>\n",
       "      <td>351</td>\n",
       "      <td>1</td>\n",
       "      <td>-1</td>\n",
       "      <td>The issue of global warming's the height of arrogance for human beings to think that they can control the weather.</td>\n",
       "    </tr>\n",
       "    <tr>\n",
       "      <td>358</td>\n",
       "      <td>-1</td>\n",
       "      <td>1</td>\n",
       "      <td>By now there should have been global warming equivalent to 2.8 degrees / century.</td>\n",
       "    </tr>\n",
       "    <tr>\n",
       "      <td>392</td>\n",
       "      <td>-1</td>\n",
       "      <td>1</td>\n",
       "      <td>Strengthening Australia's carbon emission reduction targets will damage the economy.</td>\n",
       "    </tr>\n",
       "    <tr>\n",
       "      <td>395</td>\n",
       "      <td>-1</td>\n",
       "      <td>1</td>\n",
       "      <td>Then there is climate change, which has ratcheted up the opportunity cost of every conflict.</td>\n",
       "    </tr>\n",
       "    <tr>\n",
       "      <td>406</td>\n",
       "      <td>-1</td>\n",
       "      <td>1</td>\n",
       "      <td>Our need to focus on it and on jobs and not worry so much about global warming.</td>\n",
       "    </tr>\n",
       "  </tbody>\n",
       "</table>\n",
       "</div>"
      ],
      "text/plain": [
       "     true  predicted  \\\n",
       "13  -1     1           \n",
       "17  -1     1           \n",
       "42  -1     1           \n",
       "49  -1     1           \n",
       "50  -1     1           \n",
       "58  -1     1           \n",
       "60  -1     1           \n",
       "86  -1     1           \n",
       "88  -1     1           \n",
       "98  -1     1           \n",
       "103 -1     1           \n",
       "111  1    -1           \n",
       "116 -1     1           \n",
       "120 -1     1           \n",
       "136 -1     1           \n",
       "139 -1     1           \n",
       "155 -1     1           \n",
       "168  1    -1           \n",
       "191  1    -1           \n",
       "192  1    -1           \n",
       "202 -1     1           \n",
       "213 -1     1           \n",
       "234 -1     1           \n",
       "236  1    -1           \n",
       "239  1    -1           \n",
       "242  1    -1           \n",
       "243  1    -1           \n",
       "251 -1     1           \n",
       "252 -1     1           \n",
       "268 -1     1           \n",
       "274 -1     1           \n",
       "275 -1     1           \n",
       "319 -1     1           \n",
       "336 -1     1           \n",
       "342  1    -1           \n",
       "351  1    -1           \n",
       "358 -1     1           \n",
       "392 -1     1           \n",
       "395 -1     1           \n",
       "406 -1     1           \n",
       "\n",
       "                                                                                                                                                                                                                                                                                                   sentence  \n",
       "13   This a sneaky way to cover up the reality that global warming is a sham.                                                                                                                                                                                                                                \n",
       "17   An increase in C02 emissions from fossil fuels will be a great benefit to plant and animal life on Earth.                                                                                                                                                                                               \n",
       "42   Global warming idiots out of danger.                                                                                                                                                                                                                                                                    \n",
       "49   The world may have already begun to cool in response to a weakening Sun, a phenomenon far more dangerous than any possible human-induced warming.                                                                                                                                                       \n",
       "50   Global warming helps plants — and thus also helps humans and animals .                                                                                                                                                                                                                                  \n",
       "58   There is a rush to judgment that every time something happens it’s because of global warming.                                                                                                                                                                                                           \n",
       "60   For example, stressing the idea that human activity is behind global warming can be counterproductive.                                                                                                                                                                                                  \n",
       "86   Global warming is a relatively distant threat.                                                                                                                                                                                                                                                          \n",
       "88   Satellite data disputes global warming.                                                                                                                                                                                                                                                                 \n",
       "98   Even in liberal states doubt global warming is caused mostly by human carbon emissions.                                                                                                                                                                                                                 \n",
       "103  The economic consequences of cutting carbon too quickly will outweigh the short-term benefit to the environment.                                                                                                                                                                                        \n",
       "111  The ridiculously warm temperatures in the Arctic during October and November this year this year are off the charts over our 68 years of measurements.                                                                                                                                                  \n",
       "116  Global warming global warming is natural.                                                                                                                                                                                                                                                               \n",
       "120  The shoddy and absurd climate change plan.                                                                                                                                                                                                                                                              \n",
       "136  Better models are needed before exceptional events can be reliably linked to global warming.                                                                                                                                                                                                            \n",
       "139  We can only fix climate change by destroying the economy or our personal liberties.                                                                                                                                                                                                                     \n",
       "155  Publishing papers on climate change in academic literature based on flawed methods is a formula.                                                                                                                                                                                                        \n",
       "168  Climate change is exacerbating drought in Texas, rapidly rising sea levels along the Atlantic coast and higher storm surges caused by hurricanes in states like Florida and Louisiana.                                                                                                                  \n",
       "191  Global warming is caused due to human activity, and only 44 percent believe it to be a “very serious problem” versus 90 percent of Brazilians, 68 percent of the French and 65 percent of the Japanese population.                                                                                      \n",
       "192  Climate change is a man-made problem, which is why women should rule the world.                                                                                                                                                                                                                         \n",
       "202  The rate of ice loss expected for warming of 1.6 degrees is slow, occurring over 50,000 years.                                                                                                                                                                                                          \n",
       "213  I'd have more today about the climate change insanity.                                                                                                                                                                                                                                                  \n",
       "234  Two extremely broad propositions – carbon dioxide is a “greenhouse gas,” and human activity has warmed the planet to some extent – tallied up the papers in their survey sample that agreed with these propositions to even the slightest degree, and manufactured the “97 percent consensus” factoid.  \n",
       "236  It does not include a discussion on climate change, which is an outrage.                                                                                                                                                                                                                                \n",
       "239  The early 21st-century drought that afflicted Central Asia is the worst in Mongolia in more than 1,000 years, and made harsher by the higher temperatures consistent with man-made global warming.                                                                                                      \n",
       "242  Climate change has been driven by runaway human consumption, much of which is based on want (comfort, convenience, entertainment), not need.                                                                                                                                                            \n",
       "243  Global warming is worse than terrorism.                                                                                                                                                                                                                                                                 \n",
       "251  It's delusional to propose a carbon tax right now.                                                                                                                                                                                                                                                      \n",
       "252  Reining in carbon emissions is both futile and unnecessary, and that money is better spent adapting to what he says will be moderately higher temperatures.                                                                                                                                             \n",
       "268  Carbon offsets do more harm than help for native peoples.                                                                                                                                                                                                                                               \n",
       "274  Temperatures in the Antarctic Peninsula had been falling steadily for the last 18 years at the rate of nearly one degree Fahrenheit per decade, countering earlier warming trends and completely undermining one of the most cited cases of rapid climate change.                                       \n",
       "275  But only half of the carbon dioxide stays up there.                                                                                                                                                                                                                                                     \n",
       "319  The non-climatic effects of carbon dioxide as a sustainer of wildlife and crop plants are enormously beneficial, that the possibly harmful climatic effects of carbon dioxide have been greatly exaggerated, and that the benefits clearly outweigh the possible damage.                                \n",
       "336  I am also old enough to remember when Climate Change was called Global Warming and then had to be re-branded because God made it snow every time Al Gore gave a speech.                                                                                                                                 \n",
       "342  The level of carbon dioxide in the atmosphere has never been higher.                                                                                                                                                                                                                                    \n",
       "351  The issue of global warming's the height of arrogance for human beings to think that they can control the weather.                                                                                                                                                                                      \n",
       "358  By now there should have been global warming equivalent to 2.8 degrees / century.                                                                                                                                                                                                                       \n",
       "392  Strengthening Australia's carbon emission reduction targets will damage the economy.                                                                                                                                                                                                                    \n",
       "395  Then there is climate change, which has ratcheted up the opportunity cost of every conflict.                                                                                                                                                                                                            \n",
       "406  Our need to focus on it and on jobs and not worry so much about global warming.                                                                                                                                                                                                                         "
      ]
     },
     "execution_count": 119,
     "metadata": {},
     "output_type": "execute_result"
    }
   ],
   "source": [
    "opp_preds"
   ]
  },
  {
   "cell_type": "code",
   "execution_count": 120,
   "metadata": {},
   "outputs": [],
   "source": [
    "false_neutrals = bad_preds[bad_preds.predicted == 0]\n",
    "false_agrees = bad_preds[bad_preds.predicted == 1]\n",
    "false_disagrees = bad_preds[bad_preds.predicted == -1]\n",
    "true_neutrals = good_preds[good_preds.predicted == 0]\n",
    "true_agrees = good_preds[good_preds.predicted == 1]\n",
    "true_disagrees = good_preds[good_preds.predicted == -1]"
   ]
  },
  {
   "cell_type": "code",
   "execution_count": 121,
   "metadata": {},
   "outputs": [
    {
     "data": {
      "text/plain": [
       "0.3857493857493858"
      ]
     },
     "execution_count": 121,
     "metadata": {},
     "output_type": "execute_result"
    }
   ],
   "source": [
    "len(false_agrees)/407."
   ]
  },
  {
   "cell_type": "code",
   "execution_count": 122,
   "metadata": {},
   "outputs": [
    {
     "data": {
      "text/plain": [
       "132"
      ]
     },
     "execution_count": 122,
     "metadata": {},
     "output_type": "execute_result"
    }
   ],
   "source": [
    "len(true_agrees)"
   ]
  },
  {
   "cell_type": "code",
   "execution_count": 123,
   "metadata": {},
   "outputs": [
    {
     "data": {
      "text/plain": [
       " 0    127\n",
       "-1    30 \n",
       "Name: true, dtype: int64"
      ]
     },
     "execution_count": 123,
     "metadata": {},
     "output_type": "execute_result"
    }
   ],
   "source": [
    "false_agrees.true.value_counts()"
   ]
  },
  {
   "cell_type": "code",
   "execution_count": 124,
   "metadata": {},
   "outputs": [
    {
     "data": {
      "text/plain": [
       "0.07616707616707617"
      ]
     },
     "execution_count": 124,
     "metadata": {},
     "output_type": "execute_result"
    }
   ],
   "source": [
    "len(false_disagrees)/407"
   ]
  },
  {
   "cell_type": "code",
   "execution_count": 125,
   "metadata": {},
   "outputs": [
    {
     "data": {
      "text/plain": [
       "30"
      ]
     },
     "execution_count": 125,
     "metadata": {},
     "output_type": "execute_result"
    }
   ],
   "source": [
    "len(true_disagrees)"
   ]
  },
  {
   "cell_type": "code",
   "execution_count": 126,
   "metadata": {},
   "outputs": [
    {
     "data": {
      "text/plain": [
       "0    21\n",
       "1    10\n",
       "Name: true, dtype: int64"
      ]
     },
     "execution_count": 126,
     "metadata": {},
     "output_type": "execute_result"
    }
   ],
   "source": [
    "false_disagrees.true.value_counts()"
   ]
  },
  {
   "cell_type": "code",
   "execution_count": 127,
   "metadata": {},
   "outputs": [
    {
     "data": {
      "text/plain": [
       "0.04668304668304668"
      ]
     },
     "execution_count": 127,
     "metadata": {},
     "output_type": "execute_result"
    }
   ],
   "source": [
    "len(false_neutrals)/407"
   ]
  },
  {
   "cell_type": "code",
   "execution_count": 129,
   "metadata": {},
   "outputs": [
    {
     "data": {
      "text/plain": [
       "38"
      ]
     },
     "execution_count": 129,
     "metadata": {},
     "output_type": "execute_result"
    }
   ],
   "source": [
    "len(true_neutrals)"
   ]
  },
  {
   "cell_type": "code",
   "execution_count": 128,
   "metadata": {},
   "outputs": [
    {
     "data": {
      "text/plain": [
       " 1    13\n",
       "-1    6 \n",
       "Name: true, dtype: int64"
      ]
     },
     "execution_count": 128,
     "metadata": {},
     "output_type": "execute_result"
    }
   ],
   "source": [
    "false_neutrals.true.value_counts()"
   ]
  },
  {
   "cell_type": "code",
   "execution_count": null,
   "metadata": {},
   "outputs": [],
   "source": []
  },
  {
   "cell_type": "code",
   "execution_count": null,
   "metadata": {},
   "outputs": [],
   "source": []
  },
  {
   "cell_type": "code",
   "execution_count": null,
   "metadata": {},
   "outputs": [],
   "source": []
  },
  {
   "cell_type": "markdown",
   "metadata": {},
   "source": [
    "# GPT(?) predictions "
   ]
  },
  {
   "cell_type": "code",
   "execution_count": 51,
   "metadata": {
    "scrolled": true
   },
   "outputs": [
    {
     "name": "stderr",
     "output_type": "stream",
     "text": [
      "/anaconda3/lib/python3.7/site-packages/ipykernel_launcher.py:1: SettingWithCopyWarning: \n",
      "A value is trying to be set on a copy of a slice from a DataFrame.\n",
      "Try using .loc[row_indexer,col_indexer] = value instead\n",
      "\n",
      "See the caveats in the documentation: http://pandas.pydata.org/pandas-docs/stable/user_guide/indexing.html#returning-a-view-versus-a-copy\n",
      "  \"\"\"Entry point for launching an IPython kernel.\n",
      "/anaconda3/lib/python3.7/site-packages/ipykernel_launcher.py:2: SettingWithCopyWarning: \n",
      "A value is trying to be set on a copy of a slice from a DataFrame.\n",
      "Try using .loc[row_indexer,col_indexer] = value instead\n",
      "\n",
      "See the caveats in the documentation: http://pandas.pydata.org/pandas-docs/stable/user_guide/indexing.html#returning-a-view-versus-a-copy\n",
      "  \n",
      "/anaconda3/lib/python3.7/site-packages/ipykernel_launcher.py:3: SettingWithCopyWarning: \n",
      "A value is trying to be set on a copy of a slice from a DataFrame.\n",
      "Try using .loc[row_indexer,col_indexer] = value instead\n",
      "\n",
      "See the caveats in the documentation: http://pandas.pydata.org/pandas-docs/stable/user_guide/indexing.html#returning-a-view-versus-a-copy\n",
      "  This is separate from the ipykernel package so we can avoid doing imports until\n",
      "/anaconda3/lib/python3.7/site-packages/ipykernel_launcher.py:4: SettingWithCopyWarning: \n",
      "A value is trying to be set on a copy of a slice from a DataFrame.\n",
      "Try using .loc[row_indexer,col_indexer] = value instead\n",
      "\n",
      "See the caveats in the documentation: http://pandas.pydata.org/pandas-docs/stable/user_guide/indexing.html#returning-a-view-versus-a-copy\n",
      "  after removing the cwd from sys.path.\n"
     ]
    }
   ],
   "source": [
    "bad_preds['true_stance'] = bad_preds['true_stance'].apply(to_int)\n",
    "bad_preds['pred_stance'] = bad_preds['pred_stance'].apply(to_int)\n",
    "good_preds['true_stance'] = good_preds['true_stance'].apply(to_int)\n",
    "good_preds['pred_stance'] = good_preds['pred_stance'].apply(to_int)"
   ]
  },
  {
   "cell_type": "code",
   "execution_count": 46,
   "metadata": {},
   "outputs": [],
   "source": [
    "bad_preds = preds[preds.true_stance != preds.pred_stance]\n",
    "good_preds = preds[preds.true_stance == preds.pred_stance]\n",
    "opp_preds = bad_preds[bad_preds.true_stance == bad_preds.pred_stance*-1]"
   ]
  },
  {
   "cell_type": "code",
   "execution_count": 47,
   "metadata": {
    "scrolled": true
   },
   "outputs": [
    {
     "data": {
      "text/plain": [
       "(111, 4)"
      ]
     },
     "execution_count": 47,
     "metadata": {},
     "output_type": "execute_result"
    }
   ],
   "source": [
    "bad_preds.shape"
   ]
  },
  {
   "cell_type": "code",
   "execution_count": 48,
   "metadata": {
    "scrolled": true
   },
   "outputs": [
    {
     "data": {
      "text/plain": [
       "(53, 4)"
      ]
     },
     "execution_count": 48,
     "metadata": {},
     "output_type": "execute_result"
    }
   ],
   "source": [
    "good_preds.shape"
   ]
  },
  {
   "cell_type": "code",
   "execution_count": 54,
   "metadata": {},
   "outputs": [
    {
     "data": {
      "text/plain": [
       "(22, 4)"
      ]
     },
     "execution_count": 54,
     "metadata": {},
     "output_type": "execute_result"
    }
   ],
   "source": [
    "opp_preds.shape"
   ]
  },
  {
   "cell_type": "code",
   "execution_count": 55,
   "metadata": {},
   "outputs": [],
   "source": [
    "false_neutrals = bad_preds[bad_preds.pred_stance == 0]\n",
    "false_agrees = bad_preds[bad_preds.pred_stance == 1]\n",
    "false_disagrees = bad_preds[bad_preds.pred_stance == -1]\n",
    "true_neutrals = good_preds[good_preds.pred_stance == 0]\n",
    "true_agrees = good_preds[good_preds.pred_stance == 1]\n",
    "true_disagrees = good_preds[good_preds.pred_stance == -1]"
   ]
  },
  {
   "cell_type": "markdown",
   "metadata": {},
   "source": [
    "27% of predictions were false \"agrees\". More \"neutrals\" than \"disagrees\" were falsely predicted.\n",
    "There were 19 true agrees."
   ]
  },
  {
   "cell_type": "code",
   "execution_count": 31,
   "metadata": {},
   "outputs": [
    {
     "data": {
      "text/plain": [
       "0.27439024390243905"
      ]
     },
     "execution_count": 31,
     "metadata": {},
     "output_type": "execute_result"
    }
   ],
   "source": [
    "len(false_agrees)/164"
   ]
  },
  {
   "cell_type": "code",
   "execution_count": 41,
   "metadata": {},
   "outputs": [
    {
     "data": {
      "text/plain": [
       "19"
      ]
     },
     "execution_count": 41,
     "metadata": {},
     "output_type": "execute_result"
    }
   ],
   "source": [
    "len(true_agrees)"
   ]
  },
  {
   "cell_type": "code",
   "execution_count": 33,
   "metadata": {},
   "outputs": [
    {
     "data": {
      "text/plain": [
       " 0    33\n",
       "-1    12\n",
       "Name: true_stance, dtype: int64"
      ]
     },
     "execution_count": 33,
     "metadata": {},
     "output_type": "execute_result"
    }
   ],
   "source": [
    "false_agrees.true_stance.value_counts()"
   ]
  },
  {
   "cell_type": "markdown",
   "metadata": {},
   "source": [
    "13% of predictions were false \"disagrees\". About equal numbers of \"agrees\" and \"neutrals\" were falsely predicted. There were 7 true disagrees. "
   ]
  },
  {
   "cell_type": "code",
   "execution_count": 57,
   "metadata": {},
   "outputs": [
    {
     "data": {
      "text/plain": [
       "0.12804878048780488"
      ]
     },
     "execution_count": 57,
     "metadata": {},
     "output_type": "execute_result"
    }
   ],
   "source": [
    "len(false_disagrees)/164"
   ]
  },
  {
   "cell_type": "code",
   "execution_count": 58,
   "metadata": {},
   "outputs": [
    {
     "data": {
      "text/plain": [
       "7"
      ]
     },
     "execution_count": 58,
     "metadata": {},
     "output_type": "execute_result"
    }
   ],
   "source": [
    "len(true_disagrees)"
   ]
  },
  {
   "cell_type": "code",
   "execution_count": 59,
   "metadata": {},
   "outputs": [
    {
     "data": {
      "text/plain": [
       "0    11\n",
       "1    10\n",
       "Name: true_stance, dtype: int64"
      ]
     },
     "execution_count": 59,
     "metadata": {},
     "output_type": "execute_result"
    }
   ],
   "source": [
    "false_disagrees.true_stance.value_counts()"
   ]
  },
  {
   "cell_type": "code",
   "execution_count": null,
   "metadata": {},
   "outputs": [],
   "source": []
  },
  {
   "cell_type": "markdown",
   "metadata": {},
   "source": [
    "27% of predictions were false neutrals. More \"agrees\" than \"disagrees\" were getting predicted to be \"neutral\"."
   ]
  },
  {
   "cell_type": "code",
   "execution_count": 27,
   "metadata": {},
   "outputs": [
    {
     "data": {
      "text/plain": [
       "0.27439024390243905"
      ]
     },
     "execution_count": 27,
     "metadata": {},
     "output_type": "execute_result"
    }
   ],
   "source": [
    "len(false_neutrals)/164."
   ]
  },
  {
   "cell_type": "code",
   "execution_count": 28,
   "metadata": {},
   "outputs": [
    {
     "data": {
      "text/plain": [
       " 1    29\n",
       "-1    16\n",
       "Name: true_stance, dtype: int64"
      ]
     },
     "execution_count": 28,
     "metadata": {},
     "output_type": "execute_result"
    }
   ],
   "source": [
    "false_neutrals.true_stance.value_counts()"
   ]
  },
  {
   "cell_type": "markdown",
   "metadata": {},
   "source": [
    "13% of predictions were the opposite of the correct label (e.g., \"agree\" was predicted \"disagree\" or vice versa."
   ]
  },
  {
   "cell_type": "code",
   "execution_count": 61,
   "metadata": {},
   "outputs": [
    {
     "data": {
      "text/plain": [
       "0.13414634146341464"
      ]
     },
     "execution_count": 61,
     "metadata": {},
     "output_type": "execute_result"
    }
   ],
   "source": [
    "len(opp_preds)/164."
   ]
  },
  {
   "cell_type": "markdown",
   "metadata": {},
   "source": [
    "Of this 13%, about half are mistaken \"agrees\" (and the other 55% mistaken \"disagrees\")."
   ]
  },
  {
   "cell_type": "code",
   "execution_count": 24,
   "metadata": {},
   "outputs": [
    {
     "data": {
      "text/plain": [
       "0.45454545454545453"
      ]
     },
     "execution_count": 24,
     "metadata": {},
     "output_type": "execute_result"
    }
   ],
   "source": [
    "len(opp_preds[opp_preds.true_stance == 1])/len(opp_preds)"
   ]
  },
  {
   "cell_type": "code",
   "execution_count": 65,
   "metadata": {
    "scrolled": true
   },
   "outputs": [
    {
     "data": {
      "text/html": [
       "<div>\n",
       "<style scoped>\n",
       "    .dataframe tbody tr th:only-of-type {\n",
       "        vertical-align: middle;\n",
       "    }\n",
       "\n",
       "    .dataframe tbody tr th {\n",
       "        vertical-align: top;\n",
       "    }\n",
       "\n",
       "    .dataframe thead th {\n",
       "        text-align: right;\n",
       "    }\n",
       "</style>\n",
       "<table border=\"1\" class=\"dataframe\">\n",
       "  <thead>\n",
       "    <tr style=\"text-align: right;\">\n",
       "      <th></th>\n",
       "      <th>type</th>\n",
       "      <th>sentence</th>\n",
       "      <th>true_stance</th>\n",
       "      <th>pred_stance</th>\n",
       "    </tr>\n",
       "  </thead>\n",
       "  <tbody>\n",
       "    <tr>\n",
       "      <td>4</td>\n",
       "      <td>mturk</td>\n",
       "      <td>Global warming isn't real Leo.</td>\n",
       "      <td>-1</td>\n",
       "      <td>1</td>\n",
       "    </tr>\n",
       "    <tr>\n",
       "      <td>6</td>\n",
       "      <td>mturk</td>\n",
       "      <td>A combination of factors are at work, including a natural El Nino system, man-made global warming and a dash of random weather.</td>\n",
       "      <td>-1</td>\n",
       "      <td>1</td>\n",
       "    </tr>\n",
       "    <tr>\n",
       "      <td>17</td>\n",
       "      <td>mturk</td>\n",
       "      <td>The paper in no way diminishes the extensive body of observations that global warming is happening and that it is largely due to human activity.</td>\n",
       "      <td>1</td>\n",
       "      <td>-1</td>\n",
       "    </tr>\n",
       "    <tr>\n",
       "      <td>23</td>\n",
       "      <td>mturk</td>\n",
       "      <td>Carbon dioxide fertilizes plants, and emissions from fossil fuels have already had a hugely beneficial effect on crops, increasing yields by at least 10-15 percent.</td>\n",
       "      <td>-1</td>\n",
       "      <td>1</td>\n",
       "    </tr>\n",
       "    <tr>\n",
       "      <td>34</td>\n",
       "      <td>mturk</td>\n",
       "      <td>Global warming is having an impact now.</td>\n",
       "      <td>1</td>\n",
       "      <td>-1</td>\n",
       "    </tr>\n",
       "    <tr>\n",
       "      <td>36</td>\n",
       "      <td>mturk</td>\n",
       "      <td>Man-made climate change isn't solely to blame for tropical storms.</td>\n",
       "      <td>-1</td>\n",
       "      <td>1</td>\n",
       "    </tr>\n",
       "    <tr>\n",
       "      <td>37</td>\n",
       "      <td>mturk</td>\n",
       "      <td>Fossil fuel investments are pretty good bets regardless of the political climate.</td>\n",
       "      <td>-1</td>\n",
       "      <td>1</td>\n",
       "    </tr>\n",
       "    <tr>\n",
       "      <td>58</td>\n",
       "      <td>mturk</td>\n",
       "      <td>The claim made in the 2007 report by the Intergovernmental Panel on Climate Change (IPCC) is unrealistic and the large Himalayan glaciers could not melt in a few decades.</td>\n",
       "      <td>-1</td>\n",
       "      <td>1</td>\n",
       "    </tr>\n",
       "    <tr>\n",
       "      <td>59</td>\n",
       "      <td>mturk</td>\n",
       "      <td>Climate change would be used as an excuse to expand `big government' and lead to a loss of personal freedom.</td>\n",
       "      <td>-1</td>\n",
       "      <td>1</td>\n",
       "    </tr>\n",
       "    <tr>\n",
       "      <td>61</td>\n",
       "      <td>mturk</td>\n",
       "      <td>Global warming is real.</td>\n",
       "      <td>1</td>\n",
       "      <td>-1</td>\n",
       "    </tr>\n",
       "    <tr>\n",
       "      <td>62</td>\n",
       "      <td>mturk</td>\n",
       "      <td>There is a realistic win-win outcome: with the right government policies, we can stimulate investment in green energy, efficient cities, better transportation and the like, which will address climate change as well as make many of our lives better and more comfortable.</td>\n",
       "      <td>1</td>\n",
       "      <td>-1</td>\n",
       "    </tr>\n",
       "    <tr>\n",
       "      <td>95</td>\n",
       "      <td>mturk</td>\n",
       "      <td>Global warming is caused mostly by human carbon emissions.</td>\n",
       "      <td>1</td>\n",
       "      <td>-1</td>\n",
       "    </tr>\n",
       "    <tr>\n",
       "      <td>100</td>\n",
       "      <td>mturk</td>\n",
       "      <td>Global warming is mainly caused by human activity.</td>\n",
       "      <td>1</td>\n",
       "      <td>-1</td>\n",
       "    </tr>\n",
       "    <tr>\n",
       "      <td>101</td>\n",
       "      <td>mturk</td>\n",
       "      <td>The several previous warming periods (called climate optima) directly correlated to fantastic periods of human prosperity and advances.</td>\n",
       "      <td>-1</td>\n",
       "      <td>1</td>\n",
       "    </tr>\n",
       "    <tr>\n",
       "      <td>104</td>\n",
       "      <td>mturk</td>\n",
       "      <td>We are all losing the fight against climate change.</td>\n",
       "      <td>1</td>\n",
       "      <td>-1</td>\n",
       "    </tr>\n",
       "    <tr>\n",
       "      <td>106</td>\n",
       "      <td>mturk</td>\n",
       "      <td>Global warming could eventually reach these levels.</td>\n",
       "      <td>1</td>\n",
       "      <td>-1</td>\n",
       "    </tr>\n",
       "    <tr>\n",
       "      <td>107</td>\n",
       "      <td>mturk</td>\n",
       "      <td>No single epidemic can be attributed wholly to climate change.</td>\n",
       "      <td>-1</td>\n",
       "      <td>1</td>\n",
       "    </tr>\n",
       "    <tr>\n",
       "      <td>111</td>\n",
       "      <td>mturk</td>\n",
       "      <td>In California, however, which is already being ravaged by the heat and drought of climate change.</td>\n",
       "      <td>1</td>\n",
       "      <td>-1</td>\n",
       "    </tr>\n",
       "    <tr>\n",
       "      <td>119</td>\n",
       "      <td>mturk</td>\n",
       "      <td>Global warming is occurring more slowly than computer models forecast a decade ago.</td>\n",
       "      <td>-1</td>\n",
       "      <td>1</td>\n",
       "    </tr>\n",
       "    <tr>\n",
       "      <td>122</td>\n",
       "      <td>mturk</td>\n",
       "      <td>Climate change is a cult.</td>\n",
       "      <td>-1</td>\n",
       "      <td>1</td>\n",
       "    </tr>\n",
       "    <tr>\n",
       "      <td>125</td>\n",
       "      <td>mturk</td>\n",
       "      <td>Most global warming is natural and even if there had been no Industrial Revolution current global temperatures would be almost exactly the same as they are now.</td>\n",
       "      <td>-1</td>\n",
       "      <td>1</td>\n",
       "    </tr>\n",
       "    <tr>\n",
       "      <td>141</td>\n",
       "      <td>mturk</td>\n",
       "      <td>Rising sea levels could force Los Angeles International Airport (LAX) to be moved.</td>\n",
       "      <td>1</td>\n",
       "      <td>-1</td>\n",
       "    </tr>\n",
       "  </tbody>\n",
       "</table>\n",
       "</div>"
      ],
      "text/plain": [
       "      type  \\\n",
       "4    mturk   \n",
       "6    mturk   \n",
       "17   mturk   \n",
       "23   mturk   \n",
       "34   mturk   \n",
       "36   mturk   \n",
       "37   mturk   \n",
       "58   mturk   \n",
       "59   mturk   \n",
       "61   mturk   \n",
       "62   mturk   \n",
       "95   mturk   \n",
       "100  mturk   \n",
       "101  mturk   \n",
       "104  mturk   \n",
       "106  mturk   \n",
       "107  mturk   \n",
       "111  mturk   \n",
       "119  mturk   \n",
       "122  mturk   \n",
       "125  mturk   \n",
       "141  mturk   \n",
       "\n",
       "                                                                                                                                                                                                                                                                          sentence  \\\n",
       "4    Global warming isn't real Leo.                                                                                                                                                                                                                                                  \n",
       "6    A combination of factors are at work, including a natural El Nino system, man-made global warming and a dash of random weather.                                                                                                                                                 \n",
       "17   The paper in no way diminishes the extensive body of observations that global warming is happening and that it is largely due to human activity.                                                                                                                                \n",
       "23   Carbon dioxide fertilizes plants, and emissions from fossil fuels have already had a hugely beneficial effect on crops, increasing yields by at least 10-15 percent.                                                                                                            \n",
       "34   Global warming is having an impact now.                                                                                                                                                                                                                                         \n",
       "36   Man-made climate change isn't solely to blame for tropical storms.                                                                                                                                                                                                              \n",
       "37   Fossil fuel investments are pretty good bets regardless of the political climate.                                                                                                                                                                                               \n",
       "58   The claim made in the 2007 report by the Intergovernmental Panel on Climate Change (IPCC) is unrealistic and the large Himalayan glaciers could not melt in a few decades.                                                                                                      \n",
       "59   Climate change would be used as an excuse to expand `big government' and lead to a loss of personal freedom.                                                                                                                                                                    \n",
       "61   Global warming is real.                                                                                                                                                                                                                                                         \n",
       "62   There is a realistic win-win outcome: with the right government policies, we can stimulate investment in green energy, efficient cities, better transportation and the like, which will address climate change as well as make many of our lives better and more comfortable.   \n",
       "95   Global warming is caused mostly by human carbon emissions.                                                                                                                                                                                                                      \n",
       "100  Global warming is mainly caused by human activity.                                                                                                                                                                                                                              \n",
       "101  The several previous warming periods (called climate optima) directly correlated to fantastic periods of human prosperity and advances.                                                                                                                                         \n",
       "104  We are all losing the fight against climate change.                                                                                                                                                                                                                             \n",
       "106  Global warming could eventually reach these levels.                                                                                                                                                                                                                             \n",
       "107  No single epidemic can be attributed wholly to climate change.                                                                                                                                                                                                                  \n",
       "111  In California, however, which is already being ravaged by the heat and drought of climate change.                                                                                                                                                                               \n",
       "119  Global warming is occurring more slowly than computer models forecast a decade ago.                                                                                                                                                                                             \n",
       "122  Climate change is a cult.                                                                                                                                                                                                                                                       \n",
       "125  Most global warming is natural and even if there had been no Industrial Revolution current global temperatures would be almost exactly the same as they are now.                                                                                                                \n",
       "141  Rising sea levels could force Los Angeles International Airport (LAX) to be moved.                                                                                                                                                                                              \n",
       "\n",
       "     true_stance  pred_stance  \n",
       "4   -1            1            \n",
       "6   -1            1            \n",
       "17   1           -1            \n",
       "23  -1            1            \n",
       "34   1           -1            \n",
       "36  -1            1            \n",
       "37  -1            1            \n",
       "58  -1            1            \n",
       "59  -1            1            \n",
       "61   1           -1            \n",
       "62   1           -1            \n",
       "95   1           -1            \n",
       "100  1           -1            \n",
       "101 -1            1            \n",
       "104  1           -1            \n",
       "106  1           -1            \n",
       "107 -1            1            \n",
       "111  1           -1            \n",
       "119 -1            1            \n",
       "122 -1            1            \n",
       "125 -1            1            \n",
       "141  1           -1            "
      ]
     },
     "execution_count": 65,
     "metadata": {},
     "output_type": "execute_result"
    }
   ],
   "source": [
    "opp_preds"
   ]
  },
  {
   "cell_type": "code",
   "execution_count": 63,
   "metadata": {
    "scrolled": true
   },
   "outputs": [
    {
     "data": {
      "text/plain": [
       "[\"Global warming isn't real Leo.\",\n",
       " 'A combination of factors are at work, including a natural El Nino system, man-made global warming and a dash of random weather.',\n",
       " 'The paper in no way diminishes the extensive body of observations that global warming is happening and that it is largely due to human activity.',\n",
       " 'Carbon dioxide fertilizes plants, and emissions from fossil fuels have already had a hugely beneficial effect on crops, increasing yields by at least 10-15 percent.',\n",
       " 'Global warming is having an impact now.',\n",
       " \"Man-made climate change isn't solely to blame for tropical storms.\",\n",
       " 'Fossil fuel investments are pretty good bets regardless of the political climate.',\n",
       " 'The claim made in the 2007 report by the Intergovernmental Panel on Climate Change (IPCC) is unrealistic and the large Himalayan glaciers could not melt in a few decades.',\n",
       " \"Climate change would be used as an excuse to expand `big government' and lead to a loss of personal freedom.\",\n",
       " 'Global warming is real.',\n",
       " 'There is a realistic win-win outcome: with the right government policies, we can stimulate investment in green energy, efficient cities, better transportation and the like, which will address climate change as well as make many of our lives better and more comfortable.',\n",
       " 'Global warming is caused mostly by human carbon emissions.',\n",
       " 'Global warming is mainly caused by human activity.',\n",
       " 'The several previous warming periods (called climate optima) directly correlated to fantastic periods of human prosperity and advances.',\n",
       " 'We are all losing the fight against climate change.',\n",
       " 'Global warming could eventually reach these levels.',\n",
       " 'No single epidemic can be attributed wholly to climate change.',\n",
       " 'In California, however, which is already being ravaged by the heat and drought of climate change.',\n",
       " 'Global warming is occurring more slowly than computer models forecast a decade ago.',\n",
       " 'Climate change is a cult.',\n",
       " 'Most global warming is natural and even if there had been no Industrial Revolution current global temperatures would be almost exactly the same as they are now.',\n",
       " 'Rising sea levels could force Los Angeles International Airport (LAX) to be moved.']"
      ]
     },
     "execution_count": 63,
     "metadata": {},
     "output_type": "execute_result"
    }
   ],
   "source": [
    "list(opp_preds.sentence)"
   ]
  },
  {
   "cell_type": "code",
   "execution_count": null,
   "metadata": {},
   "outputs": [],
   "source": []
  }
 ],
 "metadata": {
  "kernelspec": {
   "display_name": "Python 3",
   "language": "python",
   "name": "python3"
  },
  "language_info": {
   "codemirror_mode": {
    "name": "ipython",
    "version": 3
   },
   "file_extension": ".py",
   "mimetype": "text/x-python",
   "name": "python",
   "nbconvert_exporter": "python",
   "pygments_lexer": "ipython3",
   "version": "3.7.1"
  }
 },
 "nbformat": 4,
 "nbformat_minor": 2
}
