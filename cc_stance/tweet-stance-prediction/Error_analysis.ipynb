{
 "cells": [
  {
   "cell_type": "code",
   "execution_count": 64,
   "metadata": {},
   "outputs": [],
   "source": [
    "import pandas as pd\n",
    "pd.set_option('display.max_colwidth', -1)\n"
   ]
  },
  {
   "cell_type": "code",
   "execution_count": 50,
   "metadata": {
    "code_folding": [
     0
    ]
   },
   "outputs": [],
   "source": [
    "def to_int(x):\n",
    "    if x == 'neutral':\n",
    "        return 0\n",
    "    elif x == 'disagree':\n",
    "        return -1\n",
    "    else:\n",
    "        return 1"
   ]
  },
  {
   "cell_type": "code",
   "execution_count": 4,
   "metadata": {},
   "outputs": [],
   "source": [
    "preds = pd.read_csv('predicted_defaults.tsv',sep='\\t',header=0)"
   ]
  },
  {
   "cell_type": "code",
   "execution_count": 5,
   "metadata": {},
   "outputs": [
    {
     "data": {
      "text/html": [
       "<div>\n",
       "<style scoped>\n",
       "    .dataframe tbody tr th:only-of-type {\n",
       "        vertical-align: middle;\n",
       "    }\n",
       "\n",
       "    .dataframe tbody tr th {\n",
       "        vertical-align: top;\n",
       "    }\n",
       "\n",
       "    .dataframe thead th {\n",
       "        text-align: right;\n",
       "    }\n",
       "</style>\n",
       "<table border=\"1\" class=\"dataframe\">\n",
       "  <thead>\n",
       "    <tr style=\"text-align: right;\">\n",
       "      <th></th>\n",
       "      <th>type</th>\n",
       "      <th>sentence</th>\n",
       "      <th>true_stance</th>\n",
       "      <th>pred_stance</th>\n",
       "    </tr>\n",
       "  </thead>\n",
       "  <tbody>\n",
       "    <tr>\n",
       "      <td>0</td>\n",
       "      <td>mturk</td>\n",
       "      <td>Submitting the USs 26 to 28 percent emissions ...</td>\n",
       "      <td>neutral</td>\n",
       "      <td>neutral</td>\n",
       "    </tr>\n",
       "    <tr>\n",
       "      <td>1</td>\n",
       "      <td>mturk</td>\n",
       "      <td>On the other hand, the proportion of so-called...</td>\n",
       "      <td>neutral</td>\n",
       "      <td>neutral</td>\n",
       "    </tr>\n",
       "    <tr>\n",
       "      <td>2</td>\n",
       "      <td>mturk</td>\n",
       "      <td>This agreement sends a powerful signal that th...</td>\n",
       "      <td>neutral</td>\n",
       "      <td>agree</td>\n",
       "    </tr>\n",
       "    <tr>\n",
       "      <td>3</td>\n",
       "      <td>mturk</td>\n",
       "      <td>Exxonmobil has spent at least $8 million dolla...</td>\n",
       "      <td>neutral</td>\n",
       "      <td>neutral</td>\n",
       "    </tr>\n",
       "    <tr>\n",
       "      <td>4</td>\n",
       "      <td>mturk</td>\n",
       "      <td>Global warming isn't real Leo.</td>\n",
       "      <td>disagree</td>\n",
       "      <td>agree</td>\n",
       "    </tr>\n",
       "  </tbody>\n",
       "</table>\n",
       "</div>"
      ],
      "text/plain": [
       "    type                                           sentence true_stance  \\\n",
       "0  mturk  Submitting the USs 26 to 28 percent emissions ...     neutral   \n",
       "1  mturk  On the other hand, the proportion of so-called...     neutral   \n",
       "2  mturk  This agreement sends a powerful signal that th...     neutral   \n",
       "3  mturk  Exxonmobil has spent at least $8 million dolla...     neutral   \n",
       "4  mturk                     Global warming isn't real Leo.    disagree   \n",
       "\n",
       "  pred_stance  \n",
       "0     neutral  \n",
       "1     neutral  \n",
       "2       agree  \n",
       "3     neutral  \n",
       "4       agree  "
      ]
     },
     "execution_count": 5,
     "metadata": {},
     "output_type": "execute_result"
    }
   ],
   "source": [
    "preds.head()"
   ]
  },
  {
   "cell_type": "code",
   "execution_count": 8,
   "metadata": {},
   "outputs": [
    {
     "data": {
      "text/plain": [
       "(164, 4)"
      ]
     },
     "execution_count": 8,
     "metadata": {},
     "output_type": "execute_result"
    }
   ],
   "source": [
    "preds.shape"
   ]
  },
  {
   "cell_type": "code",
   "execution_count": 51,
   "metadata": {
    "scrolled": true
   },
   "outputs": [
    {
     "name": "stderr",
     "output_type": "stream",
     "text": [
      "/anaconda3/lib/python3.7/site-packages/ipykernel_launcher.py:1: SettingWithCopyWarning: \n",
      "A value is trying to be set on a copy of a slice from a DataFrame.\n",
      "Try using .loc[row_indexer,col_indexer] = value instead\n",
      "\n",
      "See the caveats in the documentation: http://pandas.pydata.org/pandas-docs/stable/user_guide/indexing.html#returning-a-view-versus-a-copy\n",
      "  \"\"\"Entry point for launching an IPython kernel.\n",
      "/anaconda3/lib/python3.7/site-packages/ipykernel_launcher.py:2: SettingWithCopyWarning: \n",
      "A value is trying to be set on a copy of a slice from a DataFrame.\n",
      "Try using .loc[row_indexer,col_indexer] = value instead\n",
      "\n",
      "See the caveats in the documentation: http://pandas.pydata.org/pandas-docs/stable/user_guide/indexing.html#returning-a-view-versus-a-copy\n",
      "  \n",
      "/anaconda3/lib/python3.7/site-packages/ipykernel_launcher.py:3: SettingWithCopyWarning: \n",
      "A value is trying to be set on a copy of a slice from a DataFrame.\n",
      "Try using .loc[row_indexer,col_indexer] = value instead\n",
      "\n",
      "See the caveats in the documentation: http://pandas.pydata.org/pandas-docs/stable/user_guide/indexing.html#returning-a-view-versus-a-copy\n",
      "  This is separate from the ipykernel package so we can avoid doing imports until\n",
      "/anaconda3/lib/python3.7/site-packages/ipykernel_launcher.py:4: SettingWithCopyWarning: \n",
      "A value is trying to be set on a copy of a slice from a DataFrame.\n",
      "Try using .loc[row_indexer,col_indexer] = value instead\n",
      "\n",
      "See the caveats in the documentation: http://pandas.pydata.org/pandas-docs/stable/user_guide/indexing.html#returning-a-view-versus-a-copy\n",
      "  after removing the cwd from sys.path.\n"
     ]
    }
   ],
   "source": [
    "bad_preds['true_stance'] = bad_preds['true_stance'].apply(to_int)\n",
    "bad_preds['pred_stance'] = bad_preds['pred_stance'].apply(to_int)\n",
    "good_preds['true_stance'] = good_preds['true_stance'].apply(to_int)\n",
    "good_preds['pred_stance'] = good_preds['pred_stance'].apply(to_int)"
   ]
  },
  {
   "cell_type": "code",
   "execution_count": 46,
   "metadata": {},
   "outputs": [],
   "source": [
    "bad_preds = preds[preds.true_stance != preds.pred_stance]\n",
    "good_preds = preds[preds.true_stance == preds.pred_stance]\n",
    "opp_preds = bad_preds[bad_preds.true_stance == bad_preds.pred_stance*-1]"
   ]
  },
  {
   "cell_type": "code",
   "execution_count": 47,
   "metadata": {
    "scrolled": true
   },
   "outputs": [
    {
     "data": {
      "text/plain": [
       "(111, 4)"
      ]
     },
     "execution_count": 47,
     "metadata": {},
     "output_type": "execute_result"
    }
   ],
   "source": [
    "bad_preds.shape"
   ]
  },
  {
   "cell_type": "code",
   "execution_count": 48,
   "metadata": {
    "scrolled": true
   },
   "outputs": [
    {
     "data": {
      "text/plain": [
       "(53, 4)"
      ]
     },
     "execution_count": 48,
     "metadata": {},
     "output_type": "execute_result"
    }
   ],
   "source": [
    "good_preds.shape"
   ]
  },
  {
   "cell_type": "code",
   "execution_count": 54,
   "metadata": {},
   "outputs": [
    {
     "data": {
      "text/plain": [
       "(22, 4)"
      ]
     },
     "execution_count": 54,
     "metadata": {},
     "output_type": "execute_result"
    }
   ],
   "source": [
    "opp_preds.shape"
   ]
  },
  {
   "cell_type": "code",
   "execution_count": 55,
   "metadata": {},
   "outputs": [],
   "source": [
    "false_neutrals = bad_preds[bad_preds.pred_stance == 0]\n",
    "false_agrees = bad_preds[bad_preds.pred_stance == 1]\n",
    "false_disagrees = bad_preds[bad_preds.pred_stance == -1]\n",
    "true_neutrals = good_preds[good_preds.pred_stance == 0]\n",
    "true_agrees = good_preds[good_preds.pred_stance == 1]\n",
    "true_disagrees = good_preds[good_preds.pred_stance == -1]"
   ]
  },
  {
   "cell_type": "markdown",
   "metadata": {},
   "source": [
    "27% of predictions were false \"agrees\". More \"neutrals\" than \"disagrees\" were falsely predicted.\n",
    "There were 19 true agrees."
   ]
  },
  {
   "cell_type": "code",
   "execution_count": 31,
   "metadata": {},
   "outputs": [
    {
     "data": {
      "text/plain": [
       "0.27439024390243905"
      ]
     },
     "execution_count": 31,
     "metadata": {},
     "output_type": "execute_result"
    }
   ],
   "source": [
    "len(false_agrees)/164"
   ]
  },
  {
   "cell_type": "code",
   "execution_count": 41,
   "metadata": {},
   "outputs": [
    {
     "data": {
      "text/plain": [
       "19"
      ]
     },
     "execution_count": 41,
     "metadata": {},
     "output_type": "execute_result"
    }
   ],
   "source": [
    "len(true_agrees)"
   ]
  },
  {
   "cell_type": "code",
   "execution_count": 33,
   "metadata": {},
   "outputs": [
    {
     "data": {
      "text/plain": [
       " 0    33\n",
       "-1    12\n",
       "Name: true_stance, dtype: int64"
      ]
     },
     "execution_count": 33,
     "metadata": {},
     "output_type": "execute_result"
    }
   ],
   "source": [
    "false_agrees.true_stance.value_counts()"
   ]
  },
  {
   "cell_type": "markdown",
   "metadata": {},
   "source": [
    "13% of predictions were false \"disagrees\". About equal numbers of \"agrees\" and \"neutrals\" were falsely predicted. There were 7 true disagrees. "
   ]
  },
  {
   "cell_type": "code",
   "execution_count": 57,
   "metadata": {},
   "outputs": [
    {
     "data": {
      "text/plain": [
       "0.12804878048780488"
      ]
     },
     "execution_count": 57,
     "metadata": {},
     "output_type": "execute_result"
    }
   ],
   "source": [
    "len(false_disagrees)/164"
   ]
  },
  {
   "cell_type": "code",
   "execution_count": 58,
   "metadata": {},
   "outputs": [
    {
     "data": {
      "text/plain": [
       "7"
      ]
     },
     "execution_count": 58,
     "metadata": {},
     "output_type": "execute_result"
    }
   ],
   "source": [
    "len(true_disagrees)"
   ]
  },
  {
   "cell_type": "code",
   "execution_count": 59,
   "metadata": {},
   "outputs": [
    {
     "data": {
      "text/plain": [
       "0    11\n",
       "1    10\n",
       "Name: true_stance, dtype: int64"
      ]
     },
     "execution_count": 59,
     "metadata": {},
     "output_type": "execute_result"
    }
   ],
   "source": [
    "false_disagrees.true_stance.value_counts()"
   ]
  },
  {
   "cell_type": "code",
   "execution_count": null,
   "metadata": {},
   "outputs": [],
   "source": []
  },
  {
   "cell_type": "markdown",
   "metadata": {},
   "source": [
    "27% of predictions were false neutrals. More \"agrees\" than \"disagrees\" were getting predicted to be \"neutral\"."
   ]
  },
  {
   "cell_type": "code",
   "execution_count": 27,
   "metadata": {},
   "outputs": [
    {
     "data": {
      "text/plain": [
       "0.27439024390243905"
      ]
     },
     "execution_count": 27,
     "metadata": {},
     "output_type": "execute_result"
    }
   ],
   "source": [
    "len(false_neutrals)/164."
   ]
  },
  {
   "cell_type": "code",
   "execution_count": 28,
   "metadata": {},
   "outputs": [
    {
     "data": {
      "text/plain": [
       " 1    29\n",
       "-1    16\n",
       "Name: true_stance, dtype: int64"
      ]
     },
     "execution_count": 28,
     "metadata": {},
     "output_type": "execute_result"
    }
   ],
   "source": [
    "false_neutrals.true_stance.value_counts()"
   ]
  },
  {
   "cell_type": "markdown",
   "metadata": {},
   "source": [
    "13% of predictions were the opposite of the correct label (e.g., \"agree\" was predicted \"disagree\" or vice versa."
   ]
  },
  {
   "cell_type": "code",
   "execution_count": 61,
   "metadata": {},
   "outputs": [
    {
     "data": {
      "text/plain": [
       "0.13414634146341464"
      ]
     },
     "execution_count": 61,
     "metadata": {},
     "output_type": "execute_result"
    }
   ],
   "source": [
    "len(opp_preds)/164."
   ]
  },
  {
   "cell_type": "markdown",
   "metadata": {},
   "source": [
    "Of this 13%, about half are mistaken \"agrees\" (and the other 55% mistaken \"disagrees\")."
   ]
  },
  {
   "cell_type": "code",
   "execution_count": 24,
   "metadata": {},
   "outputs": [
    {
     "data": {
      "text/plain": [
       "0.45454545454545453"
      ]
     },
     "execution_count": 24,
     "metadata": {},
     "output_type": "execute_result"
    }
   ],
   "source": [
    "len(opp_preds[opp_preds.true_stance == 1])/len(opp_preds)"
   ]
  },
  {
   "cell_type": "code",
   "execution_count": 65,
   "metadata": {
    "scrolled": true
   },
   "outputs": [
    {
     "data": {
      "text/html": [
       "<div>\n",
       "<style scoped>\n",
       "    .dataframe tbody tr th:only-of-type {\n",
       "        vertical-align: middle;\n",
       "    }\n",
       "\n",
       "    .dataframe tbody tr th {\n",
       "        vertical-align: top;\n",
       "    }\n",
       "\n",
       "    .dataframe thead th {\n",
       "        text-align: right;\n",
       "    }\n",
       "</style>\n",
       "<table border=\"1\" class=\"dataframe\">\n",
       "  <thead>\n",
       "    <tr style=\"text-align: right;\">\n",
       "      <th></th>\n",
       "      <th>type</th>\n",
       "      <th>sentence</th>\n",
       "      <th>true_stance</th>\n",
       "      <th>pred_stance</th>\n",
       "    </tr>\n",
       "  </thead>\n",
       "  <tbody>\n",
       "    <tr>\n",
       "      <td>4</td>\n",
       "      <td>mturk</td>\n",
       "      <td>Global warming isn't real Leo.</td>\n",
       "      <td>-1</td>\n",
       "      <td>1</td>\n",
       "    </tr>\n",
       "    <tr>\n",
       "      <td>6</td>\n",
       "      <td>mturk</td>\n",
       "      <td>A combination of factors are at work, including a natural El Nino system, man-made global warming and a dash of random weather.</td>\n",
       "      <td>-1</td>\n",
       "      <td>1</td>\n",
       "    </tr>\n",
       "    <tr>\n",
       "      <td>17</td>\n",
       "      <td>mturk</td>\n",
       "      <td>The paper in no way diminishes the extensive body of observations that global warming is happening and that it is largely due to human activity.</td>\n",
       "      <td>1</td>\n",
       "      <td>-1</td>\n",
       "    </tr>\n",
       "    <tr>\n",
       "      <td>23</td>\n",
       "      <td>mturk</td>\n",
       "      <td>Carbon dioxide fertilizes plants, and emissions from fossil fuels have already had a hugely beneficial effect on crops, increasing yields by at least 10-15 percent.</td>\n",
       "      <td>-1</td>\n",
       "      <td>1</td>\n",
       "    </tr>\n",
       "    <tr>\n",
       "      <td>34</td>\n",
       "      <td>mturk</td>\n",
       "      <td>Global warming is having an impact now.</td>\n",
       "      <td>1</td>\n",
       "      <td>-1</td>\n",
       "    </tr>\n",
       "    <tr>\n",
       "      <td>36</td>\n",
       "      <td>mturk</td>\n",
       "      <td>Man-made climate change isn't solely to blame for tropical storms.</td>\n",
       "      <td>-1</td>\n",
       "      <td>1</td>\n",
       "    </tr>\n",
       "    <tr>\n",
       "      <td>37</td>\n",
       "      <td>mturk</td>\n",
       "      <td>Fossil fuel investments are pretty good bets regardless of the political climate.</td>\n",
       "      <td>-1</td>\n",
       "      <td>1</td>\n",
       "    </tr>\n",
       "    <tr>\n",
       "      <td>58</td>\n",
       "      <td>mturk</td>\n",
       "      <td>The claim made in the 2007 report by the Intergovernmental Panel on Climate Change (IPCC) is unrealistic and the large Himalayan glaciers could not melt in a few decades.</td>\n",
       "      <td>-1</td>\n",
       "      <td>1</td>\n",
       "    </tr>\n",
       "    <tr>\n",
       "      <td>59</td>\n",
       "      <td>mturk</td>\n",
       "      <td>Climate change would be used as an excuse to expand `big government' and lead to a loss of personal freedom.</td>\n",
       "      <td>-1</td>\n",
       "      <td>1</td>\n",
       "    </tr>\n",
       "    <tr>\n",
       "      <td>61</td>\n",
       "      <td>mturk</td>\n",
       "      <td>Global warming is real.</td>\n",
       "      <td>1</td>\n",
       "      <td>-1</td>\n",
       "    </tr>\n",
       "    <tr>\n",
       "      <td>62</td>\n",
       "      <td>mturk</td>\n",
       "      <td>There is a realistic win-win outcome: with the right government policies, we can stimulate investment in green energy, efficient cities, better transportation and the like, which will address climate change as well as make many of our lives better and more comfortable.</td>\n",
       "      <td>1</td>\n",
       "      <td>-1</td>\n",
       "    </tr>\n",
       "    <tr>\n",
       "      <td>95</td>\n",
       "      <td>mturk</td>\n",
       "      <td>Global warming is caused mostly by human carbon emissions.</td>\n",
       "      <td>1</td>\n",
       "      <td>-1</td>\n",
       "    </tr>\n",
       "    <tr>\n",
       "      <td>100</td>\n",
       "      <td>mturk</td>\n",
       "      <td>Global warming is mainly caused by human activity.</td>\n",
       "      <td>1</td>\n",
       "      <td>-1</td>\n",
       "    </tr>\n",
       "    <tr>\n",
       "      <td>101</td>\n",
       "      <td>mturk</td>\n",
       "      <td>The several previous warming periods (called climate optima) directly correlated to fantastic periods of human prosperity and advances.</td>\n",
       "      <td>-1</td>\n",
       "      <td>1</td>\n",
       "    </tr>\n",
       "    <tr>\n",
       "      <td>104</td>\n",
       "      <td>mturk</td>\n",
       "      <td>We are all losing the fight against climate change.</td>\n",
       "      <td>1</td>\n",
       "      <td>-1</td>\n",
       "    </tr>\n",
       "    <tr>\n",
       "      <td>106</td>\n",
       "      <td>mturk</td>\n",
       "      <td>Global warming could eventually reach these levels.</td>\n",
       "      <td>1</td>\n",
       "      <td>-1</td>\n",
       "    </tr>\n",
       "    <tr>\n",
       "      <td>107</td>\n",
       "      <td>mturk</td>\n",
       "      <td>No single epidemic can be attributed wholly to climate change.</td>\n",
       "      <td>-1</td>\n",
       "      <td>1</td>\n",
       "    </tr>\n",
       "    <tr>\n",
       "      <td>111</td>\n",
       "      <td>mturk</td>\n",
       "      <td>In California, however, which is already being ravaged by the heat and drought of climate change.</td>\n",
       "      <td>1</td>\n",
       "      <td>-1</td>\n",
       "    </tr>\n",
       "    <tr>\n",
       "      <td>119</td>\n",
       "      <td>mturk</td>\n",
       "      <td>Global warming is occurring more slowly than computer models forecast a decade ago.</td>\n",
       "      <td>-1</td>\n",
       "      <td>1</td>\n",
       "    </tr>\n",
       "    <tr>\n",
       "      <td>122</td>\n",
       "      <td>mturk</td>\n",
       "      <td>Climate change is a cult.</td>\n",
       "      <td>-1</td>\n",
       "      <td>1</td>\n",
       "    </tr>\n",
       "    <tr>\n",
       "      <td>125</td>\n",
       "      <td>mturk</td>\n",
       "      <td>Most global warming is natural and even if there had been no Industrial Revolution current global temperatures would be almost exactly the same as they are now.</td>\n",
       "      <td>-1</td>\n",
       "      <td>1</td>\n",
       "    </tr>\n",
       "    <tr>\n",
       "      <td>141</td>\n",
       "      <td>mturk</td>\n",
       "      <td>Rising sea levels could force Los Angeles International Airport (LAX) to be moved.</td>\n",
       "      <td>1</td>\n",
       "      <td>-1</td>\n",
       "    </tr>\n",
       "  </tbody>\n",
       "</table>\n",
       "</div>"
      ],
      "text/plain": [
       "      type  \\\n",
       "4    mturk   \n",
       "6    mturk   \n",
       "17   mturk   \n",
       "23   mturk   \n",
       "34   mturk   \n",
       "36   mturk   \n",
       "37   mturk   \n",
       "58   mturk   \n",
       "59   mturk   \n",
       "61   mturk   \n",
       "62   mturk   \n",
       "95   mturk   \n",
       "100  mturk   \n",
       "101  mturk   \n",
       "104  mturk   \n",
       "106  mturk   \n",
       "107  mturk   \n",
       "111  mturk   \n",
       "119  mturk   \n",
       "122  mturk   \n",
       "125  mturk   \n",
       "141  mturk   \n",
       "\n",
       "                                                                                                                                                                                                                                                                          sentence  \\\n",
       "4    Global warming isn't real Leo.                                                                                                                                                                                                                                                  \n",
       "6    A combination of factors are at work, including a natural El Nino system, man-made global warming and a dash of random weather.                                                                                                                                                 \n",
       "17   The paper in no way diminishes the extensive body of observations that global warming is happening and that it is largely due to human activity.                                                                                                                                \n",
       "23   Carbon dioxide fertilizes plants, and emissions from fossil fuels have already had a hugely beneficial effect on crops, increasing yields by at least 10-15 percent.                                                                                                            \n",
       "34   Global warming is having an impact now.                                                                                                                                                                                                                                         \n",
       "36   Man-made climate change isn't solely to blame for tropical storms.                                                                                                                                                                                                              \n",
       "37   Fossil fuel investments are pretty good bets regardless of the political climate.                                                                                                                                                                                               \n",
       "58   The claim made in the 2007 report by the Intergovernmental Panel on Climate Change (IPCC) is unrealistic and the large Himalayan glaciers could not melt in a few decades.                                                                                                      \n",
       "59   Climate change would be used as an excuse to expand `big government' and lead to a loss of personal freedom.                                                                                                                                                                    \n",
       "61   Global warming is real.                                                                                                                                                                                                                                                         \n",
       "62   There is a realistic win-win outcome: with the right government policies, we can stimulate investment in green energy, efficient cities, better transportation and the like, which will address climate change as well as make many of our lives better and more comfortable.   \n",
       "95   Global warming is caused mostly by human carbon emissions.                                                                                                                                                                                                                      \n",
       "100  Global warming is mainly caused by human activity.                                                                                                                                                                                                                              \n",
       "101  The several previous warming periods (called climate optima) directly correlated to fantastic periods of human prosperity and advances.                                                                                                                                         \n",
       "104  We are all losing the fight against climate change.                                                                                                                                                                                                                             \n",
       "106  Global warming could eventually reach these levels.                                                                                                                                                                                                                             \n",
       "107  No single epidemic can be attributed wholly to climate change.                                                                                                                                                                                                                  \n",
       "111  In California, however, which is already being ravaged by the heat and drought of climate change.                                                                                                                                                                               \n",
       "119  Global warming is occurring more slowly than computer models forecast a decade ago.                                                                                                                                                                                             \n",
       "122  Climate change is a cult.                                                                                                                                                                                                                                                       \n",
       "125  Most global warming is natural and even if there had been no Industrial Revolution current global temperatures would be almost exactly the same as they are now.                                                                                                                \n",
       "141  Rising sea levels could force Los Angeles International Airport (LAX) to be moved.                                                                                                                                                                                              \n",
       "\n",
       "     true_stance  pred_stance  \n",
       "4   -1            1            \n",
       "6   -1            1            \n",
       "17   1           -1            \n",
       "23  -1            1            \n",
       "34   1           -1            \n",
       "36  -1            1            \n",
       "37  -1            1            \n",
       "58  -1            1            \n",
       "59  -1            1            \n",
       "61   1           -1            \n",
       "62   1           -1            \n",
       "95   1           -1            \n",
       "100  1           -1            \n",
       "101 -1            1            \n",
       "104  1           -1            \n",
       "106  1           -1            \n",
       "107 -1            1            \n",
       "111  1           -1            \n",
       "119 -1            1            \n",
       "122 -1            1            \n",
       "125 -1            1            \n",
       "141  1           -1            "
      ]
     },
     "execution_count": 65,
     "metadata": {},
     "output_type": "execute_result"
    }
   ],
   "source": [
    "opp_preds"
   ]
  },
  {
   "cell_type": "code",
   "execution_count": 63,
   "metadata": {},
   "outputs": [
    {
     "data": {
      "text/plain": [
       "[\"Global warming isn't real Leo.\",\n",
       " 'A combination of factors are at work, including a natural El Nino system, man-made global warming and a dash of random weather.',\n",
       " 'The paper in no way diminishes the extensive body of observations that global warming is happening and that it is largely due to human activity.',\n",
       " 'Carbon dioxide fertilizes plants, and emissions from fossil fuels have already had a hugely beneficial effect on crops, increasing yields by at least 10-15 percent.',\n",
       " 'Global warming is having an impact now.',\n",
       " \"Man-made climate change isn't solely to blame for tropical storms.\",\n",
       " 'Fossil fuel investments are pretty good bets regardless of the political climate.',\n",
       " 'The claim made in the 2007 report by the Intergovernmental Panel on Climate Change (IPCC) is unrealistic and the large Himalayan glaciers could not melt in a few decades.',\n",
       " \"Climate change would be used as an excuse to expand `big government' and lead to a loss of personal freedom.\",\n",
       " 'Global warming is real.',\n",
       " 'There is a realistic win-win outcome: with the right government policies, we can stimulate investment in green energy, efficient cities, better transportation and the like, which will address climate change as well as make many of our lives better and more comfortable.',\n",
       " 'Global warming is caused mostly by human carbon emissions.',\n",
       " 'Global warming is mainly caused by human activity.',\n",
       " 'The several previous warming periods (called climate optima) directly correlated to fantastic periods of human prosperity and advances.',\n",
       " 'We are all losing the fight against climate change.',\n",
       " 'Global warming could eventually reach these levels.',\n",
       " 'No single epidemic can be attributed wholly to climate change.',\n",
       " 'In California, however, which is already being ravaged by the heat and drought of climate change.',\n",
       " 'Global warming is occurring more slowly than computer models forecast a decade ago.',\n",
       " 'Climate change is a cult.',\n",
       " 'Most global warming is natural and even if there had been no Industrial Revolution current global temperatures would be almost exactly the same as they are now.',\n",
       " 'Rising sea levels could force Los Angeles International Airport (LAX) to be moved.']"
      ]
     },
     "execution_count": 63,
     "metadata": {},
     "output_type": "execute_result"
    }
   ],
   "source": [
    "list(opp_preds.sentence)"
   ]
  },
  {
   "cell_type": "code",
   "execution_count": null,
   "metadata": {},
   "outputs": [],
   "source": []
  }
 ],
 "metadata": {
  "kernelspec": {
   "display_name": "Python 3",
   "language": "python",
   "name": "python3"
  },
  "language_info": {
   "codemirror_mode": {
    "name": "ipython",
    "version": 3
   },
   "file_extension": ".py",
   "mimetype": "text/x-python",
   "name": "python",
   "nbconvert_exporter": "python",
   "pygments_lexer": "ipython3",
   "version": "3.7.1"
  }
 },
 "nbformat": 4,
 "nbformat_minor": 2
}
