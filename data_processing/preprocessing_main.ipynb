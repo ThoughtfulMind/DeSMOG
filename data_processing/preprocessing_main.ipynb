{
 "cells": [
  {
   "cell_type": "code",
   "execution_count": 1,
   "metadata": {},
   "outputs": [
    {
     "name": "stdout",
     "output_type": "stream",
     "text": [
      "/Users/yiweiluo/scientific-debates\n"
     ]
    }
   ],
   "source": [
    "import os\n",
    "import pandas as pd\n",
    "import numpy as np\n",
    "import re\n",
    "import datetime\n",
    "import pickle\n",
    "\n",
    "os.chdir('..')\n",
    "print(os.getcwd())\n",
    "from utils import get_fulltext\n",
    "os.chdir('./data_processing/')"
   ]
  },
  {
   "cell_type": "code",
   "execution_count": 2,
   "metadata": {
    "scrolled": true
   },
   "outputs": [
    {
     "data": {
      "text/html": [
       "<div>\n",
       "<style scoped>\n",
       "    .dataframe tbody tr th:only-of-type {\n",
       "        vertical-align: middle;\n",
       "    }\n",
       "\n",
       "    .dataframe tbody tr th {\n",
       "        vertical-align: top;\n",
       "    }\n",
       "\n",
       "    .dataframe thead th {\n",
       "        text-align: right;\n",
       "    }\n",
       "</style>\n",
       "<table border=\"1\" class=\"dataframe\">\n",
       "  <thead>\n",
       "    <tr style=\"text-align: right;\">\n",
       "      <th></th>\n",
       "      <th>url</th>\n",
       "      <th>title</th>\n",
       "      <th>date</th>\n",
       "      <th>domain</th>\n",
       "      <th>stance</th>\n",
       "      <th>topic</th>\n",
       "      <th>is_AP</th>\n",
       "      <th>year</th>\n",
       "      <th>pretty_domain</th>\n",
       "    </tr>\n",
       "  </thead>\n",
       "  <tbody>\n",
       "    <tr>\n",
       "      <th>0</th>\n",
       "      <td>www.buzzfeednews.com/article/tasneemnashrulla/...</td>\n",
       "      <td>\"eat the babies\" viral video at aoc town hall ...</td>\n",
       "      <td>2019-10-04 00:00:00</td>\n",
       "      <td>buzzfeed</td>\n",
       "      <td>pro</td>\n",
       "      <td>cc</td>\n",
       "      <td>None</td>\n",
       "      <td>2019.0</td>\n",
       "      <td>Buzzfeed</td>\n",
       "    </tr>\n",
       "    <tr>\n",
       "      <th>1</th>\n",
       "      <td>www.buzzfeednews.com/article/passantino/extrem...</td>\n",
       "      <td>\"extremely likely\" global warming is man-made,...</td>\n",
       "      <td>2013-09-27 00:00:00</td>\n",
       "      <td>buzzfeed</td>\n",
       "      <td>pro</td>\n",
       "      <td>cc</td>\n",
       "      <td>None</td>\n",
       "      <td>2013.0</td>\n",
       "      <td>Buzzfeed</td>\n",
       "    </tr>\n",
       "    <tr>\n",
       "      <th>2</th>\n",
       "      <td>shotofprevention.com/2010/11/03/history-makes-...</td>\n",
       "      <td>\"history\" makes headlines with launch of new w...</td>\n",
       "      <td>2020-03-13 14:32:02</td>\n",
       "      <td>https://shotofprevention/</td>\n",
       "      <td>pro</td>\n",
       "      <td>vax</td>\n",
       "      <td>False</td>\n",
       "      <td>2020.0</td>\n",
       "      <td>Shot of Prevention</td>\n",
       "    </tr>\n",
       "    <tr>\n",
       "      <th>3</th>\n",
       "      <td>www.buzzfeednews.com/article/andrewkaczynski/i...</td>\n",
       "      <td>\"it's global warming, stupid\" - buzzfeed news</td>\n",
       "      <td>2012-11-01 00:00:00</td>\n",
       "      <td>buzzfeed</td>\n",
       "      <td>pro</td>\n",
       "      <td>cc</td>\n",
       "      <td>None</td>\n",
       "      <td>2012.0</td>\n",
       "      <td>Buzzfeed</td>\n",
       "    </tr>\n",
       "    <tr>\n",
       "      <th>4</th>\n",
       "      <td>www.buzzfeednews.com/article/tasneemnashrulla/...</td>\n",
       "      <td>\"japan dropped an atomic bomb on america durin...</td>\n",
       "      <td>2014-02-24 00:00:00</td>\n",
       "      <td>buzzfeed</td>\n",
       "      <td>pro</td>\n",
       "      <td>cc</td>\n",
       "      <td>None</td>\n",
       "      <td>2014.0</td>\n",
       "      <td>Buzzfeed</td>\n",
       "    </tr>\n",
       "    <tr>\n",
       "      <th>5</th>\n",
       "      <td>www.buzzfeednews.com/article/llevin/opinion-im...</td>\n",
       "      <td>\"look at my record, child\": joe biden showed m...</td>\n",
       "      <td>2019-10-31 00:00:00</td>\n",
       "      <td>buzzfeed</td>\n",
       "      <td>pro</td>\n",
       "      <td>cc</td>\n",
       "      <td>None</td>\n",
       "      <td>2019.0</td>\n",
       "      <td>Buzzfeed</td>\n",
       "    </tr>\n",
       "    <tr>\n",
       "      <th>6</th>\n",
       "      <td>www.breitbart.com/politics/2019/06/14/orourke-...</td>\n",
       "      <td>\"president o'rourke will end oil and gas lease...</td>\n",
       "      <td>2019-06-14 00:00:00</td>\n",
       "      <td>breitbart</td>\n",
       "      <td>anti</td>\n",
       "      <td>cc</td>\n",
       "      <td>None</td>\n",
       "      <td>2019.0</td>\n",
       "      <td>Breitbart</td>\n",
       "    </tr>\n",
       "    <tr>\n",
       "      <th>7</th>\n",
       "      <td>www.buzzfeednews.com/article/andrewkaczynski/s...</td>\n",
       "      <td>smoking doesnt kill and other great old opeds ...</td>\n",
       "      <td>2015-03-31 00:00:00</td>\n",
       "      <td>buzzfeed</td>\n",
       "      <td>pro</td>\n",
       "      <td>cc</td>\n",
       "      <td>None</td>\n",
       "      <td>2015.0</td>\n",
       "      <td>Buzzfeed</td>\n",
       "    </tr>\n",
       "    <tr>\n",
       "      <th>8</th>\n",
       "      <td>www.foxnews.com/world/100-carbon-tax-by-2030-c...</td>\n",
       "      <td>$100 carbon tax by 2030 could save climate, sa...</td>\n",
       "      <td>2017-05-29 00:00:00</td>\n",
       "      <td>fox</td>\n",
       "      <td>anti</td>\n",
       "      <td>cc</td>\n",
       "      <td>None</td>\n",
       "      <td>2017.0</td>\n",
       "      <td>Fox</td>\n",
       "    </tr>\n",
       "    <tr>\n",
       "      <th>21585</th>\n",
       "      <td>childrenshealthdefense.org/news/4-billion-and-...</td>\n",
       "      <td>$4 billion and growing:  u.s. payouts for vacc...</td>\n",
       "      <td>2018-11-19 00:00:00</td>\n",
       "      <td>chd</td>\n",
       "      <td>anti</td>\n",
       "      <td>vax</td>\n",
       "      <td>None</td>\n",
       "      <td>2018.0</td>\n",
       "      <td>Children's Health Defense</td>\n",
       "    </tr>\n",
       "  </tbody>\n",
       "</table>\n",
       "</div>"
      ],
      "text/plain": [
       "                                                     url  \\\n",
       "0      www.buzzfeednews.com/article/tasneemnashrulla/...   \n",
       "1      www.buzzfeednews.com/article/passantino/extrem...   \n",
       "2      shotofprevention.com/2010/11/03/history-makes-...   \n",
       "3      www.buzzfeednews.com/article/andrewkaczynski/i...   \n",
       "4      www.buzzfeednews.com/article/tasneemnashrulla/...   \n",
       "5      www.buzzfeednews.com/article/llevin/opinion-im...   \n",
       "6      www.breitbart.com/politics/2019/06/14/orourke-...   \n",
       "7      www.buzzfeednews.com/article/andrewkaczynski/s...   \n",
       "8      www.foxnews.com/world/100-carbon-tax-by-2030-c...   \n",
       "21585  childrenshealthdefense.org/news/4-billion-and-...   \n",
       "\n",
       "                                                   title                 date  \\\n",
       "0      \"eat the babies\" viral video at aoc town hall ...  2019-10-04 00:00:00   \n",
       "1      \"extremely likely\" global warming is man-made,...  2013-09-27 00:00:00   \n",
       "2      \"history\" makes headlines with launch of new w...  2020-03-13 14:32:02   \n",
       "3          \"it's global warming, stupid\" - buzzfeed news  2012-11-01 00:00:00   \n",
       "4      \"japan dropped an atomic bomb on america durin...  2014-02-24 00:00:00   \n",
       "5      \"look at my record, child\": joe biden showed m...  2019-10-31 00:00:00   \n",
       "6      \"president o'rourke will end oil and gas lease...  2019-06-14 00:00:00   \n",
       "7      smoking doesnt kill and other great old opeds ...  2015-03-31 00:00:00   \n",
       "8      $100 carbon tax by 2030 could save climate, sa...  2017-05-29 00:00:00   \n",
       "21585  $4 billion and growing:  u.s. payouts for vacc...  2018-11-19 00:00:00   \n",
       "\n",
       "                          domain stance topic  is_AP    year  \\\n",
       "0                       buzzfeed    pro    cc   None  2019.0   \n",
       "1                       buzzfeed    pro    cc   None  2013.0   \n",
       "2      https://shotofprevention/    pro   vax  False  2020.0   \n",
       "3                       buzzfeed    pro    cc   None  2012.0   \n",
       "4                       buzzfeed    pro    cc   None  2014.0   \n",
       "5                       buzzfeed    pro    cc   None  2019.0   \n",
       "6                      breitbart   anti    cc   None  2019.0   \n",
       "7                       buzzfeed    pro    cc   None  2015.0   \n",
       "8                            fox   anti    cc   None  2017.0   \n",
       "21585                        chd   anti   vax   None  2018.0   \n",
       "\n",
       "                   pretty_domain  \n",
       "0                       Buzzfeed  \n",
       "1                       Buzzfeed  \n",
       "2             Shot of Prevention  \n",
       "3                       Buzzfeed  \n",
       "4                       Buzzfeed  \n",
       "5                       Buzzfeed  \n",
       "6                      Breitbart  \n",
       "7                       Buzzfeed  \n",
       "8                            Fox  \n",
       "21585  Children's Health Defense  "
      ]
     },
     "execution_count": 2,
     "metadata": {},
     "output_type": "execute_result"
    }
   ],
   "source": [
    "df = pd.read_pickle('../data_scraping/dedup_combined_df.pkl')\n",
    "df.head(10)"
   ]
  },
  {
   "cell_type": "code",
   "execution_count": 3,
   "metadata": {
    "scrolled": true
   },
   "outputs": [
    {
     "data": {
      "text/plain": [
       "['The president and the far right slammed Rep. Alexandria Ocasio-Cortez over the bizarre town hall speaker who suggested eating babies to solve the climate crisis. But the pro-Trump LaRouche PAC, which believes climate change is a hoax, said it planted the troll. President Donald Trump, his son Don Jr., and far-right conservatives attacked Democratic Rep. Alexandria Ocasio-Cortez after a speaker at her town hall meeting Thursday night went on a bizarre rant about how eating babies is the only solution to the climate crisis. But it turns out the stunt was staged by what is now a far-right pro-Trump conspiracy group that compares climate change activism to “genocide.” Trump called Ocasio-Cortez a “wack job” on Twitter after his allies widely shared the video of the unidentified woman saying that Ocasio-Cortez’s Green New Deal was not enough to solve the climate crisis. AOC is a Wack Job! https://t.co/LU3hIeek0c  “We’re not going to be here for much long because of the climate crisis,” the woman said, addressing Ocasio-Cortez. “I think your next campaign slogan has to be this: \\'We got to start eating babies. \\'” The woman then revealed her T-shirt, which read “Save the planet. Eat the children.” “Even if we were to bomb Russia, we still have too many people. Too much pollution,” the woman continued. “So we have to get rid of the babies. That’s a big problem. Just stopping having babies is not enough. We need to eat the babies.” Ocasio-Cortez then attempted to pacify the woman and address the urgency of climate change while ignoring her “eat the babies” comments. One of Ocasio-Cortez\\'s constituents loses her mind over climate change during AOC\\'s townhall, claims we only have a few months left: \"We got to start eating babies! We don\\'t have enough time! ... We have to get rid of the babies! ... We need to eat the babies!\" Trump supporters, including the president’s son, ridiculed the woman as a climate change activist. They were quick to characterize her as a typical Ocasio-Cortez supporter who, in their view, exemplified left-wing climate change hysteria. @AOC All of your supporters suffer from a mental condition. They also derided the Congress member for not attempting to stop the speaker’s rant and mischaracterized her apparent politeness as implicit support for the woman’s suggestion to eat babies. @AOC . @RepAOC, of course you’re referring to yourself, because you’re the one that has whipped up your supporters into thinking the world is coming to an end, so we have to start eating our babies now. Tucker Carlson blasts AOC over how she handled her supporter saying people must “start eating babies!”: “If someone said to you, ‘we need to eat the babies’ wouldn’t your first response be, ‘what? No! Of course not!’ That’s the one thing [AOC] didn’t say … pretty revealing”  Ocasio-Cortez later tweeted that she was concerned the woman at the town hall was “suffering from a mental condition” and that she wanted to treat her with compassion. She also admonished right-wingers on Twitter for mocking the woman. After the video went viral, a group called LaRouche PAC — which is affiliated with people with a long history of peddling unfounded conspiracy theories that has now turned pro-Trump — took credit for planting the woman at the town hall meeting in an attempt to “troll” Ocasio-Cortez and mock the climate change crisis. The fringe group, founded by conspiracy theorist Lyndon H. LaRouche Jr., who died earlier this year, believes climate change is a hoax and compares carbon dioxide reduction policies to “genocide.” “LaRouchePAC trolls AOC, AOC doesn\\'t rule out eating babies,” the group said on Twitter. LaRouchePAC trolls AOC, AOC doesn\\'t rule out eating babies. #EatTheBabies https://t.co/bD9ThZVcGO  Ocasio-Cortez later said in a tweet, “Turns out the woman yelling was a Trump supporter 🤷🏽\\u200d♀️.” The LaRouche PAC has been running an “Eat the Children” campaign modeled on Jonathan Swift’s satirical 1729 essay A Modest Proposal, which attempted to highlight England’s exploitation of the impoverished Irish by suggesting that poor Irish families sell their children as food to wealthy landlords. In response to a tweet wondering if the town hall speaker was a plant, LaRouche PAC wrote, “It was us,” adding, “Malthusianism isn’t new, Jonathan Swift knew that. Sometimes, only satire works.” Daniel Burke, who is affiliated with the LaRouche PAC, posted an “Eat the babies” poster of Ocasio-Cortez on his Facebook account Thursday. Facebook / Daniel Burke  Burke had previously posted photos of the group’s “Eat the Children” event in New York City on Tuesday, with signs that said “Defend Trump” and “The New Green Deal Is Genocide For Africa.” Burke — who says he is a LaRouche PAC–endorsed independent candidate for the US Senate — bragged about Trump giving attention to its “Eat the Children” stunt. “Earlier this week my friends and I went to NYU dressed up as Eat the Children!” Burke wrote on Facebook. “Now AOC gets a taste of Jonathan Swift, courtesy of LaRouche! Trump has retweeted! We\\'re over 2 Million views! Stop Green Genocide! It\\'s LUNACY!” Burke has previously claimed that the “Obama cum ‘Greta Thunberg’ phenomenon is an effort to create an international Green Nazi Youth” and that the outcome of a carbon dioxide reduction policy is “not less than genocide.” Matthew Sweet, a BBC Radio 3 presenter and author of Operation Chaos, which explores LaRouche’s conspiracy theories, first made the connection between the town hall troll and the group’s modus operandi. In a Twitter thread about the origins of the “bizarre political cult” — which believes the Queen controls the international drug trade — Sweet explained that the LaRouche group has been pulling similar stunts for the past 50 years. Its targets have included Jane Fonda, Henry Kissinger, and former Democratic presidential candidate Michael Dukakis. “LaRouchies have been enemies of the green movement for decades,” Sweet wrote, adding that they carried signs like “Feed Jane Fonda to the whales.” Dukakis was forced to release his medical records during his 1988 presidential campaign after LaRouche’s followers spread unsubstantiated rumors about his mental health. “The LaRouchies are now firm Trump supporters — though Putin is their first love,” Sweet said. Sweet did not respond to a request for comment.']"
      ]
     },
     "execution_count": 3,
     "metadata": {},
     "output_type": "execute_result"
    }
   ],
   "source": [
    "get_fulltext(df.url.values[0])"
   ]
  },
  {
   "cell_type": "markdown",
   "metadata": {},
   "source": [
    "# Contents:\n",
    "* [QuoteAnnotator](#QuoteAnnotator)\n",
    "    * [Climate change](#Climate-change)\n",
    "        * [URLs from search](#URLs-from-search)\n",
    "        * [MediaCloud URLs](#MediaCloud-urls)\n",
    "        * [Reid Google search URLs](#Reid-Urls)\n",
    "    * [Vaccines](#Vaccines)"
   ]
  },
  {
   "cell_type": "markdown",
   "metadata": {},
   "source": [
    "# QuoteAnnotator"
   ]
  },
  {
   "cell_type": "code",
   "execution_count": 11,
   "metadata": {},
   "outputs": [
    {
     "data": {
      "text/plain": [
       "'/Users/yiweiluo/scientific-debates/data_processing'"
      ]
     },
     "execution_count": 11,
     "metadata": {},
     "output_type": "execute_result"
    }
   ],
   "source": [
    "from pycorenlp import StanfordCoreNLP\n",
    "nlp = StanfordCoreNLP('http://localhost:9000')"
   ]
  },
  {
   "cell_type": "code",
   "execution_count": null,
   "metadata": {},
   "outputs": [],
   "source": []
  }
 ],
 "metadata": {
  "kernelspec": {
   "display_name": "Python 3",
   "language": "python",
   "name": "python3"
  },
  "language_info": {
   "codemirror_mode": {
    "name": "ipython",
    "version": 3
   },
   "file_extension": ".py",
   "mimetype": "text/x-python",
   "name": "python",
   "nbconvert_exporter": "python",
   "pygments_lexer": "ipython3",
   "version": "3.7.1"
  }
 },
 "nbformat": 4,
 "nbformat_minor": 2
}
