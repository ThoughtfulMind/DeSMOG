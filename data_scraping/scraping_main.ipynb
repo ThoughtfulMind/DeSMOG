{
 "cells": [
  {
   "cell_type": "code",
   "execution_count": 1,
   "metadata": {},
   "outputs": [],
   "source": [
    "# Import statements\n",
    "import urllib\n",
    "import requests\n",
    "from bs4 import BeautifulSoup\n",
    "from urllib.request import urlopen\n",
    "from dateutil.parser import parse\n",
    "from dateutil import parser\n",
    "from collections import defaultdict\n",
    "import re\n",
    "import pickle\n",
    "import os\n",
    "import pandas as pd\n",
    "import numpy as np"
   ]
  },
  {
   "cell_type": "code",
   "execution_count": 2,
   "metadata": {
    "code_folding": [
     2
    ]
   },
   "outputs": [],
   "source": [
    "from urllib.error import URLError\n",
    "\n",
    "def soupify(url):\n",
    "    if url[:8] != 'https://':\n",
    "        url = 'https://'+url\n",
    "        \n",
    "    try:\n",
    "        req = urllib.request.Request(url, headers={'User-Agent' : \"Magic Browser\"}) \n",
    "        con = urllib.request.urlopen( req )\n",
    "        html = con.read()\n",
    "        soup = BeautifulSoup(html,'html.parser')\n",
    "        return soup\n",
    "    except URLError:\n",
    "        return None"
   ]
  },
  {
   "cell_type": "markdown",
   "metadata": {},
   "source": [
    "# Contents:\n",
    "* [Get URLs](#Get-URLs)\n",
    "    * [Climate change](#Climate-change)\n",
    "        * [URLs from search](#URLs-from-search)\n",
    "        * [MediaCloud URLs](#MediaCloud-urls)\n",
    "        * [Reid Google search URLs](#Reid-Urls)\n",
    "    * [Vaccines](#Vaccines)\n",
    "* [Post-processing](#Post-processing)\n",
    "    * [Filter out non-(relevant)-article URLs](#Filter-out-non-(relevant)-article-URLs)\n",
    "    * [Check consistency of coding](#Check-consistency-of-coding)\n",
    "    * [Deduplicate](#Dedup)\n",
    "* [Scraping fulltext and missing meta info](#Scraping-fulltext-and-missing-meta-info)\n",
    "    * [Filter empty fulltext articles](#Filter-out-URLs-that-don't-have-article-text)\n",
    "* [Dedup via title similarity](#Dedup-via-title-similarity)\n",
    "* [Summary stats](#Summary-stats)"
   ]
  },
  {
   "cell_type": "markdown",
   "metadata": {
    "heading_collapsed": true
   },
   "source": [
    "# Get URLs"
   ]
  },
  {
   "cell_type": "markdown",
   "metadata": {
    "hidden": true
   },
   "source": [
    "We use SerpApi (https://serpapi.com/search-api) to scrape Google search results from querying climate change-related keywords on various websites."
   ]
  },
  {
   "cell_type": "code",
   "execution_count": 58,
   "metadata": {
    "hidden": true
   },
   "outputs": [],
   "source": [
    "SERP_API_KEY = \"481df24348cbec5d00f65baa55986d30b3b1ef2b09c5ab9de0f667dd43ce51d2\"\n",
    "from serpapi.google_search_results import GoogleSearchResults"
   ]
  },
  {
   "cell_type": "markdown",
   "metadata": {
    "hidden": true
   },
   "source": [
    "The following query parameters restrict searches to desktop, US-based, English-language results:"
   ]
  },
  {
   "cell_type": "code",
   "execution_count": 60,
   "metadata": {
    "hidden": true
   },
   "outputs": [],
   "source": [
    "query_params = {\"location\":\"United States\", \"device\":\"desktop\", \"hl\":\"en\", \"gl\":\"us\", \"serp_api_key\":SERP_API_KEY}\n",
    "client = GoogleSearchResults(query_params)"
   ]
  },
  {
   "cell_type": "code",
   "execution_count": 224,
   "metadata": {
    "code_folding": [
     0
    ],
    "hidden": true
   },
   "outputs": [],
   "source": [
    "def do_serpapi(domain,keyword):\n",
    "    keyword = keyword.replace('_',' ').replace('+',' ').replace('-',' ')\n",
    "    client.params_dict[\"q\"] = \"site:{} {}\".format(domain,keyword) # Update query to restrict to particular site\n",
    "    print('Searching w/ query: {}...'.format(client.params_dict[\"q\"]))\n",
    "    page_no = 1 \n",
    "    client.params_dict[\"start\"] = (page_no-1)*10                  # Update pagination\n",
    "    \n",
    "    dict_list = []\n",
    "    while 'error' not in client.get_dict(): # Get results as long as more pages exist\n",
    "        dict_list.append(client.get_dict())\n",
    "        page_no += 1\n",
    "        client.params_dict[\"start\"] = (page_no-1)*10 \n",
    "    \n",
    "    return dict_list"
   ]
  },
  {
   "cell_type": "code",
   "execution_count": 234,
   "metadata": {
    "code_folding": [
     0
    ],
    "hidden": true
   },
   "outputs": [],
   "source": [
    "def parse_serpapi_results(d_list):\n",
    "    meta = []\n",
    "    for d in d_list:\n",
    "        if 'error' in d:\n",
    "            print(d['error'])\n",
    "        elif d['search_metadata']['status'] == 'Success':\n",
    "            res = d['organic_results']\n",
    "            page_no = d['search_information']['page_number'] if 'page_number' in d['search_information'] else 1\n",
    "            print('Number of results on page {}: {}'.format(page_no,len(res)))\n",
    "            meta.extend([(x['title'],x['link'],x['date']) if 'date' in x\n",
    "                        else (x['title'],x['link']) for x in res])\n",
    "        else:\n",
    "            print(\"API get failure\")\n",
    "    return meta"
   ]
  },
  {
   "cell_type": "markdown",
   "metadata": {
    "hidden": true
   },
   "source": [
    "## Climate change"
   ]
  },
  {
   "cell_type": "code",
   "execution_count": 239,
   "metadata": {
    "hidden": true
   },
   "outputs": [],
   "source": [
    "# Keywords to use for climate change searches\n",
    "CC_KEYWORDS = ['climate_change','global_warming','fossil_fuels','carbon_dioxide','co2']"
   ]
  },
  {
   "cell_type": "markdown",
   "metadata": {
    "hidden": true
   },
   "source": [
    "The below 3 sections generate the following data structures:\n",
    "    * google_search_res_climate_change.pkl, a dictionary with outer keys for domains and inner keys for search terms;\n",
    "    * mediacloud_df.pkl, a dataframe w/ output from MediaCloud;\n",
    "    * reid_urls, a dictionary with urls from each of 6 domains searched via Google by Reid"
   ]
  },
  {
   "cell_type": "markdown",
   "metadata": {
    "hidden": true
   },
   "source": [
    "### URLs from search"
   ]
  },
  {
   "cell_type": "code",
   "execution_count": 202,
   "metadata": {
    "hidden": true
   },
   "outputs": [],
   "source": [
    "# Initialize default nested dict with outer keys for each media domain and inner keys for each keyword.\n",
    "#URLS_PER_DOMAIN = defaultdict(dict)"
   ]
  },
  {
   "cell_type": "code",
   "execution_count": 108,
   "metadata": {
    "code_folding": [
     0
    ],
    "hidden": true
   },
   "outputs": [],
   "source": [
    "# Domains to search for climate change articles\n",
    "DOMAINS = ['www.foxnews.com','www.breitbart.com','www.theblaze.com','www.pjmedia.com','www.nationalreview.com',\n",
    "           'www.thenation.com','www.buzzfeednews.com','www.vox.com','www.washingtonpost.com','www.progressive.org',\n",
    "          'www.nytimes.com','www.motherjones.com','www.democracynow.org']"
   ]
  },
  {
   "cell_type": "code",
   "execution_count": 235,
   "metadata": {
    "code_folding": [
     1
    ],
    "hidden": true,
    "scrolled": true
   },
   "outputs": [
    {
     "name": "stdout",
     "output_type": "stream",
     "text": [
      "Searching w/ query: site:www.theblaze.com climate change...\n",
      "Number of results on page 1: 10\n",
      "Number of results on page 2: 10\n",
      "Number of results on page 3: 10\n",
      "Number of results on page 4: 10\n",
      "Number of results on page 5: 10\n",
      "Number of results on page 6: 10\n",
      "Number of results on page 7: 10\n",
      "Number of results on page 8: 10\n",
      "Number of results on page 9: 10\n",
      "Number of results on page 10: 10\n",
      "Number of results on page 11: 10\n",
      "Number of results on page 12: 10\n",
      "Number of results on page 13: 10\n",
      "Number of results on page 14: 10\n",
      "Number of results on page 15: 10\n",
      "Number of results on page 16: 10\n",
      "Number of results on page 17: 10\n",
      "Number of results on page 18: 10\n",
      "Number of results on page 19: 10\n",
      "Number of results on page 20: 10\n",
      "Number of results on page 21: 10\n",
      "Number of results on page 22: 10\n",
      "Number of results on page 23: 10\n",
      "Number of results on page 24: 10\n",
      "Number of results on page 25: 10\n",
      "Number of results on page 26: 10\n",
      "Number of results on page 27: 10\n",
      "Number of results on page 28: 10\n",
      "Number of results on page 29: 10\n",
      "Number of results on page 30: 2\n",
      "Searching w/ query: site:www.theblaze.com global warming...\n",
      "Number of results on page 1: 10\n",
      "Number of results on page 2: 10\n",
      "Number of results on page 3: 10\n",
      "Number of results on page 4: 10\n",
      "Number of results on page 5: 10\n",
      "Number of results on page 6: 10\n",
      "Number of results on page 7: 10\n",
      "Number of results on page 8: 10\n",
      "Number of results on page 9: 10\n",
      "Number of results on page 10: 10\n",
      "Number of results on page 11: 10\n",
      "Number of results on page 12: 10\n",
      "Number of results on page 13: 10\n",
      "Number of results on page 14: 10\n",
      "Number of results on page 15: 10\n",
      "Number of results on page 16: 10\n",
      "Number of results on page 17: 10\n",
      "Number of results on page 18: 10\n",
      "Number of results on page 19: 10\n",
      "Number of results on page 20: 10\n",
      "Number of results on page 21: 10\n",
      "Number of results on page 22: 10\n",
      "Number of results on page 23: 10\n",
      "Number of results on page 24: 10\n",
      "Number of results on page 25: 10\n",
      "Number of results on page 26: 10\n",
      "Number of results on page 27: 10\n",
      "Number of results on page 28: 9\n",
      "Number of results on page 29: 1\n",
      "Searching w/ query: site:www.theblaze.com fossil fuels...\n",
      "Number of results on page 1: 10\n",
      "Number of results on page 2: 10\n",
      "Number of results on page 3: 10\n",
      "Number of results on page 4: 10\n",
      "Number of results on page 5: 10\n",
      "Number of results on page 6: 10\n",
      "Number of results on page 7: 10\n",
      "Number of results on page 8: 10\n",
      "Number of results on page 9: 10\n",
      "Number of results on page 10: 10\n",
      "Number of results on page 11: 10\n",
      "Number of results on page 12: 10\n",
      "Number of results on page 13: 10\n",
      "Number of results on page 14: 10\n",
      "Number of results on page 15: 10\n",
      "Number of results on page 16: 10\n",
      "Number of results on page 17: 10\n",
      "Number of results on page 18: 4\n",
      "Searching w/ query: site:www.pjmedia.com climate change...\n",
      "Number of results on page 1: 2\n",
      "Searching w/ query: site:www.pjmedia.com global warming...\n",
      "Number of results on page 1: 2\n",
      "Searching w/ query: site:www.pjmedia.com fossil fuels...\n",
      "Searching w/ query: site:www.nationalreview.com climate change...\n",
      "Number of results on page 1: 10\n",
      "Number of results on page 2: 10\n",
      "Number of results on page 3: 10\n",
      "Number of results on page 4: 10\n",
      "Number of results on page 5: 10\n",
      "Number of results on page 6: 10\n",
      "Number of results on page 7: 10\n",
      "Number of results on page 8: 10\n",
      "Number of results on page 9: 10\n",
      "Number of results on page 10: 10\n",
      "Number of results on page 11: 10\n",
      "Number of results on page 12: 10\n",
      "Number of results on page 13: 10\n",
      "Number of results on page 14: 10\n",
      "Number of results on page 15: 10\n",
      "Number of results on page 16: 10\n",
      "Number of results on page 17: 10\n",
      "Number of results on page 18: 10\n",
      "Number of results on page 19: 10\n",
      "Number of results on page 20: 10\n",
      "Number of results on page 21: 10\n",
      "Number of results on page 22: 10\n",
      "Number of results on page 23: 10\n",
      "Number of results on page 24: 10\n",
      "Number of results on page 25: 10\n",
      "Number of results on page 26: 10\n",
      "Number of results on page 27: 10\n",
      "Number of results on page 28: 10\n",
      "Number of results on page 29: 10\n",
      "Number of results on page 30: 10\n",
      "Number of results on page 31: 4\n",
      "Searching w/ query: site:www.nationalreview.com global warming...\n",
      "Number of results on page 1: 10\n",
      "Number of results on page 2: 10\n",
      "Number of results on page 3: 10\n",
      "Number of results on page 4: 10\n",
      "Number of results on page 5: 10\n",
      "Number of results on page 6: 10\n",
      "Number of results on page 7: 10\n",
      "Number of results on page 8: 10\n",
      "Number of results on page 9: 10\n",
      "Number of results on page 10: 10\n",
      "Number of results on page 11: 10\n",
      "Number of results on page 12: 10\n",
      "Number of results on page 13: 10\n",
      "Number of results on page 14: 10\n",
      "Number of results on page 15: 10\n",
      "Number of results on page 16: 10\n",
      "Number of results on page 17: 10\n",
      "Number of results on page 18: 10\n",
      "Number of results on page 19: 10\n",
      "Number of results on page 20: 10\n",
      "Number of results on page 21: 10\n",
      "Number of results on page 22: 10\n",
      "Number of results on page 23: 10\n",
      "Number of results on page 24: 10\n",
      "Number of results on page 25: 10\n",
      "Number of results on page 26: 10\n",
      "Number of results on page 27: 10\n",
      "Number of results on page 28: 10\n",
      "Number of results on page 29: 10\n",
      "Number of results on page 30: 8\n",
      "Searching w/ query: site:www.nationalreview.com fossil fuels...\n",
      "Number of results on page 1: 10\n",
      "Number of results on page 2: 10\n",
      "Number of results on page 3: 10\n",
      "Number of results on page 4: 10\n",
      "Number of results on page 5: 10\n",
      "Number of results on page 6: 10\n",
      "Number of results on page 7: 10\n",
      "Number of results on page 8: 10\n",
      "Number of results on page 9: 10\n",
      "Number of results on page 10: 10\n",
      "Number of results on page 11: 10\n",
      "Number of results on page 12: 10\n",
      "Number of results on page 13: 10\n",
      "Number of results on page 14: 10\n",
      "Number of results on page 15: 10\n",
      "Number of results on page 16: 10\n",
      "Number of results on page 17: 10\n",
      "Number of results on page 18: 10\n",
      "Number of results on page 19: 10\n",
      "Number of results on page 20: 10\n",
      "Number of results on page 21: 10\n",
      "Number of results on page 22: 10\n",
      "Number of results on page 23: 10\n",
      "Number of results on page 24: 10\n",
      "Number of results on page 25: 10\n",
      "Number of results on page 26: 10\n",
      "Number of results on page 27: 10\n",
      "Number of results on page 28: 10\n",
      "Number of results on page 29: 1\n",
      "Searching w/ query: site:www.thenation.com climate change...\n",
      "Number of results on page 1: 10\n",
      "Number of results on page 2: 10\n",
      "Number of results on page 3: 10\n",
      "Number of results on page 4: 10\n",
      "Number of results on page 5: 10\n",
      "Number of results on page 6: 10\n",
      "Number of results on page 7: 10\n",
      "Number of results on page 8: 10\n",
      "Number of results on page 9: 10\n",
      "Number of results on page 10: 10\n",
      "Number of results on page 11: 10\n",
      "Number of results on page 12: 10\n",
      "Number of results on page 13: 10\n",
      "Number of results on page 14: 10\n",
      "Number of results on page 15: 10\n",
      "Number of results on page 16: 10\n",
      "Number of results on page 17: 10\n",
      "Number of results on page 18: 10\n",
      "Number of results on page 19: 10\n",
      "Number of results on page 20: 10\n",
      "Number of results on page 21: 10\n",
      "Number of results on page 22: 10\n",
      "Number of results on page 23: 10\n",
      "Number of results on page 24: 10\n",
      "Number of results on page 25: 10\n",
      "Number of results on page 26: 10\n",
      "Number of results on page 27: 10\n",
      "Number of results on page 28: 10\n",
      "Number of results on page 29: 10\n",
      "Number of results on page 30: 10\n",
      "Number of results on page 31: 10\n",
      "Number of results on page 32: 10\n",
      "Number of results on page 33: 10\n",
      "Number of results on page 34: 5\n",
      "Searching w/ query: site:www.thenation.com global warming...\n",
      "Number of results on page 1: 10\n",
      "Number of results on page 2: 10\n",
      "Number of results on page 3: 10\n",
      "Number of results on page 4: 10\n",
      "Number of results on page 5: 10\n",
      "Number of results on page 6: 10\n",
      "Number of results on page 7: 10\n",
      "Number of results on page 8: 10\n",
      "Number of results on page 9: 10\n",
      "Number of results on page 10: 10\n",
      "Number of results on page 11: 10\n",
      "Number of results on page 12: 10\n",
      "Number of results on page 13: 10\n",
      "Number of results on page 14: 10\n",
      "Number of results on page 15: 10\n",
      "Number of results on page 16: 10\n",
      "Number of results on page 17: 10\n",
      "Number of results on page 18: 10\n",
      "Number of results on page 19: 10\n",
      "Number of results on page 20: 10\n",
      "Number of results on page 21: 10\n",
      "Number of results on page 22: 10\n",
      "Number of results on page 23: 10\n",
      "Number of results on page 24: 10\n",
      "Number of results on page 25: 10\n",
      "Number of results on page 26: 10\n",
      "Number of results on page 27: 10\n",
      "Number of results on page 28: 10\n",
      "Number of results on page 29: 10\n",
      "Number of results on page 30: 2\n",
      "Searching w/ query: site:www.thenation.com fossil fuels...\n"
     ]
    },
    {
     "name": "stdout",
     "output_type": "stream",
     "text": [
      "Number of results on page 1: 10\n",
      "Number of results on page 2: 10\n",
      "Number of results on page 3: 10\n",
      "Number of results on page 4: 10\n",
      "Number of results on page 5: 10\n",
      "Number of results on page 6: 10\n",
      "Number of results on page 7: 10\n",
      "Number of results on page 8: 10\n",
      "Number of results on page 9: 9\n",
      "Number of results on page 10: 10\n",
      "Number of results on page 11: 10\n",
      "Number of results on page 12: 10\n",
      "Number of results on page 13: 10\n",
      "Number of results on page 14: 10\n",
      "Number of results on page 15: 10\n",
      "Number of results on page 16: 10\n",
      "Number of results on page 17: 10\n",
      "Number of results on page 18: 10\n",
      "Number of results on page 19: 10\n",
      "Number of results on page 20: 10\n",
      "Number of results on page 21: 10\n",
      "Number of results on page 22: 10\n",
      "Number of results on page 23: 10\n",
      "Number of results on page 24: 10\n",
      "Number of results on page 25: 10\n",
      "Number of results on page 26: 10\n",
      "Number of results on page 27: 10\n",
      "Number of results on page 28: 1\n",
      "Searching w/ query: site:www.buzzfeednews.com climate change...\n",
      "Number of results on page 1: 10\n",
      "Number of results on page 2: 10\n",
      "Number of results on page 3: 10\n",
      "Number of results on page 4: 10\n",
      "Number of results on page 5: 10\n",
      "Number of results on page 6: 10\n",
      "Number of results on page 7: 10\n",
      "Number of results on page 8: 10\n",
      "Number of results on page 9: 10\n",
      "Number of results on page 10: 10\n",
      "Number of results on page 11: 10\n",
      "Number of results on page 12: 10\n",
      "Number of results on page 13: 10\n",
      "Number of results on page 14: 10\n",
      "Number of results on page 15: 10\n",
      "Number of results on page 16: 10\n",
      "Number of results on page 17: 10\n",
      "Number of results on page 18: 10\n",
      "Number of results on page 19: 10\n",
      "Number of results on page 20: 10\n",
      "Number of results on page 21: 10\n",
      "Number of results on page 22: 10\n",
      "Number of results on page 23: 10\n",
      "Number of results on page 24: 10\n",
      "Number of results on page 25: 10\n",
      "Number of results on page 26: 10\n",
      "Number of results on page 27: 10\n",
      "Number of results on page 28: 10\n",
      "Number of results on page 29: 10\n",
      "Number of results on page 30: 10\n",
      "Number of results on page 31: 10\n",
      "Number of results on page 32: 10\n",
      "Searching w/ query: site:www.buzzfeednews.com global warming...\n",
      "Number of results on page 1: 10\n",
      "Number of results on page 2: 10\n",
      "Number of results on page 3: 10\n",
      "Number of results on page 4: 10\n",
      "Number of results on page 5: 10\n",
      "Number of results on page 6: 10\n",
      "Number of results on page 7: 10\n",
      "Number of results on page 8: 10\n",
      "Number of results on page 9: 10\n",
      "Number of results on page 10: 10\n",
      "Number of results on page 11: 10\n",
      "Number of results on page 12: 10\n",
      "Number of results on page 13: 10\n",
      "Number of results on page 14: 10\n",
      "Number of results on page 15: 10\n",
      "Number of results on page 16: 10\n",
      "Number of results on page 17: 10\n",
      "Number of results on page 18: 10\n",
      "Number of results on page 19: 10\n",
      "Number of results on page 20: 10\n",
      "Number of results on page 21: 10\n",
      "Number of results on page 22: 10\n",
      "Number of results on page 23: 10\n",
      "Number of results on page 24: 10\n",
      "Number of results on page 25: 10\n",
      "Number of results on page 26: 10\n",
      "Number of results on page 27: 10\n",
      "Number of results on page 28: 10\n",
      "Number of results on page 29: 10\n",
      "Number of results on page 30: 10\n",
      "Number of results on page 31: 2\n",
      "Searching w/ query: site:www.buzzfeednews.com fossil fuels...\n",
      "Number of results on page 1: 10\n",
      "Number of results on page 2: 10\n",
      "Number of results on page 3: 10\n",
      "Number of results on page 4: 10\n",
      "Number of results on page 5: 10\n",
      "Number of results on page 6: 10\n",
      "Number of results on page 7: 10\n",
      "Number of results on page 8: 10\n",
      "Number of results on page 9: 10\n",
      "Number of results on page 10: 10\n",
      "Number of results on page 11: 10\n",
      "Number of results on page 12: 9\n",
      "Number of results on page 13: 10\n",
      "Number of results on page 14: 10\n",
      "Number of results on page 15: 10\n",
      "Number of results on page 16: 10\n",
      "Number of results on page 17: 10\n",
      "Number of results on page 18: 10\n",
      "Number of results on page 19: 5\n",
      "Searching w/ query: site:www.vox.com climate change...\n",
      "Number of results on page 1: 10\n",
      "Number of results on page 2: 10\n",
      "Number of results on page 3: 10\n",
      "Number of results on page 4: 10\n",
      "Number of results on page 5: 10\n",
      "Number of results on page 6: 10\n",
      "Number of results on page 7: 10\n",
      "Number of results on page 8: 10\n",
      "Number of results on page 9: 10\n",
      "Number of results on page 10: 10\n",
      "Number of results on page 11: 10\n",
      "Number of results on page 12: 10\n",
      "Number of results on page 13: 10\n",
      "Number of results on page 14: 10\n",
      "Number of results on page 15: 10\n",
      "Number of results on page 16: 10\n",
      "Number of results on page 17: 10\n",
      "Number of results on page 18: 10\n",
      "Number of results on page 19: 10\n",
      "Number of results on page 20: 10\n",
      "Number of results on page 21: 10\n",
      "Number of results on page 22: 10\n",
      "Number of results on page 23: 10\n",
      "Number of results on page 24: 10\n",
      "Number of results on page 25: 10\n",
      "Number of results on page 26: 10\n",
      "Number of results on page 27: 10\n",
      "Number of results on page 28: 10\n",
      "Number of results on page 29: 10\n",
      "Number of results on page 30: 10\n",
      "Number of results on page 31: 10\n",
      "Number of results on page 32: 10\n",
      "Number of results on page 33: 10\n",
      "Number of results on page 34: 10\n",
      "Searching w/ query: site:www.vox.com global warming...\n",
      "Number of results on page 1: 10\n",
      "Number of results on page 2: 10\n",
      "Number of results on page 3: 10\n",
      "Number of results on page 4: 10\n",
      "Number of results on page 5: 10\n",
      "Number of results on page 6: 10\n",
      "Number of results on page 7: 10\n",
      "Number of results on page 8: 10\n",
      "Number of results on page 9: 10\n",
      "Number of results on page 10: 10\n",
      "Number of results on page 11: 10\n",
      "Number of results on page 12: 10\n",
      "Number of results on page 13: 10\n",
      "Number of results on page 14: 10\n",
      "Number of results on page 15: 10\n",
      "Number of results on page 16: 10\n",
      "Number of results on page 17: 10\n",
      "Number of results on page 18: 10\n",
      "Number of results on page 19: 10\n",
      "Number of results on page 20: 10\n",
      "Number of results on page 21: 10\n",
      "Number of results on page 22: 10\n",
      "Number of results on page 23: 10\n",
      "Number of results on page 24: 10\n",
      "Number of results on page 25: 10\n",
      "Number of results on page 26: 10\n",
      "Number of results on page 27: 10\n",
      "Number of results on page 28: 10\n",
      "Number of results on page 29: 10\n",
      "Number of results on page 30: 10\n",
      "Number of results on page 31: 8\n",
      "Searching w/ query: site:www.vox.com fossil fuels...\n",
      "Number of results on page 1: 10\n",
      "Number of results on page 2: 10\n",
      "Number of results on page 3: 9\n",
      "Number of results on page 4: 10\n",
      "Number of results on page 5: 10\n",
      "Number of results on page 6: 10\n",
      "Number of results on page 7: 10\n",
      "Number of results on page 8: 10\n",
      "Number of results on page 9: 10\n",
      "Number of results on page 10: 10\n",
      "Number of results on page 11: 10\n",
      "Number of results on page 12: 10\n",
      "Number of results on page 13: 10\n",
      "Number of results on page 14: 10\n",
      "Number of results on page 15: 10\n",
      "Number of results on page 16: 10\n",
      "Number of results on page 17: 10\n",
      "Number of results on page 18: 10\n",
      "Number of results on page 19: 10\n",
      "Number of results on page 20: 10\n",
      "Number of results on page 21: 10\n",
      "Number of results on page 22: 10\n",
      "Number of results on page 23: 10\n",
      "Number of results on page 24: 10\n",
      "Number of results on page 25: 10\n",
      "Number of results on page 26: 10\n",
      "Number of results on page 27: 10\n",
      "Number of results on page 28: 10\n",
      "Number of results on page 29: 10\n",
      "Number of results on page 30: 10\n",
      "Searching w/ query: site:www.washingtonpost.com climate change...\n",
      "Number of results on page 1: 10\n",
      "Number of results on page 2: 10\n",
      "Number of results on page 3: 10\n",
      "Number of results on page 4: 10\n",
      "Number of results on page 5: 10\n",
      "Number of results on page 6: 10\n",
      "Number of results on page 7: 10\n",
      "Number of results on page 8: 10\n",
      "Number of results on page 9: 10\n",
      "Number of results on page 10: 10\n",
      "Number of results on page 11: 10\n",
      "Number of results on page 12: 10\n",
      "Number of results on page 13: 10\n",
      "Number of results on page 14: 10\n",
      "Number of results on page 15: 10\n",
      "Number of results on page 16: 10\n",
      "Number of results on page 17: 10\n",
      "Number of results on page 18: 10\n",
      "Number of results on page 19: 10\n",
      "Number of results on page 20: 10\n",
      "Number of results on page 21: 10\n",
      "Number of results on page 22: 10\n",
      "Number of results on page 23: 10\n",
      "Number of results on page 24: 10\n",
      "Number of results on page 25: 10\n",
      "Number of results on page 26: 10\n",
      "Number of results on page 27: 10\n",
      "Number of results on page 28: 10\n",
      "Number of results on page 29: 10\n",
      "Number of results on page 30: 10\n",
      "Number of results on page 31: 10\n",
      "Number of results on page 32: 10\n",
      "Number of results on page 33: 10\n",
      "Number of results on page 34: 10\n",
      "Number of results on page 35: 10\n",
      "Number of results on page 36: 10\n",
      "Number of results on page 37: 10\n",
      "Number of results on page 38: 10\n",
      "Number of results on page 39: 10\n",
      "Number of results on page 40: 10\n",
      "Number of results on page 41: 10\n",
      "Number of results on page 42: 3\n",
      "Searching w/ query: site:www.washingtonpost.com global warming...\n"
     ]
    },
    {
     "name": "stdout",
     "output_type": "stream",
     "text": [
      "Number of results on page 1: 10\n",
      "Number of results on page 2: 10\n",
      "Number of results on page 3: 10\n",
      "Number of results on page 4: 10\n",
      "Number of results on page 5: 10\n",
      "Number of results on page 6: 10\n",
      "Number of results on page 7: 10\n",
      "Number of results on page 8: 10\n",
      "Number of results on page 9: 10\n",
      "Number of results on page 10: 10\n",
      "Number of results on page 11: 10\n",
      "Number of results on page 12: 10\n",
      "Number of results on page 13: 10\n",
      "Number of results on page 14: 10\n",
      "Number of results on page 15: 10\n",
      "Number of results on page 16: 10\n",
      "Number of results on page 17: 10\n",
      "Number of results on page 18: 10\n",
      "Number of results on page 19: 10\n",
      "Number of results on page 20: 10\n",
      "Number of results on page 21: 10\n",
      "Number of results on page 22: 10\n",
      "Number of results on page 23: 10\n",
      "Number of results on page 24: 10\n",
      "Number of results on page 25: 10\n",
      "Number of results on page 26: 10\n",
      "Number of results on page 27: 10\n",
      "Number of results on page 28: 10\n",
      "Number of results on page 29: 10\n",
      "Number of results on page 30: 10\n",
      "Number of results on page 31: 10\n",
      "Number of results on page 32: 10\n",
      "Number of results on page 33: 10\n",
      "Number of results on page 34: 10\n",
      "Number of results on page 35: 10\n",
      "Number of results on page 36: 10\n",
      "Number of results on page 37: 10\n",
      "Number of results on page 38: 7\n",
      "Searching w/ query: site:www.washingtonpost.com fossil fuels...\n",
      "Number of results on page 1: 10\n",
      "Number of results on page 2: 10\n",
      "Number of results on page 3: 10\n",
      "Number of results on page 4: 10\n",
      "Number of results on page 5: 9\n",
      "Number of results on page 6: 10\n",
      "Number of results on page 7: 10\n",
      "Number of results on page 8: 10\n",
      "Number of results on page 9: 10\n",
      "Number of results on page 10: 10\n",
      "Number of results on page 11: 10\n",
      "Number of results on page 12: 10\n",
      "Number of results on page 13: 10\n",
      "Number of results on page 14: 10\n",
      "Number of results on page 15: 10\n",
      "Number of results on page 16: 10\n",
      "Number of results on page 17: 10\n",
      "Number of results on page 18: 10\n",
      "Number of results on page 19: 10\n",
      "Number of results on page 20: 10\n",
      "Number of results on page 21: 10\n",
      "Number of results on page 22: 10\n",
      "Number of results on page 23: 10\n",
      "Number of results on page 24: 10\n",
      "Number of results on page 25: 10\n",
      "Number of results on page 26: 10\n",
      "Number of results on page 27: 10\n",
      "Number of results on page 28: 10\n",
      "Number of results on page 29: 10\n",
      "Number of results on page 30: 10\n",
      "Number of results on page 31: 7\n",
      "Searching w/ query: site:www.progressive.org climate change...\n",
      "Searching w/ query: site:www.progressive.org global warming...\n",
      "Searching w/ query: site:www.progressive.org fossil fuels...\n",
      "Searching w/ query: site:www.nytimes.com climate change...\n",
      "Number of results on page 1: 10\n",
      "Number of results on page 2: 10\n",
      "Number of results on page 3: 10\n",
      "Number of results on page 4: 10\n",
      "Number of results on page 5: 10\n",
      "Number of results on page 6: 10\n",
      "Number of results on page 7: 10\n",
      "Number of results on page 8: 10\n",
      "Number of results on page 9: 10\n",
      "Number of results on page 10: 10\n",
      "Number of results on page 11: 10\n",
      "Number of results on page 12: 10\n",
      "Number of results on page 13: 10\n",
      "Number of results on page 14: 10\n",
      "Number of results on page 15: 10\n",
      "Number of results on page 16: 10\n",
      "Number of results on page 17: 10\n",
      "Number of results on page 18: 10\n",
      "Number of results on page 19: 10\n",
      "Number of results on page 20: 10\n",
      "Number of results on page 21: 10\n",
      "Number of results on page 22: 10\n",
      "Number of results on page 23: 10\n",
      "Number of results on page 24: 10\n",
      "Number of results on page 25: 10\n",
      "Number of results on page 26: 10\n",
      "Number of results on page 27: 10\n",
      "Number of results on page 28: 10\n",
      "Number of results on page 29: 10\n",
      "Number of results on page 30: 10\n",
      "Number of results on page 31: 10\n",
      "Number of results on page 32: 10\n",
      "Number of results on page 33: 10\n",
      "Number of results on page 34: 10\n",
      "Number of results on page 35: 10\n",
      "Number of results on page 36: 10\n",
      "Number of results on page 37: 10\n",
      "Number of results on page 38: 10\n",
      "Number of results on page 39: 10\n",
      "Number of results on page 40: 7\n",
      "Searching w/ query: site:www.nytimes.com global warming...\n",
      "Number of results on page 1: 10\n",
      "Number of results on page 2: 10\n",
      "Number of results on page 3: 10\n",
      "Number of results on page 4: 10\n",
      "Number of results on page 5: 10\n",
      "Number of results on page 6: 10\n",
      "Number of results on page 7: 10\n",
      "Number of results on page 8: 10\n",
      "Number of results on page 9: 10\n",
      "Number of results on page 10: 10\n",
      "Number of results on page 11: 10\n",
      "Number of results on page 12: 10\n",
      "Number of results on page 13: 10\n",
      "Number of results on page 14: 10\n",
      "Number of results on page 15: 10\n",
      "Number of results on page 16: 10\n",
      "Number of results on page 17: 10\n",
      "Number of results on page 18: 10\n",
      "Number of results on page 19: 10\n",
      "Number of results on page 20: 10\n",
      "Number of results on page 21: 10\n",
      "Number of results on page 22: 10\n",
      "Number of results on page 23: 10\n",
      "Number of results on page 24: 10\n",
      "Number of results on page 25: 10\n",
      "Number of results on page 26: 10\n",
      "Number of results on page 27: 10\n",
      "Number of results on page 28: 10\n",
      "Number of results on page 29: 10\n",
      "Number of results on page 30: 10\n",
      "Number of results on page 31: 10\n",
      "Number of results on page 32: 10\n",
      "Number of results on page 33: 10\n",
      "Number of results on page 34: 10\n",
      "Number of results on page 35: 10\n",
      "Number of results on page 36: 10\n",
      "Number of results on page 37: 10\n",
      "Number of results on page 38: 10\n",
      "Number of results on page 39: 3\n",
      "Searching w/ query: site:www.nytimes.com fossil fuels...\n",
      "Number of results on page 1: 10\n",
      "Number of results on page 2: 10\n",
      "Number of results on page 3: 10\n",
      "Number of results on page 4: 10\n",
      "Number of results on page 5: 10\n",
      "Number of results on page 6: 10\n",
      "Number of results on page 7: 10\n",
      "Number of results on page 8: 10\n",
      "Number of results on page 9: 10\n",
      "Number of results on page 10: 10\n",
      "Number of results on page 11: 10\n",
      "Number of results on page 12: 10\n",
      "Number of results on page 13: 10\n",
      "Number of results on page 14: 10\n",
      "Number of results on page 15: 10\n",
      "Number of results on page 16: 10\n",
      "Number of results on page 17: 10\n",
      "Number of results on page 18: 9\n",
      "Number of results on page 19: 10\n",
      "Number of results on page 20: 10\n",
      "Number of results on page 21: 10\n",
      "Number of results on page 22: 10\n",
      "Number of results on page 23: 10\n",
      "Number of results on page 24: 10\n",
      "Number of results on page 25: 10\n",
      "Number of results on page 26: 10\n",
      "Number of results on page 27: 10\n",
      "Number of results on page 28: 10\n",
      "Number of results on page 29: 10\n",
      "Number of results on page 30: 10\n",
      "Number of results on page 31: 10\n",
      "Number of results on page 32: 9\n",
      "Searching w/ query: site:www.motherjones.com climate change...\n",
      "Number of results on page 1: 10\n",
      "Number of results on page 2: 10\n",
      "Number of results on page 3: 10\n",
      "Number of results on page 4: 10\n",
      "Number of results on page 5: 10\n",
      "Number of results on page 6: 10\n",
      "Number of results on page 7: 10\n",
      "Number of results on page 8: 10\n",
      "Number of results on page 9: 10\n",
      "Number of results on page 10: 10\n",
      "Number of results on page 11: 10\n",
      "Number of results on page 12: 10\n",
      "Number of results on page 13: 10\n",
      "Number of results on page 14: 10\n",
      "Number of results on page 15: 10\n",
      "Number of results on page 16: 10\n",
      "Number of results on page 17: 10\n",
      "Number of results on page 18: 10\n",
      "Number of results on page 19: 10\n",
      "Number of results on page 20: 10\n",
      "Number of results on page 21: 10\n",
      "Number of results on page 22: 10\n",
      "Number of results on page 23: 10\n",
      "Number of results on page 24: 10\n",
      "Number of results on page 25: 10\n",
      "Number of results on page 26: 10\n",
      "Number of results on page 27: 10\n",
      "Number of results on page 28: 10\n",
      "Number of results on page 29: 10\n",
      "Number of results on page 30: 10\n",
      "Number of results on page 31: 10\n",
      "Number of results on page 32: 10\n",
      "Number of results on page 33: 10\n",
      "Number of results on page 34: 10\n",
      "Number of results on page 35: 10\n",
      "Number of results on page 36: 7\n",
      "Searching w/ query: site:www.motherjones.com global warming...\n",
      "Number of results on page 1: 10\n",
      "Number of results on page 2: 10\n",
      "Number of results on page 3: 10\n",
      "Number of results on page 4: 10\n",
      "Number of results on page 5: 10\n",
      "Number of results on page 6: 10\n",
      "Number of results on page 7: 10\n",
      "Number of results on page 8: 10\n",
      "Number of results on page 9: 10\n",
      "Number of results on page 10: 10\n",
      "Number of results on page 11: 10\n",
      "Number of results on page 12: 10\n",
      "Number of results on page 13: 10\n",
      "Number of results on page 14: 10\n",
      "Number of results on page 15: 10\n",
      "Number of results on page 16: 10\n",
      "Number of results on page 17: 10\n",
      "Number of results on page 18: 10\n",
      "Number of results on page 19: 10\n",
      "Number of results on page 20: 10\n",
      "Number of results on page 21: 10\n",
      "Number of results on page 22: 10\n",
      "Number of results on page 23: 10\n",
      "Number of results on page 24: 10\n",
      "Number of results on page 25: 10\n",
      "Number of results on page 26: 10\n",
      "Number of results on page 27: 10\n",
      "Number of results on page 28: 10\n",
      "Number of results on page 29: 10\n",
      "Number of results on page 30: 10\n",
      "Number of results on page 31: 10\n",
      "Number of results on page 32: 1\n",
      "Searching w/ query: site:www.motherjones.com fossil fuels...\n"
     ]
    },
    {
     "name": "stdout",
     "output_type": "stream",
     "text": [
      "Number of results on page 1: 10\n",
      "Number of results on page 2: 10\n",
      "Number of results on page 3: 9\n",
      "Number of results on page 4: 10\n",
      "Number of results on page 5: 10\n",
      "Number of results on page 6: 10\n",
      "Number of results on page 7: 10\n",
      "Number of results on page 8: 10\n",
      "Number of results on page 9: 10\n",
      "Number of results on page 10: 10\n",
      "Number of results on page 11: 10\n",
      "Number of results on page 12: 10\n",
      "Number of results on page 13: 10\n",
      "Number of results on page 14: 10\n",
      "Number of results on page 15: 10\n",
      "Number of results on page 16: 10\n",
      "Number of results on page 17: 10\n",
      "Number of results on page 18: 10\n",
      "Number of results on page 19: 10\n",
      "Number of results on page 20: 10\n",
      "Number of results on page 21: 10\n",
      "Number of results on page 22: 10\n",
      "Number of results on page 23: 10\n",
      "Number of results on page 24: 10\n",
      "Number of results on page 25: 10\n",
      "Number of results on page 26: 10\n",
      "Number of results on page 27: 10\n",
      "Number of results on page 28: 3\n",
      "Searching w/ query: site:www.democracynow.org climate change...\n",
      "Number of results on page 1: 10\n",
      "Number of results on page 2: 10\n",
      "Number of results on page 3: 10\n",
      "Number of results on page 4: 10\n",
      "Number of results on page 5: 10\n",
      "Number of results on page 6: 10\n",
      "Number of results on page 7: 10\n",
      "Number of results on page 8: 10\n",
      "Number of results on page 9: 10\n",
      "Number of results on page 10: 10\n",
      "Number of results on page 11: 10\n",
      "Number of results on page 12: 10\n",
      "Number of results on page 13: 10\n",
      "Number of results on page 14: 10\n",
      "Number of results on page 15: 10\n",
      "Number of results on page 16: 10\n",
      "Number of results on page 17: 10\n",
      "Number of results on page 18: 10\n",
      "Number of results on page 19: 10\n",
      "Number of results on page 20: 10\n",
      "Number of results on page 21: 2\n",
      "Searching w/ query: site:www.democracynow.org global warming...\n",
      "Number of results on page 1: 10\n",
      "Number of results on page 2: 10\n",
      "Number of results on page 3: 10\n",
      "Number of results on page 4: 10\n",
      "Number of results on page 5: 10\n",
      "Number of results on page 6: 10\n",
      "Number of results on page 7: 10\n",
      "Number of results on page 8: 10\n",
      "Number of results on page 9: 10\n",
      "Number of results on page 10: 10\n",
      "Number of results on page 11: 10\n",
      "Number of results on page 12: 9\n",
      "Number of results on page 13: 10\n",
      "Number of results on page 14: 10\n",
      "Number of results on page 15: 10\n",
      "Number of results on page 16: 10\n",
      "Number of results on page 17: 10\n",
      "Number of results on page 18: 10\n",
      "Number of results on page 19: 10\n",
      "Number of results on page 20: 10\n",
      "Number of results on page 21: 10\n",
      "Number of results on page 22: 10\n",
      "Number of results on page 23: 10\n",
      "Number of results on page 24: 6\n",
      "Searching w/ query: site:www.democracynow.org fossil fuels...\n",
      "Number of results on page 1: 10\n",
      "Number of results on page 2: 10\n",
      "Number of results on page 3: 10\n",
      "Number of results on page 4: 10\n",
      "Number of results on page 5: 10\n",
      "Number of results on page 6: 10\n",
      "Number of results on page 7: 10\n",
      "Number of results on page 8: 10\n",
      "Number of results on page 9: 10\n",
      "Number of results on page 10: 10\n",
      "Number of results on page 11: 10\n",
      "Number of results on page 12: 10\n",
      "Number of results on page 13: 10\n",
      "Number of results on page 14: 10\n",
      "Number of results on page 15: 10\n",
      "Number of results on page 16: 10\n",
      "Number of results on page 17: 10\n",
      "Number of results on page 18: 10\n",
      "Number of results on page 19: 10\n",
      "Number of results on page 20: 10\n",
      "Number of results on page 21: 9\n"
     ]
    }
   ],
   "source": [
    "# Query each domain for each keyword\n",
    "for DOMAIN in DOMAINS:\n",
    "    for KW in CC_KEYWORDS:\n",
    "        dl = do_serpapi(DOMAIN,KW)\n",
    "        results = parse_serpapi_results(dl)\n",
    "        URLS_PER_DOMAIN[DOMAIN][KW] = results"
   ]
  },
  {
   "cell_type": "code",
   "execution_count": 241,
   "metadata": {
    "hidden": true
   },
   "outputs": [],
   "source": [
    "# Save nested dict\n",
    "pickle.dump(URLS_PER_DOMAIN,open('google_search_res_climate_change.pkl','wb'))"
   ]
  },
  {
   "cell_type": "code",
   "execution_count": 242,
   "metadata": {
    "hidden": true
   },
   "outputs": [
    {
     "data": {
      "text/plain": [
       "dict_keys(['www.foxnews.com', 'www.breitbart.com', 'www.theblaze.com', 'www.pjmedia.com', 'www.nationalreview.com', 'www.thenation.com', 'www.buzzfeednews.com', 'www.vox.com', 'www.washingtonpost.com', 'www.progressive.org', 'www.nytimes.com', 'www.motherjones.com', 'www.democracynow.org'])"
      ]
     },
     "execution_count": 242,
     "metadata": {},
     "output_type": "execute_result"
    }
   ],
   "source": [
    "URLS_PER_DOMAIN.keys()"
   ]
  },
  {
   "cell_type": "markdown",
   "metadata": {
    "hidden": true
   },
   "source": [
    "### MediaCloud URLs"
   ]
  },
  {
   "cell_type": "markdown",
   "metadata": {
    "hidden": true
   },
   "source": [
    "We use the MediaCloud Python client (https://github.com/mitmedialab/MediaCloud-API-Client) to fetch stories from a larger set of media outlets."
   ]
  },
  {
   "cell_type": "code",
   "execution_count": 244,
   "metadata": {
    "hidden": true
   },
   "outputs": [],
   "source": [
    "import datetime\n",
    "import mediacloud.api\n",
    "mc = mediacloud.api.MediaCloud('feb32a16d870132da7e7d93a0414d796fec95edd30a55d453075927d083a807b')"
   ]
  },
  {
   "cell_type": "markdown",
   "metadata": {
    "hidden": true
   },
   "source": [
    "These are the fields that we're interested in getting:"
   ]
  },
  {
   "cell_type": "code",
   "execution_count": 245,
   "metadata": {
    "hidden": true
   },
   "outputs": [],
   "source": [
    "mc_metadata = ['ap_syndicated','language','media_id','media_name','publish_date','title','guid','url','word_count']"
   ]
  },
  {
   "cell_type": "markdown",
   "metadata": {
    "hidden": true
   },
   "source": [
    "Read in tab-separated file with outlet id and stance information."
   ]
  },
  {
   "cell_type": "code",
   "execution_count": 282,
   "metadata": {
    "hidden": true
   },
   "outputs": [
    {
     "data": {
      "text/html": [
       "<div>\n",
       "<style scoped>\n",
       "    .dataframe tbody tr th:only-of-type {\n",
       "        vertical-align: middle;\n",
       "    }\n",
       "\n",
       "    .dataframe tbody tr th {\n",
       "        vertical-align: top;\n",
       "    }\n",
       "\n",
       "    .dataframe thead th {\n",
       "        text-align: right;\n",
       "    }\n",
       "</style>\n",
       "<table border=\"1\" class=\"dataframe\">\n",
       "  <thead>\n",
       "    <tr style=\"text-align: right;\">\n",
       "      <th></th>\n",
       "      <th>id</th>\n",
       "      <th>outlet_name</th>\n",
       "      <th>stance</th>\n",
       "    </tr>\n",
       "  </thead>\n",
       "  <tbody>\n",
       "    <tr>\n",
       "      <td>0</td>\n",
       "      <td>1</td>\n",
       "      <td>new_york_times</td>\n",
       "      <td>pro</td>\n",
       "    </tr>\n",
       "    <tr>\n",
       "      <td>1</td>\n",
       "      <td>2</td>\n",
       "      <td>washington_post</td>\n",
       "      <td>pro</td>\n",
       "    </tr>\n",
       "    <tr>\n",
       "      <td>2</td>\n",
       "      <td>3</td>\n",
       "      <td>christian_science_monitor</td>\n",
       "      <td>between</td>\n",
       "    </tr>\n",
       "    <tr>\n",
       "      <td>3</td>\n",
       "      <td>4</td>\n",
       "      <td>usa_today</td>\n",
       "      <td>pro</td>\n",
       "    </tr>\n",
       "    <tr>\n",
       "      <td>4</td>\n",
       "      <td>1092</td>\n",
       "      <td>fox</td>\n",
       "      <td>anti</td>\n",
       "    </tr>\n",
       "  </tbody>\n",
       "</table>\n",
       "</div>"
      ],
      "text/plain": [
       "     id                outlet_name   stance\n",
       "0     1             new_york_times      pro\n",
       "1     2            washington_post      pro\n",
       "2     3  christian_science_monitor  between\n",
       "3     4                  usa_today      pro\n",
       "4  1092                        fox     anti"
      ]
     },
     "execution_count": 282,
     "metadata": {},
     "output_type": "execute_result"
    }
   ],
   "source": [
    "mc_ids = pd.read_csv('mediacloud_ids.txt',sep='\\t',header=None)\n",
    "mc_ids.columns=['id','outlet_name','stance']\n",
    "mc_ids.head()"
   ]
  },
  {
   "cell_type": "code",
   "execution_count": 273,
   "metadata": {
    "code_folding": [],
    "hidden": true,
    "scrolled": true
   },
   "outputs": [
    {
     "name": "stdout",
     "output_type": "stream",
     "text": [
      "Done fetching stories from new_york_times (outlet id = 1).\n",
      "Done fetching stories from washington_post (outlet id = 2).\n",
      "Done fetching stories from christian_science_monitor (outlet id = 3).\n"
     ]
    }
   ],
   "source": [
    "# Collect stories from each outlet\n",
    "for curr_outlet_ix in mc_ids.index:\n",
    "    curr_outlet_id = mc_ids.iloc[curr_outlet_ix]['id']\n",
    "    curr_outlet_stance = mc_ids.iloc[curr_outlet_ix]['stance']\n",
    "    fetch_size = 500\n",
    "    stories = []\n",
    "    last_processed_stories_id = 0\n",
    "    for start_year in range(2000,2021,5): # Start collecting stories from Jan. 1, 2000 \n",
    "        while len(stories) < 2000:\n",
    "            fetched_stories = mc.storyList('(climate AND chang*) OR (global AND warming) OR (carbon AND dioxide) OR (co2) AND media_id:{}'.format(curr_outlet_id), \n",
    "                                           solr_filter=mc.publish_date_query(datetime.date(start_year,1,1), datetime.date(start_year+4,12,31)),\n",
    "                                           last_processed_stories_id=last_processed_stories_id, rows= fetch_size)\n",
    "            stories.extend(fetched_stories)\n",
    "            if len( fetched_stories) < fetch_size:\n",
    "                break\n",
    "            last_processed_stories_id = stories[-1]['processed_stories_id']\n",
    "    if len(stories) > 0:\n",
    "        df = pd.DataFrame({key: [s[key] for s in stories] for key in mc_metadata})\n",
    "        df['topic'] = ['cc']*len(df)\n",
    "        df['stance'] = curr_outlet_stance\n",
    "        df.sort_values(by='publish_date')\n",
    "\n",
    "        OUTLET_NAME = df['media_name'].iloc[0].lower().replace(' ','_')\n",
    "        df.to_pickle(os.path.join('mediacloud','{}_df.pkl'.format(OUTLET_NAME)))\n",
    "        print('Done fetching stories from {} (outlet id = {}).'.format(OUTLET_NAME,curr_outlet_id))"
   ]
  },
  {
   "cell_type": "markdown",
   "metadata": {
    "hidden": true
   },
   "source": [
    "Now, merge into a single df; filter out stories not in English; clean titles."
   ]
  },
  {
   "cell_type": "code",
   "execution_count": 274,
   "metadata": {
    "hidden": true
   },
   "outputs": [],
   "source": [
    "dfs = []\n",
    "for filename in os.listdir('mediacloud'):\n",
    "    df = pd.read_pickle(os.path.join('mediacloud',filename))\n",
    "    dfs.append(df)\n",
    "df_all = pd.concat(dfs,ignore_index=True)"
   ]
  },
  {
   "cell_type": "code",
   "execution_count": 275,
   "metadata": {
    "hidden": true
   },
   "outputs": [],
   "source": [
    "df_all = df_all[df_all.language == 'en']\n",
    "df_all['clean_title'] = df_all.title.apply(lambda x: re.sub(r'[^a-zA-Z0-9\\s]', '', x.lower()))"
   ]
  },
  {
   "cell_type": "code",
   "execution_count": 280,
   "metadata": {
    "hidden": true,
    "scrolled": true
   },
   "outputs": [
    {
     "data": {
      "text/html": [
       "<div>\n",
       "<style scoped>\n",
       "    .dataframe tbody tr th:only-of-type {\n",
       "        vertical-align: middle;\n",
       "    }\n",
       "\n",
       "    .dataframe tbody tr th {\n",
       "        vertical-align: top;\n",
       "    }\n",
       "\n",
       "    .dataframe thead th {\n",
       "        text-align: right;\n",
       "    }\n",
       "</style>\n",
       "<table border=\"1\" class=\"dataframe\">\n",
       "  <thead>\n",
       "    <tr style=\"text-align: right;\">\n",
       "      <th></th>\n",
       "      <th>ap_syndicated</th>\n",
       "      <th>language</th>\n",
       "      <th>media_id</th>\n",
       "      <th>media_name</th>\n",
       "      <th>publish_date</th>\n",
       "      <th>title</th>\n",
       "      <th>guid</th>\n",
       "      <th>url</th>\n",
       "      <th>word_count</th>\n",
       "      <th>topic</th>\n",
       "      <th>stance</th>\n",
       "      <th>clean_title</th>\n",
       "    </tr>\n",
       "  </thead>\n",
       "  <tbody>\n",
       "    <tr>\n",
       "      <td>0</td>\n",
       "      <td>False</td>\n",
       "      <td>en</td>\n",
       "      <td>18468</td>\n",
       "      <td>activistpost.com</td>\n",
       "      <td>2011-05-28 17:32:00</td>\n",
       "      <td>Activist Post: David Cameron Says Non-Violent ...</td>\n",
       "      <td>http://www.activistpost.com/2014/09/david-came...</td>\n",
       "      <td>http://www.activistpost.com/2014/09/david-came...</td>\n",
       "      <td>None</td>\n",
       "      <td>cc</td>\n",
       "      <td>anti</td>\n",
       "      <td>activist post david cameron says nonviolent co...</td>\n",
       "    </tr>\n",
       "    <tr>\n",
       "      <td>1</td>\n",
       "      <td>False</td>\n",
       "      <td>en</td>\n",
       "      <td>18468</td>\n",
       "      <td>activistpost.com</td>\n",
       "      <td>2012-09-29 05:00:00</td>\n",
       "      <td>Activist Post:  Is the CDC's Mandated Vaccine ...</td>\n",
       "      <td>http://www.activistpost.com/2012/09/is-cdcs-ma...</td>\n",
       "      <td>http://www.activistpost.com/2012/09/is-cdcs-ma...</td>\n",
       "      <td>None</td>\n",
       "      <td>cc</td>\n",
       "      <td>anti</td>\n",
       "      <td>activist post  is the cdcs mandated vaccine sc...</td>\n",
       "    </tr>\n",
       "    <tr>\n",
       "      <td>2</td>\n",
       "      <td>False</td>\n",
       "      <td>en</td>\n",
       "      <td>18468</td>\n",
       "      <td>activistpost.com</td>\n",
       "      <td>2012-04-14 05:00:00</td>\n",
       "      <td>Activist Post: Haters of Humanity: The Church ...</td>\n",
       "      <td>http://www.activistpost.com/2012/04/haters-of-...</td>\n",
       "      <td>http://www.activistpost.com/2012/04/haters-of-...</td>\n",
       "      <td>None</td>\n",
       "      <td>cc</td>\n",
       "      <td>anti</td>\n",
       "      <td>activist post haters of humanity the church of...</td>\n",
       "    </tr>\n",
       "    <tr>\n",
       "      <td>3</td>\n",
       "      <td>False</td>\n",
       "      <td>en</td>\n",
       "      <td>18468</td>\n",
       "      <td>activistpost.com</td>\n",
       "      <td>2011-04-17 05:00:00</td>\n",
       "      <td>Activist Post: Masters Of The World Meet To Pl...</td>\n",
       "      <td>http://www.activistpost.com/2011/04/masters-of...</td>\n",
       "      <td>http://www.activistpost.com/2011/04/masters-of...</td>\n",
       "      <td>None</td>\n",
       "      <td>cc</td>\n",
       "      <td>anti</td>\n",
       "      <td>activist post masters of the world meet to pla...</td>\n",
       "    </tr>\n",
       "    <tr>\n",
       "      <td>4</td>\n",
       "      <td>False</td>\n",
       "      <td>en</td>\n",
       "      <td>18468</td>\n",
       "      <td>activistpost.com</td>\n",
       "      <td>2012-04-01 08:00:00</td>\n",
       "      <td>Is The CIA Manipulating the Weather?</td>\n",
       "      <td>https://www.activistpost.com/2016/07/is-the-ci...</td>\n",
       "      <td>https://www.activistpost.com/2016/07/is-the-ci...</td>\n",
       "      <td>None</td>\n",
       "      <td>cc</td>\n",
       "      <td>anti</td>\n",
       "      <td>is the cia manipulating the weather</td>\n",
       "    </tr>\n",
       "    <tr>\n",
       "      <td>...</td>\n",
       "      <td>...</td>\n",
       "      <td>...</td>\n",
       "      <td>...</td>\n",
       "      <td>...</td>\n",
       "      <td>...</td>\n",
       "      <td>...</td>\n",
       "      <td>...</td>\n",
       "      <td>...</td>\n",
       "      <td>...</td>\n",
       "      <td>...</td>\n",
       "      <td>...</td>\n",
       "      <td>...</td>\n",
       "    </tr>\n",
       "    <tr>\n",
       "      <td>10442</td>\n",
       "      <td>False</td>\n",
       "      <td>en</td>\n",
       "      <td>2</td>\n",
       "      <td>Washington Post</td>\n",
       "      <td>2020-02-23 19:53:13</td>\n",
       "      <td>The anti-Greta: A conservative think tank take...</td>\n",
       "      <td>https://www.washingtonpost.com/climate-environ...</td>\n",
       "      <td>https://www.washingtonpost.com/climate-environ...</td>\n",
       "      <td>None</td>\n",
       "      <td>cc</td>\n",
       "      <td>pro</td>\n",
       "      <td>the antigreta a conservative think tank takes ...</td>\n",
       "    </tr>\n",
       "    <tr>\n",
       "      <td>10443</td>\n",
       "      <td>False</td>\n",
       "      <td>en</td>\n",
       "      <td>2</td>\n",
       "      <td>Washington Post</td>\n",
       "      <td>2020-03-06 12:00:00</td>\n",
       "      <td>It was only a matter of time. Lab-created ‘mol...</td>\n",
       "      <td>https://www.washingtonpost.com/lifestyle/food/...</td>\n",
       "      <td>https://www.washingtonpost.com/lifestyle/food/...</td>\n",
       "      <td>None</td>\n",
       "      <td>cc</td>\n",
       "      <td>pro</td>\n",
       "      <td>it was only a matter of time labcreated molecu...</td>\n",
       "    </tr>\n",
       "    <tr>\n",
       "      <td>10444</td>\n",
       "      <td>False</td>\n",
       "      <td>en</td>\n",
       "      <td>2</td>\n",
       "      <td>Washington Post</td>\n",
       "      <td>2020-03-06 03:27:58</td>\n",
       "      <td>Global crises have spurred declines in emissio...</td>\n",
       "      <td>https://www.washingtonpost.com/climate-environ...</td>\n",
       "      <td>https://www.washingtonpost.com/climate-environ...</td>\n",
       "      <td>None</td>\n",
       "      <td>cc</td>\n",
       "      <td>pro</td>\n",
       "      <td>global crises have spurred declines in emissio...</td>\n",
       "    </tr>\n",
       "    <tr>\n",
       "      <td>10445</td>\n",
       "      <td>False</td>\n",
       "      <td>en</td>\n",
       "      <td>2</td>\n",
       "      <td>Washington Post</td>\n",
       "      <td>2020-03-09 07:56:07</td>\n",
       "      <td>The Energy 202: Three charts that explain what...</td>\n",
       "      <td>https://www.washingtonpost.com/politics/the-en...</td>\n",
       "      <td>https://www.washingtonpost.com/politics/the-en...</td>\n",
       "      <td>None</td>\n",
       "      <td>cc</td>\n",
       "      <td>pro</td>\n",
       "      <td>the energy 202 three charts that explain what ...</td>\n",
       "    </tr>\n",
       "    <tr>\n",
       "      <td>10446</td>\n",
       "      <td>False</td>\n",
       "      <td>en</td>\n",
       "      <td>2</td>\n",
       "      <td>Washington Post</td>\n",
       "      <td>2020-03-13 14:32:02</td>\n",
       "      <td>Pollution is plummeting in Italy in the wake o...</td>\n",
       "      <td>https://www.washingtonpost.com/climate-environ...</td>\n",
       "      <td>https://www.washingtonpost.com/climate-environ...</td>\n",
       "      <td>None</td>\n",
       "      <td>cc</td>\n",
       "      <td>pro</td>\n",
       "      <td>pollution is plummeting in italy in the wake o...</td>\n",
       "    </tr>\n",
       "  </tbody>\n",
       "</table>\n",
       "<p>10305 rows × 12 columns</p>\n",
       "</div>"
      ],
      "text/plain": [
       "       ap_syndicated language  media_id        media_name  \\\n",
       "0              False       en     18468  activistpost.com   \n",
       "1              False       en     18468  activistpost.com   \n",
       "2              False       en     18468  activistpost.com   \n",
       "3              False       en     18468  activistpost.com   \n",
       "4              False       en     18468  activistpost.com   \n",
       "...              ...      ...       ...               ...   \n",
       "10442          False       en         2   Washington Post   \n",
       "10443          False       en         2   Washington Post   \n",
       "10444          False       en         2   Washington Post   \n",
       "10445          False       en         2   Washington Post   \n",
       "10446          False       en         2   Washington Post   \n",
       "\n",
       "              publish_date                                              title  \\\n",
       "0      2011-05-28 17:32:00  Activist Post: David Cameron Says Non-Violent ...   \n",
       "1      2012-09-29 05:00:00  Activist Post:  Is the CDC's Mandated Vaccine ...   \n",
       "2      2012-04-14 05:00:00  Activist Post: Haters of Humanity: The Church ...   \n",
       "3      2011-04-17 05:00:00  Activist Post: Masters Of The World Meet To Pl...   \n",
       "4      2012-04-01 08:00:00               Is The CIA Manipulating the Weather?   \n",
       "...                    ...                                                ...   \n",
       "10442  2020-02-23 19:53:13  The anti-Greta: A conservative think tank take...   \n",
       "10443  2020-03-06 12:00:00  It was only a matter of time. Lab-created ‘mol...   \n",
       "10444  2020-03-06 03:27:58  Global crises have spurred declines in emissio...   \n",
       "10445  2020-03-09 07:56:07  The Energy 202: Three charts that explain what...   \n",
       "10446  2020-03-13 14:32:02  Pollution is plummeting in Italy in the wake o...   \n",
       "\n",
       "                                                    guid  \\\n",
       "0      http://www.activistpost.com/2014/09/david-came...   \n",
       "1      http://www.activistpost.com/2012/09/is-cdcs-ma...   \n",
       "2      http://www.activistpost.com/2012/04/haters-of-...   \n",
       "3      http://www.activistpost.com/2011/04/masters-of...   \n",
       "4      https://www.activistpost.com/2016/07/is-the-ci...   \n",
       "...                                                  ...   \n",
       "10442  https://www.washingtonpost.com/climate-environ...   \n",
       "10443  https://www.washingtonpost.com/lifestyle/food/...   \n",
       "10444  https://www.washingtonpost.com/climate-environ...   \n",
       "10445  https://www.washingtonpost.com/politics/the-en...   \n",
       "10446  https://www.washingtonpost.com/climate-environ...   \n",
       "\n",
       "                                                     url word_count topic  \\\n",
       "0      http://www.activistpost.com/2014/09/david-came...       None    cc   \n",
       "1      http://www.activistpost.com/2012/09/is-cdcs-ma...       None    cc   \n",
       "2      http://www.activistpost.com/2012/04/haters-of-...       None    cc   \n",
       "3      http://www.activistpost.com/2011/04/masters-of...       None    cc   \n",
       "4      https://www.activistpost.com/2016/07/is-the-ci...       None    cc   \n",
       "...                                                  ...        ...   ...   \n",
       "10442  https://www.washingtonpost.com/climate-environ...       None    cc   \n",
       "10443  https://www.washingtonpost.com/lifestyle/food/...       None    cc   \n",
       "10444  https://www.washingtonpost.com/climate-environ...       None    cc   \n",
       "10445  https://www.washingtonpost.com/politics/the-en...       None    cc   \n",
       "10446  https://www.washingtonpost.com/climate-environ...       None    cc   \n",
       "\n",
       "      stance                                        clean_title  \n",
       "0       anti  activist post david cameron says nonviolent co...  \n",
       "1       anti  activist post  is the cdcs mandated vaccine sc...  \n",
       "2       anti  activist post haters of humanity the church of...  \n",
       "3       anti  activist post masters of the world meet to pla...  \n",
       "4       anti                is the cia manipulating the weather  \n",
       "...      ...                                                ...  \n",
       "10442    pro  the antigreta a conservative think tank takes ...  \n",
       "10443    pro  it was only a matter of time labcreated molecu...  \n",
       "10444    pro  global crises have spurred declines in emissio...  \n",
       "10445    pro  the energy 202 three charts that explain what ...  \n",
       "10446    pro  pollution is plummeting in italy in the wake o...  \n",
       "\n",
       "[10305 rows x 12 columns]"
      ]
     },
     "execution_count": 280,
     "metadata": {},
     "output_type": "execute_result"
    }
   ],
   "source": [
    "df_all"
   ]
  },
  {
   "cell_type": "code",
   "execution_count": 283,
   "metadata": {
    "hidden": true
   },
   "outputs": [
    {
     "data": {
      "text/plain": [
       "(3407, 12)"
      ]
     },
     "execution_count": 283,
     "metadata": {},
     "output_type": "execute_result"
    }
   ],
   "source": [
    "df_all[df_all.stance=='anti'].shape"
   ]
  },
  {
   "cell_type": "code",
   "execution_count": 284,
   "metadata": {
    "hidden": true
   },
   "outputs": [
    {
     "data": {
      "text/plain": [
       "(6428, 12)"
      ]
     },
     "execution_count": 284,
     "metadata": {},
     "output_type": "execute_result"
    }
   ],
   "source": [
    "df_all[df_all.stance=='pro'].shape"
   ]
  },
  {
   "cell_type": "code",
   "execution_count": 285,
   "metadata": {
    "hidden": true
   },
   "outputs": [],
   "source": [
    "df_all.to_pickle('mediacloud_df.pkl')"
   ]
  },
  {
   "cell_type": "markdown",
   "metadata": {
    "heading_collapsed": true,
    "hidden": true
   },
   "source": [
    "### Reid URLs"
   ]
  },
  {
   "cell_type": "code",
   "execution_count": 287,
   "metadata": {
    "hidden": true
   },
   "outputs": [],
   "source": [
    "reid_urls = {}"
   ]
  },
  {
   "cell_type": "code",
   "execution_count": 286,
   "metadata": {
    "hidden": true
   },
   "outputs": [],
   "source": [
    "load_dir = '/Users/yiweiluo/Dropbox/research/QP2/reid_urls/'"
   ]
  },
  {
   "cell_type": "code",
   "execution_count": 289,
   "metadata": {
    "hidden": true
   },
   "outputs": [],
   "source": [
    "for filename in os.listdir(load_dir):\n",
    "    domain = '_'.join(filename.split('_')[:-1])\n",
    "    urls = pd.read_csv(load_dir+filename,header=None)\n",
    "    reid_urls[domain] = urls"
   ]
  },
  {
   "cell_type": "code",
   "execution_count": 290,
   "metadata": {
    "hidden": true
   },
   "outputs": [
    {
     "data": {
      "text/plain": [
       "dict_keys(['buzzfeed_news', 'democracy_now', 'the_nation', 'the_progressive', 'vox', 'washington_post'])"
      ]
     },
     "execution_count": 290,
     "metadata": {},
     "output_type": "execute_result"
    }
   ],
   "source": [
    "reid_urls.keys()"
   ]
  },
  {
   "cell_type": "code",
   "execution_count": 301,
   "metadata": {
    "hidden": true,
    "scrolled": true
   },
   "outputs": [],
   "source": [
    "pickle.dump(reid_urls,open('reid_urls.pkl','wb'))"
   ]
  },
  {
   "cell_type": "markdown",
   "metadata": {
    "heading_collapsed": true,
    "hidden": true
   },
   "source": [
    "## Vaccines"
   ]
  },
  {
   "cell_type": "markdown",
   "metadata": {
    "hidden": true
   },
   "source": [
    "This section will create a file ```temp_vax_blog_urls.pkl``` containing urls from each blog."
   ]
  },
  {
   "cell_type": "code",
   "execution_count": 599,
   "metadata": {
    "hidden": true
   },
   "outputs": [],
   "source": [
    "advocacy_blogs = ['https://www.voicesforvaccines.org/blog/',\n",
    "                 'https://adultvaccinesnow.org/blog/',\n",
    "                 'https://shotofprevention.com/',\n",
    "                 'https://immunizationevidence.org/featured_issues/',\n",
    "                 'https://www.nfid.org/blog/',\n",
    "                 'https://vaxopedia.org/category/blog/',\n",
    "                 'https://www.familiesfightingflu.org/insights-on-influenza/'\n",
    "                 ]"
   ]
  },
  {
   "cell_type": "markdown",
   "metadata": {
    "hidden": true
   },
   "source": [
    "Create datastructure to store post urls from each blog:"
   ]
  },
  {
   "cell_type": "code",
   "execution_count": 619,
   "metadata": {
    "hidden": true
   },
   "outputs": [],
   "source": [
    "#blog_dict = defaultdict(list)"
   ]
  },
  {
   "cell_type": "markdown",
   "metadata": {
    "heading_collapsed": true,
    "hidden": true
   },
   "source": [
    "### Anti-vaccine blogs"
   ]
  },
  {
   "cell_type": "markdown",
   "metadata": {
    "hidden": true
   },
   "source": [
    "Get URLs from each blog."
   ]
  },
  {
   "cell_type": "code",
   "execution_count": 621,
   "metadata": {
    "hidden": true
   },
   "outputs": [],
   "source": [
    "# Children's Health Defense\n",
    "root_url = 'https://childrenshealthdefense.org/kennedy-news-views/page/'\n",
    "for p_no in range(1,17):\n",
    "    url = root_url + str(p_no)\n",
    "    soup = soupify(url)\n",
    "    articles = soup.find_all('section',attrs={\"class\":'knv-section'})\n",
    "    urls_and_meta = []\n",
    "    for art in articles:\n",
    "        art_meta = art.find('figcaption').find('h4').find('a')\n",
    "        art_date = art.find('figcaption').find('span').text.strip()\n",
    "        art_title = art_meta.text.strip()\n",
    "        art_url = art_meta['href']\n",
    "        urls_and_meta.append((art_url,art_title,art_date))\n",
    "    blog_dict['CHD'].extend(urls_and_meta)"
   ]
  },
  {
   "cell_type": "code",
   "execution_count": 660,
   "metadata": {
    "hidden": true
   },
   "outputs": [
    {
     "name": "stdout",
     "output_type": "stream",
     "text": [
      "17\n"
     ]
    }
   ],
   "source": [
    "# Vaccine Safety Commission\n",
    "root_url = 'https://vaccinesafetycommission.org/studies.html'\n",
    "soup = soupify(root_url)\n",
    "panel_bodies = soup.find_all('div',attrs={'class':'panel-body'})\n",
    "print(len(panel_bodies))\n",
    "text = \"\"\n",
    "for pb in panel_bodies:\n",
    "    text += pb.text.strip()\n",
    "blog_dict['vax_safety_commission'].append((root_url,'50 Studies the AAP Avoided to Mention',None))"
   ]
  },
  {
   "cell_type": "markdown",
   "metadata": {
    "heading_collapsed": true,
    "hidden": true
   },
   "source": [
    "### Vaccine-advocacy blogs"
   ]
  },
  {
   "cell_type": "markdown",
   "metadata": {
    "hidden": true
   },
   "source": [
    "Get URLs from each blog."
   ]
  },
  {
   "cell_type": "code",
   "execution_count": 620,
   "metadata": {
    "hidden": true
   },
   "outputs": [],
   "source": [
    "# Voices for Vaccines\n",
    "for page_no in range(1,21):\n",
    "    url = 'https://www.voicesforvaccines.org/blog/page/{}/'.format(page_no)\n",
    "    soup = soupify(url)\n",
    "    posts = soup.find('div',attrs={'class':'collection posts view-as-grid two-thirds'})\n",
    "    ul = posts.find_all('ul',recursive=False)\n",
    "    assert len(ul) == 1\n",
    "    lis = ul[0].find_all('article')\n",
    "    articles = [x.find('h3').find('a') for x in lis]\n",
    "    urls_and_meta = [(x['href'],x['title']) for x in articles]\n",
    "    blog_dict['https://www.voicesforvaccines.org/blog/'].extend(urls_and_meta)\n",
    "    \n",
    "# Adult Vaccine Access Coalition\n",
    "for page_no in range(1,5):\n",
    "    url = 'https://adultvaccinesnow.org/blog/page/{}/'.format(page_no)\n",
    "    soup = soupify(url)\n",
    "    main = soup.find('div',attrs={'class':'x-main full'})\n",
    "    arts = main.find_all('article')\n",
    "    art_objs = [a.find('h2',attrs={'class':True}).find('a') for a in arts]\n",
    "    urls_and_titles = [(x['href'],x.text) for x in art_objs]\n",
    "    dates = [parser.parse(a.find('header',attrs={'class':'entry-header'}).find('span').text)\n",
    "         for a in arts]\n",
    "    urls_and_meta = [(x[0],x[1],dates[ix]) for ix,x in enumerate(urls_and_titles)]\n",
    "    blog_dict['https://adultvaccinesnow.org/blog/'].extend(urls_and_meta)\n",
    "    \n",
    "# Shot of Prevention\n",
    "n_per_cat = {'science-research':22, \n",
    "            'testimonials-personal-stories':19,\n",
    "            'questions':12,\n",
    "            'policy-advocacy':27,\n",
    "            'expert-insights-and-commentary':32,\n",
    "            'news-outbreaks':27}\n",
    "\n",
    "for category in ['news-outbreaks','science-research','expert-insights-and-commentary',\n",
    "                'policy-advocacy','questions','testimonials-personal-stories']:\n",
    "    for page_no in range(1,n_per_cat[category]+1):\n",
    "        url = 'https://shotofprevention.com/category/{}/page/{}/'.format(category,page_no)\n",
    "        soup = soupify(url)\n",
    "        container = soup.find('div',attrs={'class':'category-container'})\n",
    "        art_objs = container.find_all('div',attrs={'class':'single-box'})\n",
    "        articles = [a.find('h3') for a in art_objs]\n",
    "        urls_and_meta = [(x.find('a')['href'],x.text) for x in articles]\n",
    "        blog_dict['https://shotofprevention.com/'].extend(urls_and_meta)\n",
    "        \n",
    "# VoICE https://immunizationevidence.org\n",
    "for page_no in range(1,3):\n",
    "    url = 'https://immunizationevidence.org/featured_issues/page/{}/'.format(page_no)\n",
    "    soup = soupify(url)\n",
    "    issues = soup.find_all('div',attrs={'class','featuredIssueHighlights'})\n",
    "    titles = [x.find('h3',attrs={'class':'featuredTitle'}).text for x in issues]\n",
    "    urls = [x.find('a',attrs={'class':'blueButton'})['href'] for x in issues]\n",
    "    urls_and_meta = list(zip(urls,titles))\n",
    "    blog_dict['https://immunizationevidence.org/featured_issues/'].extend(urls_and_meta)\n",
    "    \n",
    "# National Foundation for Infectious Diseases https://www.nfid.org/blog/\n",
    "for page_no in range(1,3):\n",
    "    url = 'https://www.nfid.org/blog/page/{}/'.format(page_no)\n",
    "    soup = soupify(url)"
   ]
  },
  {
   "cell_type": "code",
   "execution_count": 661,
   "metadata": {
    "hidden": true
   },
   "outputs": [],
   "source": [
    "pickle.dump(blog_dict,open('temp_vax_blog_urls.pkl','wb'))"
   ]
  },
  {
   "cell_type": "code",
   "execution_count": 662,
   "metadata": {
    "hidden": true
   },
   "outputs": [
    {
     "name": "stdout",
     "output_type": "stream",
     "text": [
      "https://www.voicesforvaccines.org/blog/ 193\n",
      "https://adultvaccinesnow.org/blog/ 40\n",
      "https://shotofprevention.com/ 1365\n",
      "https://immunizationevidence.org/featured_issues/ 13\n",
      "CHD 469\n",
      "vax_safety_commission 1\n"
     ]
    }
   ],
   "source": [
    "test = pickle.load(open('temp_vax_blog_urls.pkl','rb'))\n",
    "for k in test:\n",
    "    print(k,len(test[k]))"
   ]
  },
  {
   "cell_type": "code",
   "execution_count": null,
   "metadata": {
    "hidden": true
   },
   "outputs": [],
   "source": []
  },
  {
   "cell_type": "code",
   "execution_count": null,
   "metadata": {
    "hidden": true
   },
   "outputs": [],
   "source": []
  },
  {
   "cell_type": "code",
   "execution_count": null,
   "metadata": {
    "hidden": true
   },
   "outputs": [],
   "source": []
  },
  {
   "cell_type": "markdown",
   "metadata": {},
   "source": [
    "# Post-processing"
   ]
  },
  {
   "cell_type": "code",
   "execution_count": 142,
   "metadata": {
    "scrolled": true
   },
   "outputs": [],
   "source": [
    "google_cc_urls = pickle.load(open('google_search_res_climate_change.pkl','rb')) # domain, keyword, title, url, date\n",
    "mediacloud_cc_urls = pd.read_pickle('mediacloud_df.pkl') # ap_syndicated, domain, title, url, date\n",
    "reid_cc_urls = pd.read_pickle('reid_urls.pkl') # url only\n",
    "vax_urls = pickle.load(open('temp_vax_blog_urls.pkl','rb'))\n",
    "prev_urls = pd.read_pickle('filtered_all_url_df.pkl')"
   ]
  },
  {
   "cell_type": "code",
   "execution_count": 143,
   "metadata": {
    "code_folding": [
     0
    ]
   },
   "outputs": [],
   "source": [
    "def get_google_res_stance(x):\n",
    "    if 'foxnews.com' in x:\n",
    "        return 'anti'\n",
    "    elif 'breitbart.com' in x:\n",
    "        return 'anti'\n",
    "    elif 'blaze.com' in x:\n",
    "        return 'anti'\n",
    "    elif 'pjmedia.com' in x:\n",
    "        return 'anti'\n",
    "    elif 'nationalreview.com' in x:\n",
    "        return 'anti'\n",
    "    else:\n",
    "        return 'pro'"
   ]
  },
  {
   "cell_type": "markdown",
   "metadata": {},
   "source": [
    "## Filter out non-(relevant)-article URLs"
   ]
  },
  {
   "cell_type": "markdown",
   "metadata": {},
   "source": [
    "The following are NYT tags that we deem indicate that an article is irrelevant."
   ]
  },
  {
   "cell_type": "code",
   "execution_count": 25,
   "metadata": {
    "code_folding": []
   },
   "outputs": [],
   "source": [
    "NYT_SECTIONS_TO_REMOVE = set(['/automobiles/','/autoreviews/','/autoshow/','/business/','/campaign-stops/',\n",
    "                          '/crosswords/',\n",
    "               '/booming/','/giving/','/gmcvb/','/jobs/','/lens/','/letters/','/newyorktoday/',\n",
    "               '/nutrition/','/sept-11-reckoning/','/smallbusiness/',\n",
    "               '/sunday-review/','/garden/','/arts/','/theater/','/sports/','/dining/','/books/','/weekinreview/','/your-money/',\n",
    "                         '/movies/','/fashion/','/technology/','/pageoneplus/','/travel/','/nytnow/',\n",
    "                         '/public-editor/','/education/','/learning/','/podcasts/','/style/','/t-magazine/',\n",
    "                         '/reader-center/','/awardsseason/','/briefing/','/dealbook/','/es/',\n",
    "                          '/greathomesanddestinations/','/interactive/','/media/',\n",
    "                         '/mutfund/','/obituaries/','/personaltech/','/realestate/',\n",
    "                          '/smarter-living/','/todayspaper/','/your-money/','/yourtaxes/',\n",
    "                             '/slideshow/','/interactive/'])"
   ]
  },
  {
   "cell_type": "markdown",
   "metadata": {},
   "source": [
    " The following are URL tags that indicate a given URL is not truly a text article."
   ]
  },
  {
   "cell_type": "code",
   "execution_count": 26,
   "metadata": {},
   "outputs": [],
   "source": [
    "BLACKLIST_URL_STRS = set(['/tag/','/author/','/clips/','/podcasts/','/subject/','/authors/',\n",
    "                         '/category/','/person/','/category/','/shows/','/video/','/topic/',\n",
    "                         '/es/','/topics/','/de/','/tags/','/slideshow/',\n",
    "                         '/interactive/','/transcripts/','/headlines/'])"
   ]
  },
  {
   "cell_type": "code",
   "execution_count": 27,
   "metadata": {},
   "outputs": [],
   "source": [
    "BLACKLIST_URL_INIT_STRS = set(['rss.','feeds.','rssfeeds.'])"
   ]
  },
  {
   "cell_type": "code",
   "execution_count": 4,
   "metadata": {
    "code_folding": [
     0
    ]
   },
   "outputs": [],
   "source": [
    "def is_rss(url):\n",
    "    for xx in BLACKLIST_URL_INIT_STRS:\n",
    "        if url[:len(xx)] == xx:\n",
    "            return True\n",
    "    return False"
   ]
  },
  {
   "cell_type": "code",
   "execution_count": 5,
   "metadata": {
    "code_folding": [
     0
    ]
   },
   "outputs": [],
   "source": [
    "def is_blacklist(url):\n",
    "    for xx in BLACKLIST_URL_STRS:\n",
    "        if xx in url:\n",
    "            return True\n",
    "    return False"
   ]
  },
  {
   "cell_type": "markdown",
   "metadata": {},
   "source": [
    "Create a dataframe combining all data structures with urls, that filters according to above criteria."
   ]
  },
  {
   "cell_type": "code",
   "execution_count": 33,
   "metadata": {
    "code_folding": []
   },
   "outputs": [],
   "source": [
    "# url, title, date, domain, is_AP\n",
    "filtered_urls = []\n",
    "filtered_titles = []\n",
    "filtered_dates = []\n",
    "filtered_domains = []\n",
    "filtered_stances = []\n",
    "filtered_topics = []\n",
    "filtered_is_AP = []"
   ]
  },
  {
   "cell_type": "code",
   "execution_count": 34,
   "metadata": {
    "code_folding": [
     0
    ]
   },
   "outputs": [],
   "source": [
    "for key in google_cc_urls:\n",
    "    for keyword in google_cc_urls[key]:\n",
    "        for item in google_cc_urls[key][keyword]:\n",
    "            url = item[1]\n",
    "            if not is_rss(url) and not is_blacklist(url):\n",
    "                title = item[0]\n",
    "                date = item[2] if len(item) > 2 else None\n",
    "                stance = get_google_res_stance(url)\n",
    "                topic = 'cc'\n",
    "                is_AP = None\n",
    "\n",
    "                if ' | ' not in title:\n",
    "                    filtered_urls.append(url)\n",
    "                    filtered_titles.append(title)\n",
    "                    filtered_dates.append(date)\n",
    "                    filtered_domains.append(key)\n",
    "                    filtered_stances.append(stance)\n",
    "                    filtered_topics.append(topic)\n",
    "                    filtered_is_AP.append(is_AP)"
   ]
  },
  {
   "cell_type": "code",
   "execution_count": 35,
   "metadata": {
    "code_folding": [
     0
    ]
   },
   "outputs": [],
   "source": [
    "for ix in mediacloud_cc_urls.index:\n",
    "    row = mediacloud_cc_urls.loc[ix]\n",
    "    url = row['url'] if 'http' in row['url'] else row['guid']\n",
    "    if not is_rss(url) and not is_blacklist(url):\n",
    "        title = row['clean_title']\n",
    "        date = row['publish_date']\n",
    "        domain = row['media_name']\n",
    "        stance = row['stance']\n",
    "        topic = row['topic']\n",
    "        is_AP = row['ap_syndicated']\n",
    "\n",
    "        if ' | ' not in title:\n",
    "            filtered_urls.append(url)\n",
    "            filtered_titles.append(title)\n",
    "            filtered_dates.append(date)\n",
    "            filtered_domains.append(domain)\n",
    "            filtered_stances.append(stance)\n",
    "            filtered_topics.append(topic)\n",
    "            filtered_is_AP.append(is_AP)"
   ]
  },
  {
   "cell_type": "code",
   "execution_count": 38,
   "metadata": {
    "code_folding": [
     0
    ]
   },
   "outputs": [],
   "source": [
    "for key in reid_cc_urls:\n",
    "    for url in reid_cc_urls[key][0].values:\n",
    "        if not is_rss(url) and not is_blacklist(url):\n",
    "            filtered_urls.append(url)\n",
    "            filtered_titles.append(None)\n",
    "            filtered_dates.append(None)\n",
    "            filtered_domains.append(key)\n",
    "            filtered_stances.append('pro')\n",
    "            filtered_topics.append('cc')\n",
    "            filtered_is_AP.append(None)"
   ]
  },
  {
   "cell_type": "code",
   "execution_count": 39,
   "metadata": {
    "code_folding": [
     0
    ]
   },
   "outputs": [],
   "source": [
    "for key in vax_urls:\n",
    "    for item in vax_urls[key]:\n",
    "        url = item[0]\n",
    "        if not is_blacklist(url) and not is_rss(url):\n",
    "            title = item[1]\n",
    "            item[2] if len(item) > 2 else None\n",
    "            stance = 'anti' if key == 'CHD' or key == 'vax_safety_commission' else 'pro'\n",
    "            is_AP = False\n",
    "        \n",
    "            filtered_urls.append(url)\n",
    "            filtered_titles.append(title)\n",
    "            filtered_dates.append(date)\n",
    "            filtered_domains.append(key)\n",
    "            filtered_stances.append(stance)\n",
    "            filtered_topics.append('vax')\n",
    "            filtered_is_AP.append(is_AP)"
   ]
  },
  {
   "cell_type": "code",
   "execution_count": 146,
   "metadata": {},
   "outputs": [],
   "source": [
    "prev_urls['is_AP'] = [None]*len(prev_urls)"
   ]
  },
  {
   "cell_type": "code",
   "execution_count": 40,
   "metadata": {
    "code_folding": [
     0
    ]
   },
   "outputs": [],
   "source": [
    "combined_df = pd.DataFrame({'url':filtered_urls,\n",
    "                              'title':filtered_titles,\n",
    "                              'date':filtered_dates,\n",
    "                              'domain':filtered_domains,\n",
    "                              'stance':filtered_stances,\n",
    "                              'topic':filtered_topics,\n",
    "                              'is_AP':filtered_is_AP})"
   ]
  },
  {
   "cell_type": "code",
   "execution_count": 41,
   "metadata": {
    "scrolled": false
   },
   "outputs": [
    {
     "data": {
      "text/plain": [
       "(26977, 7)"
      ]
     },
     "execution_count": 41,
     "metadata": {},
     "output_type": "execute_result"
    }
   ],
   "source": [
    "combined_df.shape"
   ]
  },
  {
   "cell_type": "code",
   "execution_count": 42,
   "metadata": {
    "scrolled": true
   },
   "outputs": [
    {
     "data": {
      "text/html": [
       "<div>\n",
       "<style scoped>\n",
       "    .dataframe tbody tr th:only-of-type {\n",
       "        vertical-align: middle;\n",
       "    }\n",
       "\n",
       "    .dataframe tbody tr th {\n",
       "        vertical-align: top;\n",
       "    }\n",
       "\n",
       "    .dataframe thead th {\n",
       "        text-align: right;\n",
       "    }\n",
       "</style>\n",
       "<table border=\"1\" class=\"dataframe\">\n",
       "  <thead>\n",
       "    <tr style=\"text-align: right;\">\n",
       "      <th></th>\n",
       "      <th>url</th>\n",
       "      <th>title</th>\n",
       "      <th>date</th>\n",
       "      <th>domain</th>\n",
       "      <th>stance</th>\n",
       "      <th>topic</th>\n",
       "      <th>is_AP</th>\n",
       "    </tr>\n",
       "  </thead>\n",
       "  <tbody>\n",
       "    <tr>\n",
       "      <th>0</th>\n",
       "      <td>https://www.foxnews.com/science/todays-climate...</td>\n",
       "      <td>Today's Climate Change Is Worse Than Anything ...</td>\n",
       "      <td>Jul 25, 2019</td>\n",
       "      <td>www.foxnews.com</td>\n",
       "      <td>anti</td>\n",
       "      <td>cc</td>\n",
       "      <td>None</td>\n",
       "    </tr>\n",
       "    <tr>\n",
       "      <th>1</th>\n",
       "      <td>https://www.foxnews.com/science/climate-change...</td>\n",
       "      <td>Climate change could destroy half of Earth's a...</td>\n",
       "      <td>Feb 13, 2020</td>\n",
       "      <td>www.foxnews.com</td>\n",
       "      <td>anti</td>\n",
       "      <td>cc</td>\n",
       "      <td>None</td>\n",
       "    </tr>\n",
       "    <tr>\n",
       "      <th>2</th>\n",
       "      <td>https://www.foxnews.com/media/david-webb-clima...</td>\n",
       "      <td>David Webb: 'Climate change is the religion of...</td>\n",
       "      <td>Sep 24, 2019</td>\n",
       "      <td>www.foxnews.com</td>\n",
       "      <td>anti</td>\n",
       "      <td>cc</td>\n",
       "      <td>None</td>\n",
       "    </tr>\n",
       "    <tr>\n",
       "      <th>3</th>\n",
       "      <td>https://www.foxnews.com/science/half-worlds-be...</td>\n",
       "      <td>Half of world's beaches will disappear by 2100...</td>\n",
       "      <td>Mar 2, 2020</td>\n",
       "      <td>www.foxnews.com</td>\n",
       "      <td>anti</td>\n",
       "      <td>cc</td>\n",
       "      <td>None</td>\n",
       "    </tr>\n",
       "    <tr>\n",
       "      <th>4</th>\n",
       "      <td>https://www.foxnews.com/media/mattis-climate-s...</td>\n",
       "      <td>Mattis turns up heat on climate change deniers...</td>\n",
       "      <td>Sep 5, 2019</td>\n",
       "      <td>www.foxnews.com</td>\n",
       "      <td>anti</td>\n",
       "      <td>cc</td>\n",
       "      <td>None</td>\n",
       "    </tr>\n",
       "  </tbody>\n",
       "</table>\n",
       "</div>"
      ],
      "text/plain": [
       "                                                 url  \\\n",
       "0  https://www.foxnews.com/science/todays-climate...   \n",
       "1  https://www.foxnews.com/science/climate-change...   \n",
       "2  https://www.foxnews.com/media/david-webb-clima...   \n",
       "3  https://www.foxnews.com/science/half-worlds-be...   \n",
       "4  https://www.foxnews.com/media/mattis-climate-s...   \n",
       "\n",
       "                                               title          date  \\\n",
       "0  Today's Climate Change Is Worse Than Anything ...  Jul 25, 2019   \n",
       "1  Climate change could destroy half of Earth's a...  Feb 13, 2020   \n",
       "2  David Webb: 'Climate change is the religion of...  Sep 24, 2019   \n",
       "3  Half of world's beaches will disappear by 2100...   Mar 2, 2020   \n",
       "4  Mattis turns up heat on climate change deniers...   Sep 5, 2019   \n",
       "\n",
       "            domain stance topic is_AP  \n",
       "0  www.foxnews.com   anti    cc  None  \n",
       "1  www.foxnews.com   anti    cc  None  \n",
       "2  www.foxnews.com   anti    cc  None  \n",
       "3  www.foxnews.com   anti    cc  None  \n",
       "4  www.foxnews.com   anti    cc  None  "
      ]
     },
     "execution_count": 42,
     "metadata": {},
     "output_type": "execute_result"
    }
   ],
   "source": [
    "combined_df.head()"
   ]
  },
  {
   "cell_type": "code",
   "execution_count": 148,
   "metadata": {},
   "outputs": [
    {
     "data": {
      "text/plain": [
       "(40501, 7)"
      ]
     },
     "execution_count": 148,
     "metadata": {},
     "output_type": "execute_result"
    }
   ],
   "source": [
    "combined_df = combined_df.append(prev_urls[combined_df.columns],\n",
    "                                 ignore_index=True)\n",
    "combined_df.shape"
   ]
  },
  {
   "cell_type": "markdown",
   "metadata": {},
   "source": [
    "## Check consistency of coding"
   ]
  },
  {
   "cell_type": "markdown",
   "metadata": {},
   "source": [
    "We apply a standardization function on the ``domain`` field:"
   ]
  },
  {
   "cell_type": "code",
   "execution_count": 191,
   "metadata": {
    "code_folding": [
     0
    ]
   },
   "outputs": [],
   "source": [
    "def standardize_domain(x):\n",
    "    if x == 'Guardian US':\n",
    "        return 'guardian_us'\n",
    "    elif 'washingtonpost.com' in x:\n",
    "        return 'wapo'\n",
    "    elif 'vox.com' in x:\n",
    "        return 'vox'\n",
    "    elif 'breitbart.com' in x:\n",
    "        return 'breitbart'\n",
    "    elif 'nytimes.com' in x:\n",
    "        return 'nyt'\n",
    "    elif 'motherjones.com' in x:\n",
    "        return 'mj'\n",
    "    elif x == 'democracy_now':\n",
    "        return 'dem_now'\n",
    "    elif 'foxnews.com' in x:\n",
    "        return 'fox'\n",
    "    elif 'buzzfeednews.com' in x:\n",
    "        return 'buzzfeed'\n",
    "    elif 'https://childrenshealthdefense.org/' in x:\n",
    "        return 'chd'\n",
    "    elif x == 'Daily Caller':\n",
    "        return 'daily_caller'\n",
    "    elif x == 'Washington Post':\n",
    "        return 'wapo'\n",
    "    elif 'theblaze.com' in x:\n",
    "        return 'blaze'\n",
    "    elif 'democracynow.org' in x:\n",
    "        return 'dem_now'\n",
    "    elif x == 'Grist':\n",
    "        return 'grist'\n",
    "    elif x == 'New York Times':\n",
    "        return 'nyt'\n",
    "    elif 'nationalreview.com' in x:\n",
    "        return 'nat_review'\n",
    "    elif 'thenation.com' in x:\n",
    "        return 'nation'\n",
    "    elif x == 'Breitbart':\n",
    "        return 'breitbart'\n",
    "    elif x == 'Christian Science Monitor':\n",
    "        return 'cs_monitor'\n",
    "    elif x == 'https://www.csmonitor/':\n",
    "        return 'cs_monitor'\n",
    "    elif x == 'buzzfeed_news':\n",
    "        return 'buzzfeed'\n",
    "    elif x == 'washington_post':\n",
    "        return 'wapo'\n",
    "    elif x == 'FOX News':\n",
    "        return 'fox'\n",
    "    elif x == 'USA Today':\n",
    "        return 'usa_today'\n",
    "    elif x == 'Mother Jones':\n",
    "        return 'mj'\n",
    "    elif x == 'NBC News':\n",
    "        return 'nbc'\n",
    "    elif x == 'Democracy Now!':\n",
    "        return 'dem_now'\n",
    "    elif x == 'National Review':\n",
    "        return 'nat_review'\n",
    "    elif x == 'CNS News':\n",
    "        return 'cns'\n",
    "    elif x == 'Buzzfeed':\n",
    "        return 'buzzfeed'\n",
    "    elif x == 'The Nation':\n",
    "        return 'nation'\n",
    "    elif 'pjmedia.com' in x:\n",
    "        return 'pj'\n",
    "    elif 'pajamas_media' in x:\n",
    "        return 'pj'\n",
    "    else:\n",
    "        return x.lower().strip().replace(' ','_').replace('.com','')"
   ]
  },
  {
   "cell_type": "code",
   "execution_count": 192,
   "metadata": {},
   "outputs": [],
   "source": [
    "combined_df['domain'] = combined_df.domain.apply(standardize_domain)"
   ]
  },
  {
   "cell_type": "code",
   "execution_count": 185,
   "metadata": {
    "scrolled": false
   },
   "outputs": [
    {
     "data": {
      "text/plain": [
       "nyt                             9255\n",
       "mj                              3104\n",
       "fox                             2754\n",
       "breitbart                       2456\n",
       "cs_monitor                      2293\n",
       "                                ... \n",
       "https://www.bmj/                   1\n",
       "https://vaccines.procon.org/       1\n",
       "http://www.5tjt/                   1\n",
       "http://www.bmj/                    1\n",
       "vax_safety_commission              1\n",
       "Name: domain, Length: 74, dtype: int64"
      ]
     },
     "execution_count": 185,
     "metadata": {},
     "output_type": "execute_result"
    }
   ],
   "source": [
    "combined_df.domain.value_counts()"
   ]
  },
  {
   "cell_type": "markdown",
   "metadata": {},
   "source": [
    "And we strip extra whitespace around titles:"
   ]
  },
  {
   "cell_type": "code",
   "execution_count": 186,
   "metadata": {
    "scrolled": true
   },
   "outputs": [],
   "source": [
    "combined_df.title = combined_df.title.apply(lambda x: x.strip() if x \n",
    "                                           is not None else x)\n",
    "#combined_df.to_pickle('temp_combined_df.pkl')"
   ]
  },
  {
   "cell_type": "markdown",
   "metadata": {
    "heading_collapsed": true
   },
   "source": [
    "## Dedup "
   ]
  },
  {
   "cell_type": "markdown",
   "metadata": {
    "hidden": true
   },
   "source": [
    "First, we remove initial 'http(s):' from urls."
   ]
  },
  {
   "cell_type": "code",
   "execution_count": 153,
   "metadata": {
    "hidden": true
   },
   "outputs": [],
   "source": [
    "def strip_url(x):\n",
    "    return x.split('http://')[-1].split('https://')[-1]"
   ]
  },
  {
   "cell_type": "code",
   "execution_count": 154,
   "metadata": {
    "hidden": true
   },
   "outputs": [],
   "source": [
    "combined_df.url = combined_df.url.apply(strip_url)"
   ]
  },
  {
   "cell_type": "code",
   "execution_count": 155,
   "metadata": {
    "hidden": true
   },
   "outputs": [
    {
     "data": {
      "text/plain": [
       "RangeIndex(start=0, stop=40501, step=1)"
      ]
     },
     "execution_count": 155,
     "metadata": {},
     "output_type": "execute_result"
    }
   ],
   "source": [
    "combined_df.index"
   ]
  },
  {
   "cell_type": "code",
   "execution_count": 156,
   "metadata": {
    "hidden": true
   },
   "outputs": [
    {
     "data": {
      "text/plain": [
       "(40501, 7)"
      ]
     },
     "execution_count": 156,
     "metadata": {},
     "output_type": "execute_result"
    }
   ],
   "source": [
    "combined_df.shape"
   ]
  },
  {
   "cell_type": "markdown",
   "metadata": {
    "hidden": true
   },
   "source": [
    "Second, we sort ```combined_df``` by ```title``` and ```date``` so that when we drop duplicate URLs, we keep the one that doesn't have a null value for these fields."
   ]
  },
  {
   "cell_type": "code",
   "execution_count": 187,
   "metadata": {
    "hidden": true,
    "scrolled": false
   },
   "outputs": [
    {
     "data": {
      "text/plain": [
       "(36419, 7)"
      ]
     },
     "execution_count": 187,
     "metadata": {},
     "output_type": "execute_result"
    }
   ],
   "source": [
    "combined_df = combined_df.sort_values(['title'],axis=0)#,ignore_index=True)\n",
    "combined_df.shape"
   ]
  },
  {
   "cell_type": "code",
   "execution_count": 193,
   "metadata": {
    "hidden": true
   },
   "outputs": [
    {
     "name": "stdout",
     "output_type": "stream",
     "text": [
      "(36419, 7)\n"
     ]
    }
   ],
   "source": [
    "combined_df = combined_df.drop_duplicates(subset='url',keep='first')#,ignore_index=True)\n",
    "print(combined_df.shape)\n",
    "combined_df.to_pickle('temp_combined_df.pkl')"
   ]
  },
  {
   "cell_type": "markdown",
   "metadata": {},
   "source": [
    "# Scraping fulltext and missing meta info"
   ]
  },
  {
   "cell_type": "code",
   "execution_count": 189,
   "metadata": {},
   "outputs": [
    {
     "data": {
      "text/plain": [
       "(36419, 7)"
      ]
     },
     "execution_count": 189,
     "metadata": {},
     "output_type": "execute_result"
    }
   ],
   "source": [
    "combined_df = pd.read_pickle('temp_combined_df.pkl')\n",
    "combined_df.shape"
   ]
  },
  {
   "cell_type": "markdown",
   "metadata": {},
   "source": [
    "We use newspaper3k (https://newspaper.readthedocs.io/en/latest/) to scrape article information including fulltext and titles."
   ]
  },
  {
   "cell_type": "code",
   "execution_count": 54,
   "metadata": {},
   "outputs": [],
   "source": [
    "from newspaper import Article\n",
    "from newspaper import ArticleException"
   ]
  },
  {
   "cell_type": "markdown",
   "metadata": {},
   "source": [
    "Wrapper functions for using newspaper3k:"
   ]
  },
  {
   "cell_type": "code",
   "execution_count": 55,
   "metadata": {},
   "outputs": [],
   "source": [
    "from urllib.error import HTTPError"
   ]
  },
  {
   "cell_type": "code",
   "execution_count": 56,
   "metadata": {
    "code_folding": [
     0
    ]
   },
   "outputs": [],
   "source": [
    "def newspaper_parse(url):\n",
    "    if url[:8] != 'https://':\n",
    "        url = 'https://'+url\n",
    "        \n",
    "    try:\n",
    "        article = Article(url)\n",
    "        article.download()\n",
    "        article.parse()\n",
    "        return (article.title,\n",
    "                article.text.replace('\\n',' '))\n",
    "    except ArticleException:\n",
    "        return (None,None)"
   ]
  },
  {
   "cell_type": "code",
   "execution_count": 215,
   "metadata": {
    "code_folding": [
     2,
     4,
     6,
     9,
     12,
     15,
     17,
     20,
     23,
     26,
     29,
     31,
     34,
     36,
     38,
     40,
     42,
     45,
     48,
     51,
     54,
     57,
     60,
     70,
     72,
     75,
     78,
     81,
     84,
     86,
     89,
     92,
     94,
     97,
     100,
     103,
     105,
     108,
     111,
     113,
     116,
     119,
     121,
     123,
     128,
     131,
     135,
     138,
     147,
     150,
     153,
     157,
     160,
     163,
     166,
     169,
     172,
     175,
     178,
     181,
     184,
     186,
     189,
     191,
     193,
     196,
     199,
     207,
     210,
     212,
     215,
     218
    ]
   },
   "outputs": [],
   "source": [
    "from nltk.tokenize import sent_tokenize\n",
    "\n",
    "def get_fulltext(url,domain):\n",
    "    stop_ix,title,text = None,None,None\n",
    "    if domain == 'alternet':\n",
    "        title,text = newspaper_parse(url)\n",
    "    elif domain == 'american_conservative':\n",
    "        title,text = newspaper_parse(url)\n",
    "        stop_ix = -1\n",
    "    elif domain == 'activistpost':\n",
    "        title,text = newspaper_parse(url)\n",
    "        stop_ix = -4\n",
    "    elif domain == 'american_thinker':\n",
    "        title,text = newspaper_parse(url)\n",
    "        stop_ix = -1\n",
    "    elif domain == 'bipartisan_report':\n",
    "        title,text = newspaper_parse(url)\n",
    "    elif domain == 'blaze':\n",
    "        title,text = newspaper_parse(url)\n",
    "        stop_ix = -2\n",
    "    elif domain == 'boston_globe':\n",
    "        title,text = newspaper_parse(url)\n",
    "        stop_ix = -2\n",
    "    elif domain == 'breitbart':\n",
    "        title,text = newspaper_parse(url)\n",
    "        stop_ix = -2\n",
    "    elif domain == 'buzzfeed':\n",
    "        title,text = newspaper_parse(url)\n",
    "        stop_ix = -1\n",
    "    elif domain == 'cbn':\n",
    "        title,text = newspaper_parse(url)\n",
    "    elif domain == 'charismanews':\n",
    "        title,text = newspaper_parse(url)\n",
    "        stop_ix = -14\n",
    "    elif domain == 'chd':\n",
    "        title,text = newspaper_parse(url)\n",
    "    elif domain == 'https://www.citizens.org/':\n",
    "        title,text = newspaper_parse(url)\n",
    "    elif domain == 'cns':\n",
    "        title,text = newspaper_parse(url)\n",
    "    elif domain == 'commdiginews':\n",
    "        title,text = newspaper_parse(url)\n",
    "    elif domain == 'conservative_review':\n",
    "        title,text = newspaper_parse(url)\n",
    "        stop_ix = -2\n",
    "    elif domain == 'conservative_treehouse':\n",
    "        title,text = newspaper_parse(url)\n",
    "        stop_ix = -2\n",
    "    elif domain == 'conservativedailynews':\n",
    "        title,text = newspaper_parse(url)\n",
    "        stop_ix = -4\n",
    "    elif domain == 'conservativefiringline':\n",
    "        title,text = newspaper_parse(url)\n",
    "        stop_ix = -10\n",
    "    elif domain == 'cs_monitor':\n",
    "        title,text = newspaper_parse(url)\n",
    "        stop_ix = -1\n",
    "    elif domain == 'daily_caller':\n",
    "        title,text = newspaper_parse(url)\n",
    "        stop_ix = -3\n",
    "    elif domain == 'daily_dot':\n",
    "        title,text = newspaper_parse(url)\n",
    "        stop_ix = -2\n",
    "    elif domain == 'dem_now':\n",
    "        soup = soupify(url)\n",
    "        try:\n",
    "            ps = soup.find('div',attrs={'itemprop':'articleBody'}).find_all('p')\n",
    "        except AttributeError:\n",
    "            ps = soup.find('div',attrs={'class':'story_summary'}).find_all('p')\n",
    "        text = ' '.join([p.text.replace('\\n', ' ') for p in ps])\n",
    "    elif domain == 'drudgereport':\n",
    "        title,text = newspaper_parse(url)\n",
    "    elif domain == 'fox':\n",
    "        title,text = newspaper_parse(url)\n",
    "        stop_ix = -2\n",
    "    elif domain == 'gateway_pundit':\n",
    "        title,text = newspaper_parse(ur)\n",
    "        stop_ix = -2\n",
    "    elif domain == 'gawker':\n",
    "        title,text = newspaper_parse(url)\n",
    "        stop_ix = -1\n",
    "    elif domain == 'grabien':\n",
    "        title,text = newspaper_parse(url)\n",
    "        stop_ix = -2\n",
    "    elif domain == 'grist':\n",
    "        title,text = newspaper_parse(url)\n",
    "    elif domain == 'guardian_us':\n",
    "        title,text = newspaper_parse(url)\n",
    "        stop_ix = -2\n",
    "    elif domain == 'hot_air':\n",
    "        title,text = newspaper_parse(url)\n",
    "        stop_ix = -2\n",
    "    elif domain == 'https://adultvaccinesnow.org/blog/':\n",
    "        title,text = newspaper_parse(url)\n",
    "    elif domain == 'https://immunizationevidence.org/featured_issues/':\n",
    "        title,text = newspaper_parse(url)\n",
    "        stop_ix = -2\n",
    "    elif domain == 'https://shotofprevention/':\n",
    "        title,text = newspaper_parse(url)\n",
    "        stop_ix = -1\n",
    "    elif domain == 'https://www.voicesforvaccines.org/blog/':\n",
    "        title,text = newspaper_parse(url)\n",
    "        stop_ix = -2\n",
    "    elif domain == 'https://icandecide.org/':\n",
    "        pass\n",
    "    elif domain == 'independentsentinel':\n",
    "        title,text = newspaper_parse(url)\n",
    "        stop_ix = -2\n",
    "    elif domain == 'infowars':\n",
    "        title,text = newspaper_parse(url)\n",
    "        stop_ix = -2\n",
    "    elif domain == 'inthesetimes':\n",
    "        title,text = newspaper_parse(url)\n",
    "    elif domain == 'libertyunyielding':\n",
    "        title,text = newspaper_parse(url)\n",
    "        stop_ix = -1\n",
    "    elif domain == 'mj':\n",
    "        title,text = newspaper_parse(url)\n",
    "        stop_ix = -2\n",
    "    elif domain == 'nat_review':\n",
    "        title,text = newspaper_parse(url)\n",
    "    elif domain == 'nation':\n",
    "        title,text = newspaper_parse(url)\n",
    "    elif domain == 'nbc':\n",
    "        soup = soupify(url)\n",
    "        ps = soup.find('div',attrs={'class':'article-body__content'}).\\\n",
    "        find_all('p',attrs={'class':'endmarkEnabled'})\n",
    "        text = ' '.join([p.text.replace('\\n',' ') for p in ps])\n",
    "    elif domain == 'new_york_magazine':\n",
    "        title,text = newspaper_parse(url)\n",
    "        stop_ix = -2\n",
    "    elif domain == 'newsweek':\n",
    "        soup = soupify(url)\n",
    "        ps = soup.find('div',attrs={'class':'article-content'}).find_all('p')\n",
    "        text = ' '.join([p.text.replace('\\n', ' ') for p in ps])\n",
    "    elif domain == 'newswithviews':\n",
    "        title,text = newspaper_parse(url)\n",
    "        stop_ix = -10\n",
    "    elif domain == 'nyt':\n",
    "        try:\n",
    "            soup = soupify(url)\n",
    "            if soup is not None:\n",
    "                ps = soup.find('section',attrs={'itemprop':'articleBody'}).find_all('p')#,recursive=False)\n",
    "                text = ' '.join([p.text.replace('\\n', ' ') for p in ps])\n",
    "                stop_ix = -5\n",
    "        except HTTPError:\n",
    "            pass\n",
    "    elif domain == 'pajamas_media':\n",
    "        title,text = newspaper_parse(url)\n",
    "        stop_ix = -2\n",
    "    elif domain == 'pj':\n",
    "        title,text = newspaper_parse(url)\n",
    "        stop_ix = -2\n",
    "    elif domain == 'https://physiciansforinformedconsent.org/':\n",
    "        soup = soupify(url)\n",
    "        ps = soup.find('div',attrs={'class':'entry-content'}).find_all('p',attrs={'class':'responsiveNews'})\n",
    "        text = ' '.join([p.text.replace('\\n', ' ') for p in ps])\n",
    "    elif domain == 'progressivestoday':\n",
    "        title,text = newspaper_parse(url)\n",
    "        stop_ix = -1\n",
    "    elif domain == 'quartz':\n",
    "        title,text = newspaper_parse(url)\n",
    "        stop_ix = -2\n",
    "    elif domain == 'rare.us':\n",
    "        title,text = newspaper_parse(url)\n",
    "        stop_ix = -2\n",
    "    elif domain == 'reason':\n",
    "        title,text = newspaper_parse(url)\n",
    "        stop_ix = -3\n",
    "    elif domain == 'redstate':\n",
    "        title,text = newspaper_parse(url)\n",
    "        stop_ix = -1\n",
    "    elif domain == 'sgtreport':\n",
    "        title,text = newspaper_parse(url)\n",
    "        stop_ix = -1\n",
    "    elif domain == 'shoebat':\n",
    "        title,text = newspaper_parse(url)\n",
    "        stop_ix = -1\n",
    "    elif domain == 'sonsoflibertymedia':\n",
    "        title,text = newspaper_parse(url)\n",
    "        stop_ix = -1\n",
    "    elif domain == 'the_american_conservative':\n",
    "        title,text = newspaper_parse(url)\n",
    "        stop_ix = -2\n",
    "    elif domain == 'the_american_spectator':\n",
    "        title,text = newspaper_parse(url)\n",
    "    elif domain == 'the_nation':\n",
    "        title,text = newspaper_parse(url)\n",
    "        stop_ix = -2\n",
    "    elif domain == 'the_progressive':\n",
    "        title,text = newspaper_parse(url)\n",
    "    elif domain == 'the_verge':\n",
    "        title,text = newspaper_parse(url)\n",
    "    elif domain == 'the_week':\n",
    "        title,text = newspaper_parse(url)\n",
    "        stop_ix = -2\n",
    "    elif domain == 'usa_today':\n",
    "        title,text = newspaper_parse(url)\n",
    "        stop_ix = -2\n",
    "    elif domain == 'vax_safety_commission':\n",
    "        root_url = 'https://vaccinesafetycommission.org/studies.html'\n",
    "        soup = soupify(root_url)\n",
    "        panel_bodies = soup.find_all('div',attrs={'class':'panel-body'})\n",
    "        #print(len(panel_bodies))\n",
    "        text = \"\"\n",
    "        for pb in panel_bodies:\n",
    "            text += pb.text.strip()\n",
    "    elif domain == 'vice':\n",
    "        title,text = newspaper_parse(url)\n",
    "        stop_ix = -2\n",
    "    elif domain == 'https://www.voicesforvaccines.org/blog/':\n",
    "        title,text = newspaper_parse(url)\n",
    "    elif domain == 'vox':\n",
    "        title,text = newspaper_parse(url)\n",
    "        stop_ix = -2\n",
    "    elif domain == 'wapo':\n",
    "        title,text = newspaper_parse(url)\n",
    "        stop_ix = -2\n",
    "    else:\n",
    "        print('Unknown domain:',domain)\n",
    "        with open('unknown_domains.txt','w') as f:\n",
    "            f.write(domain+'\\n')\n",
    "\n",
    "    if text is not None and len(text) > 0:\n",
    "        text = text.strip()\n",
    "        sent_tokens = sent_tokenize(text)\n",
    "\n",
    "        # Remove final 2 sentences (usually about social media)\n",
    "        sent_tokens = sent_tokens[:stop_ix]\n",
    "        text = ' '.join(sent_tokens)\n",
    "\n",
    "    return (title,text)"
   ]
  },
  {
   "cell_type": "markdown",
   "metadata": {},
   "source": [
    "Note: The following we run on a cluster using the script ```scrape_fulltext.py``` rather than the notebook code below.<br>\n",
    "We go through every article and scrape its fulltext. If its title is null, or shorter than the title that Newspaper finds, we replace that field with the Newspaper title.<br>\n",
    "We define a special separator token, ```SEP_TOK```, to use to replace the \"/\" character in the urls to identify each article uniquely, and add this unique key to ```combined_df```. We then save the fulltext in a directory called \"fulltexts\" which has a .txt file named with each unique key."
   ]
  },
  {
   "cell_type": "code",
   "execution_count": 58,
   "metadata": {},
   "outputs": [],
   "source": [
    "SEP_TOK = '[SEP]'"
   ]
  },
  {
   "cell_type": "code",
   "execution_count": 161,
   "metadata": {},
   "outputs": [],
   "source": [
    "urls_needed = []\n",
    "url_unique_keys = {}"
   ]
  },
  {
   "cell_type": "code",
   "execution_count": 1317,
   "metadata": {
    "code_folding": [
     0
    ],
    "scrolled": true
   },
   "outputs": [
    {
     "name": "stdout",
     "output_type": "stream",
     "text": [
      "0\n",
      "100\n",
      "200\n",
      "300\n",
      "400\n",
      "500\n",
      "600\n",
      "700\n",
      "800\n",
      "900\n",
      "1000\n",
      "1100\n",
      "1200\n",
      "1300\n",
      "1400\n",
      "1500\n",
      "1600\n",
      "1700\n",
      "1800\n",
      "1900\n",
      "2000\n",
      "2100\n",
      "2200\n",
      "2300\n",
      "2400\n",
      "2500\n",
      "2600\n",
      "2700\n",
      "2800\n",
      "2900\n",
      "3000\n",
      "3100\n",
      "3200\n",
      "3300\n",
      "3400\n",
      "3500\n",
      "3600\n",
      "3700\n",
      "3800\n",
      "3900\n",
      "4000\n",
      "4100\n",
      "4200\n",
      "4300\n",
      "4400\n",
      "4500\n",
      "4600\n",
      "4700\n",
      "4800\n",
      "4900\n",
      "5000\n",
      "5100\n",
      "5200\n",
      "5300\n",
      "5400\n",
      "5500\n",
      "5600\n",
      "5700\n",
      "5800\n",
      "5900\n",
      "6000\n",
      "6100\n",
      "6200\n",
      "6300\n",
      "6400\n",
      "6500\n",
      "6600\n",
      "6700\n",
      "6800\n",
      "6900\n",
      "7000\n",
      "7100\n",
      "7200\n",
      "7300\n",
      "7400\n",
      "7500\n",
      "7600\n",
      "7700\n",
      "7800\n",
      "7900\n",
      "8000\n",
      "8100\n",
      "8200\n",
      "8300\n",
      "8400\n",
      "8500\n",
      "8600\n",
      "8700\n",
      "8800\n",
      "8900\n",
      "9000\n",
      "9100\n",
      "9200\n",
      "9300\n",
      "9400\n",
      "9500\n",
      "9600\n",
      "9700\n",
      "9800\n",
      "9900\n",
      "10000\n",
      "10100\n",
      "Unknown domain!\n",
      "10200\n"
     ]
    },
    {
     "name": "stderr",
     "output_type": "stream",
     "text": [
      "/anaconda3/lib/python3.7/site-packages/PIL/TiffImagePlugin.py:754: UserWarning: Possibly corrupt EXIF data.  Expecting to read 2060 bytes but only got 703. Skipping tag 59932\n",
      "  \" Skipping tag %s\" % (size, len(data), tag))\n",
      "/anaconda3/lib/python3.7/site-packages/PIL/TiffImagePlugin.py:771: UserWarning: Corrupt EXIF data.  Expecting to read 2 bytes but only got 0. \n",
      "  warnings.warn(str(msg))\n",
      "/anaconda3/lib/python3.7/site-packages/PIL/TiffImagePlugin.py:754: UserWarning: Possibly corrupt EXIF data.  Expecting to read 2060 bytes but only got 1727. Skipping tag 59932\n",
      "  \" Skipping tag %s\" % (size, len(data), tag))\n",
      "/anaconda3/lib/python3.7/site-packages/PIL/TiffImagePlugin.py:754: UserWarning: Possibly corrupt EXIF data.  Expecting to read 2060 bytes but only got 534. Skipping tag 59932\n",
      "  \" Skipping tag %s\" % (size, len(data), tag))\n",
      "/anaconda3/lib/python3.7/site-packages/PIL/TiffImagePlugin.py:754: UserWarning: Possibly corrupt EXIF data.  Expecting to read 2060 bytes but only got 1558. Skipping tag 59932\n",
      "  \" Skipping tag %s\" % (size, len(data), tag))\n",
      "/anaconda3/lib/python3.7/site-packages/PIL/TiffImagePlugin.py:754: UserWarning: Possibly corrupt EXIF data.  Expecting to read 8 bytes but only got 0. Skipping tag 33434\n",
      "  \" Skipping tag %s\" % (size, len(data), tag))\n",
      "/anaconda3/lib/python3.7/site-packages/PIL/TiffImagePlugin.py:754: UserWarning: Possibly corrupt EXIF data.  Expecting to read 8 bytes but only got 0. Skipping tag 33437\n",
      "  \" Skipping tag %s\" % (size, len(data), tag))\n",
      "/anaconda3/lib/python3.7/site-packages/PIL/TiffImagePlugin.py:754: UserWarning: Possibly corrupt EXIF data.  Expecting to read 20 bytes but only got 0. Skipping tag 36867\n",
      "  \" Skipping tag %s\" % (size, len(data), tag))\n",
      "/anaconda3/lib/python3.7/site-packages/PIL/TiffImagePlugin.py:754: UserWarning: Possibly corrupt EXIF data.  Expecting to read 8 bytes but only got 0. Skipping tag 37377\n",
      "  \" Skipping tag %s\" % (size, len(data), tag))\n",
      "/anaconda3/lib/python3.7/site-packages/PIL/TiffImagePlugin.py:754: UserWarning: Possibly corrupt EXIF data.  Expecting to read 8 bytes but only got 0. Skipping tag 37378\n",
      "  \" Skipping tag %s\" % (size, len(data), tag))\n",
      "/anaconda3/lib/python3.7/site-packages/PIL/TiffImagePlugin.py:754: UserWarning: Possibly corrupt EXIF data.  Expecting to read 8 bytes but only got 0. Skipping tag 37380\n",
      "  \" Skipping tag %s\" % (size, len(data), tag))\n",
      "/anaconda3/lib/python3.7/site-packages/PIL/TiffImagePlugin.py:754: UserWarning: Possibly corrupt EXIF data.  Expecting to read 8 bytes but only got 0. Skipping tag 37381\n",
      "  \" Skipping tag %s\" % (size, len(data), tag))\n",
      "/anaconda3/lib/python3.7/site-packages/PIL/TiffImagePlugin.py:754: UserWarning: Possibly corrupt EXIF data.  Expecting to read 8 bytes but only got 0. Skipping tag 37382\n",
      "  \" Skipping tag %s\" % (size, len(data), tag))\n",
      "/anaconda3/lib/python3.7/site-packages/PIL/TiffImagePlugin.py:754: UserWarning: Possibly corrupt EXIF data.  Expecting to read 8 bytes but only got 0. Skipping tag 37386\n",
      "  \" Skipping tag %s\" % (size, len(data), tag))\n",
      "/anaconda3/lib/python3.7/site-packages/PIL/TiffImagePlugin.py:754: UserWarning: Possibly corrupt EXIF data.  Expecting to read 8 bytes but only got 0. Skipping tag 41988\n",
      "  \" Skipping tag %s\" % (size, len(data), tag))\n",
      "/anaconda3/lib/python3.7/site-packages/PIL/TiffImagePlugin.py:771: UserWarning: Corrupt EXIF data.  Expecting to read 12 bytes but only got 10. \n",
      "  warnings.warn(str(msg))\n"
     ]
    },
    {
     "name": "stdout",
     "output_type": "stream",
     "text": [
      "10300\n",
      "10400\n",
      "10500\n",
      "10600\n",
      "10700\n",
      "10800\n",
      "10900\n",
      "11000\n",
      "11100\n",
      "11200\n",
      "11300\n",
      "11400\n",
      "11500\n",
      "11600\n",
      "11700\n",
      "11800\n",
      "11900\n",
      "12000\n",
      "12100\n",
      "12200\n",
      "12300\n",
      "12400\n",
      "12500\n",
      "12600\n",
      "12700\n",
      "12800\n",
      "12900\n",
      "13000\n",
      "13100\n",
      "13200\n",
      "13300\n",
      "13400\n",
      "13500\n",
      "13600\n",
      "13700\n",
      "13800\n",
      "13900\n",
      "14000\n",
      "14100\n",
      "14200\n",
      "14300\n",
      "14400\n",
      "14500\n",
      "14600\n",
      "14700\n",
      "14800\n",
      "14900\n",
      "15000\n",
      "15100\n",
      "15200\n",
      "15300\n",
      "15400\n",
      "15500\n",
      "15600\n",
      "15700\n",
      "15800\n",
      "15900\n",
      "16000\n",
      "16100\n",
      "16200\n",
      "16300\n",
      "16400\n",
      "16500\n",
      "16600\n",
      "16700\n",
      "16800\n",
      "16900\n",
      "17000\n",
      "Unknown domain!\n",
      "17100\n",
      "17200\n",
      "17300\n",
      "17400\n",
      "17500\n",
      "17600\n",
      "17700\n",
      "17800\n",
      "17900\n",
      "18000\n",
      "18100\n",
      "Unknown domain!\n",
      "Unknown domain!\n",
      "18200\n",
      "18300\n",
      "18400\n",
      "18500\n",
      "18600\n",
      "18700\n",
      "18800\n",
      "18900\n",
      "19000\n",
      "19100\n",
      "19200\n",
      "19300\n",
      "19400\n",
      "19500\n",
      "19600\n",
      "19700\n",
      "19800\n",
      "19900\n",
      "20000\n",
      "20100\n",
      "20200\n",
      "20300\n",
      "20400\n",
      "20500\n",
      "20600\n",
      "20700\n",
      "20800\n",
      "20900\n",
      "21000\n",
      "21100\n",
      "21200\n",
      "21300\n",
      "21400\n",
      "21500\n",
      "21600\n",
      "21700\n",
      "21800\n",
      "21900\n",
      "22000\n"
     ]
    }
   ],
   "source": [
    "for n,ix in enumerate(combined_df.index):\n",
    "    row = combined_df.loc[ix]\n",
    "    assert row.shape == (7,)\n",
    "    url = row['url']\n",
    "    domain = row['domain']\n",
    "    title = row['title']\n",
    "    try:\n",
    "        newspaper_title,ft = get_fulltext(url,domain)\n",
    "    \n",
    "        # Replace title w/ newspaper title if it's longer \n",
    "        if newspaper_title is not None and \\\n",
    "        title is not None and \\\n",
    "        len(newspaper_title) > len(title):\n",
    "            title = newspaper_title\n",
    "        # Replace title w/ newspaper title if the former is null but\n",
    "        # not the latter\n",
    "        elif newspaper_title is not None and title is None:\n",
    "            title = newspaper_title\n",
    "        else:\n",
    "            pass\n",
    "\n",
    "        if ft is not None:\n",
    "            save_url = SEP_TOK.join(url.split('/'))\n",
    "            try:\n",
    "                with open('./fulltexts/{}.txt'.format(save_url),'w') as f:\n",
    "                    f.write(ft)\n",
    "                url_unique_keys[url] = save_url\n",
    "            except OSError:\n",
    "                with open('./fulltexts/{}.txt'.format(save_url[:90]),'w') as f:\n",
    "                    f.write(ft)\n",
    "                url_unique_keys[url] = save_url[:90]\n",
    "        else:\n",
    "            urls_needed.append(ix)\n",
    "    except AttributeError:\n",
    "        urls_needed.append(ix)\n",
    "        \n",
    "    if n % 100 == 0:\n",
    "        print(n)"
   ]
  },
  {
   "cell_type": "code",
   "execution_count": 1337,
   "metadata": {},
   "outputs": [],
   "source": [
    "print(len(url_unique_keys))\n",
    "pickle.dump(url_unique_keys,open('url_2_unique_key.pkl','wb'))"
   ]
  },
  {
   "cell_type": "code",
   "execution_count": 1318,
   "metadata": {},
   "outputs": [
    {
     "name": "stdout",
     "output_type": "stream",
     "text": [
      "8004\n"
     ]
    }
   ],
   "source": [
    "pickle.dump(urls_needed,open('fulltext_needed_urls.pkl','wb'))\n",
    "#urls_needed = pickle.load(open('./temp/fulltext_needed_urls.pkl','rb'))\n",
    "print(len(urls_needed))"
   ]
  },
  {
   "cell_type": "code",
   "execution_count": 1323,
   "metadata": {
    "code_folding": [
     0
    ],
    "scrolled": true
   },
   "outputs": [],
   "source": [
    "for ix in urls_needed:\n",
    "    assert combined_df.loc[ix].shape == (7,)"
   ]
  },
  {
   "cell_type": "code",
   "execution_count": 1342,
   "metadata": {
    "scrolled": true
   },
   "outputs": [],
   "source": [
    "missing_df = combined_df.loc[urls_needed]\n",
    "#missing_df"
   ]
  },
  {
   "cell_type": "code",
   "execution_count": 1339,
   "metadata": {
    "code_folding": [
     0
    ],
    "scrolled": true
   },
   "outputs": [
    {
     "name": "stdout",
     "output_type": "stream",
     "text": [
      "0\n",
      "100\n",
      "200\n",
      "Unknown domain!\n",
      "300\n",
      "400\n",
      "500\n",
      "600\n",
      "700\n",
      "800\n",
      "900\n",
      "1000\n",
      "1100\n",
      "1200\n",
      "1300\n",
      "1400\n",
      "1500\n",
      "1600\n",
      "1700\n",
      "1800\n",
      "1900\n",
      "2000\n",
      "2100\n",
      "2200\n",
      "2300\n",
      "2400\n",
      "2500\n",
      "2600\n",
      "2700\n",
      "2800\n",
      "2900\n",
      "Unknown domain!\n",
      "3000\n",
      "3100\n",
      "3200\n",
      "3300\n",
      "3400\n",
      "3500\n",
      "3600\n",
      "3700\n",
      "3800\n",
      "3900\n",
      "4000\n",
      "Unknown domain!\n",
      "Unknown domain!\n",
      "4100\n",
      "4200\n",
      "4300\n",
      "4400\n",
      "4500\n",
      "4600\n",
      "4700\n",
      "4800\n",
      "4900\n",
      "5000\n",
      "5100\n",
      "5200\n",
      "5300\n",
      "5400\n",
      "5500\n",
      "5600\n",
      "5700\n",
      "5800\n",
      "5900\n",
      "6000\n",
      "6100\n",
      "6200\n",
      "6300\n",
      "6400\n",
      "6500\n",
      "6600\n",
      "6700\n",
      "6800\n",
      "6900\n",
      "7000\n",
      "7100\n",
      "7200\n",
      "7300\n",
      "7400\n",
      "7500\n",
      "7600\n",
      "7700\n",
      "7800\n",
      "7900\n",
      "8000\n"
     ]
    }
   ],
   "source": [
    "#urls_needed_2 = []\n",
    "for n,ix in enumerate(missing_df.index):\n",
    "    row = missing_df.loc[ix]\n",
    "    url = row['url']\n",
    "    domain = row['domain']\n",
    "    title = row['title']\n",
    "    try:\n",
    "        newspaper_title,ft = get_fulltext(url,domain)\n",
    "    \n",
    "        # Replace title w/ newspaper title if it's longer \n",
    "        if newspaper_title is not None and \\\n",
    "        title is not None and \\\n",
    "        len(newspaper_title) > len(title):\n",
    "            title = newspaper_title\n",
    "        # Replace title w/ newspaper title if the former is null but\n",
    "        # not the latter\n",
    "        elif newspaper_title is not None and title is None:\n",
    "            title = newspaper_title\n",
    "        else:\n",
    "            pass\n",
    "\n",
    "        if ft is not None:\n",
    "            save_url = SEP_TOK.join(url.split('/'))\n",
    "            try:\n",
    "                with open('./fulltexts/{}.txt'.format(save_url),'w') as f:\n",
    "                    f.write(ft)\n",
    "                url_unique_keys[url] = save_url\n",
    "            except OSError:\n",
    "                with open('./fulltexts/{}.txt'.format(save_url[:90]),'w') as f:\n",
    "                    f.write(ft)\n",
    "                url_unique_keys[url] = save_url[:90]\n",
    "        else:\n",
    "            urls_needed_2.append(ix)\n",
    "    except AttributeError:\n",
    "        urls_needed_2.append(ix)\n",
    "        \n",
    "    if n % 100 == 0:\n",
    "        print(n)"
   ]
  },
  {
   "cell_type": "code",
   "execution_count": 1340,
   "metadata": {},
   "outputs": [
    {
     "name": "stdout",
     "output_type": "stream",
     "text": [
      "20585\n"
     ]
    }
   ],
   "source": [
    "print(len(url_unique_keys))\n",
    "pickle.dump(url_unique_keys,open('url_2_unique_key.pkl','wb'))"
   ]
  },
  {
   "cell_type": "code",
   "execution_count": 63,
   "metadata": {
    "scrolled": true
   },
   "outputs": [
    {
     "name": "stdout",
     "output_type": "stream",
     "text": [
      "1492\n"
     ]
    }
   ],
   "source": [
    "#pickle.dump(urls_needed_2,open('fulltext_needed_urls_2.pkl','wb'))\n",
    "urls_needed_2 = pickle.load(open('fulltext_needed_urls_2.pkl','rb'))\n",
    "url_unique_keys = pickle.load(open('url_2_unique_key.pkl','rb'))\n",
    "print(len(urls_needed_2))"
   ]
  },
  {
   "cell_type": "code",
   "execution_count": 60,
   "metadata": {
    "scrolled": true
   },
   "outputs": [
    {
     "data": {
      "text/plain": [
       "1141"
      ]
     },
     "execution_count": 60,
     "metadata": {},
     "output_type": "execute_result"
    }
   ],
   "source": [
    "urls_needed_2_sans_rss = []\n",
    "for ix in urls_needed_2:\n",
    "    if ix in combined_df.index:\n",
    "        row = combined_df.loc[ix]\n",
    "        if not is_rss(row.url) and '/headlines/' not in row.url:\n",
    "            urls_needed_2_sans_rss.append(ix)\n",
    "len(urls_needed_2_sans_rss)"
   ]
  },
  {
   "cell_type": "code",
   "execution_count": 61,
   "metadata": {
    "scrolled": true
   },
   "outputs": [],
   "source": [
    "missing_df = combined_df.loc[urls_needed_2_sans_rss]\n",
    "#missing_df"
   ]
  },
  {
   "cell_type": "code",
   "execution_count": 62,
   "metadata": {},
   "outputs": [
    {
     "data": {
      "text/plain": [
       "1141"
      ]
     },
     "execution_count": 62,
     "metadata": {},
     "output_type": "execute_result"
    }
   ],
   "source": [
    "len(missing_df)"
   ]
  },
  {
   "cell_type": "code",
   "execution_count": 64,
   "metadata": {
    "code_folding": [
     0
    ],
    "scrolled": true
   },
   "outputs": [
    {
     "name": "stdout",
     "output_type": "stream",
     "text": [
      "0\n",
      "100\n",
      "200\n",
      "300\n",
      "400\n",
      "500\n",
      "600\n",
      "700\n",
      "800\n",
      "900\n",
      "1000\n",
      "1100\n"
     ]
    }
   ],
   "source": [
    "#vurls_needed_3 = []\n",
    "for n,ix in enumerate(missing_df.index):\n",
    "    row = missing_df.loc[ix]\n",
    "    url = row['url']\n",
    "    domain = row['domain']\n",
    "    title = row['title']\n",
    "    try:\n",
    "        newspaper_title,ft = get_fulltext(url,domain)\n",
    "    \n",
    "        # Replace title w/ newspaper title if it's longer \n",
    "        if newspaper_title is not None and \\\n",
    "        title is not None and \\\n",
    "        len(newspaper_title) > len(title):\n",
    "            title = newspaper_title\n",
    "        # Replace title w/ newspaper title if the former is null but\n",
    "        # not the latter\n",
    "        elif newspaper_title is not None and title is None:\n",
    "            title = newspaper_title\n",
    "        else:\n",
    "            pass\n",
    "\n",
    "        if ft is not None:\n",
    "            save_url = SEP_TOK.join(url.split('/'))\n",
    "            try:\n",
    "                with open('./fulltexts/{}.txt'.format(save_url),'w') as f:\n",
    "                    f.write(ft)\n",
    "                url_unique_keys[url] = save_url\n",
    "            except OSError:\n",
    "                with open('./fulltexts/{}.txt'.format(save_url[:90]),'w') as f:\n",
    "                    f.write(ft)\n",
    "                url_unique_keys[url] = save_url[:90]\n",
    "        else:\n",
    "            urls_needed_3.append(ix)\n",
    "    except AttributeError:\n",
    "        urls_needed_3.append(ix)\n",
    "        \n",
    "    if n % 100 == 0:\n",
    "        print(n)"
   ]
  },
  {
   "cell_type": "code",
   "execution_count": 65,
   "metadata": {},
   "outputs": [
    {
     "name": "stdout",
     "output_type": "stream",
     "text": [
      "20588\n",
      "268\n"
     ]
    }
   ],
   "source": [
    "pickle.dump(urls_needed_3,open('fulltext_needed_urls_3.pkl','wb'))\n",
    "pickle.dump(url_unique_keys,open('url_2_unique_key.pkl','wb'))\n",
    "#urls_needed_2 = pickle.load(open('fulltext_needed_urls_2.pkl','rb'))\n",
    "#url_unique_keys = pickle.load(open('url_2_unique_key.pkl','rb'))\n",
    "print(len(url_unique_keys))\n",
    "print(len(urls_needed_3))"
   ]
  },
  {
   "cell_type": "code",
   "execution_count": 66,
   "metadata": {},
   "outputs": [],
   "source": [
    "missing_df = combined_df.loc[urls_needed_3]"
   ]
  },
  {
   "cell_type": "code",
   "execution_count": 69,
   "metadata": {},
   "outputs": [
    {
     "data": {
      "text/plain": [
       "nyt              194\n",
       "wapo              27\n",
       "pajamas_media     19\n",
       "fox               10\n",
       "blaze              7\n",
       "nbc                4\n",
       "newsweek           3\n",
       "nat_review         1\n",
       "cns                1\n",
       "alternet           1\n",
       "guardian_us        1\n",
       "Name: domain, dtype: int64"
      ]
     },
     "execution_count": 69,
     "metadata": {},
     "output_type": "execute_result"
    }
   ],
   "source": [
    "missing_df.domain.value_counts()"
   ]
  },
  {
   "cell_type": "markdown",
   "metadata": {
    "heading_collapsed": true
   },
   "source": [
    "## Filter out URLs that don't have article text"
   ]
  },
  {
   "cell_type": "code",
   "execution_count": 226,
   "metadata": {
    "hidden": true,
    "scrolled": true
   },
   "outputs": [
    {
     "name": "stdout",
     "output_type": "stream",
     "text": [
      "33205\n",
      "33205\n"
     ]
    }
   ],
   "source": [
    "from collections import Counter\n",
    "counted_fnames = Counter(os.listdir('fulltexts'))\n",
    "print(len(os.listdir('fulltexts')))\n",
    "print(len(counted_fnames))"
   ]
  },
  {
   "cell_type": "code",
   "execution_count": 229,
   "metadata": {
    "code_folding": [],
    "hidden": true
   },
   "outputs": [],
   "source": [
    "fulltext_dir='./fulltexts/'\n",
    "fnames = set(os.listdir(fulltext_dir))\n",
    "\n",
    "def fulltext_exists(url,fulltext_dir=fulltext_dir):\n",
    "    fname = url.replace('/','[SEP]')\n",
    "    return fname+'.txt' in fnames or fname[:90]+'.txt' in fnames\n",
    "\n",
    "def get_fulltext(url,fulltext_dir=fulltext_dir):\n",
    "    fname = url.replace('/','[SEP]')\n",
    "    if fname+'.txt' in fnames or fname[:90]+'.txt' in fnames:\n",
    "        try:\n",
    "            with open(fulltext_dir+fname+'.txt','r') as f:\n",
    "                lines = f.readlines()\n",
    "        except OSError:\n",
    "            with open(fulltext_dir+fname[:90]+'.txt','r') as f:\n",
    "                lines = f.readlines()\n",
    "                \n",
    "        return lines\n",
    "    return \"\""
   ]
  },
  {
   "cell_type": "code",
   "execution_count": 231,
   "metadata": {
    "hidden": true
   },
   "outputs": [
    {
     "data": {
      "text/plain": [
       "33205"
      ]
     },
     "execution_count": 231,
     "metadata": {},
     "output_type": "execute_result"
    }
   ],
   "source": [
    "urls_with_ft = [u for u in combined_df.url.values \n",
    "                if fulltext_exists(u)]\n",
    "len(urls_with_ft)"
   ]
  },
  {
   "cell_type": "code",
   "execution_count": 228,
   "metadata": {
    "hidden": true,
    "scrolled": true
   },
   "outputs": [
    {
     "data": {
      "text/plain": [
       "32754"
      ]
     },
     "execution_count": 228,
     "metadata": {},
     "output_type": "execute_result"
    }
   ],
   "source": [
    "urls_ft_df = [u for u in combined_df.url.values if\n",
    "             len(get_fulltext(u)) > 0]\n",
    "urls_ft_df = set(urls_ft_df)\n",
    "len(urls_ft_df)"
   ]
  },
  {
   "cell_type": "code",
   "execution_count": 232,
   "metadata": {
    "hidden": true
   },
   "outputs": [
    {
     "data": {
      "text/plain": [
       "(32754, 7)"
      ]
     },
     "execution_count": 232,
     "metadata": {},
     "output_type": "execute_result"
    }
   ],
   "source": [
    "combined_df_ft = combined_df.loc[combined_df.url.isin(urls_ft_df)]\n",
    "combined_df_ft.shape"
   ]
  },
  {
   "cell_type": "code",
   "execution_count": 233,
   "metadata": {
    "hidden": true,
    "scrolled": true
   },
   "outputs": [],
   "source": [
    "combined_df_ft.to_pickle('temp_combined_df_with_fulltext.pkl')"
   ]
  },
  {
   "cell_type": "markdown",
   "metadata": {},
   "source": [
    "# Dedup via title similarity"
   ]
  },
  {
   "cell_type": "markdown",
   "metadata": {},
   "source": [
    "First, we need to get missing titles."
   ]
  },
  {
   "cell_type": "code",
   "execution_count": 236,
   "metadata": {},
   "outputs": [
    {
     "data": {
      "text/plain": [
       "(15323, 7)"
      ]
     },
     "execution_count": 236,
     "metadata": {},
     "output_type": "execute_result"
    }
   ],
   "source": [
    "no_title_df = combined_df_ft.loc[pd.isnull(combined_df_ft.title)]\n",
    "no_title_df.shape"
   ]
  },
  {
   "cell_type": "code",
   "execution_count": 333,
   "metadata": {
    "code_folding": [
     0,
     1,
     34,
     37,
     40,
     49,
     52,
     55,
     58,
     61,
     64,
     67,
     70,
     76
    ]
   },
   "outputs": [],
   "source": [
    "def get_title_date(soup,domain):\n",
    "    if domain == 'buzzfeed':\n",
    "        title = soup.find('h1').text.strip()\n",
    "        try:\n",
    "            date = soup.find('time').text.strip().replace('Posted on ','').replace(',','')\\\n",
    "        .replace(' at','').replace('-','').replace('PM','').replace('AM','')\n",
    "        except AttributeError:\n",
    "            try:\n",
    "                date = soup.find('div',attrs={'class':'news-aritlce-header__timestamps'})\\\n",
    "                .text.strip().replace('Posted on ','').replace(',','')\\\n",
    "        .replace(' at','').replace('-','').replace('PM','').replace('AM','')\n",
    "            except AttributeError:\n",
    "                date = None\n",
    "        #print(date)\n",
    "        date = parse(date) if date is not None else None\n",
    "    elif domain == 'nyt':\n",
    "        title = soup.find('h1').text.strip()\n",
    "        try:\n",
    "            date = soup.find('time').text.replace('Issue','').replace('Published','').strip()\n",
    "            if '/' in date:\n",
    "                date = date.split('/')[-1]\n",
    "            date = parse(date)\n",
    "        except AttributeError:\n",
    "            date = None\n",
    "    elif domain == 'mj':\n",
    "        title = soup.find('h1').text.strip()\n",
    "        try:\n",
    "            date = soup.find('span',\n",
    "                                   attrs={'class':'dateline'}).text.lower().replace('issue','').strip()\n",
    "            if '/' in date:\n",
    "                date = date.split('/')[-1]\n",
    "            date = parse(date)\n",
    "        except AttributeError:\n",
    "            date = None\n",
    "    elif domain == 'cs_monitor':\n",
    "        title = soup.find('h1').text.strip()\n",
    "        date = soup.find('time')['datetime']\n",
    "    elif domain == 'fox':\n",
    "        title = soup.find('h1').text.strip()\n",
    "        date = parse(soup.find('time').text.strip())\n",
    "    elif domain == 'breitbart':\n",
    "        title = soup.find('h1').text.strip()\n",
    "        date = soup.find('time')['datetime']\n",
    "    elif domain == 'pj':\n",
    "        title = soup.find('div',attrs={'class':'title'}).text.strip()\n",
    "        try:\n",
    "            date = parse(soup.find('span',attrs={'class':'date'}).text.strip())\n",
    "        except ValueError:\n",
    "            date = None\n",
    "    elif domain == 'blaze':\n",
    "        title = soup.find('h1').text.strip()\n",
    "        date = parse(soup.find('span',attrs={'class':'post-date'}).text.strip())\n",
    "    elif domain == 'https://www.citizens.org/':\n",
    "        title = soup.find('h1').text.strip()\n",
    "        date = parse(soup.find('span',attrs={'class':'post-meta-date'}).text.strip())\n",
    "    elif domain == 'nat_review':\n",
    "        title = soup.find('h1').text.strip()\n",
    "        date = soup.find('time')['datetime']\n",
    "    elif domain == 'https://physiciansforinformedconsent.org/':\n",
    "        title = soup.find('h1').text.strip()\n",
    "        date = soup.find('time')['datetime']\n",
    "    elif domain == 'dem_now':\n",
    "        title = soup.find('h1').text.strip()\n",
    "        date = parse(soup.find('span',attrs={'class':'date'}).text.strip())\n",
    "    elif domain == 'the_nation':\n",
    "        title = soup.find('h1',attrs={'class':'title'}).text.strip()\n",
    "        date = parse(soup.find('h4').text.strip())\n",
    "    elif domain == 'wapo':\n",
    "        title = soup.find('h1').text.strip()\n",
    "        date = parse(soup.find('div',attrs={'class':'display-date'}).text.strip())\n",
    "    elif domain == 'vox':\n",
    "        title = soup.find('h1').text.strip()\n",
    "        try:\n",
    "            date = soup.find('time')['datetime']\n",
    "        except TypeError:\n",
    "            date = None\n",
    "    elif domain == 'the_progressive':\n",
    "        title = soup.find('h1').text.strip()\n",
    "        date = soup.find('time')['datetime']\n",
    "    else:\n",
    "        title,date = None,None\n",
    "        \n",
    "    return (title,date)"
   ]
  },
  {
   "cell_type": "markdown",
   "metadata": {},
   "source": [
    "(Information on URLs, media domains, stance, and topic is all complete.)"
   ]
  },
  {
   "cell_type": "code",
   "execution_count": 250,
   "metadata": {
    "scrolled": true
   },
   "outputs": [],
   "source": [
    "assert len(combined_df_ft.loc[pd.isnull(combined_df_ft.url)]) == 0\n",
    "assert len(combined_df_ft.loc[pd.isnull(combined_df_ft.domain)]) == 0\n",
    "assert len(combined_df_ft.loc[pd.isnull(combined_df_ft.stance)]) == 0\n",
    "assert len(combined_df_ft.loc[pd.isnull(combined_df_ft.topic)]) == 0"
   ]
  },
  {
   "cell_type": "code",
   "execution_count": 334,
   "metadata": {
    "code_folding": [
     0
    ],
    "scrolled": true
   },
   "outputs": [
    {
     "name": "stdout",
     "output_type": "stream",
     "text": [
      "0\n",
      "100\n",
      "200\n",
      "300\n",
      "400\n",
      "500\n",
      "600\n",
      "700\n",
      "800\n",
      "900\n",
      "1000\n",
      "1100\n",
      "1200\n",
      "1300\n",
      "1400\n",
      "1500\n",
      "1600\n"
     ]
    }
   ],
   "source": [
    "for _,ix in enumerate(no_title_df.index[14+2+2+21+2204+2184+1335+424+474+2516+3+1+2305\\\n",
    "                                        +169+380+510+1086:]):\n",
    "    row = no_title_df.loc[ix]\n",
    "    assert row.shape == (7,)\n",
    "    \n",
    "    url,domain = row['url'],row['domain']\n",
    "    title,date = get_title_date(soupify(url),domain)\n",
    "    \n",
    "    combined_df_ft.at[ix,'title'] = title\n",
    "    combined_df_ft.at[ix,'date'] = date\n",
    "    if _ % 100 == 0:\n",
    "        print(_)"
   ]
  },
  {
   "cell_type": "code",
   "execution_count": 335,
   "metadata": {
    "scrolled": true
   },
   "outputs": [],
   "source": [
    "combined_df_ft.to_pickle('temp_combined_df_with_fulltext.pkl')"
   ]
  },
  {
   "cell_type": "code",
   "execution_count": 353,
   "metadata": {
    "scrolled": false
   },
   "outputs": [],
   "source": [
    "#url,domain,ix,_"
   ]
  },
  {
   "cell_type": "code",
   "execution_count": 338,
   "metadata": {
    "scrolled": true
   },
   "outputs": [
    {
     "data": {
      "text/plain": [
       "mj                           1\n",
       "https://www.citizens.org/    1\n",
       "Name: domain, dtype: int64"
      ]
     },
     "execution_count": 338,
     "metadata": {},
     "output_type": "execute_result"
    }
   ],
   "source": [
    "missing_title_df = combined_df_ft.loc[pd.isnull(combined_df_ft.title)]\n",
    "missing_title_df.domain.value_counts()"
   ]
  },
  {
   "cell_type": "code",
   "execution_count": 344,
   "metadata": {},
   "outputs": [
    {
     "data": {
      "text/html": [
       "<div>\n",
       "<style scoped>\n",
       "    .dataframe tbody tr th:only-of-type {\n",
       "        vertical-align: middle;\n",
       "    }\n",
       "\n",
       "    .dataframe tbody tr th {\n",
       "        vertical-align: top;\n",
       "    }\n",
       "\n",
       "    .dataframe thead th {\n",
       "        text-align: right;\n",
       "    }\n",
       "</style>\n",
       "<table border=\"1\" class=\"dataframe\">\n",
       "  <thead>\n",
       "    <tr style=\"text-align: right;\">\n",
       "      <th></th>\n",
       "      <th>url</th>\n",
       "      <th>title</th>\n",
       "      <th>date</th>\n",
       "      <th>domain</th>\n",
       "      <th>stance</th>\n",
       "      <th>topic</th>\n",
       "      <th>is_AP</th>\n",
       "    </tr>\n",
       "  </thead>\n",
       "  <tbody>\n",
       "    <tr>\n",
       "      <th>21846</th>\n",
       "      <td>www.citizens.org/test/</td>\n",
       "      <td>None</td>\n",
       "      <td>None</td>\n",
       "      <td>https://www.citizens.org/</td>\n",
       "      <td>anti</td>\n",
       "      <td>vax</td>\n",
       "      <td>None</td>\n",
       "    </tr>\n",
       "    <tr>\n",
       "      <th>34039</th>\n",
       "      <td>www.motherjones.com/environment/2010/02/you-on...</td>\n",
       "      <td>None</td>\n",
       "      <td>2010-02-22 00:00:00</td>\n",
       "      <td>mj</td>\n",
       "      <td>pro</td>\n",
       "      <td>cc</td>\n",
       "      <td>None</td>\n",
       "    </tr>\n",
       "  </tbody>\n",
       "</table>\n",
       "</div>"
      ],
      "text/plain": [
       "                                                     url title  \\\n",
       "21846                             www.citizens.org/test/  None   \n",
       "34039  www.motherjones.com/environment/2010/02/you-on...  None   \n",
       "\n",
       "                      date                     domain stance topic is_AP  \n",
       "21846                 None  https://www.citizens.org/   anti   vax  None  \n",
       "34039  2010-02-22 00:00:00                         mj    pro    cc  None  "
      ]
     },
     "execution_count": 344,
     "metadata": {},
     "output_type": "execute_result"
    }
   ],
   "source": [
    "missing_title_df"
   ]
  },
  {
   "cell_type": "code",
   "execution_count": 350,
   "metadata": {},
   "outputs": [],
   "source": [
    "combined_df_ft.at[34039,'title'] = 'Dope and Glory'\n",
    "combined_df_ft.at[21846,'title'] = 'Test'"
   ]
  },
  {
   "cell_type": "code",
   "execution_count": 351,
   "metadata": {},
   "outputs": [
    {
     "data": {
      "text/html": [
       "<div>\n",
       "<style scoped>\n",
       "    .dataframe tbody tr th:only-of-type {\n",
       "        vertical-align: middle;\n",
       "    }\n",
       "\n",
       "    .dataframe tbody tr th {\n",
       "        vertical-align: top;\n",
       "    }\n",
       "\n",
       "    .dataframe thead th {\n",
       "        text-align: right;\n",
       "    }\n",
       "</style>\n",
       "<table border=\"1\" class=\"dataframe\">\n",
       "  <thead>\n",
       "    <tr style=\"text-align: right;\">\n",
       "      <th></th>\n",
       "      <th>url</th>\n",
       "      <th>title</th>\n",
       "      <th>date</th>\n",
       "      <th>domain</th>\n",
       "      <th>stance</th>\n",
       "      <th>topic</th>\n",
       "      <th>is_AP</th>\n",
       "    </tr>\n",
       "  </thead>\n",
       "  <tbody>\n",
       "  </tbody>\n",
       "</table>\n",
       "</div>"
      ],
      "text/plain": [
       "Empty DataFrame\n",
       "Columns: [url, title, date, domain, stance, topic, is_AP]\n",
       "Index: []"
      ]
     },
     "execution_count": 351,
     "metadata": {},
     "output_type": "execute_result"
    }
   ],
   "source": [
    "missing_title_df = combined_df_ft.loc[pd.isnull(combined_df_ft.title)]\n",
    "missing_title_df"
   ]
  },
  {
   "cell_type": "code",
   "execution_count": 352,
   "metadata": {},
   "outputs": [],
   "source": [
    "combined_df_ft.to_pickle('temp_combined_df_with_fulltext.pkl')"
   ]
  },
  {
   "cell_type": "markdown",
   "metadata": {},
   "source": [
    "We use the heuristic as described in Petersen et al. to deduplicate articles based on titles."
   ]
  },
  {
   "cell_type": "code",
   "execution_count": 340,
   "metadata": {
    "code_folding": [
     0,
     25
    ]
   },
   "outputs": [],
   "source": [
    "def d_l_dist(s1, s2):\n",
    "    d = {}\n",
    "    lenstr1 = len(s1)\n",
    "    lenstr2 = len(s2)\n",
    "    for i in range(-1,lenstr1+1):\n",
    "        d[(i,-1)] = i+1\n",
    "    for j in range(-1,lenstr2+1):\n",
    "        d[(-1,j)] = j+1\n",
    "\n",
    "    for i in range(lenstr1):\n",
    "        for j in range(lenstr2):\n",
    "            if s1[i] == s2[j]:\n",
    "                cost = 0\n",
    "            else:\n",
    "                cost = 1\n",
    "            d[(i,j)] = min(\n",
    "                           d[(i-1,j)] + 1, # deletion\n",
    "                           d[(i,j-1)] + 1, # insertion\n",
    "                           d[(i-1,j-1)] + cost, # substitution\n",
    "                          )\n",
    "            if i and j and s1[i]==s2[j-1] and s1[i-1] == s2[j]:\n",
    "                d[(i,j)] = min (d[(i,j)], d[i-2,j-2] + cost) # transposition\n",
    "\n",
    "    return d[lenstr1-1,lenstr2-1]\n",
    "\n",
    "def is_same(u1,u2):\n",
    "    #Djk ≤ 0.2 × Min.[|Tj|,|Tk|]\n",
    "    # determine Damerau-Levensthtein edit distance\n",
    "    D_jk = d_l_dist(u1,u2)\n",
    "    t_j = len(u1)\n",
    "    t_k = len(u2)\n",
    "    min_ = min(t_j,t_k)\n",
    "    return D_jk < 0.2*min_ "
   ]
  },
  {
   "cell_type": "code",
   "execution_count": 341,
   "metadata": {
    "scrolled": true
   },
   "outputs": [
    {
     "data": {
      "text/html": [
       "<div>\n",
       "<style scoped>\n",
       "    .dataframe tbody tr th:only-of-type {\n",
       "        vertical-align: middle;\n",
       "    }\n",
       "\n",
       "    .dataframe tbody tr th {\n",
       "        vertical-align: top;\n",
       "    }\n",
       "\n",
       "    .dataframe thead th {\n",
       "        text-align: right;\n",
       "    }\n",
       "</style>\n",
       "<table border=\"1\" class=\"dataframe\">\n",
       "  <thead>\n",
       "    <tr style=\"text-align: right;\">\n",
       "      <th></th>\n",
       "      <th>url</th>\n",
       "      <th>title</th>\n",
       "      <th>date</th>\n",
       "      <th>stance</th>\n",
       "      <th>topic</th>\n",
       "      <th>is_AP</th>\n",
       "    </tr>\n",
       "    <tr>\n",
       "      <th>domain</th>\n",
       "      <th></th>\n",
       "      <th></th>\n",
       "      <th></th>\n",
       "      <th></th>\n",
       "      <th></th>\n",
       "      <th></th>\n",
       "    </tr>\n",
       "  </thead>\n",
       "  <tbody>\n",
       "    <tr>\n",
       "      <th>activistpost</th>\n",
       "      <td>www.activistpost.com/2019/03/5-ways-the-green-...</td>\n",
       "      <td>5 ways the green new deal exactly mirrors agen...</td>\n",
       "      <td>2019-03-07 14:30:19</td>\n",
       "      <td>anti</td>\n",
       "      <td>cc</td>\n",
       "      <td>False</td>\n",
       "    </tr>\n",
       "    <tr>\n",
       "      <th>alternet</th>\n",
       "      <td>feeds.feedblitz.com/~/70158437/0/alternet~of-t...</td>\n",
       "      <td>10 of the biggest threats to human existence</td>\n",
       "      <td>2014-07-21 22:07:00</td>\n",
       "      <td>pro</td>\n",
       "      <td>cc</td>\n",
       "      <td>False</td>\n",
       "    </tr>\n",
       "    <tr>\n",
       "      <th>american_thinker</th>\n",
       "      <td>www.americanthinker.com/articles/2019/07/a_sop...</td>\n",
       "      <td>a sophomoric look at climate change</td>\n",
       "      <td>2019-07-16 01:00:00</td>\n",
       "      <td>anti</td>\n",
       "      <td>cc</td>\n",
       "      <td>False</td>\n",
       "    </tr>\n",
       "    <tr>\n",
       "      <th>blaze</th>\n",
       "      <td>www.theblaze.com/news/australia-bushfires-two-...</td>\n",
       "      <td>'Australia is on fire' because of 'climate cha...</td>\n",
       "      <td>Jan 7, 2020</td>\n",
       "      <td>anti</td>\n",
       "      <td>cc</td>\n",
       "      <td>NaN</td>\n",
       "    </tr>\n",
       "    <tr>\n",
       "      <th>boston_globe</th>\n",
       "      <td>www.bostonglobe.com/opinion/2015/02/11/valenti...</td>\n",
       "      <td>a valentine for fossil fuels  the boston globe</td>\n",
       "      <td>2010-04-24 08:00:00</td>\n",
       "      <td>pro</td>\n",
       "      <td>cc</td>\n",
       "      <td>False</td>\n",
       "    </tr>\n",
       "    <tr>\n",
       "      <th>...</th>\n",
       "      <td>...</td>\n",
       "      <td>...</td>\n",
       "      <td>...</td>\n",
       "      <td>...</td>\n",
       "      <td>...</td>\n",
       "      <td>...</td>\n",
       "    </tr>\n",
       "    <tr>\n",
       "      <th>usa_today</th>\n",
       "      <td>rssfeeds.usatoday.com/~/613781036/0/usatodayco...</td>\n",
       "      <td>10 years to save planet earth here are 6 imagi...</td>\n",
       "      <td>2019-12-24 09:24:17</td>\n",
       "      <td>pro</td>\n",
       "      <td>cc</td>\n",
       "      <td>False</td>\n",
       "    </tr>\n",
       "    <tr>\n",
       "      <th>vax_safety_commission</th>\n",
       "      <td>vaccinesafetycommission.org/studies.html</td>\n",
       "      <td>50 Studies the AAP Avoided to Mention</td>\n",
       "      <td>2020-03-13 14:32:02</td>\n",
       "      <td>anti</td>\n",
       "      <td>vax</td>\n",
       "      <td>False</td>\n",
       "    </tr>\n",
       "    <tr>\n",
       "      <th>vice</th>\n",
       "      <td>www.vice.com/en_us/article/a-national-parks-tw...</td>\n",
       "      <td>a national parks twitter account defiantly twe...</td>\n",
       "      <td>2017-01-24 18:30:29</td>\n",
       "      <td>pro</td>\n",
       "      <td>cc</td>\n",
       "      <td>False</td>\n",
       "    </tr>\n",
       "    <tr>\n",
       "      <th>vox</th>\n",
       "      <td>www.vox.com/energy-and-environment/2020/1/3/21...</td>\n",
       "      <td>1.5 degrees Celsius: the sad truth about our b...</td>\n",
       "      <td>Jan 3, 2020</td>\n",
       "      <td>pro</td>\n",
       "      <td>cc</td>\n",
       "      <td>False</td>\n",
       "    </tr>\n",
       "    <tr>\n",
       "      <th>wapo</th>\n",
       "      <td>www.washingtonpost.com/national/health-science...</td>\n",
       "      <td>'A kind of dark realism': Why the climate chan...</td>\n",
       "      <td>Dec 4, 2018</td>\n",
       "      <td>pro</td>\n",
       "      <td>cc</td>\n",
       "      <td>False</td>\n",
       "    </tr>\n",
       "  </tbody>\n",
       "</table>\n",
       "<p>65 rows × 6 columns</p>\n",
       "</div>"
      ],
      "text/plain": [
       "                                                                     url  \\\n",
       "domain                                                                     \n",
       "activistpost           www.activistpost.com/2019/03/5-ways-the-green-...   \n",
       "alternet               feeds.feedblitz.com/~/70158437/0/alternet~of-t...   \n",
       "american_thinker       www.americanthinker.com/articles/2019/07/a_sop...   \n",
       "blaze                  www.theblaze.com/news/australia-bushfires-two-...   \n",
       "boston_globe           www.bostonglobe.com/opinion/2015/02/11/valenti...   \n",
       "...                                                                  ...   \n",
       "usa_today              rssfeeds.usatoday.com/~/613781036/0/usatodayco...   \n",
       "vax_safety_commission           vaccinesafetycommission.org/studies.html   \n",
       "vice                   www.vice.com/en_us/article/a-national-parks-tw...   \n",
       "vox                    www.vox.com/energy-and-environment/2020/1/3/21...   \n",
       "wapo                   www.washingtonpost.com/national/health-science...   \n",
       "\n",
       "                                                                   title  \\\n",
       "domain                                                                     \n",
       "activistpost           5 ways the green new deal exactly mirrors agen...   \n",
       "alternet                    10 of the biggest threats to human existence   \n",
       "american_thinker                     a sophomoric look at climate change   \n",
       "blaze                  'Australia is on fire' because of 'climate cha...   \n",
       "boston_globe              a valentine for fossil fuels  the boston globe   \n",
       "...                                                                  ...   \n",
       "usa_today              10 years to save planet earth here are 6 imagi...   \n",
       "vax_safety_commission              50 Studies the AAP Avoided to Mention   \n",
       "vice                   a national parks twitter account defiantly twe...   \n",
       "vox                    1.5 degrees Celsius: the sad truth about our b...   \n",
       "wapo                   'A kind of dark realism': Why the climate chan...   \n",
       "\n",
       "                                      date stance topic  is_AP  \n",
       "domain                                                          \n",
       "activistpost           2019-03-07 14:30:19   anti    cc  False  \n",
       "alternet               2014-07-21 22:07:00    pro    cc  False  \n",
       "american_thinker       2019-07-16 01:00:00   anti    cc  False  \n",
       "blaze                          Jan 7, 2020   anti    cc    NaN  \n",
       "boston_globe           2010-04-24 08:00:00    pro    cc  False  \n",
       "...                                    ...    ...   ...    ...  \n",
       "usa_today              2019-12-24 09:24:17    pro    cc  False  \n",
       "vax_safety_commission  2020-03-13 14:32:02   anti   vax  False  \n",
       "vice                   2017-01-24 18:30:29    pro    cc  False  \n",
       "vox                            Jan 3, 2020    pro    cc  False  \n",
       "wapo                           Dec 4, 2018    pro    cc  False  \n",
       "\n",
       "[65 rows x 6 columns]"
      ]
     },
     "execution_count": 341,
     "metadata": {},
     "output_type": "execute_result"
    }
   ],
   "source": [
    "outlet_groups = combined_df_ft.groupby('domain')\n",
    "outlet_groups.first()"
   ]
  },
  {
   "cell_type": "markdown",
   "metadata": {},
   "source": [
    "We regularize titles using the following script:"
   ]
  },
  {
   "cell_type": "code",
   "execution_count": 369,
   "metadata": {
    "code_folding": []
   },
   "outputs": [],
   "source": [
    "def regularize_title(t):\n",
    "    return re.sub(\"[^A-Za-z0-9.,']+\", ' ', t.lower().strip()).strip()"
   ]
  },
  {
   "cell_type": "code",
   "execution_count": 375,
   "metadata": {},
   "outputs": [
    {
     "data": {
      "text/plain": [
       "'climate change protesters hold black friday funeral for future'"
      ]
     },
     "execution_count": 375,
     "metadata": {},
     "output_type": "execute_result"
    }
   ],
   "source": [
    "regularize_title('Climate Change Protesters Hold ‘Black Friday Funeral for Future’')"
   ]
  },
  {
   "cell_type": "markdown",
   "metadata": {},
   "source": [
    "Now, we go through each outlet's set of articles comparing titles. If two are the same by DL distance, we set the first title equal to the second."
   ]
  },
  {
   "cell_type": "code",
   "execution_count": 376,
   "metadata": {
    "scrolled": true
   },
   "outputs": [
    {
     "name": "stdout",
     "output_type": "stream",
     "text": [
      "Processing activistpost with 41 URLS\n",
      "Processing alternet with 404 URLS\n",
      "Processing american_thinker with 111 URLS\n",
      "Processing blaze with 620 URLS\n",
      "Processing boston_globe with 6 URLS\n",
      "Processing breitbart with 2433 URLS\n",
      "Processing buzzfeed with 818 URLS\n",
      "Processing cbn with 3 URLS\n",
      "Processing charismanews with 3 URLS\n",
      "Processing chd with 469 URLS\n",
      "Processing cns with 94 URLS\n",
      "Processing commdiginews with 8 URLS\n",
      "Processing conservative_review with 2 URLS\n",
      "Processing conservative_treehouse with 8 URLS\n",
      "Processing conservativedailynews with 24 URLS\n",
      "Processing conservativefiringline with 13 URLS\n",
      "Processing cs_monitor with 2258 URLS\n",
      "Processing daily_caller with 921 URLS\n",
      "Processing daily_dot with 7 URLS\n",
      "Processing dem_now with 1372 URLS\n",
      "Processing drudgereport with 214 URLS\n",
      "Processing fox with 2582 URLS\n",
      "Processing gateway_pundit with 11 URLS\n",
      "Processing gawker with 7 URLS\n",
      "Processing grabien with 8 URLS\n",
      "Processing grist with 677 URLS\n",
      "Processing guardian_us with 1691 URLS\n",
      "Processing hot_air with 50 URLS\n",
      "Processing https://adultvaccinesnow.org/blog/ with 40 URLS\n",
      "Processing https://immunizationevidence.org/featured_issues/ with 13 URLS\n",
      "Processing https://physiciansforinformedconsent.org/ with 4 URLS\n",
      "Processing https://shotofprevention/ with 719 URLS\n",
      "Processing https://www.citizens.org/ with 47 URLS\n",
      "Processing https://www.voicesforvaccines.org/blog/ with 187 URLS\n",
      "Processing independentsentinel with 12 URLS\n",
      "Processing infowars with 63 URLS\n",
      "Processing inthesetimes with 46 URLS\n",
      "Processing libertyunyielding with 23 URLS\n",
      "Processing mj with 3086 URLS\n",
      "Processing nat_review with 528 URLS\n",
      "Processing nation with 359 URLS\n",
      "Processing nbc with 74 URLS\n",
      "Processing new_york_magazine with 37 URLS\n",
      "Processing newsweek with 176 URLS\n",
      "Processing newswithviews with 33 URLS\n",
      "Processing nyt with 6916 URLS\n",
      "Processing pj with 458 URLS\n",
      "Processing progressivestoday with 12 URLS\n",
      "Processing quartz with 191 URLS\n",
      "Processing rare.us with 6 URLS\n",
      "Processing reason with 268 URLS\n",
      "Processing redstate with 98 URLS\n",
      "Processing sgtreport with 118 URLS\n",
      "Processing sonsoflibertymedia with 27 URLS\n",
      "Processing the_american_conservative with 15 URLS\n",
      "Processing the_american_spectator with 25 URLS\n",
      "Processing the_nation with 989 URLS\n",
      "Processing the_progressive with 149 URLS\n",
      "Processing the_verge with 105 URLS\n",
      "Processing the_week with 63 URLS\n",
      "Processing usa_today with 251 URLS\n",
      "Processing vax_safety_commission with 1 URLS\n",
      "Processing vice with 57 URLS\n",
      "Processing vox with 1036 URLS\n",
      "Processing wapo with 1667 URLS\n"
     ]
    }
   ],
   "source": [
    "for outlet in outlet_groups.first().index:\n",
    "    outlet_df = outlet_groups.get_group(outlet)\n",
    "    print('Processing {} with {} URLS'.format(outlet,len(outlet_df)))\n",
    "#     for ix1 in range(len(outlet_df.index)-1):\n",
    "#         for ix2 in range(ix1+1,len(outlet_df.index)):\n",
    "#             index1 = outlet_df.index[ix1]\n",
    "#             index2 = outlet_df.index[ix2]\n",
    "#             #print('Comparing titles of {} and {}...'.format(index1,index2))\n",
    "#             t1 = regularize_title(outlet_df.loc[index1].title)\n",
    "#             t2 = regularize_title(outlet_df.loc[index2].title)\n",
    "#             #print('Titles: {}, {}'.format(t1,t2))\n",
    "#             if is_same(t1,t2):\n",
    "#                 print('Match found!')\n",
    "#                 combined_df_ft.at[index1,'title'] = t2\n",
    "#                 print('New df title values:{}, {}'.format(combined_df_ft.loc[index2].title,\n",
    "#                      combined_df_ft.loc[index1].title))"
   ]
  },
  {
   "cell_type": "code",
   "execution_count": 374,
   "metadata": {},
   "outputs": [
    {
     "data": {
      "text/plain": [
       "(32754, 7)"
      ]
     },
     "execution_count": 374,
     "metadata": {},
     "output_type": "execute_result"
    }
   ],
   "source": [
    "combined_df_ft.shape"
   ]
  },
  {
   "cell_type": "code",
   "execution_count": 395,
   "metadata": {},
   "outputs": [
    {
     "data": {
      "text/html": [
       "<div>\n",
       "<style scoped>\n",
       "    .dataframe tbody tr th:only-of-type {\n",
       "        vertical-align: middle;\n",
       "    }\n",
       "\n",
       "    .dataframe tbody tr th {\n",
       "        vertical-align: top;\n",
       "    }\n",
       "\n",
       "    .dataframe thead th {\n",
       "        text-align: right;\n",
       "    }\n",
       "</style>\n",
       "<table border=\"1\" class=\"dataframe\">\n",
       "  <thead>\n",
       "    <tr style=\"text-align: right;\">\n",
       "      <th></th>\n",
       "      <th>url</th>\n",
       "      <th>title</th>\n",
       "      <th>date</th>\n",
       "      <th>stance</th>\n",
       "      <th>topic</th>\n",
       "      <th>is_AP</th>\n",
       "    </tr>\n",
       "  </thead>\n",
       "  <tbody>\n",
       "    <tr>\n",
       "      <th>11505</th>\n",
       "      <td>www.washingtonpost.com/opinions/climate-change...</td>\n",
       "      <td>climatechange deniers are in retreat</td>\n",
       "      <td>2015-04-06 08:00:00</td>\n",
       "      <td>pro</td>\n",
       "      <td>cc</td>\n",
       "      <td>False</td>\n",
       "    </tr>\n",
       "    <tr>\n",
       "      <th>11504</th>\n",
       "      <td>www.washingtonpost.com/opinions/climate-change...</td>\n",
       "      <td>climatechange deniers are in retreat</td>\n",
       "      <td>2014-06-01 08:00:00</td>\n",
       "      <td>pro</td>\n",
       "      <td>cc</td>\n",
       "      <td>False</td>\n",
       "    </tr>\n",
       "  </tbody>\n",
       "</table>\n",
       "</div>"
      ],
      "text/plain": [
       "                                                     url  \\\n",
       "11505  www.washingtonpost.com/opinions/climate-change...   \n",
       "11504  www.washingtonpost.com/opinions/climate-change...   \n",
       "\n",
       "                                      title                 date stance topic  \\\n",
       "11505  climatechange deniers are in retreat  2015-04-06 08:00:00    pro    cc   \n",
       "11504  climatechange deniers are in retreat  2014-06-01 08:00:00    pro    cc   \n",
       "\n",
       "       is_AP  \n",
       "11505  False  \n",
       "11504  False  "
      ]
     },
     "execution_count": 395,
     "metadata": {},
     "output_type": "execute_result"
    }
   ],
   "source": [
    "outlet_groups.get_group('wapo').loc[outlet_groups.get_group('wapo').title == \n",
    "                                  'climatechange deniers are in retreat']#.url.values"
   ]
  },
  {
   "cell_type": "code",
   "execution_count": 396,
   "metadata": {},
   "outputs": [
    {
     "data": {
      "text/plain": [
       "1187"
      ]
     },
     "execution_count": 396,
     "metadata": {},
     "output_type": "execute_result"
    }
   ],
   "source": [
    "list(outlet_groups.get_group('wapo').index).index(11505)"
   ]
  },
  {
   "cell_type": "markdown",
   "metadata": {},
   "source": [
    "We run the above code on a cluster. After scp-ing the regularized dataframe, we dedup based on title."
   ]
  },
  {
   "cell_type": "code",
   "execution_count": 405,
   "metadata": {},
   "outputs": [
    {
     "data": {
      "text/plain": [
       "(32754, 7)"
      ]
     },
     "execution_count": 405,
     "metadata": {},
     "output_type": "execute_result"
    }
   ],
   "source": [
    "reg_combined_df_ft = pd.read_pickle('temp_combined_df_title_reg.pkl')\n",
    "reg_combined_df_ft.shape"
   ]
  },
  {
   "cell_type": "code",
   "execution_count": 406,
   "metadata": {},
   "outputs": [],
   "source": [
    "reg_combined_df_ft['title'] = reg_combined_df_ft.title.apply(lambda x: x.lower())"
   ]
  },
  {
   "cell_type": "code",
   "execution_count": 408,
   "metadata": {},
   "outputs": [],
   "source": [
    "dedup_combined_df = reg_combined_df_ft.drop_duplicates(subset='title',keep='first')\n",
    "dedup_combined_df.shape\n",
    "dedup_combined_df.to_pickle('dedup_combined_df.pkl')"
   ]
  },
  {
   "cell_type": "markdown",
   "metadata": {},
   "source": [
    "# Summary stats"
   ]
  },
  {
   "cell_type": "code",
   "execution_count": 187,
   "metadata": {},
   "outputs": [],
   "source": [
    "import matplotlib.pyplot as plt\n",
    "import seaborn as sns\n",
    "sns.set()\n",
    "import string"
   ]
  },
  {
   "cell_type": "code",
   "execution_count": 157,
   "metadata": {
    "code_folding": [
     0,
     14
    ]
   },
   "outputs": [],
   "source": [
    "def reorderLegend(ax=None,order=None,unique=False,loc='upper left',title=None,\n",
    "          fontsize=18,title_fontsize=20):\n",
    "    if ax is None: ax=plt.gca()\n",
    "    handles, labels = ax.get_legend_handles_labels()\n",
    "    labels, handles = zip(*sorted(zip(labels, handles), key=lambda t: t[0])) # sort both labels and handles by labels\n",
    "    if order is not None: # Sort according to a given list (not necessarily complete)\n",
    "        keys=dict(zip(order,range(len(order))))\n",
    "        labels, handles = zip(*sorted(zip(labels, handles), key=lambda t,keys=keys: keys.get(t[0],np.inf)))\n",
    "    if unique:  labels, handles= zip(*unique_everseen(zip(labels,handles), key = labels)) # Keep only the first of each handle\n",
    "    ax.legend(handles, labels,loc=loc,title=title,\n",
    "          fontsize=fontsize,title_fontsize=title_fontsize)\n",
    "    return(handles, labels)\n",
    "\n",
    "\n",
    "def unique_everseen(seq, key=None):\n",
    "    seen = set()\n",
    "    seen_add = seen.add\n",
    "    return [x for x,k in zip(seq,key) if not (k in seen or seen_add(k))]"
   ]
  },
  {
   "cell_type": "code",
   "execution_count": 100,
   "metadata": {},
   "outputs": [
    {
     "data": {
      "text/plain": [
       "(30930, 9)"
      ]
     },
     "execution_count": 100,
     "metadata": {},
     "output_type": "execute_result"
    }
   ],
   "source": [
    "dedup_combined_df = pd.read_pickle('dedup_combined_df.pkl')\n",
    "dedup_combined_df.shape"
   ]
  },
  {
   "cell_type": "code",
   "execution_count": 101,
   "metadata": {
    "scrolled": false
   },
   "outputs": [
    {
     "data": {
      "text/plain": [
       "Index(['url', 'title', 'date', 'domain', 'stance', 'topic', 'is_AP', 'year',\n",
       "       'pretty_domain'],\n",
       "      dtype='object')"
      ]
     },
     "execution_count": 101,
     "metadata": {},
     "output_type": "execute_result"
    }
   ],
   "source": [
    "dedup_combined_df.columns"
   ]
  },
  {
   "cell_type": "code",
   "execution_count": 95,
   "metadata": {
    "code_folding": [
     0
    ]
   },
   "outputs": [],
   "source": [
    "def prettify_domain(x):\n",
    "    if x == 'nyt':\n",
    "        return 'New York Times'\n",
    "    elif x == 'mj':\n",
    "        return 'Mother Jones'\n",
    "    elif x == 'cs_monitor':\n",
    "        return 'Christian Science Monitor'\n",
    "    elif x == 'guardian_us':\n",
    "        return 'Guardian (US)'\n",
    "    elif x == 'wapo':\n",
    "        return 'Washington Post'\n",
    "    elif x == 'https://shotofprevention/':\n",
    "        return 'Shot of Prevention'\n",
    "    elif x == 'nat_review':\n",
    "        return 'National Review'\n",
    "    elif x == 'chd':\n",
    "        return \"Children's Health Defense\"\n",
    "    elif x == 'pj':\n",
    "        return 'PJ Media'\n",
    "    elif x == 'nation':\n",
    "        return 'The Nation'\n",
    "    elif x == 'dem_now':\n",
    "        return 'Democracy Now'\n",
    "    elif x == 'usa_today':\n",
    "        return 'USA Today'\n",
    "    elif x == 'https://www.voicesforvaccines.org/blog/':\n",
    "        return 'Voices for Vaccines'\n",
    "    elif x == 'cns':\n",
    "        return 'CNS'\n",
    "    elif x == 'nbc':\n",
    "        return 'NBC'\n",
    "    elif x == 'https://www.citizens.org/':\n",
    "        return 'Citizens'\n",
    "    elif x == 'inthesetimes':\n",
    "        return 'In These Times'\n",
    "    elif x == 'activistpost':\n",
    "        return 'Activist Post'\n",
    "    elif x == 'https://adultvaccinesnow.org/blog/':\n",
    "        return 'Adult Vaccines Now'\n",
    "    elif x == 'newswithviews':\n",
    "        return 'News With Views'\n",
    "    elif x == 'sonsoflibertymedia':\n",
    "        return 'Sons of Liberty Media'\n",
    "    elif x == 'libertyunyielding':\n",
    "        return 'Liberty Unyielding'\n",
    "    elif x == 'conservativedailynews':\n",
    "        return 'Conservative Daily News'\n",
    "    elif x == 'https://immunizationevidence.org/featured_issues/':\n",
    "        return 'Immunization Evidence'\n",
    "    elif x == 'conservativefiringline':\n",
    "        return 'Conservative Firing Line'\n",
    "    elif x == 'progressivestoday':\n",
    "        return 'Progressives Today'\n",
    "    elif x == 'independentsentinel':\n",
    "        return 'Independent Sentinel'\n",
    "    elif x == 'https://physiciansforinformedconsent.org/':\n",
    "        return 'Physicians for Informed Consent'\n",
    "    elif x == 'charismanews':\n",
    "        return 'Charisma News'\n",
    "    elif x == 'cbn':\n",
    "        return 'CBN'\n",
    "    else:\n",
    "        return ' '.join([w.capitalize() for w in x.split('_')]).strip()"
   ]
  },
  {
   "cell_type": "code",
   "execution_count": 96,
   "metadata": {},
   "outputs": [],
   "source": [
    "# dedup_combined_df['year'] = [d.year if d is not None else None \n",
    "#                              for d in dedup_combined_df.date]\n",
    "# dedup_combined_df['pretty_domain'] = dedup_combined_df.domain.apply(prettify_domain)"
   ]
  },
  {
   "cell_type": "code",
   "execution_count": 102,
   "metadata": {
    "scrolled": false
   },
   "outputs": [
    {
     "data": {
      "text/plain": [
       "nyt                                          6779\n",
       "mj                                           2977\n",
       "fox                                          2551\n",
       "breitbart                                    2351\n",
       "cs_monitor                                   2224\n",
       "                                             ... \n",
       "https://physiciansforinformedconsent.org/       4\n",
       "charismanews                                    3\n",
       "cbn                                             3\n",
       "conservative_review                             2\n",
       "vax_safety_commission                           1\n",
       "Name: domain, Length: 65, dtype: int64"
      ]
     },
     "execution_count": 102,
     "metadata": {},
     "output_type": "execute_result"
    }
   ],
   "source": [
    "dedup_combined_df.domain.value_counts()"
   ]
  },
  {
   "cell_type": "code",
   "execution_count": 103,
   "metadata": {},
   "outputs": [
    {
     "data": {
      "text/plain": [
       "New York Times                     6779\n",
       "Mother Jones                       2977\n",
       "Fox                                2551\n",
       "Breitbart                          2351\n",
       "Christian Science Monitor          2224\n",
       "                                   ... \n",
       "Physicians for Informed Consent       4\n",
       "CBN                                   3\n",
       "Charisma News                         3\n",
       "Conservative Review                   2\n",
       "Vax Safety Commission                 1\n",
       "Name: pretty_domain, Length: 64, dtype: int64"
      ]
     },
     "execution_count": 103,
     "metadata": {},
     "output_type": "execute_result"
    }
   ],
   "source": [
    "dedup_combined_df.pretty_domain.value_counts()"
   ]
  },
  {
   "cell_type": "markdown",
   "metadata": {},
   "source": [
    "## General stats"
   ]
  },
  {
   "cell_type": "code",
   "execution_count": 104,
   "metadata": {
    "scrolled": true
   },
   "outputs": [
    {
     "data": {
      "text/plain": [
       "False    7527\n",
       "True       73\n",
       "Name: is_AP, dtype: int64"
      ]
     },
     "execution_count": 104,
     "metadata": {},
     "output_type": "execute_result"
    }
   ],
   "source": [
    "dedup_combined_df.loc[dedup_combined_df.topic == 'cc'].is_AP.value_counts()"
   ]
  },
  {
   "cell_type": "code",
   "execution_count": 105,
   "metadata": {},
   "outputs": [
    {
     "data": {
      "text/plain": [
       "False    1243\n",
       "Name: is_AP, dtype: int64"
      ]
     },
     "execution_count": 105,
     "metadata": {},
     "output_type": "execute_result"
    }
   ],
   "source": [
    "dedup_combined_df.loc[dedup_combined_df.topic == 'vax'].is_AP.value_counts()"
   ]
  },
  {
   "cell_type": "code",
   "execution_count": 106,
   "metadata": {},
   "outputs": [
    {
     "data": {
      "text/plain": [
       "pro        17798\n",
       "anti       10181\n",
       "between      421\n",
       "Name: stance, dtype: int64"
      ]
     },
     "execution_count": 106,
     "metadata": {},
     "output_type": "execute_result"
    }
   ],
   "source": [
    "dedup_combined_df.loc[dedup_combined_df.topic == 'cc'].stance.value_counts()"
   ]
  },
  {
   "cell_type": "code",
   "execution_count": 208,
   "metadata": {
    "scrolled": true
   },
   "outputs": [
    {
     "data": {
      "text/plain": [
       "pro     957\n",
       "anti    509\n",
       "Name: stance, dtype: int64"
      ]
     },
     "execution_count": 208,
     "metadata": {},
     "output_type": "execute_result"
    }
   ],
   "source": [
    "dedup_combined_df.loc[(dedup_combined_df.topic == 'vax') & \n",
    "                     ~dedup_combined_df.domain.isin(['nyt','fox','breitbart'])].stance.value_counts()"
   ]
  },
  {
   "cell_type": "markdown",
   "metadata": {},
   "source": [
    "## Number of stories over time"
   ]
  },
  {
   "cell_type": "code",
   "execution_count": 7,
   "metadata": {
    "code_folding": [
     0
    ]
   },
   "outputs": [],
   "source": [
    "def regularize_dates(x):\n",
    "    if x is None:\n",
    "        return None\n",
    "    \n",
    "    if type(x) == str:\n",
    "        if ' ago' in x:\n",
    "            return None\n",
    "        else:\n",
    "            x = re.sub(\"[^A-Za-z0-9.,\\-:']+\",' ',x).strip()\n",
    "            try:\n",
    "                return parse(x)\n",
    "            except:\n",
    "                print('Bad date:', x)\n",
    "                return None\n",
    "    \n",
    "    return x"
   ]
  },
  {
   "cell_type": "code",
   "execution_count": 489,
   "metadata": {
    "scrolled": true
   },
   "outputs": [],
   "source": [
    "dedup_combined_df.date = dedup_combined_df.date.apply(regularize_dates)"
   ]
  },
  {
   "cell_type": "code",
   "execution_count": 99,
   "metadata": {},
   "outputs": [],
   "source": [
    "#dedup_combined_df.to_pickle('dedup_combined_df.pkl')"
   ]
  },
  {
   "cell_type": "code",
   "execution_count": 506,
   "metadata": {
    "scrolled": true
   },
   "outputs": [],
   "source": [
    "#dedup_combined_df.loc[pd.isnull(dedup_combined_df.date) & (dedup_combined_df.topic == 'cc')]"
   ]
  },
  {
   "cell_type": "code",
   "execution_count": 507,
   "metadata": {
    "scrolled": true
   },
   "outputs": [],
   "source": [
    "#sum(pd.isnull(dedup_combined_df.loc[dedup_combined_df.topic == 'cc'].date))"
   ]
  },
  {
   "cell_type": "code",
   "execution_count": 108,
   "metadata": {
    "scrolled": true
   },
   "outputs": [
    {
     "data": {
      "text/plain": [
       "<matplotlib.axes._subplots.AxesSubplot at 0x1287ce860>"
      ]
     },
     "execution_count": 108,
     "metadata": {},
     "output_type": "execute_result"
    },
    {
     "data": {
      "image/png": "[encoded data removed]",
      "text/plain": [
       "<Figure size 432x288 with 1 Axes>"
      ]
     },
     "metadata": {
      "needs_background": "light"
     },
     "output_type": "display_data"
    }
   ],
   "source": [
    "dedup_combined_df.loc[~pd.isnull(dedup_combined_df.date) & \n",
    "                      (dedup_combined_df.topic == 'cc')].year.plot.hist()"
   ]
  },
  {
   "cell_type": "code",
   "execution_count": 112,
   "metadata": {
    "code_folding": [
     0,
     4
    ]
   },
   "outputs": [],
   "source": [
    "top_pro_domains = set(dedup_combined_df.loc[~pd.isnull(dedup_combined_df.date) & \n",
    "                      (dedup_combined_df.topic == 'cc') & \n",
    "                                     (dedup_combined_df.stance == 'pro')].\\\n",
    "pretty_domain.value_counts().index[:7])\n",
    "top_anti_domains = set(dedup_combined_df.loc[~pd.isnull(dedup_combined_df.date) & \n",
    "                      (dedup_combined_df.topic == 'cc') & \n",
    "                                     (dedup_combined_df.stance == 'anti')].\\\n",
    "pretty_domain.value_counts().index[:7])"
   ]
  },
  {
   "cell_type": "code",
   "execution_count": 113,
   "metadata": {
    "scrolled": false
   },
   "outputs": [
    {
     "data": {
      "text/plain": [
       "({'Buzzfeed',\n",
       "  'Guardian (US)',\n",
       "  'Mother Jones',\n",
       "  'New York Times',\n",
       "  'The Nation',\n",
       "  'Vox',\n",
       "  'Washington Post'},\n",
       " {'Blaze',\n",
       "  'Breitbart',\n",
       "  'Christian Science Monitor',\n",
       "  'Daily Caller',\n",
       "  'Fox',\n",
       "  'National Review',\n",
       "  'PJ Media'})"
      ]
     },
     "execution_count": 113,
     "metadata": {},
     "output_type": "execute_result"
    }
   ],
   "source": [
    "top_pro_domains,top_anti_domains"
   ]
  },
  {
   "cell_type": "code",
   "execution_count": 209,
   "metadata": {},
   "outputs": [],
   "source": [
    "top_pro_vax_domains = set(dedup_combined_df.loc[~pd.isnull(dedup_combined_df.date) & \n",
    "                      (dedup_combined_df.topic == 'vax') & \n",
    "                                     (dedup_combined_df.stance == 'pro') & \n",
    "                                               (~dedup_combined_df.domain.isin(['fox',\n",
    "                                                                              'nyt',\n",
    "                                                                              'breitbart']))].\\\n",
    "pretty_domain.value_counts().index[:7])\n",
    "top_anti_vax_domains = set(dedup_combined_df.loc[~pd.isnull(dedup_combined_df.date) & \n",
    "                      (dedup_combined_df.topic == 'vax') & \n",
    "                                     (dedup_combined_df.stance == 'anti')].\\\n",
    "pretty_domain.value_counts().index[:7])"
   ]
  },
  {
   "cell_type": "code",
   "execution_count": 212,
   "metadata": {},
   "outputs": [
    {
     "data": {
      "text/plain": [
       "({'Adult Vaccines Now',\n",
       "  'Immunization Evidence',\n",
       "  'Shot of Prevention',\n",
       "  'Voices for Vaccines'},\n",
       " {\"Children's Health Defense\",\n",
       "  'Citizens',\n",
       "  'Physicians for Informed Consent',\n",
       "  'Vax Safety Commission'})"
      ]
     },
     "execution_count": 212,
     "metadata": {},
     "output_type": "execute_result"
    }
   ],
   "source": [
    "top_pro_vax_domains,top_anti_vax_domains"
   ]
  },
  {
   "cell_type": "code",
   "execution_count": 183,
   "metadata": {
    "code_folding": [
     1,
     13,
     20
    ],
    "scrolled": false
   },
   "outputs": [
    {
     "data": {
      "text/html": [
       "<div>\n",
       "<style scoped>\n",
       "    .dataframe tbody tr th:only-of-type {\n",
       "        vertical-align: middle;\n",
       "    }\n",
       "\n",
       "    .dataframe tbody tr th {\n",
       "        vertical-align: top;\n",
       "    }\n",
       "\n",
       "    .dataframe thead th {\n",
       "        text-align: right;\n",
       "    }\n",
       "</style>\n",
       "<table border=\"1\" class=\"dataframe\">\n",
       "  <thead>\n",
       "    <tr style=\"text-align: right;\">\n",
       "      <th></th>\n",
       "      <th>outlet</th>\n",
       "      <th>2007</th>\n",
       "      <th>2008</th>\n",
       "      <th>2009</th>\n",
       "      <th>2010</th>\n",
       "      <th>2011</th>\n",
       "      <th>2012</th>\n",
       "      <th>2013</th>\n",
       "      <th>2014</th>\n",
       "      <th>2015</th>\n",
       "      <th>2016</th>\n",
       "      <th>2017</th>\n",
       "      <th>2018</th>\n",
       "      <th>2019</th>\n",
       "    </tr>\n",
       "  </thead>\n",
       "  <tbody>\n",
       "    <tr>\n",
       "      <th>0</th>\n",
       "      <td>Washington Post</td>\n",
       "      <td>7</td>\n",
       "      <td>5</td>\n",
       "      <td>12</td>\n",
       "      <td>11</td>\n",
       "      <td>31</td>\n",
       "      <td>57</td>\n",
       "      <td>84</td>\n",
       "      <td>123</td>\n",
       "      <td>128</td>\n",
       "      <td>151</td>\n",
       "      <td>176</td>\n",
       "      <td>233</td>\n",
       "      <td>365</td>\n",
       "    </tr>\n",
       "    <tr>\n",
       "      <th>1</th>\n",
       "      <td>Mother Jones</td>\n",
       "      <td>45</td>\n",
       "      <td>76</td>\n",
       "      <td>128</td>\n",
       "      <td>122</td>\n",
       "      <td>90</td>\n",
       "      <td>147</td>\n",
       "      <td>226</td>\n",
       "      <td>265</td>\n",
       "      <td>264</td>\n",
       "      <td>267</td>\n",
       "      <td>368</td>\n",
       "      <td>437</td>\n",
       "      <td>318</td>\n",
       "    </tr>\n",
       "    <tr>\n",
       "      <th>2</th>\n",
       "      <td>Guardian (US)</td>\n",
       "      <td>25</td>\n",
       "      <td>63</td>\n",
       "      <td>95</td>\n",
       "      <td>109</td>\n",
       "      <td>197</td>\n",
       "      <td>223</td>\n",
       "      <td>244</td>\n",
       "      <td>196</td>\n",
       "      <td>16</td>\n",
       "      <td>34</td>\n",
       "      <td>33</td>\n",
       "      <td>99</td>\n",
       "      <td>237</td>\n",
       "    </tr>\n",
       "    <tr>\n",
       "      <th>3</th>\n",
       "      <td>Buzzfeed</td>\n",
       "      <td>1</td>\n",
       "      <td>1</td>\n",
       "      <td>1</td>\n",
       "      <td>0</td>\n",
       "      <td>5</td>\n",
       "      <td>21</td>\n",
       "      <td>32</td>\n",
       "      <td>27</td>\n",
       "      <td>102</td>\n",
       "      <td>74</td>\n",
       "      <td>153</td>\n",
       "      <td>117</td>\n",
       "      <td>158</td>\n",
       "    </tr>\n",
       "    <tr>\n",
       "      <th>4</th>\n",
       "      <td>New York Times</td>\n",
       "      <td>75</td>\n",
       "      <td>42</td>\n",
       "      <td>63</td>\n",
       "      <td>334</td>\n",
       "      <td>300</td>\n",
       "      <td>303</td>\n",
       "      <td>167</td>\n",
       "      <td>278</td>\n",
       "      <td>480</td>\n",
       "      <td>620</td>\n",
       "      <td>811</td>\n",
       "      <td>961</td>\n",
       "      <td>1046</td>\n",
       "    </tr>\n",
       "    <tr>\n",
       "      <th>5</th>\n",
       "      <td>Vox</td>\n",
       "      <td>0</td>\n",
       "      <td>0</td>\n",
       "      <td>0</td>\n",
       "      <td>0</td>\n",
       "      <td>0</td>\n",
       "      <td>0</td>\n",
       "      <td>0</td>\n",
       "      <td>101</td>\n",
       "      <td>199</td>\n",
       "      <td>123</td>\n",
       "      <td>168</td>\n",
       "      <td>127</td>\n",
       "      <td>235</td>\n",
       "    </tr>\n",
       "    <tr>\n",
       "      <th>6</th>\n",
       "      <td>The Nation</td>\n",
       "      <td>30</td>\n",
       "      <td>12</td>\n",
       "      <td>63</td>\n",
       "      <td>48</td>\n",
       "      <td>93</td>\n",
       "      <td>83</td>\n",
       "      <td>130</td>\n",
       "      <td>153</td>\n",
       "      <td>153</td>\n",
       "      <td>167</td>\n",
       "      <td>125</td>\n",
       "      <td>110</td>\n",
       "      <td>114</td>\n",
       "    </tr>\n",
       "    <tr>\n",
       "      <th>7</th>\n",
       "      <td>other</td>\n",
       "      <td>34</td>\n",
       "      <td>21</td>\n",
       "      <td>43</td>\n",
       "      <td>51</td>\n",
       "      <td>52</td>\n",
       "      <td>66</td>\n",
       "      <td>240</td>\n",
       "      <td>418</td>\n",
       "      <td>225</td>\n",
       "      <td>242</td>\n",
       "      <td>284</td>\n",
       "      <td>264</td>\n",
       "      <td>377</td>\n",
       "    </tr>\n",
       "  </tbody>\n",
       "</table>\n",
       "</div>"
      ],
      "text/plain": [
       "            outlet 2007 2008 2009 2010 2011 2012 2013 2014 2015 2016 2017  \\\n",
       "0  Washington Post    7    5   12   11   31   57   84  123  128  151  176   \n",
       "1     Mother Jones   45   76  128  122   90  147  226  265  264  267  368   \n",
       "2    Guardian (US)   25   63   95  109  197  223  244  196   16   34   33   \n",
       "3         Buzzfeed    1    1    1    0    5   21   32   27  102   74  153   \n",
       "4   New York Times   75   42   63  334  300  303  167  278  480  620  811   \n",
       "5              Vox    0    0    0    0    0    0    0  101  199  123  168   \n",
       "6       The Nation   30   12   63   48   93   83  130  153  153  167  125   \n",
       "7            other   34   21   43   51   52   66  240  418  225  242  284   \n",
       "\n",
       "  2018  2019  \n",
       "0  233   365  \n",
       "1  437   318  \n",
       "2   99   237  \n",
       "3  117   158  \n",
       "4  961  1046  \n",
       "5  127   235  \n",
       "6  110   114  \n",
       "7  264   377  "
      ]
     },
     "execution_count": 183,
     "metadata": {},
     "output_type": "execute_result"
    }
   ],
   "source": [
    "df = pd.DataFrame(columns=['outlet']+list(range(2007,2020)))\n",
    "for outlet in top_pro_domains:\n",
    "    #print(outlet)\n",
    "    row = [outlet]\n",
    "    counts = dedup_combined_df.loc[~pd.isnull(dedup_combined_df.date) & \n",
    "                      (dedup_combined_df.topic == 'cc') & \n",
    "                         (dedup_combined_df.pretty_domain == outlet)].year.value_counts()\n",
    "    row.extend([counts[int(c)] if c in counts else 0 for c in range(2007,2020)])\n",
    "    row_df = pd.DataFrame(row).T\n",
    "    row_df.columns = df.columns\n",
    "    df = df.append(row_df,\n",
    "                   ignore_index=True)\n",
    "row = ['other']\n",
    "counts = dedup_combined_df.loc[~pd.isnull(dedup_combined_df.date) & \n",
    "                      (dedup_combined_df.topic == 'cc') & \n",
    "                               (dedup_combined_df.stance == 'pro') & \n",
    "                         (~dedup_combined_df.pretty_domain.isin(top_pro_domains))].year.value_counts()\n",
    "row.extend([counts[int(c)] if c in counts else 0 for c in range(2007,2020)])\n",
    "row_df = pd.DataFrame(row).T\n",
    "row_df.columns = df.columns\n",
    "df_pro = df.append(row_df,\n",
    "               ignore_index=True)\n",
    "df_pro"
   ]
  },
  {
   "cell_type": "code",
   "execution_count": 184,
   "metadata": {
    "code_folding": [
     1,
     19
    ]
   },
   "outputs": [
    {
     "data": {
      "text/html": [
       "<div>\n",
       "<style scoped>\n",
       "    .dataframe tbody tr th:only-of-type {\n",
       "        vertical-align: middle;\n",
       "    }\n",
       "\n",
       "    .dataframe tbody tr th {\n",
       "        vertical-align: top;\n",
       "    }\n",
       "\n",
       "    .dataframe thead th {\n",
       "        text-align: right;\n",
       "    }\n",
       "</style>\n",
       "<table border=\"1\" class=\"dataframe\">\n",
       "  <thead>\n",
       "    <tr style=\"text-align: right;\">\n",
       "      <th></th>\n",
       "      <th>outlet</th>\n",
       "      <th>2007</th>\n",
       "      <th>2008</th>\n",
       "      <th>2009</th>\n",
       "      <th>2010</th>\n",
       "      <th>2011</th>\n",
       "      <th>2012</th>\n",
       "      <th>2013</th>\n",
       "      <th>2014</th>\n",
       "      <th>2015</th>\n",
       "      <th>2016</th>\n",
       "      <th>2017</th>\n",
       "      <th>2018</th>\n",
       "      <th>2019</th>\n",
       "    </tr>\n",
       "  </thead>\n",
       "  <tbody>\n",
       "    <tr>\n",
       "      <th>0</th>\n",
       "      <td>National Review</td>\n",
       "      <td>9</td>\n",
       "      <td>9</td>\n",
       "      <td>19</td>\n",
       "      <td>19</td>\n",
       "      <td>26</td>\n",
       "      <td>17</td>\n",
       "      <td>53</td>\n",
       "      <td>78</td>\n",
       "      <td>54</td>\n",
       "      <td>38</td>\n",
       "      <td>54</td>\n",
       "      <td>42</td>\n",
       "      <td>77</td>\n",
       "    </tr>\n",
       "    <tr>\n",
       "      <th>1</th>\n",
       "      <td>Breitbart</td>\n",
       "      <td>0</td>\n",
       "      <td>0</td>\n",
       "      <td>11</td>\n",
       "      <td>39</td>\n",
       "      <td>26</td>\n",
       "      <td>17</td>\n",
       "      <td>59</td>\n",
       "      <td>236</td>\n",
       "      <td>268</td>\n",
       "      <td>159</td>\n",
       "      <td>228</td>\n",
       "      <td>246</td>\n",
       "      <td>730</td>\n",
       "    </tr>\n",
       "    <tr>\n",
       "      <th>2</th>\n",
       "      <td>Daily Caller</td>\n",
       "      <td>0</td>\n",
       "      <td>0</td>\n",
       "      <td>0</td>\n",
       "      <td>1</td>\n",
       "      <td>4</td>\n",
       "      <td>4</td>\n",
       "      <td>27</td>\n",
       "      <td>71</td>\n",
       "      <td>158</td>\n",
       "      <td>252</td>\n",
       "      <td>184</td>\n",
       "      <td>116</td>\n",
       "      <td>55</td>\n",
       "    </tr>\n",
       "    <tr>\n",
       "      <th>3</th>\n",
       "      <td>Christian Science Monitor</td>\n",
       "      <td>22</td>\n",
       "      <td>317</td>\n",
       "      <td>188</td>\n",
       "      <td>164</td>\n",
       "      <td>65</td>\n",
       "      <td>142</td>\n",
       "      <td>337</td>\n",
       "      <td>265</td>\n",
       "      <td>280</td>\n",
       "      <td>283</td>\n",
       "      <td>100</td>\n",
       "      <td>40</td>\n",
       "      <td>10</td>\n",
       "    </tr>\n",
       "    <tr>\n",
       "      <th>4</th>\n",
       "      <td>Fox</td>\n",
       "      <td>15</td>\n",
       "      <td>19</td>\n",
       "      <td>26</td>\n",
       "      <td>41</td>\n",
       "      <td>26</td>\n",
       "      <td>41</td>\n",
       "      <td>87</td>\n",
       "      <td>100</td>\n",
       "      <td>107</td>\n",
       "      <td>63</td>\n",
       "      <td>184</td>\n",
       "      <td>294</td>\n",
       "      <td>283</td>\n",
       "    </tr>\n",
       "    <tr>\n",
       "      <th>5</th>\n",
       "      <td>PJ Media</td>\n",
       "      <td>0</td>\n",
       "      <td>0</td>\n",
       "      <td>0</td>\n",
       "      <td>0</td>\n",
       "      <td>0</td>\n",
       "      <td>2</td>\n",
       "      <td>9</td>\n",
       "      <td>6</td>\n",
       "      <td>7</td>\n",
       "      <td>8</td>\n",
       "      <td>15</td>\n",
       "      <td>9</td>\n",
       "      <td>344</td>\n",
       "    </tr>\n",
       "    <tr>\n",
       "      <th>6</th>\n",
       "      <td>Blaze</td>\n",
       "      <td>0</td>\n",
       "      <td>0</td>\n",
       "      <td>0</td>\n",
       "      <td>7</td>\n",
       "      <td>34</td>\n",
       "      <td>54</td>\n",
       "      <td>53</td>\n",
       "      <td>56</td>\n",
       "      <td>86</td>\n",
       "      <td>49</td>\n",
       "      <td>104</td>\n",
       "      <td>40</td>\n",
       "      <td>112</td>\n",
       "    </tr>\n",
       "    <tr>\n",
       "      <th>7</th>\n",
       "      <td>other</td>\n",
       "      <td>6</td>\n",
       "      <td>15</td>\n",
       "      <td>20</td>\n",
       "      <td>27</td>\n",
       "      <td>64</td>\n",
       "      <td>85</td>\n",
       "      <td>81</td>\n",
       "      <td>108</td>\n",
       "      <td>108</td>\n",
       "      <td>72</td>\n",
       "      <td>72</td>\n",
       "      <td>107</td>\n",
       "      <td>409</td>\n",
       "    </tr>\n",
       "  </tbody>\n",
       "</table>\n",
       "</div>"
      ],
      "text/plain": [
       "                      outlet 2007 2008 2009 2010 2011 2012 2013 2014 2015  \\\n",
       "0            National Review    9    9   19   19   26   17   53   78   54   \n",
       "1                  Breitbart    0    0   11   39   26   17   59  236  268   \n",
       "2               Daily Caller    0    0    0    1    4    4   27   71  158   \n",
       "3  Christian Science Monitor   22  317  188  164   65  142  337  265  280   \n",
       "4                        Fox   15   19   26   41   26   41   87  100  107   \n",
       "5                   PJ Media    0    0    0    0    0    2    9    6    7   \n",
       "6                      Blaze    0    0    0    7   34   54   53   56   86   \n",
       "7                      other    6   15   20   27   64   85   81  108  108   \n",
       "\n",
       "  2016 2017 2018 2019  \n",
       "0   38   54   42   77  \n",
       "1  159  228  246  730  \n",
       "2  252  184  116   55  \n",
       "3  283  100   40   10  \n",
       "4   63  184  294  283  \n",
       "5    8   15    9  344  \n",
       "6   49  104   40  112  \n",
       "7   72   72  107  409  "
      ]
     },
     "execution_count": 184,
     "metadata": {},
     "output_type": "execute_result"
    }
   ],
   "source": [
    "df = pd.DataFrame(columns=['outlet']+list(range(2007,2020)))\n",
    "for outlet in top_anti_domains:\n",
    "    #print(outlet)\n",
    "    row = [outlet]\n",
    "    counts = dedup_combined_df.loc[~pd.isnull(dedup_combined_df.date) & \n",
    "                      (dedup_combined_df.topic == 'cc') & \n",
    "                         (dedup_combined_df.pretty_domain == outlet)].year.value_counts()\n",
    "    row.extend([counts[int(c)] if c in counts else 0 for c in range(2007,2020)])\n",
    "    row_df = pd.DataFrame(row).T\n",
    "    row_df.columns = df.columns\n",
    "    df = df.append(row_df,\n",
    "                   ignore_index=True)\n",
    "row = ['other']\n",
    "counts = dedup_combined_df.loc[~pd.isnull(dedup_combined_df.date) & \n",
    "                      (dedup_combined_df.topic == 'cc') & \n",
    "                               (dedup_combined_df.stance == 'anti') & \n",
    "                         (~dedup_combined_df.pretty_domain.isin(top_anti_domains))].year.value_counts()\n",
    "row.extend([counts[int(c)] if c in counts else 0 for c in range(2007,2020)])\n",
    "row_df = pd.DataFrame(row).T\n",
    "row_df.columns = df.columns\n",
    "df_anti = df.append(row_df,\n",
    "               ignore_index=True)\n",
    "df_anti"
   ]
  },
  {
   "cell_type": "code",
   "execution_count": 202,
   "metadata": {
    "scrolled": true
   },
   "outputs": [
    {
     "data": {
      "image/png": "[encoded data removed]",
      "text/plain": [
       "<Figure size 1152x1296 with 2 Axes>"
      ]
     },
     "metadata": {},
     "output_type": "display_data"
    }
   ],
   "source": [
    "sns.set_palette('colorblind')\n",
    "fig,(ax1,ax2) = plt.subplots(2,1,figsize=(16,18),sharey=True)\n",
    "df_pro.set_index('outlet').T.plot(kind='bar', stacked=True, fontsize=24,ax=ax1)\n",
    "df_anti.set_index('outlet').T.plot(kind='bar', stacked=True, fontsize=24,ax=ax2)\n",
    "ax1.set_ylabel('Count',fontsize=32)\n",
    "ax2.set_ylabel('')\n",
    "ax1.set_xlabel('Pro-CC media',fontsize=32)\n",
    "ax2.set_xlabel('Anti-CC media',fontsize=32)\n",
    "ax1.set_xticklabels(rotation=0,labels=range(2007,2020))\n",
    "ax2.set_xticklabels(rotation=0,labels=range(2007,2020))\n",
    "n = 4\n",
    "for ax in [ax1,ax2]:\n",
    "    [l.set_visible(False) for (i,l) in enumerate(ax.xaxis.get_ticklabels()) if i % n != 0]\n",
    "ax1.legend()\n",
    "handles, labels = ax1.get_legend_handles_labels()\n",
    "reorderLegend(ax1,['The Nation','Vox','New York Times','Buzzfeed',\n",
    "                'Guardian (US)','Mother Jones','Washington Post','other'],\n",
    "             title='Media outlet',fontsize=24,title_fontsize=26)\n",
    "ax2.legend()\n",
    "handles, labels = ax2.get_legend_handles_labels()\n",
    "reorderLegend(ax2,['National Review','Blaze',\n",
    "'PJ Media','Fox',\n",
    "'Daily Caller','Breitbart','National Review','Christian Science Monitor','other'],\n",
    "             title='Media outlet',fontsize=24,title_fontsize=26)\n",
    "\n",
    "for n, ax in enumerate([ax1,ax2]):  \n",
    "    ax.text(-0.03, 1.05, '{})'.format(string.ascii_lowercase[n]), transform=ax.transAxes, \n",
    "            size=28, weight='bold')\n",
    "plt.tight_layout()"
   ]
  },
  {
   "cell_type": "code",
   "execution_count": 223,
   "metadata": {},
   "outputs": [
    {
     "data": {
      "text/html": [
       "<div>\n",
       "<style scoped>\n",
       "    .dataframe tbody tr th:only-of-type {\n",
       "        vertical-align: middle;\n",
       "    }\n",
       "\n",
       "    .dataframe tbody tr th {\n",
       "        vertical-align: top;\n",
       "    }\n",
       "\n",
       "    .dataframe thead th {\n",
       "        text-align: right;\n",
       "    }\n",
       "</style>\n",
       "<table border=\"1\" class=\"dataframe\">\n",
       "  <thead>\n",
       "    <tr style=\"text-align: right;\">\n",
       "      <th></th>\n",
       "      <th>outlet</th>\n",
       "      <th>2007</th>\n",
       "      <th>2008</th>\n",
       "      <th>2009</th>\n",
       "      <th>2010</th>\n",
       "      <th>2011</th>\n",
       "      <th>2012</th>\n",
       "      <th>2013</th>\n",
       "      <th>2014</th>\n",
       "      <th>2015</th>\n",
       "      <th>2016</th>\n",
       "      <th>2017</th>\n",
       "      <th>2018</th>\n",
       "      <th>2019</th>\n",
       "      <th>2020</th>\n",
       "    </tr>\n",
       "  </thead>\n",
       "  <tbody>\n",
       "    <tr>\n",
       "      <th>0</th>\n",
       "      <td>Adult Vaccines Now</td>\n",
       "      <td>0</td>\n",
       "      <td>0</td>\n",
       "      <td>0</td>\n",
       "      <td>0</td>\n",
       "      <td>0</td>\n",
       "      <td>0</td>\n",
       "      <td>0</td>\n",
       "      <td>0</td>\n",
       "      <td>0</td>\n",
       "      <td>0</td>\n",
       "      <td>0</td>\n",
       "      <td>0</td>\n",
       "      <td>0</td>\n",
       "      <td>39</td>\n",
       "    </tr>\n",
       "    <tr>\n",
       "      <th>1</th>\n",
       "      <td>Immunization Evidence</td>\n",
       "      <td>0</td>\n",
       "      <td>0</td>\n",
       "      <td>0</td>\n",
       "      <td>0</td>\n",
       "      <td>0</td>\n",
       "      <td>0</td>\n",
       "      <td>0</td>\n",
       "      <td>0</td>\n",
       "      <td>0</td>\n",
       "      <td>0</td>\n",
       "      <td>0</td>\n",
       "      <td>0</td>\n",
       "      <td>0</td>\n",
       "      <td>13</td>\n",
       "    </tr>\n",
       "    <tr>\n",
       "      <th>2</th>\n",
       "      <td>Voices for Vaccines</td>\n",
       "      <td>0</td>\n",
       "      <td>0</td>\n",
       "      <td>0</td>\n",
       "      <td>0</td>\n",
       "      <td>0</td>\n",
       "      <td>0</td>\n",
       "      <td>0</td>\n",
       "      <td>0</td>\n",
       "      <td>0</td>\n",
       "      <td>0</td>\n",
       "      <td>0</td>\n",
       "      <td>0</td>\n",
       "      <td>0</td>\n",
       "      <td>187</td>\n",
       "    </tr>\n",
       "    <tr>\n",
       "      <th>3</th>\n",
       "      <td>Shot of Prevention</td>\n",
       "      <td>0</td>\n",
       "      <td>0</td>\n",
       "      <td>0</td>\n",
       "      <td>0</td>\n",
       "      <td>0</td>\n",
       "      <td>0</td>\n",
       "      <td>0</td>\n",
       "      <td>0</td>\n",
       "      <td>0</td>\n",
       "      <td>0</td>\n",
       "      <td>0</td>\n",
       "      <td>0</td>\n",
       "      <td>0</td>\n",
       "      <td>718</td>\n",
       "    </tr>\n",
       "  </tbody>\n",
       "</table>\n",
       "</div>"
      ],
      "text/plain": [
       "                  outlet 2007 2008 2009 2010 2011 2012 2013 2014 2015 2016  \\\n",
       "0     Adult Vaccines Now    0    0    0    0    0    0    0    0    0    0   \n",
       "1  Immunization Evidence    0    0    0    0    0    0    0    0    0    0   \n",
       "2    Voices for Vaccines    0    0    0    0    0    0    0    0    0    0   \n",
       "3     Shot of Prevention    0    0    0    0    0    0    0    0    0    0   \n",
       "\n",
       "  2017 2018 2019 2020  \n",
       "0    0    0    0   39  \n",
       "1    0    0    0   13  \n",
       "2    0    0    0  187  \n",
       "3    0    0    0  718  "
      ]
     },
     "execution_count": 223,
     "metadata": {},
     "output_type": "execute_result"
    }
   ],
   "source": [
    "df = pd.DataFrame(columns=['outlet']+list(range(2007,2021)))\n",
    "for outlet in top_pro_vax_domains:\n",
    "    #print(outlet)\n",
    "    row = [outlet]\n",
    "    counts = dedup_combined_df.loc[~pd.isnull(dedup_combined_df.date) & \n",
    "                      (dedup_combined_df.topic == 'vax') & \n",
    "                         (dedup_combined_df.pretty_domain == outlet)].year.value_counts()\n",
    "    #print(counts)\n",
    "    row.extend([counts[int(c)] if c in counts else 0 for c in range(2007,2021)])\n",
    "    #print(row)\n",
    "    row_df = pd.DataFrame(row).T\n",
    "    row_df.columns = df.columns\n",
    "    df = df.append(row_df,\n",
    "                   ignore_index=True)\n",
    "# row = ['other']\n",
    "# counts = dedup_combined_df.loc[~pd.isnull(dedup_combined_df.date) & \n",
    "#                       (dedup_combined_df.topic == 'vax') & \n",
    "#                                (dedup_combined_df.stance == 'pro') & \n",
    "#                          (~dedup_combined_df.pretty_domain.isin(top_pro_vax_domains))].year.value_counts()\n",
    "# row.extend([counts[int(c)] if c in counts else 0 for c in range(2007,2021)])\n",
    "# row_df = pd.DataFrame(row).T\n",
    "# row_df.columns = df.columns\n",
    "# df_pro = df.append(row_df,\n",
    "#                ignore_index=True)\n",
    "df_pro = df\n",
    "df_pro"
   ]
  },
  {
   "cell_type": "code",
   "execution_count": 224,
   "metadata": {},
   "outputs": [
    {
     "data": {
      "text/html": [
       "<div>\n",
       "<style scoped>\n",
       "    .dataframe tbody tr th:only-of-type {\n",
       "        vertical-align: middle;\n",
       "    }\n",
       "\n",
       "    .dataframe tbody tr th {\n",
       "        vertical-align: top;\n",
       "    }\n",
       "\n",
       "    .dataframe thead th {\n",
       "        text-align: right;\n",
       "    }\n",
       "</style>\n",
       "<table border=\"1\" class=\"dataframe\">\n",
       "  <thead>\n",
       "    <tr style=\"text-align: right;\">\n",
       "      <th></th>\n",
       "      <th>outlet</th>\n",
       "      <th>2007</th>\n",
       "      <th>2008</th>\n",
       "      <th>2009</th>\n",
       "      <th>2010</th>\n",
       "      <th>2011</th>\n",
       "      <th>2012</th>\n",
       "      <th>2013</th>\n",
       "      <th>2014</th>\n",
       "      <th>2015</th>\n",
       "      <th>2016</th>\n",
       "      <th>2017</th>\n",
       "      <th>2018</th>\n",
       "      <th>2019</th>\n",
       "      <th>2020</th>\n",
       "    </tr>\n",
       "  </thead>\n",
       "  <tbody>\n",
       "    <tr>\n",
       "      <th>0</th>\n",
       "      <td>Physicians for Informed Consent</td>\n",
       "      <td>0</td>\n",
       "      <td>0</td>\n",
       "      <td>0</td>\n",
       "      <td>0</td>\n",
       "      <td>0</td>\n",
       "      <td>0</td>\n",
       "      <td>0</td>\n",
       "      <td>0</td>\n",
       "      <td>0</td>\n",
       "      <td>0</td>\n",
       "      <td>0</td>\n",
       "      <td>0</td>\n",
       "      <td>4</td>\n",
       "      <td>0</td>\n",
       "    </tr>\n",
       "    <tr>\n",
       "      <th>1</th>\n",
       "      <td>Citizens</td>\n",
       "      <td>0</td>\n",
       "      <td>0</td>\n",
       "      <td>34</td>\n",
       "      <td>5</td>\n",
       "      <td>2</td>\n",
       "      <td>0</td>\n",
       "      <td>0</td>\n",
       "      <td>0</td>\n",
       "      <td>2</td>\n",
       "      <td>1</td>\n",
       "      <td>1</td>\n",
       "      <td>1</td>\n",
       "      <td>0</td>\n",
       "      <td>0</td>\n",
       "    </tr>\n",
       "    <tr>\n",
       "      <th>2</th>\n",
       "      <td>Children's Health Defense</td>\n",
       "      <td>0</td>\n",
       "      <td>0</td>\n",
       "      <td>0</td>\n",
       "      <td>0</td>\n",
       "      <td>1</td>\n",
       "      <td>0</td>\n",
       "      <td>0</td>\n",
       "      <td>1</td>\n",
       "      <td>2</td>\n",
       "      <td>5</td>\n",
       "      <td>31</td>\n",
       "      <td>54</td>\n",
       "      <td>77</td>\n",
       "      <td>285</td>\n",
       "    </tr>\n",
       "    <tr>\n",
       "      <th>3</th>\n",
       "      <td>Vax Safety Commission</td>\n",
       "      <td>0</td>\n",
       "      <td>0</td>\n",
       "      <td>0</td>\n",
       "      <td>0</td>\n",
       "      <td>0</td>\n",
       "      <td>0</td>\n",
       "      <td>0</td>\n",
       "      <td>0</td>\n",
       "      <td>0</td>\n",
       "      <td>0</td>\n",
       "      <td>0</td>\n",
       "      <td>0</td>\n",
       "      <td>0</td>\n",
       "      <td>1</td>\n",
       "    </tr>\n",
       "    <tr>\n",
       "      <th>4</th>\n",
       "      <td>other</td>\n",
       "      <td>0</td>\n",
       "      <td>0</td>\n",
       "      <td>0</td>\n",
       "      <td>0</td>\n",
       "      <td>0</td>\n",
       "      <td>0</td>\n",
       "      <td>0</td>\n",
       "      <td>0</td>\n",
       "      <td>0</td>\n",
       "      <td>0</td>\n",
       "      <td>0</td>\n",
       "      <td>0</td>\n",
       "      <td>0</td>\n",
       "      <td>0</td>\n",
       "    </tr>\n",
       "  </tbody>\n",
       "</table>\n",
       "</div>"
      ],
      "text/plain": [
       "                            outlet 2007 2008 2009 2010 2011 2012 2013 2014  \\\n",
       "0  Physicians for Informed Consent    0    0    0    0    0    0    0    0   \n",
       "1                         Citizens    0    0   34    5    2    0    0    0   \n",
       "2        Children's Health Defense    0    0    0    0    1    0    0    1   \n",
       "3            Vax Safety Commission    0    0    0    0    0    0    0    0   \n",
       "4                            other    0    0    0    0    0    0    0    0   \n",
       "\n",
       "  2015 2016 2017 2018 2019 2020  \n",
       "0    0    0    0    0    4    0  \n",
       "1    2    1    1    1    0    0  \n",
       "2    2    5   31   54   77  285  \n",
       "3    0    0    0    0    0    1  \n",
       "4    0    0    0    0    0    0  "
      ]
     },
     "execution_count": 224,
     "metadata": {},
     "output_type": "execute_result"
    }
   ],
   "source": [
    "df = pd.DataFrame(columns=['outlet']+list(range(2007,2021)))\n",
    "for outlet in top_anti_vax_domains:\n",
    "    #print(outlet)\n",
    "    row = [outlet]\n",
    "    counts = dedup_combined_df.loc[~pd.isnull(dedup_combined_df.date) & \n",
    "                      (dedup_combined_df.topic == 'vax') & \n",
    "                         (dedup_combined_df.pretty_domain == outlet)].year.value_counts()\n",
    "    row.extend([counts[int(c)] if c in counts else 0 for c in range(2007,2021)])\n",
    "    row_df = pd.DataFrame(row).T\n",
    "    row_df.columns = df.columns\n",
    "    df = df.append(row_df,\n",
    "                   ignore_index=True)\n",
    "row = ['other']\n",
    "counts = dedup_combined_df.loc[~pd.isnull(dedup_combined_df.date) & \n",
    "                      (dedup_combined_df.topic == 'vax') & \n",
    "                               (dedup_combined_df.stance == 'anti') & \n",
    "                         (~dedup_combined_df.pretty_domain.isin(top_anti_vax_domains))].year.value_counts()\n",
    "row.extend([counts[int(c)] if c in counts else 0 for c in range(2007,2021)])\n",
    "row_df = pd.DataFrame(row).T\n",
    "row_df.columns = df.columns\n",
    "df_anti = df.append(row_df,\n",
    "               ignore_index=True)\n",
    "df_anti"
   ]
  },
  {
   "cell_type": "code",
   "execution_count": 232,
   "metadata": {},
   "outputs": [
    {
     "data": {
      "text/plain": [
       "0.9015721120984279"
      ]
     },
     "execution_count": 232,
     "metadata": {},
     "output_type": "execute_result"
    }
   ],
   "source": [
    "(285+77+187+718+13+39)/(1319+34+5+2+4+2+3+4+5+31+54)"
   ]
  },
  {
   "cell_type": "code",
   "execution_count": 225,
   "metadata": {
    "scrolled": true
   },
   "outputs": [
    {
     "data": {
      "image/png": "[encoded data removed]",
      "text/plain": [
       "<Figure size 1152x1296 with 2 Axes>"
      ]
     },
     "metadata": {},
     "output_type": "display_data"
    }
   ],
   "source": [
    "sns.set_palette('colorblind')\n",
    "fig,(ax1,ax2) = plt.subplots(2,1,figsize=(16,18),sharey=True)\n",
    "df_pro.set_index('outlet').T.plot(kind='bar', stacked=True, fontsize=24,ax=ax1)\n",
    "df_anti.set_index('outlet').T.plot(kind='bar', stacked=True, fontsize=24,ax=ax2)\n",
    "ax1.set_ylabel('Count',fontsize=32)\n",
    "ax2.set_ylabel('')\n",
    "ax1.set_xlabel('Pro-VAX media',fontsize=32)\n",
    "ax2.set_xlabel('Anti-VAX media',fontsize=32)\n",
    "ax1.set_xticklabels(rotation=0,labels=range(2007,2020))\n",
    "ax2.set_xticklabels(rotation=0,labels=range(2007,2020))\n",
    "n = 4\n",
    "for ax in [ax1,ax2]:\n",
    "    [l.set_visible(False) for (i,l) in enumerate(ax.xaxis.get_ticklabels()) if i % n != 0]\n",
    "ax1.legend()\n",
    "handles, labels = ax1.get_legend_handles_labels()\n",
    "# reorderLegend(ax1,['The Nation','Vox','New York Times','Buzzfeed',\n",
    "#                 'Guardian (US)','Mother Jones','Washington Post','other'],\n",
    "#              title='Media outlet',fontsize=24,title_fontsize=26)\n",
    "ax2.legend()\n",
    "handles, labels = ax2.get_legend_handles_labels()\n",
    "# reorderLegend(ax2,['National Review','Blaze',\n",
    "# 'PJ Media','Fox',\n",
    "# 'Daily Caller','Breitbart','National Review','Christian Science Monitor','other'],\n",
    "#              title='Media outlet',fontsize=24,title_fontsize=26)\n",
    "\n",
    "for n, ax in enumerate([ax1,ax2]):  \n",
    "    ax.text(-0.03, 1.05, '{})'.format(string.ascii_lowercase[n]), transform=ax.transAxes, \n",
    "            size=28, weight='bold')\n",
    "plt.tight_layout()"
   ]
  },
  {
   "cell_type": "code",
   "execution_count": 181,
   "metadata": {
    "scrolled": true
   },
   "outputs": [
    {
     "data": {
      "text/plain": [
       "((<BarContainer object of 13 artists>,\n",
       "  <BarContainer object of 13 artists>,\n",
       "  <BarContainer object of 13 artists>,\n",
       "  <BarContainer object of 13 artists>,\n",
       "  <BarContainer object of 13 artists>,\n",
       "  <BarContainer object of 13 artists>,\n",
       "  <BarContainer object of 13 artists>,\n",
       "  <BarContainer object of 13 artists>),\n",
       " ('Blaze',\n",
       "  'PJ Media',\n",
       "  'Fox',\n",
       "  'Daily Caller',\n",
       "  'Breitbart',\n",
       "  'National Review',\n",
       "  'Christian Science Monitor',\n",
       "  'other'))"
      ]
     },
     "execution_count": 181,
     "metadata": {},
     "output_type": "execute_result"
    },
    {
     "data": {
      "image/png": "[encoded data removed]",
      "text/plain": [
       "<Figure size 864x576 with 1 Axes>"
      ]
     },
     "metadata": {
      "needs_background": "light"
     },
     "output_type": "display_data"
    }
   ],
   "source": [
    "ax = df_anti.set_index('outlet').T.plot(kind='bar', stacked=True, figsize=(12,8),fontsize=18)\n",
    "ax.set_ylabel('Count',fontsize=24)\n",
    "ax.set_xticklabels(rotation=0,labels=range(2000,2020))\n",
    "ax.legend()\n",
    "handles, labels = ax.get_legend_handles_labels()\n",
    "reorderLegend(ax,['National Review','Blaze',\n",
    "'PJ Media','Fox',\n",
    "'Daily Caller','Breitbart','National Review','Christian Science Monitor','other'],\n",
    "             title='Media outlet')"
   ]
  },
  {
   "cell_type": "code",
   "execution_count": 182,
   "metadata": {
    "scrolled": true
   },
   "outputs": [
    {
     "data": {
      "text/plain": [
       "((<BarContainer object of 13 artists>,\n",
       "  <BarContainer object of 13 artists>,\n",
       "  <BarContainer object of 13 artists>,\n",
       "  <BarContainer object of 13 artists>,\n",
       "  <BarContainer object of 13 artists>,\n",
       "  <BarContainer object of 13 artists>,\n",
       "  <BarContainer object of 13 artists>,\n",
       "  <BarContainer object of 13 artists>),\n",
       " ('The Nation',\n",
       "  'Vox',\n",
       "  'New York Times',\n",
       "  'Buzzfeed',\n",
       "  'Guardian (US)',\n",
       "  'Mother Jones',\n",
       "  'Washington Post',\n",
       "  'other'))"
      ]
     },
     "execution_count": 182,
     "metadata": {},
     "output_type": "execute_result"
    },
    {
     "data": {
      "image/png": "[encoded data removed]",
      "text/plain": [
       "<Figure size 864x576 with 1 Axes>"
      ]
     },
     "metadata": {
      "needs_background": "light"
     },
     "output_type": "display_data"
    }
   ],
   "source": [
    "ax = df_pro.set_index('outlet').T.plot(kind='bar', stacked=True, figsize=(12,8),fontsize=18)\n",
    "ax.set_ylabel('Count',fontsize=24)\n",
    "ax.set_xticklabels(rotation=0,labels=range(2000,2020))\n",
    "ax.legend()\n",
    "handles, labels = ax.get_legend_handles_labels()\n",
    "reorderLegend(ax,['The Nation','Vox','New York Times','Buzzfeed',\n",
    "                'Guardian (US)','Mother Jones','Washington Post','other'],\n",
    "             title='Media outlet')"
   ]
  },
  {
   "cell_type": "markdown",
   "metadata": {},
   "source": [
    "## Distribution over media outlets"
   ]
  },
  {
   "cell_type": "code",
   "execution_count": 118,
   "metadata": {
    "scrolled": true
   },
   "outputs": [
    {
     "data": {
      "text/plain": [
       "<matplotlib.axes._subplots.AxesSubplot at 0x1293a0ac8>"
      ]
     },
     "execution_count": 118,
     "metadata": {},
     "output_type": "execute_result"
    },
    {
     "data": {
      "image/png": "[encoded data removed]",
      "text/plain": [
       "<Figure size 864x576 with 1 Axes>"
      ]
     },
     "metadata": {
      "needs_background": "light"
     },
     "output_type": "display_data"
    }
   ],
   "source": [
    "%matplotlib inline\n",
    "dedup_combined_df.loc[dedup_combined_df.topic == 'cc'].pretty_domain.value_counts()\\\n",
    ".plot.bar(figsize=(12,8),fontsize=18)"
   ]
  },
  {
   "cell_type": "code",
   "execution_count": 227,
   "metadata": {},
   "outputs": [
    {
     "data": {
      "text/plain": [
       "56"
      ]
     },
     "execution_count": 227,
     "metadata": {},
     "output_type": "execute_result"
    }
   ],
   "source": [
    "len(dedup_combined_df.loc[dedup_combined_df.topic == 'cc'].pretty_domain.value_counts()\\\n",
    "    .index)"
   ]
  },
  {
   "cell_type": "code",
   "execution_count": 242,
   "metadata": {
    "scrolled": true
   },
   "outputs": [
    {
     "data": {
      "text/plain": [
       "23"
      ]
     },
     "execution_count": 242,
     "metadata": {},
     "output_type": "execute_result"
    }
   ],
   "source": [
    "len(dedup_combined_df.loc[(dedup_combined_df.topic == 'cc') & \n",
    "                     (dedup_combined_df.stance == 'pro')].pretty_domain.value_counts().index)"
   ]
  },
  {
   "cell_type": "code",
   "execution_count": 243,
   "metadata": {
    "scrolled": true
   },
   "outputs": [
    {
     "data": {
      "text/plain": [
       "33"
      ]
     },
     "execution_count": 243,
     "metadata": {},
     "output_type": "execute_result"
    }
   ],
   "source": [
    "len(dedup_combined_df.loc[(dedup_combined_df.topic == 'cc') & \n",
    "                     (dedup_combined_df.stance == 'anti')].pretty_domain.value_counts().index)"
   ]
  },
  {
   "cell_type": "code",
   "execution_count": 119,
   "metadata": {
    "scrolled": true
   },
   "outputs": [
    {
     "data": {
      "text/plain": [
       "<matplotlib.axes._subplots.AxesSubplot at 0x129456978>"
      ]
     },
     "execution_count": 119,
     "metadata": {},
     "output_type": "execute_result"
    },
    {
     "data": {
      "image/png": "[encoded data removed]",
      "text/plain": [
       "<Figure size 864x576 with 1 Axes>"
      ]
     },
     "metadata": {
      "needs_background": "light"
     },
     "output_type": "display_data"
    }
   ],
   "source": [
    "dedup_combined_df.loc[dedup_combined_df.topic == 'vax'].pretty_domain.value_counts()\\\n",
    ".plot.bar(figsize=(12,8),fontsize=18)"
   ]
  },
  {
   "cell_type": "code",
   "execution_count": 228,
   "metadata": {},
   "outputs": [
    {
     "data": {
      "text/plain": [
       "11"
      ]
     },
     "execution_count": 228,
     "metadata": {},
     "output_type": "execute_result"
    }
   ],
   "source": [
    "len(dedup_combined_df.loc[dedup_combined_df.topic == 'vax'].pretty_domain.value_counts()\\\n",
    "    .index)"
   ]
  },
  {
   "cell_type": "code",
   "execution_count": 230,
   "metadata": {},
   "outputs": [
    {
     "data": {
      "text/plain": [
       "New York Times                     806\n",
       "Shot of Prevention                 718\n",
       "Children's Health Defense          457\n",
       "Fox                                241\n",
       "Voices for Vaccines                187\n",
       "Citizens                            47\n",
       "Adult Vaccines Now                  39\n",
       "Breitbart                           17\n",
       "Immunization Evidence               13\n",
       "Physicians for Informed Consent      4\n",
       "Vax Safety Commission                1\n",
       "Name: pretty_domain, dtype: int64"
      ]
     },
     "execution_count": 230,
     "metadata": {},
     "output_type": "execute_result"
    }
   ],
   "source": [
    "dedup_combined_df.loc[dedup_combined_df.topic == 'vax'].pretty_domain.value_counts()"
   ]
  },
  {
   "cell_type": "code",
   "execution_count": null,
   "metadata": {},
   "outputs": [],
   "source": []
  }
 ],
 "metadata": {
  "kernelspec": {
   "display_name": "Python 3",
   "language": "python",
   "name": "python3"
  },
  "language_info": {
   "codemirror_mode": {
    "name": "ipython",
    "version": 3
   },
   "file_extension": ".py",
   "mimetype": "text/x-python",
   "name": "python",
   "nbconvert_exporter": "python",
   "pygments_lexer": "ipython3",
   "version": "3.7.1"
  }
 },
 "nbformat": 4,
 "nbformat_minor": 2
}
