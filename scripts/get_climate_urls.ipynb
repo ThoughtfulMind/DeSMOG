{
 "cells": [
  {
   "cell_type": "code",
   "execution_count": 1,
   "metadata": {},
   "outputs": [],
   "source": [
    "from urllib.request import urlretrieve\n",
    "from bs4 import BeautifulSoup\n",
    "from urllib.request import urlopen\n",
    "import urllib\n",
    "from urllib.error import HTTPError\n",
    "from selenium import webdriver\n",
    "from dateutil import parser\n",
    "import requests\n",
    "import pickle\n",
    "import pandas as pd\n",
    "import os\n",
    "import time\n",
    "import numpy as np\n",
    "from urllib.parse import urlparse\n",
    "from collections import Counter"
   ]
  },
  {
   "cell_type": "code",
   "execution_count": 2,
   "metadata": {},
   "outputs": [],
   "source": [
    "from selenium.common.exceptions import NoSuchElementException\n",
    "\n",
    "def button_present():\n",
    "    try:\n",
    "        show_more = driver.find_element_by_css_selector('.css-vsuiox')\n",
    "        button = show_more.find_element_by_tag_name('button')\n",
    "        return True\n",
    "    except NoSuchElementException:\n",
    "        return False\n",
    "\n",
    "def soupify(candidate_url):\n",
    "    page = urlopen(candidate_url)\n",
    "    soup = BeautifulSoup(page,'html.parser')\n",
    "    return soup\n",
    "\n",
    "chromedriver = \"/Users/yiweiluo/Downloads/chromedriver\"\n",
    "os.environ[\"webdriver.chrome.driver\"] = chromedriver"
   ]
  },
  {
   "cell_type": "code",
   "execution_count": 3,
   "metadata": {},
   "outputs": [],
   "source": [
    "from datetime import datetime  \n",
    "from datetime import timedelta  \n",
    "from dateutil.parser import parse\n",
    "import pytz\n",
    "\n",
    "utc=pytz.UTC"
   ]
  },
  {
   "cell_type": "code",
   "execution_count": 5,
   "metadata": {},
   "outputs": [],
   "source": [
    "OUTLETS = ['nyt','mj','fox','breitbart','blaze','pj']"
   ]
  },
  {
   "cell_type": "markdown",
   "metadata": {},
   "source": [
    "# Get new urls for most recent time range"
   ]
  },
  {
   "cell_type": "code",
   "execution_count": 4,
   "metadata": {},
   "outputs": [
    {
     "name": "stdout",
     "output_type": "stream",
     "text": [
      "2020-01-27 13:45:21.000595\n"
     ]
    }
   ],
   "source": [
    "END = datetime.now()    \n",
    "PREVIOUS_END = parse('20200124')\n",
    "print(END)"
   ]
  },
  {
   "cell_type": "code",
   "execution_count": 6,
   "metadata": {},
   "outputs": [],
   "source": [
    "new_urls = {'nyt': {'climate%20change':[],\n",
    "                          'global%20warming':[]},\n",
    "           'mj': {'climate%20change':[],\n",
    "                          'global%20warming':[]},\n",
    "           'fox': {'climate%20change':[],\n",
    "                          'global%20warming':[]},\n",
    "           'breitbart': {'climate-change':[],\n",
    "                          'global-warming':[]},\n",
    "           'blaze': {'climate+change':[],\n",
    "                          'global+warming':[]},\n",
    "           'pj': {'climate+change':[],\n",
    "                          'global+warming':[]}}"
   ]
  },
  {
   "cell_type": "code",
   "execution_count": null,
   "metadata": {},
   "outputs": [],
   "source": [
    "nyt_url = 'https://www.nytimes.com/search?\\\n",
    "endDate={}&query={}&sort=newest&startDate={}'.format(end_date.strftime('%Y%m%d'),\n",
    "                                                     search_term,\n",
    "                                                     curr_start_date.strftime('%Y%m%d'))"
   ]
  }
 ],
 "metadata": {
  "kernelspec": {
   "display_name": "Python 3",
   "language": "python",
   "name": "python3"
  },
  "language_info": {
   "codemirror_mode": {
    "name": "ipython",
    "version": 3
   },
   "file_extension": ".py",
   "mimetype": "text/x-python",
   "name": "python",
   "nbconvert_exporter": "python",
   "pygments_lexer": "ipython3",
   "version": "3.7.1"
  }
 },
 "nbformat": 4,
 "nbformat_minor": 2
}
